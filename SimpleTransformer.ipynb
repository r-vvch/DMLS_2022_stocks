{
 "cells": [
  {
   "cell_type": "markdown",
   "metadata": {},
   "source": [
    "# Data preparation"
   ]
  },
  {
   "cell_type": "code",
   "execution_count": 5,
   "metadata": {},
   "outputs": [],
   "source": [
    "import pandas as pd\n",
    "import torch\n",
    "import numpy as np\n",
    "import mlflow\n",
    "from torch import nn, Tensor\n",
    "import math\n",
    "\n",
    "df = pd.read_csv('S&P_500/AAPL_diff.csv')\n",
    "df = df.drop(columns=['Date', 'Name'])"
   ]
  },
  {
   "cell_type": "markdown",
   "metadata": {},
   "source": [
    "We will use forward chaining KFold split strategy, <br>\n",
    "For this sklearn has function called TimeSeriesSplit"
   ]
  },
  {
   "cell_type": "code",
   "execution_count": 6,
   "metadata": {},
   "outputs": [],
   "source": [
    "from sklearn.model_selection import TimeSeriesSplit\n",
    "splitter = TimeSeriesSplit(n_splits=N_FOLDS)"
   ]
  },
  {
   "cell_type": "markdown",
   "metadata": {},
   "source": [
    "## !!!ADD MIN/MAX SCALER!!!"
   ]
  },
  {
   "cell_type": "markdown",
   "metadata": {},
   "source": [
    "# Model definition"
   ]
  },
  {
   "cell_type": "code",
   "execution_count": 76,
   "metadata": {},
   "outputs": [],
   "source": [
    "class PositionalEncoder(nn.Module):\n",
    "    def __init__(self, dropout=0.1, max_seq_len=5000, d_model=512, batch_first=False):\n",
    "        super().__init__()\n",
    "        \n",
    "        self.d_model = d_model    \n",
    "        self.dropout = nn.Dropout(p=dropout)\n",
    "        self.batch_first = batch_first\n",
    "        \n",
    "        self.x_dim = 1 if batch_first else 0\n",
    "        \n",
    "        position = torch.arange(max_seq_len).unsqueeze(1)\n",
    "        \n",
    "        div_term = torch.exp(torch.arange(0, d_model, 2) * (-math.log(10000.0) / d_model))\n",
    "\n",
    "        pe = torch.zeros(max_seq_len, 1, d_model)\n",
    "        pe[:, 0, 0::2] = torch.sin(position*div_term)\n",
    "        pe[:, 0, 1::2] = torch.cos(position*div_term)\n",
    "        self.register_buffer('pe', pe)\n",
    "        \n",
    "    def forward(self, x):\n",
    "        x = x + self.pe[:x.size(self.x_dim)]\n",
    "        \n",
    "        return self.dropout(x)"
   ]
  },
  {
   "cell_type": "code",
   "execution_count": 79,
   "metadata": {},
   "outputs": [],
   "source": [
    "class TransformerModel(nn.Module):\n",
    "    def __init__(self, input_size,\n",
    "                 nhead=8,\n",
    "                 num_layers=2,\n",
    "                 d_model=512,\n",
    "                 batch_first=False,\n",
    "                 out_seq_len=10,\n",
    "                 n_encoder_layers=4,\n",
    "                 n_decoder_layers=4,\n",
    "                 dropout_enc=.2,\n",
    "                 dropout_dec=.2,\n",
    "                 dropout_pos_enc=.1,\n",
    "                 dim_feedforward_encoder=2048,\n",
    "                 dim_feedforward_decoder=2048,\n",
    "                 n_predicted_features=1):\n",
    "        super(TransformerModel, self).__init__()\n",
    "        \n",
    "        self.d_model = d_model\n",
    "        self.nhead = nhead\n",
    "        self.num_layers = num_layers\n",
    "        self.input_size = input_size\n",
    "        self.deq_seq_len = deq_seq_len\n",
    "        \n",
    "        self.encoder_input_layer = nn.Linear(\n",
    "            in_features=input_size, \n",
    "            out_features=d_model\n",
    "        )\n",
    "        \n",
    "        encoder_layer = torch.nn.TransformerEncoderLayer(d_model = d_model,\n",
    "                                                         nhead = nhead,\n",
    "                                                         dropout = dropout_enc,\n",
    "                                                         dim_feedforward = dim_feedforward_encoder,\n",
    "                                                         batch_first = batch_first)\n",
    "        self.encoder = torch.nn.TransformerEncoder(encoder_layer,\n",
    "                                                   num_layers=n_encoder_layers,\n",
    "                                                   norm=None)\n",
    "        \n",
    "        self.decoder_input_layer = nn.Linear(\n",
    "            in_features = n_predicted_features,\n",
    "            out_features = d_model\n",
    "        )\n",
    "        \n",
    "        decoder_layer = torch.nn.TransformerDecoderLayer(d_model = d_model,\n",
    "                                                         nhead = nhead,\n",
    "                                                         dropout = dropout_dec,\n",
    "                                                         dim_feedforward = dim_feedforward_decoder,\n",
    "                                                         batch_first = batch_first)\n",
    "        self.decoder = torch.nn.TransformerDecoder(decoder_layer, num_layers = n_decoder_layers, norm = None)\n",
    "        \n",
    "        self.linear_mapping = nn.Linear(\n",
    "            in_features = d_model,\n",
    "            out_features = n_predicted_features\n",
    "        )\n",
    "        \n",
    "        self.positional_encoding_layer = PositionalEncoder(\n",
    "            d_model=d_model,\n",
    "            dropout=dropout_pos_enc\n",
    "        )\n",
    "        \n",
    "    def forward(self, src, tgt, src_mask = None, tgt_mask = None):\n",
    "        src = self.encoder_input_layer(src) #[Batch_size, src_len, dim_val]\n",
    "        \n",
    "        src = self.positional_encoding_layer(src) #[Batch_size, src_len, dim_val]\n",
    "        \n",
    "        src = self.encoder(src=src) #[batch_size, enc_seq_len, dim_val]\n",
    "        \n",
    "        decoder_out = self.decoder_input_layer(tgt) #[target sequence length, batch_size, dim_val]\n",
    "        \n",
    "        decoder_out = self.decoder( # [batch_size, target seq len, dim_val]\n",
    "            tgt = decoder_out,\n",
    "            memory = src,\n",
    "            tgt_mask = tgt_mask,\n",
    "            src_mask = src_mask\n",
    "        )\n",
    "        \n",
    "        decoder_out = self.linear_mapping(decoder_out) #[batch_size, target seq len]"
   ]
  },
  {
   "cell_type": "markdown",
   "metadata": {},
   "source": [
    "# Utility functions"
   ]
  },
  {
   "cell_type": "code",
   "execution_count": 80,
   "metadata": {},
   "outputs": [],
   "source": [
    "def get_src_trg(self, sequence, enc_seq_len, target_seq_len):\n",
    "        assert (len(sequence) == enc_seq_len + target_seq_len)\n",
    "        \n",
    "        src = sequence[:enc_seq_len] \n",
    "        \n",
    "        # decoder input. As per the paper, it must have the same dimension as the \n",
    "        # target sequence, and it must contain the last value of src, and all\n",
    "        # values of trg_y except the last (i.e. it must be shifted right by 1)\n",
    "        trg = sequence[enc_seq_len-1:len(sequence)-1]\n",
    "\n",
    "        trg = trg[:, 0]\n",
    "\n",
    "        if len(trg.shape) == 1:\n",
    "            trg = trg.unsqueeze(-1)\n",
    "        \n",
    "        assert (len(trg) == target_seq_len)\n",
    "\n",
    "        # The target sequence against which the model output will be compared to compute loss\n",
    "        trg_y = sequence[-target_seq_len:]\n",
    "\n",
    "        trg_y = trg_y[:, 0]\n",
    "        \n",
    "        assert (len(trg_y) == target_seq_len)\n",
    "\n",
    "        return src, trg, trg_y.squeeze(-1)"
   ]
  },
  {
   "cell_type": "code",
   "execution_count": null,
   "metadata": {},
   "outputs": [],
   "source": [
    "def generate_square_subsequent_mask(target_sequence_length, encoder_sequence_length):\n",
    "    \"\"\"\n",
    "    Generates an upper-triangular matrix of -inf, with zeros on diag.\n",
    "    \"\"\"\n",
    "    return torch.triu(torch.ones(target_sequence_length, encoder_sequence_length) * float('-inf'), diagonal=1)"
   ]
  },
  {
   "cell_type": "code",
   "execution_count": 21,
   "metadata": {},
   "outputs": [],
   "source": [
    "def reset_weights(m):\n",
    "    for layer in m.children():\n",
    "        if hasattr(layer, 'reset_parameters'):\n",
    "            print(f'Reset trainable parameters of layer = {layer}')\n",
    "            layer.reset_parameters()"
   ]
  },
  {
   "cell_type": "code",
   "execution_count": null,
   "metadata": {},
   "outputs": [],
   "source": [
    "#Model parameters\n",
    "dim_val = 512 \n",
    "n_heads = 8 \n",
    "n_decoder_layers = 4\n",
    "n_encoder_layers = 4\n",
    "input_size = 2\n",
    "dec_seq_len = 100 \n",
    "enc_seq_len = 100 \n",
    "output_sequence_length = 10\n",
    "max_seq_len = enc_seq_len \n",
    "\n",
    "# Make src mask for decoder with size:\n",
    "tgt_mask = generate_square_subsequent_mask(\n",
    "    dim1 = output_sequence_length,\n",
    "    dim2 = output_sequence_length\n",
    "   )\n",
    "\n",
    "src_mask = generate_square_subsequent_mask(\n",
    "    dim1 = output_sequence_length,\n",
    "    dim2 = enc_seq_len\n",
    "    )\n",
    "\n",
    "model = TransformerModel(\n",
    "    dim_val = dim_val,\n",
    "    input_size = input_size, \n",
    "    dec_seq_len = dec_seq_len,\n",
    "    max_seq_len = max_seq_len,\n",
    "    out_seq_len = output_sequence_length, \n",
    "    n_decoder_layers = n_decoder_layers,\n",
    "    n_encoder_layers = n_encoder_layers,\n",
    "    n_heads = n_heads)"
   ]
  },
  {
   "cell_type": "markdown",
   "metadata": {},
   "source": [
    "We will use MSE loss because we want to penalty our model for big mistakes stronger, because It would lead us to lose money"
   ]
  },
  {
   "cell_type": "markdown",
   "metadata": {},
   "source": [
    "## **remake sliding window/rethink transformer structure and wrap train in mlflow**"
   ]
  },
  {
   "cell_type": "code",
   "execution_count": null,
   "metadata": {},
   "outputs": [],
   "source": [
    "for fold_counter, (indices_train, indices_test) in enumerate(splitter.split(data)):\n",
    "        train_loader = torch.utils.data.DataLoader(data[indices_train],\n",
    "                                                   batch_size=BATCH_SIZE,\n",
    "                                                   num_workers=4)\n",
    "        test_loader = torch.utils.data.DataLoader(data[indices_test],\n",
    "                                                   batch_size=BATCH_SIZE,\n",
    "                                                   num_workers=4)\n",
    "        for x in train_loader:\n",
    "            print(x)\n",
    "            break\n",
    "        break"
   ]
  },
  {
   "cell_type": "code",
   "execution_count": 26,
   "metadata": {},
   "outputs": [],
   "source": [
    "def train_kfolds(data, indices_generator, config):\n",
    "    for fold_counter, (indices_train, indices_test) in enumerate(indices_generator):\n",
    "        train_loader = torch.utils.data.DataLoader(data[indices_train],\n",
    "                                                   batch_size=BATCH_SIZE,\n",
    "                                                   num_workers=4)\n",
    "        test_loader = torch.utils.data.DataLoader(data[indices_test],\n",
    "                                                   batch_size=BATCH_SIZE,\n",
    "                                                   num_workers=4)\n",
    "        #define model\n",
    "        model = SimpleTransformer(input_dim, d_model, nhead, num_layers)\n",
    "    \n",
    "        # Define the loss function and optimizer\n",
    "        criterion = nn.MSELoss()\n",
    "        optimizer = torch.optim.Adam(model.parameters(), lr=0.001)\n",
    "        model.train()\n",
    "        \n",
    "        # Train the model\n",
    "        num_epochs = 100\n",
    "        with mlflow.start_run():\n",
    "            mlflow.log_param(\"input_dim\", input_dim)\n",
    "            mlflow.log_param(\"d_model\", d_model)\n",
    "            mlflow.log_param(\"nhead\", nhead)\n",
    "            mlflow.log_param(\"num_layers\", num_layers)\n",
    "            for epoch in range(num_epochs):\n",
    "                #for x in train_dataloader....\n",
    "                \n",
    "                # Forward pass\n",
    "                y_pred = model(X_train)\n",
    "\n",
    "                # Compute the loss\n",
    "                loss = criterion(y_pred, X_train)\n",
    "                mlflow.log_metric(\"train_loss\", loss.item(), step=epoch)\n",
    "                # Zero gradients, perform a backward pass, and update the weights\n",
    "                optimizer.zero_grad()\n",
    "                loss.backward()\n",
    "                optimizer.step()\n",
    "                \n",
    "                #for x in test_dataloader...\n",
    "                #mlflow.log_metric(\"test_loader\", loss.item(), step=epoch)\n",
    "                \n",
    "                if (epoch+1) % 10 == 0:\n",
    "                    print(f'Epoch {epoch+1}/{num_epochs}, Loss: {loss.item():.4f}')\n",
    "\n",
    "            torch.save({'state_dict': model.state_dict(),\n",
    "                'fold_num': fold_counter},\n",
    "               'models/{}_fold_transformer.pth'.format(str(fold_counter)))\n",
    "            \n",
    "            mlflow.sklearn.log_model(model,\n",
    "                                     '{}_fold_transformer.pth'.format(str(fold_counter)))"
   ]
  },
  {
   "cell_type": "code",
   "execution_count": null,
   "metadata": {},
   "outputs": [],
   "source": [
    "train_kfolds(data, splitter.split(data), config: dict)"
   ]
  },
  {
   "cell_type": "markdown",
   "metadata": {},
   "source": [
    "after all -- try to eval quality of ensemble of model's trained on different kfolds. "
   ]
  },
  {
   "cell_type": "code",
   "execution_count": null,
   "metadata": {},
   "outputs": [],
   "source": []
  }
 ],
 "metadata": {
  "kernelspec": {
   "display_name": "Python 3",
   "language": "python",
   "name": "python3"
  },
  "language_info": {
   "codemirror_mode": {
    "name": "ipython",
    "version": 3
   },
   "file_extension": ".py",
   "mimetype": "text/x-python",
   "name": "python",
   "nbconvert_exporter": "python",
   "pygments_lexer": "ipython3",
   "version": "3.8.10"
  }
 },
 "nbformat": 4,
 "nbformat_minor": 4
}
