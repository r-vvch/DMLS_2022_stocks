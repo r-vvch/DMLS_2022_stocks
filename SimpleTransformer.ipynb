{
 "cells": [
  {
   "cell_type": "markdown",
   "metadata": {},
   "source": [
    "# Model definition"
   ]
  },
  {
   "cell_type": "code",
   "execution_count": null,
   "metadata": {},
   "outputs": [],
   "source": [
    "import torch\n",
    "import torch.nn as nn\n",
    "import numpy as np\n",
    "\n",
    "# Define the transformer model\n",
    "class SimpleTransformer(nn.Module):\n",
    "    def __init__(self, input_dim, d_model, nhead, num_layers):\n",
    "        super(TransformerModel, self).__init__()\n",
    "        self.transformer = nn.Transformer(d_model, nhead, num_layers)\n",
    "        self.fc = nn.Linear(d_model, input_dim)\n",
    "        \n",
    "    def forward(self, x):\n",
    "        x = x.transpose(0,1)\n",
    "        x = self.transformer(x)\n",
    "        x = self.fc(x)\n",
    "        return x.transpose(0,1)\n",
    "\n",
    "# Create an instance of the model\n",
    "input_dim = 1\n",
    "d_model = 128\n",
    "nhead = 2\n",
    "num_layers = 3\n",
    "model = SimpleTransformer(input_dim, d_model, nhead, num_layers)\n",
    "\n",
    "# Define the loss function and optimizer\n",
    "criterion = nn.MSELoss()\n",
    "optimizer = torch.optim.Adam(model.parameters(), lr=0.001)\n",
    "\n",
    "\n",
    "\n",
    "# Reshape the data to be 3-dimensional in the format (batch_size, time_steps, input_dim)\n",
    "X_train = X_train.reshape(-1, time_steps, input_dim)\n",
    "X_train = torch.from_numpy(X_train).float()\n",
    "\n",
    "# Set the model to training mode\n",
    "model.train()\n",
    "\n",
    "# Train the model\n",
    "num_epochs = 100\n",
    "for epoch in range(num_epochs):\n",
    "    # Forward pass\n",
    "    y_pred = model(X_train)\n",
    "\n",
    "    # Compute the loss\n",
    "    loss = criterion(y_pred, X_train)\n",
    "\n",
    "    # Zero gradients, perform a backward pass, and update the weights\n",
    "    optimizer.zero_grad()\n",
    "    loss.backward()\n",
    "    optimizer.step()\n",
    "    \n",
    "    if (epoch+1) % 10 == 0:\n",
    "        print(f'Epoch {epoch+1}/{num_epochs}, Loss: {loss.item():.4f}')\n"
   ]
  }
 ],
 "metadata": {
  "kernelspec": {
   "display_name": "Python 3",
   "language": "python",
   "name": "python3"
  },
  "language_info": {
   "codemirror_mode": {
    "name": "ipython",
    "version": 3
   },
   "file_extension": ".py",
   "mimetype": "text/x-python",
   "name": "python",
   "nbconvert_exporter": "python",
   "pygments_lexer": "ipython3",
   "version": "3.8.10"
  }
 },
 "nbformat": 4,
 "nbformat_minor": 4
}
