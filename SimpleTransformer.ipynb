{
 "cells": [
  {
   "cell_type": "markdown",
   "metadata": {},
   "source": [
    "# Data preparation"
   ]
  },
  {
   "cell_type": "code",
   "execution_count": 60,
   "metadata": {},
   "outputs": [],
   "source": [
    "import os\n",
    "import pandas as pd\n",
    "import torch\n",
    "import numpy as np\n",
    "import mlflow\n",
    "from torch import nn, Tensor\n",
    "import math\n",
    "from pandas_datareader import data as pdr\n",
    "import yfinance as yfin\n",
    "yfin.pdr_override()\n",
    "from datetime import datetime\n",
    "import matplotlib.pyplot as plt\n",
    "import seaborn as sns\n",
    "from pylab import rcParams\n",
    "from statsmodels.tsa.stattools import adfuller\n",
    "from statsmodels.tsa.seasonal import seasonal_decompose\n",
    "import os"
   ]
  },
  {
   "cell_type": "code",
   "execution_count": 3,
   "metadata": {},
   "outputs": [],
   "source": [
    "MLFLOW_IP = os.environ['MLFLOW_IP']\n",
    "MLFLOW_PASSWORD = os.environ['MLFLOW_PASSWORD']\n",
    "MLFLOW_USER = os.environ['MLFLOW_USER']\n",
    "MLFLOW_PORT = os.environ['MLFLOW_PORT']"
   ]
  },
  {
   "cell_type": "code",
   "execution_count": 4,
   "metadata": {},
   "outputs": [],
   "source": [
    "if torch.cuda.is_available():\n",
    "    DEVICE='cuda:0'\n",
    "else:\n",
    "    DEVICE='cpu'"
   ]
  },
  {
   "cell_type": "code",
   "execution_count": 5,
   "metadata": {},
   "outputs": [
    {
     "name": "stdout",
     "output_type": "stream",
     "text": [
      "[*********************100%***********************]  1 of 1 completed\n"
     ]
    },
    {
     "data": {
      "text/html": [
       "<div>\n",
       "<style scoped>\n",
       "    .dataframe tbody tr th:only-of-type {\n",
       "        vertical-align: middle;\n",
       "    }\n",
       "\n",
       "    .dataframe tbody tr th {\n",
       "        vertical-align: top;\n",
       "    }\n",
       "\n",
       "    .dataframe thead th {\n",
       "        text-align: right;\n",
       "    }\n",
       "</style>\n",
       "<table border=\"1\" class=\"dataframe\">\n",
       "  <thead>\n",
       "    <tr style=\"text-align: right;\">\n",
       "      <th></th>\n",
       "      <th>Open</th>\n",
       "      <th>High</th>\n",
       "      <th>Low</th>\n",
       "      <th>Close</th>\n",
       "      <th>Adj Close</th>\n",
       "      <th>Volume</th>\n",
       "    </tr>\n",
       "    <tr>\n",
       "      <th>Date</th>\n",
       "      <th></th>\n",
       "      <th></th>\n",
       "      <th></th>\n",
       "      <th></th>\n",
       "      <th></th>\n",
       "      <th></th>\n",
       "    </tr>\n",
       "  </thead>\n",
       "  <tbody>\n",
       "    <tr>\n",
       "      <th>2018-01-18 00:00:00-05:00</th>\n",
       "      <td>44.842499</td>\n",
       "      <td>45.025002</td>\n",
       "      <td>44.562500</td>\n",
       "      <td>44.814999</td>\n",
       "      <td>42.614582</td>\n",
       "      <td>124773600</td>\n",
       "    </tr>\n",
       "    <tr>\n",
       "      <th>2018-01-19 00:00:00-05:00</th>\n",
       "      <td>44.652500</td>\n",
       "      <td>44.895000</td>\n",
       "      <td>44.352501</td>\n",
       "      <td>44.615002</td>\n",
       "      <td>42.424393</td>\n",
       "      <td>129700400</td>\n",
       "    </tr>\n",
       "    <tr>\n",
       "      <th>2018-01-22 00:00:00-05:00</th>\n",
       "      <td>44.325001</td>\n",
       "      <td>44.445000</td>\n",
       "      <td>44.150002</td>\n",
       "      <td>44.250000</td>\n",
       "      <td>42.077320</td>\n",
       "      <td>108434400</td>\n",
       "    </tr>\n",
       "    <tr>\n",
       "      <th>2018-01-23 00:00:00-05:00</th>\n",
       "      <td>44.325001</td>\n",
       "      <td>44.860001</td>\n",
       "      <td>44.205002</td>\n",
       "      <td>44.259998</td>\n",
       "      <td>42.086826</td>\n",
       "      <td>130756400</td>\n",
       "    </tr>\n",
       "    <tr>\n",
       "      <th>2018-01-24 00:00:00-05:00</th>\n",
       "      <td>44.312500</td>\n",
       "      <td>44.325001</td>\n",
       "      <td>43.299999</td>\n",
       "      <td>43.555000</td>\n",
       "      <td>41.416431</td>\n",
       "      <td>204420400</td>\n",
       "    </tr>\n",
       "  </tbody>\n",
       "</table>\n",
       "</div>"
      ],
      "text/plain": [
       "                                Open       High        Low      Close  \\\n",
       "Date                                                                    \n",
       "2018-01-18 00:00:00-05:00  44.842499  45.025002  44.562500  44.814999   \n",
       "2018-01-19 00:00:00-05:00  44.652500  44.895000  44.352501  44.615002   \n",
       "2018-01-22 00:00:00-05:00  44.325001  44.445000  44.150002  44.250000   \n",
       "2018-01-23 00:00:00-05:00  44.325001  44.860001  44.205002  44.259998   \n",
       "2018-01-24 00:00:00-05:00  44.312500  44.325001  43.299999  43.555000   \n",
       "\n",
       "                           Adj Close     Volume  \n",
       "Date                                             \n",
       "2018-01-18 00:00:00-05:00  42.614582  124773600  \n",
       "2018-01-19 00:00:00-05:00  42.424393  129700400  \n",
       "2018-01-22 00:00:00-05:00  42.077320  108434400  \n",
       "2018-01-23 00:00:00-05:00  42.086826  130756400  \n",
       "2018-01-24 00:00:00-05:00  41.416431  204420400  "
      ]
     },
     "execution_count": 5,
     "metadata": {},
     "output_type": "execute_result"
    }
   ],
   "source": [
    "curr_time = datetime.now()\n",
    "start_time = datetime(curr_time.year - 5, curr_time.month , curr_time.day)\n",
    "\n",
    "data = pdr.get_data_yahoo('AAPL', start_time, curr_time)\n",
    "\n",
    "data.head(5)"
   ]
  },
  {
   "cell_type": "code",
   "execution_count": 6,
   "metadata": {},
   "outputs": [
    {
     "data": {
      "text/plain": [
       "Open         False\n",
       "High         False\n",
       "Low          False\n",
       "Close        False\n",
       "Adj Close    False\n",
       "Volume       False\n",
       "dtype: bool"
      ]
     },
     "execution_count": 6,
     "metadata": {},
     "output_type": "execute_result"
    }
   ],
   "source": [
    "data.isnull().any()"
   ]
  },
  {
   "cell_type": "markdown",
   "metadata": {},
   "source": [
    "# Dataset definition"
   ]
  },
  {
   "cell_type": "code",
   "execution_count": 7,
   "metadata": {},
   "outputs": [],
   "source": [
    "class TransformerDataset(torch.utils.data.Dataset):\n",
    "    def __init__(self, data, indices, enc_seq_len,\n",
    "                 dec_seq_len, target_seq_len, normalize=False):\n",
    "        self.data = data\n",
    "        self.indices = indices\n",
    "        self.enc_seq_len = enc_seq_len\n",
    "        self.dec_seq_len = dec_seq_len\n",
    "        self.target_seq_len = target_seq_len\n",
    "        if normalize:\n",
    "            self.data = (self.data-self.data.mean())/self.data.std()\n",
    "        \n",
    "    def __len__(self):\n",
    "        return len(self.indices)\n",
    "    \n",
    "    def __getitem__(self, index):\n",
    "        \"\"\"\n",
    "        Get tuple: [src, trg, trg_y]\n",
    "        \"\"\"\n",
    "        starting_index = self.indices[index][0]\n",
    "        ending_index = self.indices[index][1]\n",
    "        \n",
    "        sequence = self.data[starting_index:ending_index]\n",
    "        \n",
    "        return self.get_src_trg(sequence)\n",
    "        \n",
    "    def get_src_trg(self, sequence):\n",
    "        assert(len(sequence)==self.dec_seq_len+self.target_seq_len)\n",
    "        \n",
    "        src = sequence[:self.enc_seq_len]\n",
    "        trg = sequence[self.enc_seq_len-1:len(sequence)-1]\n",
    "        \n",
    "        assert(len(trg) == self.target_seq_len)\n",
    "        trg_y = sequence[-self.target_seq_len:]\n",
    "        \n",
    "        assert(len(trg_y) == self.target_seq_len)\n",
    "        src = torch.tensor(src.values.astype(np.float32))\n",
    "        trg = torch.tensor(trg.values.astype(np.float32))\n",
    "        trg_y = torch.tensor(trg_y.values.astype(np.float32))\n",
    "        return src, trg, trg_y"
   ]
  },
  {
   "cell_type": "markdown",
   "metadata": {},
   "source": [
    "# Model definition"
   ]
  },
  {
   "cell_type": "code",
   "execution_count": 8,
   "metadata": {},
   "outputs": [],
   "source": [
    "class CompatiableTransformer(nn.Module):\n",
    "    # Constructor\n",
    "    def __init__(\n",
    "        self,\n",
    "        dim_model,\n",
    "        out_dim,\n",
    "        num_heads,\n",
    "        num_encoder_layers=6,\n",
    "        num_decoder_layers=6,\n",
    "        dropout_p=.2,\n",
    "    ):\n",
    "        super().__init__()\n",
    "\n",
    "        self.dim_model = dim_model\n",
    "\n",
    "        # LAYERS\n",
    "        self.positional_encoder = PositionalEncoder(\n",
    "            d_model=dim_model, dropout=dropout_p, max_seq_len=150\n",
    "        )\n",
    "        self.transformer = nn.Transformer(\n",
    "            d_model=dim_model,\n",
    "            nhead=num_heads,\n",
    "            num_encoder_layers=num_encoder_layers,\n",
    "            num_decoder_layers=num_decoder_layers,\n",
    "            dropout=dropout_p,\n",
    "        )\n",
    "        self.out = nn.Linear(dim_model, out_dim)\n",
    "\n",
    "    def forward(\n",
    "        self,\n",
    "        model_input\n",
    "    ):\n",
    "        import pandas as pd\n",
    "        df = pd.DataFrame(model_input)\n",
    "        src = torch.tensor(df.iloc[-150:].values.astype(np.float32)).unsqueeze(0)\n",
    "        trg = src[:, -1, 3].unsqueeze(-1).unsqueeze(-1)\n",
    "        for _ in range(10):\n",
    "            pred = self.inner_forward(src, trg)[-1, 0, 0]\n",
    "            next_item = torch.tensor([[pred]], device=self.device).unsqueeze(0)\n",
    "            trg = torch.cat((trg, next_item), dim=1)\n",
    "        # return (trg[0, 1:, 0].cpu()*stds[3]+means[3])\n",
    "        return trg[0, 1:, 0].cpu()\n",
    "    \n",
    "    def inner_forward(self, src, tgt):\n",
    "        src = self.positional_encoder(src)\n",
    "        tgt = self.positional_encoder(tgt)\n",
    "\n",
    "        # we permute to obtain size (sequence length, batch_size, dim_model),\n",
    "        src = src.permute(1, 0, 2)\n",
    "        tgt = tgt.permute(1, 0, 2)\n",
    "        \n",
    "        self.device = src.device\n",
    "        # Transformer blocks - Out size = (sequence length, batch_size, num_tokens)\n",
    "        transformer_out = self.transformer(src, tgt, tgt_mask=self.get_tgt_mask(tgt.shape[0]))\n",
    "        out = self.out(transformer_out)\n",
    "        return out\n",
    "    \n",
    "    def get_tgt_mask(self, size) -> torch.tensor:\n",
    "        # Generates a squeare matrix where the each row allows one word more to be seen\n",
    "        mask = torch.tril(torch.ones(size, size) == 1) # Lower triangular matrix\n",
    "        mask = mask.float()\n",
    "        mask = mask.masked_fill(mask == 0, float('-inf')) # Convert zeros to -inf\n",
    "        mask = mask.masked_fill(mask == 1, float(0.0)) # Convert ones to 0\n",
    "        return mask.to(device=self.device)"
   ]
  },
  {
   "cell_type": "code",
   "execution_count": 9,
   "metadata": {},
   "outputs": [],
   "source": [
    "class PositionalEncoder(nn.Module):\n",
    "    def __init__(self, dropout=0.1, max_seq_len=5000, d_model=512, batch_first=False):\n",
    "        super().__init__()\n",
    "        \n",
    "        self.d_model = d_model    \n",
    "        self.dropout = nn.Dropout(p=dropout)\n",
    "        self.batch_first = batch_first\n",
    "        \n",
    "        self.x_dim = 1 if batch_first else 0\n",
    "        \n",
    "        position = torch.arange(max_seq_len).unsqueeze(1)\n",
    "        \n",
    "        div_term = torch.exp(torch.arange(0, d_model, 2) * (-math.log(10000.0) / d_model))\n",
    "\n",
    "        pe = torch.zeros(max_seq_len, 1, d_model)\n",
    "        pe[:, 0, 0::2] = torch.sin(position*div_term)\n",
    "        pe[:, 0, 1::2] = torch.cos(position*div_term)\n",
    "        self.register_buffer('pe', pe)\n",
    "        \n",
    "    def forward(self, x):\n",
    "        x = x + self.pe[:x.size(self.x_dim)]\n",
    "        \n",
    "        return self.dropout(x)"
   ]
  },
  {
   "cell_type": "code",
   "execution_count": 10,
   "metadata": {},
   "outputs": [
    {
     "data": {
      "text/html": [
       "<div>\n",
       "<style scoped>\n",
       "    .dataframe tbody tr th:only-of-type {\n",
       "        vertical-align: middle;\n",
       "    }\n",
       "\n",
       "    .dataframe tbody tr th {\n",
       "        vertical-align: top;\n",
       "    }\n",
       "\n",
       "    .dataframe thead th {\n",
       "        text-align: right;\n",
       "    }\n",
       "</style>\n",
       "<table border=\"1\" class=\"dataframe\">\n",
       "  <thead>\n",
       "    <tr style=\"text-align: right;\">\n",
       "      <th></th>\n",
       "      <th>Open</th>\n",
       "      <th>High</th>\n",
       "      <th>Low</th>\n",
       "      <th>Close</th>\n",
       "      <th>Adj Close</th>\n",
       "      <th>Volume</th>\n",
       "    </tr>\n",
       "    <tr>\n",
       "      <th>Date</th>\n",
       "      <th></th>\n",
       "      <th></th>\n",
       "      <th></th>\n",
       "      <th></th>\n",
       "      <th></th>\n",
       "      <th></th>\n",
       "    </tr>\n",
       "  </thead>\n",
       "  <tbody>\n",
       "    <tr>\n",
       "      <th>2018-01-18 00:00:00-05:00</th>\n",
       "      <td>44.842499</td>\n",
       "      <td>45.025002</td>\n",
       "      <td>44.562500</td>\n",
       "      <td>44.814999</td>\n",
       "      <td>42.614582</td>\n",
       "      <td>124773600</td>\n",
       "    </tr>\n",
       "    <tr>\n",
       "      <th>2018-01-19 00:00:00-05:00</th>\n",
       "      <td>44.652500</td>\n",
       "      <td>44.895000</td>\n",
       "      <td>44.352501</td>\n",
       "      <td>44.615002</td>\n",
       "      <td>42.424393</td>\n",
       "      <td>129700400</td>\n",
       "    </tr>\n",
       "    <tr>\n",
       "      <th>2018-01-22 00:00:00-05:00</th>\n",
       "      <td>44.325001</td>\n",
       "      <td>44.445000</td>\n",
       "      <td>44.150002</td>\n",
       "      <td>44.250000</td>\n",
       "      <td>42.077320</td>\n",
       "      <td>108434400</td>\n",
       "    </tr>\n",
       "    <tr>\n",
       "      <th>2018-01-23 00:00:00-05:00</th>\n",
       "      <td>44.325001</td>\n",
       "      <td>44.860001</td>\n",
       "      <td>44.205002</td>\n",
       "      <td>44.259998</td>\n",
       "      <td>42.086826</td>\n",
       "      <td>130756400</td>\n",
       "    </tr>\n",
       "    <tr>\n",
       "      <th>2018-01-24 00:00:00-05:00</th>\n",
       "      <td>44.312500</td>\n",
       "      <td>44.325001</td>\n",
       "      <td>43.299999</td>\n",
       "      <td>43.555000</td>\n",
       "      <td>41.416431</td>\n",
       "      <td>204420400</td>\n",
       "    </tr>\n",
       "  </tbody>\n",
       "</table>\n",
       "</div>"
      ],
      "text/plain": [
       "                                Open       High        Low      Close  \\\n",
       "Date                                                                    \n",
       "2018-01-18 00:00:00-05:00  44.842499  45.025002  44.562500  44.814999   \n",
       "2018-01-19 00:00:00-05:00  44.652500  44.895000  44.352501  44.615002   \n",
       "2018-01-22 00:00:00-05:00  44.325001  44.445000  44.150002  44.250000   \n",
       "2018-01-23 00:00:00-05:00  44.325001  44.860001  44.205002  44.259998   \n",
       "2018-01-24 00:00:00-05:00  44.312500  44.325001  43.299999  43.555000   \n",
       "\n",
       "                           Adj Close     Volume  \n",
       "Date                                             \n",
       "2018-01-18 00:00:00-05:00  42.614582  124773600  \n",
       "2018-01-19 00:00:00-05:00  42.424393  129700400  \n",
       "2018-01-22 00:00:00-05:00  42.077320  108434400  \n",
       "2018-01-23 00:00:00-05:00  42.086826  130756400  \n",
       "2018-01-24 00:00:00-05:00  41.416431  204420400  "
      ]
     },
     "execution_count": 10,
     "metadata": {},
     "output_type": "execute_result"
    }
   ],
   "source": [
    "data.head(5)"
   ]
  },
  {
   "cell_type": "markdown",
   "metadata": {},
   "source": [
    "# Utility functions"
   ]
  },
  {
   "cell_type": "code",
   "execution_count": 11,
   "metadata": {},
   "outputs": [],
   "source": [
    "def get_src_trg(self, sequence, enc_seq_len, target_seq_len):\n",
    "        assert (len(sequence) == enc_seq_len + target_seq_len)\n",
    "        \n",
    "        src = sequence[:enc_seq_len] \n",
    "        \n",
    "        # decoder input. As per the paper, it must have the same dimension as the \n",
    "        # target sequence, and it must contain the last value of src, and all\n",
    "        # values of trg_y except the last (i.e. it must be shifted right by 1)\n",
    "        trg = sequence[enc_seq_len-1:len(sequence)-1]\n",
    "\n",
    "        trg = trg[:, 0]\n",
    "\n",
    "        if len(trg.shape) == 1:\n",
    "            trg = trg.unsqueeze(-1)\n",
    "        \n",
    "        assert (len(trg) == target_seq_len)\n",
    "\n",
    "        # The target sequence against which the model output will be compared to compute loss\n",
    "        trg_y = sequence[-target_seq_len:]\n",
    "\n",
    "        trg_y = trg_y[:, 0]\n",
    "        \n",
    "        assert (len(trg_y) == target_seq_len)\n",
    "\n",
    "        return src, trg, trg_y.squeeze(-1)"
   ]
  },
  {
   "cell_type": "code",
   "execution_count": 12,
   "metadata": {},
   "outputs": [],
   "source": [
    "def generate_square_subsequent_mask(target_sequence_length, encoder_sequence_length):\n",
    "    \"\"\"\n",
    "    Generates an upper-triangular matrix of -inf, with zeros on diag.\n",
    "    \"\"\"\n",
    "    return torch.triu(torch.ones(target_sequence_length, encoder_sequence_length) * float('-inf'), diagonal=1)"
   ]
  },
  {
   "cell_type": "code",
   "execution_count": 13,
   "metadata": {},
   "outputs": [],
   "source": [
    "def get_indices_entire_sequence(data: pd.DataFrame, window_size, step_size):\n",
    "        stop_position = len(data)-1 # 1- because of 0 indexing        \n",
    "        # Start the first sub-sequence at index position 0\n",
    "        subseq_first_idx = 0\n",
    "        \n",
    "        subseq_last_idx = window_size\n",
    "        \n",
    "        indices = []\n",
    "        \n",
    "        while subseq_last_idx <= stop_position:\n",
    "\n",
    "            indices.append((subseq_first_idx, subseq_last_idx))\n",
    "            \n",
    "            subseq_first_idx += step_size\n",
    "            \n",
    "            subseq_last_idx += step_size\n",
    "\n",
    "        return indices"
   ]
  },
  {
   "cell_type": "code",
   "execution_count": 14,
   "metadata": {},
   "outputs": [],
   "source": [
    "def reset_weights(m):\n",
    "    for layer in m.children():\n",
    "        if hasattr(layer, 'reset_parameters'):\n",
    "            print(f'Reset trainable parameters of layer = {layer}')\n",
    "            layer.reset_parameters()"
   ]
  },
  {
   "cell_type": "markdown",
   "metadata": {},
   "source": [
    "### train/test split"
   ]
  },
  {
   "cell_type": "code",
   "execution_count": 15,
   "metadata": {},
   "outputs": [],
   "source": [
    "train_size=0.85\n",
    "train_size_abs = int(len(data)*train_size)\n",
    "\n",
    "train_data = data[0:train_size_abs]\n",
    "test_data = data[train_size_abs:]"
   ]
  },
  {
   "cell_type": "code",
   "execution_count": 16,
   "metadata": {},
   "outputs": [],
   "source": [
    "#Model parameters\n",
    "n_epochs = 100\n",
    "lr = 1e-3\n",
    "dim_val = 512 \n",
    "n_heads = 8 \n",
    "n_decoder_layers = 4\n",
    "n_encoder_layers = 4\n",
    "input_size = 6\n",
    "dec_seq_len = 50\n",
    "enc_seq_len = 50\n",
    "output_sequence_length = 10\n",
    "window_size = enc_seq_len+output_sequence_length\n",
    "max_seq_len = enc_seq_len \n",
    "batch_first = False\n",
    "normalize = True\n",
    "batch_size=100\n",
    "dropout_dec = .2\n",
    "dropout_enc = .2\n",
    "dropout_pos_enc = .1"
   ]
  },
  {
   "cell_type": "code",
   "execution_count": 17,
   "metadata": {},
   "outputs": [],
   "source": [
    "training_indices = get_indices_entire_sequence(train_data, window_size, 1)\n",
    "training_dataset = TransformerDataset(train_data,\n",
    "                                      training_indices,\n",
    "                                      enc_seq_len,\n",
    "                                      dec_seq_len,\n",
    "                                      output_sequence_length,\n",
    "                                      normalize=normalize)\n",
    "\n",
    "training_dataloader = torch.utils.data.DataLoader(training_dataset, batch_size)\n",
    "\n",
    "test_indices = get_indices_entire_sequence(test_data, window_size, 1)\n",
    "test_dataset = TransformerDataset(test_data,\n",
    "                                      test_indices,\n",
    "                                      enc_seq_len,\n",
    "                                      dec_seq_len,\n",
    "                                      output_sequence_length,\n",
    "                                      normalize=normalize)\n",
    "\n",
    "test_dataloader = torch.utils.data.DataLoader(test_dataset, batch_size)\n",
    "\n",
    "trg_mask = generate_square_subsequent_mask(\n",
    "    output_sequence_length,\n",
    "    output_sequence_length\n",
    "   )\n",
    "\n",
    "src_mask = generate_square_subsequent_mask(\n",
    "    output_sequence_length,\n",
    "    enc_seq_len\n",
    "    )"
   ]
  },
  {
   "cell_type": "markdown",
   "metadata": {},
   "source": [
    "# Train"
   ]
  },
  {
   "cell_type": "markdown",
   "metadata": {},
   "source": [
    "We will use MSE loss because we want to penalty our model for big mistakes stronger, because It would lead us to lose money"
   ]
  },
  {
   "cell_type": "code",
   "execution_count": 18,
   "metadata": {},
   "outputs": [],
   "source": [
    "from tqdm.autonotebook import tqdm"
   ]
  },
  {
   "cell_type": "code",
   "execution_count": 19,
   "metadata": {},
   "outputs": [],
   "source": [
    "mlflow.set_tracking_uri(\"http://{}:{}\".format(MLFLOW_IP, MLFLOW_PORT))"
   ]
  },
  {
   "cell_type": "code",
   "execution_count": null,
   "metadata": {},
   "outputs": [],
   "source": [
    "experiment_id = mlflow.create_experiment(\n",
    "    \"CompatibleTransformer\",\n",
    "    artifact_location=\"sftp://{}:{}@{}:/home/godder/mlflow_storage/artifacts\".format(MLFLOW_USER, MLFLOW_PASSWORD, MLFLOW_IP),\n",
    "    tags={\"version\": \".3\"},\n",
    ")"
   ]
  },
  {
   "cell_type": "code",
   "execution_count": 21,
   "metadata": {},
   "outputs": [],
   "source": [
    "exp_id = dict(mlflow.get_experiment_by_name(\"CompatibleTransformer\"))['experiment_id']"
   ]
  },
  {
   "cell_type": "code",
   "execution_count": 22,
   "metadata": {},
   "outputs": [
    {
     "name": "stdout",
     "output_type": "stream",
     "text": [
      "Set experiment\n"
     ]
    }
   ],
   "source": [
    "mlflow.set_experiment(experiment_id=exp_id)\n",
    "print(\"Set experiment\")"
   ]
  },
  {
   "cell_type": "code",
   "execution_count": 24,
   "metadata": {},
   "outputs": [],
   "source": [
    "dim_model = 6\n",
    "num_heads = 6\n",
    "out_dim = 1\n",
    "num_encoder_layers = 6\n",
    "num_decoder_layers = 6\n",
    "dropout_probability = .2\n",
    "lr = 2e-5\n",
    "n_epochs = 150\n",
    "batch_size = 100\n",
    "normalize = True"
   ]
  },
  {
   "cell_type": "code",
   "execution_count": 38,
   "metadata": {},
   "outputs": [
    {
     "name": "stdout",
     "output_type": "stream",
     "text": [
      "Reset trainable parameters of layer = Linear(in_features=6, out_features=1, bias=True)\n"
     ]
    },
    {
     "data": {
      "application/vnd.jupyter.widget-view+json": {
       "model_id": "a27662596aaa4546a257ac2df479eaeb",
       "version_major": 2,
       "version_minor": 0
      },
      "text/plain": [
       "  0%|          | 0/150 [00:00<?, ?it/s]"
      ]
     },
     "metadata": {},
     "output_type": "display_data"
    },
    {
     "name": "stdout",
     "output_type": "stream",
     "text": [
      "Epoch 10/150, Training Loss: 0.8657\n",
      "Epoch 10/150, Validation Loss: 1.2355\n",
      "Epoch 20/150, Training Loss: 0.5219\n",
      "Epoch 20/150, Validation Loss: 1.1497\n",
      "Epoch 30/150, Training Loss: 0.4295\n",
      "Epoch 30/150, Validation Loss: 1.1608\n",
      "Epoch 40/150, Training Loss: 0.4029\n",
      "Epoch 40/150, Validation Loss: 1.1570\n",
      "Epoch 50/150, Training Loss: 0.3734\n",
      "Epoch 50/150, Validation Loss: 1.1366\n",
      "Epoch 60/150, Training Loss: 0.3563\n",
      "Epoch 60/150, Validation Loss: 1.2719\n",
      "Epoch 70/150, Training Loss: 0.3486\n",
      "Epoch 70/150, Validation Loss: 1.1072\n",
      "Epoch 80/150, Training Loss: 0.3363\n",
      "Epoch 80/150, Validation Loss: 1.1078\n",
      "Epoch 90/150, Training Loss: 0.3280\n",
      "Epoch 90/150, Validation Loss: 1.0985\n",
      "Epoch 100/150, Training Loss: 0.3257\n",
      "Epoch 100/150, Validation Loss: 1.1735\n",
      "Epoch 110/150, Training Loss: 0.3168\n",
      "Epoch 110/150, Validation Loss: 1.1174\n",
      "Epoch 120/150, Training Loss: 0.3066\n",
      "Epoch 120/150, Validation Loss: 1.1902\n",
      "Epoch 130/150, Training Loss: 0.2999\n",
      "Epoch 130/150, Validation Loss: 1.1850\n",
      "Epoch 140/150, Training Loss: 0.2935\n",
      "Epoch 140/150, Validation Loss: 1.0783\n",
      "Epoch 150/150, Training Loss: 0.2841\n",
      "Epoch 150/150, Validation Loss: 1.0437\n"
     ]
    },
    {
     "name": "stderr",
     "output_type": "stream",
     "text": [
      "/home/godder/.local/lib/python3.8/site-packages/torch/serialization.py:359: UserWarning: Couldn't retrieve source code for container of type CompatiableTransformer. It won't be checked for correctness upon loading.\n",
      "  warnings.warn(\"Couldn't retrieve source code for container of \"\n",
      "/home/godder/.local/lib/python3.8/site-packages/torch/serialization.py:359: UserWarning: Couldn't retrieve source code for container of type PositionalEncoder. It won't be checked for correctness upon loading.\n",
      "  warnings.warn(\"Couldn't retrieve source code for container of \"\n",
      "Registered model 'CompatibleTransformer' already exists. Creating a new version of this model...\n",
      "2023/01/18 03:01:30 INFO mlflow.tracking._model_registry.client: Waiting up to 300 seconds for model version to finish creation.                     Model name: CompatibleTransformer, version 28\n",
      "Created version '28' of model 'CompatibleTransformer'.\n"
     ]
    },
    {
     "data": {
      "image/png": "[encoded data removed]",
      "text/plain": [
       "<Figure size 1008x576 with 1 Axes>"
      ]
     },
     "metadata": {
      "needs_background": "light"
     },
     "output_type": "display_data"
    }
   ],
   "source": [
    "model = CompatiableTransformer(dim_model=6, num_heads=6, out_dim=1,\n",
    "                               num_encoder_layers=6, num_decoder_layers=6, dropout_p=dropout_probability).to(device=DEVICE)\n",
    "reset_weights(model)\n",
    "model.train()\n",
    "criterion = nn.MSELoss()\n",
    "optimizer = torch.optim.Adam(model.parameters(), lr=lr)\n",
    "with mlflow.start_run(experiment_id=exp_id,\n",
    "                      run_name=\"Transformer training and evaluation\"):\n",
    "    mlflow.set_tag('ticker', 'AAPL')\n",
    "    mlflow.log_param(\"dim_model\", dim_model)\n",
    "    mlflow.log_param(\"num_heads\", num_heads)\n",
    "    mlflow.log_param(\"n_epochs\", n_epochs)\n",
    "    mlflow.log_param(\"learning_rate\", lr)\n",
    "    mlflow.log_param(\"num_enc_layers\", num_encoder_layers)\n",
    "    mlflow.log_param(\"num_dec_layers\", num_decoder_layers)\n",
    "    mlflow.log_param(\"dropout_probability\", dropout_probability)\n",
    "    mlflow.log_param(\"batch_size\", batch_size)\n",
    "    mlflow.log_param(\"normalize\", normalize)\n",
    "    \n",
    "    for epoch in tqdm(range(n_epochs)):    \n",
    "        train_epoch_losses = []\n",
    "        val_epoch_losses = []\n",
    "\n",
    "        for src, trg, trg_y in training_dataloader:\n",
    "            src = src.to(device=DEVICE)\n",
    "            trg = trg.to(device=DEVICE)\n",
    "            trg_y = trg_y.to(device=DEVICE)[:, :, 3].unsqueeze(-1)\n",
    "            optimizer.zero_grad()\n",
    "            trg_y = trg_y.permute(1, 0, 2)\n",
    "            output = model.inner_forward(src, trg)\n",
    "            loss = criterion(output, trg_y)\n",
    "        \n",
    "            train_epoch_losses.append(loss.item())\n",
    "            loss.backward()\n",
    "            optimizer.step()\n",
    "        \n",
    "        mlflow.log_metric(\"train_loss\", np.mean(train_epoch_losses), step=epoch)\n",
    "        if (epoch+1) % 10 == 0:\n",
    "            print(f'Epoch {epoch+1}/{n_epochs}, Training Loss: {np.mean(train_epoch_losses):.4f}')\n",
    "\n",
    "\n",
    "        for src, trg, trg_y in test_dataloader:\n",
    "            src = src.to(device=DEVICE)\n",
    "            trg = trg.to(device=DEVICE)\n",
    "            trg_y = trg_y.to(device=DEVICE)[:, :, 3].unsqueeze(-1)\n",
    "            trg_y = trg_y.permute(1, 0, 2)\n",
    "            output = model.inner_forward(src, trg)\n",
    "            loss = criterion(output, trg_y)\n",
    "            val_epoch_losses.append(loss.item())    \n",
    "            \n",
    "        mlflow.log_metric(\"val_loss\", np.mean(val_epoch_losses), step=epoch)\n",
    "        if (epoch+1) % 10 == 0:\n",
    "            print(f'Epoch {epoch+1}/{n_epochs}, Validation Loss: {np.mean(val_epoch_losses):.4f}')\n",
    "\n",
    "    torch.save({'state_dict': model.state_dict()},\n",
    "           'models/transformer.pth')\n",
    "\n",
    "    mlflow.pytorch.log_model(model,\n",
    "             'transformer.pth',\n",
    "             registered_model_name='CompatibleTransformer'\n",
    "             )\n",
    "    \n",
    "    \n",
    "    #save plot to mlflow\n",
    "    src, trg, trg_y = next(iter(test_dataloader))\n",
    "    src = src[:, -1, :]\n",
    "    true_y = trg_y[-10:, -1, 3]\n",
    "    rolling_row_target = trg_y[-10:, -1, 3].to(device=DEVICE).unsqueeze(-1).unsqueeze(0)\n",
    "    trg = src[-1, 3]\n",
    "    src = src.unsqueeze(0).to(device=DEVICE)\n",
    "    trg = trg.unsqueeze(0).unsqueeze(0).unsqueeze(0).to(device=DEVICE)\n",
    "    for _ in range(1, 11):\n",
    "        pred = model.inner_forward(src, rolling_row_target[:, :_, :])[-1, 0, 0]\n",
    "        next_item = torch.tensor([[pred]], device=DEVICE).unsqueeze(0)\n",
    "        trg = torch.cat((trg, next_item), dim=1)\n",
    "\n",
    "    true_y = true_y.unsqueeze(0)\n",
    "    src = src.cpu()\n",
    "    true_plot_arr = torch.cat((src[:, :, 3], true_y), dim=1)\n",
    "    true_plot_arr = true_plot_arr[0, :]\n",
    "    trg = trg[:, :, 0]\n",
    "    pred_plot_arr = torch.cat((src[:, :, 3], trg.cpu()), dim=1)\n",
    "    pred_plot_arr = pred_plot_arr[0, :]\n",
    "\n",
    "    fig = plt.figure(figsize=(14, 8))\n",
    "    ax = fig.add_subplot(111)\n",
    "    ax.plot(pred_plot_arr, color='red', label='Predicted price')\n",
    "    ax.plot(true_plot_arr, color='blue', label='True price')\n",
    "    ax.legend()\n",
    "\n",
    "    mlflow.log_figure(fig, 'test_plot.png')"
   ]
  },
  {
   "cell_type": "markdown",
   "metadata": {},
   "source": [
    "# Visualize results"
   ]
  },
  {
   "cell_type": "markdown",
   "metadata": {},
   "source": [
    "We want to predict and visualise 10 bars (frames), and compare it with genuine values."
   ]
  },
  {
   "cell_type": "code",
   "execution_count": 39,
   "metadata": {},
   "outputs": [],
   "source": [
    "model = model.eval()"
   ]
  },
  {
   "cell_type": "markdown",
   "metadata": {},
   "source": [
    "This prediction is such, that at each given step, model uses true data trg (second argument) instead of each predictions. That's more realistic way to use stocks data market prediction"
   ]
  },
  {
   "cell_type": "code",
   "execution_count": 40,
   "metadata": {},
   "outputs": [
    {
     "data": {
      "image/png": "[encoded data removed]",
      "text/plain": [
       "<Figure size 432x288 with 1 Axes>"
      ]
     },
     "metadata": {
      "needs_background": "light"
     },
     "output_type": "display_data"
    }
   ],
   "source": [
    "src, trg, trg_y = next(iter(test_dataloader))\n",
    "src = src[:, -1, :]\n",
    "true_y = trg_y[-10:, -1, 3]\n",
    "rolling_row_target = trg_y[-10:, -1, 3].to(device=DEVICE).unsqueeze(-1).unsqueeze(0)\n",
    "trg = src[-1, 3]\n",
    "src = src.unsqueeze(0).to(device=DEVICE)\n",
    "trg = trg.unsqueeze(0).unsqueeze(0).unsqueeze(0).to(device=DEVICE)\n",
    "for _ in range(1, 11):\n",
    "    pred = model.inner_forward(src, rolling_row_target[:, :_, :])[-1, 0, 0]\n",
    "    next_item = torch.tensor([[pred]], device=DEVICE).unsqueeze(0)\n",
    "    trg = torch.cat((trg, next_item), dim=1)\n",
    "    \n",
    "true_y = true_y.unsqueeze(0)\n",
    "src = src.cpu()\n",
    "true_plot_arr = torch.cat((src[:, :, 3], true_y), dim=1)\n",
    "true_plot_arr = true_plot_arr[0, :]\n",
    "trg = trg[:, :, 0]\n",
    "pred_plot_arr = torch.cat((src[:, :, 3], trg.cpu()), dim=1)\n",
    "pred_plot_arr = pred_plot_arr[0, :]\n",
    "\n",
    "plt.plot(pred_plot_arr, color='red', label='Predicted price')\n",
    "plt.plot(true_plot_arr, color='blue', label='True price')\n",
    "plt.legend()\n",
    "plt.show()"
   ]
  },
  {
   "cell_type": "markdown",
   "metadata": {},
   "source": [
    "This prediction is such, that model uses it's own prediction to predict next value. That's usual time-series forecasting situation but in stocks price prediction, we gets new data each hour and usually makes trade by prediction of next frame. "
   ]
  },
  {
   "cell_type": "code",
   "execution_count": 41,
   "metadata": {},
   "outputs": [
    {
     "data": {
      "image/png": "[encoded data removed]",
      "text/plain": [
       "<Figure size 432x288 with 1 Axes>"
      ]
     },
     "metadata": {
      "needs_background": "light"
     },
     "output_type": "display_data"
    }
   ],
   "source": [
    "src, trg, trg_y = next(iter(test_dataloader))\n",
    "src = src[:, -1, :]\n",
    "true_y = trg_y[-10:, -1, 3]\n",
    "trg = src[-1, 3]\n",
    "src = src.unsqueeze(0).to(device=DEVICE)\n",
    "trg = trg.unsqueeze(0).unsqueeze(0).unsqueeze(0).to(device=DEVICE)\n",
    "for _ in range(10):\n",
    "    pred = model.inner_forward(src, trg)[-1, 0, 0]\n",
    "    next_item = torch.tensor([[pred]], device=DEVICE).unsqueeze(0)\n",
    "    trg = torch.cat((trg, next_item), dim=1)\n",
    "    \n",
    "true_y = true_y.unsqueeze(0)\n",
    "src = src.cpu()\n",
    "true_plot_arr = torch.cat((src[:, :, 3], true_y), dim=1)\n",
    "true_plot_arr = true_plot_arr[0, :]\n",
    "\n",
    "trg = trg[:, :, 0]\n",
    "pred_plot_arr = torch.cat((src[:, :, 3], trg.cpu()), dim=1)\n",
    "pred_plot_arr = pred_plot_arr[0, :]\n",
    "\n",
    "plt.plot(pred_plot_arr, color='red', label='Predicted price')\n",
    "plt.plot(true_plot_arr, color='blue', label='True price')\n",
    "plt.legend()\n",
    "plt.show()"
   ]
  },
  {
   "cell_type": "markdown",
   "metadata": {},
   "source": [
    "# Wrapper"
   ]
  },
  {
   "cell_type": "code",
   "execution_count": null,
   "metadata": {},
   "outputs": [],
   "source": [
    "# class CustomTransformer(mlflow.pyfunc.PythonModel):\n",
    "#     def __init__(self, params=None, **kwargs):\n",
    "#         super().__init__()\n",
    "#         if torch.cuda.is_available():\n",
    "#             self.device = 'cuda:0'\n",
    "#         else:\n",
    "#             self.device = 'cpu'\n",
    "        \n",
    "#     def load_context(self, context):\n",
    "#         import torch\n",
    "#         import mlflow.pytorch\n",
    "        \n",
    "#         if torch.cuda.is_available():\n",
    "#             self.torch_model = mlflow.pytorch._load_pyfunc(context.artifacts[\"torch_model\"])\n",
    "#             self.device = 'cuda:0'\n",
    "#         else:\n",
    "#             self.torch_model = mlflow.pytorch._load_pyfunc(\n",
    "#                 context.artifacts[\"torch_model\"],\n",
    "#                 map_location=torch.device('cpu')\n",
    "#             )\n",
    "#             self.device = 'cpu'\n",
    "            \n",
    "#     def predict(self, context, model_input: pd.DataFrame):\n",
    "#         import torch\n",
    "#         df = model_input\n",
    "#         means = df.mean()\n",
    "#         stds = df.std()\n",
    "        \n",
    "#         df_normed = (df-means)/stds\n",
    "#         src = torch.tensor(df_normed.iloc[-150:].values.astype(np.float32)).unsqueeze(0).to(device=self.device)\n",
    "#         trg = src[:, -1, 3].unsqueeze(-1).unsqueeze(-1)\n",
    "        \n",
    "#         for _ in range(10):\n",
    "#             pred = self.torch_model.predict(src, trg)[-1, 0, 0]\n",
    "#             next_item = torch.tensor([[pred]], device=self.device).unsqueeze(0)\n",
    "#             trg = torch.cat((trg, next_item), dim=1)\n",
    "#         return trg[0, 1:, 0].cpu().numpy()*stds[3]+means[3]"
   ]
  },
  {
   "cell_type": "code",
   "execution_count": null,
   "metadata": {},
   "outputs": [],
   "source": [
    "# mlflow.search_experiments()"
   ]
  },
  {
   "cell_type": "code",
   "execution_count": null,
   "metadata": {},
   "outputs": [],
   "source": [
    "# runs = mlflow.search_runs(experiment_names=['Transformer'])\n",
    "# last_run_id = runs.where(runs['status']=='FINISHED').sort_values(by='end_time', ascending=False).iloc[0]['run_id']"
   ]
  },
  {
   "cell_type": "code",
   "execution_count": null,
   "metadata": {},
   "outputs": [],
   "source": [
    "# with mlflow.start_run(experiment_id=experiment_id,\n",
    "#                       run_name=\"Working Custom Transformer wrapper\"):\n",
    "#     model = mlflow.pyfunc.log_model(\n",
    "#         artifact_path='CustomTransformer/1',\n",
    "#         python_model=CustomTransformer(),\n",
    "#         conda_env=mlflow.pyfunc.get_default_conda_env(),\n",
    "#         artifacts = {\n",
    "#               \"torch_model\": \"models:/Transformer/1\",\n",
    "#               \"pickle_info\": \"runs:/{}/transformer.pth/data/pickle_module_info.txt\".format(last_run_id)\n",
    "#         },\n",
    "#     )"
   ]
  },
  {
   "cell_type": "markdown",
   "metadata": {},
   "source": [
    "# Fetching and checking model"
   ]
  },
  {
   "cell_type": "code",
   "execution_count": 47,
   "metadata": {},
   "outputs": [],
   "source": [
    "model = mlflow.pyfunc.load_model(\n",
    "    model_uri=f\"models:/CompatibleTransformer/28\"\n",
    ")"
   ]
  },
  {
   "cell_type": "code",
   "execution_count": 48,
   "metadata": {},
   "outputs": [
    {
     "data": {
      "text/plain": [
       "array([-0.46924025, -0.79872596, -0.6352958 , -0.6824335 , -0.5875571 ,\n",
       "       -0.6474445 , -0.6436279 , -0.6438367 , -0.6425495 , -0.64182544],\n",
       "      dtype=float32)"
      ]
     },
     "execution_count": 48,
     "metadata": {},
     "output_type": "execute_result"
    }
   ],
   "source": [
    "model.predict(torch.tensor(data.values).numpy())"
   ]
  },
  {
   "cell_type": "markdown",
   "metadata": {},
   "source": [
    "# Dealing with Stages and Tags for registered models"
   ]
  },
  {
   "cell_type": "code",
   "execution_count": 45,
   "metadata": {},
   "outputs": [],
   "source": [
    "tracking_uri = mlflow.get_tracking_uri()\n",
    "registry_uri = mlflow.get_registry_uri()"
   ]
  },
  {
   "cell_type": "code",
   "execution_count": 46,
   "metadata": {},
   "outputs": [
    {
     "name": "stdout",
     "output_type": "stream",
     "text": [
      "done\n"
     ]
    }
   ],
   "source": [
    "client = mlflow.MlflowClient(tracking_uri=tracking_uri, registry_uri=registry_uri)\n",
    "client.transition_model_version_stage(\n",
    "    name=\"CompatibleTransformer\",\n",
    "    version=28,\n",
    "    stage=\"Staging\"\n",
    ")\n",
    "print('done')"
   ]
  },
  {
   "cell_type": "code",
   "execution_count": 54,
   "metadata": {},
   "outputs": [],
   "source": [
    "#Tag non used models as 'Archived'\n",
    "for i in range(25, 28):\n",
    "    client.transition_model_version_stage(\n",
    "    name=\"CompatibleTransformer\",\n",
    "    version=i,\n",
    "    stage=\"Archived\"\n",
    ")"
   ]
  },
  {
   "cell_type": "code",
   "execution_count": 59,
   "metadata": {},
   "outputs": [],
   "source": [
    "client.set_model_version_tag(\n",
    "    name=\"CompatibleTransformer\",\n",
    "    version=\"28\",\n",
    "    key=\"ticker\",\n",
    "    value=\"AAPL\"\n",
    ")"
   ]
  }
 ],
 "metadata": {
  "kernelspec": {
   "display_name": "Python 3 (ipykernel)",
   "language": "python",
   "name": "python3"
  },
  "language_info": {
   "codemirror_mode": {
    "name": "ipython",
    "version": 3
   },
   "file_extension": ".py",
   "mimetype": "text/x-python",
   "name": "python",
   "nbconvert_exporter": "python",
   "pygments_lexer": "ipython3",
   "version": "3.8.10"
  }
 },
 "nbformat": 4,
 "nbformat_minor": 4
}
