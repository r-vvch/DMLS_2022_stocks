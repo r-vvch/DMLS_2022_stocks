{
 "cells": [
  {
   "cell_type": "code",
   "execution_count": 1,
   "id": "a5380bcb",
   "metadata": {},
   "outputs": [],
   "source": [
    "from datetime import datetime\n",
    "from concurrent import futures\n",
    "import pandas as pd\n",
    "from pandas import DataFrame\n",
    "from Historic_Crypto import HistoricalData\n",
    "from Historic_Crypto import Cryptocurrencies\n",
    "from Historic_Crypto import LiveCryptoData\n",
    "from pathlib import Path\n",
    "import os"
   ]
  },
  {
   "cell_type": "code",
   "execution_count": 2,
   "id": "8303d0c0",
   "metadata": {},
   "outputs": [
    {
     "name": "stdout",
     "output_type": "stream",
     "text": [
      "Connected to the CoinBase Pro API.\n",
      "Extended Output is False, returning reduced dataset.\n"
     ]
    },
    {
     "data": {
      "text/html": [
       "<div>\n",
       "<style scoped>\n",
       "    .dataframe tbody tr th:only-of-type {\n",
       "        vertical-align: middle;\n",
       "    }\n",
       "\n",
       "    .dataframe tbody tr th {\n",
       "        vertical-align: top;\n",
       "    }\n",
       "\n",
       "    .dataframe thead th {\n",
       "        text-align: right;\n",
       "    }\n",
       "</style>\n",
       "<table border=\"1\" class=\"dataframe\">\n",
       "  <thead>\n",
       "    <tr style=\"text-align: right;\">\n",
       "      <th></th>\n",
       "      <th>id</th>\n",
       "      <th>display_name</th>\n",
       "      <th>fx_stablecoin</th>\n",
       "      <th>max_slippage_percentage</th>\n",
       "      <th>status</th>\n",
       "    </tr>\n",
       "  </thead>\n",
       "  <tbody>\n",
       "    <tr>\n",
       "      <th>0</th>\n",
       "      <td>ENJ-USDT</td>\n",
       "      <td>ENJ/USDT</td>\n",
       "      <td>False</td>\n",
       "      <td>0.03000000</td>\n",
       "      <td>online</td>\n",
       "    </tr>\n",
       "    <tr>\n",
       "      <th>1</th>\n",
       "      <td>CTSI-USD</td>\n",
       "      <td>CTSI/USD</td>\n",
       "      <td>False</td>\n",
       "      <td>0.03000000</td>\n",
       "      <td>online</td>\n",
       "    </tr>\n",
       "    <tr>\n",
       "      <th>2</th>\n",
       "      <td>STX-USDT</td>\n",
       "      <td>STX/USDT</td>\n",
       "      <td>False</td>\n",
       "      <td>0.03000000</td>\n",
       "      <td>online</td>\n",
       "    </tr>\n",
       "    <tr>\n",
       "      <th>3</th>\n",
       "      <td>AUCTION-USDT</td>\n",
       "      <td>AUCTION/USDT</td>\n",
       "      <td>False</td>\n",
       "      <td>0.03000000</td>\n",
       "      <td>online</td>\n",
       "    </tr>\n",
       "    <tr>\n",
       "      <th>4</th>\n",
       "      <td>LINK-EUR</td>\n",
       "      <td>LINK/EUR</td>\n",
       "      <td>False</td>\n",
       "      <td>0.03000000</td>\n",
       "      <td>online</td>\n",
       "    </tr>\n",
       "    <tr>\n",
       "      <th>...</th>\n",
       "      <td>...</td>\n",
       "      <td>...</td>\n",
       "      <td>...</td>\n",
       "      <td>...</td>\n",
       "      <td>...</td>\n",
       "    </tr>\n",
       "    <tr>\n",
       "      <th>571</th>\n",
       "      <td>SAND-USD</td>\n",
       "      <td>SAND/USD</td>\n",
       "      <td>False</td>\n",
       "      <td>0.03000000</td>\n",
       "      <td>online</td>\n",
       "    </tr>\n",
       "    <tr>\n",
       "      <th>572</th>\n",
       "      <td>XYO-USDT</td>\n",
       "      <td>XYO/USDT</td>\n",
       "      <td>False</td>\n",
       "      <td>0.03000000</td>\n",
       "      <td>online</td>\n",
       "    </tr>\n",
       "    <tr>\n",
       "      <th>573</th>\n",
       "      <td>USDC-GBP</td>\n",
       "      <td>USDC/GBP</td>\n",
       "      <td>True</td>\n",
       "      <td>0.01000000</td>\n",
       "      <td>online</td>\n",
       "    </tr>\n",
       "    <tr>\n",
       "      <th>574</th>\n",
       "      <td>UNI-USD</td>\n",
       "      <td>UNI/USD</td>\n",
       "      <td>False</td>\n",
       "      <td>0.03000000</td>\n",
       "      <td>online</td>\n",
       "    </tr>\n",
       "    <tr>\n",
       "      <th>575</th>\n",
       "      <td>USDT-USD</td>\n",
       "      <td>USDT/USD</td>\n",
       "      <td>True</td>\n",
       "      <td>0.01000000</td>\n",
       "      <td>online</td>\n",
       "    </tr>\n",
       "  </tbody>\n",
       "</table>\n",
       "<p>576 rows × 5 columns</p>\n",
       "</div>"
      ],
      "text/plain": [
       "               id  display_name  fx_stablecoin max_slippage_percentage  status\n",
       "0        ENJ-USDT      ENJ/USDT          False              0.03000000  online\n",
       "1        CTSI-USD      CTSI/USD          False              0.03000000  online\n",
       "2        STX-USDT      STX/USDT          False              0.03000000  online\n",
       "3    AUCTION-USDT  AUCTION/USDT          False              0.03000000  online\n",
       "4        LINK-EUR      LINK/EUR          False              0.03000000  online\n",
       "..            ...           ...            ...                     ...     ...\n",
       "571      SAND-USD      SAND/USD          False              0.03000000  online\n",
       "572      XYO-USDT      XYO/USDT          False              0.03000000  online\n",
       "573      USDC-GBP      USDC/GBP           True              0.01000000  online\n",
       "574       UNI-USD       UNI/USD          False              0.03000000  online\n",
       "575      USDT-USD      USDT/USD           True              0.01000000  online\n",
       "\n",
       "[576 rows x 5 columns]"
      ]
     },
     "execution_count": 2,
     "metadata": {},
     "output_type": "execute_result"
    }
   ],
   "source": [
    "data = Cryptocurrencies().find_crypto_pairs()\n",
    "data"
   ]
  },
  {
   "cell_type": "code",
   "execution_count": 3,
   "id": "28000e1d",
   "metadata": {},
   "outputs": [],
   "source": [
    "crypto = data['id'].tolist()\n",
    "bad_names = []"
   ]
  },
  {
   "cell_type": "code",
   "execution_count": 4,
   "id": "0af81fed",
   "metadata": {},
   "outputs": [],
   "source": [
    "dirpath = os.path.join(Path().resolve(), 'Crypto')\n",
    "Path(dirpath).mkdir(parents=True, exist_ok=True)"
   ]
  },
  {
   "cell_type": "code",
   "execution_count": 5,
   "id": "230a423a",
   "metadata": {},
   "outputs": [],
   "source": [
    "def get_stock_diff(stock):\n",
    "    \n",
    "    \"\"\" try to query the iex for a stock, if failed note with print \"\"\"\n",
    "    try:\n",
    "        print(stock)\n",
    "        stock_df = HistoricalData(stock, 86400, start_time_str, now_time_str).retrieve_data()\n",
    "        stock_df['Name'] = stock\n",
    "        stock_df['Diff'] = stock_df['close'] - stock_df['open']\n",
    "        # drop everything except for closing price\n",
    "        stock_df.drop(['low', 'high', 'open', 'volume'], axis=1, inplace=True)\n",
    "        stock_df.rename(columns={'close':'Close'}, inplace=True)\n",
    "        cols = stock_df.columns.tolist()\n",
    "        cols = [cols[1], cols[0], cols[2]]\n",
    "        stock_df = stock_df[cols]\n",
    "        output_name = os.path.join(dirpath, stock + '_diff.csv')\n",
    "        print(f'Saved to {output_name}')\n",
    "        stock_df.to_csv(output_name)\n",
    "    except:\n",
    "        bad_names.append(stock)\n",
    "        print('bad: %s' % (stock))"
   ]
  },
  {
   "cell_type": "code",
   "execution_count": 6,
   "id": "191a6b42",
   "metadata": {},
   "outputs": [
    {
     "name": "stdout",
     "output_type": "stream",
     "text": [
      "ENJ-USDT\n",
      "Checking input parameters are in the correct format.\n",
      "Formatting Dates.\n",
      "Checking if user supplied is available on the CoinBase Pro API.\n",
      "Connected to the CoinBase Pro API.\n",
      "Ticker 'ENJ-USDT' found at the CoinBase Pro API, continuing to extraction.\n",
      "Provisional Start: 2022-01-11T00:00:00\n",
      "Provisional End: 2022-11-07T00:00:00\n",
      "Data for chunk 1 of 2 extracted\n"
     ]
    },
    {
     "name": "stderr",
     "output_type": "stream",
     "text": [
      "C:\\Users\\Roman\\AppData\\Local\\Packages\\PythonSoftwareFoundation.Python.3.10_qbz5n2kfra8p0\\LocalCache\\local-packages\\Python310\\site-packages\\Historic_Crypto\\HistoricalData.py:176: FutureWarning: The frame.append method is deprecated and will be removed from pandas in a future version. Use pandas.concat instead.\n",
      "  data = data.append(dataset)\n"
     ]
    },
    {
     "name": "stdout",
     "output_type": "stream",
     "text": [
      "Provisional Start: 2022-11-07T00:00:00\n",
      "Provisional End: 2023-09-03T00:00:00\n",
      "Data for chunk 2 of 2 extracted\n",
      "Saved to C:\\Users\\Roman\\Desktop\\DMLS_project\\Crypto\\ENJ-USDT_diff.csv\n",
      "CTSI-USD\n",
      "Checking input parameters are in the correct format.\n",
      "Formatting Dates.\n",
      "Checking if user supplied is available on the CoinBase Pro API.\n",
      "Connected to the CoinBase Pro API.\n",
      "Ticker 'CTSI-USD' found at the CoinBase Pro API, continuing to extraction.\n",
      "Provisional Start: 2022-01-11T00:00:00\n",
      "Provisional End: 2022-11-07T00:00:00\n",
      "Data for chunk 1 of 2 extracted\n",
      "Provisional Start: 2022-11-07T00:00:00\n",
      "Provisional End: 2023-09-03T00:00:00\n"
     ]
    },
    {
     "name": "stderr",
     "output_type": "stream",
     "text": [
      "C:\\Users\\Roman\\AppData\\Local\\Packages\\PythonSoftwareFoundation.Python.3.10_qbz5n2kfra8p0\\LocalCache\\local-packages\\Python310\\site-packages\\Historic_Crypto\\HistoricalData.py:176: FutureWarning: The frame.append method is deprecated and will be removed from pandas in a future version. Use pandas.concat instead.\n",
      "  data = data.append(dataset)\n"
     ]
    },
    {
     "name": "stdout",
     "output_type": "stream",
     "text": [
      "Data for chunk 2 of 2 extracted\n",
      "Saved to C:\\Users\\Roman\\Desktop\\DMLS_project\\Crypto\\CTSI-USD_diff.csv\n",
      "STX-USDT\n",
      "Checking input parameters are in the correct format.\n",
      "Formatting Dates.\n",
      "Checking if user supplied is available on the CoinBase Pro API.\n",
      "Connected to the CoinBase Pro API.\n",
      "Ticker 'STX-USDT' found at the CoinBase Pro API, continuing to extraction.\n",
      "Provisional Start: 2022-01-11T00:00:00\n",
      "Provisional End: 2022-11-07T00:00:00\n",
      "Data for chunk 1 of 2 extracted\n",
      "Provisional Start: 2022-11-07T00:00:00\n",
      "Provisional End: 2023-09-03T00:00:00\n"
     ]
    },
    {
     "name": "stderr",
     "output_type": "stream",
     "text": [
      "C:\\Users\\Roman\\AppData\\Local\\Packages\\PythonSoftwareFoundation.Python.3.10_qbz5n2kfra8p0\\LocalCache\\local-packages\\Python310\\site-packages\\Historic_Crypto\\HistoricalData.py:176: FutureWarning: The frame.append method is deprecated and will be removed from pandas in a future version. Use pandas.concat instead.\n",
      "  data = data.append(dataset)\n"
     ]
    },
    {
     "name": "stdout",
     "output_type": "stream",
     "text": [
      "Data for chunk 2 of 2 extracted\n",
      "Saved to C:\\Users\\Roman\\Desktop\\DMLS_project\\Crypto\\STX-USDT_diff.csv\n",
      "AUCTION-USDT\n",
      "Checking input parameters are in the correct format.\n",
      "Formatting Dates.\n",
      "Checking if user supplied is available on the CoinBase Pro API.\n",
      "Connected to the CoinBase Pro API.\n",
      "Ticker 'AUCTION-USDT' found at the CoinBase Pro API, continuing to extraction.\n",
      "Provisional Start: 2022-01-11T00:00:00\n",
      "Provisional End: 2022-11-07T00:00:00\n",
      "Data for chunk 1 of 2 extracted\n"
     ]
    },
    {
     "name": "stderr",
     "output_type": "stream",
     "text": [
      "C:\\Users\\Roman\\AppData\\Local\\Packages\\PythonSoftwareFoundation.Python.3.10_qbz5n2kfra8p0\\LocalCache\\local-packages\\Python310\\site-packages\\Historic_Crypto\\HistoricalData.py:176: FutureWarning: The frame.append method is deprecated and will be removed from pandas in a future version. Use pandas.concat instead.\n",
      "  data = data.append(dataset)\n"
     ]
    },
    {
     "name": "stdout",
     "output_type": "stream",
     "text": [
      "Provisional Start: 2022-11-07T00:00:00\n",
      "Provisional End: 2023-09-03T00:00:00\n",
      "Data for chunk 2 of 2 extracted\n",
      "Saved to C:\\Users\\Roman\\Desktop\\DMLS_project\\Crypto\\AUCTION-USDT_diff.csv\n",
      "LINK-EUR\n",
      "Checking input parameters are in the correct format.\n",
      "Formatting Dates.\n",
      "Checking if user supplied is available on the CoinBase Pro API.\n",
      "Connected to the CoinBase Pro API.\n",
      "Ticker 'LINK-EUR' found at the CoinBase Pro API, continuing to extraction.\n",
      "Provisional Start: 2022-01-11T00:00:00\n",
      "Provisional End: 2022-11-07T00:00:00\n",
      "Data for chunk 1 of 2 extracted\n"
     ]
    },
    {
     "name": "stderr",
     "output_type": "stream",
     "text": [
      "C:\\Users\\Roman\\AppData\\Local\\Packages\\PythonSoftwareFoundation.Python.3.10_qbz5n2kfra8p0\\LocalCache\\local-packages\\Python310\\site-packages\\Historic_Crypto\\HistoricalData.py:176: FutureWarning: The frame.append method is deprecated and will be removed from pandas in a future version. Use pandas.concat instead.\n",
      "  data = data.append(dataset)\n"
     ]
    },
    {
     "name": "stdout",
     "output_type": "stream",
     "text": [
      "Provisional Start: 2022-11-07T00:00:00\n",
      "Provisional End: 2023-09-03T00:00:00\n",
      "Data for chunk 2 of 2 extracted\n",
      "Saved to C:\\Users\\Roman\\Desktop\\DMLS_project\\Crypto\\LINK-EUR_diff.csv\n",
      "SNX-EUR\n",
      "Checking input parameters are in the correct format.\n",
      "Formatting Dates.\n",
      "Checking if user supplied is available on the CoinBase Pro API.\n",
      "Connected to the CoinBase Pro API.\n",
      "Ticker 'SNX-EUR' found at the CoinBase Pro API, continuing to extraction.\n",
      "Provisional Start: 2022-01-11T00:00:00\n",
      "Provisional End: 2022-11-07T00:00:00\n",
      "Data for chunk 1 of 2 extracted\n"
     ]
    },
    {
     "name": "stderr",
     "output_type": "stream",
     "text": [
      "C:\\Users\\Roman\\AppData\\Local\\Packages\\PythonSoftwareFoundation.Python.3.10_qbz5n2kfra8p0\\LocalCache\\local-packages\\Python310\\site-packages\\Historic_Crypto\\HistoricalData.py:176: FutureWarning: The frame.append method is deprecated and will be removed from pandas in a future version. Use pandas.concat instead.\n",
      "  data = data.append(dataset)\n"
     ]
    },
    {
     "name": "stdout",
     "output_type": "stream",
     "text": [
      "Provisional Start: 2022-11-07T00:00:00\n",
      "Provisional End: 2023-09-03T00:00:00\n",
      "Data for chunk 2 of 2 extracted\n",
      "Saved to C:\\Users\\Roman\\Desktop\\DMLS_project\\Crypto\\SNX-EUR_diff.csv\n",
      "LOOM-USDC\n",
      "Checking input parameters are in the correct format.\n",
      "Formatting Dates.\n",
      "Checking if user supplied is available on the CoinBase Pro API.\n",
      "Connected to the CoinBase Pro API.\n",
      "Ticker 'LOOM-USDC' found at the CoinBase Pro API, continuing to extraction.\n",
      "Provisional Start: 2022-01-11T00:00:00\n",
      "Provisional End: 2022-11-07T00:00:00\n",
      "Data for chunk 1 of 2 extracted\n",
      "Provisional Start: 2022-11-07T00:00:00\n",
      "Provisional End: 2023-09-03T00:00:00\n"
     ]
    },
    {
     "name": "stderr",
     "output_type": "stream",
     "text": [
      "C:\\Users\\Roman\\AppData\\Local\\Packages\\PythonSoftwareFoundation.Python.3.10_qbz5n2kfra8p0\\LocalCache\\local-packages\\Python310\\site-packages\\Historic_Crypto\\HistoricalData.py:176: FutureWarning: The frame.append method is deprecated and will be removed from pandas in a future version. Use pandas.concat instead.\n",
      "  data = data.append(dataset)\n"
     ]
    },
    {
     "name": "stdout",
     "output_type": "stream",
     "text": [
      "Data for chunk 2 of 2 extracted\n",
      "CoinBase Pro API did not have available data for 'LOOM-USDC' beginning at 2022-01-11-00-00.  \n",
      "                        Trying a later date:'2022-11-07T00:00:00'\n",
      "Saved to C:\\Users\\Roman\\Desktop\\DMLS_project\\Crypto\\LOOM-USDC_diff.csv\n",
      "MAGIC-USD\n",
      "Checking input parameters are in the correct format.\n",
      "Formatting Dates.\n",
      "Checking if user supplied is available on the CoinBase Pro API.\n",
      "Connected to the CoinBase Pro API.\n",
      "Ticker 'MAGIC-USD' found at the CoinBase Pro API, continuing to extraction.\n",
      "Provisional Start: 2022-01-11T00:00:00\n",
      "Provisional End: 2022-11-07T00:00:00\n",
      "Data for chunk 1 of 2 extracted\n",
      "CoinBase Pro API did not have available data for 'MAGIC-USD' beginning at 2022-01-11-00-00.  \n",
      "                        Trying a later date:'2022-01-11T00:00:00'\n",
      "Provisional Start: 2022-11-07T00:00:00\n",
      "Provisional End: 2023-09-03T00:00:00\n",
      "Data for chunk 2 of 2 extracted\n"
     ]
    },
    {
     "name": "stderr",
     "output_type": "stream",
     "text": [
      "C:\\Users\\Roman\\AppData\\Local\\Packages\\PythonSoftwareFoundation.Python.3.10_qbz5n2kfra8p0\\LocalCache\\local-packages\\Python310\\site-packages\\Historic_Crypto\\HistoricalData.py:176: FutureWarning: The frame.append method is deprecated and will be removed from pandas in a future version. Use pandas.concat instead.\n",
      "  data = data.append(dataset)\n"
     ]
    },
    {
     "name": "stdout",
     "output_type": "stream",
     "text": [
      "Saved to C:\\Users\\Roman\\Desktop\\DMLS_project\\Crypto\\MAGIC-USD_diff.csv\n",
      "EOS-USD\n",
      "Checking input parameters are in the correct format.\n",
      "Formatting Dates.\n",
      "Checking if user supplied is available on the CoinBase Pro API.\n",
      "Connected to the CoinBase Pro API.\n",
      "Ticker 'EOS-USD' found at the CoinBase Pro API, continuing to extraction.\n",
      "Provisional Start: 2022-01-11T00:00:00\n",
      "Provisional End: 2022-11-07T00:00:00\n",
      "Data for chunk 1 of 2 extracted\n"
     ]
    },
    {
     "name": "stderr",
     "output_type": "stream",
     "text": [
      "C:\\Users\\Roman\\AppData\\Local\\Packages\\PythonSoftwareFoundation.Python.3.10_qbz5n2kfra8p0\\LocalCache\\local-packages\\Python310\\site-packages\\Historic_Crypto\\HistoricalData.py:176: FutureWarning: The frame.append method is deprecated and will be removed from pandas in a future version. Use pandas.concat instead.\n",
      "  data = data.append(dataset)\n"
     ]
    },
    {
     "name": "stdout",
     "output_type": "stream",
     "text": [
      "Provisional Start: 2022-11-07T00:00:00\n",
      "Provisional End: 2023-09-03T00:00:00\n",
      "Data for chunk 2 of 2 extracted\n",
      "Saved to C:\\Users\\Roman\\Desktop\\DMLS_project\\Crypto\\EOS-USD_diff.csv\n",
      "OGN-BTC\n",
      "Checking input parameters are in the correct format.\n",
      "Formatting Dates.\n",
      "Checking if user supplied is available on the CoinBase Pro API.\n",
      "Connected to the CoinBase Pro API.\n",
      "Ticker 'OGN-BTC' found at the CoinBase Pro API, continuing to extraction.\n",
      "Provisional Start: 2022-01-11T00:00:00\n",
      "Provisional End: 2022-11-07T00:00:00\n",
      "Data for chunk 1 of 2 extracted\n"
     ]
    },
    {
     "name": "stderr",
     "output_type": "stream",
     "text": [
      "C:\\Users\\Roman\\AppData\\Local\\Packages\\PythonSoftwareFoundation.Python.3.10_qbz5n2kfra8p0\\LocalCache\\local-packages\\Python310\\site-packages\\Historic_Crypto\\HistoricalData.py:176: FutureWarning: The frame.append method is deprecated and will be removed from pandas in a future version. Use pandas.concat instead.\n",
      "  data = data.append(dataset)\n"
     ]
    },
    {
     "name": "stdout",
     "output_type": "stream",
     "text": [
      "Provisional Start: 2022-11-07T00:00:00\n",
      "Provisional End: 2023-09-03T00:00:00\n",
      "Data for chunk 2 of 2 extracted\n",
      "Saved to C:\\Users\\Roman\\Desktop\\DMLS_project\\Crypto\\OGN-BTC_diff.csv\n",
      "ICP-BTC\n",
      "Checking input parameters are in the correct format.\n",
      "Formatting Dates.\n",
      "Checking if user supplied is available on the CoinBase Pro API.\n",
      "Connected to the CoinBase Pro API.\n",
      "Ticker 'ICP-BTC' found at the CoinBase Pro API, continuing to extraction.\n",
      "Provisional Start: 2022-01-11T00:00:00\n",
      "Provisional End: 2022-11-07T00:00:00\n",
      "Data for chunk 1 of 2 extracted\n"
     ]
    },
    {
     "name": "stderr",
     "output_type": "stream",
     "text": [
      "C:\\Users\\Roman\\AppData\\Local\\Packages\\PythonSoftwareFoundation.Python.3.10_qbz5n2kfra8p0\\LocalCache\\local-packages\\Python310\\site-packages\\Historic_Crypto\\HistoricalData.py:176: FutureWarning: The frame.append method is deprecated and will be removed from pandas in a future version. Use pandas.concat instead.\n",
      "  data = data.append(dataset)\n"
     ]
    },
    {
     "name": "stdout",
     "output_type": "stream",
     "text": [
      "Provisional Start: 2022-11-07T00:00:00\n",
      "Provisional End: 2023-09-03T00:00:00\n",
      "Data for chunk 2 of 2 extracted\n",
      "Saved to C:\\Users\\Roman\\Desktop\\DMLS_project\\Crypto\\ICP-BTC_diff.csv\n",
      "GAL-USD\n",
      "Checking input parameters are in the correct format.\n",
      "Formatting Dates.\n",
      "Checking if user supplied is available on the CoinBase Pro API.\n",
      "Connected to the CoinBase Pro API.\n",
      "Ticker 'GAL-USD' found at the CoinBase Pro API, continuing to extraction.\n",
      "Provisional Start: 2022-01-11T00:00:00\n",
      "Provisional End: 2022-11-07T00:00:00\n",
      "Data for chunk 1 of 2 extracted\n"
     ]
    },
    {
     "name": "stderr",
     "output_type": "stream",
     "text": [
      "C:\\Users\\Roman\\AppData\\Local\\Packages\\PythonSoftwareFoundation.Python.3.10_qbz5n2kfra8p0\\LocalCache\\local-packages\\Python310\\site-packages\\Historic_Crypto\\HistoricalData.py:176: FutureWarning: The frame.append method is deprecated and will be removed from pandas in a future version. Use pandas.concat instead.\n",
      "  data = data.append(dataset)\n"
     ]
    },
    {
     "name": "stdout",
     "output_type": "stream",
     "text": [
      "Provisional Start: 2022-11-07T00:00:00\n",
      "Provisional End: 2023-09-03T00:00:00\n",
      "Data for chunk 2 of 2 extracted\n",
      "Saved to C:\\Users\\Roman\\Desktop\\DMLS_project\\Crypto\\GAL-USD_diff.csv\n",
      "SHIB-USD\n",
      "Checking input parameters are in the correct format.\n",
      "Formatting Dates.\n",
      "Checking if user supplied is available on the CoinBase Pro API.\n",
      "Connected to the CoinBase Pro API.\n",
      "Ticker 'SHIB-USD' found at the CoinBase Pro API, continuing to extraction.\n",
      "Provisional Start: 2022-01-11T00:00:00\n",
      "Provisional End: 2022-11-07T00:00:00\n",
      "Data for chunk 1 of 2 extracted\n",
      "Provisional Start: 2022-11-07T00:00:00\n",
      "Provisional End: 2023-09-03T00:00:00\n"
     ]
    },
    {
     "name": "stderr",
     "output_type": "stream",
     "text": [
      "C:\\Users\\Roman\\AppData\\Local\\Packages\\PythonSoftwareFoundation.Python.3.10_qbz5n2kfra8p0\\LocalCache\\local-packages\\Python310\\site-packages\\Historic_Crypto\\HistoricalData.py:176: FutureWarning: The frame.append method is deprecated and will be removed from pandas in a future version. Use pandas.concat instead.\n",
      "  data = data.append(dataset)\n"
     ]
    },
    {
     "name": "stdout",
     "output_type": "stream",
     "text": [
      "Data for chunk 2 of 2 extracted\n",
      "Saved to C:\\Users\\Roman\\Desktop\\DMLS_project\\Crypto\\SHIB-USD_diff.csv\n",
      "DOGE-EUR\n",
      "Checking input parameters are in the correct format.\n",
      "Formatting Dates.\n",
      "Checking if user supplied is available on the CoinBase Pro API.\n",
      "Connected to the CoinBase Pro API.\n",
      "Ticker 'DOGE-EUR' found at the CoinBase Pro API, continuing to extraction.\n",
      "Provisional Start: 2022-01-11T00:00:00\n",
      "Provisional End: 2022-11-07T00:00:00\n",
      "Data for chunk 1 of 2 extracted\n"
     ]
    },
    {
     "name": "stderr",
     "output_type": "stream",
     "text": [
      "C:\\Users\\Roman\\AppData\\Local\\Packages\\PythonSoftwareFoundation.Python.3.10_qbz5n2kfra8p0\\LocalCache\\local-packages\\Python310\\site-packages\\Historic_Crypto\\HistoricalData.py:176: FutureWarning: The frame.append method is deprecated and will be removed from pandas in a future version. Use pandas.concat instead.\n",
      "  data = data.append(dataset)\n"
     ]
    },
    {
     "name": "stdout",
     "output_type": "stream",
     "text": [
      "Provisional Start: 2022-11-07T00:00:00\n",
      "Provisional End: 2023-09-03T00:00:00\n",
      "Data for chunk 2 of 2 extracted\n",
      "Saved to C:\\Users\\Roman\\Desktop\\DMLS_project\\Crypto\\DOGE-EUR_diff.csv\n",
      "WLUNA-USDT\n",
      "Checking input parameters are in the correct format.\n",
      "Formatting Dates.\n",
      "Checking if user supplied is available on the CoinBase Pro API.\n",
      "Connected to the CoinBase Pro API.\n",
      "Ticker 'WLUNA-USDT' found at the CoinBase Pro API, continuing to extraction.\n",
      "Provisional Start: 2022-01-11T00:00:00\n",
      "Provisional End: 2022-11-07T00:00:00\n",
      "Data for chunk 1 of 2 extracted\n"
     ]
    },
    {
     "name": "stderr",
     "output_type": "stream",
     "text": [
      "C:\\Users\\Roman\\AppData\\Local\\Packages\\PythonSoftwareFoundation.Python.3.10_qbz5n2kfra8p0\\LocalCache\\local-packages\\Python310\\site-packages\\Historic_Crypto\\HistoricalData.py:176: FutureWarning: The frame.append method is deprecated and will be removed from pandas in a future version. Use pandas.concat instead.\n",
      "  data = data.append(dataset)\n"
     ]
    },
    {
     "name": "stdout",
     "output_type": "stream",
     "text": [
      "Provisional Start: 2022-11-07T00:00:00\n",
      "Provisional End: 2023-09-03T00:00:00\n",
      "Data for chunk 2 of 2 extracted\n",
      "CoinBase Pro API did not have available data for 'WLUNA-USDT' beginning at 2022-01-11-00-00.  \n",
      "                        Trying a later date:'2022-11-07T00:00:00'\n",
      "Saved to C:\\Users\\Roman\\Desktop\\DMLS_project\\Crypto\\WLUNA-USDT_diff.csv\n",
      "LQTY-USD\n",
      "Checking input parameters are in the correct format.\n",
      "Formatting Dates.\n",
      "Checking if user supplied is available on the CoinBase Pro API.\n",
      "Connected to the CoinBase Pro API.\n",
      "Ticker 'LQTY-USD' found at the CoinBase Pro API, continuing to extraction.\n",
      "Provisional Start: 2022-01-11T00:00:00\n",
      "Provisional End: 2022-11-07T00:00:00\n",
      "Data for chunk 1 of 2 extracted\n"
     ]
    },
    {
     "name": "stderr",
     "output_type": "stream",
     "text": [
      "C:\\Users\\Roman\\AppData\\Local\\Packages\\PythonSoftwareFoundation.Python.3.10_qbz5n2kfra8p0\\LocalCache\\local-packages\\Python310\\site-packages\\Historic_Crypto\\HistoricalData.py:176: FutureWarning: The frame.append method is deprecated and will be removed from pandas in a future version. Use pandas.concat instead.\n",
      "  data = data.append(dataset)\n"
     ]
    },
    {
     "name": "stdout",
     "output_type": "stream",
     "text": [
      "Provisional Start: 2022-11-07T00:00:00\n",
      "Provisional End: 2023-09-03T00:00:00\n",
      "Data for chunk 2 of 2 extracted\n",
      "Saved to C:\\Users\\Roman\\Desktop\\DMLS_project\\Crypto\\LQTY-USD_diff.csv\n",
      "DESO-USD\n",
      "Checking input parameters are in the correct format.\n",
      "Formatting Dates.\n",
      "Checking if user supplied is available on the CoinBase Pro API.\n",
      "Connected to the CoinBase Pro API.\n",
      "Ticker 'DESO-USD' found at the CoinBase Pro API, continuing to extraction.\n",
      "Provisional Start: 2022-01-11T00:00:00\n",
      "Provisional End: 2022-11-07T00:00:00\n",
      "Data for chunk 1 of 2 extracted\n"
     ]
    },
    {
     "name": "stderr",
     "output_type": "stream",
     "text": [
      "C:\\Users\\Roman\\AppData\\Local\\Packages\\PythonSoftwareFoundation.Python.3.10_qbz5n2kfra8p0\\LocalCache\\local-packages\\Python310\\site-packages\\Historic_Crypto\\HistoricalData.py:176: FutureWarning: The frame.append method is deprecated and will be removed from pandas in a future version. Use pandas.concat instead.\n",
      "  data = data.append(dataset)\n"
     ]
    },
    {
     "name": "stdout",
     "output_type": "stream",
     "text": [
      "Provisional Start: 2022-11-07T00:00:00\n",
      "Provisional End: 2023-09-03T00:00:00\n",
      "Data for chunk 2 of 2 extracted\n",
      "Saved to C:\\Users\\Roman\\Desktop\\DMLS_project\\Crypto\\DESO-USD_diff.csv\n",
      "DYP-USD\n",
      "Checking input parameters are in the correct format.\n",
      "Formatting Dates.\n",
      "Checking if user supplied is available on the CoinBase Pro API.\n",
      "Connected to the CoinBase Pro API.\n",
      "Ticker 'DYP-USD' found at the CoinBase Pro API, continuing to extraction.\n",
      "Provisional Start: 2022-01-11T00:00:00\n",
      "Provisional End: 2022-11-07T00:00:00\n",
      "Data for chunk 1 of 2 extracted\n"
     ]
    },
    {
     "name": "stderr",
     "output_type": "stream",
     "text": [
      "C:\\Users\\Roman\\AppData\\Local\\Packages\\PythonSoftwareFoundation.Python.3.10_qbz5n2kfra8p0\\LocalCache\\local-packages\\Python310\\site-packages\\Historic_Crypto\\HistoricalData.py:176: FutureWarning: The frame.append method is deprecated and will be removed from pandas in a future version. Use pandas.concat instead.\n",
      "  data = data.append(dataset)\n"
     ]
    },
    {
     "name": "stdout",
     "output_type": "stream",
     "text": [
      "Provisional Start: 2022-11-07T00:00:00\n",
      "Provisional End: 2023-09-03T00:00:00\n",
      "Data for chunk 2 of 2 extracted\n",
      "Saved to C:\\Users\\Roman\\Desktop\\DMLS_project\\Crypto\\DYP-USD_diff.csv\n",
      "XLM-EUR\n",
      "Checking input parameters are in the correct format.\n",
      "Formatting Dates.\n",
      "Checking if user supplied is available on the CoinBase Pro API.\n",
      "Connected to the CoinBase Pro API.\n",
      "Ticker 'XLM-EUR' found at the CoinBase Pro API, continuing to extraction.\n",
      "Provisional Start: 2022-01-11T00:00:00\n",
      "Provisional End: 2022-11-07T00:00:00\n",
      "Data for chunk 1 of 2 extracted\n",
      "Provisional Start: 2022-11-07T00:00:00\n",
      "Provisional End: 2023-09-03T00:00:00\n"
     ]
    },
    {
     "name": "stderr",
     "output_type": "stream",
     "text": [
      "C:\\Users\\Roman\\AppData\\Local\\Packages\\PythonSoftwareFoundation.Python.3.10_qbz5n2kfra8p0\\LocalCache\\local-packages\\Python310\\site-packages\\Historic_Crypto\\HistoricalData.py:176: FutureWarning: The frame.append method is deprecated and will be removed from pandas in a future version. Use pandas.concat instead.\n",
      "  data = data.append(dataset)\n"
     ]
    },
    {
     "name": "stdout",
     "output_type": "stream",
     "text": [
      "Data for chunk 2 of 2 extracted\n",
      "Saved to C:\\Users\\Roman\\Desktop\\DMLS_project\\Crypto\\XLM-EUR_diff.csv\n",
      "IOTX-USD\n",
      "Checking input parameters are in the correct format.\n",
      "Formatting Dates.\n",
      "Checking if user supplied is available on the CoinBase Pro API.\n",
      "Connected to the CoinBase Pro API.\n",
      "Ticker 'IOTX-USD' found at the CoinBase Pro API, continuing to extraction.\n",
      "Provisional Start: 2022-01-11T00:00:00\n",
      "Provisional End: 2022-11-07T00:00:00\n",
      "Data for chunk 1 of 2 extracted\n",
      "Provisional Start: 2022-11-07T00:00:00\n",
      "Provisional End: 2023-09-03T00:00:00\n",
      "Data for chunk 2 of 2 extracted\n"
     ]
    },
    {
     "name": "stderr",
     "output_type": "stream",
     "text": [
      "C:\\Users\\Roman\\AppData\\Local\\Packages\\PythonSoftwareFoundation.Python.3.10_qbz5n2kfra8p0\\LocalCache\\local-packages\\Python310\\site-packages\\Historic_Crypto\\HistoricalData.py:176: FutureWarning: The frame.append method is deprecated and will be removed from pandas in a future version. Use pandas.concat instead.\n",
      "  data = data.append(dataset)\n"
     ]
    },
    {
     "name": "stdout",
     "output_type": "stream",
     "text": [
      "Saved to C:\\Users\\Roman\\Desktop\\DMLS_project\\Crypto\\IOTX-USD_diff.csv\n",
      "ORN-BTC\n",
      "Checking input parameters are in the correct format.\n",
      "Formatting Dates.\n",
      "Checking if user supplied is available on the CoinBase Pro API.\n",
      "Connected to the CoinBase Pro API.\n",
      "Ticker 'ORN-BTC' found at the CoinBase Pro API, continuing to extraction.\n",
      "Provisional Start: 2022-01-11T00:00:00\n",
      "Provisional End: 2022-11-07T00:00:00\n",
      "Data for chunk 1 of 2 extracted\n",
      "Provisional Start: 2022-11-07T00:00:00\n",
      "Provisional End: 2023-09-03T00:00:00\n"
     ]
    },
    {
     "name": "stderr",
     "output_type": "stream",
     "text": [
      "C:\\Users\\Roman\\AppData\\Local\\Packages\\PythonSoftwareFoundation.Python.3.10_qbz5n2kfra8p0\\LocalCache\\local-packages\\Python310\\site-packages\\Historic_Crypto\\HistoricalData.py:176: FutureWarning: The frame.append method is deprecated and will be removed from pandas in a future version. Use pandas.concat instead.\n",
      "  data = data.append(dataset)\n"
     ]
    },
    {
     "name": "stdout",
     "output_type": "stream",
     "text": [
      "Data for chunk 2 of 2 extracted\n",
      "Saved to C:\\Users\\Roman\\Desktop\\DMLS_project\\Crypto\\ORN-BTC_diff.csv\n",
      "RARE-USD\n",
      "Checking input parameters are in the correct format.\n",
      "Formatting Dates.\n",
      "Checking if user supplied is available on the CoinBase Pro API.\n",
      "Connected to the CoinBase Pro API.\n",
      "Ticker 'RARE-USD' found at the CoinBase Pro API, continuing to extraction.\n",
      "Provisional Start: 2022-01-11T00:00:00\n",
      "Provisional End: 2022-11-07T00:00:00\n",
      "Data for chunk 1 of 2 extracted\n"
     ]
    },
    {
     "name": "stderr",
     "output_type": "stream",
     "text": [
      "C:\\Users\\Roman\\AppData\\Local\\Packages\\PythonSoftwareFoundation.Python.3.10_qbz5n2kfra8p0\\LocalCache\\local-packages\\Python310\\site-packages\\Historic_Crypto\\HistoricalData.py:176: FutureWarning: The frame.append method is deprecated and will be removed from pandas in a future version. Use pandas.concat instead.\n",
      "  data = data.append(dataset)\n"
     ]
    },
    {
     "name": "stdout",
     "output_type": "stream",
     "text": [
      "Provisional Start: 2022-11-07T00:00:00\n",
      "Provisional End: 2023-09-03T00:00:00\n",
      "Data for chunk 2 of 2 extracted\n",
      "Saved to C:\\Users\\Roman\\Desktop\\DMLS_project\\Crypto\\RARE-USD_diff.csv\n",
      "ALCX-USD\n",
      "Checking input parameters are in the correct format.\n",
      "Formatting Dates.\n",
      "Checking if user supplied is available on the CoinBase Pro API.\n",
      "Connected to the CoinBase Pro API.\n",
      "Ticker 'ALCX-USD' found at the CoinBase Pro API, continuing to extraction.\n",
      "Provisional Start: 2022-01-11T00:00:00\n",
      "Provisional End: 2022-11-07T00:00:00\n",
      "Data for chunk 1 of 2 extracted\n"
     ]
    },
    {
     "name": "stderr",
     "output_type": "stream",
     "text": [
      "C:\\Users\\Roman\\AppData\\Local\\Packages\\PythonSoftwareFoundation.Python.3.10_qbz5n2kfra8p0\\LocalCache\\local-packages\\Python310\\site-packages\\Historic_Crypto\\HistoricalData.py:176: FutureWarning: The frame.append method is deprecated and will be removed from pandas in a future version. Use pandas.concat instead.\n",
      "  data = data.append(dataset)\n"
     ]
    },
    {
     "name": "stdout",
     "output_type": "stream",
     "text": [
      "Provisional Start: 2022-11-07T00:00:00\n",
      "Provisional End: 2023-09-03T00:00:00\n",
      "Data for chunk 2 of 2 extracted\n",
      "Saved to C:\\Users\\Roman\\Desktop\\DMLS_project\\Crypto\\ALCX-USD_diff.csv\n",
      "MEDIA-USDT\n",
      "Checking input parameters are in the correct format.\n",
      "Formatting Dates.\n",
      "Checking if user supplied is available on the CoinBase Pro API.\n",
      "Connected to the CoinBase Pro API.\n",
      "Ticker 'MEDIA-USDT' found at the CoinBase Pro API, continuing to extraction.\n",
      "Provisional Start: 2022-01-11T00:00:00\n",
      "Provisional End: 2022-11-07T00:00:00\n",
      "Data for chunk 1 of 2 extracted\n",
      "Provisional Start: 2022-11-07T00:00:00\n",
      "Provisional End: 2023-09-03T00:00:00\n"
     ]
    },
    {
     "name": "stderr",
     "output_type": "stream",
     "text": [
      "C:\\Users\\Roman\\AppData\\Local\\Packages\\PythonSoftwareFoundation.Python.3.10_qbz5n2kfra8p0\\LocalCache\\local-packages\\Python310\\site-packages\\Historic_Crypto\\HistoricalData.py:176: FutureWarning: The frame.append method is deprecated and will be removed from pandas in a future version. Use pandas.concat instead.\n",
      "  data = data.append(dataset)\n"
     ]
    },
    {
     "name": "stdout",
     "output_type": "stream",
     "text": [
      "Data for chunk 2 of 2 extracted\n",
      "Saved to C:\\Users\\Roman\\Desktop\\DMLS_project\\Crypto\\MEDIA-USDT_diff.csv\n",
      "SNX-USD\n",
      "Checking input parameters are in the correct format.\n",
      "Formatting Dates.\n",
      "Checking if user supplied is available on the CoinBase Pro API.\n",
      "Connected to the CoinBase Pro API.\n",
      "Ticker 'SNX-USD' found at the CoinBase Pro API, continuing to extraction.\n",
      "Provisional Start: 2022-01-11T00:00:00\n",
      "Provisional End: 2022-11-07T00:00:00\n",
      "Data for chunk 1 of 2 extracted\n"
     ]
    },
    {
     "name": "stderr",
     "output_type": "stream",
     "text": [
      "C:\\Users\\Roman\\AppData\\Local\\Packages\\PythonSoftwareFoundation.Python.3.10_qbz5n2kfra8p0\\LocalCache\\local-packages\\Python310\\site-packages\\Historic_Crypto\\HistoricalData.py:176: FutureWarning: The frame.append method is deprecated and will be removed from pandas in a future version. Use pandas.concat instead.\n",
      "  data = data.append(dataset)\n"
     ]
    },
    {
     "name": "stdout",
     "output_type": "stream",
     "text": [
      "Provisional Start: 2022-11-07T00:00:00\n",
      "Provisional End: 2023-09-03T00:00:00\n",
      "Data for chunk 2 of 2 extracted\n",
      "Saved to C:\\Users\\Roman\\Desktop\\DMLS_project\\Crypto\\SNX-USD_diff.csv\n",
      "LOOM-USD\n",
      "Checking input parameters are in the correct format.\n",
      "Formatting Dates.\n",
      "Checking if user supplied is available on the CoinBase Pro API.\n",
      "Connected to the CoinBase Pro API.\n",
      "Ticker 'LOOM-USD' found at the CoinBase Pro API, continuing to extraction.\n",
      "Provisional Start: 2022-01-11T00:00:00\n",
      "Provisional End: 2022-11-07T00:00:00\n",
      "Data for chunk 1 of 2 extracted\n"
     ]
    },
    {
     "name": "stderr",
     "output_type": "stream",
     "text": [
      "C:\\Users\\Roman\\AppData\\Local\\Packages\\PythonSoftwareFoundation.Python.3.10_qbz5n2kfra8p0\\LocalCache\\local-packages\\Python310\\site-packages\\Historic_Crypto\\HistoricalData.py:176: FutureWarning: The frame.append method is deprecated and will be removed from pandas in a future version. Use pandas.concat instead.\n",
      "  data = data.append(dataset)\n"
     ]
    },
    {
     "name": "stdout",
     "output_type": "stream",
     "text": [
      "Provisional Start: 2022-11-07T00:00:00\n",
      "Provisional End: 2023-09-03T00:00:00\n",
      "Data for chunk 2 of 2 extracted\n",
      "Saved to C:\\Users\\Roman\\Desktop\\DMLS_project\\Crypto\\LOOM-USD_diff.csv\n",
      "RLC-BTC\n",
      "Checking input parameters are in the correct format.\n",
      "Formatting Dates.\n",
      "Checking if user supplied is available on the CoinBase Pro API.\n",
      "Connected to the CoinBase Pro API.\n",
      "Ticker 'RLC-BTC' found at the CoinBase Pro API, continuing to extraction.\n",
      "Provisional Start: 2022-01-11T00:00:00\n",
      "Provisional End: 2022-11-07T00:00:00\n",
      "Data for chunk 1 of 2 extracted\n"
     ]
    },
    {
     "name": "stderr",
     "output_type": "stream",
     "text": [
      "C:\\Users\\Roman\\AppData\\Local\\Packages\\PythonSoftwareFoundation.Python.3.10_qbz5n2kfra8p0\\LocalCache\\local-packages\\Python310\\site-packages\\Historic_Crypto\\HistoricalData.py:176: FutureWarning: The frame.append method is deprecated and will be removed from pandas in a future version. Use pandas.concat instead.\n",
      "  data = data.append(dataset)\n"
     ]
    },
    {
     "name": "stdout",
     "output_type": "stream",
     "text": [
      "Provisional Start: 2022-11-07T00:00:00\n",
      "Provisional End: 2023-09-03T00:00:00\n",
      "Data for chunk 2 of 2 extracted\n",
      "Saved to C:\\Users\\Roman\\Desktop\\DMLS_project\\Crypto\\RLC-BTC_diff.csv\n",
      "BCH-BTC\n",
      "Checking input parameters are in the correct format.\n",
      "Formatting Dates.\n",
      "Checking if user supplied is available on the CoinBase Pro API.\n",
      "Connected to the CoinBase Pro API.\n",
      "Ticker 'BCH-BTC' found at the CoinBase Pro API, continuing to extraction.\n",
      "Provisional Start: 2022-01-11T00:00:00\n",
      "Provisional End: 2022-11-07T00:00:00\n",
      "Data for chunk 1 of 2 extracted\n",
      "Provisional Start: 2022-11-07T00:00:00\n",
      "Provisional End: 2023-09-03T00:00:00\n"
     ]
    },
    {
     "name": "stderr",
     "output_type": "stream",
     "text": [
      "C:\\Users\\Roman\\AppData\\Local\\Packages\\PythonSoftwareFoundation.Python.3.10_qbz5n2kfra8p0\\LocalCache\\local-packages\\Python310\\site-packages\\Historic_Crypto\\HistoricalData.py:176: FutureWarning: The frame.append method is deprecated and will be removed from pandas in a future version. Use pandas.concat instead.\n",
      "  data = data.append(dataset)\n"
     ]
    },
    {
     "name": "stdout",
     "output_type": "stream",
     "text": [
      "Data for chunk 2 of 2 extracted\n",
      "Saved to C:\\Users\\Roman\\Desktop\\DMLS_project\\Crypto\\BCH-BTC_diff.csv\n",
      "MIR-USD\n",
      "Checking input parameters are in the correct format.\n",
      "Formatting Dates.\n",
      "Checking if user supplied is available on the CoinBase Pro API.\n",
      "Connected to the CoinBase Pro API.\n",
      "Ticker 'MIR-USD' found at the CoinBase Pro API, continuing to extraction.\n",
      "Provisional Start: 2022-01-11T00:00:00\n",
      "Provisional End: 2022-11-07T00:00:00\n",
      "Data for chunk 1 of 2 extracted\n"
     ]
    },
    {
     "name": "stderr",
     "output_type": "stream",
     "text": [
      "C:\\Users\\Roman\\AppData\\Local\\Packages\\PythonSoftwareFoundation.Python.3.10_qbz5n2kfra8p0\\LocalCache\\local-packages\\Python310\\site-packages\\Historic_Crypto\\HistoricalData.py:176: FutureWarning: The frame.append method is deprecated and will be removed from pandas in a future version. Use pandas.concat instead.\n",
      "  data = data.append(dataset)\n"
     ]
    },
    {
     "name": "stdout",
     "output_type": "stream",
     "text": [
      "Provisional Start: 2022-11-07T00:00:00\n",
      "Provisional End: 2023-09-03T00:00:00\n",
      "Data for chunk 2 of 2 extracted\n",
      "Saved to C:\\Users\\Roman\\Desktop\\DMLS_project\\Crypto\\MIR-USD_diff.csv\n",
      "SHIB-EUR\n",
      "Checking input parameters are in the correct format.\n",
      "Formatting Dates.\n",
      "Checking if user supplied is available on the CoinBase Pro API.\n",
      "Connected to the CoinBase Pro API.\n",
      "Ticker 'SHIB-EUR' found at the CoinBase Pro API, continuing to extraction.\n",
      "Provisional Start: 2022-01-11T00:00:00\n",
      "Provisional End: 2022-11-07T00:00:00\n",
      "Data for chunk 1 of 2 extracted\n"
     ]
    },
    {
     "name": "stderr",
     "output_type": "stream",
     "text": [
      "C:\\Users\\Roman\\AppData\\Local\\Packages\\PythonSoftwareFoundation.Python.3.10_qbz5n2kfra8p0\\LocalCache\\local-packages\\Python310\\site-packages\\Historic_Crypto\\HistoricalData.py:176: FutureWarning: The frame.append method is deprecated and will be removed from pandas in a future version. Use pandas.concat instead.\n",
      "  data = data.append(dataset)\n"
     ]
    },
    {
     "name": "stdout",
     "output_type": "stream",
     "text": [
      "Provisional Start: 2022-11-07T00:00:00\n",
      "Provisional End: 2023-09-03T00:00:00\n",
      "Data for chunk 2 of 2 extracted\n",
      "Saved to C:\\Users\\Roman\\Desktop\\DMLS_project\\Crypto\\SHIB-EUR_diff.csv\n",
      "ETC-GBP\n",
      "Checking input parameters are in the correct format.\n",
      "Formatting Dates.\n",
      "Checking if user supplied is available on the CoinBase Pro API.\n",
      "Connected to the CoinBase Pro API.\n",
      "Ticker 'ETC-GBP' found at the CoinBase Pro API, continuing to extraction.\n",
      "Provisional Start: 2022-01-11T00:00:00\n",
      "Provisional End: 2022-11-07T00:00:00\n",
      "Data for chunk 1 of 2 extracted\n"
     ]
    },
    {
     "name": "stderr",
     "output_type": "stream",
     "text": [
      "C:\\Users\\Roman\\AppData\\Local\\Packages\\PythonSoftwareFoundation.Python.3.10_qbz5n2kfra8p0\\LocalCache\\local-packages\\Python310\\site-packages\\Historic_Crypto\\HistoricalData.py:176: FutureWarning: The frame.append method is deprecated and will be removed from pandas in a future version. Use pandas.concat instead.\n",
      "  data = data.append(dataset)\n"
     ]
    },
    {
     "name": "stdout",
     "output_type": "stream",
     "text": [
      "Provisional Start: 2022-11-07T00:00:00\n",
      "Provisional End: 2023-09-03T00:00:00\n",
      "Data for chunk 2 of 2 extracted\n",
      "Saved to C:\\Users\\Roman\\Desktop\\DMLS_project\\Crypto\\ETC-GBP_diff.csv\n",
      "ORN-USD\n",
      "Checking input parameters are in the correct format.\n",
      "Formatting Dates.\n",
      "Checking if user supplied is available on the CoinBase Pro API.\n",
      "Connected to the CoinBase Pro API.\n",
      "Ticker 'ORN-USD' found at the CoinBase Pro API, continuing to extraction.\n",
      "Provisional Start: 2022-01-11T00:00:00\n",
      "Provisional End: 2022-11-07T00:00:00\n",
      "Data for chunk 1 of 2 extracted\n"
     ]
    },
    {
     "name": "stderr",
     "output_type": "stream",
     "text": [
      "C:\\Users\\Roman\\AppData\\Local\\Packages\\PythonSoftwareFoundation.Python.3.10_qbz5n2kfra8p0\\LocalCache\\local-packages\\Python310\\site-packages\\Historic_Crypto\\HistoricalData.py:176: FutureWarning: The frame.append method is deprecated and will be removed from pandas in a future version. Use pandas.concat instead.\n",
      "  data = data.append(dataset)\n"
     ]
    },
    {
     "name": "stdout",
     "output_type": "stream",
     "text": [
      "Provisional Start: 2022-11-07T00:00:00\n",
      "Provisional End: 2023-09-03T00:00:00\n",
      "Data for chunk 2 of 2 extracted\n",
      "Saved to C:\\Users\\Roman\\Desktop\\DMLS_project\\Crypto\\ORN-USD_diff.csv\n",
      "AAVE-USD\n",
      "Checking input parameters are in the correct format.\n",
      "Formatting Dates.\n",
      "Checking if user supplied is available on the CoinBase Pro API.\n",
      "Connected to the CoinBase Pro API.\n",
      "Ticker 'AAVE-USD' found at the CoinBase Pro API, continuing to extraction.\n",
      "Provisional Start: 2022-01-11T00:00:00\n",
      "Provisional End: 2022-11-07T00:00:00\n",
      "Data for chunk 1 of 2 extracted\n",
      "Provisional Start: 2022-11-07T00:00:00\n",
      "Provisional End: 2023-09-03T00:00:00\n"
     ]
    },
    {
     "name": "stderr",
     "output_type": "stream",
     "text": [
      "C:\\Users\\Roman\\AppData\\Local\\Packages\\PythonSoftwareFoundation.Python.3.10_qbz5n2kfra8p0\\LocalCache\\local-packages\\Python310\\site-packages\\Historic_Crypto\\HistoricalData.py:176: FutureWarning: The frame.append method is deprecated and will be removed from pandas in a future version. Use pandas.concat instead.\n",
      "  data = data.append(dataset)\n"
     ]
    },
    {
     "name": "stdout",
     "output_type": "stream",
     "text": [
      "Data for chunk 2 of 2 extracted\n",
      "Saved to C:\\Users\\Roman\\Desktop\\DMLS_project\\Crypto\\AAVE-USD_diff.csv\n",
      "GYEN-USD\n",
      "Checking input parameters are in the correct format.\n",
      "Formatting Dates.\n",
      "Checking if user supplied is available on the CoinBase Pro API.\n",
      "Connected to the CoinBase Pro API.\n",
      "Ticker 'GYEN-USD' found at the CoinBase Pro API, continuing to extraction.\n",
      "Provisional Start: 2022-01-11T00:00:00\n",
      "Provisional End: 2022-11-07T00:00:00\n",
      "Data for chunk 1 of 2 extracted\n",
      "Provisional Start: 2022-11-07T00:00:00\n",
      "Provisional End: 2023-09-03T00:00:00\n"
     ]
    },
    {
     "name": "stderr",
     "output_type": "stream",
     "text": [
      "C:\\Users\\Roman\\AppData\\Local\\Packages\\PythonSoftwareFoundation.Python.3.10_qbz5n2kfra8p0\\LocalCache\\local-packages\\Python310\\site-packages\\Historic_Crypto\\HistoricalData.py:176: FutureWarning: The frame.append method is deprecated and will be removed from pandas in a future version. Use pandas.concat instead.\n",
      "  data = data.append(dataset)\n"
     ]
    },
    {
     "name": "stdout",
     "output_type": "stream",
     "text": [
      "Data for chunk 2 of 2 extracted\n",
      "Saved to C:\\Users\\Roman\\Desktop\\DMLS_project\\Crypto\\GYEN-USD_diff.csv\n",
      "ELA-USD\n",
      "Checking input parameters are in the correct format.\n",
      "Formatting Dates.\n",
      "Checking if user supplied is available on the CoinBase Pro API.\n",
      "Connected to the CoinBase Pro API.\n",
      "Ticker 'ELA-USD' found at the CoinBase Pro API, continuing to extraction.\n",
      "Provisional Start: 2022-01-11T00:00:00\n",
      "Provisional End: 2022-11-07T00:00:00\n",
      "Data for chunk 1 of 2 extracted\n",
      "Provisional Start: 2022-11-07T00:00:00\n",
      "Provisional End: 2023-09-03T00:00:00\n"
     ]
    },
    {
     "name": "stderr",
     "output_type": "stream",
     "text": [
      "C:\\Users\\Roman\\AppData\\Local\\Packages\\PythonSoftwareFoundation.Python.3.10_qbz5n2kfra8p0\\LocalCache\\local-packages\\Python310\\site-packages\\Historic_Crypto\\HistoricalData.py:176: FutureWarning: The frame.append method is deprecated and will be removed from pandas in a future version. Use pandas.concat instead.\n",
      "  data = data.append(dataset)\n"
     ]
    },
    {
     "name": "stdout",
     "output_type": "stream",
     "text": [
      "Data for chunk 2 of 2 extracted\n",
      "Saved to C:\\Users\\Roman\\Desktop\\DMLS_project\\Crypto\\ELA-USD_diff.csv\n",
      "BNT-USD\n",
      "Checking input parameters are in the correct format.\n",
      "Formatting Dates.\n",
      "Checking if user supplied is available on the CoinBase Pro API.\n",
      "Connected to the CoinBase Pro API.\n",
      "Ticker 'BNT-USD' found at the CoinBase Pro API, continuing to extraction.\n",
      "Provisional Start: 2022-01-11T00:00:00\n",
      "Provisional End: 2022-11-07T00:00:00\n",
      "Data for chunk 1 of 2 extracted\n",
      "Provisional Start: 2022-11-07T00:00:00\n",
      "Provisional End: 2023-09-03T00:00:00\n"
     ]
    },
    {
     "name": "stderr",
     "output_type": "stream",
     "text": [
      "C:\\Users\\Roman\\AppData\\Local\\Packages\\PythonSoftwareFoundation.Python.3.10_qbz5n2kfra8p0\\LocalCache\\local-packages\\Python310\\site-packages\\Historic_Crypto\\HistoricalData.py:176: FutureWarning: The frame.append method is deprecated and will be removed from pandas in a future version. Use pandas.concat instead.\n",
      "  data = data.append(dataset)\n"
     ]
    },
    {
     "name": "stdout",
     "output_type": "stream",
     "text": [
      "Data for chunk 2 of 2 extracted\n",
      "Saved to C:\\Users\\Roman\\Desktop\\DMLS_project\\Crypto\\BNT-USD_diff.csv\n",
      "00-USD\n",
      "Checking input parameters are in the correct format.\n",
      "Formatting Dates.\n",
      "Checking if user supplied is available on the CoinBase Pro API.\n",
      "Connected to the CoinBase Pro API.\n",
      "Ticker '00-USD' found at the CoinBase Pro API, continuing to extraction.\n",
      "Provisional Start: 2022-01-11T00:00:00\n",
      "Provisional End: 2022-11-07T00:00:00\n",
      "Data for chunk 1 of 2 extracted\n"
     ]
    },
    {
     "name": "stderr",
     "output_type": "stream",
     "text": [
      "C:\\Users\\Roman\\AppData\\Local\\Packages\\PythonSoftwareFoundation.Python.3.10_qbz5n2kfra8p0\\LocalCache\\local-packages\\Python310\\site-packages\\Historic_Crypto\\HistoricalData.py:176: FutureWarning: The frame.append method is deprecated and will be removed from pandas in a future version. Use pandas.concat instead.\n",
      "  data = data.append(dataset)\n"
     ]
    },
    {
     "name": "stdout",
     "output_type": "stream",
     "text": [
      "Provisional Start: 2022-11-07T00:00:00\n",
      "Provisional End: 2023-09-03T00:00:00\n",
      "Data for chunk 2 of 2 extracted\n",
      "Saved to C:\\Users\\Roman\\Desktop\\DMLS_project\\Crypto\\00-USD_diff.csv\n",
      "GNO-USD\n",
      "Checking input parameters are in the correct format.\n",
      "Formatting Dates.\n",
      "Checking if user supplied is available on the CoinBase Pro API.\n",
      "Connected to the CoinBase Pro API.\n",
      "Ticker 'GNO-USD' found at the CoinBase Pro API, continuing to extraction.\n",
      "Provisional Start: 2022-01-11T00:00:00\n",
      "Provisional End: 2022-11-07T00:00:00\n",
      "Data for chunk 1 of 2 extracted\n"
     ]
    },
    {
     "name": "stderr",
     "output_type": "stream",
     "text": [
      "C:\\Users\\Roman\\AppData\\Local\\Packages\\PythonSoftwareFoundation.Python.3.10_qbz5n2kfra8p0\\LocalCache\\local-packages\\Python310\\site-packages\\Historic_Crypto\\HistoricalData.py:176: FutureWarning: The frame.append method is deprecated and will be removed from pandas in a future version. Use pandas.concat instead.\n",
      "  data = data.append(dataset)\n"
     ]
    },
    {
     "name": "stdout",
     "output_type": "stream",
     "text": [
      "Provisional Start: 2022-11-07T00:00:00\n",
      "Provisional End: 2023-09-03T00:00:00\n",
      "Data for chunk 2 of 2 extracted\n",
      "Saved to C:\\Users\\Roman\\Desktop\\DMLS_project\\Crypto\\GNO-USD_diff.csv\n",
      "RPL-USD\n",
      "Checking input parameters are in the correct format.\n",
      "Formatting Dates.\n",
      "Checking if user supplied is available on the CoinBase Pro API.\n",
      "Connected to the CoinBase Pro API.\n",
      "Ticker 'RPL-USD' found at the CoinBase Pro API, continuing to extraction.\n",
      "Provisional Start: 2022-01-11T00:00:00\n",
      "Provisional End: 2022-11-07T00:00:00\n",
      "Data for chunk 1 of 2 extracted\n",
      "CoinBase Pro API did not have available data for 'RPL-USD' beginning at 2022-01-11-00-00.  \n",
      "                        Trying a later date:'2022-01-11T00:00:00'\n",
      "Provisional Start: 2022-11-07T00:00:00\n",
      "Provisional End: 2023-09-03T00:00:00\n",
      "Data for chunk 2 of 2 extracted\n",
      "Saved to C:\\Users\\Roman\\Desktop\\DMLS_project\\Crypto\\RPL-USD_diff.csv\n",
      "ALCX-EUR\n",
      "Checking input parameters are in the correct format.\n",
      "Formatting Dates.\n",
      "Checking if user supplied is available on the CoinBase Pro API.\n",
      "Connected to the CoinBase Pro API.\n",
      "Ticker 'ALCX-EUR' found at the CoinBase Pro API, continuing to extraction.\n",
      "Provisional Start: 2022-01-11T00:00:00\n",
      "Provisional End: 2022-11-07T00:00:00\n"
     ]
    },
    {
     "name": "stderr",
     "output_type": "stream",
     "text": [
      "C:\\Users\\Roman\\AppData\\Local\\Packages\\PythonSoftwareFoundation.Python.3.10_qbz5n2kfra8p0\\LocalCache\\local-packages\\Python310\\site-packages\\Historic_Crypto\\HistoricalData.py:176: FutureWarning: The frame.append method is deprecated and will be removed from pandas in a future version. Use pandas.concat instead.\n",
      "  data = data.append(dataset)\n"
     ]
    },
    {
     "name": "stdout",
     "output_type": "stream",
     "text": [
      "Data for chunk 1 of 2 extracted\n"
     ]
    },
    {
     "name": "stderr",
     "output_type": "stream",
     "text": [
      "C:\\Users\\Roman\\AppData\\Local\\Packages\\PythonSoftwareFoundation.Python.3.10_qbz5n2kfra8p0\\LocalCache\\local-packages\\Python310\\site-packages\\Historic_Crypto\\HistoricalData.py:176: FutureWarning: The frame.append method is deprecated and will be removed from pandas in a future version. Use pandas.concat instead.\n",
      "  data = data.append(dataset)\n"
     ]
    },
    {
     "name": "stdout",
     "output_type": "stream",
     "text": [
      "Provisional Start: 2022-11-07T00:00:00\n",
      "Provisional End: 2023-09-03T00:00:00\n",
      "Data for chunk 2 of 2 extracted\n",
      "Saved to C:\\Users\\Roman\\Desktop\\DMLS_project\\Crypto\\ALCX-EUR_diff.csv\n",
      "BAND-GBP\n",
      "Checking input parameters are in the correct format.\n",
      "Formatting Dates.\n",
      "Checking if user supplied is available on the CoinBase Pro API.\n",
      "Connected to the CoinBase Pro API.\n",
      "Ticker 'BAND-GBP' found at the CoinBase Pro API, continuing to extraction.\n",
      "Provisional Start: 2022-01-11T00:00:00\n",
      "Provisional End: 2022-11-07T00:00:00\n",
      "Data for chunk 1 of 2 extracted\n"
     ]
    },
    {
     "name": "stderr",
     "output_type": "stream",
     "text": [
      "C:\\Users\\Roman\\AppData\\Local\\Packages\\PythonSoftwareFoundation.Python.3.10_qbz5n2kfra8p0\\LocalCache\\local-packages\\Python310\\site-packages\\Historic_Crypto\\HistoricalData.py:176: FutureWarning: The frame.append method is deprecated and will be removed from pandas in a future version. Use pandas.concat instead.\n",
      "  data = data.append(dataset)\n"
     ]
    },
    {
     "name": "stdout",
     "output_type": "stream",
     "text": [
      "Provisional Start: 2022-11-07T00:00:00\n",
      "Provisional End: 2023-09-03T00:00:00\n",
      "Data for chunk 2 of 2 extracted\n",
      "Saved to C:\\Users\\Roman\\Desktop\\DMLS_project\\Crypto\\BAND-GBP_diff.csv\n",
      "WLUNA-EUR\n",
      "Checking input parameters are in the correct format.\n",
      "Formatting Dates.\n",
      "Checking if user supplied is available on the CoinBase Pro API.\n",
      "Connected to the CoinBase Pro API.\n",
      "Ticker 'WLUNA-EUR' found at the CoinBase Pro API, continuing to extraction.\n",
      "Provisional Start: 2022-01-11T00:00:00\n",
      "Provisional End: 2022-11-07T00:00:00\n",
      "Data for chunk 1 of 2 extracted\n",
      "Provisional Start: 2022-11-07T00:00:00\n",
      "Provisional End: 2023-09-03T00:00:00\n"
     ]
    },
    {
     "name": "stderr",
     "output_type": "stream",
     "text": [
      "C:\\Users\\Roman\\AppData\\Local\\Packages\\PythonSoftwareFoundation.Python.3.10_qbz5n2kfra8p0\\LocalCache\\local-packages\\Python310\\site-packages\\Historic_Crypto\\HistoricalData.py:176: FutureWarning: The frame.append method is deprecated and will be removed from pandas in a future version. Use pandas.concat instead.\n",
      "  data = data.append(dataset)\n"
     ]
    },
    {
     "name": "stdout",
     "output_type": "stream",
     "text": [
      "Data for chunk 2 of 2 extracted\n",
      "CoinBase Pro API did not have available data for 'WLUNA-EUR' beginning at 2022-01-11-00-00.  \n",
      "                        Trying a later date:'2022-11-07T00:00:00'\n",
      "Saved to C:\\Users\\Roman\\Desktop\\DMLS_project\\Crypto\\WLUNA-EUR_diff.csv\n",
      "REN-BTC\n",
      "Checking input parameters are in the correct format.\n",
      "Formatting Dates.\n",
      "Checking if user supplied is available on the CoinBase Pro API.\n",
      "Connected to the CoinBase Pro API.\n",
      "Ticker 'REN-BTC' found at the CoinBase Pro API, continuing to extraction.\n",
      "Provisional Start: 2022-01-11T00:00:00\n",
      "Provisional End: 2022-11-07T00:00:00\n",
      "Data for chunk 1 of 2 extracted\n"
     ]
    },
    {
     "name": "stderr",
     "output_type": "stream",
     "text": [
      "C:\\Users\\Roman\\AppData\\Local\\Packages\\PythonSoftwareFoundation.Python.3.10_qbz5n2kfra8p0\\LocalCache\\local-packages\\Python310\\site-packages\\Historic_Crypto\\HistoricalData.py:176: FutureWarning: The frame.append method is deprecated and will be removed from pandas in a future version. Use pandas.concat instead.\n",
      "  data = data.append(dataset)\n"
     ]
    },
    {
     "name": "stdout",
     "output_type": "stream",
     "text": [
      "Provisional Start: 2022-11-07T00:00:00\n",
      "Provisional End: 2023-09-03T00:00:00\n",
      "Data for chunk 2 of 2 extracted\n",
      "Saved to C:\\Users\\Roman\\Desktop\\DMLS_project\\Crypto\\REN-BTC_diff.csv\n",
      "HFT-USDT\n",
      "Checking input parameters are in the correct format.\n",
      "Formatting Dates.\n",
      "Checking if user supplied is available on the CoinBase Pro API.\n",
      "Connected to the CoinBase Pro API.\n",
      "Ticker 'HFT-USDT' found at the CoinBase Pro API, continuing to extraction.\n",
      "Provisional Start: 2022-01-11T00:00:00\n",
      "Provisional End: 2022-11-07T00:00:00\n",
      "Data for chunk 1 of 2 extracted\n"
     ]
    },
    {
     "name": "stderr",
     "output_type": "stream",
     "text": [
      "C:\\Users\\Roman\\AppData\\Local\\Packages\\PythonSoftwareFoundation.Python.3.10_qbz5n2kfra8p0\\LocalCache\\local-packages\\Python310\\site-packages\\Historic_Crypto\\HistoricalData.py:176: FutureWarning: The frame.append method is deprecated and will be removed from pandas in a future version. Use pandas.concat instead.\n",
      "  data = data.append(dataset)\n"
     ]
    },
    {
     "name": "stdout",
     "output_type": "stream",
     "text": [
      "Provisional Start: 2022-11-07T00:00:00\n",
      "Provisional End: 2023-09-03T00:00:00\n",
      "Data for chunk 2 of 2 extracted\n",
      "Saved to C:\\Users\\Roman\\Desktop\\DMLS_project\\Crypto\\HFT-USDT_diff.csv\n",
      "QUICK-USD\n",
      "Checking input parameters are in the correct format.\n",
      "Formatting Dates.\n",
      "Checking if user supplied is available on the CoinBase Pro API.\n",
      "Connected to the CoinBase Pro API.\n",
      "Ticker 'QUICK-USD' found at the CoinBase Pro API, continuing to extraction.\n",
      "Provisional Start: 2022-01-11T00:00:00\n",
      "Provisional End: 2022-11-07T00:00:00\n",
      "Data for chunk 1 of 2 extracted\n"
     ]
    },
    {
     "name": "stderr",
     "output_type": "stream",
     "text": [
      "C:\\Users\\Roman\\AppData\\Local\\Packages\\PythonSoftwareFoundation.Python.3.10_qbz5n2kfra8p0\\LocalCache\\local-packages\\Python310\\site-packages\\Historic_Crypto\\HistoricalData.py:176: FutureWarning: The frame.append method is deprecated and will be removed from pandas in a future version. Use pandas.concat instead.\n",
      "  data = data.append(dataset)\n"
     ]
    },
    {
     "name": "stdout",
     "output_type": "stream",
     "text": [
      "Provisional Start: 2022-11-07T00:00:00\n",
      "Provisional End: 2023-09-03T00:00:00\n",
      "Data for chunk 2 of 2 extracted\n",
      "Saved to C:\\Users\\Roman\\Desktop\\DMLS_project\\Crypto\\QUICK-USD_diff.csv\n",
      "SOL-USD\n",
      "Checking input parameters are in the correct format.\n",
      "Formatting Dates.\n",
      "Checking if user supplied is available on the CoinBase Pro API.\n",
      "Connected to the CoinBase Pro API.\n",
      "Ticker 'SOL-USD' found at the CoinBase Pro API, continuing to extraction.\n",
      "Provisional Start: 2022-01-11T00:00:00\n",
      "Provisional End: 2022-11-07T00:00:00\n",
      "Data for chunk 1 of 2 extracted\n"
     ]
    },
    {
     "name": "stderr",
     "output_type": "stream",
     "text": [
      "C:\\Users\\Roman\\AppData\\Local\\Packages\\PythonSoftwareFoundation.Python.3.10_qbz5n2kfra8p0\\LocalCache\\local-packages\\Python310\\site-packages\\Historic_Crypto\\HistoricalData.py:176: FutureWarning: The frame.append method is deprecated and will be removed from pandas in a future version. Use pandas.concat instead.\n",
      "  data = data.append(dataset)\n"
     ]
    },
    {
     "name": "stdout",
     "output_type": "stream",
     "text": [
      "Provisional Start: 2022-11-07T00:00:00\n",
      "Provisional End: 2023-09-03T00:00:00\n",
      "Data for chunk 2 of 2 extracted\n",
      "Saved to C:\\Users\\Roman\\Desktop\\DMLS_project\\Crypto\\SOL-USD_diff.csv\n",
      "UST-EUR\n",
      "Checking input parameters are in the correct format.\n",
      "Formatting Dates.\n",
      "Checking if user supplied is available on the CoinBase Pro API.\n",
      "Connected to the CoinBase Pro API.\n",
      "Ticker 'UST-EUR' found at the CoinBase Pro API, continuing to extraction.\n",
      "Provisional Start: 2022-01-11T00:00:00\n",
      "Provisional End: 2022-11-07T00:00:00\n",
      "Data for chunk 1 of 2 extracted\n"
     ]
    },
    {
     "name": "stderr",
     "output_type": "stream",
     "text": [
      "C:\\Users\\Roman\\AppData\\Local\\Packages\\PythonSoftwareFoundation.Python.3.10_qbz5n2kfra8p0\\LocalCache\\local-packages\\Python310\\site-packages\\Historic_Crypto\\HistoricalData.py:176: FutureWarning: The frame.append method is deprecated and will be removed from pandas in a future version. Use pandas.concat instead.\n",
      "  data = data.append(dataset)\n"
     ]
    },
    {
     "name": "stdout",
     "output_type": "stream",
     "text": [
      "Provisional Start: 2022-11-07T00:00:00\n",
      "Provisional End: 2023-09-03T00:00:00\n",
      "Data for chunk 2 of 2 extracted\n",
      "CoinBase Pro API did not have available data for 'UST-EUR' beginning at 2022-01-11-00-00.  \n",
      "                        Trying a later date:'2022-11-07T00:00:00'\n",
      "Saved to C:\\Users\\Roman\\Desktop\\DMLS_project\\Crypto\\UST-EUR_diff.csv\n",
      "ABT-USD\n",
      "Checking input parameters are in the correct format.\n",
      "Formatting Dates.\n",
      "Checking if user supplied is available on the CoinBase Pro API.\n",
      "Connected to the CoinBase Pro API.\n",
      "Ticker 'ABT-USD' found at the CoinBase Pro API, continuing to extraction.\n",
      "Provisional Start: 2022-01-11T00:00:00\n",
      "Provisional End: 2022-11-07T00:00:00\n",
      "Data for chunk 1 of 2 extracted\n",
      "Provisional Start: 2022-11-07T00:00:00\n",
      "Provisional End: 2023-09-03T00:00:00\n"
     ]
    },
    {
     "name": "stderr",
     "output_type": "stream",
     "text": [
      "C:\\Users\\Roman\\AppData\\Local\\Packages\\PythonSoftwareFoundation.Python.3.10_qbz5n2kfra8p0\\LocalCache\\local-packages\\Python310\\site-packages\\Historic_Crypto\\HistoricalData.py:176: FutureWarning: The frame.append method is deprecated and will be removed from pandas in a future version. Use pandas.concat instead.\n",
      "  data = data.append(dataset)\n"
     ]
    },
    {
     "name": "stdout",
     "output_type": "stream",
     "text": [
      "Data for chunk 2 of 2 extracted\n",
      "Saved to C:\\Users\\Roman\\Desktop\\DMLS_project\\Crypto\\ABT-USD_diff.csv\n",
      "RAD-USDT\n",
      "Checking input parameters are in the correct format.\n",
      "Formatting Dates.\n",
      "Checking if user supplied is available on the CoinBase Pro API.\n",
      "Connected to the CoinBase Pro API.\n",
      "Ticker 'RAD-USDT' found at the CoinBase Pro API, continuing to extraction.\n",
      "Provisional Start: 2022-01-11T00:00:00\n",
      "Provisional End: 2022-11-07T00:00:00\n",
      "Data for chunk 1 of 2 extracted\n",
      "Provisional Start: 2022-11-07T00:00:00\n",
      "Provisional End: 2023-09-03T00:00:00\n"
     ]
    },
    {
     "name": "stderr",
     "output_type": "stream",
     "text": [
      "C:\\Users\\Roman\\AppData\\Local\\Packages\\PythonSoftwareFoundation.Python.3.10_qbz5n2kfra8p0\\LocalCache\\local-packages\\Python310\\site-packages\\Historic_Crypto\\HistoricalData.py:176: FutureWarning: The frame.append method is deprecated and will be removed from pandas in a future version. Use pandas.concat instead.\n",
      "  data = data.append(dataset)\n"
     ]
    },
    {
     "name": "stdout",
     "output_type": "stream",
     "text": [
      "Data for chunk 2 of 2 extracted\n",
      "Saved to C:\\Users\\Roman\\Desktop\\DMLS_project\\Crypto\\RAD-USDT_diff.csv\n",
      "BIT-USD\n",
      "Checking input parameters are in the correct format.\n",
      "Formatting Dates.\n",
      "Checking if user supplied is available on the CoinBase Pro API.\n",
      "Connected to the CoinBase Pro API.\n",
      "Ticker 'BIT-USD' found at the CoinBase Pro API, continuing to extraction.\n",
      "Provisional Start: 2022-01-11T00:00:00\n",
      "Provisional End: 2022-11-07T00:00:00\n",
      "Data for chunk 1 of 2 extracted\n",
      "Provisional Start: 2022-11-07T00:00:00\n",
      "Provisional End: 2023-09-03T00:00:00\n"
     ]
    },
    {
     "name": "stderr",
     "output_type": "stream",
     "text": [
      "C:\\Users\\Roman\\AppData\\Local\\Packages\\PythonSoftwareFoundation.Python.3.10_qbz5n2kfra8p0\\LocalCache\\local-packages\\Python310\\site-packages\\Historic_Crypto\\HistoricalData.py:176: FutureWarning: The frame.append method is deprecated and will be removed from pandas in a future version. Use pandas.concat instead.\n",
      "  data = data.append(dataset)\n"
     ]
    },
    {
     "name": "stdout",
     "output_type": "stream",
     "text": [
      "Data for chunk 2 of 2 extracted\n",
      "Saved to C:\\Users\\Roman\\Desktop\\DMLS_project\\Crypto\\BIT-USD_diff.csv\n",
      "LINK-GBP\n",
      "Checking input parameters are in the correct format.\n",
      "Formatting Dates.\n",
      "Checking if user supplied is available on the CoinBase Pro API.\n",
      "Connected to the CoinBase Pro API.\n",
      "Ticker 'LINK-GBP' found at the CoinBase Pro API, continuing to extraction.\n",
      "Provisional Start: 2022-01-11T00:00:00\n",
      "Provisional End: 2022-11-07T00:00:00\n",
      "Data for chunk 1 of 2 extracted\n",
      "Provisional Start: 2022-11-07T00:00:00\n",
      "Provisional End: 2023-09-03T00:00:00\n"
     ]
    },
    {
     "name": "stderr",
     "output_type": "stream",
     "text": [
      "C:\\Users\\Roman\\AppData\\Local\\Packages\\PythonSoftwareFoundation.Python.3.10_qbz5n2kfra8p0\\LocalCache\\local-packages\\Python310\\site-packages\\Historic_Crypto\\HistoricalData.py:176: FutureWarning: The frame.append method is deprecated and will be removed from pandas in a future version. Use pandas.concat instead.\n",
      "  data = data.append(dataset)\n"
     ]
    },
    {
     "name": "stdout",
     "output_type": "stream",
     "text": [
      "Data for chunk 2 of 2 extracted\n",
      "Saved to C:\\Users\\Roman\\Desktop\\DMLS_project\\Crypto\\LINK-GBP_diff.csv\n",
      "CBETH-USD\n",
      "Checking input parameters are in the correct format.\n",
      "Formatting Dates.\n",
      "Checking if user supplied is available on the CoinBase Pro API.\n",
      "Connected to the CoinBase Pro API.\n",
      "Ticker 'CBETH-USD' found at the CoinBase Pro API, continuing to extraction.\n",
      "Provisional Start: 2022-01-11T00:00:00\n",
      "Provisional End: 2022-11-07T00:00:00\n",
      "Data for chunk 1 of 2 extracted\n"
     ]
    },
    {
     "name": "stderr",
     "output_type": "stream",
     "text": [
      "C:\\Users\\Roman\\AppData\\Local\\Packages\\PythonSoftwareFoundation.Python.3.10_qbz5n2kfra8p0\\LocalCache\\local-packages\\Python310\\site-packages\\Historic_Crypto\\HistoricalData.py:176: FutureWarning: The frame.append method is deprecated and will be removed from pandas in a future version. Use pandas.concat instead.\n",
      "  data = data.append(dataset)\n"
     ]
    },
    {
     "name": "stdout",
     "output_type": "stream",
     "text": [
      "Provisional Start: 2022-11-07T00:00:00\n",
      "Provisional End: 2023-09-03T00:00:00\n",
      "Data for chunk 2 of 2 extracted\n",
      "Saved to C:\\Users\\Roman\\Desktop\\DMLS_project\\Crypto\\CBETH-USD_diff.csv\n",
      "BNT-BTC\n",
      "Checking input parameters are in the correct format.\n",
      "Formatting Dates.\n",
      "Checking if user supplied is available on the CoinBase Pro API.\n",
      "Connected to the CoinBase Pro API.\n",
      "Ticker 'BNT-BTC' found at the CoinBase Pro API, continuing to extraction.\n",
      "Provisional Start: 2022-01-11T00:00:00\n",
      "Provisional End: 2022-11-07T00:00:00\n",
      "Data for chunk 1 of 2 extracted\n"
     ]
    },
    {
     "name": "stderr",
     "output_type": "stream",
     "text": [
      "C:\\Users\\Roman\\AppData\\Local\\Packages\\PythonSoftwareFoundation.Python.3.10_qbz5n2kfra8p0\\LocalCache\\local-packages\\Python310\\site-packages\\Historic_Crypto\\HistoricalData.py:176: FutureWarning: The frame.append method is deprecated and will be removed from pandas in a future version. Use pandas.concat instead.\n",
      "  data = data.append(dataset)\n"
     ]
    },
    {
     "name": "stdout",
     "output_type": "stream",
     "text": [
      "Provisional Start: 2022-11-07T00:00:00\n",
      "Provisional End: 2023-09-03T00:00:00\n",
      "Data for chunk 2 of 2 extracted\n",
      "Saved to C:\\Users\\Roman\\Desktop\\DMLS_project\\Crypto\\BNT-BTC_diff.csv\n",
      "OMG-BTC\n",
      "Checking input parameters are in the correct format.\n",
      "Formatting Dates.\n",
      "Checking if user supplied is available on the CoinBase Pro API.\n",
      "Connected to the CoinBase Pro API.\n",
      "Ticker 'OMG-BTC' found at the CoinBase Pro API, continuing to extraction.\n",
      "Provisional Start: 2022-01-11T00:00:00\n",
      "Provisional End: 2022-11-07T00:00:00\n",
      "Data for chunk 1 of 2 extracted\n"
     ]
    },
    {
     "name": "stderr",
     "output_type": "stream",
     "text": [
      "C:\\Users\\Roman\\AppData\\Local\\Packages\\PythonSoftwareFoundation.Python.3.10_qbz5n2kfra8p0\\LocalCache\\local-packages\\Python310\\site-packages\\Historic_Crypto\\HistoricalData.py:176: FutureWarning: The frame.append method is deprecated and will be removed from pandas in a future version. Use pandas.concat instead.\n",
      "  data = data.append(dataset)\n"
     ]
    },
    {
     "name": "stdout",
     "output_type": "stream",
     "text": [
      "Provisional Start: 2022-11-07T00:00:00\n",
      "Provisional End: 2023-09-03T00:00:00\n",
      "Data for chunk 2 of 2 extracted\n",
      "Saved to C:\\Users\\Roman\\Desktop\\DMLS_project\\Crypto\\OMG-BTC_diff.csv\n",
      "ERN-USD\n",
      "Checking input parameters are in the correct format.\n",
      "Formatting Dates.\n",
      "Checking if user supplied is available on the CoinBase Pro API.\n",
      "Connected to the CoinBase Pro API.\n",
      "Ticker 'ERN-USD' found at the CoinBase Pro API, continuing to extraction.\n",
      "Provisional Start: 2022-01-11T00:00:00\n",
      "Provisional End: 2022-11-07T00:00:00\n",
      "Data for chunk 1 of 2 extracted\n"
     ]
    },
    {
     "name": "stderr",
     "output_type": "stream",
     "text": [
      "C:\\Users\\Roman\\AppData\\Local\\Packages\\PythonSoftwareFoundation.Python.3.10_qbz5n2kfra8p0\\LocalCache\\local-packages\\Python310\\site-packages\\Historic_Crypto\\HistoricalData.py:176: FutureWarning: The frame.append method is deprecated and will be removed from pandas in a future version. Use pandas.concat instead.\n",
      "  data = data.append(dataset)\n"
     ]
    },
    {
     "name": "stdout",
     "output_type": "stream",
     "text": [
      "Provisional Start: 2022-11-07T00:00:00\n",
      "Provisional End: 2023-09-03T00:00:00\n",
      "Data for chunk 2 of 2 extracted\n",
      "Saved to C:\\Users\\Roman\\Desktop\\DMLS_project\\Crypto\\ERN-USD_diff.csv\n",
      "KSM-USDT\n",
      "Checking input parameters are in the correct format.\n",
      "Formatting Dates.\n",
      "Checking if user supplied is available on the CoinBase Pro API.\n",
      "Connected to the CoinBase Pro API.\n",
      "Ticker 'KSM-USDT' found at the CoinBase Pro API, continuing to extraction.\n",
      "Provisional Start: 2022-01-11T00:00:00\n",
      "Provisional End: 2022-11-07T00:00:00\n",
      "Data for chunk 1 of 2 extracted\n"
     ]
    },
    {
     "name": "stderr",
     "output_type": "stream",
     "text": [
      "C:\\Users\\Roman\\AppData\\Local\\Packages\\PythonSoftwareFoundation.Python.3.10_qbz5n2kfra8p0\\LocalCache\\local-packages\\Python310\\site-packages\\Historic_Crypto\\HistoricalData.py:176: FutureWarning: The frame.append method is deprecated and will be removed from pandas in a future version. Use pandas.concat instead.\n",
      "  data = data.append(dataset)\n"
     ]
    },
    {
     "name": "stdout",
     "output_type": "stream",
     "text": [
      "Provisional Start: 2022-11-07T00:00:00\n",
      "Provisional End: 2023-09-03T00:00:00\n",
      "Data for chunk 2 of 2 extracted\n",
      "Saved to C:\\Users\\Roman\\Desktop\\DMLS_project\\Crypto\\KSM-USDT_diff.csv\n",
      "ACH-USD\n",
      "Checking input parameters are in the correct format.\n",
      "Formatting Dates.\n",
      "Checking if user supplied is available on the CoinBase Pro API.\n",
      "Connected to the CoinBase Pro API.\n",
      "Ticker 'ACH-USD' found at the CoinBase Pro API, continuing to extraction.\n",
      "Provisional Start: 2022-01-11T00:00:00\n",
      "Provisional End: 2022-11-07T00:00:00\n",
      "Data for chunk 1 of 2 extracted\n"
     ]
    },
    {
     "name": "stderr",
     "output_type": "stream",
     "text": [
      "C:\\Users\\Roman\\AppData\\Local\\Packages\\PythonSoftwareFoundation.Python.3.10_qbz5n2kfra8p0\\LocalCache\\local-packages\\Python310\\site-packages\\Historic_Crypto\\HistoricalData.py:176: FutureWarning: The frame.append method is deprecated and will be removed from pandas in a future version. Use pandas.concat instead.\n",
      "  data = data.append(dataset)\n"
     ]
    },
    {
     "name": "stdout",
     "output_type": "stream",
     "text": [
      "Provisional Start: 2022-11-07T00:00:00\n",
      "Provisional End: 2023-09-03T00:00:00\n",
      "Data for chunk 2 of 2 extracted\n",
      "Saved to C:\\Users\\Roman\\Desktop\\DMLS_project\\Crypto\\ACH-USD_diff.csv\n",
      "HOPR-USD\n",
      "Checking input parameters are in the correct format.\n",
      "Formatting Dates.\n",
      "Checking if user supplied is available on the CoinBase Pro API.\n",
      "Connected to the CoinBase Pro API.\n",
      "Ticker 'HOPR-USD' found at the CoinBase Pro API, continuing to extraction.\n",
      "Provisional Start: 2022-01-11T00:00:00\n",
      "Provisional End: 2022-11-07T00:00:00\n",
      "Data for chunk 1 of 2 extracted\n",
      "Provisional Start: 2022-11-07T00:00:00\n",
      "Provisional End: 2023-09-03T00:00:00\n"
     ]
    },
    {
     "name": "stderr",
     "output_type": "stream",
     "text": [
      "C:\\Users\\Roman\\AppData\\Local\\Packages\\PythonSoftwareFoundation.Python.3.10_qbz5n2kfra8p0\\LocalCache\\local-packages\\Python310\\site-packages\\Historic_Crypto\\HistoricalData.py:176: FutureWarning: The frame.append method is deprecated and will be removed from pandas in a future version. Use pandas.concat instead.\n",
      "  data = data.append(dataset)\n"
     ]
    },
    {
     "name": "stdout",
     "output_type": "stream",
     "text": [
      "Data for chunk 2 of 2 extracted\n",
      "Saved to C:\\Users\\Roman\\Desktop\\DMLS_project\\Crypto\\HOPR-USD_diff.csv\n",
      "FORT-USD\n",
      "Checking input parameters are in the correct format.\n",
      "Formatting Dates.\n",
      "Checking if user supplied is available on the CoinBase Pro API.\n",
      "Connected to the CoinBase Pro API.\n",
      "Ticker 'FORT-USD' found at the CoinBase Pro API, continuing to extraction.\n",
      "Provisional Start: 2022-01-11T00:00:00\n",
      "Provisional End: 2022-11-07T00:00:00\n",
      "Data for chunk 1 of 2 extracted\n",
      "Provisional Start: 2022-11-07T00:00:00\n",
      "Provisional End: 2023-09-03T00:00:00\n"
     ]
    },
    {
     "name": "stderr",
     "output_type": "stream",
     "text": [
      "C:\\Users\\Roman\\AppData\\Local\\Packages\\PythonSoftwareFoundation.Python.3.10_qbz5n2kfra8p0\\LocalCache\\local-packages\\Python310\\site-packages\\Historic_Crypto\\HistoricalData.py:176: FutureWarning: The frame.append method is deprecated and will be removed from pandas in a future version. Use pandas.concat instead.\n",
      "  data = data.append(dataset)\n"
     ]
    },
    {
     "name": "stdout",
     "output_type": "stream",
     "text": [
      "Data for chunk 2 of 2 extracted\n",
      "Saved to C:\\Users\\Roman\\Desktop\\DMLS_project\\Crypto\\FORT-USD_diff.csv\n",
      "AMP-USD\n",
      "Checking input parameters are in the correct format.\n",
      "Formatting Dates.\n",
      "Checking if user supplied is available on the CoinBase Pro API.\n",
      "Connected to the CoinBase Pro API.\n",
      "Ticker 'AMP-USD' found at the CoinBase Pro API, continuing to extraction.\n",
      "Provisional Start: 2022-01-11T00:00:00\n",
      "Provisional End: 2022-11-07T00:00:00\n",
      "Data for chunk 1 of 2 extracted\n"
     ]
    },
    {
     "name": "stderr",
     "output_type": "stream",
     "text": [
      "C:\\Users\\Roman\\AppData\\Local\\Packages\\PythonSoftwareFoundation.Python.3.10_qbz5n2kfra8p0\\LocalCache\\local-packages\\Python310\\site-packages\\Historic_Crypto\\HistoricalData.py:176: FutureWarning: The frame.append method is deprecated and will be removed from pandas in a future version. Use pandas.concat instead.\n",
      "  data = data.append(dataset)\n"
     ]
    },
    {
     "name": "stdout",
     "output_type": "stream",
     "text": [
      "Provisional Start: 2022-11-07T00:00:00\n",
      "Provisional End: 2023-09-03T00:00:00\n",
      "Data for chunk 2 of 2 extracted\n",
      "Saved to C:\\Users\\Roman\\Desktop\\DMLS_project\\Crypto\\AMP-USD_diff.csv\n",
      "ASM-USD\n",
      "Checking input parameters are in the correct format.\n",
      "Formatting Dates.\n",
      "Checking if user supplied is available on the CoinBase Pro API.\n",
      "Connected to the CoinBase Pro API.\n",
      "Ticker 'ASM-USD' found at the CoinBase Pro API, continuing to extraction.\n",
      "Provisional Start: 2022-01-11T00:00:00\n",
      "Provisional End: 2022-11-07T00:00:00\n",
      "Data for chunk 1 of 2 extracted\n"
     ]
    },
    {
     "name": "stderr",
     "output_type": "stream",
     "text": [
      "C:\\Users\\Roman\\AppData\\Local\\Packages\\PythonSoftwareFoundation.Python.3.10_qbz5n2kfra8p0\\LocalCache\\local-packages\\Python310\\site-packages\\Historic_Crypto\\HistoricalData.py:176: FutureWarning: The frame.append method is deprecated and will be removed from pandas in a future version. Use pandas.concat instead.\n",
      "  data = data.append(dataset)\n"
     ]
    },
    {
     "name": "stdout",
     "output_type": "stream",
     "text": [
      "Provisional Start: 2022-11-07T00:00:00\n",
      "Provisional End: 2023-09-03T00:00:00\n",
      "Data for chunk 2 of 2 extracted\n",
      "Saved to C:\\Users\\Roman\\Desktop\\DMLS_project\\Crypto\\ASM-USD_diff.csv\n",
      "CRV-BTC\n",
      "Checking input parameters are in the correct format.\n",
      "Formatting Dates.\n",
      "Checking if user supplied is available on the CoinBase Pro API.\n",
      "Connected to the CoinBase Pro API.\n",
      "Ticker 'CRV-BTC' found at the CoinBase Pro API, continuing to extraction.\n",
      "Provisional Start: 2022-01-11T00:00:00\n",
      "Provisional End: 2022-11-07T00:00:00\n",
      "Data for chunk 1 of 2 extracted\n",
      "Provisional Start: 2022-11-07T00:00:00\n",
      "Provisional End: 2023-09-03T00:00:00\n"
     ]
    },
    {
     "name": "stderr",
     "output_type": "stream",
     "text": [
      "C:\\Users\\Roman\\AppData\\Local\\Packages\\PythonSoftwareFoundation.Python.3.10_qbz5n2kfra8p0\\LocalCache\\local-packages\\Python310\\site-packages\\Historic_Crypto\\HistoricalData.py:176: FutureWarning: The frame.append method is deprecated and will be removed from pandas in a future version. Use pandas.concat instead.\n",
      "  data = data.append(dataset)\n"
     ]
    },
    {
     "name": "stdout",
     "output_type": "stream",
     "text": [
      "Data for chunk 2 of 2 extracted\n",
      "Saved to C:\\Users\\Roman\\Desktop\\DMLS_project\\Crypto\\CRV-BTC_diff.csv\n",
      "ENJ-BTC\n",
      "Checking input parameters are in the correct format.\n",
      "Formatting Dates.\n",
      "Checking if user supplied is available on the CoinBase Pro API.\n",
      "Connected to the CoinBase Pro API.\n",
      "Ticker 'ENJ-BTC' found at the CoinBase Pro API, continuing to extraction.\n",
      "Provisional Start: 2022-01-11T00:00:00\n",
      "Provisional End: 2022-11-07T00:00:00\n",
      "Data for chunk 1 of 2 extracted\n"
     ]
    },
    {
     "name": "stderr",
     "output_type": "stream",
     "text": [
      "C:\\Users\\Roman\\AppData\\Local\\Packages\\PythonSoftwareFoundation.Python.3.10_qbz5n2kfra8p0\\LocalCache\\local-packages\\Python310\\site-packages\\Historic_Crypto\\HistoricalData.py:176: FutureWarning: The frame.append method is deprecated and will be removed from pandas in a future version. Use pandas.concat instead.\n",
      "  data = data.append(dataset)\n"
     ]
    },
    {
     "name": "stdout",
     "output_type": "stream",
     "text": [
      "Provisional Start: 2022-11-07T00:00:00\n",
      "Provisional End: 2023-09-03T00:00:00\n",
      "Data for chunk 2 of 2 extracted\n",
      "Saved to C:\\Users\\Roman\\Desktop\\DMLS_project\\Crypto\\ENJ-BTC_diff.csv\n",
      "XRP-EUR\n",
      "Checking input parameters are in the correct format.\n",
      "Formatting Dates.\n",
      "Checking if user supplied is available on the CoinBase Pro API.\n",
      "Connected to the CoinBase Pro API.\n",
      "Ticker 'XRP-EUR' found at the CoinBase Pro API, continuing to extraction.\n",
      "Provisional Start: 2022-01-11T00:00:00\n",
      "Provisional End: 2022-11-07T00:00:00\n",
      "Data for chunk 1 of 2 extracted\n",
      "CoinBase Pro API did not have available data for 'XRP-EUR' beginning at 2022-01-11-00-00.  \n",
      "                        Trying a later date:'2022-01-11T00:00:00'\n",
      "Provisional Start: 2022-11-07T00:00:00\n",
      "Provisional End: 2023-09-03T00:00:00\n",
      "Data for chunk 2 of 2 extracted\n",
      "CoinBase Pro API did not have available data for 'XRP-EUR' beginning at 2022-01-11-00-00.  \n",
      "                        Trying a later date:'2022-11-07T00:00:00'\n",
      "bad: XRP-EUR\n",
      "XRP-GBP\n",
      "Checking input parameters are in the correct format.\n",
      "Formatting Dates.\n",
      "Checking if user supplied is available on the CoinBase Pro API.\n",
      "Connected to the CoinBase Pro API.\n",
      "Ticker 'XRP-GBP' found at the CoinBase Pro API, continuing to extraction.\n",
      "Provisional Start: 2022-01-11T00:00:00\n",
      "Provisional End: 2022-11-07T00:00:00\n",
      "Data for chunk 1 of 2 extracted\n",
      "CoinBase Pro API did not have available data for 'XRP-GBP' beginning at 2022-01-11-00-00.  \n",
      "                        Trying a later date:'2022-01-11T00:00:00'\n",
      "Provisional Start: 2022-11-07T00:00:00\n",
      "Provisional End: 2023-09-03T00:00:00\n",
      "Data for chunk 2 of 2 extracted\n",
      "CoinBase Pro API did not have available data for 'XRP-GBP' beginning at 2022-01-11-00-00.  \n",
      "                        Trying a later date:'2022-11-07T00:00:00'\n",
      "bad: XRP-GBP\n",
      "ADA-ETH\n",
      "Checking input parameters are in the correct format.\n",
      "Formatting Dates.\n",
      "Checking if user supplied is available on the CoinBase Pro API.\n",
      "Connected to the CoinBase Pro API.\n",
      "Ticker 'ADA-ETH' found at the CoinBase Pro API, continuing to extraction.\n",
      "Provisional Start: 2022-01-11T00:00:00\n",
      "Provisional End: 2022-11-07T00:00:00\n",
      "Data for chunk 1 of 2 extracted\n",
      "Provisional Start: 2022-11-07T00:00:00\n",
      "Provisional End: 2023-09-03T00:00:00\n"
     ]
    },
    {
     "name": "stderr",
     "output_type": "stream",
     "text": [
      "C:\\Users\\Roman\\AppData\\Local\\Packages\\PythonSoftwareFoundation.Python.3.10_qbz5n2kfra8p0\\LocalCache\\local-packages\\Python310\\site-packages\\Historic_Crypto\\HistoricalData.py:176: FutureWarning: The frame.append method is deprecated and will be removed from pandas in a future version. Use pandas.concat instead.\n",
      "  data = data.append(dataset)\n"
     ]
    },
    {
     "name": "stdout",
     "output_type": "stream",
     "text": [
      "Data for chunk 2 of 2 extracted\n",
      "Saved to C:\\Users\\Roman\\Desktop\\DMLS_project\\Crypto\\ADA-ETH_diff.csv\n",
      "XYO-EUR\n",
      "Checking input parameters are in the correct format.\n",
      "Formatting Dates.\n",
      "Checking if user supplied is available on the CoinBase Pro API.\n",
      "Connected to the CoinBase Pro API.\n",
      "Ticker 'XYO-EUR' found at the CoinBase Pro API, continuing to extraction.\n",
      "Provisional Start: 2022-01-11T00:00:00\n",
      "Provisional End: 2022-11-07T00:00:00\n",
      "Data for chunk 1 of 2 extracted\n"
     ]
    },
    {
     "name": "stderr",
     "output_type": "stream",
     "text": [
      "C:\\Users\\Roman\\AppData\\Local\\Packages\\PythonSoftwareFoundation.Python.3.10_qbz5n2kfra8p0\\LocalCache\\local-packages\\Python310\\site-packages\\Historic_Crypto\\HistoricalData.py:176: FutureWarning: The frame.append method is deprecated and will be removed from pandas in a future version. Use pandas.concat instead.\n",
      "  data = data.append(dataset)\n"
     ]
    },
    {
     "name": "stdout",
     "output_type": "stream",
     "text": [
      "Provisional Start: 2022-11-07T00:00:00\n",
      "Provisional End: 2023-09-03T00:00:00\n",
      "Data for chunk 2 of 2 extracted\n",
      "Saved to C:\\Users\\Roman\\Desktop\\DMLS_project\\Crypto\\XYO-EUR_diff.csv\n",
      "TRU-USDT\n",
      "Checking input parameters are in the correct format.\n",
      "Formatting Dates.\n",
      "Checking if user supplied is available on the CoinBase Pro API.\n",
      "Connected to the CoinBase Pro API.\n",
      "Ticker 'TRU-USDT' found at the CoinBase Pro API, continuing to extraction.\n",
      "Provisional Start: 2022-01-11T00:00:00\n",
      "Provisional End: 2022-11-07T00:00:00\n",
      "Data for chunk 1 of 2 extracted\n"
     ]
    },
    {
     "name": "stderr",
     "output_type": "stream",
     "text": [
      "C:\\Users\\Roman\\AppData\\Local\\Packages\\PythonSoftwareFoundation.Python.3.10_qbz5n2kfra8p0\\LocalCache\\local-packages\\Python310\\site-packages\\Historic_Crypto\\HistoricalData.py:176: FutureWarning: The frame.append method is deprecated and will be removed from pandas in a future version. Use pandas.concat instead.\n",
      "  data = data.append(dataset)\n"
     ]
    },
    {
     "name": "stdout",
     "output_type": "stream",
     "text": [
      "Provisional Start: 2022-11-07T00:00:00\n",
      "Provisional End: 2023-09-03T00:00:00\n",
      "Data for chunk 2 of 2 extracted\n",
      "Saved to C:\\Users\\Roman\\Desktop\\DMLS_project\\Crypto\\TRU-USDT_diff.csv\n",
      "REQ-GBP\n",
      "Checking input parameters are in the correct format.\n",
      "Formatting Dates.\n",
      "Checking if user supplied is available on the CoinBase Pro API.\n",
      "Connected to the CoinBase Pro API.\n",
      "Ticker 'REQ-GBP' found at the CoinBase Pro API, continuing to extraction.\n",
      "Provisional Start: 2022-01-11T00:00:00\n",
      "Provisional End: 2022-11-07T00:00:00\n",
      "Data for chunk 1 of 2 extracted\n"
     ]
    },
    {
     "name": "stderr",
     "output_type": "stream",
     "text": [
      "C:\\Users\\Roman\\AppData\\Local\\Packages\\PythonSoftwareFoundation.Python.3.10_qbz5n2kfra8p0\\LocalCache\\local-packages\\Python310\\site-packages\\Historic_Crypto\\HistoricalData.py:176: FutureWarning: The frame.append method is deprecated and will be removed from pandas in a future version. Use pandas.concat instead.\n",
      "  data = data.append(dataset)\n"
     ]
    },
    {
     "name": "stdout",
     "output_type": "stream",
     "text": [
      "Provisional Start: 2022-11-07T00:00:00\n",
      "Provisional End: 2023-09-03T00:00:00\n",
      "Data for chunk 2 of 2 extracted\n",
      "Saved to C:\\Users\\Roman\\Desktop\\DMLS_project\\Crypto\\REQ-GBP_diff.csv\n",
      "DOT-USDT\n",
      "Checking input parameters are in the correct format.\n",
      "Formatting Dates.\n",
      "Checking if user supplied is available on the CoinBase Pro API.\n",
      "Connected to the CoinBase Pro API.\n",
      "Ticker 'DOT-USDT' found at the CoinBase Pro API, continuing to extraction.\n",
      "Provisional Start: 2022-01-11T00:00:00\n",
      "Provisional End: 2022-11-07T00:00:00\n",
      "Data for chunk 1 of 2 extracted\n"
     ]
    },
    {
     "name": "stderr",
     "output_type": "stream",
     "text": [
      "C:\\Users\\Roman\\AppData\\Local\\Packages\\PythonSoftwareFoundation.Python.3.10_qbz5n2kfra8p0\\LocalCache\\local-packages\\Python310\\site-packages\\Historic_Crypto\\HistoricalData.py:176: FutureWarning: The frame.append method is deprecated and will be removed from pandas in a future version. Use pandas.concat instead.\n",
      "  data = data.append(dataset)\n"
     ]
    },
    {
     "name": "stdout",
     "output_type": "stream",
     "text": [
      "Provisional Start: 2022-11-07T00:00:00\n",
      "Provisional End: 2023-09-03T00:00:00\n",
      "Data for chunk 2 of 2 extracted\n",
      "Saved to C:\\Users\\Roman\\Desktop\\DMLS_project\\Crypto\\DOT-USDT_diff.csv\n",
      "ANKR-BTC\n",
      "Checking input parameters are in the correct format.\n",
      "Formatting Dates.\n",
      "Checking if user supplied is available on the CoinBase Pro API.\n",
      "Connected to the CoinBase Pro API.\n",
      "Ticker 'ANKR-BTC' found at the CoinBase Pro API, continuing to extraction.\n",
      "Provisional Start: 2022-01-11T00:00:00\n",
      "Provisional End: 2022-11-07T00:00:00\n",
      "Data for chunk 1 of 2 extracted\n"
     ]
    },
    {
     "name": "stderr",
     "output_type": "stream",
     "text": [
      "C:\\Users\\Roman\\AppData\\Local\\Packages\\PythonSoftwareFoundation.Python.3.10_qbz5n2kfra8p0\\LocalCache\\local-packages\\Python310\\site-packages\\Historic_Crypto\\HistoricalData.py:176: FutureWarning: The frame.append method is deprecated and will be removed from pandas in a future version. Use pandas.concat instead.\n",
      "  data = data.append(dataset)\n"
     ]
    },
    {
     "name": "stdout",
     "output_type": "stream",
     "text": [
      "Provisional Start: 2022-11-07T00:00:00\n",
      "Provisional End: 2023-09-03T00:00:00\n",
      "Data for chunk 2 of 2 extracted\n",
      "Saved to C:\\Users\\Roman\\Desktop\\DMLS_project\\Crypto\\ANKR-BTC_diff.csv\n",
      "OMG-EUR\n",
      "Checking input parameters are in the correct format.\n",
      "Formatting Dates.\n",
      "Checking if user supplied is available on the CoinBase Pro API.\n",
      "Connected to the CoinBase Pro API.\n",
      "Ticker 'OMG-EUR' found at the CoinBase Pro API, continuing to extraction.\n",
      "Provisional Start: 2022-01-11T00:00:00\n",
      "Provisional End: 2022-11-07T00:00:00\n",
      "Data for chunk 1 of 2 extracted\n",
      "Provisional Start: 2022-11-07T00:00:00\n",
      "Provisional End: 2023-09-03T00:00:00\n"
     ]
    },
    {
     "name": "stderr",
     "output_type": "stream",
     "text": [
      "C:\\Users\\Roman\\AppData\\Local\\Packages\\PythonSoftwareFoundation.Python.3.10_qbz5n2kfra8p0\\LocalCache\\local-packages\\Python310\\site-packages\\Historic_Crypto\\HistoricalData.py:176: FutureWarning: The frame.append method is deprecated and will be removed from pandas in a future version. Use pandas.concat instead.\n",
      "  data = data.append(dataset)\n"
     ]
    },
    {
     "name": "stdout",
     "output_type": "stream",
     "text": [
      "Data for chunk 2 of 2 extracted\n",
      "Saved to C:\\Users\\Roman\\Desktop\\DMLS_project\\Crypto\\OMG-EUR_diff.csv\n",
      "CTSI-BTC\n",
      "Checking input parameters are in the correct format.\n",
      "Formatting Dates.\n",
      "Checking if user supplied is available on the CoinBase Pro API.\n",
      "Connected to the CoinBase Pro API.\n",
      "Ticker 'CTSI-BTC' found at the CoinBase Pro API, continuing to extraction.\n",
      "Provisional Start: 2022-01-11T00:00:00\n",
      "Provisional End: 2022-11-07T00:00:00\n",
      "Data for chunk 1 of 2 extracted\n"
     ]
    },
    {
     "name": "stderr",
     "output_type": "stream",
     "text": [
      "C:\\Users\\Roman\\AppData\\Local\\Packages\\PythonSoftwareFoundation.Python.3.10_qbz5n2kfra8p0\\LocalCache\\local-packages\\Python310\\site-packages\\Historic_Crypto\\HistoricalData.py:176: FutureWarning: The frame.append method is deprecated and will be removed from pandas in a future version. Use pandas.concat instead.\n",
      "  data = data.append(dataset)\n"
     ]
    },
    {
     "name": "stdout",
     "output_type": "stream",
     "text": [
      "Provisional Start: 2022-11-07T00:00:00\n",
      "Provisional End: 2023-09-03T00:00:00\n",
      "Data for chunk 2 of 2 extracted\n",
      "Saved to C:\\Users\\Roman\\Desktop\\DMLS_project\\Crypto\\CTSI-BTC_diff.csv\n",
      "BAND-USD\n",
      "Checking input parameters are in the correct format.\n",
      "Formatting Dates.\n",
      "Checking if user supplied is available on the CoinBase Pro API.\n",
      "Connected to the CoinBase Pro API.\n",
      "Ticker 'BAND-USD' found at the CoinBase Pro API, continuing to extraction.\n",
      "Provisional Start: 2022-01-11T00:00:00\n",
      "Provisional End: 2022-11-07T00:00:00\n",
      "Data for chunk 1 of 2 extracted\n"
     ]
    },
    {
     "name": "stderr",
     "output_type": "stream",
     "text": [
      "C:\\Users\\Roman\\AppData\\Local\\Packages\\PythonSoftwareFoundation.Python.3.10_qbz5n2kfra8p0\\LocalCache\\local-packages\\Python310\\site-packages\\Historic_Crypto\\HistoricalData.py:176: FutureWarning: The frame.append method is deprecated and will be removed from pandas in a future version. Use pandas.concat instead.\n",
      "  data = data.append(dataset)\n"
     ]
    },
    {
     "name": "stdout",
     "output_type": "stream",
     "text": [
      "Provisional Start: 2022-11-07T00:00:00\n",
      "Provisional End: 2023-09-03T00:00:00\n",
      "Data for chunk 2 of 2 extracted\n",
      "Saved to C:\\Users\\Roman\\Desktop\\DMLS_project\\Crypto\\BAND-USD_diff.csv\n",
      "RARI-USD\n",
      "Checking input parameters are in the correct format.\n",
      "Formatting Dates.\n",
      "Checking if user supplied is available on the CoinBase Pro API.\n",
      "Connected to the CoinBase Pro API.\n",
      "Ticker 'RARI-USD' found at the CoinBase Pro API, continuing to extraction.\n",
      "Provisional Start: 2022-01-11T00:00:00\n",
      "Provisional End: 2022-11-07T00:00:00\n",
      "Data for chunk 1 of 2 extracted\n"
     ]
    },
    {
     "name": "stderr",
     "output_type": "stream",
     "text": [
      "C:\\Users\\Roman\\AppData\\Local\\Packages\\PythonSoftwareFoundation.Python.3.10_qbz5n2kfra8p0\\LocalCache\\local-packages\\Python310\\site-packages\\Historic_Crypto\\HistoricalData.py:176: FutureWarning: The frame.append method is deprecated and will be removed from pandas in a future version. Use pandas.concat instead.\n",
      "  data = data.append(dataset)\n"
     ]
    },
    {
     "name": "stdout",
     "output_type": "stream",
     "text": [
      "Provisional Start: 2022-11-07T00:00:00\n",
      "Provisional End: 2023-09-03T00:00:00\n",
      "Data for chunk 2 of 2 extracted\n",
      "Saved to C:\\Users\\Roman\\Desktop\\DMLS_project\\Crypto\\RARI-USD_diff.csv\n",
      "RLY-EUR\n",
      "Checking input parameters are in the correct format.\n",
      "Formatting Dates.\n",
      "Checking if user supplied is available on the CoinBase Pro API.\n",
      "Connected to the CoinBase Pro API.\n",
      "Ticker 'RLY-EUR' found at the CoinBase Pro API, continuing to extraction.\n",
      "Provisional Start: 2022-01-11T00:00:00\n",
      "Provisional End: 2022-11-07T00:00:00\n",
      "Data for chunk 1 of 2 extracted\n"
     ]
    },
    {
     "name": "stderr",
     "output_type": "stream",
     "text": [
      "C:\\Users\\Roman\\AppData\\Local\\Packages\\PythonSoftwareFoundation.Python.3.10_qbz5n2kfra8p0\\LocalCache\\local-packages\\Python310\\site-packages\\Historic_Crypto\\HistoricalData.py:176: FutureWarning: The frame.append method is deprecated and will be removed from pandas in a future version. Use pandas.concat instead.\n",
      "  data = data.append(dataset)\n"
     ]
    },
    {
     "name": "stdout",
     "output_type": "stream",
     "text": [
      "Provisional Start: 2022-11-07T00:00:00\n",
      "Provisional End: 2023-09-03T00:00:00\n",
      "Data for chunk 2 of 2 extracted\n",
      "Saved to C:\\Users\\Roman\\Desktop\\DMLS_project\\Crypto\\RLY-EUR_diff.csv\n",
      "ZRX-BTC\n",
      "Checking input parameters are in the correct format.\n",
      "Formatting Dates.\n",
      "Checking if user supplied is available on the CoinBase Pro API.\n",
      "Connected to the CoinBase Pro API.\n",
      "Ticker 'ZRX-BTC' found at the CoinBase Pro API, continuing to extraction.\n",
      "Provisional Start: 2022-01-11T00:00:00\n",
      "Provisional End: 2022-11-07T00:00:00\n",
      "Data for chunk 1 of 2 extracted\n"
     ]
    },
    {
     "name": "stderr",
     "output_type": "stream",
     "text": [
      "C:\\Users\\Roman\\AppData\\Local\\Packages\\PythonSoftwareFoundation.Python.3.10_qbz5n2kfra8p0\\LocalCache\\local-packages\\Python310\\site-packages\\Historic_Crypto\\HistoricalData.py:176: FutureWarning: The frame.append method is deprecated and will be removed from pandas in a future version. Use pandas.concat instead.\n",
      "  data = data.append(dataset)\n"
     ]
    },
    {
     "name": "stdout",
     "output_type": "stream",
     "text": [
      "Provisional Start: 2022-11-07T00:00:00\n",
      "Provisional End: 2023-09-03T00:00:00\n",
      "Data for chunk 2 of 2 extracted\n",
      "Saved to C:\\Users\\Roman\\Desktop\\DMLS_project\\Crypto\\ZRX-BTC_diff.csv\n",
      "ATA-USDT\n",
      "Checking input parameters are in the correct format.\n",
      "Formatting Dates.\n",
      "Checking if user supplied is available on the CoinBase Pro API.\n",
      "Connected to the CoinBase Pro API.\n",
      "Ticker 'ATA-USDT' found at the CoinBase Pro API, continuing to extraction.\n",
      "Provisional Start: 2022-01-11T00:00:00\n",
      "Provisional End: 2022-11-07T00:00:00\n",
      "Data for chunk 1 of 2 extracted\n",
      "Provisional Start: 2022-11-07T00:00:00\n",
      "Provisional End: 2023-09-03T00:00:00\n"
     ]
    },
    {
     "name": "stderr",
     "output_type": "stream",
     "text": [
      "C:\\Users\\Roman\\AppData\\Local\\Packages\\PythonSoftwareFoundation.Python.3.10_qbz5n2kfra8p0\\LocalCache\\local-packages\\Python310\\site-packages\\Historic_Crypto\\HistoricalData.py:176: FutureWarning: The frame.append method is deprecated and will be removed from pandas in a future version. Use pandas.concat instead.\n",
      "  data = data.append(dataset)\n"
     ]
    },
    {
     "name": "stdout",
     "output_type": "stream",
     "text": [
      "Data for chunk 2 of 2 extracted\n",
      "Saved to C:\\Users\\Roman\\Desktop\\DMLS_project\\Crypto\\ATA-USDT_diff.csv\n",
      "POWR-EUR\n",
      "Checking input parameters are in the correct format.\n",
      "Formatting Dates.\n",
      "Checking if user supplied is available on the CoinBase Pro API.\n",
      "Connected to the CoinBase Pro API.\n",
      "Ticker 'POWR-EUR' found at the CoinBase Pro API, continuing to extraction.\n",
      "Provisional Start: 2022-01-11T00:00:00\n",
      "Provisional End: 2022-11-07T00:00:00\n",
      "Data for chunk 1 of 2 extracted\n"
     ]
    },
    {
     "name": "stderr",
     "output_type": "stream",
     "text": [
      "C:\\Users\\Roman\\AppData\\Local\\Packages\\PythonSoftwareFoundation.Python.3.10_qbz5n2kfra8p0\\LocalCache\\local-packages\\Python310\\site-packages\\Historic_Crypto\\HistoricalData.py:176: FutureWarning: The frame.append method is deprecated and will be removed from pandas in a future version. Use pandas.concat instead.\n",
      "  data = data.append(dataset)\n"
     ]
    },
    {
     "name": "stdout",
     "output_type": "stream",
     "text": [
      "Provisional Start: 2022-11-07T00:00:00\n",
      "Provisional End: 2023-09-03T00:00:00\n",
      "Data for chunk 2 of 2 extracted\n",
      "Saved to C:\\Users\\Roman\\Desktop\\DMLS_project\\Crypto\\POWR-EUR_diff.csv\n",
      "CRO-USD\n",
      "Checking input parameters are in the correct format.\n",
      "Formatting Dates.\n",
      "Checking if user supplied is available on the CoinBase Pro API.\n",
      "Connected to the CoinBase Pro API.\n",
      "Ticker 'CRO-USD' found at the CoinBase Pro API, continuing to extraction.\n",
      "Provisional Start: 2022-01-11T00:00:00\n",
      "Provisional End: 2022-11-07T00:00:00\n",
      "Data for chunk 1 of 2 extracted\n"
     ]
    },
    {
     "name": "stderr",
     "output_type": "stream",
     "text": [
      "C:\\Users\\Roman\\AppData\\Local\\Packages\\PythonSoftwareFoundation.Python.3.10_qbz5n2kfra8p0\\LocalCache\\local-packages\\Python310\\site-packages\\Historic_Crypto\\HistoricalData.py:176: FutureWarning: The frame.append method is deprecated and will be removed from pandas in a future version. Use pandas.concat instead.\n",
      "  data = data.append(dataset)\n"
     ]
    },
    {
     "name": "stdout",
     "output_type": "stream",
     "text": [
      "Provisional Start: 2022-11-07T00:00:00\n",
      "Provisional End: 2023-09-03T00:00:00\n",
      "Data for chunk 2 of 2 extracted\n",
      "Saved to C:\\Users\\Roman\\Desktop\\DMLS_project\\Crypto\\CRO-USD_diff.csv\n",
      "DREP-USDT\n",
      "Checking input parameters are in the correct format.\n",
      "Formatting Dates.\n",
      "Checking if user supplied is available on the CoinBase Pro API.\n",
      "Connected to the CoinBase Pro API.\n",
      "Ticker 'DREP-USDT' found at the CoinBase Pro API, continuing to extraction.\n",
      "Provisional Start: 2022-01-11T00:00:00\n",
      "Provisional End: 2022-11-07T00:00:00\n",
      "Data for chunk 1 of 2 extracted\n",
      "Provisional Start: 2022-11-07T00:00:00\n",
      "Provisional End: 2023-09-03T00:00:00\n"
     ]
    },
    {
     "name": "stderr",
     "output_type": "stream",
     "text": [
      "C:\\Users\\Roman\\AppData\\Local\\Packages\\PythonSoftwareFoundation.Python.3.10_qbz5n2kfra8p0\\LocalCache\\local-packages\\Python310\\site-packages\\Historic_Crypto\\HistoricalData.py:176: FutureWarning: The frame.append method is deprecated and will be removed from pandas in a future version. Use pandas.concat instead.\n",
      "  data = data.append(dataset)\n"
     ]
    },
    {
     "name": "stdout",
     "output_type": "stream",
     "text": [
      "Data for chunk 2 of 2 extracted\n",
      "Saved to C:\\Users\\Roman\\Desktop\\DMLS_project\\Crypto\\DREP-USDT_diff.csv\n",
      "BAT-ETH\n",
      "Checking input parameters are in the correct format.\n",
      "Formatting Dates.\n",
      "Checking if user supplied is available on the CoinBase Pro API.\n",
      "Connected to the CoinBase Pro API.\n",
      "Ticker 'BAT-ETH' found at the CoinBase Pro API, continuing to extraction.\n",
      "Provisional Start: 2022-01-11T00:00:00\n",
      "Provisional End: 2022-11-07T00:00:00\n",
      "Data for chunk 1 of 2 extracted\n"
     ]
    },
    {
     "name": "stderr",
     "output_type": "stream",
     "text": [
      "C:\\Users\\Roman\\AppData\\Local\\Packages\\PythonSoftwareFoundation.Python.3.10_qbz5n2kfra8p0\\LocalCache\\local-packages\\Python310\\site-packages\\Historic_Crypto\\HistoricalData.py:176: FutureWarning: The frame.append method is deprecated and will be removed from pandas in a future version. Use pandas.concat instead.\n",
      "  data = data.append(dataset)\n"
     ]
    },
    {
     "name": "stdout",
     "output_type": "stream",
     "text": [
      "Provisional Start: 2022-11-07T00:00:00\n",
      "Provisional End: 2023-09-03T00:00:00\n",
      "Data for chunk 2 of 2 extracted\n",
      "Saved to C:\\Users\\Roman\\Desktop\\DMLS_project\\Crypto\\BAT-ETH_diff.csv\n",
      "CGLD-GBP\n",
      "Checking input parameters are in the correct format.\n",
      "Formatting Dates.\n",
      "Checking if user supplied is available on the CoinBase Pro API.\n",
      "Connected to the CoinBase Pro API.\n",
      "Ticker 'CGLD-GBP' found at the CoinBase Pro API, continuing to extraction.\n",
      "Provisional Start: 2022-01-11T00:00:00\n",
      "Provisional End: 2022-11-07T00:00:00\n",
      "Data for chunk 1 of 2 extracted\n",
      "Provisional Start: 2022-11-07T00:00:00\n",
      "Provisional End: 2023-09-03T00:00:00\n"
     ]
    },
    {
     "name": "stderr",
     "output_type": "stream",
     "text": [
      "C:\\Users\\Roman\\AppData\\Local\\Packages\\PythonSoftwareFoundation.Python.3.10_qbz5n2kfra8p0\\LocalCache\\local-packages\\Python310\\site-packages\\Historic_Crypto\\HistoricalData.py:176: FutureWarning: The frame.append method is deprecated and will be removed from pandas in a future version. Use pandas.concat instead.\n",
      "  data = data.append(dataset)\n"
     ]
    },
    {
     "name": "stdout",
     "output_type": "stream",
     "text": [
      "Data for chunk 2 of 2 extracted\n",
      "Saved to C:\\Users\\Roman\\Desktop\\DMLS_project\\Crypto\\CGLD-GBP_diff.csv\n",
      "MLN-USD\n",
      "Checking input parameters are in the correct format.\n",
      "Formatting Dates.\n",
      "Checking if user supplied is available on the CoinBase Pro API.\n",
      "Connected to the CoinBase Pro API.\n",
      "Ticker 'MLN-USD' found at the CoinBase Pro API, continuing to extraction.\n",
      "Provisional Start: 2022-01-11T00:00:00\n",
      "Provisional End: 2022-11-07T00:00:00\n",
      "Data for chunk 1 of 2 extracted\n"
     ]
    },
    {
     "name": "stderr",
     "output_type": "stream",
     "text": [
      "C:\\Users\\Roman\\AppData\\Local\\Packages\\PythonSoftwareFoundation.Python.3.10_qbz5n2kfra8p0\\LocalCache\\local-packages\\Python310\\site-packages\\Historic_Crypto\\HistoricalData.py:176: FutureWarning: The frame.append method is deprecated and will be removed from pandas in a future version. Use pandas.concat instead.\n",
      "  data = data.append(dataset)\n"
     ]
    },
    {
     "name": "stdout",
     "output_type": "stream",
     "text": [
      "Provisional Start: 2022-11-07T00:00:00\n",
      "Provisional End: 2023-09-03T00:00:00\n",
      "Data for chunk 2 of 2 extracted\n",
      "Saved to C:\\Users\\Roman\\Desktop\\DMLS_project\\Crypto\\MLN-USD_diff.csv\n",
      "ANKR-GBP\n",
      "Checking input parameters are in the correct format.\n",
      "Formatting Dates.\n",
      "Checking if user supplied is available on the CoinBase Pro API.\n",
      "Connected to the CoinBase Pro API.\n",
      "Ticker 'ANKR-GBP' found at the CoinBase Pro API, continuing to extraction.\n",
      "Provisional Start: 2022-01-11T00:00:00\n",
      "Provisional End: 2022-11-07T00:00:00\n",
      "Data for chunk 1 of 2 extracted\n"
     ]
    },
    {
     "name": "stderr",
     "output_type": "stream",
     "text": [
      "C:\\Users\\Roman\\AppData\\Local\\Packages\\PythonSoftwareFoundation.Python.3.10_qbz5n2kfra8p0\\LocalCache\\local-packages\\Python310\\site-packages\\Historic_Crypto\\HistoricalData.py:176: FutureWarning: The frame.append method is deprecated and will be removed from pandas in a future version. Use pandas.concat instead.\n",
      "  data = data.append(dataset)\n"
     ]
    },
    {
     "name": "stdout",
     "output_type": "stream",
     "text": [
      "Provisional Start: 2022-11-07T00:00:00\n",
      "Provisional End: 2023-09-03T00:00:00\n",
      "Data for chunk 2 of 2 extracted\n",
      "Saved to C:\\Users\\Roman\\Desktop\\DMLS_project\\Crypto\\ANKR-GBP_diff.csv\n",
      "OXT-USD\n",
      "Checking input parameters are in the correct format.\n",
      "Formatting Dates.\n",
      "Checking if user supplied is available on the CoinBase Pro API.\n",
      "Connected to the CoinBase Pro API.\n",
      "Ticker 'OXT-USD' found at the CoinBase Pro API, continuing to extraction.\n",
      "Provisional Start: 2022-01-11T00:00:00\n",
      "Provisional End: 2022-11-07T00:00:00\n",
      "Data for chunk 1 of 2 extracted\n",
      "Provisional Start: 2022-11-07T00:00:00\n",
      "Provisional End: 2023-09-03T00:00:00\n"
     ]
    },
    {
     "name": "stderr",
     "output_type": "stream",
     "text": [
      "C:\\Users\\Roman\\AppData\\Local\\Packages\\PythonSoftwareFoundation.Python.3.10_qbz5n2kfra8p0\\LocalCache\\local-packages\\Python310\\site-packages\\Historic_Crypto\\HistoricalData.py:176: FutureWarning: The frame.append method is deprecated and will be removed from pandas in a future version. Use pandas.concat instead.\n",
      "  data = data.append(dataset)\n"
     ]
    },
    {
     "name": "stdout",
     "output_type": "stream",
     "text": [
      "Data for chunk 2 of 2 extracted\n",
      "Saved to C:\\Users\\Roman\\Desktop\\DMLS_project\\Crypto\\OXT-USD_diff.csv\n",
      "DDX-USDT\n",
      "Checking input parameters are in the correct format.\n",
      "Formatting Dates.\n",
      "Checking if user supplied is available on the CoinBase Pro API.\n",
      "Connected to the CoinBase Pro API.\n",
      "Ticker 'DDX-USDT' found at the CoinBase Pro API, continuing to extraction.\n",
      "Provisional Start: 2022-01-11T00:00:00\n",
      "Provisional End: 2022-11-07T00:00:00\n",
      "Data for chunk 1 of 2 extracted\n"
     ]
    },
    {
     "name": "stderr",
     "output_type": "stream",
     "text": [
      "C:\\Users\\Roman\\AppData\\Local\\Packages\\PythonSoftwareFoundation.Python.3.10_qbz5n2kfra8p0\\LocalCache\\local-packages\\Python310\\site-packages\\Historic_Crypto\\HistoricalData.py:176: FutureWarning: The frame.append method is deprecated and will be removed from pandas in a future version. Use pandas.concat instead.\n",
      "  data = data.append(dataset)\n"
     ]
    },
    {
     "name": "stdout",
     "output_type": "stream",
     "text": [
      "Provisional Start: 2022-11-07T00:00:00\n",
      "Provisional End: 2023-09-03T00:00:00\n",
      "Data for chunk 2 of 2 extracted\n",
      "Saved to C:\\Users\\Roman\\Desktop\\DMLS_project\\Crypto\\DDX-USDT_diff.csv\n",
      "ANT-USD\n",
      "Checking input parameters are in the correct format.\n",
      "Formatting Dates.\n",
      "Checking if user supplied is available on the CoinBase Pro API.\n",
      "Connected to the CoinBase Pro API.\n",
      "Ticker 'ANT-USD' found at the CoinBase Pro API, continuing to extraction.\n",
      "Provisional Start: 2022-01-11T00:00:00\n",
      "Provisional End: 2022-11-07T00:00:00\n",
      "Data for chunk 1 of 2 extracted\n",
      "CoinBase Pro API did not have available data for 'ANT-USD' beginning at 2022-01-11-00-00.  \n",
      "                        Trying a later date:'2022-01-11T00:00:00'\n",
      "Provisional Start: 2022-11-07T00:00:00\n",
      "Provisional End: 2023-09-03T00:00:00\n",
      "Data for chunk 2 of 2 extracted\n",
      "Saved to C:\\Users\\Roman\\Desktop\\DMLS_project\\Crypto\\ANT-USD_diff.csv\n",
      "CLV-EUR\n",
      "Checking input parameters are in the correct format.\n",
      "Formatting Dates.\n",
      "Checking if user supplied is available on the CoinBase Pro API.\n",
      "Connected to the CoinBase Pro API.\n",
      "Ticker 'CLV-EUR' found at the CoinBase Pro API, continuing to extraction.\n",
      "Provisional Start: 2022-01-11T00:00:00\n",
      "Provisional End: 2022-11-07T00:00:00\n"
     ]
    },
    {
     "name": "stderr",
     "output_type": "stream",
     "text": [
      "C:\\Users\\Roman\\AppData\\Local\\Packages\\PythonSoftwareFoundation.Python.3.10_qbz5n2kfra8p0\\LocalCache\\local-packages\\Python310\\site-packages\\Historic_Crypto\\HistoricalData.py:176: FutureWarning: The frame.append method is deprecated and will be removed from pandas in a future version. Use pandas.concat instead.\n",
      "  data = data.append(dataset)\n"
     ]
    },
    {
     "name": "stdout",
     "output_type": "stream",
     "text": [
      "Data for chunk 1 of 2 extracted\n"
     ]
    },
    {
     "name": "stderr",
     "output_type": "stream",
     "text": [
      "C:\\Users\\Roman\\AppData\\Local\\Packages\\PythonSoftwareFoundation.Python.3.10_qbz5n2kfra8p0\\LocalCache\\local-packages\\Python310\\site-packages\\Historic_Crypto\\HistoricalData.py:176: FutureWarning: The frame.append method is deprecated and will be removed from pandas in a future version. Use pandas.concat instead.\n",
      "  data = data.append(dataset)\n"
     ]
    },
    {
     "name": "stdout",
     "output_type": "stream",
     "text": [
      "Provisional Start: 2022-11-07T00:00:00\n",
      "Provisional End: 2023-09-03T00:00:00\n",
      "Data for chunk 2 of 2 extracted\n",
      "Saved to C:\\Users\\Roman\\Desktop\\DMLS_project\\Crypto\\CLV-EUR_diff.csv\n",
      "NMR-BTC\n",
      "Checking input parameters are in the correct format.\n",
      "Formatting Dates.\n",
      "Checking if user supplied is available on the CoinBase Pro API.\n",
      "Connected to the CoinBase Pro API.\n",
      "Ticker 'NMR-BTC' found at the CoinBase Pro API, continuing to extraction.\n",
      "Provisional Start: 2022-01-11T00:00:00\n",
      "Provisional End: 2022-11-07T00:00:00\n",
      "Data for chunk 1 of 2 extracted\n"
     ]
    },
    {
     "name": "stderr",
     "output_type": "stream",
     "text": [
      "C:\\Users\\Roman\\AppData\\Local\\Packages\\PythonSoftwareFoundation.Python.3.10_qbz5n2kfra8p0\\LocalCache\\local-packages\\Python310\\site-packages\\Historic_Crypto\\HistoricalData.py:176: FutureWarning: The frame.append method is deprecated and will be removed from pandas in a future version. Use pandas.concat instead.\n",
      "  data = data.append(dataset)\n"
     ]
    },
    {
     "name": "stdout",
     "output_type": "stream",
     "text": [
      "Provisional Start: 2022-11-07T00:00:00\n",
      "Provisional End: 2023-09-03T00:00:00\n",
      "Data for chunk 2 of 2 extracted\n",
      "Saved to C:\\Users\\Roman\\Desktop\\DMLS_project\\Crypto\\NMR-BTC_diff.csv\n",
      "HOPR-USDT\n",
      "Checking input parameters are in the correct format.\n",
      "Formatting Dates.\n",
      "Checking if user supplied is available on the CoinBase Pro API.\n",
      "Connected to the CoinBase Pro API.\n",
      "Ticker 'HOPR-USDT' found at the CoinBase Pro API, continuing to extraction.\n",
      "Provisional Start: 2022-01-11T00:00:00\n",
      "Provisional End: 2022-11-07T00:00:00\n",
      "Data for chunk 1 of 2 extracted\n"
     ]
    },
    {
     "name": "stderr",
     "output_type": "stream",
     "text": [
      "C:\\Users\\Roman\\AppData\\Local\\Packages\\PythonSoftwareFoundation.Python.3.10_qbz5n2kfra8p0\\LocalCache\\local-packages\\Python310\\site-packages\\Historic_Crypto\\HistoricalData.py:176: FutureWarning: The frame.append method is deprecated and will be removed from pandas in a future version. Use pandas.concat instead.\n",
      "  data = data.append(dataset)\n"
     ]
    },
    {
     "name": "stdout",
     "output_type": "stream",
     "text": [
      "Provisional Start: 2022-11-07T00:00:00\n",
      "Provisional End: 2023-09-03T00:00:00\n",
      "Data for chunk 2 of 2 extracted\n",
      "Saved to C:\\Users\\Roman\\Desktop\\DMLS_project\\Crypto\\HOPR-USDT_diff.csv\n",
      "MTL-USD\n",
      "Checking input parameters are in the correct format.\n",
      "Formatting Dates.\n",
      "Checking if user supplied is available on the CoinBase Pro API.\n",
      "Connected to the CoinBase Pro API.\n",
      "Ticker 'MTL-USD' found at the CoinBase Pro API, continuing to extraction.\n",
      "Provisional Start: 2022-01-11T00:00:00\n",
      "Provisional End: 2022-11-07T00:00:00\n",
      "Data for chunk 1 of 2 extracted\n"
     ]
    },
    {
     "name": "stderr",
     "output_type": "stream",
     "text": [
      "C:\\Users\\Roman\\AppData\\Local\\Packages\\PythonSoftwareFoundation.Python.3.10_qbz5n2kfra8p0\\LocalCache\\local-packages\\Python310\\site-packages\\Historic_Crypto\\HistoricalData.py:176: FutureWarning: The frame.append method is deprecated and will be removed from pandas in a future version. Use pandas.concat instead.\n",
      "  data = data.append(dataset)\n"
     ]
    },
    {
     "name": "stdout",
     "output_type": "stream",
     "text": [
      "Provisional Start: 2022-11-07T00:00:00\n",
      "Provisional End: 2023-09-03T00:00:00\n",
      "Data for chunk 2 of 2 extracted\n",
      "Saved to C:\\Users\\Roman\\Desktop\\DMLS_project\\Crypto\\MTL-USD_diff.csv\n",
      "BTRST-GBP\n",
      "Checking input parameters are in the correct format.\n",
      "Formatting Dates.\n",
      "Checking if user supplied is available on the CoinBase Pro API.\n",
      "Connected to the CoinBase Pro API.\n",
      "Ticker 'BTRST-GBP' found at the CoinBase Pro API, continuing to extraction.\n",
      "Provisional Start: 2022-01-11T00:00:00\n",
      "Provisional End: 2022-11-07T00:00:00\n",
      "Data for chunk 1 of 2 extracted\n",
      "Provisional Start: 2022-11-07T00:00:00\n",
      "Provisional End: 2023-09-03T00:00:00\n"
     ]
    },
    {
     "name": "stderr",
     "output_type": "stream",
     "text": [
      "C:\\Users\\Roman\\AppData\\Local\\Packages\\PythonSoftwareFoundation.Python.3.10_qbz5n2kfra8p0\\LocalCache\\local-packages\\Python310\\site-packages\\Historic_Crypto\\HistoricalData.py:176: FutureWarning: The frame.append method is deprecated and will be removed from pandas in a future version. Use pandas.concat instead.\n",
      "  data = data.append(dataset)\n"
     ]
    },
    {
     "name": "stdout",
     "output_type": "stream",
     "text": [
      "Data for chunk 2 of 2 extracted\n",
      "Saved to C:\\Users\\Roman\\Desktop\\DMLS_project\\Crypto\\BTRST-GBP_diff.csv\n",
      "MATH-USD\n",
      "Checking input parameters are in the correct format.\n",
      "Formatting Dates.\n",
      "Checking if user supplied is available on the CoinBase Pro API.\n",
      "Connected to the CoinBase Pro API.\n",
      "Ticker 'MATH-USD' found at the CoinBase Pro API, continuing to extraction.\n",
      "Provisional Start: 2022-01-11T00:00:00\n",
      "Provisional End: 2022-11-07T00:00:00\n",
      "Data for chunk 1 of 2 extracted\n"
     ]
    },
    {
     "name": "stderr",
     "output_type": "stream",
     "text": [
      "C:\\Users\\Roman\\AppData\\Local\\Packages\\PythonSoftwareFoundation.Python.3.10_qbz5n2kfra8p0\\LocalCache\\local-packages\\Python310\\site-packages\\Historic_Crypto\\HistoricalData.py:176: FutureWarning: The frame.append method is deprecated and will be removed from pandas in a future version. Use pandas.concat instead.\n",
      "  data = data.append(dataset)\n"
     ]
    },
    {
     "name": "stdout",
     "output_type": "stream",
     "text": [
      "Provisional Start: 2022-11-07T00:00:00\n",
      "Provisional End: 2023-09-03T00:00:00\n",
      "Data for chunk 2 of 2 extracted\n",
      "Saved to C:\\Users\\Roman\\Desktop\\DMLS_project\\Crypto\\MATH-USD_diff.csv\n",
      "TIME-USD\n",
      "Checking input parameters are in the correct format.\n",
      "Formatting Dates.\n",
      "Checking if user supplied is available on the CoinBase Pro API.\n",
      "Connected to the CoinBase Pro API.\n",
      "Ticker 'TIME-USD' found at the CoinBase Pro API, continuing to extraction.\n",
      "Provisional Start: 2022-01-11T00:00:00\n",
      "Provisional End: 2022-11-07T00:00:00\n",
      "Data for chunk 1 of 2 extracted\n",
      "Provisional Start: 2022-11-07T00:00:00\n",
      "Provisional End: 2023-09-03T00:00:00\n"
     ]
    },
    {
     "name": "stderr",
     "output_type": "stream",
     "text": [
      "C:\\Users\\Roman\\AppData\\Local\\Packages\\PythonSoftwareFoundation.Python.3.10_qbz5n2kfra8p0\\LocalCache\\local-packages\\Python310\\site-packages\\Historic_Crypto\\HistoricalData.py:176: FutureWarning: The frame.append method is deprecated and will be removed from pandas in a future version. Use pandas.concat instead.\n",
      "  data = data.append(dataset)\n"
     ]
    },
    {
     "name": "stdout",
     "output_type": "stream",
     "text": [
      "Data for chunk 2 of 2 extracted\n",
      "Saved to C:\\Users\\Roman\\Desktop\\DMLS_project\\Crypto\\TIME-USD_diff.csv\n",
      "ORCA-USD\n",
      "Checking input parameters are in the correct format.\n",
      "Formatting Dates.\n",
      "Checking if user supplied is available on the CoinBase Pro API.\n",
      "Connected to the CoinBase Pro API.\n",
      "Ticker 'ORCA-USD' found at the CoinBase Pro API, continuing to extraction.\n",
      "Provisional Start: 2022-01-11T00:00:00\n",
      "Provisional End: 2022-11-07T00:00:00\n",
      "Data for chunk 1 of 2 extracted\n",
      "Provisional Start: 2022-11-07T00:00:00\n",
      "Provisional End: 2023-09-03T00:00:00\n"
     ]
    },
    {
     "name": "stderr",
     "output_type": "stream",
     "text": [
      "C:\\Users\\Roman\\AppData\\Local\\Packages\\PythonSoftwareFoundation.Python.3.10_qbz5n2kfra8p0\\LocalCache\\local-packages\\Python310\\site-packages\\Historic_Crypto\\HistoricalData.py:176: FutureWarning: The frame.append method is deprecated and will be removed from pandas in a future version. Use pandas.concat instead.\n",
      "  data = data.append(dataset)\n"
     ]
    },
    {
     "name": "stdout",
     "output_type": "stream",
     "text": [
      "Data for chunk 2 of 2 extracted\n",
      "Saved to C:\\Users\\Roman\\Desktop\\DMLS_project\\Crypto\\ORCA-USD_diff.csv\n",
      "RLY-USDT\n",
      "Checking input parameters are in the correct format.\n",
      "Formatting Dates.\n",
      "Checking if user supplied is available on the CoinBase Pro API.\n",
      "Connected to the CoinBase Pro API.\n",
      "Ticker 'RLY-USDT' found at the CoinBase Pro API, continuing to extraction.\n",
      "Provisional Start: 2022-01-11T00:00:00\n",
      "Provisional End: 2022-11-07T00:00:00\n",
      "Data for chunk 1 of 2 extracted\n"
     ]
    },
    {
     "name": "stderr",
     "output_type": "stream",
     "text": [
      "C:\\Users\\Roman\\AppData\\Local\\Packages\\PythonSoftwareFoundation.Python.3.10_qbz5n2kfra8p0\\LocalCache\\local-packages\\Python310\\site-packages\\Historic_Crypto\\HistoricalData.py:176: FutureWarning: The frame.append method is deprecated and will be removed from pandas in a future version. Use pandas.concat instead.\n",
      "  data = data.append(dataset)\n"
     ]
    },
    {
     "name": "stdout",
     "output_type": "stream",
     "text": [
      "Provisional Start: 2022-11-07T00:00:00\n",
      "Provisional End: 2023-09-03T00:00:00\n",
      "Data for chunk 2 of 2 extracted\n",
      "Saved to C:\\Users\\Roman\\Desktop\\DMLS_project\\Crypto\\RLY-USDT_diff.csv\n",
      "VGX-USDT\n",
      "Checking input parameters are in the correct format.\n",
      "Formatting Dates.\n",
      "Checking if user supplied is available on the CoinBase Pro API.\n",
      "Connected to the CoinBase Pro API.\n",
      "Ticker 'VGX-USDT' found at the CoinBase Pro API, continuing to extraction.\n",
      "Provisional Start: 2022-01-11T00:00:00\n",
      "Provisional End: 2022-11-07T00:00:00\n",
      "Data for chunk 1 of 2 extracted\n"
     ]
    },
    {
     "name": "stderr",
     "output_type": "stream",
     "text": [
      "C:\\Users\\Roman\\AppData\\Local\\Packages\\PythonSoftwareFoundation.Python.3.10_qbz5n2kfra8p0\\LocalCache\\local-packages\\Python310\\site-packages\\Historic_Crypto\\HistoricalData.py:176: FutureWarning: The frame.append method is deprecated and will be removed from pandas in a future version. Use pandas.concat instead.\n",
      "  data = data.append(dataset)\n"
     ]
    },
    {
     "name": "stdout",
     "output_type": "stream",
     "text": [
      "Provisional Start: 2022-11-07T00:00:00\n",
      "Provisional End: 2023-09-03T00:00:00\n",
      "Data for chunk 2 of 2 extracted\n",
      "Saved to C:\\Users\\Roman\\Desktop\\DMLS_project\\Crypto\\VGX-USDT_diff.csv\n",
      "ETH-USD\n",
      "Checking input parameters are in the correct format.\n",
      "Formatting Dates.\n",
      "Checking if user supplied is available on the CoinBase Pro API.\n",
      "Connected to the CoinBase Pro API.\n",
      "Ticker 'ETH-USD' found at the CoinBase Pro API, continuing to extraction.\n",
      "Provisional Start: 2022-01-11T00:00:00\n",
      "Provisional End: 2022-11-07T00:00:00\n",
      "Data for chunk 1 of 2 extracted\n"
     ]
    },
    {
     "name": "stderr",
     "output_type": "stream",
     "text": [
      "C:\\Users\\Roman\\AppData\\Local\\Packages\\PythonSoftwareFoundation.Python.3.10_qbz5n2kfra8p0\\LocalCache\\local-packages\\Python310\\site-packages\\Historic_Crypto\\HistoricalData.py:176: FutureWarning: The frame.append method is deprecated and will be removed from pandas in a future version. Use pandas.concat instead.\n",
      "  data = data.append(dataset)\n"
     ]
    },
    {
     "name": "stdout",
     "output_type": "stream",
     "text": [
      "Provisional Start: 2022-11-07T00:00:00\n",
      "Provisional End: 2023-09-03T00:00:00\n",
      "Data for chunk 2 of 2 extracted\n",
      "Saved to C:\\Users\\Roman\\Desktop\\DMLS_project\\Crypto\\ETH-USD_diff.csv\n",
      "ADA-BTC\n",
      "Checking input parameters are in the correct format.\n",
      "Formatting Dates.\n",
      "Checking if user supplied is available on the CoinBase Pro API.\n",
      "Connected to the CoinBase Pro API.\n",
      "Ticker 'ADA-BTC' found at the CoinBase Pro API, continuing to extraction.\n",
      "Provisional Start: 2022-01-11T00:00:00\n",
      "Provisional End: 2022-11-07T00:00:00\n",
      "Data for chunk 1 of 2 extracted\n"
     ]
    },
    {
     "name": "stderr",
     "output_type": "stream",
     "text": [
      "C:\\Users\\Roman\\AppData\\Local\\Packages\\PythonSoftwareFoundation.Python.3.10_qbz5n2kfra8p0\\LocalCache\\local-packages\\Python310\\site-packages\\Historic_Crypto\\HistoricalData.py:176: FutureWarning: The frame.append method is deprecated and will be removed from pandas in a future version. Use pandas.concat instead.\n",
      "  data = data.append(dataset)\n"
     ]
    },
    {
     "name": "stdout",
     "output_type": "stream",
     "text": [
      "Provisional Start: 2022-11-07T00:00:00\n",
      "Provisional End: 2023-09-03T00:00:00\n",
      "Data for chunk 2 of 2 extracted\n",
      "Saved to C:\\Users\\Roman\\Desktop\\DMLS_project\\Crypto\\ADA-BTC_diff.csv\n",
      "FORTH-USD\n",
      "Checking input parameters are in the correct format.\n",
      "Formatting Dates.\n",
      "Checking if user supplied is available on the CoinBase Pro API.\n",
      "Connected to the CoinBase Pro API.\n",
      "Ticker 'FORTH-USD' found at the CoinBase Pro API, continuing to extraction.\n",
      "Provisional Start: 2022-01-11T00:00:00\n",
      "Provisional End: 2022-11-07T00:00:00\n",
      "Data for chunk 1 of 2 extracted\n"
     ]
    },
    {
     "name": "stderr",
     "output_type": "stream",
     "text": [
      "C:\\Users\\Roman\\AppData\\Local\\Packages\\PythonSoftwareFoundation.Python.3.10_qbz5n2kfra8p0\\LocalCache\\local-packages\\Python310\\site-packages\\Historic_Crypto\\HistoricalData.py:176: FutureWarning: The frame.append method is deprecated and will be removed from pandas in a future version. Use pandas.concat instead.\n",
      "  data = data.append(dataset)\n"
     ]
    },
    {
     "name": "stdout",
     "output_type": "stream",
     "text": [
      "Provisional Start: 2022-11-07T00:00:00\n",
      "Provisional End: 2023-09-03T00:00:00\n",
      "Data for chunk 2 of 2 extracted\n",
      "Saved to C:\\Users\\Roman\\Desktop\\DMLS_project\\Crypto\\FORTH-USD_diff.csv\n",
      "ILV-USD\n",
      "Checking input parameters are in the correct format.\n",
      "Formatting Dates.\n",
      "Checking if user supplied is available on the CoinBase Pro API.\n",
      "Connected to the CoinBase Pro API.\n",
      "Ticker 'ILV-USD' found at the CoinBase Pro API, continuing to extraction.\n",
      "Provisional Start: 2022-01-11T00:00:00\n",
      "Provisional End: 2022-11-07T00:00:00\n",
      "Data for chunk 1 of 2 extracted\n"
     ]
    },
    {
     "name": "stderr",
     "output_type": "stream",
     "text": [
      "C:\\Users\\Roman\\AppData\\Local\\Packages\\PythonSoftwareFoundation.Python.3.10_qbz5n2kfra8p0\\LocalCache\\local-packages\\Python310\\site-packages\\Historic_Crypto\\HistoricalData.py:176: FutureWarning: The frame.append method is deprecated and will be removed from pandas in a future version. Use pandas.concat instead.\n",
      "  data = data.append(dataset)\n"
     ]
    },
    {
     "name": "stdout",
     "output_type": "stream",
     "text": [
      "Provisional Start: 2022-11-07T00:00:00\n",
      "Provisional End: 2023-09-03T00:00:00\n",
      "Data for chunk 2 of 2 extracted\n",
      "Saved to C:\\Users\\Roman\\Desktop\\DMLS_project\\Crypto\\ILV-USD_diff.csv\n",
      "BUSD-USD\n",
      "Checking input parameters are in the correct format.\n",
      "Formatting Dates.\n",
      "Checking if user supplied is available on the CoinBase Pro API.\n",
      "Connected to the CoinBase Pro API.\n",
      "Ticker 'BUSD-USD' found at the CoinBase Pro API, continuing to extraction.\n",
      "Provisional Start: 2022-01-11T00:00:00\n",
      "Provisional End: 2022-11-07T00:00:00\n",
      "Data for chunk 1 of 2 extracted\n"
     ]
    },
    {
     "name": "stderr",
     "output_type": "stream",
     "text": [
      "C:\\Users\\Roman\\AppData\\Local\\Packages\\PythonSoftwareFoundation.Python.3.10_qbz5n2kfra8p0\\LocalCache\\local-packages\\Python310\\site-packages\\Historic_Crypto\\HistoricalData.py:176: FutureWarning: The frame.append method is deprecated and will be removed from pandas in a future version. Use pandas.concat instead.\n",
      "  data = data.append(dataset)\n"
     ]
    },
    {
     "name": "stdout",
     "output_type": "stream",
     "text": [
      "Provisional Start: 2022-11-07T00:00:00\n",
      "Provisional End: 2023-09-03T00:00:00\n",
      "Data for chunk 2 of 2 extracted\n",
      "Saved to C:\\Users\\Roman\\Desktop\\DMLS_project\\Crypto\\BUSD-USD_diff.csv\n",
      "CHZ-USDT\n",
      "Checking input parameters are in the correct format.\n",
      "Formatting Dates.\n",
      "Checking if user supplied is available on the CoinBase Pro API.\n",
      "Connected to the CoinBase Pro API.\n",
      "Ticker 'CHZ-USDT' found at the CoinBase Pro API, continuing to extraction.\n",
      "Provisional Start: 2022-01-11T00:00:00\n",
      "Provisional End: 2022-11-07T00:00:00\n",
      "Data for chunk 1 of 2 extracted\n"
     ]
    },
    {
     "name": "stderr",
     "output_type": "stream",
     "text": [
      "C:\\Users\\Roman\\AppData\\Local\\Packages\\PythonSoftwareFoundation.Python.3.10_qbz5n2kfra8p0\\LocalCache\\local-packages\\Python310\\site-packages\\Historic_Crypto\\HistoricalData.py:176: FutureWarning: The frame.append method is deprecated and will be removed from pandas in a future version. Use pandas.concat instead.\n",
      "  data = data.append(dataset)\n"
     ]
    },
    {
     "name": "stdout",
     "output_type": "stream",
     "text": [
      "Provisional Start: 2022-11-07T00:00:00\n",
      "Provisional End: 2023-09-03T00:00:00\n",
      "Data for chunk 2 of 2 extracted\n",
      "Saved to C:\\Users\\Roman\\Desktop\\DMLS_project\\Crypto\\CHZ-USDT_diff.csv\n",
      "TIME-USDT\n",
      "Checking input parameters are in the correct format.\n",
      "Formatting Dates.\n",
      "Checking if user supplied is available on the CoinBase Pro API.\n",
      "Connected to the CoinBase Pro API.\n",
      "Ticker 'TIME-USDT' found at the CoinBase Pro API, continuing to extraction.\n",
      "Provisional Start: 2022-01-11T00:00:00\n",
      "Provisional End: 2022-11-07T00:00:00\n",
      "Data for chunk 1 of 2 extracted\n"
     ]
    },
    {
     "name": "stderr",
     "output_type": "stream",
     "text": [
      "C:\\Users\\Roman\\AppData\\Local\\Packages\\PythonSoftwareFoundation.Python.3.10_qbz5n2kfra8p0\\LocalCache\\local-packages\\Python310\\site-packages\\Historic_Crypto\\HistoricalData.py:176: FutureWarning: The frame.append method is deprecated and will be removed from pandas in a future version. Use pandas.concat instead.\n",
      "  data = data.append(dataset)\n"
     ]
    },
    {
     "name": "stdout",
     "output_type": "stream",
     "text": [
      "Provisional Start: 2022-11-07T00:00:00\n",
      "Provisional End: 2023-09-03T00:00:00\n",
      "Data for chunk 2 of 2 extracted\n",
      "Saved to C:\\Users\\Roman\\Desktop\\DMLS_project\\Crypto\\TIME-USDT_diff.csv\n",
      "SUKU-USD\n",
      "Checking input parameters are in the correct format.\n",
      "Formatting Dates.\n",
      "Checking if user supplied is available on the CoinBase Pro API.\n",
      "Connected to the CoinBase Pro API.\n",
      "Ticker 'SUKU-USD' found at the CoinBase Pro API, continuing to extraction.\n",
      "Provisional Start: 2022-01-11T00:00:00\n",
      "Provisional End: 2022-11-07T00:00:00\n",
      "Data for chunk 1 of 2 extracted\n"
     ]
    },
    {
     "name": "stderr",
     "output_type": "stream",
     "text": [
      "C:\\Users\\Roman\\AppData\\Local\\Packages\\PythonSoftwareFoundation.Python.3.10_qbz5n2kfra8p0\\LocalCache\\local-packages\\Python310\\site-packages\\Historic_Crypto\\HistoricalData.py:176: FutureWarning: The frame.append method is deprecated and will be removed from pandas in a future version. Use pandas.concat instead.\n",
      "  data = data.append(dataset)\n"
     ]
    },
    {
     "name": "stdout",
     "output_type": "stream",
     "text": [
      "Provisional Start: 2022-11-07T00:00:00\n",
      "Provisional End: 2023-09-03T00:00:00\n",
      "Data for chunk 2 of 2 extracted\n",
      "Saved to C:\\Users\\Roman\\Desktop\\DMLS_project\\Crypto\\SUKU-USD_diff.csv\n",
      "SNT-USD\n",
      "Checking input parameters are in the correct format.\n",
      "Formatting Dates.\n",
      "Checking if user supplied is available on the CoinBase Pro API.\n",
      "Connected to the CoinBase Pro API.\n",
      "Ticker 'SNT-USD' found at the CoinBase Pro API, continuing to extraction.\n",
      "Provisional Start: 2022-01-11T00:00:00\n",
      "Provisional End: 2022-11-07T00:00:00\n",
      "Data for chunk 1 of 2 extracted\n",
      "Provisional Start: 2022-11-07T00:00:00\n",
      "Provisional End: 2023-09-03T00:00:00\n"
     ]
    },
    {
     "name": "stderr",
     "output_type": "stream",
     "text": [
      "C:\\Users\\Roman\\AppData\\Local\\Packages\\PythonSoftwareFoundation.Python.3.10_qbz5n2kfra8p0\\LocalCache\\local-packages\\Python310\\site-packages\\Historic_Crypto\\HistoricalData.py:176: FutureWarning: The frame.append method is deprecated and will be removed from pandas in a future version. Use pandas.concat instead.\n",
      "  data = data.append(dataset)\n"
     ]
    },
    {
     "name": "stdout",
     "output_type": "stream",
     "text": [
      "Data for chunk 2 of 2 extracted\n",
      "Saved to C:\\Users\\Roman\\Desktop\\DMLS_project\\Crypto\\SNT-USD_diff.csv\n",
      "ALGO-BTC\n",
      "Checking input parameters are in the correct format.\n",
      "Formatting Dates.\n",
      "Checking if user supplied is available on the CoinBase Pro API.\n",
      "Connected to the CoinBase Pro API.\n",
      "Ticker 'ALGO-BTC' found at the CoinBase Pro API, continuing to extraction.\n",
      "Provisional Start: 2022-01-11T00:00:00\n",
      "Provisional End: 2022-11-07T00:00:00\n",
      "Data for chunk 1 of 2 extracted\n",
      "Provisional Start: 2022-11-07T00:00:00\n",
      "Provisional End: 2023-09-03T00:00:00\n",
      "Data for chunk 2 of 2 extracted\n"
     ]
    },
    {
     "name": "stderr",
     "output_type": "stream",
     "text": [
      "C:\\Users\\Roman\\AppData\\Local\\Packages\\PythonSoftwareFoundation.Python.3.10_qbz5n2kfra8p0\\LocalCache\\local-packages\\Python310\\site-packages\\Historic_Crypto\\HistoricalData.py:176: FutureWarning: The frame.append method is deprecated and will be removed from pandas in a future version. Use pandas.concat instead.\n",
      "  data = data.append(dataset)\n"
     ]
    },
    {
     "name": "stdout",
     "output_type": "stream",
     "text": [
      "Saved to C:\\Users\\Roman\\Desktop\\DMLS_project\\Crypto\\ALGO-BTC_diff.csv\n",
      "NKN-BTC\n",
      "Checking input parameters are in the correct format.\n",
      "Formatting Dates.\n",
      "Checking if user supplied is available on the CoinBase Pro API.\n",
      "Connected to the CoinBase Pro API.\n",
      "Ticker 'NKN-BTC' found at the CoinBase Pro API, continuing to extraction.\n",
      "Provisional Start: 2022-01-11T00:00:00\n",
      "Provisional End: 2022-11-07T00:00:00\n",
      "Data for chunk 1 of 2 extracted\n"
     ]
    },
    {
     "name": "stderr",
     "output_type": "stream",
     "text": [
      "C:\\Users\\Roman\\AppData\\Local\\Packages\\PythonSoftwareFoundation.Python.3.10_qbz5n2kfra8p0\\LocalCache\\local-packages\\Python310\\site-packages\\Historic_Crypto\\HistoricalData.py:176: FutureWarning: The frame.append method is deprecated and will be removed from pandas in a future version. Use pandas.concat instead.\n",
      "  data = data.append(dataset)\n"
     ]
    },
    {
     "name": "stdout",
     "output_type": "stream",
     "text": [
      "Provisional Start: 2022-11-07T00:00:00\n",
      "Provisional End: 2023-09-03T00:00:00\n",
      "Data for chunk 2 of 2 extracted\n",
      "Saved to C:\\Users\\Roman\\Desktop\\DMLS_project\\Crypto\\NKN-BTC_diff.csv\n",
      "MINA-USDT\n",
      "Checking input parameters are in the correct format.\n",
      "Formatting Dates.\n",
      "Checking if user supplied is available on the CoinBase Pro API.\n",
      "Connected to the CoinBase Pro API.\n",
      "Ticker 'MINA-USDT' found at the CoinBase Pro API, continuing to extraction.\n",
      "Provisional Start: 2022-01-11T00:00:00\n",
      "Provisional End: 2022-11-07T00:00:00\n",
      "Data for chunk 1 of 2 extracted\n"
     ]
    },
    {
     "name": "stderr",
     "output_type": "stream",
     "text": [
      "C:\\Users\\Roman\\AppData\\Local\\Packages\\PythonSoftwareFoundation.Python.3.10_qbz5n2kfra8p0\\LocalCache\\local-packages\\Python310\\site-packages\\Historic_Crypto\\HistoricalData.py:176: FutureWarning: The frame.append method is deprecated and will be removed from pandas in a future version. Use pandas.concat instead.\n",
      "  data = data.append(dataset)\n"
     ]
    },
    {
     "name": "stdout",
     "output_type": "stream",
     "text": [
      "Provisional Start: 2022-11-07T00:00:00\n",
      "Provisional End: 2023-09-03T00:00:00\n",
      "Data for chunk 2 of 2 extracted\n",
      "Saved to C:\\Users\\Roman\\Desktop\\DMLS_project\\Crypto\\MINA-USDT_diff.csv\n",
      "ZEN-BTC\n",
      "Checking input parameters are in the correct format.\n",
      "Formatting Dates.\n",
      "Checking if user supplied is available on the CoinBase Pro API.\n",
      "Connected to the CoinBase Pro API.\n",
      "Ticker 'ZEN-BTC' found at the CoinBase Pro API, continuing to extraction.\n",
      "Provisional Start: 2022-01-11T00:00:00\n",
      "Provisional End: 2022-11-07T00:00:00\n",
      "Data for chunk 1 of 2 extracted\n"
     ]
    },
    {
     "name": "stderr",
     "output_type": "stream",
     "text": [
      "C:\\Users\\Roman\\AppData\\Local\\Packages\\PythonSoftwareFoundation.Python.3.10_qbz5n2kfra8p0\\LocalCache\\local-packages\\Python310\\site-packages\\Historic_Crypto\\HistoricalData.py:176: FutureWarning: The frame.append method is deprecated and will be removed from pandas in a future version. Use pandas.concat instead.\n",
      "  data = data.append(dataset)\n"
     ]
    },
    {
     "name": "stdout",
     "output_type": "stream",
     "text": [
      "Provisional Start: 2022-11-07T00:00:00\n",
      "Provisional End: 2023-09-03T00:00:00\n",
      "Data for chunk 2 of 2 extracted\n",
      "Saved to C:\\Users\\Roman\\Desktop\\DMLS_project\\Crypto\\ZEN-BTC_diff.csv\n",
      "ZEC-USD\n",
      "Checking input parameters are in the correct format.\n",
      "Formatting Dates.\n",
      "Checking if user supplied is available on the CoinBase Pro API.\n",
      "Connected to the CoinBase Pro API.\n",
      "Ticker 'ZEC-USD' found at the CoinBase Pro API, continuing to extraction.\n",
      "Provisional Start: 2022-01-11T00:00:00\n",
      "Provisional End: 2022-11-07T00:00:00\n",
      "Data for chunk 1 of 2 extracted\n"
     ]
    },
    {
     "name": "stderr",
     "output_type": "stream",
     "text": [
      "C:\\Users\\Roman\\AppData\\Local\\Packages\\PythonSoftwareFoundation.Python.3.10_qbz5n2kfra8p0\\LocalCache\\local-packages\\Python310\\site-packages\\Historic_Crypto\\HistoricalData.py:176: FutureWarning: The frame.append method is deprecated and will be removed from pandas in a future version. Use pandas.concat instead.\n",
      "  data = data.append(dataset)\n"
     ]
    },
    {
     "name": "stdout",
     "output_type": "stream",
     "text": [
      "Provisional Start: 2022-11-07T00:00:00\n",
      "Provisional End: 2023-09-03T00:00:00\n",
      "Data for chunk 2 of 2 extracted\n",
      "Saved to C:\\Users\\Roman\\Desktop\\DMLS_project\\Crypto\\ZEC-USD_diff.csv\n",
      "HBAR-USDT\n",
      "Checking input parameters are in the correct format.\n",
      "Formatting Dates.\n",
      "Checking if user supplied is available on the CoinBase Pro API.\n",
      "Connected to the CoinBase Pro API.\n",
      "Ticker 'HBAR-USDT' found at the CoinBase Pro API, continuing to extraction.\n",
      "Provisional Start: 2022-01-11T00:00:00\n",
      "Provisional End: 2022-11-07T00:00:00\n",
      "Data for chunk 1 of 2 extracted\n"
     ]
    },
    {
     "name": "stderr",
     "output_type": "stream",
     "text": [
      "C:\\Users\\Roman\\AppData\\Local\\Packages\\PythonSoftwareFoundation.Python.3.10_qbz5n2kfra8p0\\LocalCache\\local-packages\\Python310\\site-packages\\Historic_Crypto\\HistoricalData.py:176: FutureWarning: The frame.append method is deprecated and will be removed from pandas in a future version. Use pandas.concat instead.\n",
      "  data = data.append(dataset)\n"
     ]
    },
    {
     "name": "stdout",
     "output_type": "stream",
     "text": [
      "Provisional Start: 2022-11-07T00:00:00\n",
      "Provisional End: 2023-09-03T00:00:00\n",
      "Data for chunk 2 of 2 extracted\n",
      "Saved to C:\\Users\\Roman\\Desktop\\DMLS_project\\Crypto\\HBAR-USDT_diff.csv\n",
      "ERN-EUR\n",
      "Checking input parameters are in the correct format.\n",
      "Formatting Dates.\n",
      "Checking if user supplied is available on the CoinBase Pro API.\n",
      "Connected to the CoinBase Pro API.\n",
      "Ticker 'ERN-EUR' found at the CoinBase Pro API, continuing to extraction.\n",
      "Provisional Start: 2022-01-11T00:00:00\n",
      "Provisional End: 2022-11-07T00:00:00\n",
      "Data for chunk 1 of 2 extracted\n"
     ]
    },
    {
     "name": "stderr",
     "output_type": "stream",
     "text": [
      "C:\\Users\\Roman\\AppData\\Local\\Packages\\PythonSoftwareFoundation.Python.3.10_qbz5n2kfra8p0\\LocalCache\\local-packages\\Python310\\site-packages\\Historic_Crypto\\HistoricalData.py:176: FutureWarning: The frame.append method is deprecated and will be removed from pandas in a future version. Use pandas.concat instead.\n",
      "  data = data.append(dataset)\n"
     ]
    },
    {
     "name": "stdout",
     "output_type": "stream",
     "text": [
      "Provisional Start: 2022-11-07T00:00:00\n",
      "Provisional End: 2023-09-03T00:00:00\n",
      "Data for chunk 2 of 2 extracted\n",
      "Saved to C:\\Users\\Roman\\Desktop\\DMLS_project\\Crypto\\ERN-EUR_diff.csv\n",
      "WAXL-USD\n",
      "Checking input parameters are in the correct format.\n",
      "Formatting Dates.\n",
      "Checking if user supplied is available on the CoinBase Pro API.\n",
      "Connected to the CoinBase Pro API.\n",
      "Ticker 'WAXL-USD' found at the CoinBase Pro API, continuing to extraction.\n",
      "Provisional Start: 2022-01-11T00:00:00\n",
      "Provisional End: 2022-11-07T00:00:00\n",
      "Data for chunk 1 of 2 extracted\n",
      "Provisional Start: 2022-11-07T00:00:00\n",
      "Provisional End: 2023-09-03T00:00:00\n"
     ]
    },
    {
     "name": "stderr",
     "output_type": "stream",
     "text": [
      "C:\\Users\\Roman\\AppData\\Local\\Packages\\PythonSoftwareFoundation.Python.3.10_qbz5n2kfra8p0\\LocalCache\\local-packages\\Python310\\site-packages\\Historic_Crypto\\HistoricalData.py:176: FutureWarning: The frame.append method is deprecated and will be removed from pandas in a future version. Use pandas.concat instead.\n",
      "  data = data.append(dataset)\n"
     ]
    },
    {
     "name": "stdout",
     "output_type": "stream",
     "text": [
      "Data for chunk 2 of 2 extracted\n",
      "Saved to C:\\Users\\Roman\\Desktop\\DMLS_project\\Crypto\\WAXL-USD_diff.csv\n",
      "ASM-USDT\n",
      "Checking input parameters are in the correct format.\n",
      "Formatting Dates.\n",
      "Checking if user supplied is available on the CoinBase Pro API.\n",
      "Connected to the CoinBase Pro API.\n",
      "Ticker 'ASM-USDT' found at the CoinBase Pro API, continuing to extraction.\n",
      "Provisional Start: 2022-01-11T00:00:00\n",
      "Provisional End: 2022-11-07T00:00:00\n",
      "Data for chunk 1 of 2 extracted\n"
     ]
    },
    {
     "name": "stderr",
     "output_type": "stream",
     "text": [
      "C:\\Users\\Roman\\AppData\\Local\\Packages\\PythonSoftwareFoundation.Python.3.10_qbz5n2kfra8p0\\LocalCache\\local-packages\\Python310\\site-packages\\Historic_Crypto\\HistoricalData.py:176: FutureWarning: The frame.append method is deprecated and will be removed from pandas in a future version. Use pandas.concat instead.\n",
      "  data = data.append(dataset)\n"
     ]
    },
    {
     "name": "stdout",
     "output_type": "stream",
     "text": [
      "Provisional Start: 2022-11-07T00:00:00\n",
      "Provisional End: 2023-09-03T00:00:00\n",
      "Data for chunk 2 of 2 extracted\n",
      "Saved to C:\\Users\\Roman\\Desktop\\DMLS_project\\Crypto\\ASM-USDT_diff.csv\n",
      "ZEC-USDC\n",
      "Checking input parameters are in the correct format.\n",
      "Formatting Dates.\n",
      "Checking if user supplied is available on the CoinBase Pro API.\n",
      "Connected to the CoinBase Pro API.\n",
      "Ticker 'ZEC-USDC' found at the CoinBase Pro API, continuing to extraction.\n",
      "Provisional Start: 2022-01-11T00:00:00\n",
      "Provisional End: 2022-11-07T00:00:00\n",
      "Data for chunk 1 of 2 extracted\n",
      "Provisional Start: 2022-11-07T00:00:00\n",
      "Provisional End: 2023-09-03T00:00:00\n"
     ]
    },
    {
     "name": "stderr",
     "output_type": "stream",
     "text": [
      "C:\\Users\\Roman\\AppData\\Local\\Packages\\PythonSoftwareFoundation.Python.3.10_qbz5n2kfra8p0\\LocalCache\\local-packages\\Python310\\site-packages\\Historic_Crypto\\HistoricalData.py:176: FutureWarning: The frame.append method is deprecated and will be removed from pandas in a future version. Use pandas.concat instead.\n",
      "  data = data.append(dataset)\n"
     ]
    },
    {
     "name": "stdout",
     "output_type": "stream",
     "text": [
      "Data for chunk 2 of 2 extracted\n",
      "CoinBase Pro API did not have available data for 'ZEC-USDC' beginning at 2022-01-11-00-00.  \n",
      "                        Trying a later date:'2022-11-07T00:00:00'\n",
      "Saved to C:\\Users\\Roman\\Desktop\\DMLS_project\\Crypto\\ZEC-USDC_diff.csv\n",
      "BAT-BTC\n",
      "Checking input parameters are in the correct format.\n",
      "Formatting Dates.\n",
      "Checking if user supplied is available on the CoinBase Pro API.\n",
      "Connected to the CoinBase Pro API.\n",
      "Ticker 'BAT-BTC' found at the CoinBase Pro API, continuing to extraction.\n",
      "Provisional Start: 2022-01-11T00:00:00\n",
      "Provisional End: 2022-11-07T00:00:00\n",
      "Data for chunk 1 of 2 extracted\n"
     ]
    },
    {
     "name": "stderr",
     "output_type": "stream",
     "text": [
      "C:\\Users\\Roman\\AppData\\Local\\Packages\\PythonSoftwareFoundation.Python.3.10_qbz5n2kfra8p0\\LocalCache\\local-packages\\Python310\\site-packages\\Historic_Crypto\\HistoricalData.py:176: FutureWarning: The frame.append method is deprecated and will be removed from pandas in a future version. Use pandas.concat instead.\n",
      "  data = data.append(dataset)\n"
     ]
    },
    {
     "name": "stdout",
     "output_type": "stream",
     "text": [
      "Provisional Start: 2022-11-07T00:00:00\n",
      "Provisional End: 2023-09-03T00:00:00\n",
      "Data for chunk 2 of 2 extracted\n",
      "Saved to C:\\Users\\Roman\\Desktop\\DMLS_project\\Crypto\\BAT-BTC_diff.csv\n",
      "UMA-USD\n",
      "Checking input parameters are in the correct format.\n",
      "Formatting Dates.\n",
      "Checking if user supplied is available on the CoinBase Pro API.\n",
      "Connected to the CoinBase Pro API.\n",
      "Ticker 'UMA-USD' found at the CoinBase Pro API, continuing to extraction.\n",
      "Provisional Start: 2022-01-11T00:00:00\n",
      "Provisional End: 2022-11-07T00:00:00\n",
      "Data for chunk 1 of 2 extracted\n"
     ]
    },
    {
     "name": "stderr",
     "output_type": "stream",
     "text": [
      "C:\\Users\\Roman\\AppData\\Local\\Packages\\PythonSoftwareFoundation.Python.3.10_qbz5n2kfra8p0\\LocalCache\\local-packages\\Python310\\site-packages\\Historic_Crypto\\HistoricalData.py:176: FutureWarning: The frame.append method is deprecated and will be removed from pandas in a future version. Use pandas.concat instead.\n",
      "  data = data.append(dataset)\n"
     ]
    },
    {
     "name": "stdout",
     "output_type": "stream",
     "text": [
      "Provisional Start: 2022-11-07T00:00:00\n",
      "Provisional End: 2023-09-03T00:00:00\n",
      "Data for chunk 2 of 2 extracted\n",
      "Saved to C:\\Users\\Roman\\Desktop\\DMLS_project\\Crypto\\UMA-USD_diff.csv\n",
      "SHPING-USD\n",
      "Checking input parameters are in the correct format.\n",
      "Formatting Dates.\n",
      "Checking if user supplied is available on the CoinBase Pro API.\n",
      "Connected to the CoinBase Pro API.\n",
      "Ticker 'SHPING-USD' found at the CoinBase Pro API, continuing to extraction.\n",
      "Provisional Start: 2022-01-11T00:00:00\n",
      "Provisional End: 2022-11-07T00:00:00\n",
      "Data for chunk 1 of 2 extracted\n",
      "Provisional Start: 2022-11-07T00:00:00\n",
      "Provisional End: 2023-09-03T00:00:00\n"
     ]
    },
    {
     "name": "stderr",
     "output_type": "stream",
     "text": [
      "C:\\Users\\Roman\\AppData\\Local\\Packages\\PythonSoftwareFoundation.Python.3.10_qbz5n2kfra8p0\\LocalCache\\local-packages\\Python310\\site-packages\\Historic_Crypto\\HistoricalData.py:176: FutureWarning: The frame.append method is deprecated and will be removed from pandas in a future version. Use pandas.concat instead.\n",
      "  data = data.append(dataset)\n"
     ]
    },
    {
     "name": "stdout",
     "output_type": "stream",
     "text": [
      "Data for chunk 2 of 2 extracted\n",
      "Saved to C:\\Users\\Roman\\Desktop\\DMLS_project\\Crypto\\SHPING-USD_diff.csv\n",
      "PRQ-USDT\n",
      "Checking input parameters are in the correct format.\n",
      "Formatting Dates.\n",
      "Checking if user supplied is available on the CoinBase Pro API.\n",
      "Connected to the CoinBase Pro API.\n",
      "Ticker 'PRQ-USDT' found at the CoinBase Pro API, continuing to extraction.\n",
      "Provisional Start: 2022-01-11T00:00:00\n",
      "Provisional End: 2022-11-07T00:00:00\n",
      "Data for chunk 1 of 2 extracted\n"
     ]
    },
    {
     "name": "stderr",
     "output_type": "stream",
     "text": [
      "C:\\Users\\Roman\\AppData\\Local\\Packages\\PythonSoftwareFoundation.Python.3.10_qbz5n2kfra8p0\\LocalCache\\local-packages\\Python310\\site-packages\\Historic_Crypto\\HistoricalData.py:176: FutureWarning: The frame.append method is deprecated and will be removed from pandas in a future version. Use pandas.concat instead.\n",
      "  data = data.append(dataset)\n"
     ]
    },
    {
     "name": "stdout",
     "output_type": "stream",
     "text": [
      "Provisional Start: 2022-11-07T00:00:00\n",
      "Provisional End: 2023-09-03T00:00:00\n",
      "Data for chunk 2 of 2 extracted\n",
      "Saved to C:\\Users\\Roman\\Desktop\\DMLS_project\\Crypto\\PRQ-USDT_diff.csv\n",
      "AUCTION-USD\n",
      "Checking input parameters are in the correct format.\n",
      "Formatting Dates.\n",
      "Checking if user supplied is available on the CoinBase Pro API.\n",
      "Connected to the CoinBase Pro API.\n",
      "Ticker 'AUCTION-USD' found at the CoinBase Pro API, continuing to extraction.\n",
      "Provisional Start: 2022-01-11T00:00:00\n",
      "Provisional End: 2022-11-07T00:00:00\n",
      "Data for chunk 1 of 2 extracted\n"
     ]
    },
    {
     "name": "stderr",
     "output_type": "stream",
     "text": [
      "C:\\Users\\Roman\\AppData\\Local\\Packages\\PythonSoftwareFoundation.Python.3.10_qbz5n2kfra8p0\\LocalCache\\local-packages\\Python310\\site-packages\\Historic_Crypto\\HistoricalData.py:176: FutureWarning: The frame.append method is deprecated and will be removed from pandas in a future version. Use pandas.concat instead.\n",
      "  data = data.append(dataset)\n"
     ]
    },
    {
     "name": "stdout",
     "output_type": "stream",
     "text": [
      "Provisional Start: 2022-11-07T00:00:00\n",
      "Provisional End: 2023-09-03T00:00:00\n",
      "Data for chunk 2 of 2 extracted\n",
      "Saved to C:\\Users\\Roman\\Desktop\\DMLS_project\\Crypto\\AUCTION-USD_diff.csv\n",
      "NEST-USD\n",
      "Checking input parameters are in the correct format.\n",
      "Formatting Dates.\n",
      "Checking if user supplied is available on the CoinBase Pro API.\n",
      "Connected to the CoinBase Pro API.\n",
      "Ticker 'NEST-USD' found at the CoinBase Pro API, continuing to extraction.\n",
      "Provisional Start: 2022-01-11T00:00:00\n",
      "Provisional End: 2022-11-07T00:00:00\n",
      "Data for chunk 1 of 2 extracted\n",
      "Provisional Start: 2022-11-07T00:00:00\n",
      "Provisional End: 2023-09-03T00:00:00\n"
     ]
    },
    {
     "name": "stderr",
     "output_type": "stream",
     "text": [
      "C:\\Users\\Roman\\AppData\\Local\\Packages\\PythonSoftwareFoundation.Python.3.10_qbz5n2kfra8p0\\LocalCache\\local-packages\\Python310\\site-packages\\Historic_Crypto\\HistoricalData.py:176: FutureWarning: The frame.append method is deprecated and will be removed from pandas in a future version. Use pandas.concat instead.\n",
      "  data = data.append(dataset)\n"
     ]
    },
    {
     "name": "stdout",
     "output_type": "stream",
     "text": [
      "Data for chunk 2 of 2 extracted\n",
      "Saved to C:\\Users\\Roman\\Desktop\\DMLS_project\\Crypto\\NEST-USD_diff.csv\n",
      "IMX-USDT\n",
      "Checking input parameters are in the correct format.\n",
      "Formatting Dates.\n",
      "Checking if user supplied is available on the CoinBase Pro API.\n",
      "Connected to the CoinBase Pro API.\n",
      "Ticker 'IMX-USDT' found at the CoinBase Pro API, continuing to extraction.\n",
      "Provisional Start: 2022-01-11T00:00:00\n",
      "Provisional End: 2022-11-07T00:00:00\n",
      "Data for chunk 1 of 2 extracted\n"
     ]
    },
    {
     "name": "stderr",
     "output_type": "stream",
     "text": [
      "C:\\Users\\Roman\\AppData\\Local\\Packages\\PythonSoftwareFoundation.Python.3.10_qbz5n2kfra8p0\\LocalCache\\local-packages\\Python310\\site-packages\\Historic_Crypto\\HistoricalData.py:176: FutureWarning: The frame.append method is deprecated and will be removed from pandas in a future version. Use pandas.concat instead.\n",
      "  data = data.append(dataset)\n"
     ]
    },
    {
     "name": "stdout",
     "output_type": "stream",
     "text": [
      "Provisional Start: 2022-11-07T00:00:00\n",
      "Provisional End: 2023-09-03T00:00:00\n",
      "Data for chunk 2 of 2 extracted\n",
      "Saved to C:\\Users\\Roman\\Desktop\\DMLS_project\\Crypto\\IMX-USDT_diff.csv\n",
      "MATIC-EUR\n",
      "Checking input parameters are in the correct format.\n",
      "Formatting Dates.\n",
      "Checking if user supplied is available on the CoinBase Pro API.\n",
      "Connected to the CoinBase Pro API.\n",
      "Ticker 'MATIC-EUR' found at the CoinBase Pro API, continuing to extraction.\n",
      "Provisional Start: 2022-01-11T00:00:00\n",
      "Provisional End: 2022-11-07T00:00:00\n",
      "Data for chunk 1 of 2 extracted\n",
      "Provisional Start: 2022-11-07T00:00:00\n",
      "Provisional End: 2023-09-03T00:00:00\n"
     ]
    },
    {
     "name": "stderr",
     "output_type": "stream",
     "text": [
      "C:\\Users\\Roman\\AppData\\Local\\Packages\\PythonSoftwareFoundation.Python.3.10_qbz5n2kfra8p0\\LocalCache\\local-packages\\Python310\\site-packages\\Historic_Crypto\\HistoricalData.py:176: FutureWarning: The frame.append method is deprecated and will be removed from pandas in a future version. Use pandas.concat instead.\n",
      "  data = data.append(dataset)\n"
     ]
    },
    {
     "name": "stdout",
     "output_type": "stream",
     "text": [
      "Data for chunk 2 of 2 extracted\n",
      "Saved to C:\\Users\\Roman\\Desktop\\DMLS_project\\Crypto\\MATIC-EUR_diff.csv\n",
      "SYLO-USDT\n",
      "Checking input parameters are in the correct format.\n",
      "Formatting Dates.\n",
      "Checking if user supplied is available on the CoinBase Pro API.\n",
      "Connected to the CoinBase Pro API.\n",
      "Ticker 'SYLO-USDT' found at the CoinBase Pro API, continuing to extraction.\n",
      "Provisional Start: 2022-01-11T00:00:00\n",
      "Provisional End: 2022-11-07T00:00:00\n",
      "Data for chunk 1 of 2 extracted\n",
      "Provisional Start: 2022-11-07T00:00:00\n",
      "Provisional End: 2023-09-03T00:00:00\n"
     ]
    },
    {
     "name": "stderr",
     "output_type": "stream",
     "text": [
      "C:\\Users\\Roman\\AppData\\Local\\Packages\\PythonSoftwareFoundation.Python.3.10_qbz5n2kfra8p0\\LocalCache\\local-packages\\Python310\\site-packages\\Historic_Crypto\\HistoricalData.py:176: FutureWarning: The frame.append method is deprecated and will be removed from pandas in a future version. Use pandas.concat instead.\n",
      "  data = data.append(dataset)\n"
     ]
    },
    {
     "name": "stdout",
     "output_type": "stream",
     "text": [
      "Data for chunk 2 of 2 extracted\n",
      "Saved to C:\\Users\\Roman\\Desktop\\DMLS_project\\Crypto\\SYLO-USDT_diff.csv\n",
      "ERN-USDT\n",
      "Checking input parameters are in the correct format.\n",
      "Formatting Dates.\n",
      "Checking if user supplied is available on the CoinBase Pro API.\n",
      "Connected to the CoinBase Pro API.\n",
      "Ticker 'ERN-USDT' found at the CoinBase Pro API, continuing to extraction.\n",
      "Provisional Start: 2022-01-11T00:00:00\n",
      "Provisional End: 2022-11-07T00:00:00\n",
      "Data for chunk 1 of 2 extracted\n"
     ]
    },
    {
     "name": "stderr",
     "output_type": "stream",
     "text": [
      "C:\\Users\\Roman\\AppData\\Local\\Packages\\PythonSoftwareFoundation.Python.3.10_qbz5n2kfra8p0\\LocalCache\\local-packages\\Python310\\site-packages\\Historic_Crypto\\HistoricalData.py:176: FutureWarning: The frame.append method is deprecated and will be removed from pandas in a future version. Use pandas.concat instead.\n",
      "  data = data.append(dataset)\n"
     ]
    },
    {
     "name": "stdout",
     "output_type": "stream",
     "text": [
      "Provisional Start: 2022-11-07T00:00:00\n",
      "Provisional End: 2023-09-03T00:00:00\n",
      "Data for chunk 2 of 2 extracted\n",
      "Saved to C:\\Users\\Roman\\Desktop\\DMLS_project\\Crypto\\ERN-USDT_diff.csv\n",
      "MDT-USDT\n",
      "Checking input parameters are in the correct format.\n",
      "Formatting Dates.\n",
      "Checking if user supplied is available on the CoinBase Pro API.\n",
      "Connected to the CoinBase Pro API.\n",
      "Ticker 'MDT-USDT' found at the CoinBase Pro API, continuing to extraction.\n",
      "Provisional Start: 2022-01-11T00:00:00\n",
      "Provisional End: 2022-11-07T00:00:00\n",
      "Data for chunk 1 of 2 extracted\n"
     ]
    },
    {
     "name": "stderr",
     "output_type": "stream",
     "text": [
      "C:\\Users\\Roman\\AppData\\Local\\Packages\\PythonSoftwareFoundation.Python.3.10_qbz5n2kfra8p0\\LocalCache\\local-packages\\Python310\\site-packages\\Historic_Crypto\\HistoricalData.py:176: FutureWarning: The frame.append method is deprecated and will be removed from pandas in a future version. Use pandas.concat instead.\n",
      "  data = data.append(dataset)\n"
     ]
    },
    {
     "name": "stdout",
     "output_type": "stream",
     "text": [
      "Provisional Start: 2022-11-07T00:00:00\n",
      "Provisional End: 2023-09-03T00:00:00\n",
      "Data for chunk 2 of 2 extracted\n",
      "Saved to C:\\Users\\Roman\\Desktop\\DMLS_project\\Crypto\\MDT-USDT_diff.csv\n",
      "STG-USD\n",
      "Checking input parameters are in the correct format.\n",
      "Formatting Dates.\n",
      "Checking if user supplied is available on the CoinBase Pro API.\n",
      "Connected to the CoinBase Pro API.\n",
      "Ticker 'STG-USD' found at the CoinBase Pro API, continuing to extraction.\n",
      "Provisional Start: 2022-01-11T00:00:00\n",
      "Provisional End: 2022-11-07T00:00:00\n",
      "Data for chunk 1 of 2 extracted\n"
     ]
    },
    {
     "name": "stderr",
     "output_type": "stream",
     "text": [
      "C:\\Users\\Roman\\AppData\\Local\\Packages\\PythonSoftwareFoundation.Python.3.10_qbz5n2kfra8p0\\LocalCache\\local-packages\\Python310\\site-packages\\Historic_Crypto\\HistoricalData.py:176: FutureWarning: The frame.append method is deprecated and will be removed from pandas in a future version. Use pandas.concat instead.\n",
      "  data = data.append(dataset)\n"
     ]
    },
    {
     "name": "stdout",
     "output_type": "stream",
     "text": [
      "Provisional Start: 2022-11-07T00:00:00\n",
      "Provisional End: 2023-09-03T00:00:00\n",
      "Data for chunk 2 of 2 extracted\n",
      "Saved to C:\\Users\\Roman\\Desktop\\DMLS_project\\Crypto\\STG-USD_diff.csv\n",
      "C98-USD\n",
      "Checking input parameters are in the correct format.\n",
      "Formatting Dates.\n",
      "Checking if user supplied is available on the CoinBase Pro API.\n",
      "Connected to the CoinBase Pro API.\n",
      "Ticker 'C98-USD' found at the CoinBase Pro API, continuing to extraction.\n",
      "Provisional Start: 2022-01-11T00:00:00\n",
      "Provisional End: 2022-11-07T00:00:00\n",
      "Data for chunk 1 of 2 extracted\n",
      "Provisional Start: 2022-11-07T00:00:00\n",
      "Provisional End: 2023-09-03T00:00:00\n"
     ]
    },
    {
     "name": "stderr",
     "output_type": "stream",
     "text": [
      "C:\\Users\\Roman\\AppData\\Local\\Packages\\PythonSoftwareFoundation.Python.3.10_qbz5n2kfra8p0\\LocalCache\\local-packages\\Python310\\site-packages\\Historic_Crypto\\HistoricalData.py:176: FutureWarning: The frame.append method is deprecated and will be removed from pandas in a future version. Use pandas.concat instead.\n",
      "  data = data.append(dataset)\n"
     ]
    },
    {
     "name": "stdout",
     "output_type": "stream",
     "text": [
      "Data for chunk 2 of 2 extracted\n",
      "Saved to C:\\Users\\Roman\\Desktop\\DMLS_project\\Crypto\\C98-USD_diff.csv\n",
      "GRT-GBP\n",
      "Checking input parameters are in the correct format.\n",
      "Formatting Dates.\n",
      "Checking if user supplied is available on the CoinBase Pro API.\n",
      "Connected to the CoinBase Pro API.\n",
      "Ticker 'GRT-GBP' found at the CoinBase Pro API, continuing to extraction.\n",
      "Provisional Start: 2022-01-11T00:00:00\n",
      "Provisional End: 2022-11-07T00:00:00\n",
      "Data for chunk 1 of 2 extracted\n",
      "Provisional Start: 2022-11-07T00:00:00\n",
      "Provisional End: 2023-09-03T00:00:00\n"
     ]
    },
    {
     "name": "stderr",
     "output_type": "stream",
     "text": [
      "C:\\Users\\Roman\\AppData\\Local\\Packages\\PythonSoftwareFoundation.Python.3.10_qbz5n2kfra8p0\\LocalCache\\local-packages\\Python310\\site-packages\\Historic_Crypto\\HistoricalData.py:176: FutureWarning: The frame.append method is deprecated and will be removed from pandas in a future version. Use pandas.concat instead.\n",
      "  data = data.append(dataset)\n"
     ]
    },
    {
     "name": "stdout",
     "output_type": "stream",
     "text": [
      "Data for chunk 2 of 2 extracted\n",
      "Saved to C:\\Users\\Roman\\Desktop\\DMLS_project\\Crypto\\GRT-GBP_diff.csv\n",
      "SOL-USDT\n",
      "Checking input parameters are in the correct format.\n",
      "Formatting Dates.\n",
      "Checking if user supplied is available on the CoinBase Pro API.\n",
      "Connected to the CoinBase Pro API.\n",
      "Ticker 'SOL-USDT' found at the CoinBase Pro API, continuing to extraction.\n",
      "Provisional Start: 2022-01-11T00:00:00\n",
      "Provisional End: 2022-11-07T00:00:00\n",
      "Data for chunk 1 of 2 extracted\n"
     ]
    },
    {
     "name": "stderr",
     "output_type": "stream",
     "text": [
      "C:\\Users\\Roman\\AppData\\Local\\Packages\\PythonSoftwareFoundation.Python.3.10_qbz5n2kfra8p0\\LocalCache\\local-packages\\Python310\\site-packages\\Historic_Crypto\\HistoricalData.py:176: FutureWarning: The frame.append method is deprecated and will be removed from pandas in a future version. Use pandas.concat instead.\n",
      "  data = data.append(dataset)\n"
     ]
    },
    {
     "name": "stdout",
     "output_type": "stream",
     "text": [
      "Provisional Start: 2022-11-07T00:00:00\n",
      "Provisional End: 2023-09-03T00:00:00\n",
      "Data for chunk 2 of 2 extracted\n",
      "Saved to C:\\Users\\Roman\\Desktop\\DMLS_project\\Crypto\\SOL-USDT_diff.csv\n",
      "ANKR-USD\n",
      "Checking input parameters are in the correct format.\n",
      "Formatting Dates.\n",
      "Checking if user supplied is available on the CoinBase Pro API.\n",
      "Connected to the CoinBase Pro API.\n",
      "Ticker 'ANKR-USD' found at the CoinBase Pro API, continuing to extraction.\n",
      "Provisional Start: 2022-01-11T00:00:00\n",
      "Provisional End: 2022-11-07T00:00:00\n",
      "Data for chunk 1 of 2 extracted\n"
     ]
    },
    {
     "name": "stderr",
     "output_type": "stream",
     "text": [
      "C:\\Users\\Roman\\AppData\\Local\\Packages\\PythonSoftwareFoundation.Python.3.10_qbz5n2kfra8p0\\LocalCache\\local-packages\\Python310\\site-packages\\Historic_Crypto\\HistoricalData.py:176: FutureWarning: The frame.append method is deprecated and will be removed from pandas in a future version. Use pandas.concat instead.\n",
      "  data = data.append(dataset)\n"
     ]
    },
    {
     "name": "stdout",
     "output_type": "stream",
     "text": [
      "Provisional Start: 2022-11-07T00:00:00\n",
      "Provisional End: 2023-09-03T00:00:00\n",
      "Data for chunk 2 of 2 extracted\n",
      "Saved to C:\\Users\\Roman\\Desktop\\DMLS_project\\Crypto\\ANKR-USD_diff.csv\n",
      "ENS-USD\n",
      "Checking input parameters are in the correct format.\n",
      "Formatting Dates.\n",
      "Checking if user supplied is available on the CoinBase Pro API.\n",
      "Connected to the CoinBase Pro API.\n",
      "Ticker 'ENS-USD' found at the CoinBase Pro API, continuing to extraction.\n",
      "Provisional Start: 2022-01-11T00:00:00\n",
      "Provisional End: 2022-11-07T00:00:00\n",
      "Data for chunk 1 of 2 extracted\n"
     ]
    },
    {
     "name": "stderr",
     "output_type": "stream",
     "text": [
      "C:\\Users\\Roman\\AppData\\Local\\Packages\\PythonSoftwareFoundation.Python.3.10_qbz5n2kfra8p0\\LocalCache\\local-packages\\Python310\\site-packages\\Historic_Crypto\\HistoricalData.py:176: FutureWarning: The frame.append method is deprecated and will be removed from pandas in a future version. Use pandas.concat instead.\n",
      "  data = data.append(dataset)\n"
     ]
    },
    {
     "name": "stdout",
     "output_type": "stream",
     "text": [
      "Provisional Start: 2022-11-07T00:00:00\n",
      "Provisional End: 2023-09-03T00:00:00\n",
      "Data for chunk 2 of 2 extracted\n",
      "Saved to C:\\Users\\Roman\\Desktop\\DMLS_project\\Crypto\\ENS-USD_diff.csv\n",
      "API3-USDT\n",
      "Checking input parameters are in the correct format.\n",
      "Formatting Dates.\n",
      "Checking if user supplied is available on the CoinBase Pro API.\n",
      "Connected to the CoinBase Pro API.\n",
      "Ticker 'API3-USDT' found at the CoinBase Pro API, continuing to extraction.\n",
      "Provisional Start: 2022-01-11T00:00:00\n",
      "Provisional End: 2022-11-07T00:00:00\n",
      "Data for chunk 1 of 2 extracted\n",
      "Provisional Start: 2022-11-07T00:00:00\n",
      "Provisional End: 2023-09-03T00:00:00\n"
     ]
    },
    {
     "name": "stderr",
     "output_type": "stream",
     "text": [
      "C:\\Users\\Roman\\AppData\\Local\\Packages\\PythonSoftwareFoundation.Python.3.10_qbz5n2kfra8p0\\LocalCache\\local-packages\\Python310\\site-packages\\Historic_Crypto\\HistoricalData.py:176: FutureWarning: The frame.append method is deprecated and will be removed from pandas in a future version. Use pandas.concat instead.\n",
      "  data = data.append(dataset)\n"
     ]
    },
    {
     "name": "stdout",
     "output_type": "stream",
     "text": [
      "Data for chunk 2 of 2 extracted\n",
      "Saved to C:\\Users\\Roman\\Desktop\\DMLS_project\\Crypto\\API3-USDT_diff.csv\n",
      "AVAX-EUR\n",
      "Checking input parameters are in the correct format.\n",
      "Formatting Dates.\n",
      "Checking if user supplied is available on the CoinBase Pro API.\n",
      "Connected to the CoinBase Pro API.\n",
      "Ticker 'AVAX-EUR' found at the CoinBase Pro API, continuing to extraction.\n",
      "Provisional Start: 2022-01-11T00:00:00\n",
      "Provisional End: 2022-11-07T00:00:00\n",
      "Data for chunk 1 of 2 extracted\n",
      "Provisional Start: 2022-11-07T00:00:00\n",
      "Provisional End: 2023-09-03T00:00:00\n"
     ]
    },
    {
     "name": "stderr",
     "output_type": "stream",
     "text": [
      "C:\\Users\\Roman\\AppData\\Local\\Packages\\PythonSoftwareFoundation.Python.3.10_qbz5n2kfra8p0\\LocalCache\\local-packages\\Python310\\site-packages\\Historic_Crypto\\HistoricalData.py:176: FutureWarning: The frame.append method is deprecated and will be removed from pandas in a future version. Use pandas.concat instead.\n",
      "  data = data.append(dataset)\n"
     ]
    },
    {
     "name": "stdout",
     "output_type": "stream",
     "text": [
      "Data for chunk 2 of 2 extracted\n",
      "Saved to C:\\Users\\Roman\\Desktop\\DMLS_project\\Crypto\\AVAX-EUR_diff.csv\n",
      "USDT-GBP\n",
      "Checking input parameters are in the correct format.\n",
      "Formatting Dates.\n",
      "Checking if user supplied is available on the CoinBase Pro API.\n",
      "Connected to the CoinBase Pro API.\n",
      "Ticker 'USDT-GBP' found at the CoinBase Pro API, continuing to extraction.\n",
      "Provisional Start: 2022-01-11T00:00:00\n",
      "Provisional End: 2022-11-07T00:00:00\n",
      "Data for chunk 1 of 2 extracted\n",
      "Provisional Start: 2022-11-07T00:00:00\n",
      "Provisional End: 2023-09-03T00:00:00\n"
     ]
    },
    {
     "name": "stderr",
     "output_type": "stream",
     "text": [
      "C:\\Users\\Roman\\AppData\\Local\\Packages\\PythonSoftwareFoundation.Python.3.10_qbz5n2kfra8p0\\LocalCache\\local-packages\\Python310\\site-packages\\Historic_Crypto\\HistoricalData.py:176: FutureWarning: The frame.append method is deprecated and will be removed from pandas in a future version. Use pandas.concat instead.\n",
      "  data = data.append(dataset)\n"
     ]
    },
    {
     "name": "stdout",
     "output_type": "stream",
     "text": [
      "Data for chunk 2 of 2 extracted\n",
      "Saved to C:\\Users\\Roman\\Desktop\\DMLS_project\\Crypto\\USDT-GBP_diff.csv\n",
      "SHPING-EUR\n",
      "Checking input parameters are in the correct format.\n",
      "Formatting Dates.\n",
      "Checking if user supplied is available on the CoinBase Pro API.\n",
      "Connected to the CoinBase Pro API.\n",
      "Ticker 'SHPING-EUR' found at the CoinBase Pro API, continuing to extraction.\n",
      "Provisional Start: 2022-01-11T00:00:00\n",
      "Provisional End: 2022-11-07T00:00:00\n",
      "Data for chunk 1 of 2 extracted\n",
      "Provisional Start: 2022-11-07T00:00:00\n",
      "Provisional End: 2023-09-03T00:00:00\n"
     ]
    },
    {
     "name": "stderr",
     "output_type": "stream",
     "text": [
      "C:\\Users\\Roman\\AppData\\Local\\Packages\\PythonSoftwareFoundation.Python.3.10_qbz5n2kfra8p0\\LocalCache\\local-packages\\Python310\\site-packages\\Historic_Crypto\\HistoricalData.py:176: FutureWarning: The frame.append method is deprecated and will be removed from pandas in a future version. Use pandas.concat instead.\n",
      "  data = data.append(dataset)\n"
     ]
    },
    {
     "name": "stdout",
     "output_type": "stream",
     "text": [
      "Data for chunk 2 of 2 extracted\n",
      "Saved to C:\\Users\\Roman\\Desktop\\DMLS_project\\Crypto\\SHPING-EUR_diff.csv\n",
      "DASH-BTC\n",
      "Checking input parameters are in the correct format.\n",
      "Formatting Dates.\n",
      "Checking if user supplied is available on the CoinBase Pro API.\n",
      "Connected to the CoinBase Pro API.\n",
      "Ticker 'DASH-BTC' found at the CoinBase Pro API, continuing to extraction.\n",
      "Provisional Start: 2022-01-11T00:00:00\n",
      "Provisional End: 2022-11-07T00:00:00\n",
      "Data for chunk 1 of 2 extracted\n",
      "Provisional Start: 2022-11-07T00:00:00\n",
      "Provisional End: 2023-09-03T00:00:00\n"
     ]
    },
    {
     "name": "stderr",
     "output_type": "stream",
     "text": [
      "C:\\Users\\Roman\\AppData\\Local\\Packages\\PythonSoftwareFoundation.Python.3.10_qbz5n2kfra8p0\\LocalCache\\local-packages\\Python310\\site-packages\\Historic_Crypto\\HistoricalData.py:176: FutureWarning: The frame.append method is deprecated and will be removed from pandas in a future version. Use pandas.concat instead.\n",
      "  data = data.append(dataset)\n"
     ]
    },
    {
     "name": "stdout",
     "output_type": "stream",
     "text": [
      "Data for chunk 2 of 2 extracted\n",
      "Saved to C:\\Users\\Roman\\Desktop\\DMLS_project\\Crypto\\DASH-BTC_diff.csv\n",
      "GTC-USD\n",
      "Checking input parameters are in the correct format.\n",
      "Formatting Dates.\n",
      "Checking if user supplied is available on the CoinBase Pro API.\n",
      "Connected to the CoinBase Pro API.\n",
      "Ticker 'GTC-USD' found at the CoinBase Pro API, continuing to extraction.\n",
      "Provisional Start: 2022-01-11T00:00:00\n",
      "Provisional End: 2022-11-07T00:00:00\n",
      "Data for chunk 1 of 2 extracted\n"
     ]
    },
    {
     "name": "stderr",
     "output_type": "stream",
     "text": [
      "C:\\Users\\Roman\\AppData\\Local\\Packages\\PythonSoftwareFoundation.Python.3.10_qbz5n2kfra8p0\\LocalCache\\local-packages\\Python310\\site-packages\\Historic_Crypto\\HistoricalData.py:176: FutureWarning: The frame.append method is deprecated and will be removed from pandas in a future version. Use pandas.concat instead.\n",
      "  data = data.append(dataset)\n"
     ]
    },
    {
     "name": "stdout",
     "output_type": "stream",
     "text": [
      "Provisional Start: 2022-11-07T00:00:00\n",
      "Provisional End: 2023-09-03T00:00:00\n",
      "Data for chunk 2 of 2 extracted\n",
      "Saved to C:\\Users\\Roman\\Desktop\\DMLS_project\\Crypto\\GTC-USD_diff.csv\n",
      "SUSHI-ETH\n",
      "Checking input parameters are in the correct format.\n",
      "Formatting Dates.\n",
      "Checking if user supplied is available on the CoinBase Pro API.\n",
      "Connected to the CoinBase Pro API.\n",
      "Ticker 'SUSHI-ETH' found at the CoinBase Pro API, continuing to extraction.\n",
      "Provisional Start: 2022-01-11T00:00:00\n",
      "Provisional End: 2022-11-07T00:00:00\n",
      "Data for chunk 1 of 2 extracted\n",
      "Provisional Start: 2022-11-07T00:00:00\n",
      "Provisional End: 2023-09-03T00:00:00\n"
     ]
    },
    {
     "name": "stderr",
     "output_type": "stream",
     "text": [
      "C:\\Users\\Roman\\AppData\\Local\\Packages\\PythonSoftwareFoundation.Python.3.10_qbz5n2kfra8p0\\LocalCache\\local-packages\\Python310\\site-packages\\Historic_Crypto\\HistoricalData.py:176: FutureWarning: The frame.append method is deprecated and will be removed from pandas in a future version. Use pandas.concat instead.\n",
      "  data = data.append(dataset)\n"
     ]
    },
    {
     "name": "stdout",
     "output_type": "stream",
     "text": [
      "Data for chunk 2 of 2 extracted\n",
      "Saved to C:\\Users\\Roman\\Desktop\\DMLS_project\\Crypto\\SUSHI-ETH_diff.csv\n",
      "NEAR-USDT\n",
      "Checking input parameters are in the correct format.\n",
      "Formatting Dates.\n",
      "Checking if user supplied is available on the CoinBase Pro API.\n",
      "Connected to the CoinBase Pro API.\n",
      "Ticker 'NEAR-USDT' found at the CoinBase Pro API, continuing to extraction.\n",
      "Provisional Start: 2022-01-11T00:00:00\n",
      "Provisional End: 2022-11-07T00:00:00\n",
      "Data for chunk 1 of 2 extracted\n"
     ]
    },
    {
     "name": "stderr",
     "output_type": "stream",
     "text": [
      "C:\\Users\\Roman\\AppData\\Local\\Packages\\PythonSoftwareFoundation.Python.3.10_qbz5n2kfra8p0\\LocalCache\\local-packages\\Python310\\site-packages\\Historic_Crypto\\HistoricalData.py:176: FutureWarning: The frame.append method is deprecated and will be removed from pandas in a future version. Use pandas.concat instead.\n",
      "  data = data.append(dataset)\n"
     ]
    },
    {
     "name": "stdout",
     "output_type": "stream",
     "text": [
      "Provisional Start: 2022-11-07T00:00:00\n",
      "Provisional End: 2023-09-03T00:00:00\n",
      "Data for chunk 2 of 2 extracted\n",
      "Saved to C:\\Users\\Roman\\Desktop\\DMLS_project\\Crypto\\NEAR-USDT_diff.csv\n",
      "AXS-EUR\n",
      "Checking input parameters are in the correct format.\n",
      "Formatting Dates.\n",
      "Checking if user supplied is available on the CoinBase Pro API.\n",
      "Connected to the CoinBase Pro API.\n",
      "Ticker 'AXS-EUR' found at the CoinBase Pro API, continuing to extraction.\n",
      "Provisional Start: 2022-01-11T00:00:00\n",
      "Provisional End: 2022-11-07T00:00:00\n",
      "Data for chunk 1 of 2 extracted\n",
      "Provisional Start: 2022-11-07T00:00:00\n",
      "Provisional End: 2023-09-03T00:00:00\n",
      "Data for chunk 2 of 2 extracted\n"
     ]
    },
    {
     "name": "stderr",
     "output_type": "stream",
     "text": [
      "C:\\Users\\Roman\\AppData\\Local\\Packages\\PythonSoftwareFoundation.Python.3.10_qbz5n2kfra8p0\\LocalCache\\local-packages\\Python310\\site-packages\\Historic_Crypto\\HistoricalData.py:176: FutureWarning: The frame.append method is deprecated and will be removed from pandas in a future version. Use pandas.concat instead.\n",
      "  data = data.append(dataset)\n"
     ]
    },
    {
     "name": "stdout",
     "output_type": "stream",
     "text": [
      "Saved to C:\\Users\\Roman\\Desktop\\DMLS_project\\Crypto\\AXS-EUR_diff.csv\n",
      "FIS-USD\n",
      "Checking input parameters are in the correct format.\n",
      "Formatting Dates.\n",
      "Checking if user supplied is available on the CoinBase Pro API.\n",
      "Connected to the CoinBase Pro API.\n",
      "Ticker 'FIS-USD' found at the CoinBase Pro API, continuing to extraction.\n",
      "Provisional Start: 2022-01-11T00:00:00\n",
      "Provisional End: 2022-11-07T00:00:00\n",
      "Data for chunk 1 of 2 extracted\n",
      "Provisional Start: 2022-11-07T00:00:00\n",
      "Provisional End: 2023-09-03T00:00:00\n",
      "Data for chunk 2 of 2 extracted\n"
     ]
    },
    {
     "name": "stderr",
     "output_type": "stream",
     "text": [
      "C:\\Users\\Roman\\AppData\\Local\\Packages\\PythonSoftwareFoundation.Python.3.10_qbz5n2kfra8p0\\LocalCache\\local-packages\\Python310\\site-packages\\Historic_Crypto\\HistoricalData.py:176: FutureWarning: The frame.append method is deprecated and will be removed from pandas in a future version. Use pandas.concat instead.\n",
      "  data = data.append(dataset)\n"
     ]
    },
    {
     "name": "stdout",
     "output_type": "stream",
     "text": [
      "Saved to C:\\Users\\Roman\\Desktop\\DMLS_project\\Crypto\\FIS-USD_diff.csv\n",
      "UST-USD\n",
      "Checking input parameters are in the correct format.\n",
      "Formatting Dates.\n",
      "Checking if user supplied is available on the CoinBase Pro API.\n",
      "Connected to the CoinBase Pro API.\n",
      "Ticker 'UST-USD' found at the CoinBase Pro API, continuing to extraction.\n",
      "Provisional Start: 2022-01-11T00:00:00\n",
      "Provisional End: 2022-11-07T00:00:00\n",
      "Data for chunk 1 of 2 extracted\n",
      "Provisional Start: 2022-11-07T00:00:00\n",
      "Provisional End: 2023-09-03T00:00:00\n"
     ]
    },
    {
     "name": "stderr",
     "output_type": "stream",
     "text": [
      "C:\\Users\\Roman\\AppData\\Local\\Packages\\PythonSoftwareFoundation.Python.3.10_qbz5n2kfra8p0\\LocalCache\\local-packages\\Python310\\site-packages\\Historic_Crypto\\HistoricalData.py:176: FutureWarning: The frame.append method is deprecated and will be removed from pandas in a future version. Use pandas.concat instead.\n",
      "  data = data.append(dataset)\n"
     ]
    },
    {
     "name": "stdout",
     "output_type": "stream",
     "text": [
      "Data for chunk 2 of 2 extracted\n",
      "CoinBase Pro API did not have available data for 'UST-USD' beginning at 2022-01-11-00-00.  \n",
      "                        Trying a later date:'2022-11-07T00:00:00'\n",
      "Saved to C:\\Users\\Roman\\Desktop\\DMLS_project\\Crypto\\UST-USD_diff.csv\n",
      "EGLD-USD\n",
      "Checking input parameters are in the correct format.\n",
      "Formatting Dates.\n",
      "Checking if user supplied is available on the CoinBase Pro API.\n",
      "Connected to the CoinBase Pro API.\n",
      "Ticker 'EGLD-USD' found at the CoinBase Pro API, continuing to extraction.\n",
      "Provisional Start: 2022-01-11T00:00:00\n",
      "Provisional End: 2022-11-07T00:00:00\n",
      "Data for chunk 1 of 2 extracted\n",
      "CoinBase Pro API did not have available data for 'EGLD-USD' beginning at 2022-01-11-00-00.  \n",
      "                        Trying a later date:'2022-01-11T00:00:00'\n",
      "Provisional Start: 2022-11-07T00:00:00\n",
      "Provisional End: 2023-09-03T00:00:00\n",
      "Data for chunk 2 of 2 extracted\n"
     ]
    },
    {
     "name": "stderr",
     "output_type": "stream",
     "text": [
      "C:\\Users\\Roman\\AppData\\Local\\Packages\\PythonSoftwareFoundation.Python.3.10_qbz5n2kfra8p0\\LocalCache\\local-packages\\Python310\\site-packages\\Historic_Crypto\\HistoricalData.py:176: FutureWarning: The frame.append method is deprecated and will be removed from pandas in a future version. Use pandas.concat instead.\n",
      "  data = data.append(dataset)\n"
     ]
    },
    {
     "name": "stdout",
     "output_type": "stream",
     "text": [
      "Saved to C:\\Users\\Roman\\Desktop\\DMLS_project\\Crypto\\EGLD-USD_diff.csv\n",
      "KRL-EUR\n",
      "Checking input parameters are in the correct format.\n",
      "Formatting Dates.\n",
      "Checking if user supplied is available on the CoinBase Pro API.\n",
      "Connected to the CoinBase Pro API.\n",
      "Ticker 'KRL-EUR' found at the CoinBase Pro API, continuing to extraction.\n",
      "Provisional Start: 2022-01-11T00:00:00\n",
      "Provisional End: 2022-11-07T00:00:00\n",
      "Data for chunk 1 of 2 extracted\n"
     ]
    },
    {
     "name": "stderr",
     "output_type": "stream",
     "text": [
      "C:\\Users\\Roman\\AppData\\Local\\Packages\\PythonSoftwareFoundation.Python.3.10_qbz5n2kfra8p0\\LocalCache\\local-packages\\Python310\\site-packages\\Historic_Crypto\\HistoricalData.py:176: FutureWarning: The frame.append method is deprecated and will be removed from pandas in a future version. Use pandas.concat instead.\n",
      "  data = data.append(dataset)\n"
     ]
    },
    {
     "name": "stdout",
     "output_type": "stream",
     "text": [
      "Provisional Start: 2022-11-07T00:00:00\n",
      "Provisional End: 2023-09-03T00:00:00\n",
      "Data for chunk 2 of 2 extracted\n",
      "Saved to C:\\Users\\Roman\\Desktop\\DMLS_project\\Crypto\\KRL-EUR_diff.csv\n",
      "XYO-BTC\n",
      "Checking input parameters are in the correct format.\n",
      "Formatting Dates.\n",
      "Checking if user supplied is available on the CoinBase Pro API.\n",
      "Connected to the CoinBase Pro API.\n",
      "Ticker 'XYO-BTC' found at the CoinBase Pro API, continuing to extraction.\n",
      "Provisional Start: 2022-01-11T00:00:00\n",
      "Provisional End: 2022-11-07T00:00:00\n",
      "Data for chunk 1 of 2 extracted\n",
      "Provisional Start: 2022-11-07T00:00:00\n",
      "Provisional End: 2023-09-03T00:00:00\n"
     ]
    },
    {
     "name": "stderr",
     "output_type": "stream",
     "text": [
      "C:\\Users\\Roman\\AppData\\Local\\Packages\\PythonSoftwareFoundation.Python.3.10_qbz5n2kfra8p0\\LocalCache\\local-packages\\Python310\\site-packages\\Historic_Crypto\\HistoricalData.py:176: FutureWarning: The frame.append method is deprecated and will be removed from pandas in a future version. Use pandas.concat instead.\n",
      "  data = data.append(dataset)\n"
     ]
    },
    {
     "name": "stdout",
     "output_type": "stream",
     "text": [
      "Data for chunk 2 of 2 extracted\n",
      "Saved to C:\\Users\\Roman\\Desktop\\DMLS_project\\Crypto\\XYO-BTC_diff.csv\n",
      "ADA-USDC\n",
      "Checking input parameters are in the correct format.\n",
      "Formatting Dates.\n",
      "Checking if user supplied is available on the CoinBase Pro API.\n",
      "Connected to the CoinBase Pro API.\n",
      "Ticker 'ADA-USDC' found at the CoinBase Pro API, continuing to extraction.\n",
      "Provisional Start: 2022-01-11T00:00:00\n",
      "Provisional End: 2022-11-07T00:00:00\n",
      "Data for chunk 1 of 2 extracted\n",
      "Provisional Start: 2022-11-07T00:00:00\n",
      "Provisional End: 2023-09-03T00:00:00\n"
     ]
    },
    {
     "name": "stderr",
     "output_type": "stream",
     "text": [
      "C:\\Users\\Roman\\AppData\\Local\\Packages\\PythonSoftwareFoundation.Python.3.10_qbz5n2kfra8p0\\LocalCache\\local-packages\\Python310\\site-packages\\Historic_Crypto\\HistoricalData.py:176: FutureWarning: The frame.append method is deprecated and will be removed from pandas in a future version. Use pandas.concat instead.\n",
      "  data = data.append(dataset)\n"
     ]
    },
    {
     "name": "stdout",
     "output_type": "stream",
     "text": [
      "Data for chunk 2 of 2 extracted\n",
      "CoinBase Pro API did not have available data for 'ADA-USDC' beginning at 2022-01-11-00-00.  \n",
      "                        Trying a later date:'2022-11-07T00:00:00'\n",
      "Saved to C:\\Users\\Roman\\Desktop\\DMLS_project\\Crypto\\ADA-USDC_diff.csv\n",
      "AXS-BTC\n",
      "Checking input parameters are in the correct format.\n",
      "Formatting Dates.\n",
      "Checking if user supplied is available on the CoinBase Pro API.\n",
      "Connected to the CoinBase Pro API.\n",
      "Ticker 'AXS-BTC' found at the CoinBase Pro API, continuing to extraction.\n",
      "Provisional Start: 2022-01-11T00:00:00\n",
      "Provisional End: 2022-11-07T00:00:00\n",
      "Data for chunk 1 of 2 extracted\n"
     ]
    },
    {
     "name": "stderr",
     "output_type": "stream",
     "text": [
      "C:\\Users\\Roman\\AppData\\Local\\Packages\\PythonSoftwareFoundation.Python.3.10_qbz5n2kfra8p0\\LocalCache\\local-packages\\Python310\\site-packages\\Historic_Crypto\\HistoricalData.py:176: FutureWarning: The frame.append method is deprecated and will be removed from pandas in a future version. Use pandas.concat instead.\n",
      "  data = data.append(dataset)\n"
     ]
    },
    {
     "name": "stdout",
     "output_type": "stream",
     "text": [
      "Provisional Start: 2022-11-07T00:00:00\n",
      "Provisional End: 2023-09-03T00:00:00\n",
      "Data for chunk 2 of 2 extracted\n",
      "Saved to C:\\Users\\Roman\\Desktop\\DMLS_project\\Crypto\\AXS-BTC_diff.csv\n",
      "SUSHI-BTC\n",
      "Checking input parameters are in the correct format.\n",
      "Formatting Dates.\n",
      "Checking if user supplied is available on the CoinBase Pro API.\n",
      "Connected to the CoinBase Pro API.\n",
      "Ticker 'SUSHI-BTC' found at the CoinBase Pro API, continuing to extraction.\n",
      "Provisional Start: 2022-01-11T00:00:00\n",
      "Provisional End: 2022-11-07T00:00:00\n",
      "Data for chunk 1 of 2 extracted\n"
     ]
    },
    {
     "name": "stderr",
     "output_type": "stream",
     "text": [
      "C:\\Users\\Roman\\AppData\\Local\\Packages\\PythonSoftwareFoundation.Python.3.10_qbz5n2kfra8p0\\LocalCache\\local-packages\\Python310\\site-packages\\Historic_Crypto\\HistoricalData.py:176: FutureWarning: The frame.append method is deprecated and will be removed from pandas in a future version. Use pandas.concat instead.\n",
      "  data = data.append(dataset)\n"
     ]
    },
    {
     "name": "stdout",
     "output_type": "stream",
     "text": [
      "Provisional Start: 2022-11-07T00:00:00\n",
      "Provisional End: 2023-09-03T00:00:00\n",
      "Data for chunk 2 of 2 extracted\n",
      "Saved to C:\\Users\\Roman\\Desktop\\DMLS_project\\Crypto\\SUSHI-BTC_diff.csv\n",
      "AUCTION-EUR\n",
      "Checking input parameters are in the correct format.\n",
      "Formatting Dates.\n",
      "Checking if user supplied is available on the CoinBase Pro API.\n",
      "Connected to the CoinBase Pro API.\n",
      "Ticker 'AUCTION-EUR' found at the CoinBase Pro API, continuing to extraction.\n",
      "Provisional Start: 2022-01-11T00:00:00\n",
      "Provisional End: 2022-11-07T00:00:00\n",
      "Data for chunk 1 of 2 extracted\n",
      "Provisional Start: 2022-11-07T00:00:00\n",
      "Provisional End: 2023-09-03T00:00:00\n"
     ]
    },
    {
     "name": "stderr",
     "output_type": "stream",
     "text": [
      "C:\\Users\\Roman\\AppData\\Local\\Packages\\PythonSoftwareFoundation.Python.3.10_qbz5n2kfra8p0\\LocalCache\\local-packages\\Python310\\site-packages\\Historic_Crypto\\HistoricalData.py:176: FutureWarning: The frame.append method is deprecated and will be removed from pandas in a future version. Use pandas.concat instead.\n",
      "  data = data.append(dataset)\n"
     ]
    },
    {
     "name": "stdout",
     "output_type": "stream",
     "text": [
      "Data for chunk 2 of 2 extracted\n",
      "Saved to C:\\Users\\Roman\\Desktop\\DMLS_project\\Crypto\\AUCTION-EUR_diff.csv\n",
      "IDEX-USD\n",
      "Checking input parameters are in the correct format.\n",
      "Formatting Dates.\n",
      "Checking if user supplied is available on the CoinBase Pro API.\n",
      "Connected to the CoinBase Pro API.\n",
      "Ticker 'IDEX-USD' found at the CoinBase Pro API, continuing to extraction.\n",
      "Provisional Start: 2022-01-11T00:00:00\n",
      "Provisional End: 2022-11-07T00:00:00\n",
      "Data for chunk 1 of 2 extracted\n"
     ]
    },
    {
     "name": "stderr",
     "output_type": "stream",
     "text": [
      "C:\\Users\\Roman\\AppData\\Local\\Packages\\PythonSoftwareFoundation.Python.3.10_qbz5n2kfra8p0\\LocalCache\\local-packages\\Python310\\site-packages\\Historic_Crypto\\HistoricalData.py:176: FutureWarning: The frame.append method is deprecated and will be removed from pandas in a future version. Use pandas.concat instead.\n",
      "  data = data.append(dataset)\n"
     ]
    },
    {
     "name": "stdout",
     "output_type": "stream",
     "text": [
      "Provisional Start: 2022-11-07T00:00:00\n",
      "Provisional End: 2023-09-03T00:00:00\n",
      "Data for chunk 2 of 2 extracted\n",
      "Saved to C:\\Users\\Roman\\Desktop\\DMLS_project\\Crypto\\IDEX-USD_diff.csv\n",
      "BAND-EUR\n",
      "Checking input parameters are in the correct format.\n",
      "Formatting Dates.\n",
      "Checking if user supplied is available on the CoinBase Pro API.\n",
      "Connected to the CoinBase Pro API.\n",
      "Ticker 'BAND-EUR' found at the CoinBase Pro API, continuing to extraction.\n",
      "Provisional Start: 2022-01-11T00:00:00\n",
      "Provisional End: 2022-11-07T00:00:00\n",
      "Data for chunk 1 of 2 extracted\n"
     ]
    },
    {
     "name": "stderr",
     "output_type": "stream",
     "text": [
      "C:\\Users\\Roman\\AppData\\Local\\Packages\\PythonSoftwareFoundation.Python.3.10_qbz5n2kfra8p0\\LocalCache\\local-packages\\Python310\\site-packages\\Historic_Crypto\\HistoricalData.py:176: FutureWarning: The frame.append method is deprecated and will be removed from pandas in a future version. Use pandas.concat instead.\n",
      "  data = data.append(dataset)\n"
     ]
    },
    {
     "name": "stdout",
     "output_type": "stream",
     "text": [
      "Provisional Start: 2022-11-07T00:00:00\n",
      "Provisional End: 2023-09-03T00:00:00\n",
      "Data for chunk 2 of 2 extracted\n",
      "Saved to C:\\Users\\Roman\\Desktop\\DMLS_project\\Crypto\\BAND-EUR_diff.csv\n",
      "UNI-GBP\n",
      "Checking input parameters are in the correct format.\n",
      "Formatting Dates.\n",
      "Checking if user supplied is available on the CoinBase Pro API.\n",
      "Connected to the CoinBase Pro API.\n",
      "Ticker 'UNI-GBP' found at the CoinBase Pro API, continuing to extraction.\n",
      "Provisional Start: 2022-01-11T00:00:00\n",
      "Provisional End: 2022-11-07T00:00:00\n",
      "Data for chunk 1 of 2 extracted\n"
     ]
    },
    {
     "name": "stderr",
     "output_type": "stream",
     "text": [
      "C:\\Users\\Roman\\AppData\\Local\\Packages\\PythonSoftwareFoundation.Python.3.10_qbz5n2kfra8p0\\LocalCache\\local-packages\\Python310\\site-packages\\Historic_Crypto\\HistoricalData.py:176: FutureWarning: The frame.append method is deprecated and will be removed from pandas in a future version. Use pandas.concat instead.\n",
      "  data = data.append(dataset)\n"
     ]
    },
    {
     "name": "stdout",
     "output_type": "stream",
     "text": [
      "Provisional Start: 2022-11-07T00:00:00\n",
      "Provisional End: 2023-09-03T00:00:00\n",
      "Data for chunk 2 of 2 extracted\n",
      "Saved to C:\\Users\\Roman\\Desktop\\DMLS_project\\Crypto\\UNI-GBP_diff.csv\n",
      "XLM-BTC\n",
      "Checking input parameters are in the correct format.\n",
      "Formatting Dates.\n",
      "Checking if user supplied is available on the CoinBase Pro API.\n",
      "Connected to the CoinBase Pro API.\n",
      "Ticker 'XLM-BTC' found at the CoinBase Pro API, continuing to extraction.\n",
      "Provisional Start: 2022-01-11T00:00:00\n",
      "Provisional End: 2022-11-07T00:00:00\n",
      "Data for chunk 1 of 2 extracted\n"
     ]
    },
    {
     "name": "stderr",
     "output_type": "stream",
     "text": [
      "C:\\Users\\Roman\\AppData\\Local\\Packages\\PythonSoftwareFoundation.Python.3.10_qbz5n2kfra8p0\\LocalCache\\local-packages\\Python310\\site-packages\\Historic_Crypto\\HistoricalData.py:176: FutureWarning: The frame.append method is deprecated and will be removed from pandas in a future version. Use pandas.concat instead.\n",
      "  data = data.append(dataset)\n"
     ]
    },
    {
     "name": "stdout",
     "output_type": "stream",
     "text": [
      "Provisional Start: 2022-11-07T00:00:00\n",
      "Provisional End: 2023-09-03T00:00:00\n",
      "Data for chunk 2 of 2 extracted\n",
      "Saved to C:\\Users\\Roman\\Desktop\\DMLS_project\\Crypto\\XLM-BTC_diff.csv\n",
      "BTRST-BTC\n",
      "Checking input parameters are in the correct format.\n",
      "Formatting Dates.\n",
      "Checking if user supplied is available on the CoinBase Pro API.\n",
      "Connected to the CoinBase Pro API.\n",
      "Ticker 'BTRST-BTC' found at the CoinBase Pro API, continuing to extraction.\n",
      "Provisional Start: 2022-01-11T00:00:00\n",
      "Provisional End: 2022-11-07T00:00:00\n",
      "Data for chunk 1 of 2 extracted\n",
      "Provisional Start: 2022-11-07T00:00:00\n",
      "Provisional End: 2023-09-03T00:00:00\n"
     ]
    },
    {
     "name": "stderr",
     "output_type": "stream",
     "text": [
      "C:\\Users\\Roman\\AppData\\Local\\Packages\\PythonSoftwareFoundation.Python.3.10_qbz5n2kfra8p0\\LocalCache\\local-packages\\Python310\\site-packages\\Historic_Crypto\\HistoricalData.py:176: FutureWarning: The frame.append method is deprecated and will be removed from pandas in a future version. Use pandas.concat instead.\n",
      "  data = data.append(dataset)\n"
     ]
    },
    {
     "name": "stdout",
     "output_type": "stream",
     "text": [
      "Data for chunk 2 of 2 extracted\n",
      "Saved to C:\\Users\\Roman\\Desktop\\DMLS_project\\Crypto\\BTRST-BTC_diff.csv\n",
      "LQTY-EUR\n",
      "Checking input parameters are in the correct format.\n",
      "Formatting Dates.\n",
      "Checking if user supplied is available on the CoinBase Pro API.\n",
      "Connected to the CoinBase Pro API.\n",
      "Ticker 'LQTY-EUR' found at the CoinBase Pro API, continuing to extraction.\n",
      "Provisional Start: 2022-01-11T00:00:00\n",
      "Provisional End: 2022-11-07T00:00:00\n",
      "Data for chunk 1 of 2 extracted\n",
      "Provisional Start: 2022-11-07T00:00:00\n",
      "Provisional End: 2023-09-03T00:00:00\n"
     ]
    },
    {
     "name": "stderr",
     "output_type": "stream",
     "text": [
      "C:\\Users\\Roman\\AppData\\Local\\Packages\\PythonSoftwareFoundation.Python.3.10_qbz5n2kfra8p0\\LocalCache\\local-packages\\Python310\\site-packages\\Historic_Crypto\\HistoricalData.py:176: FutureWarning: The frame.append method is deprecated and will be removed from pandas in a future version. Use pandas.concat instead.\n",
      "  data = data.append(dataset)\n"
     ]
    },
    {
     "name": "stdout",
     "output_type": "stream",
     "text": [
      "Data for chunk 2 of 2 extracted\n",
      "Saved to C:\\Users\\Roman\\Desktop\\DMLS_project\\Crypto\\LQTY-EUR_diff.csv\n",
      "EOS-EUR\n",
      "Checking input parameters are in the correct format.\n",
      "Formatting Dates.\n",
      "Checking if user supplied is available on the CoinBase Pro API.\n",
      "Connected to the CoinBase Pro API.\n",
      "Ticker 'EOS-EUR' found at the CoinBase Pro API, continuing to extraction.\n",
      "Provisional Start: 2022-01-11T00:00:00\n",
      "Provisional End: 2022-11-07T00:00:00\n",
      "Data for chunk 1 of 2 extracted\n",
      "Provisional Start: 2022-11-07T00:00:00\n",
      "Provisional End: 2023-09-03T00:00:00\n"
     ]
    },
    {
     "name": "stderr",
     "output_type": "stream",
     "text": [
      "C:\\Users\\Roman\\AppData\\Local\\Packages\\PythonSoftwareFoundation.Python.3.10_qbz5n2kfra8p0\\LocalCache\\local-packages\\Python310\\site-packages\\Historic_Crypto\\HistoricalData.py:176: FutureWarning: The frame.append method is deprecated and will be removed from pandas in a future version. Use pandas.concat instead.\n",
      "  data = data.append(dataset)\n"
     ]
    },
    {
     "name": "stdout",
     "output_type": "stream",
     "text": [
      "Data for chunk 2 of 2 extracted\n",
      "Saved to C:\\Users\\Roman\\Desktop\\DMLS_project\\Crypto\\EOS-EUR_diff.csv\n",
      "COVAL-USD\n",
      "Checking input parameters are in the correct format.\n",
      "Formatting Dates.\n",
      "Checking if user supplied is available on the CoinBase Pro API.\n",
      "Connected to the CoinBase Pro API.\n",
      "Ticker 'COVAL-USD' found at the CoinBase Pro API, continuing to extraction.\n",
      "Provisional Start: 2022-01-11T00:00:00\n",
      "Provisional End: 2022-11-07T00:00:00\n",
      "Data for chunk 1 of 2 extracted\n"
     ]
    },
    {
     "name": "stderr",
     "output_type": "stream",
     "text": [
      "C:\\Users\\Roman\\AppData\\Local\\Packages\\PythonSoftwareFoundation.Python.3.10_qbz5n2kfra8p0\\LocalCache\\local-packages\\Python310\\site-packages\\Historic_Crypto\\HistoricalData.py:176: FutureWarning: The frame.append method is deprecated and will be removed from pandas in a future version. Use pandas.concat instead.\n",
      "  data = data.append(dataset)\n"
     ]
    },
    {
     "name": "stdout",
     "output_type": "stream",
     "text": [
      "Provisional Start: 2022-11-07T00:00:00\n",
      "Provisional End: 2023-09-03T00:00:00\n",
      "Data for chunk 2 of 2 extracted\n",
      "Saved to C:\\Users\\Roman\\Desktop\\DMLS_project\\Crypto\\COVAL-USD_diff.csv\n",
      "LOKA-USD\n",
      "Checking input parameters are in the correct format.\n",
      "Formatting Dates.\n",
      "Checking if user supplied is available on the CoinBase Pro API.\n",
      "Connected to the CoinBase Pro API.\n",
      "Ticker 'LOKA-USD' found at the CoinBase Pro API, continuing to extraction.\n",
      "Provisional Start: 2022-01-11T00:00:00\n",
      "Provisional End: 2022-11-07T00:00:00\n",
      "Data for chunk 1 of 2 extracted\n"
     ]
    },
    {
     "name": "stderr",
     "output_type": "stream",
     "text": [
      "C:\\Users\\Roman\\AppData\\Local\\Packages\\PythonSoftwareFoundation.Python.3.10_qbz5n2kfra8p0\\LocalCache\\local-packages\\Python310\\site-packages\\Historic_Crypto\\HistoricalData.py:176: FutureWarning: The frame.append method is deprecated and will be removed from pandas in a future version. Use pandas.concat instead.\n",
      "  data = data.append(dataset)\n"
     ]
    },
    {
     "name": "stdout",
     "output_type": "stream",
     "text": [
      "Provisional Start: 2022-11-07T00:00:00\n",
      "Provisional End: 2023-09-03T00:00:00\n",
      "Data for chunk 2 of 2 extracted\n",
      "Saved to C:\\Users\\Roman\\Desktop\\DMLS_project\\Crypto\\LOKA-USD_diff.csv\n",
      "CTX-USDT\n",
      "Checking input parameters are in the correct format.\n",
      "Formatting Dates.\n",
      "Checking if user supplied is available on the CoinBase Pro API.\n",
      "Connected to the CoinBase Pro API.\n",
      "Ticker 'CTX-USDT' found at the CoinBase Pro API, continuing to extraction.\n",
      "Provisional Start: 2022-01-11T00:00:00\n",
      "Provisional End: 2022-11-07T00:00:00\n",
      "Data for chunk 1 of 2 extracted\n",
      "Provisional Start: 2022-11-07T00:00:00\n",
      "Provisional End: 2023-09-03T00:00:00\n"
     ]
    },
    {
     "name": "stderr",
     "output_type": "stream",
     "text": [
      "C:\\Users\\Roman\\AppData\\Local\\Packages\\PythonSoftwareFoundation.Python.3.10_qbz5n2kfra8p0\\LocalCache\\local-packages\\Python310\\site-packages\\Historic_Crypto\\HistoricalData.py:176: FutureWarning: The frame.append method is deprecated and will be removed from pandas in a future version. Use pandas.concat instead.\n",
      "  data = data.append(dataset)\n"
     ]
    },
    {
     "name": "stdout",
     "output_type": "stream",
     "text": [
      "Data for chunk 2 of 2 extracted\n",
      "Saved to C:\\Users\\Roman\\Desktop\\DMLS_project\\Crypto\\CTX-USDT_diff.csv\n",
      "CVC-USD\n",
      "Checking input parameters are in the correct format.\n",
      "Formatting Dates.\n",
      "Checking if user supplied is available on the CoinBase Pro API.\n",
      "Connected to the CoinBase Pro API.\n",
      "Ticker 'CVC-USD' found at the CoinBase Pro API, continuing to extraction.\n",
      "Provisional Start: 2022-01-11T00:00:00\n",
      "Provisional End: 2022-11-07T00:00:00\n",
      "Data for chunk 1 of 2 extracted\n",
      "Provisional Start: 2022-11-07T00:00:00\n",
      "Provisional End: 2023-09-03T00:00:00\n"
     ]
    },
    {
     "name": "stderr",
     "output_type": "stream",
     "text": [
      "C:\\Users\\Roman\\AppData\\Local\\Packages\\PythonSoftwareFoundation.Python.3.10_qbz5n2kfra8p0\\LocalCache\\local-packages\\Python310\\site-packages\\Historic_Crypto\\HistoricalData.py:176: FutureWarning: The frame.append method is deprecated and will be removed from pandas in a future version. Use pandas.concat instead.\n",
      "  data = data.append(dataset)\n"
     ]
    },
    {
     "name": "stdout",
     "output_type": "stream",
     "text": [
      "Data for chunk 2 of 2 extracted\n",
      "Saved to C:\\Users\\Roman\\Desktop\\DMLS_project\\Crypto\\CVC-USD_diff.csv\n",
      "BICO-EUR\n",
      "Checking input parameters are in the correct format.\n",
      "Formatting Dates.\n",
      "Checking if user supplied is available on the CoinBase Pro API.\n",
      "Connected to the CoinBase Pro API.\n",
      "Ticker 'BICO-EUR' found at the CoinBase Pro API, continuing to extraction.\n",
      "Provisional Start: 2022-01-11T00:00:00\n",
      "Provisional End: 2022-11-07T00:00:00\n",
      "Data for chunk 1 of 2 extracted\n"
     ]
    },
    {
     "name": "stderr",
     "output_type": "stream",
     "text": [
      "C:\\Users\\Roman\\AppData\\Local\\Packages\\PythonSoftwareFoundation.Python.3.10_qbz5n2kfra8p0\\LocalCache\\local-packages\\Python310\\site-packages\\Historic_Crypto\\HistoricalData.py:176: FutureWarning: The frame.append method is deprecated and will be removed from pandas in a future version. Use pandas.concat instead.\n",
      "  data = data.append(dataset)\n"
     ]
    },
    {
     "name": "stdout",
     "output_type": "stream",
     "text": [
      "Provisional Start: 2022-11-07T00:00:00\n",
      "Provisional End: 2023-09-03T00:00:00\n",
      "Data for chunk 2 of 2 extracted\n",
      "Saved to C:\\Users\\Roman\\Desktop\\DMLS_project\\Crypto\\BICO-EUR_diff.csv\n",
      "CVX-USD\n",
      "Checking input parameters are in the correct format.\n",
      "Formatting Dates.\n",
      "Checking if user supplied is available on the CoinBase Pro API.\n",
      "Connected to the CoinBase Pro API.\n",
      "Ticker 'CVX-USD' found at the CoinBase Pro API, continuing to extraction.\n",
      "Provisional Start: 2022-01-11T00:00:00\n",
      "Provisional End: 2022-11-07T00:00:00\n",
      "Data for chunk 1 of 2 extracted\n",
      "Provisional Start: 2022-11-07T00:00:00\n",
      "Provisional End: 2023-09-03T00:00:00\n",
      "Data for chunk 2 of 2 extracted\n"
     ]
    },
    {
     "name": "stderr",
     "output_type": "stream",
     "text": [
      "C:\\Users\\Roman\\AppData\\Local\\Packages\\PythonSoftwareFoundation.Python.3.10_qbz5n2kfra8p0\\LocalCache\\local-packages\\Python310\\site-packages\\Historic_Crypto\\HistoricalData.py:176: FutureWarning: The frame.append method is deprecated and will be removed from pandas in a future version. Use pandas.concat instead.\n",
      "  data = data.append(dataset)\n"
     ]
    },
    {
     "name": "stdout",
     "output_type": "stream",
     "text": [
      "Saved to C:\\Users\\Roman\\Desktop\\DMLS_project\\Crypto\\CVX-USD_diff.csv\n",
      "SHIB-GBP\n",
      "Checking input parameters are in the correct format.\n",
      "Formatting Dates.\n",
      "Checking if user supplied is available on the CoinBase Pro API.\n",
      "Connected to the CoinBase Pro API.\n",
      "Ticker 'SHIB-GBP' found at the CoinBase Pro API, continuing to extraction.\n",
      "Provisional Start: 2022-01-11T00:00:00\n",
      "Provisional End: 2022-11-07T00:00:00\n",
      "Data for chunk 1 of 2 extracted\n",
      "Provisional Start: 2022-11-07T00:00:00\n",
      "Provisional End: 2023-09-03T00:00:00\n"
     ]
    },
    {
     "name": "stderr",
     "output_type": "stream",
     "text": [
      "C:\\Users\\Roman\\AppData\\Local\\Packages\\PythonSoftwareFoundation.Python.3.10_qbz5n2kfra8p0\\LocalCache\\local-packages\\Python310\\site-packages\\Historic_Crypto\\HistoricalData.py:176: FutureWarning: The frame.append method is deprecated and will be removed from pandas in a future version. Use pandas.concat instead.\n",
      "  data = data.append(dataset)\n"
     ]
    },
    {
     "name": "stdout",
     "output_type": "stream",
     "text": [
      "Data for chunk 2 of 2 extracted\n",
      "Saved to C:\\Users\\Roman\\Desktop\\DMLS_project\\Crypto\\SHIB-GBP_diff.csv\n",
      "DIA-USD\n",
      "Checking input parameters are in the correct format.\n",
      "Formatting Dates.\n",
      "Checking if user supplied is available on the CoinBase Pro API.\n",
      "Connected to the CoinBase Pro API.\n",
      "Ticker 'DIA-USD' found at the CoinBase Pro API, continuing to extraction.\n",
      "Provisional Start: 2022-01-11T00:00:00\n",
      "Provisional End: 2022-11-07T00:00:00\n",
      "Data for chunk 1 of 2 extracted\n"
     ]
    },
    {
     "name": "stderr",
     "output_type": "stream",
     "text": [
      "C:\\Users\\Roman\\AppData\\Local\\Packages\\PythonSoftwareFoundation.Python.3.10_qbz5n2kfra8p0\\LocalCache\\local-packages\\Python310\\site-packages\\Historic_Crypto\\HistoricalData.py:176: FutureWarning: The frame.append method is deprecated and will be removed from pandas in a future version. Use pandas.concat instead.\n",
      "  data = data.append(dataset)\n"
     ]
    },
    {
     "name": "stdout",
     "output_type": "stream",
     "text": [
      "Provisional Start: 2022-11-07T00:00:00\n",
      "Provisional End: 2023-09-03T00:00:00\n",
      "Data for chunk 2 of 2 extracted\n",
      "Saved to C:\\Users\\Roman\\Desktop\\DMLS_project\\Crypto\\DIA-USD_diff.csv\n",
      "ALEPH-USD\n",
      "Checking input parameters are in the correct format.\n",
      "Formatting Dates.\n",
      "Checking if user supplied is available on the CoinBase Pro API.\n",
      "Connected to the CoinBase Pro API.\n",
      "Ticker 'ALEPH-USD' found at the CoinBase Pro API, continuing to extraction.\n",
      "Provisional Start: 2022-01-11T00:00:00\n",
      "Provisional End: 2022-11-07T00:00:00\n",
      "Data for chunk 1 of 2 extracted\n",
      "Provisional Start: 2022-11-07T00:00:00\n",
      "Provisional End: 2023-09-03T00:00:00\n"
     ]
    },
    {
     "name": "stderr",
     "output_type": "stream",
     "text": [
      "C:\\Users\\Roman\\AppData\\Local\\Packages\\PythonSoftwareFoundation.Python.3.10_qbz5n2kfra8p0\\LocalCache\\local-packages\\Python310\\site-packages\\Historic_Crypto\\HistoricalData.py:176: FutureWarning: The frame.append method is deprecated and will be removed from pandas in a future version. Use pandas.concat instead.\n",
      "  data = data.append(dataset)\n"
     ]
    },
    {
     "name": "stdout",
     "output_type": "stream",
     "text": [
      "Data for chunk 2 of 2 extracted\n",
      "Saved to C:\\Users\\Roman\\Desktop\\DMLS_project\\Crypto\\ALEPH-USD_diff.csv\n",
      "APT-USDT\n",
      "Checking input parameters are in the correct format.\n",
      "Formatting Dates.\n",
      "Checking if user supplied is available on the CoinBase Pro API.\n",
      "Connected to the CoinBase Pro API.\n",
      "Ticker 'APT-USDT' found at the CoinBase Pro API, continuing to extraction.\n",
      "Provisional Start: 2022-01-11T00:00:00\n",
      "Provisional End: 2022-11-07T00:00:00\n",
      "Data for chunk 1 of 2 extracted\n"
     ]
    },
    {
     "name": "stderr",
     "output_type": "stream",
     "text": [
      "C:\\Users\\Roman\\AppData\\Local\\Packages\\PythonSoftwareFoundation.Python.3.10_qbz5n2kfra8p0\\LocalCache\\local-packages\\Python310\\site-packages\\Historic_Crypto\\HistoricalData.py:176: FutureWarning: The frame.append method is deprecated and will be removed from pandas in a future version. Use pandas.concat instead.\n",
      "  data = data.append(dataset)\n"
     ]
    },
    {
     "name": "stdout",
     "output_type": "stream",
     "text": [
      "Provisional Start: 2022-11-07T00:00:00\n",
      "Provisional End: 2023-09-03T00:00:00\n",
      "Data for chunk 2 of 2 extracted\n",
      "Saved to C:\\Users\\Roman\\Desktop\\DMLS_project\\Crypto\\APT-USDT_diff.csv\n",
      "SNX-BTC\n",
      "Checking input parameters are in the correct format.\n",
      "Formatting Dates.\n",
      "Checking if user supplied is available on the CoinBase Pro API.\n",
      "Connected to the CoinBase Pro API.\n",
      "Ticker 'SNX-BTC' found at the CoinBase Pro API, continuing to extraction.\n",
      "Provisional Start: 2022-01-11T00:00:00\n",
      "Provisional End: 2022-11-07T00:00:00\n",
      "Data for chunk 1 of 2 extracted\n",
      "Provisional Start: 2022-11-07T00:00:00\n",
      "Provisional End: 2023-09-03T00:00:00\n",
      "Data for chunk 2 of 2 extracted\n"
     ]
    },
    {
     "name": "stderr",
     "output_type": "stream",
     "text": [
      "C:\\Users\\Roman\\AppData\\Local\\Packages\\PythonSoftwareFoundation.Python.3.10_qbz5n2kfra8p0\\LocalCache\\local-packages\\Python310\\site-packages\\Historic_Crypto\\HistoricalData.py:176: FutureWarning: The frame.append method is deprecated and will be removed from pandas in a future version. Use pandas.concat instead.\n",
      "  data = data.append(dataset)\n"
     ]
    },
    {
     "name": "stdout",
     "output_type": "stream",
     "text": [
      "Saved to C:\\Users\\Roman\\Desktop\\DMLS_project\\Crypto\\SNX-BTC_diff.csv\n",
      "PRQ-USD\n",
      "Checking input parameters are in the correct format.\n",
      "Formatting Dates.\n",
      "Checking if user supplied is available on the CoinBase Pro API.\n",
      "Connected to the CoinBase Pro API.\n",
      "Ticker 'PRQ-USD' found at the CoinBase Pro API, continuing to extraction.\n",
      "Provisional Start: 2022-01-11T00:00:00\n",
      "Provisional End: 2022-11-07T00:00:00\n",
      "Data for chunk 1 of 2 extracted\n",
      "Provisional Start: 2022-11-07T00:00:00\n",
      "Provisional End: 2023-09-03T00:00:00\n"
     ]
    },
    {
     "name": "stderr",
     "output_type": "stream",
     "text": [
      "C:\\Users\\Roman\\AppData\\Local\\Packages\\PythonSoftwareFoundation.Python.3.10_qbz5n2kfra8p0\\LocalCache\\local-packages\\Python310\\site-packages\\Historic_Crypto\\HistoricalData.py:176: FutureWarning: The frame.append method is deprecated and will be removed from pandas in a future version. Use pandas.concat instead.\n",
      "  data = data.append(dataset)\n"
     ]
    },
    {
     "name": "stdout",
     "output_type": "stream",
     "text": [
      "Data for chunk 2 of 2 extracted\n",
      "Saved to C:\\Users\\Roman\\Desktop\\DMLS_project\\Crypto\\PRQ-USD_diff.csv\n",
      "PERP-USDT\n",
      "Checking input parameters are in the correct format.\n",
      "Formatting Dates.\n",
      "Checking if user supplied is available on the CoinBase Pro API.\n",
      "Connected to the CoinBase Pro API.\n",
      "Ticker 'PERP-USDT' found at the CoinBase Pro API, continuing to extraction.\n",
      "Provisional Start: 2022-01-11T00:00:00\n",
      "Provisional End: 2022-11-07T00:00:00\n"
     ]
    },
    {
     "name": "stderr",
     "output_type": "stream",
     "text": [
      "C:\\Users\\Roman\\AppData\\Local\\Packages\\PythonSoftwareFoundation.Python.3.10_qbz5n2kfra8p0\\LocalCache\\local-packages\\Python310\\site-packages\\Historic_Crypto\\HistoricalData.py:176: FutureWarning: The frame.append method is deprecated and will be removed from pandas in a future version. Use pandas.concat instead.\n",
      "  data = data.append(dataset)\n"
     ]
    },
    {
     "name": "stdout",
     "output_type": "stream",
     "text": [
      "Data for chunk 1 of 2 extracted\n",
      "Provisional Start: 2022-11-07T00:00:00\n",
      "Provisional End: 2023-09-03T00:00:00\n",
      "Data for chunk 2 of 2 extracted\n",
      "Saved to C:\\Users\\Roman\\Desktop\\DMLS_project\\Crypto\\PERP-USDT_diff.csv\n",
      "KRL-USD\n",
      "Checking input parameters are in the correct format.\n",
      "Formatting Dates.\n",
      "Checking if user supplied is available on the CoinBase Pro API.\n",
      "Connected to the CoinBase Pro API.\n",
      "Ticker 'KRL-USD' found at the CoinBase Pro API, continuing to extraction.\n",
      "Provisional Start: 2022-01-11T00:00:00\n",
      "Provisional End: 2022-11-07T00:00:00\n",
      "Data for chunk 1 of 2 extracted\n"
     ]
    },
    {
     "name": "stderr",
     "output_type": "stream",
     "text": [
      "C:\\Users\\Roman\\AppData\\Local\\Packages\\PythonSoftwareFoundation.Python.3.10_qbz5n2kfra8p0\\LocalCache\\local-packages\\Python310\\site-packages\\Historic_Crypto\\HistoricalData.py:176: FutureWarning: The frame.append method is deprecated and will be removed from pandas in a future version. Use pandas.concat instead.\n",
      "  data = data.append(dataset)\n"
     ]
    },
    {
     "name": "stdout",
     "output_type": "stream",
     "text": [
      "Provisional Start: 2022-11-07T00:00:00\n",
      "Provisional End: 2023-09-03T00:00:00\n",
      "Data for chunk 2 of 2 extracted\n",
      "Saved to C:\\Users\\Roman\\Desktop\\DMLS_project\\Crypto\\KRL-USD_diff.csv\n",
      "FIS-USDT\n",
      "Checking input parameters are in the correct format.\n",
      "Formatting Dates.\n",
      "Checking if user supplied is available on the CoinBase Pro API.\n",
      "Connected to the CoinBase Pro API.\n",
      "Ticker 'FIS-USDT' found at the CoinBase Pro API, continuing to extraction.\n",
      "Provisional Start: 2022-01-11T00:00:00\n",
      "Provisional End: 2022-11-07T00:00:00\n",
      "Data for chunk 1 of 2 extracted\n",
      "Provisional Start: 2022-11-07T00:00:00\n",
      "Provisional End: 2023-09-03T00:00:00\n"
     ]
    },
    {
     "name": "stderr",
     "output_type": "stream",
     "text": [
      "C:\\Users\\Roman\\AppData\\Local\\Packages\\PythonSoftwareFoundation.Python.3.10_qbz5n2kfra8p0\\LocalCache\\local-packages\\Python310\\site-packages\\Historic_Crypto\\HistoricalData.py:176: FutureWarning: The frame.append method is deprecated and will be removed from pandas in a future version. Use pandas.concat instead.\n",
      "  data = data.append(dataset)\n"
     ]
    },
    {
     "name": "stdout",
     "output_type": "stream",
     "text": [
      "Data for chunk 2 of 2 extracted\n",
      "Saved to C:\\Users\\Roman\\Desktop\\DMLS_project\\Crypto\\FIS-USDT_diff.csv\n",
      "MKR-BTC\n",
      "Checking input parameters are in the correct format.\n",
      "Formatting Dates.\n",
      "Checking if user supplied is available on the CoinBase Pro API.\n",
      "Connected to the CoinBase Pro API.\n",
      "Ticker 'MKR-BTC' found at the CoinBase Pro API, continuing to extraction.\n",
      "Provisional Start: 2022-01-11T00:00:00\n",
      "Provisional End: 2022-11-07T00:00:00\n",
      "Data for chunk 1 of 2 extracted\n"
     ]
    },
    {
     "name": "stderr",
     "output_type": "stream",
     "text": [
      "C:\\Users\\Roman\\AppData\\Local\\Packages\\PythonSoftwareFoundation.Python.3.10_qbz5n2kfra8p0\\LocalCache\\local-packages\\Python310\\site-packages\\Historic_Crypto\\HistoricalData.py:176: FutureWarning: The frame.append method is deprecated and will be removed from pandas in a future version. Use pandas.concat instead.\n",
      "  data = data.append(dataset)\n"
     ]
    },
    {
     "name": "stdout",
     "output_type": "stream",
     "text": [
      "Provisional Start: 2022-11-07T00:00:00\n",
      "Provisional End: 2023-09-03T00:00:00\n",
      "Data for chunk 2 of 2 extracted\n",
      "Saved to C:\\Users\\Roman\\Desktop\\DMLS_project\\Crypto\\MKR-BTC_diff.csv\n",
      "IMX-USD\n",
      "Checking input parameters are in the correct format.\n",
      "Formatting Dates.\n",
      "Checking if user supplied is available on the CoinBase Pro API.\n",
      "Connected to the CoinBase Pro API.\n",
      "Ticker 'IMX-USD' found at the CoinBase Pro API, continuing to extraction.\n",
      "Provisional Start: 2022-01-11T00:00:00\n",
      "Provisional End: 2022-11-07T00:00:00\n",
      "Data for chunk 1 of 2 extracted\n"
     ]
    },
    {
     "name": "stderr",
     "output_type": "stream",
     "text": [
      "C:\\Users\\Roman\\AppData\\Local\\Packages\\PythonSoftwareFoundation.Python.3.10_qbz5n2kfra8p0\\LocalCache\\local-packages\\Python310\\site-packages\\Historic_Crypto\\HistoricalData.py:176: FutureWarning: The frame.append method is deprecated and will be removed from pandas in a future version. Use pandas.concat instead.\n",
      "  data = data.append(dataset)\n"
     ]
    },
    {
     "name": "stdout",
     "output_type": "stream",
     "text": [
      "Provisional Start: 2022-11-07T00:00:00\n",
      "Provisional End: 2023-09-03T00:00:00\n",
      "Data for chunk 2 of 2 extracted\n",
      "Saved to C:\\Users\\Roman\\Desktop\\DMLS_project\\Crypto\\IMX-USD_diff.csv\n",
      "STORJ-USD\n",
      "Checking input parameters are in the correct format.\n",
      "Formatting Dates.\n",
      "Checking if user supplied is available on the CoinBase Pro API.\n",
      "Connected to the CoinBase Pro API.\n",
      "Ticker 'STORJ-USD' found at the CoinBase Pro API, continuing to extraction.\n",
      "Provisional Start: 2022-01-11T00:00:00\n",
      "Provisional End: 2022-11-07T00:00:00\n",
      "Data for chunk 1 of 2 extracted\n"
     ]
    },
    {
     "name": "stderr",
     "output_type": "stream",
     "text": [
      "C:\\Users\\Roman\\AppData\\Local\\Packages\\PythonSoftwareFoundation.Python.3.10_qbz5n2kfra8p0\\LocalCache\\local-packages\\Python310\\site-packages\\Historic_Crypto\\HistoricalData.py:176: FutureWarning: The frame.append method is deprecated and will be removed from pandas in a future version. Use pandas.concat instead.\n",
      "  data = data.append(dataset)\n"
     ]
    },
    {
     "name": "stdout",
     "output_type": "stream",
     "text": [
      "Provisional Start: 2022-11-07T00:00:00\n",
      "Provisional End: 2023-09-03T00:00:00\n",
      "Data for chunk 2 of 2 extracted\n",
      "Saved to C:\\Users\\Roman\\Desktop\\DMLS_project\\Crypto\\STORJ-USD_diff.csv\n",
      "RGT-USD\n",
      "Checking input parameters are in the correct format.\n",
      "Formatting Dates.\n",
      "Checking if user supplied is available on the CoinBase Pro API.\n",
      "Connected to the CoinBase Pro API.\n",
      "Ticker 'RGT-USD' found at the CoinBase Pro API, continuing to extraction.\n",
      "Provisional Start: 2022-01-11T00:00:00\n",
      "Provisional End: 2022-11-07T00:00:00\n",
      "Data for chunk 1 of 2 extracted\n"
     ]
    },
    {
     "name": "stderr",
     "output_type": "stream",
     "text": [
      "C:\\Users\\Roman\\AppData\\Local\\Packages\\PythonSoftwareFoundation.Python.3.10_qbz5n2kfra8p0\\LocalCache\\local-packages\\Python310\\site-packages\\Historic_Crypto\\HistoricalData.py:176: FutureWarning: The frame.append method is deprecated and will be removed from pandas in a future version. Use pandas.concat instead.\n",
      "  data = data.append(dataset)\n"
     ]
    },
    {
     "name": "stdout",
     "output_type": "stream",
     "text": [
      "Provisional Start: 2022-11-07T00:00:00\n",
      "Provisional End: 2023-09-03T00:00:00\n",
      "Data for chunk 2 of 2 extracted\n",
      "CoinBase Pro API did not have available data for 'RGT-USD' beginning at 2022-01-11-00-00.  \n",
      "                        Trying a later date:'2022-11-07T00:00:00'\n",
      "Saved to C:\\Users\\Roman\\Desktop\\DMLS_project\\Crypto\\RGT-USD_diff.csv\n",
      "MASK-USDT\n",
      "Checking input parameters are in the correct format.\n",
      "Formatting Dates.\n",
      "Checking if user supplied is available on the CoinBase Pro API.\n",
      "Connected to the CoinBase Pro API.\n",
      "Ticker 'MASK-USDT' found at the CoinBase Pro API, continuing to extraction.\n",
      "Provisional Start: 2022-01-11T00:00:00\n",
      "Provisional End: 2022-11-07T00:00:00\n",
      "Data for chunk 1 of 2 extracted\n",
      "Provisional Start: 2022-11-07T00:00:00\n",
      "Provisional End: 2023-09-03T00:00:00\n"
     ]
    },
    {
     "name": "stderr",
     "output_type": "stream",
     "text": [
      "C:\\Users\\Roman\\AppData\\Local\\Packages\\PythonSoftwareFoundation.Python.3.10_qbz5n2kfra8p0\\LocalCache\\local-packages\\Python310\\site-packages\\Historic_Crypto\\HistoricalData.py:176: FutureWarning: The frame.append method is deprecated and will be removed from pandas in a future version. Use pandas.concat instead.\n",
      "  data = data.append(dataset)\n"
     ]
    },
    {
     "name": "stdout",
     "output_type": "stream",
     "text": [
      "Data for chunk 2 of 2 extracted\n",
      "Saved to C:\\Users\\Roman\\Desktop\\DMLS_project\\Crypto\\MASK-USDT_diff.csv\n",
      "NEST-USDT\n",
      "Checking input parameters are in the correct format.\n",
      "Formatting Dates.\n",
      "Checking if user supplied is available on the CoinBase Pro API.\n",
      "Connected to the CoinBase Pro API.\n",
      "Ticker 'NEST-USDT' found at the CoinBase Pro API, continuing to extraction.\n",
      "Provisional Start: 2022-01-11T00:00:00\n",
      "Provisional End: 2022-11-07T00:00:00\n",
      "Data for chunk 1 of 2 extracted\n"
     ]
    },
    {
     "name": "stderr",
     "output_type": "stream",
     "text": [
      "C:\\Users\\Roman\\AppData\\Local\\Packages\\PythonSoftwareFoundation.Python.3.10_qbz5n2kfra8p0\\LocalCache\\local-packages\\Python310\\site-packages\\Historic_Crypto\\HistoricalData.py:176: FutureWarning: The frame.append method is deprecated and will be removed from pandas in a future version. Use pandas.concat instead.\n",
      "  data = data.append(dataset)\n"
     ]
    },
    {
     "name": "stdout",
     "output_type": "stream",
     "text": [
      "Provisional Start: 2022-11-07T00:00:00\n",
      "Provisional End: 2023-09-03T00:00:00\n",
      "Data for chunk 2 of 2 extracted\n",
      "Saved to C:\\Users\\Roman\\Desktop\\DMLS_project\\Crypto\\NEST-USDT_diff.csv\n",
      "1INCH-BTC\n",
      "Checking input parameters are in the correct format.\n",
      "Formatting Dates.\n",
      "Checking if user supplied is available on the CoinBase Pro API.\n",
      "Connected to the CoinBase Pro API.\n",
      "Ticker '1INCH-BTC' found at the CoinBase Pro API, continuing to extraction.\n",
      "Provisional Start: 2022-01-11T00:00:00\n",
      "Provisional End: 2022-11-07T00:00:00\n",
      "Data for chunk 1 of 2 extracted\n",
      "Provisional Start: 2022-11-07T00:00:00\n",
      "Provisional End: 2023-09-03T00:00:00\n"
     ]
    },
    {
     "name": "stderr",
     "output_type": "stream",
     "text": [
      "C:\\Users\\Roman\\AppData\\Local\\Packages\\PythonSoftwareFoundation.Python.3.10_qbz5n2kfra8p0\\LocalCache\\local-packages\\Python310\\site-packages\\Historic_Crypto\\HistoricalData.py:176: FutureWarning: The frame.append method is deprecated and will be removed from pandas in a future version. Use pandas.concat instead.\n",
      "  data = data.append(dataset)\n"
     ]
    },
    {
     "name": "stdout",
     "output_type": "stream",
     "text": [
      "Data for chunk 2 of 2 extracted\n",
      "Saved to C:\\Users\\Roman\\Desktop\\DMLS_project\\Crypto\\1INCH-BTC_diff.csv\n",
      "STX-USD\n",
      "Checking input parameters are in the correct format.\n",
      "Formatting Dates.\n",
      "Checking if user supplied is available on the CoinBase Pro API.\n",
      "Connected to the CoinBase Pro API.\n",
      "Ticker 'STX-USD' found at the CoinBase Pro API, continuing to extraction.\n",
      "Provisional Start: 2022-01-11T00:00:00\n",
      "Provisional End: 2022-11-07T00:00:00\n",
      "Data for chunk 1 of 2 extracted\n"
     ]
    },
    {
     "name": "stderr",
     "output_type": "stream",
     "text": [
      "C:\\Users\\Roman\\AppData\\Local\\Packages\\PythonSoftwareFoundation.Python.3.10_qbz5n2kfra8p0\\LocalCache\\local-packages\\Python310\\site-packages\\Historic_Crypto\\HistoricalData.py:176: FutureWarning: The frame.append method is deprecated and will be removed from pandas in a future version. Use pandas.concat instead.\n",
      "  data = data.append(dataset)\n"
     ]
    },
    {
     "name": "stdout",
     "output_type": "stream",
     "text": [
      "Provisional Start: 2022-11-07T00:00:00\n",
      "Provisional End: 2023-09-03T00:00:00\n",
      "Data for chunk 2 of 2 extracted\n",
      "Saved to C:\\Users\\Roman\\Desktop\\DMLS_project\\Crypto\\STX-USD_diff.csv\n",
      "REQ-USD\n",
      "Checking input parameters are in the correct format.\n",
      "Formatting Dates.\n",
      "Checking if user supplied is available on the CoinBase Pro API.\n",
      "Connected to the CoinBase Pro API.\n",
      "Ticker 'REQ-USD' found at the CoinBase Pro API, continuing to extraction.\n",
      "Provisional Start: 2022-01-11T00:00:00\n",
      "Provisional End: 2022-11-07T00:00:00\n",
      "Data for chunk 1 of 2 extracted\n",
      "Provisional Start: 2022-11-07T00:00:00\n",
      "Provisional End: 2023-09-03T00:00:00\n"
     ]
    },
    {
     "name": "stderr",
     "output_type": "stream",
     "text": [
      "C:\\Users\\Roman\\AppData\\Local\\Packages\\PythonSoftwareFoundation.Python.3.10_qbz5n2kfra8p0\\LocalCache\\local-packages\\Python310\\site-packages\\Historic_Crypto\\HistoricalData.py:176: FutureWarning: The frame.append method is deprecated and will be removed from pandas in a future version. Use pandas.concat instead.\n",
      "  data = data.append(dataset)\n"
     ]
    },
    {
     "name": "stdout",
     "output_type": "stream",
     "text": [
      "Data for chunk 2 of 2 extracted\n",
      "Saved to C:\\Users\\Roman\\Desktop\\DMLS_project\\Crypto\\REQ-USD_diff.csv\n",
      "UPI-USD\n",
      "Checking input parameters are in the correct format.\n",
      "Formatting Dates.\n",
      "Checking if user supplied is available on the CoinBase Pro API.\n",
      "Connected to the CoinBase Pro API.\n",
      "Ticker 'UPI-USD' found at the CoinBase Pro API, continuing to extraction.\n",
      "Provisional Start: 2022-01-11T00:00:00\n",
      "Provisional End: 2022-11-07T00:00:00\n",
      "Data for chunk 1 of 2 extracted\n",
      "Provisional Start: 2022-11-07T00:00:00\n",
      "Provisional End: 2023-09-03T00:00:00\n"
     ]
    },
    {
     "name": "stderr",
     "output_type": "stream",
     "text": [
      "C:\\Users\\Roman\\AppData\\Local\\Packages\\PythonSoftwareFoundation.Python.3.10_qbz5n2kfra8p0\\LocalCache\\local-packages\\Python310\\site-packages\\Historic_Crypto\\HistoricalData.py:176: FutureWarning: The frame.append method is deprecated and will be removed from pandas in a future version. Use pandas.concat instead.\n",
      "  data = data.append(dataset)\n"
     ]
    },
    {
     "name": "stdout",
     "output_type": "stream",
     "text": [
      "Data for chunk 2 of 2 extracted\n",
      "CoinBase Pro API did not have available data for 'UPI-USD' beginning at 2022-01-11-00-00.  \n",
      "                        Trying a later date:'2022-11-07T00:00:00'\n",
      "Saved to C:\\Users\\Roman\\Desktop\\DMLS_project\\Crypto\\UPI-USD_diff.csv\n",
      "GMT-USDT\n",
      "Checking input parameters are in the correct format.\n",
      "Formatting Dates.\n",
      "Checking if user supplied is available on the CoinBase Pro API.\n",
      "Connected to the CoinBase Pro API.\n",
      "Ticker 'GMT-USDT' found at the CoinBase Pro API, continuing to extraction.\n",
      "Provisional Start: 2022-01-11T00:00:00\n",
      "Provisional End: 2022-11-07T00:00:00\n",
      "Data for chunk 1 of 2 extracted\n"
     ]
    },
    {
     "name": "stderr",
     "output_type": "stream",
     "text": [
      "C:\\Users\\Roman\\AppData\\Local\\Packages\\PythonSoftwareFoundation.Python.3.10_qbz5n2kfra8p0\\LocalCache\\local-packages\\Python310\\site-packages\\Historic_Crypto\\HistoricalData.py:176: FutureWarning: The frame.append method is deprecated and will be removed from pandas in a future version. Use pandas.concat instead.\n",
      "  data = data.append(dataset)\n"
     ]
    },
    {
     "name": "stdout",
     "output_type": "stream",
     "text": [
      "Provisional Start: 2022-11-07T00:00:00\n",
      "Provisional End: 2023-09-03T00:00:00\n",
      "Data for chunk 2 of 2 extracted\n",
      "Saved to C:\\Users\\Roman\\Desktop\\DMLS_project\\Crypto\\GMT-USDT_diff.csv\n",
      "RLC-USD\n",
      "Checking input parameters are in the correct format.\n",
      "Formatting Dates.\n",
      "Checking if user supplied is available on the CoinBase Pro API.\n",
      "Connected to the CoinBase Pro API.\n",
      "Ticker 'RLC-USD' found at the CoinBase Pro API, continuing to extraction.\n",
      "Provisional Start: 2022-01-11T00:00:00\n",
      "Provisional End: 2022-11-07T00:00:00\n",
      "Data for chunk 1 of 2 extracted\n"
     ]
    },
    {
     "name": "stderr",
     "output_type": "stream",
     "text": [
      "C:\\Users\\Roman\\AppData\\Local\\Packages\\PythonSoftwareFoundation.Python.3.10_qbz5n2kfra8p0\\LocalCache\\local-packages\\Python310\\site-packages\\Historic_Crypto\\HistoricalData.py:176: FutureWarning: The frame.append method is deprecated and will be removed from pandas in a future version. Use pandas.concat instead.\n",
      "  data = data.append(dataset)\n"
     ]
    },
    {
     "name": "stdout",
     "output_type": "stream",
     "text": [
      "Provisional Start: 2022-11-07T00:00:00\n",
      "Provisional End: 2023-09-03T00:00:00\n",
      "Data for chunk 2 of 2 extracted\n",
      "Saved to C:\\Users\\Roman\\Desktop\\DMLS_project\\Crypto\\RLC-USD_diff.csv\n",
      "1INCH-EUR\n",
      "Checking input parameters are in the correct format.\n",
      "Formatting Dates.\n",
      "Checking if user supplied is available on the CoinBase Pro API.\n",
      "Connected to the CoinBase Pro API.\n",
      "Ticker '1INCH-EUR' found at the CoinBase Pro API, continuing to extraction.\n",
      "Provisional Start: 2022-01-11T00:00:00\n",
      "Provisional End: 2022-11-07T00:00:00\n",
      "Data for chunk 1 of 2 extracted\n"
     ]
    },
    {
     "name": "stderr",
     "output_type": "stream",
     "text": [
      "C:\\Users\\Roman\\AppData\\Local\\Packages\\PythonSoftwareFoundation.Python.3.10_qbz5n2kfra8p0\\LocalCache\\local-packages\\Python310\\site-packages\\Historic_Crypto\\HistoricalData.py:176: FutureWarning: The frame.append method is deprecated and will be removed from pandas in a future version. Use pandas.concat instead.\n",
      "  data = data.append(dataset)\n"
     ]
    },
    {
     "name": "stdout",
     "output_type": "stream",
     "text": [
      "Provisional Start: 2022-11-07T00:00:00\n",
      "Provisional End: 2023-09-03T00:00:00\n",
      "Data for chunk 2 of 2 extracted\n",
      "Saved to C:\\Users\\Roman\\Desktop\\DMLS_project\\Crypto\\1INCH-EUR_diff.csv\n",
      "AVAX-USD\n",
      "Checking input parameters are in the correct format.\n",
      "Formatting Dates.\n",
      "Checking if user supplied is available on the CoinBase Pro API.\n",
      "Connected to the CoinBase Pro API.\n",
      "Ticker 'AVAX-USD' found at the CoinBase Pro API, continuing to extraction.\n",
      "Provisional Start: 2022-01-11T00:00:00\n",
      "Provisional End: 2022-11-07T00:00:00\n",
      "Data for chunk 1 of 2 extracted\n",
      "Provisional Start: 2022-11-07T00:00:00\n",
      "Provisional End: 2023-09-03T00:00:00\n"
     ]
    },
    {
     "name": "stderr",
     "output_type": "stream",
     "text": [
      "C:\\Users\\Roman\\AppData\\Local\\Packages\\PythonSoftwareFoundation.Python.3.10_qbz5n2kfra8p0\\LocalCache\\local-packages\\Python310\\site-packages\\Historic_Crypto\\HistoricalData.py:176: FutureWarning: The frame.append method is deprecated and will be removed from pandas in a future version. Use pandas.concat instead.\n",
      "  data = data.append(dataset)\n"
     ]
    },
    {
     "name": "stdout",
     "output_type": "stream",
     "text": [
      "Data for chunk 2 of 2 extracted\n",
      "Saved to C:\\Users\\Roman\\Desktop\\DMLS_project\\Crypto\\AVAX-USD_diff.csv\n",
      "YFI-USD\n",
      "Checking input parameters are in the correct format.\n",
      "Formatting Dates.\n",
      "Checking if user supplied is available on the CoinBase Pro API.\n",
      "Connected to the CoinBase Pro API.\n",
      "Ticker 'YFI-USD' found at the CoinBase Pro API, continuing to extraction.\n",
      "Provisional Start: 2022-01-11T00:00:00\n",
      "Provisional End: 2022-11-07T00:00:00\n",
      "Data for chunk 1 of 2 extracted\n",
      "Provisional Start: 2022-11-07T00:00:00\n",
      "Provisional End: 2023-09-03T00:00:00\n"
     ]
    },
    {
     "name": "stderr",
     "output_type": "stream",
     "text": [
      "C:\\Users\\Roman\\AppData\\Local\\Packages\\PythonSoftwareFoundation.Python.3.10_qbz5n2kfra8p0\\LocalCache\\local-packages\\Python310\\site-packages\\Historic_Crypto\\HistoricalData.py:176: FutureWarning: The frame.append method is deprecated and will be removed from pandas in a future version. Use pandas.concat instead.\n",
      "  data = data.append(dataset)\n"
     ]
    },
    {
     "name": "stdout",
     "output_type": "stream",
     "text": [
      "Data for chunk 2 of 2 extracted\n",
      "Saved to C:\\Users\\Roman\\Desktop\\DMLS_project\\Crypto\\YFI-USD_diff.csv\n",
      "BTC-GBP\n",
      "Checking input parameters are in the correct format.\n",
      "Formatting Dates.\n",
      "Checking if user supplied is available on the CoinBase Pro API.\n",
      "Connected to the CoinBase Pro API.\n",
      "Ticker 'BTC-GBP' found at the CoinBase Pro API, continuing to extraction.\n",
      "Provisional Start: 2022-01-11T00:00:00\n",
      "Provisional End: 2022-11-07T00:00:00\n",
      "Data for chunk 1 of 2 extracted\n"
     ]
    },
    {
     "name": "stderr",
     "output_type": "stream",
     "text": [
      "C:\\Users\\Roman\\AppData\\Local\\Packages\\PythonSoftwareFoundation.Python.3.10_qbz5n2kfra8p0\\LocalCache\\local-packages\\Python310\\site-packages\\Historic_Crypto\\HistoricalData.py:176: FutureWarning: The frame.append method is deprecated and will be removed from pandas in a future version. Use pandas.concat instead.\n",
      "  data = data.append(dataset)\n"
     ]
    },
    {
     "name": "stdout",
     "output_type": "stream",
     "text": [
      "Provisional Start: 2022-11-07T00:00:00\n",
      "Provisional End: 2023-09-03T00:00:00\n",
      "Data for chunk 2 of 2 extracted\n",
      "Saved to C:\\Users\\Roman\\Desktop\\DMLS_project\\Crypto\\BTC-GBP_diff.csv\n",
      "ETH-DAI\n",
      "Checking input parameters are in the correct format.\n",
      "Formatting Dates.\n",
      "Checking if user supplied is available on the CoinBase Pro API.\n",
      "Connected to the CoinBase Pro API.\n",
      "Ticker 'ETH-DAI' found at the CoinBase Pro API, continuing to extraction.\n",
      "Provisional Start: 2022-01-11T00:00:00\n",
      "Provisional End: 2022-11-07T00:00:00\n",
      "Data for chunk 1 of 2 extracted\n"
     ]
    },
    {
     "name": "stderr",
     "output_type": "stream",
     "text": [
      "C:\\Users\\Roman\\AppData\\Local\\Packages\\PythonSoftwareFoundation.Python.3.10_qbz5n2kfra8p0\\LocalCache\\local-packages\\Python310\\site-packages\\Historic_Crypto\\HistoricalData.py:176: FutureWarning: The frame.append method is deprecated and will be removed from pandas in a future version. Use pandas.concat instead.\n",
      "  data = data.append(dataset)\n"
     ]
    },
    {
     "name": "stdout",
     "output_type": "stream",
     "text": [
      "Provisional Start: 2022-11-07T00:00:00\n",
      "Provisional End: 2023-09-03T00:00:00\n",
      "Data for chunk 2 of 2 extracted\n",
      "Saved to C:\\Users\\Roman\\Desktop\\DMLS_project\\Crypto\\ETH-DAI_diff.csv\n",
      "AAVE-GBP\n",
      "Checking input parameters are in the correct format.\n",
      "Formatting Dates.\n",
      "Checking if user supplied is available on the CoinBase Pro API.\n",
      "Connected to the CoinBase Pro API.\n",
      "Ticker 'AAVE-GBP' found at the CoinBase Pro API, continuing to extraction.\n",
      "Provisional Start: 2022-01-11T00:00:00\n",
      "Provisional End: 2022-11-07T00:00:00\n",
      "Data for chunk 1 of 2 extracted\n",
      "Provisional Start: 2022-11-07T00:00:00\n",
      "Provisional End: 2023-09-03T00:00:00\n"
     ]
    },
    {
     "name": "stderr",
     "output_type": "stream",
     "text": [
      "C:\\Users\\Roman\\AppData\\Local\\Packages\\PythonSoftwareFoundation.Python.3.10_qbz5n2kfra8p0\\LocalCache\\local-packages\\Python310\\site-packages\\Historic_Crypto\\HistoricalData.py:176: FutureWarning: The frame.append method is deprecated and will be removed from pandas in a future version. Use pandas.concat instead.\n",
      "  data = data.append(dataset)\n"
     ]
    },
    {
     "name": "stdout",
     "output_type": "stream",
     "text": [
      "Data for chunk 2 of 2 extracted\n",
      "Saved to C:\\Users\\Roman\\Desktop\\DMLS_project\\Crypto\\AAVE-GBP_diff.csv\n",
      "ETH-USDC\n",
      "Checking input parameters are in the correct format.\n",
      "Formatting Dates.\n",
      "Checking if user supplied is available on the CoinBase Pro API.\n",
      "Connected to the CoinBase Pro API.\n",
      "Ticker 'ETH-USDC' found at the CoinBase Pro API, continuing to extraction.\n",
      "Provisional Start: 2022-01-11T00:00:00\n",
      "Provisional End: 2022-11-07T00:00:00\n",
      "Data for chunk 1 of 2 extracted\n"
     ]
    },
    {
     "name": "stderr",
     "output_type": "stream",
     "text": [
      "C:\\Users\\Roman\\AppData\\Local\\Packages\\PythonSoftwareFoundation.Python.3.10_qbz5n2kfra8p0\\LocalCache\\local-packages\\Python310\\site-packages\\Historic_Crypto\\HistoricalData.py:176: FutureWarning: The frame.append method is deprecated and will be removed from pandas in a future version. Use pandas.concat instead.\n",
      "  data = data.append(dataset)\n"
     ]
    },
    {
     "name": "stdout",
     "output_type": "stream",
     "text": [
      "Provisional Start: 2022-11-07T00:00:00\n",
      "Provisional End: 2023-09-03T00:00:00\n",
      "Data for chunk 2 of 2 extracted\n",
      "CoinBase Pro API did not have available data for 'ETH-USDC' beginning at 2022-01-11-00-00.  \n",
      "                        Trying a later date:'2022-11-07T00:00:00'\n",
      "Saved to C:\\Users\\Roman\\Desktop\\DMLS_project\\Crypto\\ETH-USDC_diff.csv\n",
      "HBAR-USD\n",
      "Checking input parameters are in the correct format.\n",
      "Formatting Dates.\n",
      "Checking if user supplied is available on the CoinBase Pro API.\n",
      "Connected to the CoinBase Pro API.\n",
      "Ticker 'HBAR-USD' found at the CoinBase Pro API, continuing to extraction.\n",
      "Provisional Start: 2022-01-11T00:00:00\n",
      "Provisional End: 2022-11-07T00:00:00\n",
      "Data for chunk 1 of 2 extracted\n",
      "Provisional Start: 2022-11-07T00:00:00\n",
      "Provisional End: 2023-09-03T00:00:00\n"
     ]
    },
    {
     "name": "stderr",
     "output_type": "stream",
     "text": [
      "C:\\Users\\Roman\\AppData\\Local\\Packages\\PythonSoftwareFoundation.Python.3.10_qbz5n2kfra8p0\\LocalCache\\local-packages\\Python310\\site-packages\\Historic_Crypto\\HistoricalData.py:176: FutureWarning: The frame.append method is deprecated and will be removed from pandas in a future version. Use pandas.concat instead.\n",
      "  data = data.append(dataset)\n"
     ]
    },
    {
     "name": "stdout",
     "output_type": "stream",
     "text": [
      "Data for chunk 2 of 2 extracted\n",
      "Saved to C:\\Users\\Roman\\Desktop\\DMLS_project\\Crypto\\HBAR-USD_diff.csv\n",
      "RAI-USD\n",
      "Checking input parameters are in the correct format.\n",
      "Formatting Dates.\n",
      "Checking if user supplied is available on the CoinBase Pro API.\n",
      "Connected to the CoinBase Pro API.\n",
      "Ticker 'RAI-USD' found at the CoinBase Pro API, continuing to extraction.\n",
      "Provisional Start: 2022-01-11T00:00:00\n",
      "Provisional End: 2022-11-07T00:00:00\n",
      "Data for chunk 1 of 2 extracted\n",
      "Provisional Start: 2022-11-07T00:00:00\n",
      "Provisional End: 2023-09-03T00:00:00\n"
     ]
    },
    {
     "name": "stderr",
     "output_type": "stream",
     "text": [
      "C:\\Users\\Roman\\AppData\\Local\\Packages\\PythonSoftwareFoundation.Python.3.10_qbz5n2kfra8p0\\LocalCache\\local-packages\\Python310\\site-packages\\Historic_Crypto\\HistoricalData.py:176: FutureWarning: The frame.append method is deprecated and will be removed from pandas in a future version. Use pandas.concat instead.\n",
      "  data = data.append(dataset)\n"
     ]
    },
    {
     "name": "stdout",
     "output_type": "stream",
     "text": [
      "Data for chunk 2 of 2 extracted\n",
      "Saved to C:\\Users\\Roman\\Desktop\\DMLS_project\\Crypto\\RAI-USD_diff.csv\n",
      "ETH-GBP\n",
      "Checking input parameters are in the correct format.\n",
      "Formatting Dates.\n",
      "Checking if user supplied is available on the CoinBase Pro API.\n",
      "Connected to the CoinBase Pro API.\n",
      "Ticker 'ETH-GBP' found at the CoinBase Pro API, continuing to extraction.\n",
      "Provisional Start: 2022-01-11T00:00:00\n",
      "Provisional End: 2022-11-07T00:00:00\n",
      "Data for chunk 1 of 2 extracted\n"
     ]
    },
    {
     "name": "stderr",
     "output_type": "stream",
     "text": [
      "C:\\Users\\Roman\\AppData\\Local\\Packages\\PythonSoftwareFoundation.Python.3.10_qbz5n2kfra8p0\\LocalCache\\local-packages\\Python310\\site-packages\\Historic_Crypto\\HistoricalData.py:176: FutureWarning: The frame.append method is deprecated and will be removed from pandas in a future version. Use pandas.concat instead.\n",
      "  data = data.append(dataset)\n"
     ]
    },
    {
     "name": "stdout",
     "output_type": "stream",
     "text": [
      "Provisional Start: 2022-11-07T00:00:00\n",
      "Provisional End: 2023-09-03T00:00:00\n",
      "Data for chunk 2 of 2 extracted\n",
      "Saved to C:\\Users\\Roman\\Desktop\\DMLS_project\\Crypto\\ETH-GBP_diff.csv\n",
      "CGLD-EUR\n",
      "Checking input parameters are in the correct format.\n",
      "Formatting Dates.\n",
      "Checking if user supplied is available on the CoinBase Pro API.\n",
      "Connected to the CoinBase Pro API.\n",
      "Ticker 'CGLD-EUR' found at the CoinBase Pro API, continuing to extraction.\n",
      "Provisional Start: 2022-01-11T00:00:00\n",
      "Provisional End: 2022-11-07T00:00:00\n",
      "Data for chunk 1 of 2 extracted\n"
     ]
    },
    {
     "name": "stderr",
     "output_type": "stream",
     "text": [
      "C:\\Users\\Roman\\AppData\\Local\\Packages\\PythonSoftwareFoundation.Python.3.10_qbz5n2kfra8p0\\LocalCache\\local-packages\\Python310\\site-packages\\Historic_Crypto\\HistoricalData.py:176: FutureWarning: The frame.append method is deprecated and will be removed from pandas in a future version. Use pandas.concat instead.\n",
      "  data = data.append(dataset)\n"
     ]
    },
    {
     "name": "stdout",
     "output_type": "stream",
     "text": [
      "Provisional Start: 2022-11-07T00:00:00\n",
      "Provisional End: 2023-09-03T00:00:00\n",
      "Data for chunk 2 of 2 extracted\n",
      "Saved to C:\\Users\\Roman\\Desktop\\DMLS_project\\Crypto\\CGLD-EUR_diff.csv\n",
      "CGLD-USD\n",
      "Checking input parameters are in the correct format.\n",
      "Formatting Dates.\n",
      "Checking if user supplied is available on the CoinBase Pro API.\n",
      "Connected to the CoinBase Pro API.\n",
      "Ticker 'CGLD-USD' found at the CoinBase Pro API, continuing to extraction.\n",
      "Provisional Start: 2022-01-11T00:00:00\n",
      "Provisional End: 2022-11-07T00:00:00\n",
      "Data for chunk 1 of 2 extracted\n"
     ]
    },
    {
     "name": "stderr",
     "output_type": "stream",
     "text": [
      "C:\\Users\\Roman\\AppData\\Local\\Packages\\PythonSoftwareFoundation.Python.3.10_qbz5n2kfra8p0\\LocalCache\\local-packages\\Python310\\site-packages\\Historic_Crypto\\HistoricalData.py:176: FutureWarning: The frame.append method is deprecated and will be removed from pandas in a future version. Use pandas.concat instead.\n",
      "  data = data.append(dataset)\n"
     ]
    },
    {
     "name": "stdout",
     "output_type": "stream",
     "text": [
      "Provisional Start: 2022-11-07T00:00:00\n",
      "Provisional End: 2023-09-03T00:00:00\n",
      "Data for chunk 2 of 2 extracted\n",
      "Saved to C:\\Users\\Roman\\Desktop\\DMLS_project\\Crypto\\CGLD-USD_diff.csv\n",
      "INJ-USD\n",
      "Checking input parameters are in the correct format.\n",
      "Formatting Dates.\n",
      "Checking if user supplied is available on the CoinBase Pro API.\n",
      "Connected to the CoinBase Pro API.\n",
      "Ticker 'INJ-USD' found at the CoinBase Pro API, continuing to extraction.\n",
      "Provisional Start: 2022-01-11T00:00:00\n",
      "Provisional End: 2022-11-07T00:00:00\n",
      "Data for chunk 1 of 2 extracted\n",
      "Provisional Start: 2022-11-07T00:00:00\n",
      "Provisional End: 2023-09-03T00:00:00\n"
     ]
    },
    {
     "name": "stderr",
     "output_type": "stream",
     "text": [
      "C:\\Users\\Roman\\AppData\\Local\\Packages\\PythonSoftwareFoundation.Python.3.10_qbz5n2kfra8p0\\LocalCache\\local-packages\\Python310\\site-packages\\Historic_Crypto\\HistoricalData.py:176: FutureWarning: The frame.append method is deprecated and will be removed from pandas in a future version. Use pandas.concat instead.\n",
      "  data = data.append(dataset)\n"
     ]
    },
    {
     "name": "stdout",
     "output_type": "stream",
     "text": [
      "Data for chunk 2 of 2 extracted\n",
      "Saved to C:\\Users\\Roman\\Desktop\\DMLS_project\\Crypto\\INJ-USD_diff.csv\n",
      "SAND-USDT\n",
      "Checking input parameters are in the correct format.\n",
      "Formatting Dates.\n",
      "Checking if user supplied is available on the CoinBase Pro API.\n",
      "Connected to the CoinBase Pro API.\n",
      "Ticker 'SAND-USDT' found at the CoinBase Pro API, continuing to extraction.\n",
      "Provisional Start: 2022-01-11T00:00:00\n",
      "Provisional End: 2022-11-07T00:00:00\n",
      "Data for chunk 1 of 2 extracted\n"
     ]
    },
    {
     "name": "stderr",
     "output_type": "stream",
     "text": [
      "C:\\Users\\Roman\\AppData\\Local\\Packages\\PythonSoftwareFoundation.Python.3.10_qbz5n2kfra8p0\\LocalCache\\local-packages\\Python310\\site-packages\\Historic_Crypto\\HistoricalData.py:176: FutureWarning: The frame.append method is deprecated and will be removed from pandas in a future version. Use pandas.concat instead.\n",
      "  data = data.append(dataset)\n"
     ]
    },
    {
     "name": "stdout",
     "output_type": "stream",
     "text": [
      "Provisional Start: 2022-11-07T00:00:00\n",
      "Provisional End: 2023-09-03T00:00:00\n",
      "Data for chunk 2 of 2 extracted\n",
      "Saved to C:\\Users\\Roman\\Desktop\\DMLS_project\\Crypto\\SAND-USDT_diff.csv\n",
      "GNO-USDT\n",
      "Checking input parameters are in the correct format.\n",
      "Formatting Dates.\n",
      "Checking if user supplied is available on the CoinBase Pro API.\n",
      "Connected to the CoinBase Pro API.\n",
      "Ticker 'GNO-USDT' found at the CoinBase Pro API, continuing to extraction.\n",
      "Provisional Start: 2022-01-11T00:00:00\n",
      "Provisional End: 2022-11-07T00:00:00\n",
      "Data for chunk 1 of 2 extracted\n",
      "Provisional Start: 2022-11-07T00:00:00\n",
      "Provisional End: 2023-09-03T00:00:00\n"
     ]
    },
    {
     "name": "stderr",
     "output_type": "stream",
     "text": [
      "C:\\Users\\Roman\\AppData\\Local\\Packages\\PythonSoftwareFoundation.Python.3.10_qbz5n2kfra8p0\\LocalCache\\local-packages\\Python310\\site-packages\\Historic_Crypto\\HistoricalData.py:176: FutureWarning: The frame.append method is deprecated and will be removed from pandas in a future version. Use pandas.concat instead.\n",
      "  data = data.append(dataset)\n"
     ]
    },
    {
     "name": "stdout",
     "output_type": "stream",
     "text": [
      "Data for chunk 2 of 2 extracted\n",
      "Saved to C:\\Users\\Roman\\Desktop\\DMLS_project\\Crypto\\GNO-USDT_diff.csv\n",
      "LRC-BTC\n",
      "Checking input parameters are in the correct format.\n",
      "Formatting Dates.\n",
      "Checking if user supplied is available on the CoinBase Pro API.\n",
      "Connected to the CoinBase Pro API.\n",
      "Ticker 'LRC-BTC' found at the CoinBase Pro API, continuing to extraction.\n",
      "Provisional Start: 2022-01-11T00:00:00\n",
      "Provisional End: 2022-11-07T00:00:00\n",
      "Data for chunk 1 of 2 extracted\n"
     ]
    },
    {
     "name": "stderr",
     "output_type": "stream",
     "text": [
      "C:\\Users\\Roman\\AppData\\Local\\Packages\\PythonSoftwareFoundation.Python.3.10_qbz5n2kfra8p0\\LocalCache\\local-packages\\Python310\\site-packages\\Historic_Crypto\\HistoricalData.py:176: FutureWarning: The frame.append method is deprecated and will be removed from pandas in a future version. Use pandas.concat instead.\n",
      "  data = data.append(dataset)\n"
     ]
    },
    {
     "name": "stdout",
     "output_type": "stream",
     "text": [
      "Provisional Start: 2022-11-07T00:00:00\n",
      "Provisional End: 2023-09-03T00:00:00\n",
      "Data for chunk 2 of 2 extracted\n",
      "Saved to C:\\Users\\Roman\\Desktop\\DMLS_project\\Crypto\\LRC-BTC_diff.csv\n",
      "AVT-USD\n",
      "Checking input parameters are in the correct format.\n",
      "Formatting Dates.\n",
      "Checking if user supplied is available on the CoinBase Pro API.\n",
      "Connected to the CoinBase Pro API.\n",
      "Ticker 'AVT-USD' found at the CoinBase Pro API, continuing to extraction.\n",
      "Provisional Start: 2022-01-11T00:00:00\n",
      "Provisional End: 2022-11-07T00:00:00\n",
      "Data for chunk 1 of 2 extracted\n",
      "Provisional Start: 2022-11-07T00:00:00\n",
      "Provisional End: 2023-09-03T00:00:00\n"
     ]
    },
    {
     "name": "stderr",
     "output_type": "stream",
     "text": [
      "C:\\Users\\Roman\\AppData\\Local\\Packages\\PythonSoftwareFoundation.Python.3.10_qbz5n2kfra8p0\\LocalCache\\local-packages\\Python310\\site-packages\\Historic_Crypto\\HistoricalData.py:176: FutureWarning: The frame.append method is deprecated and will be removed from pandas in a future version. Use pandas.concat instead.\n",
      "  data = data.append(dataset)\n"
     ]
    },
    {
     "name": "stdout",
     "output_type": "stream",
     "text": [
      "Data for chunk 2 of 2 extracted\n",
      "Saved to C:\\Users\\Roman\\Desktop\\DMLS_project\\Crypto\\AVT-USD_diff.csv\n",
      "MCO2-USDT\n",
      "Checking input parameters are in the correct format.\n",
      "Formatting Dates.\n",
      "Checking if user supplied is available on the CoinBase Pro API.\n",
      "Connected to the CoinBase Pro API.\n",
      "Ticker 'MCO2-USDT' found at the CoinBase Pro API, continuing to extraction.\n",
      "Provisional Start: 2022-01-11T00:00:00\n",
      "Provisional End: 2022-11-07T00:00:00\n",
      "Data for chunk 1 of 2 extracted\n"
     ]
    },
    {
     "name": "stderr",
     "output_type": "stream",
     "text": [
      "C:\\Users\\Roman\\AppData\\Local\\Packages\\PythonSoftwareFoundation.Python.3.10_qbz5n2kfra8p0\\LocalCache\\local-packages\\Python310\\site-packages\\Historic_Crypto\\HistoricalData.py:176: FutureWarning: The frame.append method is deprecated and will be removed from pandas in a future version. Use pandas.concat instead.\n",
      "  data = data.append(dataset)\n"
     ]
    },
    {
     "name": "stdout",
     "output_type": "stream",
     "text": [
      "Provisional Start: 2022-11-07T00:00:00\n",
      "Provisional End: 2023-09-03T00:00:00\n",
      "Data for chunk 2 of 2 extracted\n",
      "Saved to C:\\Users\\Roman\\Desktop\\DMLS_project\\Crypto\\MCO2-USDT_diff.csv\n",
      "MONA-USD\n",
      "Checking input parameters are in the correct format.\n",
      "Formatting Dates.\n",
      "Checking if user supplied is available on the CoinBase Pro API.\n",
      "Connected to the CoinBase Pro API.\n",
      "Ticker 'MONA-USD' found at the CoinBase Pro API, continuing to extraction.\n",
      "Provisional Start: 2022-01-11T00:00:00\n",
      "Provisional End: 2022-11-07T00:00:00\n",
      "Data for chunk 1 of 2 extracted\n"
     ]
    },
    {
     "name": "stderr",
     "output_type": "stream",
     "text": [
      "C:\\Users\\Roman\\AppData\\Local\\Packages\\PythonSoftwareFoundation.Python.3.10_qbz5n2kfra8p0\\LocalCache\\local-packages\\Python310\\site-packages\\Historic_Crypto\\HistoricalData.py:176: FutureWarning: The frame.append method is deprecated and will be removed from pandas in a future version. Use pandas.concat instead.\n",
      "  data = data.append(dataset)\n"
     ]
    },
    {
     "name": "stdout",
     "output_type": "stream",
     "text": [
      "Provisional Start: 2022-11-07T00:00:00\n",
      "Provisional End: 2023-09-03T00:00:00\n",
      "Data for chunk 2 of 2 extracted\n",
      "Saved to C:\\Users\\Roman\\Desktop\\DMLS_project\\Crypto\\MONA-USD_diff.csv\n",
      "DOT-EUR\n",
      "Checking input parameters are in the correct format.\n",
      "Formatting Dates.\n",
      "Checking if user supplied is available on the CoinBase Pro API.\n",
      "Connected to the CoinBase Pro API.\n",
      "Ticker 'DOT-EUR' found at the CoinBase Pro API, continuing to extraction.\n",
      "Provisional Start: 2022-01-11T00:00:00\n",
      "Provisional End: 2022-11-07T00:00:00\n",
      "Data for chunk 1 of 2 extracted\n"
     ]
    },
    {
     "name": "stderr",
     "output_type": "stream",
     "text": [
      "C:\\Users\\Roman\\AppData\\Local\\Packages\\PythonSoftwareFoundation.Python.3.10_qbz5n2kfra8p0\\LocalCache\\local-packages\\Python310\\site-packages\\Historic_Crypto\\HistoricalData.py:176: FutureWarning: The frame.append method is deprecated and will be removed from pandas in a future version. Use pandas.concat instead.\n",
      "  data = data.append(dataset)\n"
     ]
    },
    {
     "name": "stdout",
     "output_type": "stream",
     "text": [
      "Provisional Start: 2022-11-07T00:00:00\n",
      "Provisional End: 2023-09-03T00:00:00\n",
      "Data for chunk 2 of 2 extracted\n",
      "Saved to C:\\Users\\Roman\\Desktop\\DMLS_project\\Crypto\\DOT-EUR_diff.csv\n",
      "ELA-USDT\n",
      "Checking input parameters are in the correct format.\n",
      "Formatting Dates.\n",
      "Checking if user supplied is available on the CoinBase Pro API.\n",
      "Connected to the CoinBase Pro API.\n",
      "Ticker 'ELA-USDT' found at the CoinBase Pro API, continuing to extraction.\n",
      "Provisional Start: 2022-01-11T00:00:00\n",
      "Provisional End: 2022-11-07T00:00:00\n",
      "Data for chunk 1 of 2 extracted\n"
     ]
    },
    {
     "name": "stderr",
     "output_type": "stream",
     "text": [
      "C:\\Users\\Roman\\AppData\\Local\\Packages\\PythonSoftwareFoundation.Python.3.10_qbz5n2kfra8p0\\LocalCache\\local-packages\\Python310\\site-packages\\Historic_Crypto\\HistoricalData.py:176: FutureWarning: The frame.append method is deprecated and will be removed from pandas in a future version. Use pandas.concat instead.\n",
      "  data = data.append(dataset)\n"
     ]
    },
    {
     "name": "stdout",
     "output_type": "stream",
     "text": [
      "Provisional Start: 2022-11-07T00:00:00\n",
      "Provisional End: 2023-09-03T00:00:00\n",
      "Data for chunk 2 of 2 extracted\n",
      "Saved to C:\\Users\\Roman\\Desktop\\DMLS_project\\Crypto\\ELA-USDT_diff.csv\n",
      "GHST-USD\n",
      "Checking input parameters are in the correct format.\n",
      "Formatting Dates.\n",
      "Checking if user supplied is available on the CoinBase Pro API.\n",
      "Connected to the CoinBase Pro API.\n",
      "Ticker 'GHST-USD' found at the CoinBase Pro API, continuing to extraction.\n",
      "Provisional Start: 2022-01-11T00:00:00\n",
      "Provisional End: 2022-11-07T00:00:00\n",
      "Data for chunk 1 of 2 extracted\n",
      "CoinBase Pro API did not have available data for 'GHST-USD' beginning at 2022-01-11-00-00.  \n",
      "                        Trying a later date:'2022-01-11T00:00:00'\n",
      "Provisional Start: 2022-11-07T00:00:00\n",
      "Provisional End: 2023-09-03T00:00:00\n",
      "Data for chunk 2 of 2 extracted\n"
     ]
    },
    {
     "name": "stderr",
     "output_type": "stream",
     "text": [
      "C:\\Users\\Roman\\AppData\\Local\\Packages\\PythonSoftwareFoundation.Python.3.10_qbz5n2kfra8p0\\LocalCache\\local-packages\\Python310\\site-packages\\Historic_Crypto\\HistoricalData.py:176: FutureWarning: The frame.append method is deprecated and will be removed from pandas in a future version. Use pandas.concat instead.\n",
      "  data = data.append(dataset)\n"
     ]
    },
    {
     "name": "stdout",
     "output_type": "stream",
     "text": [
      "Saved to C:\\Users\\Roman\\Desktop\\DMLS_project\\Crypto\\GHST-USD_diff.csv\n",
      "BICO-USD\n",
      "Checking input parameters are in the correct format.\n",
      "Formatting Dates.\n",
      "Checking if user supplied is available on the CoinBase Pro API.\n",
      "Connected to the CoinBase Pro API.\n",
      "Ticker 'BICO-USD' found at the CoinBase Pro API, continuing to extraction.\n",
      "Provisional Start: 2022-01-11T00:00:00\n",
      "Provisional End: 2022-11-07T00:00:00\n",
      "Data for chunk 1 of 2 extracted\n"
     ]
    },
    {
     "name": "stderr",
     "output_type": "stream",
     "text": [
      "C:\\Users\\Roman\\AppData\\Local\\Packages\\PythonSoftwareFoundation.Python.3.10_qbz5n2kfra8p0\\LocalCache\\local-packages\\Python310\\site-packages\\Historic_Crypto\\HistoricalData.py:176: FutureWarning: The frame.append method is deprecated and will be removed from pandas in a future version. Use pandas.concat instead.\n",
      "  data = data.append(dataset)\n"
     ]
    },
    {
     "name": "stdout",
     "output_type": "stream",
     "text": [
      "Provisional Start: 2022-11-07T00:00:00\n",
      "Provisional End: 2023-09-03T00:00:00\n",
      "Data for chunk 2 of 2 extracted\n",
      "Saved to C:\\Users\\Roman\\Desktop\\DMLS_project\\Crypto\\BICO-USD_diff.csv\n",
      "STORJ-BTC\n",
      "Checking input parameters are in the correct format.\n",
      "Formatting Dates.\n",
      "Checking if user supplied is available on the CoinBase Pro API.\n",
      "Connected to the CoinBase Pro API.\n",
      "Ticker 'STORJ-BTC' found at the CoinBase Pro API, continuing to extraction.\n",
      "Provisional Start: 2022-01-11T00:00:00\n",
      "Provisional End: 2022-11-07T00:00:00\n",
      "Data for chunk 1 of 2 extracted\n",
      "Provisional Start: 2022-11-07T00:00:00\n",
      "Provisional End: 2023-09-03T00:00:00\n"
     ]
    },
    {
     "name": "stderr",
     "output_type": "stream",
     "text": [
      "C:\\Users\\Roman\\AppData\\Local\\Packages\\PythonSoftwareFoundation.Python.3.10_qbz5n2kfra8p0\\LocalCache\\local-packages\\Python310\\site-packages\\Historic_Crypto\\HistoricalData.py:176: FutureWarning: The frame.append method is deprecated and will be removed from pandas in a future version. Use pandas.concat instead.\n",
      "  data = data.append(dataset)\n"
     ]
    },
    {
     "name": "stdout",
     "output_type": "stream",
     "text": [
      "Data for chunk 2 of 2 extracted\n",
      "Saved to C:\\Users\\Roman\\Desktop\\DMLS_project\\Crypto\\STORJ-BTC_diff.csv\n",
      "PUNDIX-USD\n",
      "Checking input parameters are in the correct format.\n",
      "Formatting Dates.\n",
      "Checking if user supplied is available on the CoinBase Pro API.\n",
      "Connected to the CoinBase Pro API.\n",
      "Ticker 'PUNDIX-USD' found at the CoinBase Pro API, continuing to extraction.\n",
      "Provisional Start: 2022-01-11T00:00:00\n",
      "Provisional End: 2022-11-07T00:00:00\n",
      "Data for chunk 1 of 2 extracted\n"
     ]
    },
    {
     "name": "stderr",
     "output_type": "stream",
     "text": [
      "C:\\Users\\Roman\\AppData\\Local\\Packages\\PythonSoftwareFoundation.Python.3.10_qbz5n2kfra8p0\\LocalCache\\local-packages\\Python310\\site-packages\\Historic_Crypto\\HistoricalData.py:176: FutureWarning: The frame.append method is deprecated and will be removed from pandas in a future version. Use pandas.concat instead.\n",
      "  data = data.append(dataset)\n"
     ]
    },
    {
     "name": "stdout",
     "output_type": "stream",
     "text": [
      "Provisional Start: 2022-11-07T00:00:00\n",
      "Provisional End: 2023-09-03T00:00:00\n",
      "Data for chunk 2 of 2 extracted\n",
      "Saved to C:\\Users\\Roman\\Desktop\\DMLS_project\\Crypto\\PUNDIX-USD_diff.csv\n",
      "BICO-USDT\n",
      "Checking input parameters are in the correct format.\n",
      "Formatting Dates.\n",
      "Checking if user supplied is available on the CoinBase Pro API.\n",
      "Connected to the CoinBase Pro API.\n",
      "Ticker 'BICO-USDT' found at the CoinBase Pro API, continuing to extraction.\n",
      "Provisional Start: 2022-01-11T00:00:00\n",
      "Provisional End: 2022-11-07T00:00:00\n",
      "Data for chunk 1 of 2 extracted\n"
     ]
    },
    {
     "name": "stderr",
     "output_type": "stream",
     "text": [
      "C:\\Users\\Roman\\AppData\\Local\\Packages\\PythonSoftwareFoundation.Python.3.10_qbz5n2kfra8p0\\LocalCache\\local-packages\\Python310\\site-packages\\Historic_Crypto\\HistoricalData.py:176: FutureWarning: The frame.append method is deprecated and will be removed from pandas in a future version. Use pandas.concat instead.\n",
      "  data = data.append(dataset)\n"
     ]
    },
    {
     "name": "stdout",
     "output_type": "stream",
     "text": [
      "Provisional Start: 2022-11-07T00:00:00\n",
      "Provisional End: 2023-09-03T00:00:00\n",
      "Data for chunk 2 of 2 extracted\n",
      "Saved to C:\\Users\\Roman\\Desktop\\DMLS_project\\Crypto\\BICO-USDT_diff.csv\n",
      "NU-EUR\n",
      "Checking input parameters are in the correct format.\n",
      "Formatting Dates.\n",
      "Checking if user supplied is available on the CoinBase Pro API.\n",
      "Connected to the CoinBase Pro API.\n",
      "Ticker 'NU-EUR' found at the CoinBase Pro API, continuing to extraction.\n",
      "Provisional Start: 2022-01-11T00:00:00\n",
      "Provisional End: 2022-11-07T00:00:00\n",
      "Data for chunk 1 of 2 extracted\n"
     ]
    },
    {
     "name": "stderr",
     "output_type": "stream",
     "text": [
      "C:\\Users\\Roman\\AppData\\Local\\Packages\\PythonSoftwareFoundation.Python.3.10_qbz5n2kfra8p0\\LocalCache\\local-packages\\Python310\\site-packages\\Historic_Crypto\\HistoricalData.py:176: FutureWarning: The frame.append method is deprecated and will be removed from pandas in a future version. Use pandas.concat instead.\n",
      "  data = data.append(dataset)\n"
     ]
    },
    {
     "name": "stdout",
     "output_type": "stream",
     "text": [
      "Provisional Start: 2022-11-07T00:00:00\n",
      "Provisional End: 2023-09-03T00:00:00\n",
      "Data for chunk 2 of 2 extracted\n",
      "Saved to C:\\Users\\Roman\\Desktop\\DMLS_project\\Crypto\\NU-EUR_diff.csv\n",
      "MXC-USD\n",
      "Checking input parameters are in the correct format.\n",
      "Formatting Dates.\n",
      "Checking if user supplied is available on the CoinBase Pro API.\n",
      "Connected to the CoinBase Pro API.\n",
      "Ticker 'MXC-USD' found at the CoinBase Pro API, continuing to extraction.\n",
      "Provisional Start: 2022-01-11T00:00:00\n",
      "Provisional End: 2022-11-07T00:00:00\n",
      "Data for chunk 1 of 2 extracted\n",
      "Provisional Start: 2022-11-07T00:00:00\n",
      "Provisional End: 2023-09-03T00:00:00\n"
     ]
    },
    {
     "name": "stderr",
     "output_type": "stream",
     "text": [
      "C:\\Users\\Roman\\AppData\\Local\\Packages\\PythonSoftwareFoundation.Python.3.10_qbz5n2kfra8p0\\LocalCache\\local-packages\\Python310\\site-packages\\Historic_Crypto\\HistoricalData.py:176: FutureWarning: The frame.append method is deprecated and will be removed from pandas in a future version. Use pandas.concat instead.\n",
      "  data = data.append(dataset)\n"
     ]
    },
    {
     "name": "stdout",
     "output_type": "stream",
     "text": [
      "Data for chunk 2 of 2 extracted\n",
      "Saved to C:\\Users\\Roman\\Desktop\\DMLS_project\\Crypto\\MXC-USD_diff.csv\n",
      "MCO2-USD\n",
      "Checking input parameters are in the correct format.\n",
      "Formatting Dates.\n",
      "Checking if user supplied is available on the CoinBase Pro API.\n",
      "Connected to the CoinBase Pro API.\n",
      "Ticker 'MCO2-USD' found at the CoinBase Pro API, continuing to extraction.\n",
      "Provisional Start: 2022-01-11T00:00:00\n",
      "Provisional End: 2022-11-07T00:00:00\n",
      "Data for chunk 1 of 2 extracted\n"
     ]
    },
    {
     "name": "stderr",
     "output_type": "stream",
     "text": [
      "C:\\Users\\Roman\\AppData\\Local\\Packages\\PythonSoftwareFoundation.Python.3.10_qbz5n2kfra8p0\\LocalCache\\local-packages\\Python310\\site-packages\\Historic_Crypto\\HistoricalData.py:176: FutureWarning: The frame.append method is deprecated and will be removed from pandas in a future version. Use pandas.concat instead.\n",
      "  data = data.append(dataset)\n"
     ]
    },
    {
     "name": "stdout",
     "output_type": "stream",
     "text": [
      "Provisional Start: 2022-11-07T00:00:00\n",
      "Provisional End: 2023-09-03T00:00:00\n",
      "Data for chunk 2 of 2 extracted\n",
      "Saved to C:\\Users\\Roman\\Desktop\\DMLS_project\\Crypto\\MCO2-USD_diff.csv\n",
      "ROSE-USD\n",
      "Checking input parameters are in the correct format.\n",
      "Formatting Dates.\n",
      "Checking if user supplied is available on the CoinBase Pro API.\n",
      "Connected to the CoinBase Pro API.\n",
      "Ticker 'ROSE-USD' found at the CoinBase Pro API, continuing to extraction.\n",
      "Provisional Start: 2022-01-11T00:00:00\n",
      "Provisional End: 2022-11-07T00:00:00\n",
      "Data for chunk 1 of 2 extracted\n"
     ]
    },
    {
     "name": "stderr",
     "output_type": "stream",
     "text": [
      "C:\\Users\\Roman\\AppData\\Local\\Packages\\PythonSoftwareFoundation.Python.3.10_qbz5n2kfra8p0\\LocalCache\\local-packages\\Python310\\site-packages\\Historic_Crypto\\HistoricalData.py:176: FutureWarning: The frame.append method is deprecated and will be removed from pandas in a future version. Use pandas.concat instead.\n",
      "  data = data.append(dataset)\n"
     ]
    },
    {
     "name": "stdout",
     "output_type": "stream",
     "text": [
      "Provisional Start: 2022-11-07T00:00:00\n",
      "Provisional End: 2023-09-03T00:00:00\n",
      "Data for chunk 2 of 2 extracted\n",
      "Saved to C:\\Users\\Roman\\Desktop\\DMLS_project\\Crypto\\ROSE-USD_diff.csv\n",
      "VGX-EUR\n",
      "Checking input parameters are in the correct format.\n",
      "Formatting Dates.\n",
      "Checking if user supplied is available on the CoinBase Pro API.\n",
      "Connected to the CoinBase Pro API.\n",
      "Ticker 'VGX-EUR' found at the CoinBase Pro API, continuing to extraction.\n",
      "Provisional Start: 2022-01-11T00:00:00\n",
      "Provisional End: 2022-11-07T00:00:00\n",
      "Data for chunk 1 of 2 extracted\n",
      "Provisional Start: 2022-11-07T00:00:00\n",
      "Provisional End: 2023-09-03T00:00:00\n"
     ]
    },
    {
     "name": "stderr",
     "output_type": "stream",
     "text": [
      "C:\\Users\\Roman\\AppData\\Local\\Packages\\PythonSoftwareFoundation.Python.3.10_qbz5n2kfra8p0\\LocalCache\\local-packages\\Python310\\site-packages\\Historic_Crypto\\HistoricalData.py:176: FutureWarning: The frame.append method is deprecated and will be removed from pandas in a future version. Use pandas.concat instead.\n",
      "  data = data.append(dataset)\n"
     ]
    },
    {
     "name": "stdout",
     "output_type": "stream",
     "text": [
      "Data for chunk 2 of 2 extracted\n",
      "Saved to C:\\Users\\Roman\\Desktop\\DMLS_project\\Crypto\\VGX-EUR_diff.csv\n",
      "FIL-USD\n",
      "Checking input parameters are in the correct format.\n",
      "Formatting Dates.\n",
      "Checking if user supplied is available on the CoinBase Pro API.\n",
      "Connected to the CoinBase Pro API.\n",
      "Ticker 'FIL-USD' found at the CoinBase Pro API, continuing to extraction.\n",
      "Provisional Start: 2022-01-11T00:00:00\n",
      "Provisional End: 2022-11-07T00:00:00\n",
      "Data for chunk 1 of 2 extracted\n",
      "Provisional Start: 2022-11-07T00:00:00\n",
      "Provisional End: 2023-09-03T00:00:00\n"
     ]
    },
    {
     "name": "stderr",
     "output_type": "stream",
     "text": [
      "C:\\Users\\Roman\\AppData\\Local\\Packages\\PythonSoftwareFoundation.Python.3.10_qbz5n2kfra8p0\\LocalCache\\local-packages\\Python310\\site-packages\\Historic_Crypto\\HistoricalData.py:176: FutureWarning: The frame.append method is deprecated and will be removed from pandas in a future version. Use pandas.concat instead.\n",
      "  data = data.append(dataset)\n"
     ]
    },
    {
     "name": "stdout",
     "output_type": "stream",
     "text": [
      "Data for chunk 2 of 2 extracted\n",
      "Saved to C:\\Users\\Roman\\Desktop\\DMLS_project\\Crypto\\FIL-USD_diff.csv\n",
      "LDO-USD\n",
      "Checking input parameters are in the correct format.\n",
      "Formatting Dates.\n",
      "Checking if user supplied is available on the CoinBase Pro API.\n",
      "Connected to the CoinBase Pro API.\n",
      "Ticker 'LDO-USD' found at the CoinBase Pro API, continuing to extraction.\n",
      "Provisional Start: 2022-01-11T00:00:00\n",
      "Provisional End: 2022-11-07T00:00:00\n",
      "Data for chunk 1 of 2 extracted\n",
      "CoinBase Pro API did not have available data for 'LDO-USD' beginning at 2022-01-11-00-00.  \n",
      "                        Trying a later date:'2022-01-11T00:00:00'\n",
      "Provisional Start: 2022-11-07T00:00:00\n",
      "Provisional End: 2023-09-03T00:00:00\n",
      "Data for chunk 2 of 2 extracted\n"
     ]
    },
    {
     "name": "stderr",
     "output_type": "stream",
     "text": [
      "C:\\Users\\Roman\\AppData\\Local\\Packages\\PythonSoftwareFoundation.Python.3.10_qbz5n2kfra8p0\\LocalCache\\local-packages\\Python310\\site-packages\\Historic_Crypto\\HistoricalData.py:176: FutureWarning: The frame.append method is deprecated and will be removed from pandas in a future version. Use pandas.concat instead.\n",
      "  data = data.append(dataset)\n"
     ]
    },
    {
     "name": "stdout",
     "output_type": "stream",
     "text": [
      "Saved to C:\\Users\\Roman\\Desktop\\DMLS_project\\Crypto\\LDO-USD_diff.csv\n",
      "BIT-USDT\n",
      "Checking input parameters are in the correct format.\n",
      "Formatting Dates.\n",
      "Checking if user supplied is available on the CoinBase Pro API.\n",
      "Connected to the CoinBase Pro API.\n",
      "Ticker 'BIT-USDT' found at the CoinBase Pro API, continuing to extraction.\n",
      "Provisional Start: 2022-01-11T00:00:00\n",
      "Provisional End: 2022-11-07T00:00:00\n",
      "Data for chunk 1 of 2 extracted\n"
     ]
    },
    {
     "name": "stderr",
     "output_type": "stream",
     "text": [
      "C:\\Users\\Roman\\AppData\\Local\\Packages\\PythonSoftwareFoundation.Python.3.10_qbz5n2kfra8p0\\LocalCache\\local-packages\\Python310\\site-packages\\Historic_Crypto\\HistoricalData.py:176: FutureWarning: The frame.append method is deprecated and will be removed from pandas in a future version. Use pandas.concat instead.\n",
      "  data = data.append(dataset)\n"
     ]
    },
    {
     "name": "stdout",
     "output_type": "stream",
     "text": [
      "Provisional Start: 2022-11-07T00:00:00\n",
      "Provisional End: 2023-09-03T00:00:00\n",
      "Data for chunk 2 of 2 extracted\n",
      "Saved to C:\\Users\\Roman\\Desktop\\DMLS_project\\Crypto\\BIT-USDT_diff.csv\n",
      "MSOL-USD\n",
      "Checking input parameters are in the correct format.\n",
      "Formatting Dates.\n",
      "Checking if user supplied is available on the CoinBase Pro API.\n",
      "Connected to the CoinBase Pro API.\n",
      "Ticker 'MSOL-USD' found at the CoinBase Pro API, continuing to extraction.\n",
      "Provisional Start: 2022-01-11T00:00:00\n",
      "Provisional End: 2022-11-07T00:00:00\n",
      "Data for chunk 1 of 2 extracted\n",
      "Provisional Start: 2022-11-07T00:00:00\n",
      "Provisional End: 2023-09-03T00:00:00\n"
     ]
    },
    {
     "name": "stderr",
     "output_type": "stream",
     "text": [
      "C:\\Users\\Roman\\AppData\\Local\\Packages\\PythonSoftwareFoundation.Python.3.10_qbz5n2kfra8p0\\LocalCache\\local-packages\\Python310\\site-packages\\Historic_Crypto\\HistoricalData.py:176: FutureWarning: The frame.append method is deprecated and will be removed from pandas in a future version. Use pandas.concat instead.\n",
      "  data = data.append(dataset)\n"
     ]
    },
    {
     "name": "stdout",
     "output_type": "stream",
     "text": [
      "Data for chunk 2 of 2 extracted\n",
      "Saved to C:\\Users\\Roman\\Desktop\\DMLS_project\\Crypto\\MSOL-USD_diff.csv\n",
      "IOTX-EUR\n",
      "Checking input parameters are in the correct format.\n",
      "Formatting Dates.\n",
      "Checking if user supplied is available on the CoinBase Pro API.\n",
      "Connected to the CoinBase Pro API.\n",
      "Ticker 'IOTX-EUR' found at the CoinBase Pro API, continuing to extraction.\n",
      "Provisional Start: 2022-01-11T00:00:00\n",
      "Provisional End: 2022-11-07T00:00:00\n",
      "Data for chunk 1 of 2 extracted\n",
      "Provisional Start: 2022-11-07T00:00:00\n",
      "Provisional End: 2023-09-03T00:00:00\n"
     ]
    },
    {
     "name": "stderr",
     "output_type": "stream",
     "text": [
      "C:\\Users\\Roman\\AppData\\Local\\Packages\\PythonSoftwareFoundation.Python.3.10_qbz5n2kfra8p0\\LocalCache\\local-packages\\Python310\\site-packages\\Historic_Crypto\\HistoricalData.py:176: FutureWarning: The frame.append method is deprecated and will be removed from pandas in a future version. Use pandas.concat instead.\n",
      "  data = data.append(dataset)\n"
     ]
    },
    {
     "name": "stdout",
     "output_type": "stream",
     "text": [
      "Data for chunk 2 of 2 extracted\n",
      "Saved to C:\\Users\\Roman\\Desktop\\DMLS_project\\Crypto\\IOTX-EUR_diff.csv\n",
      "ALGO-GBP\n",
      "Checking input parameters are in the correct format.\n",
      "Formatting Dates.\n",
      "Checking if user supplied is available on the CoinBase Pro API.\n",
      "Connected to the CoinBase Pro API.\n",
      "Ticker 'ALGO-GBP' found at the CoinBase Pro API, continuing to extraction.\n",
      "Provisional Start: 2022-01-11T00:00:00\n",
      "Provisional End: 2022-11-07T00:00:00\n",
      "Data for chunk 1 of 2 extracted\n"
     ]
    },
    {
     "name": "stderr",
     "output_type": "stream",
     "text": [
      "C:\\Users\\Roman\\AppData\\Local\\Packages\\PythonSoftwareFoundation.Python.3.10_qbz5n2kfra8p0\\LocalCache\\local-packages\\Python310\\site-packages\\Historic_Crypto\\HistoricalData.py:176: FutureWarning: The frame.append method is deprecated and will be removed from pandas in a future version. Use pandas.concat instead.\n",
      "  data = data.append(dataset)\n"
     ]
    },
    {
     "name": "stdout",
     "output_type": "stream",
     "text": [
      "Provisional Start: 2022-11-07T00:00:00\n",
      "Provisional End: 2023-09-03T00:00:00\n",
      "Data for chunk 2 of 2 extracted\n",
      "Saved to C:\\Users\\Roman\\Desktop\\DMLS_project\\Crypto\\ALGO-GBP_diff.csv\n",
      "REN-USD\n",
      "Checking input parameters are in the correct format.\n",
      "Formatting Dates.\n",
      "Checking if user supplied is available on the CoinBase Pro API.\n",
      "Connected to the CoinBase Pro API.\n",
      "Ticker 'REN-USD' found at the CoinBase Pro API, continuing to extraction.\n",
      "Provisional Start: 2022-01-11T00:00:00\n",
      "Provisional End: 2022-11-07T00:00:00\n",
      "Data for chunk 1 of 2 extracted\n",
      "Provisional Start: 2022-11-07T00:00:00\n",
      "Provisional End: 2023-09-03T00:00:00\n"
     ]
    },
    {
     "name": "stderr",
     "output_type": "stream",
     "text": [
      "C:\\Users\\Roman\\AppData\\Local\\Packages\\PythonSoftwareFoundation.Python.3.10_qbz5n2kfra8p0\\LocalCache\\local-packages\\Python310\\site-packages\\Historic_Crypto\\HistoricalData.py:176: FutureWarning: The frame.append method is deprecated and will be removed from pandas in a future version. Use pandas.concat instead.\n",
      "  data = data.append(dataset)\n"
     ]
    },
    {
     "name": "stdout",
     "output_type": "stream",
     "text": [
      "Data for chunk 2 of 2 extracted\n",
      "Saved to C:\\Users\\Roman\\Desktop\\DMLS_project\\Crypto\\REN-USD_diff.csv\n",
      "MASK-EUR\n",
      "Checking input parameters are in the correct format.\n",
      "Formatting Dates.\n",
      "Checking if user supplied is available on the CoinBase Pro API.\n",
      "Connected to the CoinBase Pro API.\n",
      "Ticker 'MASK-EUR' found at the CoinBase Pro API, continuing to extraction.\n",
      "Provisional Start: 2022-01-11T00:00:00\n",
      "Provisional End: 2022-11-07T00:00:00\n",
      "Data for chunk 1 of 2 extracted\n"
     ]
    },
    {
     "name": "stderr",
     "output_type": "stream",
     "text": [
      "C:\\Users\\Roman\\AppData\\Local\\Packages\\PythonSoftwareFoundation.Python.3.10_qbz5n2kfra8p0\\LocalCache\\local-packages\\Python310\\site-packages\\Historic_Crypto\\HistoricalData.py:176: FutureWarning: The frame.append method is deprecated and will be removed from pandas in a future version. Use pandas.concat instead.\n",
      "  data = data.append(dataset)\n"
     ]
    },
    {
     "name": "stdout",
     "output_type": "stream",
     "text": [
      "Provisional Start: 2022-11-07T00:00:00\n",
      "Provisional End: 2023-09-03T00:00:00\n",
      "Data for chunk 2 of 2 extracted\n",
      "Saved to C:\\Users\\Roman\\Desktop\\DMLS_project\\Crypto\\MASK-EUR_diff.csv\n",
      "WCFG-BTC\n",
      "Checking input parameters are in the correct format.\n",
      "Formatting Dates.\n",
      "Checking if user supplied is available on the CoinBase Pro API.\n",
      "Connected to the CoinBase Pro API.\n",
      "Ticker 'WCFG-BTC' found at the CoinBase Pro API, continuing to extraction.\n",
      "Provisional Start: 2022-01-11T00:00:00\n",
      "Provisional End: 2022-11-07T00:00:00\n",
      "Data for chunk 1 of 2 extracted\n"
     ]
    },
    {
     "name": "stderr",
     "output_type": "stream",
     "text": [
      "C:\\Users\\Roman\\AppData\\Local\\Packages\\PythonSoftwareFoundation.Python.3.10_qbz5n2kfra8p0\\LocalCache\\local-packages\\Python310\\site-packages\\Historic_Crypto\\HistoricalData.py:176: FutureWarning: The frame.append method is deprecated and will be removed from pandas in a future version. Use pandas.concat instead.\n",
      "  data = data.append(dataset)\n"
     ]
    },
    {
     "name": "stdout",
     "output_type": "stream",
     "text": [
      "Provisional Start: 2022-11-07T00:00:00\n",
      "Provisional End: 2023-09-03T00:00:00\n",
      "Data for chunk 2 of 2 extracted\n",
      "Saved to C:\\Users\\Roman\\Desktop\\DMLS_project\\Crypto\\WCFG-BTC_diff.csv\n",
      "FARM-USD\n",
      "Checking input parameters are in the correct format.\n",
      "Formatting Dates.\n",
      "Checking if user supplied is available on the CoinBase Pro API.\n",
      "Connected to the CoinBase Pro API.\n",
      "Ticker 'FARM-USD' found at the CoinBase Pro API, continuing to extraction.\n",
      "Provisional Start: 2022-01-11T00:00:00\n",
      "Provisional End: 2022-11-07T00:00:00\n",
      "Data for chunk 1 of 2 extracted\n",
      "Provisional Start: 2022-11-07T00:00:00\n",
      "Provisional End: 2023-09-03T00:00:00\n"
     ]
    },
    {
     "name": "stderr",
     "output_type": "stream",
     "text": [
      "C:\\Users\\Roman\\AppData\\Local\\Packages\\PythonSoftwareFoundation.Python.3.10_qbz5n2kfra8p0\\LocalCache\\local-packages\\Python310\\site-packages\\Historic_Crypto\\HistoricalData.py:176: FutureWarning: The frame.append method is deprecated and will be removed from pandas in a future version. Use pandas.concat instead.\n",
      "  data = data.append(dataset)\n"
     ]
    },
    {
     "name": "stdout",
     "output_type": "stream",
     "text": [
      "Data for chunk 2 of 2 extracted\n",
      "Saved to C:\\Users\\Roman\\Desktop\\DMLS_project\\Crypto\\FARM-USD_diff.csv\n",
      "BCH-EUR\n",
      "Checking input parameters are in the correct format.\n",
      "Formatting Dates.\n",
      "Checking if user supplied is available on the CoinBase Pro API.\n",
      "Connected to the CoinBase Pro API.\n",
      "Ticker 'BCH-EUR' found at the CoinBase Pro API, continuing to extraction.\n",
      "Provisional Start: 2022-01-11T00:00:00\n",
      "Provisional End: 2022-11-07T00:00:00\n",
      "Data for chunk 1 of 2 extracted\n"
     ]
    },
    {
     "name": "stderr",
     "output_type": "stream",
     "text": [
      "C:\\Users\\Roman\\AppData\\Local\\Packages\\PythonSoftwareFoundation.Python.3.10_qbz5n2kfra8p0\\LocalCache\\local-packages\\Python310\\site-packages\\Historic_Crypto\\HistoricalData.py:176: FutureWarning: The frame.append method is deprecated and will be removed from pandas in a future version. Use pandas.concat instead.\n",
      "  data = data.append(dataset)\n"
     ]
    },
    {
     "name": "stdout",
     "output_type": "stream",
     "text": [
      "Provisional Start: 2022-11-07T00:00:00\n",
      "Provisional End: 2023-09-03T00:00:00\n",
      "Data for chunk 2 of 2 extracted\n",
      "Saved to C:\\Users\\Roman\\Desktop\\DMLS_project\\Crypto\\BCH-EUR_diff.csv\n",
      "ATA-USD\n",
      "Checking input parameters are in the correct format.\n",
      "Formatting Dates.\n",
      "Checking if user supplied is available on the CoinBase Pro API.\n",
      "Connected to the CoinBase Pro API.\n",
      "Ticker 'ATA-USD' found at the CoinBase Pro API, continuing to extraction.\n",
      "Provisional Start: 2022-01-11T00:00:00\n",
      "Provisional End: 2022-11-07T00:00:00\n",
      "Data for chunk 1 of 2 extracted\n",
      "Provisional Start: 2022-11-07T00:00:00\n",
      "Provisional End: 2023-09-03T00:00:00\n"
     ]
    },
    {
     "name": "stderr",
     "output_type": "stream",
     "text": [
      "C:\\Users\\Roman\\AppData\\Local\\Packages\\PythonSoftwareFoundation.Python.3.10_qbz5n2kfra8p0\\LocalCache\\local-packages\\Python310\\site-packages\\Historic_Crypto\\HistoricalData.py:176: FutureWarning: The frame.append method is deprecated and will be removed from pandas in a future version. Use pandas.concat instead.\n",
      "  data = data.append(dataset)\n"
     ]
    },
    {
     "name": "stdout",
     "output_type": "stream",
     "text": [
      "Data for chunk 2 of 2 extracted\n",
      "Saved to C:\\Users\\Roman\\Desktop\\DMLS_project\\Crypto\\ATA-USD_diff.csv\n",
      "UMA-GBP\n",
      "Checking input parameters are in the correct format.\n",
      "Formatting Dates.\n",
      "Checking if user supplied is available on the CoinBase Pro API.\n",
      "Connected to the CoinBase Pro API.\n",
      "Ticker 'UMA-GBP' found at the CoinBase Pro API, continuing to extraction.\n",
      "Provisional Start: 2022-01-11T00:00:00\n",
      "Provisional End: 2022-11-07T00:00:00\n",
      "Data for chunk 1 of 2 extracted\n"
     ]
    },
    {
     "name": "stderr",
     "output_type": "stream",
     "text": [
      "C:\\Users\\Roman\\AppData\\Local\\Packages\\PythonSoftwareFoundation.Python.3.10_qbz5n2kfra8p0\\LocalCache\\local-packages\\Python310\\site-packages\\Historic_Crypto\\HistoricalData.py:176: FutureWarning: The frame.append method is deprecated and will be removed from pandas in a future version. Use pandas.concat instead.\n",
      "  data = data.append(dataset)\n"
     ]
    },
    {
     "name": "stdout",
     "output_type": "stream",
     "text": [
      "Provisional Start: 2022-11-07T00:00:00\n",
      "Provisional End: 2023-09-03T00:00:00\n",
      "Data for chunk 2 of 2 extracted\n",
      "Saved to C:\\Users\\Roman\\Desktop\\DMLS_project\\Crypto\\UMA-GBP_diff.csv\n",
      "CHZ-EUR\n",
      "Checking input parameters are in the correct format.\n",
      "Formatting Dates.\n",
      "Checking if user supplied is available on the CoinBase Pro API.\n",
      "Connected to the CoinBase Pro API.\n",
      "Ticker 'CHZ-EUR' found at the CoinBase Pro API, continuing to extraction.\n",
      "Provisional Start: 2022-01-11T00:00:00\n",
      "Provisional End: 2022-11-07T00:00:00\n",
      "Data for chunk 1 of 2 extracted\n"
     ]
    },
    {
     "name": "stderr",
     "output_type": "stream",
     "text": [
      "C:\\Users\\Roman\\AppData\\Local\\Packages\\PythonSoftwareFoundation.Python.3.10_qbz5n2kfra8p0\\LocalCache\\local-packages\\Python310\\site-packages\\Historic_Crypto\\HistoricalData.py:176: FutureWarning: The frame.append method is deprecated and will be removed from pandas in a future version. Use pandas.concat instead.\n",
      "  data = data.append(dataset)\n"
     ]
    },
    {
     "name": "stdout",
     "output_type": "stream",
     "text": [
      "Provisional Start: 2022-11-07T00:00:00\n",
      "Provisional End: 2023-09-03T00:00:00\n",
      "Data for chunk 2 of 2 extracted\n",
      "Saved to C:\\Users\\Roman\\Desktop\\DMLS_project\\Crypto\\CHZ-EUR_diff.csv\n",
      "POLY-USD\n",
      "Checking input parameters are in the correct format.\n",
      "Formatting Dates.\n",
      "Checking if user supplied is available on the CoinBase Pro API.\n",
      "Connected to the CoinBase Pro API.\n",
      "Ticker 'POLY-USD' found at the CoinBase Pro API, continuing to extraction.\n",
      "Provisional Start: 2022-01-11T00:00:00\n",
      "Provisional End: 2022-11-07T00:00:00\n",
      "Data for chunk 1 of 2 extracted\n"
     ]
    },
    {
     "name": "stderr",
     "output_type": "stream",
     "text": [
      "C:\\Users\\Roman\\AppData\\Local\\Packages\\PythonSoftwareFoundation.Python.3.10_qbz5n2kfra8p0\\LocalCache\\local-packages\\Python310\\site-packages\\Historic_Crypto\\HistoricalData.py:176: FutureWarning: The frame.append method is deprecated and will be removed from pandas in a future version. Use pandas.concat instead.\n",
      "  data = data.append(dataset)\n"
     ]
    },
    {
     "name": "stdout",
     "output_type": "stream",
     "text": [
      "Provisional Start: 2022-11-07T00:00:00\n",
      "Provisional End: 2023-09-03T00:00:00\n",
      "Data for chunk 2 of 2 extracted\n",
      "Saved to C:\\Users\\Roman\\Desktop\\DMLS_project\\Crypto\\POLY-USD_diff.csv\n",
      "SKL-GBP\n",
      "Checking input parameters are in the correct format.\n",
      "Formatting Dates.\n",
      "Checking if user supplied is available on the CoinBase Pro API.\n",
      "Connected to the CoinBase Pro API.\n",
      "Ticker 'SKL-GBP' found at the CoinBase Pro API, continuing to extraction.\n",
      "Provisional Start: 2022-01-11T00:00:00\n",
      "Provisional End: 2022-11-07T00:00:00\n",
      "Data for chunk 1 of 2 extracted\n"
     ]
    },
    {
     "name": "stderr",
     "output_type": "stream",
     "text": [
      "C:\\Users\\Roman\\AppData\\Local\\Packages\\PythonSoftwareFoundation.Python.3.10_qbz5n2kfra8p0\\LocalCache\\local-packages\\Python310\\site-packages\\Historic_Crypto\\HistoricalData.py:176: FutureWarning: The frame.append method is deprecated and will be removed from pandas in a future version. Use pandas.concat instead.\n",
      "  data = data.append(dataset)\n"
     ]
    },
    {
     "name": "stdout",
     "output_type": "stream",
     "text": [
      "Provisional Start: 2022-11-07T00:00:00\n",
      "Provisional End: 2023-09-03T00:00:00\n",
      "Data for chunk 2 of 2 extracted\n",
      "Saved to C:\\Users\\Roman\\Desktop\\DMLS_project\\Crypto\\SKL-GBP_diff.csv\n",
      "DAI-USD\n",
      "Checking input parameters are in the correct format.\n",
      "Formatting Dates.\n",
      "Checking if user supplied is available on the CoinBase Pro API.\n",
      "Connected to the CoinBase Pro API.\n",
      "Ticker 'DAI-USD' found at the CoinBase Pro API, continuing to extraction.\n",
      "Provisional Start: 2022-01-11T00:00:00\n",
      "Provisional End: 2022-11-07T00:00:00\n",
      "Data for chunk 1 of 2 extracted\n",
      "Provisional Start: 2022-11-07T00:00:00\n",
      "Provisional End: 2023-09-03T00:00:00\n"
     ]
    },
    {
     "name": "stderr",
     "output_type": "stream",
     "text": [
      "C:\\Users\\Roman\\AppData\\Local\\Packages\\PythonSoftwareFoundation.Python.3.10_qbz5n2kfra8p0\\LocalCache\\local-packages\\Python310\\site-packages\\Historic_Crypto\\HistoricalData.py:176: FutureWarning: The frame.append method is deprecated and will be removed from pandas in a future version. Use pandas.concat instead.\n",
      "  data = data.append(dataset)\n"
     ]
    },
    {
     "name": "stdout",
     "output_type": "stream",
     "text": [
      "Data for chunk 2 of 2 extracted\n",
      "Saved to C:\\Users\\Roman\\Desktop\\DMLS_project\\Crypto\\DAI-USD_diff.csv\n",
      "ICP-USDT\n",
      "Checking input parameters are in the correct format.\n",
      "Formatting Dates.\n",
      "Checking if user supplied is available on the CoinBase Pro API.\n",
      "Connected to the CoinBase Pro API.\n",
      "Ticker 'ICP-USDT' found at the CoinBase Pro API, continuing to extraction.\n",
      "Provisional Start: 2022-01-11T00:00:00\n",
      "Provisional End: 2022-11-07T00:00:00\n",
      "Data for chunk 1 of 2 extracted\n"
     ]
    },
    {
     "name": "stderr",
     "output_type": "stream",
     "text": [
      "C:\\Users\\Roman\\AppData\\Local\\Packages\\PythonSoftwareFoundation.Python.3.10_qbz5n2kfra8p0\\LocalCache\\local-packages\\Python310\\site-packages\\Historic_Crypto\\HistoricalData.py:176: FutureWarning: The frame.append method is deprecated and will be removed from pandas in a future version. Use pandas.concat instead.\n",
      "  data = data.append(dataset)\n"
     ]
    },
    {
     "name": "stdout",
     "output_type": "stream",
     "text": [
      "Provisional Start: 2022-11-07T00:00:00\n",
      "Provisional End: 2023-09-03T00:00:00\n",
      "Data for chunk 2 of 2 extracted\n",
      "Saved to C:\\Users\\Roman\\Desktop\\DMLS_project\\Crypto\\ICP-USDT_diff.csv\n",
      "ARPA-EUR\n",
      "Checking input parameters are in the correct format.\n",
      "Formatting Dates.\n",
      "Checking if user supplied is available on the CoinBase Pro API.\n",
      "Connected to the CoinBase Pro API.\n",
      "Ticker 'ARPA-EUR' found at the CoinBase Pro API, continuing to extraction.\n",
      "Provisional Start: 2022-01-11T00:00:00\n",
      "Provisional End: 2022-11-07T00:00:00\n",
      "Data for chunk 1 of 2 extracted\n"
     ]
    },
    {
     "name": "stderr",
     "output_type": "stream",
     "text": [
      "C:\\Users\\Roman\\AppData\\Local\\Packages\\PythonSoftwareFoundation.Python.3.10_qbz5n2kfra8p0\\LocalCache\\local-packages\\Python310\\site-packages\\Historic_Crypto\\HistoricalData.py:176: FutureWarning: The frame.append method is deprecated and will be removed from pandas in a future version. Use pandas.concat instead.\n",
      "  data = data.append(dataset)\n"
     ]
    },
    {
     "name": "stdout",
     "output_type": "stream",
     "text": [
      "Provisional Start: 2022-11-07T00:00:00\n",
      "Provisional End: 2023-09-03T00:00:00\n",
      "Data for chunk 2 of 2 extracted\n",
      "Saved to C:\\Users\\Roman\\Desktop\\DMLS_project\\Crypto\\ARPA-EUR_diff.csv\n",
      "OMG-USD\n",
      "Checking input parameters are in the correct format.\n",
      "Formatting Dates.\n",
      "Checking if user supplied is available on the CoinBase Pro API.\n",
      "Connected to the CoinBase Pro API.\n",
      "Ticker 'OMG-USD' found at the CoinBase Pro API, continuing to extraction.\n",
      "Provisional Start: 2022-01-11T00:00:00\n",
      "Provisional End: 2022-11-07T00:00:00\n",
      "Data for chunk 1 of 2 extracted\n"
     ]
    },
    {
     "name": "stderr",
     "output_type": "stream",
     "text": [
      "C:\\Users\\Roman\\AppData\\Local\\Packages\\PythonSoftwareFoundation.Python.3.10_qbz5n2kfra8p0\\LocalCache\\local-packages\\Python310\\site-packages\\Historic_Crypto\\HistoricalData.py:176: FutureWarning: The frame.append method is deprecated and will be removed from pandas in a future version. Use pandas.concat instead.\n",
      "  data = data.append(dataset)\n"
     ]
    },
    {
     "name": "stdout",
     "output_type": "stream",
     "text": [
      "Provisional Start: 2022-11-07T00:00:00\n",
      "Provisional End: 2023-09-03T00:00:00\n",
      "Data for chunk 2 of 2 extracted\n",
      "Saved to C:\\Users\\Roman\\Desktop\\DMLS_project\\Crypto\\OMG-USD_diff.csv\n",
      "ADA-USDT\n",
      "Checking input parameters are in the correct format.\n",
      "Formatting Dates.\n",
      "Checking if user supplied is available on the CoinBase Pro API.\n",
      "Connected to the CoinBase Pro API.\n",
      "Ticker 'ADA-USDT' found at the CoinBase Pro API, continuing to extraction.\n",
      "Provisional Start: 2022-01-11T00:00:00\n",
      "Provisional End: 2022-11-07T00:00:00\n",
      "Data for chunk 1 of 2 extracted\n"
     ]
    },
    {
     "name": "stderr",
     "output_type": "stream",
     "text": [
      "C:\\Users\\Roman\\AppData\\Local\\Packages\\PythonSoftwareFoundation.Python.3.10_qbz5n2kfra8p0\\LocalCache\\local-packages\\Python310\\site-packages\\Historic_Crypto\\HistoricalData.py:176: FutureWarning: The frame.append method is deprecated and will be removed from pandas in a future version. Use pandas.concat instead.\n",
      "  data = data.append(dataset)\n"
     ]
    },
    {
     "name": "stdout",
     "output_type": "stream",
     "text": [
      "Provisional Start: 2022-11-07T00:00:00\n",
      "Provisional End: 2023-09-03T00:00:00\n",
      "Data for chunk 2 of 2 extracted\n",
      "Saved to C:\\Users\\Roman\\Desktop\\DMLS_project\\Crypto\\ADA-USDT_diff.csv\n",
      "MPL-USD\n",
      "Checking input parameters are in the correct format.\n",
      "Formatting Dates.\n",
      "Checking if user supplied is available on the CoinBase Pro API.\n",
      "Connected to the CoinBase Pro API.\n",
      "Ticker 'MPL-USD' found at the CoinBase Pro API, continuing to extraction.\n",
      "Provisional Start: 2022-01-11T00:00:00\n",
      "Provisional End: 2022-11-07T00:00:00\n",
      "Data for chunk 1 of 2 extracted\n"
     ]
    },
    {
     "name": "stderr",
     "output_type": "stream",
     "text": [
      "C:\\Users\\Roman\\AppData\\Local\\Packages\\PythonSoftwareFoundation.Python.3.10_qbz5n2kfra8p0\\LocalCache\\local-packages\\Python310\\site-packages\\Historic_Crypto\\HistoricalData.py:176: FutureWarning: The frame.append method is deprecated and will be removed from pandas in a future version. Use pandas.concat instead.\n",
      "  data = data.append(dataset)\n"
     ]
    },
    {
     "name": "stdout",
     "output_type": "stream",
     "text": [
      "Provisional Start: 2022-11-07T00:00:00\n",
      "Provisional End: 2023-09-03T00:00:00\n",
      "Data for chunk 2 of 2 extracted\n",
      "Saved to C:\\Users\\Roman\\Desktop\\DMLS_project\\Crypto\\MPL-USD_diff.csv\n",
      "FORTH-GBP\n",
      "Checking input parameters are in the correct format.\n",
      "Formatting Dates.\n",
      "Checking if user supplied is available on the CoinBase Pro API.\n",
      "Connected to the CoinBase Pro API.\n",
      "Ticker 'FORTH-GBP' found at the CoinBase Pro API, continuing to extraction.\n",
      "Provisional Start: 2022-01-11T00:00:00\n",
      "Provisional End: 2022-11-07T00:00:00\n",
      "Data for chunk 1 of 2 extracted\n",
      "Provisional Start: 2022-11-07T00:00:00\n",
      "Provisional End: 2023-09-03T00:00:00\n"
     ]
    },
    {
     "name": "stderr",
     "output_type": "stream",
     "text": [
      "C:\\Users\\Roman\\AppData\\Local\\Packages\\PythonSoftwareFoundation.Python.3.10_qbz5n2kfra8p0\\LocalCache\\local-packages\\Python310\\site-packages\\Historic_Crypto\\HistoricalData.py:176: FutureWarning: The frame.append method is deprecated and will be removed from pandas in a future version. Use pandas.concat instead.\n",
      "  data = data.append(dataset)\n"
     ]
    },
    {
     "name": "stdout",
     "output_type": "stream",
     "text": [
      "Data for chunk 2 of 2 extracted\n",
      "Saved to C:\\Users\\Roman\\Desktop\\DMLS_project\\Crypto\\FORTH-GBP_diff.csv\n",
      "BAL-BTC\n",
      "Checking input parameters are in the correct format.\n",
      "Formatting Dates.\n",
      "Checking if user supplied is available on the CoinBase Pro API.\n",
      "Connected to the CoinBase Pro API.\n",
      "Ticker 'BAL-BTC' found at the CoinBase Pro API, continuing to extraction.\n",
      "Provisional Start: 2022-01-11T00:00:00\n",
      "Provisional End: 2022-11-07T00:00:00\n",
      "Data for chunk 1 of 2 extracted\n"
     ]
    },
    {
     "name": "stderr",
     "output_type": "stream",
     "text": [
      "C:\\Users\\Roman\\AppData\\Local\\Packages\\PythonSoftwareFoundation.Python.3.10_qbz5n2kfra8p0\\LocalCache\\local-packages\\Python310\\site-packages\\Historic_Crypto\\HistoricalData.py:176: FutureWarning: The frame.append method is deprecated and will be removed from pandas in a future version. Use pandas.concat instead.\n",
      "  data = data.append(dataset)\n"
     ]
    },
    {
     "name": "stdout",
     "output_type": "stream",
     "text": [
      "Provisional Start: 2022-11-07T00:00:00\n",
      "Provisional End: 2023-09-03T00:00:00\n",
      "Data for chunk 2 of 2 extracted\n",
      "Saved to C:\\Users\\Roman\\Desktop\\DMLS_project\\Crypto\\BAL-BTC_diff.csv\n",
      "BCH-GBP\n",
      "Checking input parameters are in the correct format.\n",
      "Formatting Dates.\n",
      "Checking if user supplied is available on the CoinBase Pro API.\n",
      "Connected to the CoinBase Pro API.\n",
      "Ticker 'BCH-GBP' found at the CoinBase Pro API, continuing to extraction.\n",
      "Provisional Start: 2022-01-11T00:00:00\n",
      "Provisional End: 2022-11-07T00:00:00\n",
      "Data for chunk 1 of 2 extracted\n"
     ]
    },
    {
     "name": "stderr",
     "output_type": "stream",
     "text": [
      "C:\\Users\\Roman\\AppData\\Local\\Packages\\PythonSoftwareFoundation.Python.3.10_qbz5n2kfra8p0\\LocalCache\\local-packages\\Python310\\site-packages\\Historic_Crypto\\HistoricalData.py:176: FutureWarning: The frame.append method is deprecated and will be removed from pandas in a future version. Use pandas.concat instead.\n",
      "  data = data.append(dataset)\n"
     ]
    },
    {
     "name": "stdout",
     "output_type": "stream",
     "text": [
      "Provisional Start: 2022-11-07T00:00:00\n",
      "Provisional End: 2023-09-03T00:00:00\n",
      "Data for chunk 2 of 2 extracted\n",
      "Saved to C:\\Users\\Roman\\Desktop\\DMLS_project\\Crypto\\BCH-GBP_diff.csv\n",
      "XTZ-BTC\n",
      "Checking input parameters are in the correct format.\n",
      "Formatting Dates.\n",
      "Checking if user supplied is available on the CoinBase Pro API.\n",
      "Connected to the CoinBase Pro API.\n",
      "Ticker 'XTZ-BTC' found at the CoinBase Pro API, continuing to extraction.\n",
      "Provisional Start: 2022-01-11T00:00:00\n",
      "Provisional End: 2022-11-07T00:00:00\n",
      "Data for chunk 1 of 2 extracted\n"
     ]
    },
    {
     "name": "stderr",
     "output_type": "stream",
     "text": [
      "C:\\Users\\Roman\\AppData\\Local\\Packages\\PythonSoftwareFoundation.Python.3.10_qbz5n2kfra8p0\\LocalCache\\local-packages\\Python310\\site-packages\\Historic_Crypto\\HistoricalData.py:176: FutureWarning: The frame.append method is deprecated and will be removed from pandas in a future version. Use pandas.concat instead.\n",
      "  data = data.append(dataset)\n"
     ]
    },
    {
     "name": "stdout",
     "output_type": "stream",
     "text": [
      "Provisional Start: 2022-11-07T00:00:00\n",
      "Provisional End: 2023-09-03T00:00:00\n",
      "Data for chunk 2 of 2 extracted\n",
      "Saved to C:\\Users\\Roman\\Desktop\\DMLS_project\\Crypto\\XTZ-BTC_diff.csv\n",
      "BTC-USD\n",
      "Checking input parameters are in the correct format.\n",
      "Formatting Dates.\n",
      "Checking if user supplied is available on the CoinBase Pro API.\n",
      "Connected to the CoinBase Pro API.\n",
      "Ticker 'BTC-USD' found at the CoinBase Pro API, continuing to extraction.\n",
      "Provisional Start: 2022-01-11T00:00:00\n",
      "Provisional End: 2022-11-07T00:00:00\n",
      "Data for chunk 1 of 2 extracted\n"
     ]
    },
    {
     "name": "stderr",
     "output_type": "stream",
     "text": [
      "C:\\Users\\Roman\\AppData\\Local\\Packages\\PythonSoftwareFoundation.Python.3.10_qbz5n2kfra8p0\\LocalCache\\local-packages\\Python310\\site-packages\\Historic_Crypto\\HistoricalData.py:176: FutureWarning: The frame.append method is deprecated and will be removed from pandas in a future version. Use pandas.concat instead.\n",
      "  data = data.append(dataset)\n"
     ]
    },
    {
     "name": "stdout",
     "output_type": "stream",
     "text": [
      "Provisional Start: 2022-11-07T00:00:00\n",
      "Provisional End: 2023-09-03T00:00:00\n",
      "Data for chunk 2 of 2 extracted\n",
      "Saved to C:\\Users\\Roman\\Desktop\\DMLS_project\\Crypto\\BTC-USD_diff.csv\n",
      "DOGE-USDT\n",
      "Checking input parameters are in the correct format.\n",
      "Formatting Dates.\n",
      "Checking if user supplied is available on the CoinBase Pro API.\n",
      "Connected to the CoinBase Pro API.\n",
      "Ticker 'DOGE-USDT' found at the CoinBase Pro API, continuing to extraction.\n",
      "Provisional Start: 2022-01-11T00:00:00\n",
      "Provisional End: 2022-11-07T00:00:00\n",
      "Data for chunk 1 of 2 extracted\n"
     ]
    },
    {
     "name": "stderr",
     "output_type": "stream",
     "text": [
      "C:\\Users\\Roman\\AppData\\Local\\Packages\\PythonSoftwareFoundation.Python.3.10_qbz5n2kfra8p0\\LocalCache\\local-packages\\Python310\\site-packages\\Historic_Crypto\\HistoricalData.py:176: FutureWarning: The frame.append method is deprecated and will be removed from pandas in a future version. Use pandas.concat instead.\n",
      "  data = data.append(dataset)\n"
     ]
    },
    {
     "name": "stdout",
     "output_type": "stream",
     "text": [
      "Provisional Start: 2022-11-07T00:00:00\n",
      "Provisional End: 2023-09-03T00:00:00\n",
      "Data for chunk 2 of 2 extracted\n",
      "Saved to C:\\Users\\Roman\\Desktop\\DMLS_project\\Crypto\\DOGE-USDT_diff.csv\n",
      "ETH-BTC\n",
      "Checking input parameters are in the correct format.\n",
      "Formatting Dates.\n",
      "Checking if user supplied is available on the CoinBase Pro API.\n",
      "Connected to the CoinBase Pro API.\n",
      "Ticker 'ETH-BTC' found at the CoinBase Pro API, continuing to extraction.\n",
      "Provisional Start: 2022-01-11T00:00:00\n",
      "Provisional End: 2022-11-07T00:00:00\n",
      "Data for chunk 1 of 2 extracted\n"
     ]
    },
    {
     "name": "stderr",
     "output_type": "stream",
     "text": [
      "C:\\Users\\Roman\\AppData\\Local\\Packages\\PythonSoftwareFoundation.Python.3.10_qbz5n2kfra8p0\\LocalCache\\local-packages\\Python310\\site-packages\\Historic_Crypto\\HistoricalData.py:176: FutureWarning: The frame.append method is deprecated and will be removed from pandas in a future version. Use pandas.concat instead.\n",
      "  data = data.append(dataset)\n"
     ]
    },
    {
     "name": "stdout",
     "output_type": "stream",
     "text": [
      "Provisional Start: 2022-11-07T00:00:00\n",
      "Provisional End: 2023-09-03T00:00:00\n",
      "Data for chunk 2 of 2 extracted\n",
      "Saved to C:\\Users\\Roman\\Desktop\\DMLS_project\\Crypto\\ETH-BTC_diff.csv\n",
      "BADGER-USD\n",
      "Checking input parameters are in the correct format.\n",
      "Formatting Dates.\n",
      "Checking if user supplied is available on the CoinBase Pro API.\n",
      "Connected to the CoinBase Pro API.\n",
      "Ticker 'BADGER-USD' found at the CoinBase Pro API, continuing to extraction.\n",
      "Provisional Start: 2022-01-11T00:00:00\n",
      "Provisional End: 2022-11-07T00:00:00\n",
      "Data for chunk 1 of 2 extracted\n",
      "Provisional Start: 2022-11-07T00:00:00\n",
      "Provisional End: 2023-09-03T00:00:00\n",
      "Data for chunk 2 of 2 extracted\n"
     ]
    },
    {
     "name": "stderr",
     "output_type": "stream",
     "text": [
      "C:\\Users\\Roman\\AppData\\Local\\Packages\\PythonSoftwareFoundation.Python.3.10_qbz5n2kfra8p0\\LocalCache\\local-packages\\Python310\\site-packages\\Historic_Crypto\\HistoricalData.py:176: FutureWarning: The frame.append method is deprecated and will be removed from pandas in a future version. Use pandas.concat instead.\n",
      "  data = data.append(dataset)\n"
     ]
    },
    {
     "name": "stdout",
     "output_type": "stream",
     "text": [
      "Saved to C:\\Users\\Roman\\Desktop\\DMLS_project\\Crypto\\BADGER-USD_diff.csv\n",
      "XCN-USD\n",
      "Checking input parameters are in the correct format.\n",
      "Formatting Dates.\n",
      "Checking if user supplied is available on the CoinBase Pro API.\n",
      "Connected to the CoinBase Pro API.\n",
      "Ticker 'XCN-USD' found at the CoinBase Pro API, continuing to extraction.\n",
      "Provisional Start: 2022-01-11T00:00:00\n",
      "Provisional End: 2022-11-07T00:00:00\n",
      "Data for chunk 1 of 2 extracted\n"
     ]
    },
    {
     "name": "stderr",
     "output_type": "stream",
     "text": [
      "C:\\Users\\Roman\\AppData\\Local\\Packages\\PythonSoftwareFoundation.Python.3.10_qbz5n2kfra8p0\\LocalCache\\local-packages\\Python310\\site-packages\\Historic_Crypto\\HistoricalData.py:176: FutureWarning: The frame.append method is deprecated and will be removed from pandas in a future version. Use pandas.concat instead.\n",
      "  data = data.append(dataset)\n"
     ]
    },
    {
     "name": "stdout",
     "output_type": "stream",
     "text": [
      "Provisional Start: 2022-11-07T00:00:00\n",
      "Provisional End: 2023-09-03T00:00:00\n",
      "Data for chunk 2 of 2 extracted\n",
      "Saved to C:\\Users\\Roman\\Desktop\\DMLS_project\\Crypto\\XCN-USD_diff.csv\n",
      "ATOM-USD\n",
      "Checking input parameters are in the correct format.\n",
      "Formatting Dates.\n",
      "Checking if user supplied is available on the CoinBase Pro API.\n",
      "Connected to the CoinBase Pro API.\n",
      "Ticker 'ATOM-USD' found at the CoinBase Pro API, continuing to extraction.\n",
      "Provisional Start: 2022-01-11T00:00:00\n",
      "Provisional End: 2022-11-07T00:00:00\n",
      "Data for chunk 1 of 2 extracted\n",
      "Provisional Start: 2022-11-07T00:00:00\n",
      "Provisional End: 2023-09-03T00:00:00\n"
     ]
    },
    {
     "name": "stderr",
     "output_type": "stream",
     "text": [
      "C:\\Users\\Roman\\AppData\\Local\\Packages\\PythonSoftwareFoundation.Python.3.10_qbz5n2kfra8p0\\LocalCache\\local-packages\\Python310\\site-packages\\Historic_Crypto\\HistoricalData.py:176: FutureWarning: The frame.append method is deprecated and will be removed from pandas in a future version. Use pandas.concat instead.\n",
      "  data = data.append(dataset)\n"
     ]
    },
    {
     "name": "stdout",
     "output_type": "stream",
     "text": [
      "Data for chunk 2 of 2 extracted\n",
      "Saved to C:\\Users\\Roman\\Desktop\\DMLS_project\\Crypto\\ATOM-USD_diff.csv\n",
      "SYLO-USD\n",
      "Checking input parameters are in the correct format.\n",
      "Formatting Dates.\n",
      "Checking if user supplied is available on the CoinBase Pro API.\n",
      "Connected to the CoinBase Pro API.\n",
      "Ticker 'SYLO-USD' found at the CoinBase Pro API, continuing to extraction.\n",
      "Provisional Start: 2022-01-11T00:00:00\n",
      "Provisional End: 2022-11-07T00:00:00\n",
      "Data for chunk 1 of 2 extracted\n",
      "Provisional Start: 2022-11-07T00:00:00\n",
      "Provisional End: 2023-09-03T00:00:00\n"
     ]
    },
    {
     "name": "stderr",
     "output_type": "stream",
     "text": [
      "C:\\Users\\Roman\\AppData\\Local\\Packages\\PythonSoftwareFoundation.Python.3.10_qbz5n2kfra8p0\\LocalCache\\local-packages\\Python310\\site-packages\\Historic_Crypto\\HistoricalData.py:176: FutureWarning: The frame.append method is deprecated and will be removed from pandas in a future version. Use pandas.concat instead.\n",
      "  data = data.append(dataset)\n"
     ]
    },
    {
     "name": "stdout",
     "output_type": "stream",
     "text": [
      "Data for chunk 2 of 2 extracted\n",
      "Saved to C:\\Users\\Roman\\Desktop\\DMLS_project\\Crypto\\SYLO-USD_diff.csv\n",
      "POND-USDT\n",
      "Checking input parameters are in the correct format.\n",
      "Formatting Dates.\n",
      "Checking if user supplied is available on the CoinBase Pro API.\n",
      "Connected to the CoinBase Pro API.\n",
      "Ticker 'POND-USDT' found at the CoinBase Pro API, continuing to extraction.\n",
      "Provisional Start: 2022-01-11T00:00:00\n",
      "Provisional End: 2022-11-07T00:00:00\n",
      "Data for chunk 1 of 2 extracted\n"
     ]
    },
    {
     "name": "stderr",
     "output_type": "stream",
     "text": [
      "C:\\Users\\Roman\\AppData\\Local\\Packages\\PythonSoftwareFoundation.Python.3.10_qbz5n2kfra8p0\\LocalCache\\local-packages\\Python310\\site-packages\\Historic_Crypto\\HistoricalData.py:176: FutureWarning: The frame.append method is deprecated and will be removed from pandas in a future version. Use pandas.concat instead.\n",
      "  data = data.append(dataset)\n"
     ]
    },
    {
     "name": "stdout",
     "output_type": "stream",
     "text": [
      "Provisional Start: 2022-11-07T00:00:00\n",
      "Provisional End: 2023-09-03T00:00:00\n",
      "Data for chunk 2 of 2 extracted\n",
      "Saved to C:\\Users\\Roman\\Desktop\\DMLS_project\\Crypto\\POND-USDT_diff.csv\n",
      "SUSHI-EUR\n",
      "Checking input parameters are in the correct format.\n",
      "Formatting Dates.\n",
      "Checking if user supplied is available on the CoinBase Pro API.\n",
      "Connected to the CoinBase Pro API.\n",
      "Ticker 'SUSHI-EUR' found at the CoinBase Pro API, continuing to extraction.\n",
      "Provisional Start: 2022-01-11T00:00:00\n",
      "Provisional End: 2022-11-07T00:00:00\n",
      "Data for chunk 1 of 2 extracted\n"
     ]
    },
    {
     "name": "stderr",
     "output_type": "stream",
     "text": [
      "C:\\Users\\Roman\\AppData\\Local\\Packages\\PythonSoftwareFoundation.Python.3.10_qbz5n2kfra8p0\\LocalCache\\local-packages\\Python310\\site-packages\\Historic_Crypto\\HistoricalData.py:176: FutureWarning: The frame.append method is deprecated and will be removed from pandas in a future version. Use pandas.concat instead.\n",
      "  data = data.append(dataset)\n"
     ]
    },
    {
     "name": "stdout",
     "output_type": "stream",
     "text": [
      "Provisional Start: 2022-11-07T00:00:00\n",
      "Provisional End: 2023-09-03T00:00:00\n",
      "Data for chunk 2 of 2 extracted\n",
      "Saved to C:\\Users\\Roman\\Desktop\\DMLS_project\\Crypto\\SUSHI-EUR_diff.csv\n",
      "UPI-USDT\n",
      "Checking input parameters are in the correct format.\n",
      "Formatting Dates.\n",
      "Checking if user supplied is available on the CoinBase Pro API.\n",
      "Connected to the CoinBase Pro API.\n",
      "Ticker 'UPI-USDT' found at the CoinBase Pro API, continuing to extraction.\n",
      "Provisional Start: 2022-01-11T00:00:00\n",
      "Provisional End: 2022-11-07T00:00:00\n",
      "Data for chunk 1 of 2 extracted\n"
     ]
    },
    {
     "name": "stderr",
     "output_type": "stream",
     "text": [
      "C:\\Users\\Roman\\AppData\\Local\\Packages\\PythonSoftwareFoundation.Python.3.10_qbz5n2kfra8p0\\LocalCache\\local-packages\\Python310\\site-packages\\Historic_Crypto\\HistoricalData.py:176: FutureWarning: The frame.append method is deprecated and will be removed from pandas in a future version. Use pandas.concat instead.\n",
      "  data = data.append(dataset)\n"
     ]
    },
    {
     "name": "stdout",
     "output_type": "stream",
     "text": [
      "Provisional Start: 2022-11-07T00:00:00\n",
      "Provisional End: 2023-09-03T00:00:00\n",
      "Data for chunk 2 of 2 extracted\n",
      "CoinBase Pro API did not have available data for 'UPI-USDT' beginning at 2022-01-11-00-00.  \n",
      "                        Trying a later date:'2022-11-07T00:00:00'\n",
      "Saved to C:\\Users\\Roman\\Desktop\\DMLS_project\\Crypto\\UPI-USDT_diff.csv\n",
      "DIA-USDT\n",
      "Checking input parameters are in the correct format.\n",
      "Formatting Dates.\n",
      "Checking if user supplied is available on the CoinBase Pro API.\n",
      "Connected to the CoinBase Pro API.\n",
      "Ticker 'DIA-USDT' found at the CoinBase Pro API, continuing to extraction.\n",
      "Provisional Start: 2022-01-11T00:00:00\n",
      "Provisional End: 2022-11-07T00:00:00\n",
      "Data for chunk 1 of 2 extracted\n",
      "Provisional Start: 2022-11-07T00:00:00\n",
      "Provisional End: 2023-09-03T00:00:00\n"
     ]
    },
    {
     "name": "stderr",
     "output_type": "stream",
     "text": [
      "C:\\Users\\Roman\\AppData\\Local\\Packages\\PythonSoftwareFoundation.Python.3.10_qbz5n2kfra8p0\\LocalCache\\local-packages\\Python310\\site-packages\\Historic_Crypto\\HistoricalData.py:176: FutureWarning: The frame.append method is deprecated and will be removed from pandas in a future version. Use pandas.concat instead.\n",
      "  data = data.append(dataset)\n"
     ]
    },
    {
     "name": "stdout",
     "output_type": "stream",
     "text": [
      "Data for chunk 2 of 2 extracted\n",
      "Saved to C:\\Users\\Roman\\Desktop\\DMLS_project\\Crypto\\DIA-USDT_diff.csv\n",
      "MANA-EUR\n",
      "Checking input parameters are in the correct format.\n",
      "Formatting Dates.\n",
      "Checking if user supplied is available on the CoinBase Pro API.\n",
      "Connected to the CoinBase Pro API.\n",
      "Ticker 'MANA-EUR' found at the CoinBase Pro API, continuing to extraction.\n",
      "Provisional Start: 2022-01-11T00:00:00\n",
      "Provisional End: 2022-11-07T00:00:00\n",
      "Data for chunk 1 of 2 extracted\n"
     ]
    },
    {
     "name": "stderr",
     "output_type": "stream",
     "text": [
      "C:\\Users\\Roman\\AppData\\Local\\Packages\\PythonSoftwareFoundation.Python.3.10_qbz5n2kfra8p0\\LocalCache\\local-packages\\Python310\\site-packages\\Historic_Crypto\\HistoricalData.py:176: FutureWarning: The frame.append method is deprecated and will be removed from pandas in a future version. Use pandas.concat instead.\n",
      "  data = data.append(dataset)\n"
     ]
    },
    {
     "name": "stdout",
     "output_type": "stream",
     "text": [
      "Provisional Start: 2022-11-07T00:00:00\n",
      "Provisional End: 2023-09-03T00:00:00\n",
      "Data for chunk 2 of 2 extracted\n",
      "Saved to C:\\Users\\Roman\\Desktop\\DMLS_project\\Crypto\\MANA-EUR_diff.csv\n",
      "FET-USDT\n",
      "Checking input parameters are in the correct format.\n",
      "Formatting Dates.\n",
      "Checking if user supplied is available on the CoinBase Pro API.\n",
      "Connected to the CoinBase Pro API.\n",
      "Ticker 'FET-USDT' found at the CoinBase Pro API, continuing to extraction.\n",
      "Provisional Start: 2022-01-11T00:00:00\n",
      "Provisional End: 2022-11-07T00:00:00\n",
      "Data for chunk 1 of 2 extracted\n"
     ]
    },
    {
     "name": "stderr",
     "output_type": "stream",
     "text": [
      "C:\\Users\\Roman\\AppData\\Local\\Packages\\PythonSoftwareFoundation.Python.3.10_qbz5n2kfra8p0\\LocalCache\\local-packages\\Python310\\site-packages\\Historic_Crypto\\HistoricalData.py:176: FutureWarning: The frame.append method is deprecated and will be removed from pandas in a future version. Use pandas.concat instead.\n",
      "  data = data.append(dataset)\n"
     ]
    },
    {
     "name": "stdout",
     "output_type": "stream",
     "text": [
      "Provisional Start: 2022-11-07T00:00:00\n",
      "Provisional End: 2023-09-03T00:00:00\n",
      "Data for chunk 2 of 2 extracted\n",
      "Saved to C:\\Users\\Roman\\Desktop\\DMLS_project\\Crypto\\FET-USDT_diff.csv\n",
      "INV-USD\n",
      "Checking input parameters are in the correct format.\n",
      "Formatting Dates.\n",
      "Checking if user supplied is available on the CoinBase Pro API.\n",
      "Connected to the CoinBase Pro API.\n",
      "Ticker 'INV-USD' found at the CoinBase Pro API, continuing to extraction.\n",
      "Provisional Start: 2022-01-11T00:00:00\n",
      "Provisional End: 2022-11-07T00:00:00\n",
      "Data for chunk 1 of 2 extracted\n"
     ]
    },
    {
     "name": "stderr",
     "output_type": "stream",
     "text": [
      "C:\\Users\\Roman\\AppData\\Local\\Packages\\PythonSoftwareFoundation.Python.3.10_qbz5n2kfra8p0\\LocalCache\\local-packages\\Python310\\site-packages\\Historic_Crypto\\HistoricalData.py:176: FutureWarning: The frame.append method is deprecated and will be removed from pandas in a future version. Use pandas.concat instead.\n",
      "  data = data.append(dataset)\n"
     ]
    },
    {
     "name": "stdout",
     "output_type": "stream",
     "text": [
      "Provisional Start: 2022-11-07T00:00:00\n",
      "Provisional End: 2023-09-03T00:00:00\n",
      "Data for chunk 2 of 2 extracted\n",
      "Saved to C:\\Users\\Roman\\Desktop\\DMLS_project\\Crypto\\INV-USD_diff.csv\n",
      "ACH-USDT\n",
      "Checking input parameters are in the correct format.\n",
      "Formatting Dates.\n",
      "Checking if user supplied is available on the CoinBase Pro API.\n",
      "Connected to the CoinBase Pro API.\n",
      "Ticker 'ACH-USDT' found at the CoinBase Pro API, continuing to extraction.\n",
      "Provisional Start: 2022-01-11T00:00:00\n",
      "Provisional End: 2022-11-07T00:00:00\n",
      "Data for chunk 1 of 2 extracted\n"
     ]
    },
    {
     "name": "stderr",
     "output_type": "stream",
     "text": [
      "C:\\Users\\Roman\\AppData\\Local\\Packages\\PythonSoftwareFoundation.Python.3.10_qbz5n2kfra8p0\\LocalCache\\local-packages\\Python310\\site-packages\\Historic_Crypto\\HistoricalData.py:176: FutureWarning: The frame.append method is deprecated and will be removed from pandas in a future version. Use pandas.concat instead.\n",
      "  data = data.append(dataset)\n"
     ]
    },
    {
     "name": "stdout",
     "output_type": "stream",
     "text": [
      "Provisional Start: 2022-11-07T00:00:00\n",
      "Provisional End: 2023-09-03T00:00:00\n",
      "Data for chunk 2 of 2 extracted\n",
      "Saved to C:\\Users\\Roman\\Desktop\\DMLS_project\\Crypto\\ACH-USDT_diff.csv\n",
      "SKL-EUR\n",
      "Checking input parameters are in the correct format.\n",
      "Formatting Dates.\n",
      "Checking if user supplied is available on the CoinBase Pro API.\n",
      "Connected to the CoinBase Pro API.\n",
      "Ticker 'SKL-EUR' found at the CoinBase Pro API, continuing to extraction.\n",
      "Provisional Start: 2022-01-11T00:00:00\n",
      "Provisional End: 2022-11-07T00:00:00\n",
      "Data for chunk 1 of 2 extracted\n"
     ]
    },
    {
     "name": "stderr",
     "output_type": "stream",
     "text": [
      "C:\\Users\\Roman\\AppData\\Local\\Packages\\PythonSoftwareFoundation.Python.3.10_qbz5n2kfra8p0\\LocalCache\\local-packages\\Python310\\site-packages\\Historic_Crypto\\HistoricalData.py:176: FutureWarning: The frame.append method is deprecated and will be removed from pandas in a future version. Use pandas.concat instead.\n",
      "  data = data.append(dataset)\n"
     ]
    },
    {
     "name": "stdout",
     "output_type": "stream",
     "text": [
      "Provisional Start: 2022-11-07T00:00:00\n",
      "Provisional End: 2023-09-03T00:00:00\n",
      "Data for chunk 2 of 2 extracted\n",
      "Saved to C:\\Users\\Roman\\Desktop\\DMLS_project\\Crypto\\SKL-EUR_diff.csv\n",
      "FORTH-BTC\n",
      "Checking input parameters are in the correct format.\n",
      "Formatting Dates.\n",
      "Checking if user supplied is available on the CoinBase Pro API.\n",
      "Connected to the CoinBase Pro API.\n",
      "Ticker 'FORTH-BTC' found at the CoinBase Pro API, continuing to extraction.\n",
      "Provisional Start: 2022-01-11T00:00:00\n",
      "Provisional End: 2022-11-07T00:00:00\n",
      "Data for chunk 1 of 2 extracted\n"
     ]
    },
    {
     "name": "stderr",
     "output_type": "stream",
     "text": [
      "C:\\Users\\Roman\\AppData\\Local\\Packages\\PythonSoftwareFoundation.Python.3.10_qbz5n2kfra8p0\\LocalCache\\local-packages\\Python310\\site-packages\\Historic_Crypto\\HistoricalData.py:176: FutureWarning: The frame.append method is deprecated and will be removed from pandas in a future version. Use pandas.concat instead.\n",
      "  data = data.append(dataset)\n"
     ]
    },
    {
     "name": "stdout",
     "output_type": "stream",
     "text": [
      "Provisional Start: 2022-11-07T00:00:00\n",
      "Provisional End: 2023-09-03T00:00:00\n",
      "Data for chunk 2 of 2 extracted\n",
      "Saved to C:\\Users\\Roman\\Desktop\\DMLS_project\\Crypto\\FORTH-BTC_diff.csv\n",
      "DYP-USDT\n",
      "Checking input parameters are in the correct format.\n",
      "Formatting Dates.\n",
      "Checking if user supplied is available on the CoinBase Pro API.\n",
      "Connected to the CoinBase Pro API.\n",
      "Ticker 'DYP-USDT' found at the CoinBase Pro API, continuing to extraction.\n",
      "Provisional Start: 2022-01-11T00:00:00\n",
      "Provisional End: 2022-11-07T00:00:00\n",
      "Data for chunk 1 of 2 extracted\n"
     ]
    },
    {
     "name": "stderr",
     "output_type": "stream",
     "text": [
      "C:\\Users\\Roman\\AppData\\Local\\Packages\\PythonSoftwareFoundation.Python.3.10_qbz5n2kfra8p0\\LocalCache\\local-packages\\Python310\\site-packages\\Historic_Crypto\\HistoricalData.py:176: FutureWarning: The frame.append method is deprecated and will be removed from pandas in a future version. Use pandas.concat instead.\n",
      "  data = data.append(dataset)\n"
     ]
    },
    {
     "name": "stdout",
     "output_type": "stream",
     "text": [
      "Provisional Start: 2022-11-07T00:00:00\n",
      "Provisional End: 2023-09-03T00:00:00\n",
      "Data for chunk 2 of 2 extracted\n",
      "Saved to C:\\Users\\Roman\\Desktop\\DMLS_project\\Crypto\\DYP-USDT_diff.csv\n",
      "NMR-EUR\n",
      "Checking input parameters are in the correct format.\n",
      "Formatting Dates.\n",
      "Checking if user supplied is available on the CoinBase Pro API.\n",
      "Connected to the CoinBase Pro API.\n",
      "Ticker 'NMR-EUR' found at the CoinBase Pro API, continuing to extraction.\n",
      "Provisional Start: 2022-01-11T00:00:00\n",
      "Provisional End: 2022-11-07T00:00:00\n",
      "Data for chunk 1 of 2 extracted\n",
      "Provisional Start: 2022-11-07T00:00:00\n",
      "Provisional End: 2023-09-03T00:00:00\n"
     ]
    },
    {
     "name": "stderr",
     "output_type": "stream",
     "text": [
      "C:\\Users\\Roman\\AppData\\Local\\Packages\\PythonSoftwareFoundation.Python.3.10_qbz5n2kfra8p0\\LocalCache\\local-packages\\Python310\\site-packages\\Historic_Crypto\\HistoricalData.py:176: FutureWarning: The frame.append method is deprecated and will be removed from pandas in a future version. Use pandas.concat instead.\n",
      "  data = data.append(dataset)\n"
     ]
    },
    {
     "name": "stdout",
     "output_type": "stream",
     "text": [
      "Data for chunk 2 of 2 extracted\n",
      "Saved to C:\\Users\\Roman\\Desktop\\DMLS_project\\Crypto\\NMR-EUR_diff.csv\n",
      "TRAC-USD\n",
      "Checking input parameters are in the correct format.\n",
      "Formatting Dates.\n",
      "Checking if user supplied is available on the CoinBase Pro API.\n",
      "Connected to the CoinBase Pro API.\n",
      "Ticker 'TRAC-USD' found at the CoinBase Pro API, continuing to extraction.\n",
      "Provisional Start: 2022-01-11T00:00:00\n",
      "Provisional End: 2022-11-07T00:00:00\n",
      "Data for chunk 1 of 2 extracted\n"
     ]
    },
    {
     "name": "stderr",
     "output_type": "stream",
     "text": [
      "C:\\Users\\Roman\\AppData\\Local\\Packages\\PythonSoftwareFoundation.Python.3.10_qbz5n2kfra8p0\\LocalCache\\local-packages\\Python310\\site-packages\\Historic_Crypto\\HistoricalData.py:176: FutureWarning: The frame.append method is deprecated and will be removed from pandas in a future version. Use pandas.concat instead.\n",
      "  data = data.append(dataset)\n"
     ]
    },
    {
     "name": "stdout",
     "output_type": "stream",
     "text": [
      "Provisional Start: 2022-11-07T00:00:00\n",
      "Provisional End: 2023-09-03T00:00:00\n",
      "Data for chunk 2 of 2 extracted\n",
      "Saved to C:\\Users\\Roman\\Desktop\\DMLS_project\\Crypto\\TRAC-USD_diff.csv\n",
      "POLS-USD\n",
      "Checking input parameters are in the correct format.\n",
      "Formatting Dates.\n",
      "Checking if user supplied is available on the CoinBase Pro API.\n",
      "Connected to the CoinBase Pro API.\n",
      "Ticker 'POLS-USD' found at the CoinBase Pro API, continuing to extraction.\n",
      "Provisional Start: 2022-01-11T00:00:00\n",
      "Provisional End: 2022-11-07T00:00:00\n",
      "Data for chunk 1 of 2 extracted\n",
      "Provisional Start: 2022-11-07T00:00:00\n",
      "Provisional End: 2023-09-03T00:00:00\n"
     ]
    },
    {
     "name": "stderr",
     "output_type": "stream",
     "text": [
      "C:\\Users\\Roman\\AppData\\Local\\Packages\\PythonSoftwareFoundation.Python.3.10_qbz5n2kfra8p0\\LocalCache\\local-packages\\Python310\\site-packages\\Historic_Crypto\\HistoricalData.py:176: FutureWarning: The frame.append method is deprecated and will be removed from pandas in a future version. Use pandas.concat instead.\n",
      "  data = data.append(dataset)\n"
     ]
    },
    {
     "name": "stdout",
     "output_type": "stream",
     "text": [
      "Data for chunk 2 of 2 extracted\n",
      "Saved to C:\\Users\\Roman\\Desktop\\DMLS_project\\Crypto\\POLS-USD_diff.csv\n",
      "BOND-USD\n",
      "Checking input parameters are in the correct format.\n",
      "Formatting Dates.\n",
      "Checking if user supplied is available on the CoinBase Pro API.\n",
      "Connected to the CoinBase Pro API.\n",
      "Ticker 'BOND-USD' found at the CoinBase Pro API, continuing to extraction.\n",
      "Provisional Start: 2022-01-11T00:00:00\n",
      "Provisional End: 2022-11-07T00:00:00\n",
      "Data for chunk 1 of 2 extracted\n",
      "Provisional Start: 2022-11-07T00:00:00\n",
      "Provisional End: 2023-09-03T00:00:00\n"
     ]
    },
    {
     "name": "stderr",
     "output_type": "stream",
     "text": [
      "C:\\Users\\Roman\\AppData\\Local\\Packages\\PythonSoftwareFoundation.Python.3.10_qbz5n2kfra8p0\\LocalCache\\local-packages\\Python310\\site-packages\\Historic_Crypto\\HistoricalData.py:176: FutureWarning: The frame.append method is deprecated and will be removed from pandas in a future version. Use pandas.concat instead.\n",
      "  data = data.append(dataset)\n"
     ]
    },
    {
     "name": "stdout",
     "output_type": "stream",
     "text": [
      "Data for chunk 2 of 2 extracted\n",
      "Saved to C:\\Users\\Roman\\Desktop\\DMLS_project\\Crypto\\BOND-USD_diff.csv\n",
      "VGX-USD\n",
      "Checking input parameters are in the correct format.\n",
      "Formatting Dates.\n",
      "Checking if user supplied is available on the CoinBase Pro API.\n",
      "Connected to the CoinBase Pro API.\n",
      "Ticker 'VGX-USD' found at the CoinBase Pro API, continuing to extraction.\n",
      "Provisional Start: 2022-01-11T00:00:00\n",
      "Provisional End: 2022-11-07T00:00:00\n",
      "Data for chunk 1 of 2 extracted\n"
     ]
    },
    {
     "name": "stderr",
     "output_type": "stream",
     "text": [
      "C:\\Users\\Roman\\AppData\\Local\\Packages\\PythonSoftwareFoundation.Python.3.10_qbz5n2kfra8p0\\LocalCache\\local-packages\\Python310\\site-packages\\Historic_Crypto\\HistoricalData.py:176: FutureWarning: The frame.append method is deprecated and will be removed from pandas in a future version. Use pandas.concat instead.\n",
      "  data = data.append(dataset)\n"
     ]
    },
    {
     "name": "stdout",
     "output_type": "stream",
     "text": [
      "Provisional Start: 2022-11-07T00:00:00\n",
      "Provisional End: 2023-09-03T00:00:00\n",
      "Data for chunk 2 of 2 extracted\n",
      "Saved to C:\\Users\\Roman\\Desktop\\DMLS_project\\Crypto\\VGX-USD_diff.csv\n",
      "SYN-USD\n",
      "Checking input parameters are in the correct format.\n",
      "Formatting Dates.\n",
      "Checking if user supplied is available on the CoinBase Pro API.\n",
      "Connected to the CoinBase Pro API.\n",
      "Ticker 'SYN-USD' found at the CoinBase Pro API, continuing to extraction.\n",
      "Provisional Start: 2022-01-11T00:00:00\n",
      "Provisional End: 2022-11-07T00:00:00\n",
      "Data for chunk 1 of 2 extracted\n"
     ]
    },
    {
     "name": "stderr",
     "output_type": "stream",
     "text": [
      "C:\\Users\\Roman\\AppData\\Local\\Packages\\PythonSoftwareFoundation.Python.3.10_qbz5n2kfra8p0\\LocalCache\\local-packages\\Python310\\site-packages\\Historic_Crypto\\HistoricalData.py:176: FutureWarning: The frame.append method is deprecated and will be removed from pandas in a future version. Use pandas.concat instead.\n",
      "  data = data.append(dataset)\n"
     ]
    },
    {
     "name": "stdout",
     "output_type": "stream",
     "text": [
      "Provisional Start: 2022-11-07T00:00:00\n",
      "Provisional End: 2023-09-03T00:00:00\n",
      "Data for chunk 2 of 2 extracted\n",
      "Saved to C:\\Users\\Roman\\Desktop\\DMLS_project\\Crypto\\SYN-USD_diff.csv\n",
      "RAD-EUR\n",
      "Checking input parameters are in the correct format.\n",
      "Formatting Dates.\n",
      "Checking if user supplied is available on the CoinBase Pro API.\n",
      "Connected to the CoinBase Pro API.\n",
      "Ticker 'RAD-EUR' found at the CoinBase Pro API, continuing to extraction.\n",
      "Provisional Start: 2022-01-11T00:00:00\n",
      "Provisional End: 2022-11-07T00:00:00\n",
      "Data for chunk 1 of 2 extracted\n"
     ]
    },
    {
     "name": "stderr",
     "output_type": "stream",
     "text": [
      "C:\\Users\\Roman\\AppData\\Local\\Packages\\PythonSoftwareFoundation.Python.3.10_qbz5n2kfra8p0\\LocalCache\\local-packages\\Python310\\site-packages\\Historic_Crypto\\HistoricalData.py:176: FutureWarning: The frame.append method is deprecated and will be removed from pandas in a future version. Use pandas.concat instead.\n",
      "  data = data.append(dataset)\n"
     ]
    },
    {
     "name": "stdout",
     "output_type": "stream",
     "text": [
      "Provisional Start: 2022-11-07T00:00:00\n",
      "Provisional End: 2023-09-03T00:00:00\n",
      "Data for chunk 2 of 2 extracted\n",
      "Saved to C:\\Users\\Roman\\Desktop\\DMLS_project\\Crypto\\RAD-EUR_diff.csv\n",
      "OGN-USD\n",
      "Checking input parameters are in the correct format.\n",
      "Formatting Dates.\n",
      "Checking if user supplied is available on the CoinBase Pro API.\n",
      "Connected to the CoinBase Pro API.\n",
      "Ticker 'OGN-USD' found at the CoinBase Pro API, continuing to extraction.\n",
      "Provisional Start: 2022-01-11T00:00:00\n",
      "Provisional End: 2022-11-07T00:00:00\n",
      "Data for chunk 1 of 2 extracted\n"
     ]
    },
    {
     "name": "stderr",
     "output_type": "stream",
     "text": [
      "C:\\Users\\Roman\\AppData\\Local\\Packages\\PythonSoftwareFoundation.Python.3.10_qbz5n2kfra8p0\\LocalCache\\local-packages\\Python310\\site-packages\\Historic_Crypto\\HistoricalData.py:176: FutureWarning: The frame.append method is deprecated and will be removed from pandas in a future version. Use pandas.concat instead.\n",
      "  data = data.append(dataset)\n"
     ]
    },
    {
     "name": "stdout",
     "output_type": "stream",
     "text": [
      "Provisional Start: 2022-11-07T00:00:00\n",
      "Provisional End: 2023-09-03T00:00:00\n",
      "Data for chunk 2 of 2 extracted\n",
      "Saved to C:\\Users\\Roman\\Desktop\\DMLS_project\\Crypto\\OGN-USD_diff.csv\n",
      "LINK-ETH\n",
      "Checking input parameters are in the correct format.\n",
      "Formatting Dates.\n",
      "Checking if user supplied is available on the CoinBase Pro API.\n",
      "Connected to the CoinBase Pro API.\n",
      "Ticker 'LINK-ETH' found at the CoinBase Pro API, continuing to extraction.\n",
      "Provisional Start: 2022-01-11T00:00:00\n",
      "Provisional End: 2022-11-07T00:00:00\n",
      "Data for chunk 1 of 2 extracted\n",
      "Provisional Start: 2022-11-07T00:00:00\n",
      "Provisional End: 2023-09-03T00:00:00\n"
     ]
    },
    {
     "name": "stderr",
     "output_type": "stream",
     "text": [
      "C:\\Users\\Roman\\AppData\\Local\\Packages\\PythonSoftwareFoundation.Python.3.10_qbz5n2kfra8p0\\LocalCache\\local-packages\\Python310\\site-packages\\Historic_Crypto\\HistoricalData.py:176: FutureWarning: The frame.append method is deprecated and will be removed from pandas in a future version. Use pandas.concat instead.\n",
      "  data = data.append(dataset)\n"
     ]
    },
    {
     "name": "stdout",
     "output_type": "stream",
     "text": [
      "Data for chunk 2 of 2 extracted\n",
      "Saved to C:\\Users\\Roman\\Desktop\\DMLS_project\\Crypto\\LINK-ETH_diff.csv\n",
      "DOT-USD\n",
      "Checking input parameters are in the correct format.\n",
      "Formatting Dates.\n",
      "Checking if user supplied is available on the CoinBase Pro API.\n",
      "Connected to the CoinBase Pro API.\n",
      "Ticker 'DOT-USD' found at the CoinBase Pro API, continuing to extraction.\n",
      "Provisional Start: 2022-01-11T00:00:00\n",
      "Provisional End: 2022-11-07T00:00:00\n",
      "Data for chunk 1 of 2 extracted\n",
      "Provisional Start: 2022-11-07T00:00:00\n",
      "Provisional End: 2023-09-03T00:00:00\n"
     ]
    },
    {
     "name": "stderr",
     "output_type": "stream",
     "text": [
      "C:\\Users\\Roman\\AppData\\Local\\Packages\\PythonSoftwareFoundation.Python.3.10_qbz5n2kfra8p0\\LocalCache\\local-packages\\Python310\\site-packages\\Historic_Crypto\\HistoricalData.py:176: FutureWarning: The frame.append method is deprecated and will be removed from pandas in a future version. Use pandas.concat instead.\n",
      "  data = data.append(dataset)\n"
     ]
    },
    {
     "name": "stdout",
     "output_type": "stream",
     "text": [
      "Data for chunk 2 of 2 extracted\n",
      "Saved to C:\\Users\\Roman\\Desktop\\DMLS_project\\Crypto\\DOT-USD_diff.csv\n",
      "REP-BTC\n",
      "Checking input parameters are in the correct format.\n",
      "Formatting Dates.\n",
      "Checking if user supplied is available on the CoinBase Pro API.\n",
      "Connected to the CoinBase Pro API.\n",
      "Ticker 'REP-BTC' found at the CoinBase Pro API, continuing to extraction.\n",
      "Provisional Start: 2022-01-11T00:00:00\n",
      "Provisional End: 2022-11-07T00:00:00\n",
      "Data for chunk 1 of 2 extracted\n"
     ]
    },
    {
     "name": "stderr",
     "output_type": "stream",
     "text": [
      "C:\\Users\\Roman\\AppData\\Local\\Packages\\PythonSoftwareFoundation.Python.3.10_qbz5n2kfra8p0\\LocalCache\\local-packages\\Python310\\site-packages\\Historic_Crypto\\HistoricalData.py:176: FutureWarning: The frame.append method is deprecated and will be removed from pandas in a future version. Use pandas.concat instead.\n",
      "  data = data.append(dataset)\n"
     ]
    },
    {
     "name": "stdout",
     "output_type": "stream",
     "text": [
      "Provisional Start: 2022-11-07T00:00:00\n",
      "Provisional End: 2023-09-03T00:00:00\n",
      "Data for chunk 2 of 2 extracted\n",
      "Saved to C:\\Users\\Roman\\Desktop\\DMLS_project\\Crypto\\REP-BTC_diff.csv\n",
      "OCEAN-USD\n",
      "Checking input parameters are in the correct format.\n",
      "Formatting Dates.\n",
      "Checking if user supplied is available on the CoinBase Pro API.\n",
      "Connected to the CoinBase Pro API.\n",
      "Ticker 'OCEAN-USD' found at the CoinBase Pro API, continuing to extraction.\n",
      "Provisional Start: 2022-01-11T00:00:00\n",
      "Provisional End: 2022-11-07T00:00:00\n",
      "Data for chunk 1 of 2 extracted\n"
     ]
    },
    {
     "name": "stderr",
     "output_type": "stream",
     "text": [
      "C:\\Users\\Roman\\AppData\\Local\\Packages\\PythonSoftwareFoundation.Python.3.10_qbz5n2kfra8p0\\LocalCache\\local-packages\\Python310\\site-packages\\Historic_Crypto\\HistoricalData.py:176: FutureWarning: The frame.append method is deprecated and will be removed from pandas in a future version. Use pandas.concat instead.\n",
      "  data = data.append(dataset)\n"
     ]
    },
    {
     "name": "stdout",
     "output_type": "stream",
     "text": [
      "Provisional Start: 2022-11-07T00:00:00\n",
      "Provisional End: 2023-09-03T00:00:00\n",
      "Data for chunk 2 of 2 extracted\n",
      "Saved to C:\\Users\\Roman\\Desktop\\DMLS_project\\Crypto\\OCEAN-USD_diff.csv\n",
      "JUP-USD\n",
      "Checking input parameters are in the correct format.\n",
      "Formatting Dates.\n",
      "Checking if user supplied is available on the CoinBase Pro API.\n",
      "Connected to the CoinBase Pro API.\n",
      "Ticker 'JUP-USD' found at the CoinBase Pro API, continuing to extraction.\n",
      "Provisional Start: 2022-01-11T00:00:00\n",
      "Provisional End: 2022-11-07T00:00:00\n",
      "Data for chunk 1 of 2 extracted\n"
     ]
    },
    {
     "name": "stderr",
     "output_type": "stream",
     "text": [
      "C:\\Users\\Roman\\AppData\\Local\\Packages\\PythonSoftwareFoundation.Python.3.10_qbz5n2kfra8p0\\LocalCache\\local-packages\\Python310\\site-packages\\Historic_Crypto\\HistoricalData.py:176: FutureWarning: The frame.append method is deprecated and will be removed from pandas in a future version. Use pandas.concat instead.\n",
      "  data = data.append(dataset)\n"
     ]
    },
    {
     "name": "stdout",
     "output_type": "stream",
     "text": [
      "Provisional Start: 2022-11-07T00:00:00\n",
      "Provisional End: 2023-09-03T00:00:00\n",
      "Data for chunk 2 of 2 extracted\n",
      "Saved to C:\\Users\\Roman\\Desktop\\DMLS_project\\Crypto\\JUP-USD_diff.csv\n",
      "ADA-GBP\n",
      "Checking input parameters are in the correct format.\n",
      "Formatting Dates.\n",
      "Checking if user supplied is available on the CoinBase Pro API.\n",
      "Connected to the CoinBase Pro API.\n",
      "Ticker 'ADA-GBP' found at the CoinBase Pro API, continuing to extraction.\n",
      "Provisional Start: 2022-01-11T00:00:00\n",
      "Provisional End: 2022-11-07T00:00:00\n",
      "Data for chunk 1 of 2 extracted\n"
     ]
    },
    {
     "name": "stderr",
     "output_type": "stream",
     "text": [
      "C:\\Users\\Roman\\AppData\\Local\\Packages\\PythonSoftwareFoundation.Python.3.10_qbz5n2kfra8p0\\LocalCache\\local-packages\\Python310\\site-packages\\Historic_Crypto\\HistoricalData.py:176: FutureWarning: The frame.append method is deprecated and will be removed from pandas in a future version. Use pandas.concat instead.\n",
      "  data = data.append(dataset)\n"
     ]
    },
    {
     "name": "stdout",
     "output_type": "stream",
     "text": [
      "Provisional Start: 2022-11-07T00:00:00\n",
      "Provisional End: 2023-09-03T00:00:00\n",
      "Data for chunk 2 of 2 extracted\n",
      "Saved to C:\\Users\\Roman\\Desktop\\DMLS_project\\Crypto\\ADA-GBP_diff.csv\n",
      "METIS-USD\n",
      "Checking input parameters are in the correct format.\n",
      "Formatting Dates.\n",
      "Checking if user supplied is available on the CoinBase Pro API.\n",
      "Connected to the CoinBase Pro API.\n",
      "Ticker 'METIS-USD' found at the CoinBase Pro API, continuing to extraction.\n",
      "Provisional Start: 2022-01-11T00:00:00\n",
      "Provisional End: 2022-11-07T00:00:00\n",
      "Data for chunk 1 of 2 extracted\n"
     ]
    },
    {
     "name": "stderr",
     "output_type": "stream",
     "text": [
      "C:\\Users\\Roman\\AppData\\Local\\Packages\\PythonSoftwareFoundation.Python.3.10_qbz5n2kfra8p0\\LocalCache\\local-packages\\Python310\\site-packages\\Historic_Crypto\\HistoricalData.py:176: FutureWarning: The frame.append method is deprecated and will be removed from pandas in a future version. Use pandas.concat instead.\n",
      "  data = data.append(dataset)\n"
     ]
    },
    {
     "name": "stdout",
     "output_type": "stream",
     "text": [
      "Provisional Start: 2022-11-07T00:00:00\n",
      "Provisional End: 2023-09-03T00:00:00\n",
      "Data for chunk 2 of 2 extracted\n",
      "Saved to C:\\Users\\Roman\\Desktop\\DMLS_project\\Crypto\\METIS-USD_diff.csv\n",
      "ETC-BTC\n",
      "Checking input parameters are in the correct format.\n",
      "Formatting Dates.\n",
      "Checking if user supplied is available on the CoinBase Pro API.\n",
      "Connected to the CoinBase Pro API.\n",
      "Ticker 'ETC-BTC' found at the CoinBase Pro API, continuing to extraction.\n",
      "Provisional Start: 2022-01-11T00:00:00\n",
      "Provisional End: 2022-11-07T00:00:00\n",
      "Data for chunk 1 of 2 extracted\n"
     ]
    },
    {
     "name": "stderr",
     "output_type": "stream",
     "text": [
      "C:\\Users\\Roman\\AppData\\Local\\Packages\\PythonSoftwareFoundation.Python.3.10_qbz5n2kfra8p0\\LocalCache\\local-packages\\Python310\\site-packages\\Historic_Crypto\\HistoricalData.py:176: FutureWarning: The frame.append method is deprecated and will be removed from pandas in a future version. Use pandas.concat instead.\n",
      "  data = data.append(dataset)\n"
     ]
    },
    {
     "name": "stdout",
     "output_type": "stream",
     "text": [
      "Provisional Start: 2022-11-07T00:00:00\n",
      "Provisional End: 2023-09-03T00:00:00\n",
      "Data for chunk 2 of 2 extracted\n",
      "Saved to C:\\Users\\Roman\\Desktop\\DMLS_project\\Crypto\\ETC-BTC_diff.csv\n",
      "WCFG-EUR\n",
      "Checking input parameters are in the correct format.\n",
      "Formatting Dates.\n",
      "Checking if user supplied is available on the CoinBase Pro API.\n",
      "Connected to the CoinBase Pro API.\n",
      "Ticker 'WCFG-EUR' found at the CoinBase Pro API, continuing to extraction.\n",
      "Provisional Start: 2022-01-11T00:00:00\n",
      "Provisional End: 2022-11-07T00:00:00\n",
      "Data for chunk 1 of 2 extracted\n"
     ]
    },
    {
     "name": "stderr",
     "output_type": "stream",
     "text": [
      "C:\\Users\\Roman\\AppData\\Local\\Packages\\PythonSoftwareFoundation.Python.3.10_qbz5n2kfra8p0\\LocalCache\\local-packages\\Python310\\site-packages\\Historic_Crypto\\HistoricalData.py:176: FutureWarning: The frame.append method is deprecated and will be removed from pandas in a future version. Use pandas.concat instead.\n",
      "  data = data.append(dataset)\n"
     ]
    },
    {
     "name": "stdout",
     "output_type": "stream",
     "text": [
      "Provisional Start: 2022-11-07T00:00:00\n",
      "Provisional End: 2023-09-03T00:00:00\n",
      "Data for chunk 2 of 2 extracted\n",
      "Saved to C:\\Users\\Roman\\Desktop\\DMLS_project\\Crypto\\WCFG-EUR_diff.csv\n",
      "WBTC-USD\n",
      "Checking input parameters are in the correct format.\n",
      "Formatting Dates.\n",
      "Checking if user supplied is available on the CoinBase Pro API.\n",
      "Connected to the CoinBase Pro API.\n",
      "Ticker 'WBTC-USD' found at the CoinBase Pro API, continuing to extraction.\n",
      "Provisional Start: 2022-01-11T00:00:00\n",
      "Provisional End: 2022-11-07T00:00:00\n",
      "Data for chunk 1 of 2 extracted\n",
      "Provisional Start: 2022-11-07T00:00:00\n",
      "Provisional End: 2023-09-03T00:00:00\n"
     ]
    },
    {
     "name": "stderr",
     "output_type": "stream",
     "text": [
      "C:\\Users\\Roman\\AppData\\Local\\Packages\\PythonSoftwareFoundation.Python.3.10_qbz5n2kfra8p0\\LocalCache\\local-packages\\Python310\\site-packages\\Historic_Crypto\\HistoricalData.py:176: FutureWarning: The frame.append method is deprecated and will be removed from pandas in a future version. Use pandas.concat instead.\n",
      "  data = data.append(dataset)\n"
     ]
    },
    {
     "name": "stdout",
     "output_type": "stream",
     "text": [
      "Data for chunk 2 of 2 extracted\n",
      "Saved to C:\\Users\\Roman\\Desktop\\DMLS_project\\Crypto\\WBTC-USD_diff.csv\n",
      "POWR-USD\n",
      "Checking input parameters are in the correct format.\n",
      "Formatting Dates.\n",
      "Checking if user supplied is available on the CoinBase Pro API.\n",
      "Connected to the CoinBase Pro API.\n",
      "Ticker 'POWR-USD' found at the CoinBase Pro API, continuing to extraction.\n",
      "Provisional Start: 2022-01-11T00:00:00\n",
      "Provisional End: 2022-11-07T00:00:00\n",
      "Data for chunk 1 of 2 extracted\n"
     ]
    },
    {
     "name": "stderr",
     "output_type": "stream",
     "text": [
      "C:\\Users\\Roman\\AppData\\Local\\Packages\\PythonSoftwareFoundation.Python.3.10_qbz5n2kfra8p0\\LocalCache\\local-packages\\Python310\\site-packages\\Historic_Crypto\\HistoricalData.py:176: FutureWarning: The frame.append method is deprecated and will be removed from pandas in a future version. Use pandas.concat instead.\n",
      "  data = data.append(dataset)\n"
     ]
    },
    {
     "name": "stdout",
     "output_type": "stream",
     "text": [
      "Provisional Start: 2022-11-07T00:00:00\n",
      "Provisional End: 2023-09-03T00:00:00\n",
      "Data for chunk 2 of 2 extracted\n",
      "Saved to C:\\Users\\Roman\\Desktop\\DMLS_project\\Crypto\\POWR-USD_diff.csv\n",
      "DESO-USDT\n",
      "Checking input parameters are in the correct format.\n",
      "Formatting Dates.\n",
      "Checking if user supplied is available on the CoinBase Pro API.\n",
      "Connected to the CoinBase Pro API.\n",
      "Ticker 'DESO-USDT' found at the CoinBase Pro API, continuing to extraction.\n",
      "Provisional Start: 2022-01-11T00:00:00\n",
      "Provisional End: 2022-11-07T00:00:00\n",
      "Data for chunk 1 of 2 extracted\n"
     ]
    },
    {
     "name": "stderr",
     "output_type": "stream",
     "text": [
      "C:\\Users\\Roman\\AppData\\Local\\Packages\\PythonSoftwareFoundation.Python.3.10_qbz5n2kfra8p0\\LocalCache\\local-packages\\Python310\\site-packages\\Historic_Crypto\\HistoricalData.py:176: FutureWarning: The frame.append method is deprecated and will be removed from pandas in a future version. Use pandas.concat instead.\n",
      "  data = data.append(dataset)\n"
     ]
    },
    {
     "name": "stdout",
     "output_type": "stream",
     "text": [
      "Provisional Start: 2022-11-07T00:00:00\n",
      "Provisional End: 2023-09-03T00:00:00\n",
      "Data for chunk 2 of 2 extracted\n",
      "Saved to C:\\Users\\Roman\\Desktop\\DMLS_project\\Crypto\\DESO-USDT_diff.csv\n",
      "TRU-BTC\n",
      "Checking input parameters are in the correct format.\n",
      "Formatting Dates.\n",
      "Checking if user supplied is available on the CoinBase Pro API.\n",
      "Connected to the CoinBase Pro API.\n",
      "Ticker 'TRU-BTC' found at the CoinBase Pro API, continuing to extraction.\n",
      "Provisional Start: 2022-01-11T00:00:00\n",
      "Provisional End: 2022-11-07T00:00:00\n",
      "Data for chunk 1 of 2 extracted\n"
     ]
    },
    {
     "name": "stderr",
     "output_type": "stream",
     "text": [
      "C:\\Users\\Roman\\AppData\\Local\\Packages\\PythonSoftwareFoundation.Python.3.10_qbz5n2kfra8p0\\LocalCache\\local-packages\\Python310\\site-packages\\Historic_Crypto\\HistoricalData.py:176: FutureWarning: The frame.append method is deprecated and will be removed from pandas in a future version. Use pandas.concat instead.\n",
      "  data = data.append(dataset)\n"
     ]
    },
    {
     "name": "stdout",
     "output_type": "stream",
     "text": [
      "Provisional Start: 2022-11-07T00:00:00\n",
      "Provisional End: 2023-09-03T00:00:00\n",
      "Data for chunk 2 of 2 extracted\n",
      "Saved to C:\\Users\\Roman\\Desktop\\DMLS_project\\Crypto\\TRU-BTC_diff.csv\n",
      "GLM-USD\n",
      "Checking input parameters are in the correct format.\n",
      "Formatting Dates.\n",
      "Checking if user supplied is available on the CoinBase Pro API.\n",
      "Connected to the CoinBase Pro API.\n",
      "Ticker 'GLM-USD' found at the CoinBase Pro API, continuing to extraction.\n",
      "Provisional Start: 2022-01-11T00:00:00\n",
      "Provisional End: 2022-11-07T00:00:00\n",
      "Data for chunk 1 of 2 extracted\n",
      "Provisional Start: 2022-11-07T00:00:00\n",
      "Provisional End: 2023-09-03T00:00:00\n"
     ]
    },
    {
     "name": "stderr",
     "output_type": "stream",
     "text": [
      "C:\\Users\\Roman\\AppData\\Local\\Packages\\PythonSoftwareFoundation.Python.3.10_qbz5n2kfra8p0\\LocalCache\\local-packages\\Python310\\site-packages\\Historic_Crypto\\HistoricalData.py:176: FutureWarning: The frame.append method is deprecated and will be removed from pandas in a future version. Use pandas.concat instead.\n",
      "  data = data.append(dataset)\n"
     ]
    },
    {
     "name": "stdout",
     "output_type": "stream",
     "text": [
      "Data for chunk 2 of 2 extracted\n",
      "Saved to C:\\Users\\Roman\\Desktop\\DMLS_project\\Crypto\\GLM-USD_diff.csv\n",
      "WCFG-USD\n",
      "Checking input parameters are in the correct format.\n",
      "Formatting Dates.\n",
      "Checking if user supplied is available on the CoinBase Pro API.\n",
      "Connected to the CoinBase Pro API.\n",
      "Ticker 'WCFG-USD' found at the CoinBase Pro API, continuing to extraction.\n",
      "Provisional Start: 2022-01-11T00:00:00\n",
      "Provisional End: 2022-11-07T00:00:00\n",
      "Data for chunk 1 of 2 extracted\n"
     ]
    },
    {
     "name": "stderr",
     "output_type": "stream",
     "text": [
      "C:\\Users\\Roman\\AppData\\Local\\Packages\\PythonSoftwareFoundation.Python.3.10_qbz5n2kfra8p0\\LocalCache\\local-packages\\Python310\\site-packages\\Historic_Crypto\\HistoricalData.py:176: FutureWarning: The frame.append method is deprecated and will be removed from pandas in a future version. Use pandas.concat instead.\n",
      "  data = data.append(dataset)\n"
     ]
    },
    {
     "name": "stdout",
     "output_type": "stream",
     "text": [
      "Provisional Start: 2022-11-07T00:00:00\n",
      "Provisional End: 2023-09-03T00:00:00\n",
      "Data for chunk 2 of 2 extracted\n",
      "Saved to C:\\Users\\Roman\\Desktop\\DMLS_project\\Crypto\\WCFG-USD_diff.csv\n",
      "RBN-USD\n",
      "Checking input parameters are in the correct format.\n",
      "Formatting Dates.\n",
      "Checking if user supplied is available on the CoinBase Pro API.\n",
      "Connected to the CoinBase Pro API.\n",
      "Ticker 'RBN-USD' found at the CoinBase Pro API, continuing to extraction.\n",
      "Provisional Start: 2022-01-11T00:00:00\n",
      "Provisional End: 2022-11-07T00:00:00\n",
      "Data for chunk 1 of 2 extracted\n",
      "Provisional Start: 2022-11-07T00:00:00\n",
      "Provisional End: 2023-09-03T00:00:00\n"
     ]
    },
    {
     "name": "stderr",
     "output_type": "stream",
     "text": [
      "C:\\Users\\Roman\\AppData\\Local\\Packages\\PythonSoftwareFoundation.Python.3.10_qbz5n2kfra8p0\\LocalCache\\local-packages\\Python310\\site-packages\\Historic_Crypto\\HistoricalData.py:176: FutureWarning: The frame.append method is deprecated and will be removed from pandas in a future version. Use pandas.concat instead.\n",
      "  data = data.append(dataset)\n"
     ]
    },
    {
     "name": "stdout",
     "output_type": "stream",
     "text": [
      "Data for chunk 2 of 2 extracted\n",
      "Saved to C:\\Users\\Roman\\Desktop\\DMLS_project\\Crypto\\RBN-USD_diff.csv\n",
      "MIR-EUR\n",
      "Checking input parameters are in the correct format.\n",
      "Formatting Dates.\n",
      "Checking if user supplied is available on the CoinBase Pro API.\n",
      "Connected to the CoinBase Pro API.\n",
      "Ticker 'MIR-EUR' found at the CoinBase Pro API, continuing to extraction.\n",
      "Provisional Start: 2022-01-11T00:00:00\n",
      "Provisional End: 2022-11-07T00:00:00\n",
      "Data for chunk 1 of 2 extracted\n"
     ]
    },
    {
     "name": "stderr",
     "output_type": "stream",
     "text": [
      "C:\\Users\\Roman\\AppData\\Local\\Packages\\PythonSoftwareFoundation.Python.3.10_qbz5n2kfra8p0\\LocalCache\\local-packages\\Python310\\site-packages\\Historic_Crypto\\HistoricalData.py:176: FutureWarning: The frame.append method is deprecated and will be removed from pandas in a future version. Use pandas.concat instead.\n",
      "  data = data.append(dataset)\n"
     ]
    },
    {
     "name": "stdout",
     "output_type": "stream",
     "text": [
      "Provisional Start: 2022-11-07T00:00:00\n",
      "Provisional End: 2023-09-03T00:00:00\n",
      "Data for chunk 2 of 2 extracted\n",
      "Saved to C:\\Users\\Roman\\Desktop\\DMLS_project\\Crypto\\MIR-EUR_diff.csv\n",
      "ATOM-USDT\n",
      "Checking input parameters are in the correct format.\n",
      "Formatting Dates.\n",
      "Checking if user supplied is available on the CoinBase Pro API.\n",
      "Connected to the CoinBase Pro API.\n",
      "Ticker 'ATOM-USDT' found at the CoinBase Pro API, continuing to extraction.\n",
      "Provisional Start: 2022-01-11T00:00:00\n",
      "Provisional End: 2022-11-07T00:00:00\n",
      "Data for chunk 1 of 2 extracted\n"
     ]
    },
    {
     "name": "stderr",
     "output_type": "stream",
     "text": [
      "C:\\Users\\Roman\\AppData\\Local\\Packages\\PythonSoftwareFoundation.Python.3.10_qbz5n2kfra8p0\\LocalCache\\local-packages\\Python310\\site-packages\\Historic_Crypto\\HistoricalData.py:176: FutureWarning: The frame.append method is deprecated and will be removed from pandas in a future version. Use pandas.concat instead.\n",
      "  data = data.append(dataset)\n"
     ]
    },
    {
     "name": "stdout",
     "output_type": "stream",
     "text": [
      "Provisional Start: 2022-11-07T00:00:00\n",
      "Provisional End: 2023-09-03T00:00:00\n",
      "Data for chunk 2 of 2 extracted\n",
      "Saved to C:\\Users\\Roman\\Desktop\\DMLS_project\\Crypto\\ATOM-USDT_diff.csv\n",
      "WLUNA-USD\n",
      "Checking input parameters are in the correct format.\n",
      "Formatting Dates.\n",
      "Checking if user supplied is available on the CoinBase Pro API.\n",
      "Connected to the CoinBase Pro API.\n",
      "Ticker 'WLUNA-USD' found at the CoinBase Pro API, continuing to extraction.\n",
      "Provisional Start: 2022-01-11T00:00:00\n",
      "Provisional End: 2022-11-07T00:00:00\n",
      "Data for chunk 1 of 2 extracted\n"
     ]
    },
    {
     "name": "stderr",
     "output_type": "stream",
     "text": [
      "C:\\Users\\Roman\\AppData\\Local\\Packages\\PythonSoftwareFoundation.Python.3.10_qbz5n2kfra8p0\\LocalCache\\local-packages\\Python310\\site-packages\\Historic_Crypto\\HistoricalData.py:176: FutureWarning: The frame.append method is deprecated and will be removed from pandas in a future version. Use pandas.concat instead.\n",
      "  data = data.append(dataset)\n"
     ]
    },
    {
     "name": "stdout",
     "output_type": "stream",
     "text": [
      "Provisional Start: 2022-11-07T00:00:00\n",
      "Provisional End: 2023-09-03T00:00:00\n",
      "Data for chunk 2 of 2 extracted\n",
      "CoinBase Pro API did not have available data for 'WLUNA-USD' beginning at 2022-01-11-00-00.  \n",
      "                        Trying a later date:'2022-11-07T00:00:00'\n",
      "Saved to C:\\Users\\Roman\\Desktop\\DMLS_project\\Crypto\\WLUNA-USD_diff.csv\n",
      "PERP-USD\n",
      "Checking input parameters are in the correct format.\n",
      "Formatting Dates.\n",
      "Checking if user supplied is available on the CoinBase Pro API.\n",
      "Connected to the CoinBase Pro API.\n",
      "Ticker 'PERP-USD' found at the CoinBase Pro API, continuing to extraction.\n",
      "Provisional Start: 2022-01-11T00:00:00\n",
      "Provisional End: 2022-11-07T00:00:00\n",
      "Data for chunk 1 of 2 extracted\n"
     ]
    },
    {
     "name": "stderr",
     "output_type": "stream",
     "text": [
      "C:\\Users\\Roman\\AppData\\Local\\Packages\\PythonSoftwareFoundation.Python.3.10_qbz5n2kfra8p0\\LocalCache\\local-packages\\Python310\\site-packages\\Historic_Crypto\\HistoricalData.py:176: FutureWarning: The frame.append method is deprecated and will be removed from pandas in a future version. Use pandas.concat instead.\n",
      "  data = data.append(dataset)\n"
     ]
    },
    {
     "name": "stdout",
     "output_type": "stream",
     "text": [
      "Provisional Start: 2022-11-07T00:00:00\n",
      "Provisional End: 2023-09-03T00:00:00\n",
      "Data for chunk 2 of 2 extracted\n",
      "Saved to C:\\Users\\Roman\\Desktop\\DMLS_project\\Crypto\\PERP-USD_diff.csv\n",
      "CVC-USDC\n",
      "Checking input parameters are in the correct format.\n",
      "Formatting Dates.\n",
      "Checking if user supplied is available on the CoinBase Pro API.\n",
      "Connected to the CoinBase Pro API.\n",
      "Ticker 'CVC-USDC' found at the CoinBase Pro API, continuing to extraction.\n",
      "Provisional Start: 2022-01-11T00:00:00\n",
      "Provisional End: 2022-11-07T00:00:00\n",
      "Data for chunk 1 of 2 extracted\n"
     ]
    },
    {
     "name": "stderr",
     "output_type": "stream",
     "text": [
      "C:\\Users\\Roman\\AppData\\Local\\Packages\\PythonSoftwareFoundation.Python.3.10_qbz5n2kfra8p0\\LocalCache\\local-packages\\Python310\\site-packages\\Historic_Crypto\\HistoricalData.py:176: FutureWarning: The frame.append method is deprecated and will be removed from pandas in a future version. Use pandas.concat instead.\n",
      "  data = data.append(dataset)\n"
     ]
    },
    {
     "name": "stdout",
     "output_type": "stream",
     "text": [
      "Provisional Start: 2022-11-07T00:00:00\n",
      "Provisional End: 2023-09-03T00:00:00\n",
      "Data for chunk 2 of 2 extracted\n",
      "CoinBase Pro API did not have available data for 'CVC-USDC' beginning at 2022-01-11-00-00.  \n",
      "                        Trying a later date:'2022-11-07T00:00:00'\n",
      "Saved to C:\\Users\\Roman\\Desktop\\DMLS_project\\Crypto\\CVC-USDC_diff.csv\n",
      "PLA-USD\n",
      "Checking input parameters are in the correct format.\n",
      "Formatting Dates.\n",
      "Checking if user supplied is available on the CoinBase Pro API.\n",
      "Connected to the CoinBase Pro API.\n",
      "Ticker 'PLA-USD' found at the CoinBase Pro API, continuing to extraction.\n",
      "Provisional Start: 2022-01-11T00:00:00\n",
      "Provisional End: 2022-11-07T00:00:00\n",
      "Data for chunk 1 of 2 extracted\n"
     ]
    },
    {
     "name": "stderr",
     "output_type": "stream",
     "text": [
      "C:\\Users\\Roman\\AppData\\Local\\Packages\\PythonSoftwareFoundation.Python.3.10_qbz5n2kfra8p0\\LocalCache\\local-packages\\Python310\\site-packages\\Historic_Crypto\\HistoricalData.py:176: FutureWarning: The frame.append method is deprecated and will be removed from pandas in a future version. Use pandas.concat instead.\n",
      "  data = data.append(dataset)\n"
     ]
    },
    {
     "name": "stdout",
     "output_type": "stream",
     "text": [
      "Provisional Start: 2022-11-07T00:00:00\n",
      "Provisional End: 2023-09-03T00:00:00\n",
      "Data for chunk 2 of 2 extracted\n",
      "Saved to C:\\Users\\Roman\\Desktop\\DMLS_project\\Crypto\\PLA-USD_diff.csv\n",
      "CRV-GBP\n",
      "Checking input parameters are in the correct format.\n",
      "Formatting Dates.\n",
      "Checking if user supplied is available on the CoinBase Pro API.\n",
      "Connected to the CoinBase Pro API.\n",
      "Ticker 'CRV-GBP' found at the CoinBase Pro API, continuing to extraction.\n",
      "Provisional Start: 2022-01-11T00:00:00\n",
      "Provisional End: 2022-11-07T00:00:00\n",
      "Data for chunk 1 of 2 extracted\n"
     ]
    },
    {
     "name": "stderr",
     "output_type": "stream",
     "text": [
      "C:\\Users\\Roman\\AppData\\Local\\Packages\\PythonSoftwareFoundation.Python.3.10_qbz5n2kfra8p0\\LocalCache\\local-packages\\Python310\\site-packages\\Historic_Crypto\\HistoricalData.py:176: FutureWarning: The frame.append method is deprecated and will be removed from pandas in a future version. Use pandas.concat instead.\n",
      "  data = data.append(dataset)\n"
     ]
    },
    {
     "name": "stdout",
     "output_type": "stream",
     "text": [
      "Provisional Start: 2022-11-07T00:00:00\n",
      "Provisional End: 2023-09-03T00:00:00\n",
      "Data for chunk 2 of 2 extracted\n",
      "Saved to C:\\Users\\Roman\\Desktop\\DMLS_project\\Crypto\\CRV-GBP_diff.csv\n",
      "AAVE-EUR\n",
      "Checking input parameters are in the correct format.\n",
      "Formatting Dates.\n",
      "Checking if user supplied is available on the CoinBase Pro API.\n",
      "Connected to the CoinBase Pro API.\n",
      "Ticker 'AAVE-EUR' found at the CoinBase Pro API, continuing to extraction.\n",
      "Provisional Start: 2022-01-11T00:00:00\n",
      "Provisional End: 2022-11-07T00:00:00\n",
      "Data for chunk 1 of 2 extracted\n"
     ]
    },
    {
     "name": "stderr",
     "output_type": "stream",
     "text": [
      "C:\\Users\\Roman\\AppData\\Local\\Packages\\PythonSoftwareFoundation.Python.3.10_qbz5n2kfra8p0\\LocalCache\\local-packages\\Python310\\site-packages\\Historic_Crypto\\HistoricalData.py:176: FutureWarning: The frame.append method is deprecated and will be removed from pandas in a future version. Use pandas.concat instead.\n",
      "  data = data.append(dataset)\n"
     ]
    },
    {
     "name": "stdout",
     "output_type": "stream",
     "text": [
      "Provisional Start: 2022-11-07T00:00:00\n",
      "Provisional End: 2023-09-03T00:00:00\n",
      "Data for chunk 2 of 2 extracted\n",
      "Saved to C:\\Users\\Roman\\Desktop\\DMLS_project\\Crypto\\AAVE-EUR_diff.csv\n",
      "SOL-BTC\n",
      "Checking input parameters are in the correct format.\n",
      "Formatting Dates.\n",
      "Checking if user supplied is available on the CoinBase Pro API.\n",
      "Connected to the CoinBase Pro API.\n",
      "Ticker 'SOL-BTC' found at the CoinBase Pro API, continuing to extraction.\n",
      "Provisional Start: 2022-01-11T00:00:00\n",
      "Provisional End: 2022-11-07T00:00:00\n",
      "Data for chunk 1 of 2 extracted\n",
      "Provisional Start: 2022-11-07T00:00:00\n",
      "Provisional End: 2023-09-03T00:00:00\n"
     ]
    },
    {
     "name": "stderr",
     "output_type": "stream",
     "text": [
      "C:\\Users\\Roman\\AppData\\Local\\Packages\\PythonSoftwareFoundation.Python.3.10_qbz5n2kfra8p0\\LocalCache\\local-packages\\Python310\\site-packages\\Historic_Crypto\\HistoricalData.py:176: FutureWarning: The frame.append method is deprecated and will be removed from pandas in a future version. Use pandas.concat instead.\n",
      "  data = data.append(dataset)\n"
     ]
    },
    {
     "name": "stdout",
     "output_type": "stream",
     "text": [
      "Data for chunk 2 of 2 extracted\n",
      "Saved to C:\\Users\\Roman\\Desktop\\DMLS_project\\Crypto\\SOL-BTC_diff.csv\n",
      "MATIC-USD\n",
      "Checking input parameters are in the correct format.\n",
      "Formatting Dates.\n",
      "Checking if user supplied is available on the CoinBase Pro API.\n",
      "Connected to the CoinBase Pro API.\n",
      "Ticker 'MATIC-USD' found at the CoinBase Pro API, continuing to extraction.\n",
      "Provisional Start: 2022-01-11T00:00:00\n",
      "Provisional End: 2022-11-07T00:00:00\n",
      "Data for chunk 1 of 2 extracted\n",
      "Provisional Start: 2022-11-07T00:00:00\n",
      "Provisional End: 2023-09-03T00:00:00\n"
     ]
    },
    {
     "name": "stderr",
     "output_type": "stream",
     "text": [
      "C:\\Users\\Roman\\AppData\\Local\\Packages\\PythonSoftwareFoundation.Python.3.10_qbz5n2kfra8p0\\LocalCache\\local-packages\\Python310\\site-packages\\Historic_Crypto\\HistoricalData.py:176: FutureWarning: The frame.append method is deprecated and will be removed from pandas in a future version. Use pandas.concat instead.\n",
      "  data = data.append(dataset)\n"
     ]
    },
    {
     "name": "stdout",
     "output_type": "stream",
     "text": [
      "Data for chunk 2 of 2 extracted\n",
      "Saved to C:\\Users\\Roman\\Desktop\\DMLS_project\\Crypto\\MATIC-USD_diff.csv\n",
      "APT-USD\n",
      "Checking input parameters are in the correct format.\n",
      "Formatting Dates.\n",
      "Checking if user supplied is available on the CoinBase Pro API.\n",
      "Connected to the CoinBase Pro API.\n",
      "Ticker 'APT-USD' found at the CoinBase Pro API, continuing to extraction.\n",
      "Provisional Start: 2022-01-11T00:00:00\n",
      "Provisional End: 2022-11-07T00:00:00\n",
      "Data for chunk 1 of 2 extracted\n"
     ]
    },
    {
     "name": "stderr",
     "output_type": "stream",
     "text": [
      "C:\\Users\\Roman\\AppData\\Local\\Packages\\PythonSoftwareFoundation.Python.3.10_qbz5n2kfra8p0\\LocalCache\\local-packages\\Python310\\site-packages\\Historic_Crypto\\HistoricalData.py:176: FutureWarning: The frame.append method is deprecated and will be removed from pandas in a future version. Use pandas.concat instead.\n",
      "  data = data.append(dataset)\n"
     ]
    },
    {
     "name": "stdout",
     "output_type": "stream",
     "text": [
      "Provisional Start: 2022-11-07T00:00:00\n",
      "Provisional End: 2023-09-03T00:00:00\n",
      "Data for chunk 2 of 2 extracted\n",
      "Saved to C:\\Users\\Roman\\Desktop\\DMLS_project\\Crypto\\APT-USD_diff.csv\n",
      "UNI-EUR\n",
      "Checking input parameters are in the correct format.\n",
      "Formatting Dates.\n",
      "Checking if user supplied is available on the CoinBase Pro API.\n",
      "Connected to the CoinBase Pro API.\n",
      "Ticker 'UNI-EUR' found at the CoinBase Pro API, continuing to extraction.\n",
      "Provisional Start: 2022-01-11T00:00:00\n",
      "Provisional End: 2022-11-07T00:00:00\n",
      "Data for chunk 1 of 2 extracted\n",
      "Provisional Start: 2022-11-07T00:00:00\n",
      "Provisional End: 2023-09-03T00:00:00\n"
     ]
    },
    {
     "name": "stderr",
     "output_type": "stream",
     "text": [
      "C:\\Users\\Roman\\AppData\\Local\\Packages\\PythonSoftwareFoundation.Python.3.10_qbz5n2kfra8p0\\LocalCache\\local-packages\\Python310\\site-packages\\Historic_Crypto\\HistoricalData.py:176: FutureWarning: The frame.append method is deprecated and will be removed from pandas in a future version. Use pandas.concat instead.\n",
      "  data = data.append(dataset)\n"
     ]
    },
    {
     "name": "stdout",
     "output_type": "stream",
     "text": [
      "Data for chunk 2 of 2 extracted\n",
      "Saved to C:\\Users\\Roman\\Desktop\\DMLS_project\\Crypto\\UNI-EUR_diff.csv\n",
      "POLY-USDT\n",
      "Checking input parameters are in the correct format.\n",
      "Formatting Dates.\n",
      "Checking if user supplied is available on the CoinBase Pro API.\n",
      "Connected to the CoinBase Pro API.\n",
      "Ticker 'POLY-USDT' found at the CoinBase Pro API, continuing to extraction.\n",
      "Provisional Start: 2022-01-11T00:00:00\n",
      "Provisional End: 2022-11-07T00:00:00\n",
      "Data for chunk 1 of 2 extracted\n"
     ]
    },
    {
     "name": "stderr",
     "output_type": "stream",
     "text": [
      "C:\\Users\\Roman\\AppData\\Local\\Packages\\PythonSoftwareFoundation.Python.3.10_qbz5n2kfra8p0\\LocalCache\\local-packages\\Python310\\site-packages\\Historic_Crypto\\HistoricalData.py:176: FutureWarning: The frame.append method is deprecated and will be removed from pandas in a future version. Use pandas.concat instead.\n",
      "  data = data.append(dataset)\n"
     ]
    },
    {
     "name": "stdout",
     "output_type": "stream",
     "text": [
      "Provisional Start: 2022-11-07T00:00:00\n",
      "Provisional End: 2023-09-03T00:00:00\n",
      "Data for chunk 2 of 2 extracted\n",
      "Saved to C:\\Users\\Roman\\Desktop\\DMLS_project\\Crypto\\POLY-USDT_diff.csv\n",
      "USDT-EUR\n",
      "Checking input parameters are in the correct format.\n",
      "Formatting Dates.\n",
      "Checking if user supplied is available on the CoinBase Pro API.\n",
      "Connected to the CoinBase Pro API.\n",
      "Ticker 'USDT-EUR' found at the CoinBase Pro API, continuing to extraction.\n",
      "Provisional Start: 2022-01-11T00:00:00\n",
      "Provisional End: 2022-11-07T00:00:00\n",
      "Data for chunk 1 of 2 extracted\n"
     ]
    },
    {
     "name": "stderr",
     "output_type": "stream",
     "text": [
      "C:\\Users\\Roman\\AppData\\Local\\Packages\\PythonSoftwareFoundation.Python.3.10_qbz5n2kfra8p0\\LocalCache\\local-packages\\Python310\\site-packages\\Historic_Crypto\\HistoricalData.py:176: FutureWarning: The frame.append method is deprecated and will be removed from pandas in a future version. Use pandas.concat instead.\n",
      "  data = data.append(dataset)\n"
     ]
    },
    {
     "name": "stdout",
     "output_type": "stream",
     "text": [
      "Provisional Start: 2022-11-07T00:00:00\n",
      "Provisional End: 2023-09-03T00:00:00\n",
      "Data for chunk 2 of 2 extracted\n",
      "Saved to C:\\Users\\Roman\\Desktop\\DMLS_project\\Crypto\\USDT-EUR_diff.csv\n",
      "KSM-USD\n",
      "Checking input parameters are in the correct format.\n",
      "Formatting Dates.\n",
      "Checking if user supplied is available on the CoinBase Pro API.\n",
      "Connected to the CoinBase Pro API.\n",
      "Ticker 'KSM-USD' found at the CoinBase Pro API, continuing to extraction.\n",
      "Provisional Start: 2022-01-11T00:00:00\n",
      "Provisional End: 2022-11-07T00:00:00\n",
      "Data for chunk 1 of 2 extracted\n"
     ]
    },
    {
     "name": "stderr",
     "output_type": "stream",
     "text": [
      "C:\\Users\\Roman\\AppData\\Local\\Packages\\PythonSoftwareFoundation.Python.3.10_qbz5n2kfra8p0\\LocalCache\\local-packages\\Python310\\site-packages\\Historic_Crypto\\HistoricalData.py:176: FutureWarning: The frame.append method is deprecated and will be removed from pandas in a future version. Use pandas.concat instead.\n",
      "  data = data.append(dataset)\n"
     ]
    },
    {
     "name": "stdout",
     "output_type": "stream",
     "text": [
      "Provisional Start: 2022-11-07T00:00:00\n",
      "Provisional End: 2023-09-03T00:00:00\n",
      "Data for chunk 2 of 2 extracted\n",
      "Saved to C:\\Users\\Roman\\Desktop\\DMLS_project\\Crypto\\KSM-USD_diff.csv\n",
      "ICP-GBP\n",
      "Checking input parameters are in the correct format.\n",
      "Formatting Dates.\n",
      "Checking if user supplied is available on the CoinBase Pro API.\n",
      "Connected to the CoinBase Pro API.\n",
      "Ticker 'ICP-GBP' found at the CoinBase Pro API, continuing to extraction.\n",
      "Provisional Start: 2022-01-11T00:00:00\n",
      "Provisional End: 2022-11-07T00:00:00\n",
      "Data for chunk 1 of 2 extracted\n"
     ]
    },
    {
     "name": "stderr",
     "output_type": "stream",
     "text": [
      "C:\\Users\\Roman\\AppData\\Local\\Packages\\PythonSoftwareFoundation.Python.3.10_qbz5n2kfra8p0\\LocalCache\\local-packages\\Python310\\site-packages\\Historic_Crypto\\HistoricalData.py:176: FutureWarning: The frame.append method is deprecated and will be removed from pandas in a future version. Use pandas.concat instead.\n",
      "  data = data.append(dataset)\n"
     ]
    },
    {
     "name": "stdout",
     "output_type": "stream",
     "text": [
      "Provisional Start: 2022-11-07T00:00:00\n",
      "Provisional End: 2023-09-03T00:00:00\n",
      "Data for chunk 2 of 2 extracted\n",
      "Saved to C:\\Users\\Roman\\Desktop\\DMLS_project\\Crypto\\ICP-GBP_diff.csv\n",
      "API3-USD\n",
      "Checking input parameters are in the correct format.\n",
      "Formatting Dates.\n",
      "Checking if user supplied is available on the CoinBase Pro API.\n",
      "Connected to the CoinBase Pro API.\n",
      "Ticker 'API3-USD' found at the CoinBase Pro API, continuing to extraction.\n",
      "Provisional Start: 2022-01-11T00:00:00\n",
      "Provisional End: 2022-11-07T00:00:00\n",
      "Data for chunk 1 of 2 extracted\n",
      "Provisional Start: 2022-11-07T00:00:00\n",
      "Provisional End: 2023-09-03T00:00:00\n"
     ]
    },
    {
     "name": "stderr",
     "output_type": "stream",
     "text": [
      "C:\\Users\\Roman\\AppData\\Local\\Packages\\PythonSoftwareFoundation.Python.3.10_qbz5n2kfra8p0\\LocalCache\\local-packages\\Python310\\site-packages\\Historic_Crypto\\HistoricalData.py:176: FutureWarning: The frame.append method is deprecated and will be removed from pandas in a future version. Use pandas.concat instead.\n",
      "  data = data.append(dataset)\n"
     ]
    },
    {
     "name": "stdout",
     "output_type": "stream",
     "text": [
      "Data for chunk 2 of 2 extracted\n",
      "Saved to C:\\Users\\Roman\\Desktop\\DMLS_project\\Crypto\\API3-USD_diff.csv\n",
      "1INCH-GBP\n",
      "Checking input parameters are in the correct format.\n",
      "Formatting Dates.\n",
      "Checking if user supplied is available on the CoinBase Pro API.\n",
      "Connected to the CoinBase Pro API.\n",
      "Ticker '1INCH-GBP' found at the CoinBase Pro API, continuing to extraction.\n",
      "Provisional Start: 2022-01-11T00:00:00\n",
      "Provisional End: 2022-11-07T00:00:00\n",
      "Data for chunk 1 of 2 extracted\n"
     ]
    },
    {
     "name": "stderr",
     "output_type": "stream",
     "text": [
      "C:\\Users\\Roman\\AppData\\Local\\Packages\\PythonSoftwareFoundation.Python.3.10_qbz5n2kfra8p0\\LocalCache\\local-packages\\Python310\\site-packages\\Historic_Crypto\\HistoricalData.py:176: FutureWarning: The frame.append method is deprecated and will be removed from pandas in a future version. Use pandas.concat instead.\n",
      "  data = data.append(dataset)\n"
     ]
    },
    {
     "name": "stdout",
     "output_type": "stream",
     "text": [
      "Provisional Start: 2022-11-07T00:00:00\n",
      "Provisional End: 2023-09-03T00:00:00\n",
      "Data for chunk 2 of 2 extracted\n",
      "Saved to C:\\Users\\Roman\\Desktop\\DMLS_project\\Crypto\\1INCH-GBP_diff.csv\n",
      "FIL-BTC\n",
      "Checking input parameters are in the correct format.\n",
      "Formatting Dates.\n",
      "Checking if user supplied is available on the CoinBase Pro API.\n",
      "Connected to the CoinBase Pro API.\n",
      "Ticker 'FIL-BTC' found at the CoinBase Pro API, continuing to extraction.\n",
      "Provisional Start: 2022-01-11T00:00:00\n",
      "Provisional End: 2022-11-07T00:00:00\n",
      "Data for chunk 1 of 2 extracted\n"
     ]
    },
    {
     "name": "stderr",
     "output_type": "stream",
     "text": [
      "C:\\Users\\Roman\\AppData\\Local\\Packages\\PythonSoftwareFoundation.Python.3.10_qbz5n2kfra8p0\\LocalCache\\local-packages\\Python310\\site-packages\\Historic_Crypto\\HistoricalData.py:176: FutureWarning: The frame.append method is deprecated and will be removed from pandas in a future version. Use pandas.concat instead.\n",
      "  data = data.append(dataset)\n"
     ]
    },
    {
     "name": "stdout",
     "output_type": "stream",
     "text": [
      "Provisional Start: 2022-11-07T00:00:00\n",
      "Provisional End: 2023-09-03T00:00:00\n",
      "Data for chunk 2 of 2 extracted\n",
      "Saved to C:\\Users\\Roman\\Desktop\\DMLS_project\\Crypto\\FIL-BTC_diff.csv\n",
      "SOL-EUR\n",
      "Checking input parameters are in the correct format.\n",
      "Formatting Dates.\n",
      "Checking if user supplied is available on the CoinBase Pro API.\n",
      "Connected to the CoinBase Pro API.\n",
      "Ticker 'SOL-EUR' found at the CoinBase Pro API, continuing to extraction.\n",
      "Provisional Start: 2022-01-11T00:00:00\n",
      "Provisional End: 2022-11-07T00:00:00\n",
      "Data for chunk 1 of 2 extracted\n",
      "Provisional Start: 2022-11-07T00:00:00\n",
      "Provisional End: 2023-09-03T00:00:00\n"
     ]
    },
    {
     "name": "stderr",
     "output_type": "stream",
     "text": [
      "C:\\Users\\Roman\\AppData\\Local\\Packages\\PythonSoftwareFoundation.Python.3.10_qbz5n2kfra8p0\\LocalCache\\local-packages\\Python310\\site-packages\\Historic_Crypto\\HistoricalData.py:176: FutureWarning: The frame.append method is deprecated and will be removed from pandas in a future version. Use pandas.concat instead.\n",
      "  data = data.append(dataset)\n"
     ]
    },
    {
     "name": "stdout",
     "output_type": "stream",
     "text": [
      "Data for chunk 2 of 2 extracted\n",
      "Saved to C:\\Users\\Roman\\Desktop\\DMLS_project\\Crypto\\SOL-EUR_diff.csv\n",
      "FLOW-USDT\n",
      "Checking input parameters are in the correct format.\n",
      "Formatting Dates.\n",
      "Checking if user supplied is available on the CoinBase Pro API.\n",
      "Connected to the CoinBase Pro API.\n",
      "Ticker 'FLOW-USDT' found at the CoinBase Pro API, continuing to extraction.\n",
      "Provisional Start: 2022-01-11T00:00:00\n",
      "Provisional End: 2022-11-07T00:00:00\n",
      "Data for chunk 1 of 2 extracted\n"
     ]
    },
    {
     "name": "stderr",
     "output_type": "stream",
     "text": [
      "C:\\Users\\Roman\\AppData\\Local\\Packages\\PythonSoftwareFoundation.Python.3.10_qbz5n2kfra8p0\\LocalCache\\local-packages\\Python310\\site-packages\\Historic_Crypto\\HistoricalData.py:176: FutureWarning: The frame.append method is deprecated and will be removed from pandas in a future version. Use pandas.concat instead.\n",
      "  data = data.append(dataset)\n"
     ]
    },
    {
     "name": "stdout",
     "output_type": "stream",
     "text": [
      "Provisional Start: 2022-11-07T00:00:00\n",
      "Provisional End: 2023-09-03T00:00:00\n",
      "Data for chunk 2 of 2 extracted\n",
      "Saved to C:\\Users\\Roman\\Desktop\\DMLS_project\\Crypto\\FLOW-USDT_diff.csv\n",
      "LIT-USD\n",
      "Checking input parameters are in the correct format.\n",
      "Formatting Dates.\n",
      "Checking if user supplied is available on the CoinBase Pro API.\n",
      "Connected to the CoinBase Pro API.\n",
      "Ticker 'LIT-USD' found at the CoinBase Pro API, continuing to extraction.\n",
      "Provisional Start: 2022-01-11T00:00:00\n",
      "Provisional End: 2022-11-07T00:00:00\n",
      "Data for chunk 1 of 2 extracted\n",
      "CoinBase Pro API did not have available data for 'LIT-USD' beginning at 2022-01-11-00-00.  \n",
      "                        Trying a later date:'2022-01-11T00:00:00'\n",
      "Provisional Start: 2022-11-07T00:00:00\n",
      "Provisional End: 2023-09-03T00:00:00\n",
      "Data for chunk 2 of 2 extracted\n"
     ]
    },
    {
     "name": "stderr",
     "output_type": "stream",
     "text": [
      "C:\\Users\\Roman\\AppData\\Local\\Packages\\PythonSoftwareFoundation.Python.3.10_qbz5n2kfra8p0\\LocalCache\\local-packages\\Python310\\site-packages\\Historic_Crypto\\HistoricalData.py:176: FutureWarning: The frame.append method is deprecated and will be removed from pandas in a future version. Use pandas.concat instead.\n",
      "  data = data.append(dataset)\n"
     ]
    },
    {
     "name": "stdout",
     "output_type": "stream",
     "text": [
      "Saved to C:\\Users\\Roman\\Desktop\\DMLS_project\\Crypto\\LIT-USD_diff.csv\n",
      "NEAR-USD\n",
      "Checking input parameters are in the correct format.\n",
      "Formatting Dates.\n",
      "Checking if user supplied is available on the CoinBase Pro API.\n",
      "Connected to the CoinBase Pro API.\n",
      "Ticker 'NEAR-USD' found at the CoinBase Pro API, continuing to extraction.\n",
      "Provisional Start: 2022-01-11T00:00:00\n",
      "Provisional End: 2022-11-07T00:00:00\n",
      "Data for chunk 1 of 2 extracted\n"
     ]
    },
    {
     "name": "stderr",
     "output_type": "stream",
     "text": [
      "C:\\Users\\Roman\\AppData\\Local\\Packages\\PythonSoftwareFoundation.Python.3.10_qbz5n2kfra8p0\\LocalCache\\local-packages\\Python310\\site-packages\\Historic_Crypto\\HistoricalData.py:176: FutureWarning: The frame.append method is deprecated and will be removed from pandas in a future version. Use pandas.concat instead.\n",
      "  data = data.append(dataset)\n"
     ]
    },
    {
     "name": "stdout",
     "output_type": "stream",
     "text": [
      "Provisional Start: 2022-11-07T00:00:00\n",
      "Provisional End: 2023-09-03T00:00:00\n",
      "Data for chunk 2 of 2 extracted\n",
      "Saved to C:\\Users\\Roman\\Desktop\\DMLS_project\\Crypto\\NEAR-USD_diff.csv\n",
      "NKN-GBP\n",
      "Checking input parameters are in the correct format.\n",
      "Formatting Dates.\n",
      "Checking if user supplied is available on the CoinBase Pro API.\n",
      "Connected to the CoinBase Pro API.\n",
      "Ticker 'NKN-GBP' found at the CoinBase Pro API, continuing to extraction.\n",
      "Provisional Start: 2022-01-11T00:00:00\n",
      "Provisional End: 2022-11-07T00:00:00\n",
      "Data for chunk 1 of 2 extracted\n",
      "Provisional Start: 2022-11-07T00:00:00\n",
      "Provisional End: 2023-09-03T00:00:00\n"
     ]
    },
    {
     "name": "stderr",
     "output_type": "stream",
     "text": [
      "C:\\Users\\Roman\\AppData\\Local\\Packages\\PythonSoftwareFoundation.Python.3.10_qbz5n2kfra8p0\\LocalCache\\local-packages\\Python310\\site-packages\\Historic_Crypto\\HistoricalData.py:176: FutureWarning: The frame.append method is deprecated and will be removed from pandas in a future version. Use pandas.concat instead.\n",
      "  data = data.append(dataset)\n"
     ]
    },
    {
     "name": "stdout",
     "output_type": "stream",
     "text": [
      "Data for chunk 2 of 2 extracted\n",
      "Saved to C:\\Users\\Roman\\Desktop\\DMLS_project\\Crypto\\NKN-GBP_diff.csv\n",
      "OOKI-USD\n",
      "Checking input parameters are in the correct format.\n",
      "Formatting Dates.\n",
      "Checking if user supplied is available on the CoinBase Pro API.\n",
      "Connected to the CoinBase Pro API.\n",
      "Ticker 'OOKI-USD' found at the CoinBase Pro API, continuing to extraction.\n",
      "Provisional Start: 2022-01-11T00:00:00\n",
      "Provisional End: 2022-11-07T00:00:00\n",
      "Data for chunk 1 of 2 extracted\n",
      "Provisional Start: 2022-11-07T00:00:00\n",
      "Provisional End: 2023-09-03T00:00:00\n"
     ]
    },
    {
     "name": "stderr",
     "output_type": "stream",
     "text": [
      "C:\\Users\\Roman\\AppData\\Local\\Packages\\PythonSoftwareFoundation.Python.3.10_qbz5n2kfra8p0\\LocalCache\\local-packages\\Python310\\site-packages\\Historic_Crypto\\HistoricalData.py:176: FutureWarning: The frame.append method is deprecated and will be removed from pandas in a future version. Use pandas.concat instead.\n",
      "  data = data.append(dataset)\n"
     ]
    },
    {
     "name": "stdout",
     "output_type": "stream",
     "text": [
      "Data for chunk 2 of 2 extracted\n",
      "Saved to C:\\Users\\Roman\\Desktop\\DMLS_project\\Crypto\\OOKI-USD_diff.csv\n",
      "RAD-BTC\n",
      "Checking input parameters are in the correct format.\n",
      "Formatting Dates.\n",
      "Checking if user supplied is available on the CoinBase Pro API.\n",
      "Connected to the CoinBase Pro API.\n",
      "Ticker 'RAD-BTC' found at the CoinBase Pro API, continuing to extraction.\n",
      "Provisional Start: 2022-01-11T00:00:00\n",
      "Provisional End: 2022-11-07T00:00:00\n",
      "Data for chunk 1 of 2 extracted\n",
      "Provisional Start: 2022-11-07T00:00:00\n",
      "Provisional End: 2023-09-03T00:00:00\n"
     ]
    },
    {
     "name": "stderr",
     "output_type": "stream",
     "text": [
      "C:\\Users\\Roman\\AppData\\Local\\Packages\\PythonSoftwareFoundation.Python.3.10_qbz5n2kfra8p0\\LocalCache\\local-packages\\Python310\\site-packages\\Historic_Crypto\\HistoricalData.py:176: FutureWarning: The frame.append method is deprecated and will be removed from pandas in a future version. Use pandas.concat instead.\n",
      "  data = data.append(dataset)\n"
     ]
    },
    {
     "name": "stdout",
     "output_type": "stream",
     "text": [
      "Data for chunk 2 of 2 extracted\n",
      "Saved to C:\\Users\\Roman\\Desktop\\DMLS_project\\Crypto\\RAD-BTC_diff.csv\n",
      "TRU-USD\n",
      "Checking input parameters are in the correct format.\n",
      "Formatting Dates.\n",
      "Checking if user supplied is available on the CoinBase Pro API.\n",
      "Connected to the CoinBase Pro API.\n",
      "Ticker 'TRU-USD' found at the CoinBase Pro API, continuing to extraction.\n",
      "Provisional Start: 2022-01-11T00:00:00\n",
      "Provisional End: 2022-11-07T00:00:00\n",
      "Data for chunk 1 of 2 extracted\n"
     ]
    },
    {
     "name": "stderr",
     "output_type": "stream",
     "text": [
      "C:\\Users\\Roman\\AppData\\Local\\Packages\\PythonSoftwareFoundation.Python.3.10_qbz5n2kfra8p0\\LocalCache\\local-packages\\Python310\\site-packages\\Historic_Crypto\\HistoricalData.py:176: FutureWarning: The frame.append method is deprecated and will be removed from pandas in a future version. Use pandas.concat instead.\n",
      "  data = data.append(dataset)\n"
     ]
    },
    {
     "name": "stdout",
     "output_type": "stream",
     "text": [
      "Provisional Start: 2022-11-07T00:00:00\n",
      "Provisional End: 2023-09-03T00:00:00\n",
      "Data for chunk 2 of 2 extracted\n",
      "Saved to C:\\Users\\Roman\\Desktop\\DMLS_project\\Crypto\\TRU-USD_diff.csv\n",
      "JASMY-USD\n",
      "Checking input parameters are in the correct format.\n",
      "Formatting Dates.\n",
      "Checking if user supplied is available on the CoinBase Pro API.\n",
      "Connected to the CoinBase Pro API.\n",
      "Ticker 'JASMY-USD' found at the CoinBase Pro API, continuing to extraction.\n",
      "Provisional Start: 2022-01-11T00:00:00\n",
      "Provisional End: 2022-11-07T00:00:00\n",
      "Data for chunk 1 of 2 extracted\n",
      "Provisional Start: 2022-11-07T00:00:00\n",
      "Provisional End: 2023-09-03T00:00:00\n"
     ]
    },
    {
     "name": "stderr",
     "output_type": "stream",
     "text": [
      "C:\\Users\\Roman\\AppData\\Local\\Packages\\PythonSoftwareFoundation.Python.3.10_qbz5n2kfra8p0\\LocalCache\\local-packages\\Python310\\site-packages\\Historic_Crypto\\HistoricalData.py:176: FutureWarning: The frame.append method is deprecated and will be removed from pandas in a future version. Use pandas.concat instead.\n",
      "  data = data.append(dataset)\n"
     ]
    },
    {
     "name": "stdout",
     "output_type": "stream",
     "text": [
      "Data for chunk 2 of 2 extracted\n",
      "Saved to C:\\Users\\Roman\\Desktop\\DMLS_project\\Crypto\\JASMY-USD_diff.csv\n",
      "XTZ-USD\n",
      "Checking input parameters are in the correct format.\n",
      "Formatting Dates.\n",
      "Checking if user supplied is available on the CoinBase Pro API.\n",
      "Connected to the CoinBase Pro API.\n",
      "Ticker 'XTZ-USD' found at the CoinBase Pro API, continuing to extraction.\n",
      "Provisional Start: 2022-01-11T00:00:00\n",
      "Provisional End: 2022-11-07T00:00:00\n",
      "Data for chunk 1 of 2 extracted\n"
     ]
    },
    {
     "name": "stderr",
     "output_type": "stream",
     "text": [
      "C:\\Users\\Roman\\AppData\\Local\\Packages\\PythonSoftwareFoundation.Python.3.10_qbz5n2kfra8p0\\LocalCache\\local-packages\\Python310\\site-packages\\Historic_Crypto\\HistoricalData.py:176: FutureWarning: The frame.append method is deprecated and will be removed from pandas in a future version. Use pandas.concat instead.\n",
      "  data = data.append(dataset)\n"
     ]
    },
    {
     "name": "stdout",
     "output_type": "stream",
     "text": [
      "Provisional Start: 2022-11-07T00:00:00\n",
      "Provisional End: 2023-09-03T00:00:00\n",
      "Data for chunk 2 of 2 extracted\n",
      "Saved to C:\\Users\\Roman\\Desktop\\DMLS_project\\Crypto\\XTZ-USD_diff.csv\n",
      "DOT-GBP\n",
      "Checking input parameters are in the correct format.\n",
      "Formatting Dates.\n",
      "Checking if user supplied is available on the CoinBase Pro API.\n",
      "Connected to the CoinBase Pro API.\n",
      "Ticker 'DOT-GBP' found at the CoinBase Pro API, continuing to extraction.\n",
      "Provisional Start: 2022-01-11T00:00:00\n",
      "Provisional End: 2022-11-07T00:00:00\n",
      "Data for chunk 1 of 2 extracted\n",
      "Provisional Start: 2022-11-07T00:00:00\n",
      "Provisional End: 2023-09-03T00:00:00\n",
      "Data for chunk 2 of 2 extracted\n"
     ]
    },
    {
     "name": "stderr",
     "output_type": "stream",
     "text": [
      "C:\\Users\\Roman\\AppData\\Local\\Packages\\PythonSoftwareFoundation.Python.3.10_qbz5n2kfra8p0\\LocalCache\\local-packages\\Python310\\site-packages\\Historic_Crypto\\HistoricalData.py:176: FutureWarning: The frame.append method is deprecated and will be removed from pandas in a future version. Use pandas.concat instead.\n",
      "  data = data.append(dataset)\n"
     ]
    },
    {
     "name": "stdout",
     "output_type": "stream",
     "text": [
      "Saved to C:\\Users\\Roman\\Desktop\\DMLS_project\\Crypto\\DOT-GBP_diff.csv\n",
      "ENS-EUR\n",
      "Checking input parameters are in the correct format.\n",
      "Formatting Dates.\n",
      "Checking if user supplied is available on the CoinBase Pro API.\n",
      "Connected to the CoinBase Pro API.\n",
      "Ticker 'ENS-EUR' found at the CoinBase Pro API, continuing to extraction.\n",
      "Provisional Start: 2022-01-11T00:00:00\n",
      "Provisional End: 2022-11-07T00:00:00\n",
      "Data for chunk 1 of 2 extracted\n"
     ]
    },
    {
     "name": "stderr",
     "output_type": "stream",
     "text": [
      "C:\\Users\\Roman\\AppData\\Local\\Packages\\PythonSoftwareFoundation.Python.3.10_qbz5n2kfra8p0\\LocalCache\\local-packages\\Python310\\site-packages\\Historic_Crypto\\HistoricalData.py:176: FutureWarning: The frame.append method is deprecated and will be removed from pandas in a future version. Use pandas.concat instead.\n",
      "  data = data.append(dataset)\n"
     ]
    },
    {
     "name": "stdout",
     "output_type": "stream",
     "text": [
      "Provisional Start: 2022-11-07T00:00:00\n",
      "Provisional End: 2023-09-03T00:00:00\n",
      "Data for chunk 2 of 2 extracted\n",
      "Saved to C:\\Users\\Roman\\Desktop\\DMLS_project\\Crypto\\ENS-EUR_diff.csv\n",
      "ORN-USDT\n",
      "Checking input parameters are in the correct format.\n",
      "Formatting Dates.\n",
      "Checking if user supplied is available on the CoinBase Pro API.\n",
      "Connected to the CoinBase Pro API.\n",
      "Ticker 'ORN-USDT' found at the CoinBase Pro API, continuing to extraction.\n",
      "Provisional Start: 2022-01-11T00:00:00\n",
      "Provisional End: 2022-11-07T00:00:00\n",
      "Data for chunk 1 of 2 extracted\n"
     ]
    },
    {
     "name": "stderr",
     "output_type": "stream",
     "text": [
      "C:\\Users\\Roman\\AppData\\Local\\Packages\\PythonSoftwareFoundation.Python.3.10_qbz5n2kfra8p0\\LocalCache\\local-packages\\Python310\\site-packages\\Historic_Crypto\\HistoricalData.py:176: FutureWarning: The frame.append method is deprecated and will be removed from pandas in a future version. Use pandas.concat instead.\n",
      "  data = data.append(dataset)\n"
     ]
    },
    {
     "name": "stdout",
     "output_type": "stream",
     "text": [
      "Provisional Start: 2022-11-07T00:00:00\n",
      "Provisional End: 2023-09-03T00:00:00\n",
      "Data for chunk 2 of 2 extracted\n",
      "Saved to C:\\Users\\Roman\\Desktop\\DMLS_project\\Crypto\\ORN-USDT_diff.csv\n",
      "USDT-USDC\n",
      "Checking input parameters are in the correct format.\n",
      "Formatting Dates.\n",
      "Checking if user supplied is available on the CoinBase Pro API.\n",
      "Connected to the CoinBase Pro API.\n",
      "Ticker 'USDT-USDC' found at the CoinBase Pro API, continuing to extraction.\n",
      "Provisional Start: 2022-01-11T00:00:00\n",
      "Provisional End: 2022-11-07T00:00:00\n",
      "Data for chunk 1 of 2 extracted\n"
     ]
    },
    {
     "name": "stderr",
     "output_type": "stream",
     "text": [
      "C:\\Users\\Roman\\AppData\\Local\\Packages\\PythonSoftwareFoundation.Python.3.10_qbz5n2kfra8p0\\LocalCache\\local-packages\\Python310\\site-packages\\Historic_Crypto\\HistoricalData.py:176: FutureWarning: The frame.append method is deprecated and will be removed from pandas in a future version. Use pandas.concat instead.\n",
      "  data = data.append(dataset)\n"
     ]
    },
    {
     "name": "stdout",
     "output_type": "stream",
     "text": [
      "Provisional Start: 2022-11-07T00:00:00\n",
      "Provisional End: 2023-09-03T00:00:00\n",
      "Data for chunk 2 of 2 extracted\n",
      "Saved to C:\\Users\\Roman\\Desktop\\DMLS_project\\Crypto\\USDT-USDC_diff.csv\n",
      "ZEN-USD\n",
      "Checking input parameters are in the correct format.\n",
      "Formatting Dates.\n",
      "Checking if user supplied is available on the CoinBase Pro API.\n",
      "Connected to the CoinBase Pro API.\n",
      "Ticker 'ZEN-USD' found at the CoinBase Pro API, continuing to extraction.\n",
      "Provisional Start: 2022-01-11T00:00:00\n",
      "Provisional End: 2022-11-07T00:00:00\n",
      "Data for chunk 1 of 2 extracted\n"
     ]
    },
    {
     "name": "stderr",
     "output_type": "stream",
     "text": [
      "C:\\Users\\Roman\\AppData\\Local\\Packages\\PythonSoftwareFoundation.Python.3.10_qbz5n2kfra8p0\\LocalCache\\local-packages\\Python310\\site-packages\\Historic_Crypto\\HistoricalData.py:176: FutureWarning: The frame.append method is deprecated and will be removed from pandas in a future version. Use pandas.concat instead.\n",
      "  data = data.append(dataset)\n"
     ]
    },
    {
     "name": "stdout",
     "output_type": "stream",
     "text": [
      "Provisional Start: 2022-11-07T00:00:00\n",
      "Provisional End: 2023-09-03T00:00:00\n",
      "Data for chunk 2 of 2 extracted\n",
      "Saved to C:\\Users\\Roman\\Desktop\\DMLS_project\\Crypto\\ZEN-USD_diff.csv\n",
      "GALA-USD\n",
      "Checking input parameters are in the correct format.\n",
      "Formatting Dates.\n",
      "Checking if user supplied is available on the CoinBase Pro API.\n",
      "Connected to the CoinBase Pro API.\n",
      "Ticker 'GALA-USD' found at the CoinBase Pro API, continuing to extraction.\n",
      "Provisional Start: 2022-01-11T00:00:00\n",
      "Provisional End: 2022-11-07T00:00:00\n",
      "Data for chunk 1 of 2 extracted\n"
     ]
    },
    {
     "name": "stderr",
     "output_type": "stream",
     "text": [
      "C:\\Users\\Roman\\AppData\\Local\\Packages\\PythonSoftwareFoundation.Python.3.10_qbz5n2kfra8p0\\LocalCache\\local-packages\\Python310\\site-packages\\Historic_Crypto\\HistoricalData.py:176: FutureWarning: The frame.append method is deprecated and will be removed from pandas in a future version. Use pandas.concat instead.\n",
      "  data = data.append(dataset)\n"
     ]
    },
    {
     "name": "stdout",
     "output_type": "stream",
     "text": [
      "Provisional Start: 2022-11-07T00:00:00\n",
      "Provisional End: 2023-09-03T00:00:00\n",
      "Data for chunk 2 of 2 extracted\n",
      "Saved to C:\\Users\\Roman\\Desktop\\DMLS_project\\Crypto\\GALA-USD_diff.csv\n",
      "SWFTC-USD\n",
      "Checking input parameters are in the correct format.\n",
      "Formatting Dates.\n",
      "Checking if user supplied is available on the CoinBase Pro API.\n",
      "Connected to the CoinBase Pro API.\n",
      "Ticker 'SWFTC-USD' found at the CoinBase Pro API, continuing to extraction.\n",
      "Provisional Start: 2022-01-11T00:00:00\n",
      "Provisional End: 2022-11-07T00:00:00\n",
      "Data for chunk 1 of 2 extracted\n",
      "Provisional Start: 2022-11-07T00:00:00\n",
      "Provisional End: 2023-09-03T00:00:00\n"
     ]
    },
    {
     "name": "stderr",
     "output_type": "stream",
     "text": [
      "C:\\Users\\Roman\\AppData\\Local\\Packages\\PythonSoftwareFoundation.Python.3.10_qbz5n2kfra8p0\\LocalCache\\local-packages\\Python310\\site-packages\\Historic_Crypto\\HistoricalData.py:176: FutureWarning: The frame.append method is deprecated and will be removed from pandas in a future version. Use pandas.concat instead.\n",
      "  data = data.append(dataset)\n"
     ]
    },
    {
     "name": "stdout",
     "output_type": "stream",
     "text": [
      "Data for chunk 2 of 2 extracted\n",
      "Saved to C:\\Users\\Roman\\Desktop\\DMLS_project\\Crypto\\SWFTC-USD_diff.csv\n",
      "RNDR-USD\n",
      "Checking input parameters are in the correct format.\n",
      "Formatting Dates.\n",
      "Checking if user supplied is available on the CoinBase Pro API.\n",
      "Connected to the CoinBase Pro API.\n",
      "Ticker 'RNDR-USD' found at the CoinBase Pro API, continuing to extraction.\n",
      "Provisional Start: 2022-01-11T00:00:00\n",
      "Provisional End: 2022-11-07T00:00:00\n",
      "Data for chunk 1 of 2 extracted\n"
     ]
    },
    {
     "name": "stderr",
     "output_type": "stream",
     "text": [
      "C:\\Users\\Roman\\AppData\\Local\\Packages\\PythonSoftwareFoundation.Python.3.10_qbz5n2kfra8p0\\LocalCache\\local-packages\\Python310\\site-packages\\Historic_Crypto\\HistoricalData.py:176: FutureWarning: The frame.append method is deprecated and will be removed from pandas in a future version. Use pandas.concat instead.\n",
      "  data = data.append(dataset)\n"
     ]
    },
    {
     "name": "stdout",
     "output_type": "stream",
     "text": [
      "Provisional Start: 2022-11-07T00:00:00\n",
      "Provisional End: 2023-09-03T00:00:00\n",
      "Data for chunk 2 of 2 extracted\n",
      "Saved to C:\\Users\\Roman\\Desktop\\DMLS_project\\Crypto\\RNDR-USD_diff.csv\n",
      "ZRX-EUR\n",
      "Checking input parameters are in the correct format.\n",
      "Formatting Dates.\n",
      "Checking if user supplied is available on the CoinBase Pro API.\n",
      "Connected to the CoinBase Pro API.\n",
      "Ticker 'ZRX-EUR' found at the CoinBase Pro API, continuing to extraction.\n",
      "Provisional Start: 2022-01-11T00:00:00\n",
      "Provisional End: 2022-11-07T00:00:00\n",
      "Data for chunk 1 of 2 extracted\n",
      "Provisional Start: 2022-11-07T00:00:00\n",
      "Provisional End: 2023-09-03T00:00:00\n"
     ]
    },
    {
     "name": "stderr",
     "output_type": "stream",
     "text": [
      "C:\\Users\\Roman\\AppData\\Local\\Packages\\PythonSoftwareFoundation.Python.3.10_qbz5n2kfra8p0\\LocalCache\\local-packages\\Python310\\site-packages\\Historic_Crypto\\HistoricalData.py:176: FutureWarning: The frame.append method is deprecated and will be removed from pandas in a future version. Use pandas.concat instead.\n",
      "  data = data.append(dataset)\n"
     ]
    },
    {
     "name": "stdout",
     "output_type": "stream",
     "text": [
      "Data for chunk 2 of 2 extracted\n",
      "Saved to C:\\Users\\Roman\\Desktop\\DMLS_project\\Crypto\\ZRX-EUR_diff.csv\n",
      "PRO-USD\n",
      "Checking input parameters are in the correct format.\n",
      "Formatting Dates.\n",
      "Checking if user supplied is available on the CoinBase Pro API.\n",
      "Connected to the CoinBase Pro API.\n",
      "Ticker 'PRO-USD' found at the CoinBase Pro API, continuing to extraction.\n",
      "Provisional Start: 2022-01-11T00:00:00\n",
      "Provisional End: 2022-11-07T00:00:00\n",
      "Data for chunk 1 of 2 extracted\n",
      "Provisional Start: 2022-11-07T00:00:00\n",
      "Provisional End: 2023-09-03T00:00:00\n"
     ]
    },
    {
     "name": "stderr",
     "output_type": "stream",
     "text": [
      "C:\\Users\\Roman\\AppData\\Local\\Packages\\PythonSoftwareFoundation.Python.3.10_qbz5n2kfra8p0\\LocalCache\\local-packages\\Python310\\site-packages\\Historic_Crypto\\HistoricalData.py:176: FutureWarning: The frame.append method is deprecated and will be removed from pandas in a future version. Use pandas.concat instead.\n",
      "  data = data.append(dataset)\n"
     ]
    },
    {
     "name": "stdout",
     "output_type": "stream",
     "text": [
      "Data for chunk 2 of 2 extracted\n",
      "Saved to C:\\Users\\Roman\\Desktop\\DMLS_project\\Crypto\\PRO-USD_diff.csv\n",
      "ADA-EUR\n",
      "Checking input parameters are in the correct format.\n",
      "Formatting Dates.\n",
      "Checking if user supplied is available on the CoinBase Pro API.\n",
      "Connected to the CoinBase Pro API.\n",
      "Ticker 'ADA-EUR' found at the CoinBase Pro API, continuing to extraction.\n",
      "Provisional Start: 2022-01-11T00:00:00\n",
      "Provisional End: 2022-11-07T00:00:00\n",
      "Data for chunk 1 of 2 extracted\n"
     ]
    },
    {
     "name": "stderr",
     "output_type": "stream",
     "text": [
      "C:\\Users\\Roman\\AppData\\Local\\Packages\\PythonSoftwareFoundation.Python.3.10_qbz5n2kfra8p0\\LocalCache\\local-packages\\Python310\\site-packages\\Historic_Crypto\\HistoricalData.py:176: FutureWarning: The frame.append method is deprecated and will be removed from pandas in a future version. Use pandas.concat instead.\n",
      "  data = data.append(dataset)\n"
     ]
    },
    {
     "name": "stdout",
     "output_type": "stream",
     "text": [
      "Provisional Start: 2022-11-07T00:00:00\n",
      "Provisional End: 2023-09-03T00:00:00\n",
      "Data for chunk 2 of 2 extracted\n",
      "Saved to C:\\Users\\Roman\\Desktop\\DMLS_project\\Crypto\\ADA-EUR_diff.csv\n",
      "AST-USD\n",
      "Checking input parameters are in the correct format.\n",
      "Formatting Dates.\n",
      "Checking if user supplied is available on the CoinBase Pro API.\n",
      "Connected to the CoinBase Pro API.\n",
      "Ticker 'AST-USD' found at the CoinBase Pro API, continuing to extraction.\n",
      "Provisional Start: 2022-01-11T00:00:00\n",
      "Provisional End: 2022-11-07T00:00:00\n",
      "Data for chunk 1 of 2 extracted\n",
      "Provisional Start: 2022-11-07T00:00:00\n",
      "Provisional End: 2023-09-03T00:00:00\n"
     ]
    },
    {
     "name": "stderr",
     "output_type": "stream",
     "text": [
      "C:\\Users\\Roman\\AppData\\Local\\Packages\\PythonSoftwareFoundation.Python.3.10_qbz5n2kfra8p0\\LocalCache\\local-packages\\Python310\\site-packages\\Historic_Crypto\\HistoricalData.py:176: FutureWarning: The frame.append method is deprecated and will be removed from pandas in a future version. Use pandas.concat instead.\n",
      "  data = data.append(dataset)\n"
     ]
    },
    {
     "name": "stdout",
     "output_type": "stream",
     "text": [
      "Data for chunk 2 of 2 extracted\n",
      "Saved to C:\\Users\\Roman\\Desktop\\DMLS_project\\Crypto\\AST-USD_diff.csv\n",
      "MASK-USD\n",
      "Checking input parameters are in the correct format.\n",
      "Formatting Dates.\n",
      "Checking if user supplied is available on the CoinBase Pro API.\n",
      "Connected to the CoinBase Pro API.\n",
      "Ticker 'MASK-USD' found at the CoinBase Pro API, continuing to extraction.\n",
      "Provisional Start: 2022-01-11T00:00:00\n",
      "Provisional End: 2022-11-07T00:00:00\n",
      "Data for chunk 1 of 2 extracted\n"
     ]
    },
    {
     "name": "stderr",
     "output_type": "stream",
     "text": [
      "C:\\Users\\Roman\\AppData\\Local\\Packages\\PythonSoftwareFoundation.Python.3.10_qbz5n2kfra8p0\\LocalCache\\local-packages\\Python310\\site-packages\\Historic_Crypto\\HistoricalData.py:176: FutureWarning: The frame.append method is deprecated and will be removed from pandas in a future version. Use pandas.concat instead.\n",
      "  data = data.append(dataset)\n"
     ]
    },
    {
     "name": "stdout",
     "output_type": "stream",
     "text": [
      "Provisional Start: 2022-11-07T00:00:00\n",
      "Provisional End: 2023-09-03T00:00:00\n",
      "Data for chunk 2 of 2 extracted\n",
      "Saved to C:\\Users\\Roman\\Desktop\\DMLS_project\\Crypto\\MASK-USD_diff.csv\n",
      "GODS-USD\n",
      "Checking input parameters are in the correct format.\n",
      "Formatting Dates.\n",
      "Checking if user supplied is available on the CoinBase Pro API.\n",
      "Connected to the CoinBase Pro API.\n",
      "Ticker 'GODS-USD' found at the CoinBase Pro API, continuing to extraction.\n",
      "Provisional Start: 2022-01-11T00:00:00\n",
      "Provisional End: 2022-11-07T00:00:00\n",
      "Data for chunk 1 of 2 extracted\n"
     ]
    },
    {
     "name": "stderr",
     "output_type": "stream",
     "text": [
      "C:\\Users\\Roman\\AppData\\Local\\Packages\\PythonSoftwareFoundation.Python.3.10_qbz5n2kfra8p0\\LocalCache\\local-packages\\Python310\\site-packages\\Historic_Crypto\\HistoricalData.py:176: FutureWarning: The frame.append method is deprecated and will be removed from pandas in a future version. Use pandas.concat instead.\n",
      "  data = data.append(dataset)\n"
     ]
    },
    {
     "name": "stdout",
     "output_type": "stream",
     "text": [
      "Provisional Start: 2022-11-07T00:00:00\n",
      "Provisional End: 2023-09-03T00:00:00\n",
      "Data for chunk 2 of 2 extracted\n",
      "Saved to C:\\Users\\Roman\\Desktop\\DMLS_project\\Crypto\\GODS-USD_diff.csv\n",
      "GALA-USDT\n",
      "Checking input parameters are in the correct format.\n",
      "Formatting Dates.\n",
      "Checking if user supplied is available on the CoinBase Pro API.\n",
      "Connected to the CoinBase Pro API.\n",
      "Ticker 'GALA-USDT' found at the CoinBase Pro API, continuing to extraction.\n",
      "Provisional Start: 2022-01-11T00:00:00\n",
      "Provisional End: 2022-11-07T00:00:00\n",
      "Data for chunk 1 of 2 extracted\n"
     ]
    },
    {
     "name": "stderr",
     "output_type": "stream",
     "text": [
      "C:\\Users\\Roman\\AppData\\Local\\Packages\\PythonSoftwareFoundation.Python.3.10_qbz5n2kfra8p0\\LocalCache\\local-packages\\Python310\\site-packages\\Historic_Crypto\\HistoricalData.py:176: FutureWarning: The frame.append method is deprecated and will be removed from pandas in a future version. Use pandas.concat instead.\n",
      "  data = data.append(dataset)\n"
     ]
    },
    {
     "name": "stdout",
     "output_type": "stream",
     "text": [
      "Provisional Start: 2022-11-07T00:00:00\n",
      "Provisional End: 2023-09-03T00:00:00\n",
      "Data for chunk 2 of 2 extracted\n",
      "Saved to C:\\Users\\Roman\\Desktop\\DMLS_project\\Crypto\\GALA-USDT_diff.csv\n",
      "NMR-GBP\n",
      "Checking input parameters are in the correct format.\n",
      "Formatting Dates.\n",
      "Checking if user supplied is available on the CoinBase Pro API.\n",
      "Connected to the CoinBase Pro API.\n",
      "Ticker 'NMR-GBP' found at the CoinBase Pro API, continuing to extraction.\n",
      "Provisional Start: 2022-01-11T00:00:00\n",
      "Provisional End: 2022-11-07T00:00:00\n",
      "Data for chunk 1 of 2 extracted\n",
      "Provisional Start: 2022-11-07T00:00:00\n",
      "Provisional End: 2023-09-03T00:00:00\n"
     ]
    },
    {
     "name": "stderr",
     "output_type": "stream",
     "text": [
      "C:\\Users\\Roman\\AppData\\Local\\Packages\\PythonSoftwareFoundation.Python.3.10_qbz5n2kfra8p0\\LocalCache\\local-packages\\Python310\\site-packages\\Historic_Crypto\\HistoricalData.py:176: FutureWarning: The frame.append method is deprecated and will be removed from pandas in a future version. Use pandas.concat instead.\n",
      "  data = data.append(dataset)\n"
     ]
    },
    {
     "name": "stdout",
     "output_type": "stream",
     "text": [
      "Data for chunk 2 of 2 extracted\n",
      "Saved to C:\\Users\\Roman\\Desktop\\DMLS_project\\Crypto\\NMR-GBP_diff.csv\n",
      "SKL-BTC\n",
      "Checking input parameters are in the correct format.\n",
      "Formatting Dates.\n",
      "Checking if user supplied is available on the CoinBase Pro API.\n",
      "Connected to the CoinBase Pro API.\n",
      "Ticker 'SKL-BTC' found at the CoinBase Pro API, continuing to extraction.\n",
      "Provisional Start: 2022-01-11T00:00:00\n",
      "Provisional End: 2022-11-07T00:00:00\n",
      "Data for chunk 1 of 2 extracted\n",
      "Provisional Start: 2022-11-07T00:00:00\n",
      "Provisional End: 2023-09-03T00:00:00\n"
     ]
    },
    {
     "name": "stderr",
     "output_type": "stream",
     "text": [
      "C:\\Users\\Roman\\AppData\\Local\\Packages\\PythonSoftwareFoundation.Python.3.10_qbz5n2kfra8p0\\LocalCache\\local-packages\\Python310\\site-packages\\Historic_Crypto\\HistoricalData.py:176: FutureWarning: The frame.append method is deprecated and will be removed from pandas in a future version. Use pandas.concat instead.\n",
      "  data = data.append(dataset)\n"
     ]
    },
    {
     "name": "stdout",
     "output_type": "stream",
     "text": [
      "Data for chunk 2 of 2 extracted\n",
      "Saved to C:\\Users\\Roman\\Desktop\\DMLS_project\\Crypto\\SKL-BTC_diff.csv\n",
      "CLV-USDT\n",
      "Checking input parameters are in the correct format.\n",
      "Formatting Dates.\n",
      "Checking if user supplied is available on the CoinBase Pro API.\n",
      "Connected to the CoinBase Pro API.\n",
      "Ticker 'CLV-USDT' found at the CoinBase Pro API, continuing to extraction.\n",
      "Provisional Start: 2022-01-11T00:00:00\n",
      "Provisional End: 2022-11-07T00:00:00\n",
      "Data for chunk 1 of 2 extracted\n"
     ]
    },
    {
     "name": "stderr",
     "output_type": "stream",
     "text": [
      "C:\\Users\\Roman\\AppData\\Local\\Packages\\PythonSoftwareFoundation.Python.3.10_qbz5n2kfra8p0\\LocalCache\\local-packages\\Python310\\site-packages\\Historic_Crypto\\HistoricalData.py:176: FutureWarning: The frame.append method is deprecated and will be removed from pandas in a future version. Use pandas.concat instead.\n",
      "  data = data.append(dataset)\n"
     ]
    },
    {
     "name": "stdout",
     "output_type": "stream",
     "text": [
      "Provisional Start: 2022-11-07T00:00:00\n",
      "Provisional End: 2023-09-03T00:00:00\n",
      "Data for chunk 2 of 2 extracted\n",
      "Saved to C:\\Users\\Roman\\Desktop\\DMLS_project\\Crypto\\CLV-USDT_diff.csv\n",
      "BTRST-USDT\n",
      "Checking input parameters are in the correct format.\n",
      "Formatting Dates.\n",
      "Checking if user supplied is available on the CoinBase Pro API.\n",
      "Connected to the CoinBase Pro API.\n",
      "Ticker 'BTRST-USDT' found at the CoinBase Pro API, continuing to extraction.\n",
      "Provisional Start: 2022-01-11T00:00:00\n",
      "Provisional End: 2022-11-07T00:00:00\n",
      "Data for chunk 1 of 2 extracted\n"
     ]
    },
    {
     "name": "stderr",
     "output_type": "stream",
     "text": [
      "C:\\Users\\Roman\\AppData\\Local\\Packages\\PythonSoftwareFoundation.Python.3.10_qbz5n2kfra8p0\\LocalCache\\local-packages\\Python310\\site-packages\\Historic_Crypto\\HistoricalData.py:176: FutureWarning: The frame.append method is deprecated and will be removed from pandas in a future version. Use pandas.concat instead.\n",
      "  data = data.append(dataset)\n"
     ]
    },
    {
     "name": "stdout",
     "output_type": "stream",
     "text": [
      "Provisional Start: 2022-11-07T00:00:00\n",
      "Provisional End: 2023-09-03T00:00:00\n",
      "Data for chunk 2 of 2 extracted\n",
      "Saved to C:\\Users\\Roman\\Desktop\\DMLS_project\\Crypto\\BTRST-USDT_diff.csv\n",
      "ETC-EUR\n",
      "Checking input parameters are in the correct format.\n",
      "Formatting Dates.\n",
      "Checking if user supplied is available on the CoinBase Pro API.\n",
      "Connected to the CoinBase Pro API.\n",
      "Ticker 'ETC-EUR' found at the CoinBase Pro API, continuing to extraction.\n",
      "Provisional Start: 2022-01-11T00:00:00\n",
      "Provisional End: 2022-11-07T00:00:00\n",
      "Data for chunk 1 of 2 extracted\n"
     ]
    },
    {
     "name": "stderr",
     "output_type": "stream",
     "text": [
      "C:\\Users\\Roman\\AppData\\Local\\Packages\\PythonSoftwareFoundation.Python.3.10_qbz5n2kfra8p0\\LocalCache\\local-packages\\Python310\\site-packages\\Historic_Crypto\\HistoricalData.py:176: FutureWarning: The frame.append method is deprecated and will be removed from pandas in a future version. Use pandas.concat instead.\n",
      "  data = data.append(dataset)\n"
     ]
    },
    {
     "name": "stdout",
     "output_type": "stream",
     "text": [
      "Provisional Start: 2022-11-07T00:00:00\n",
      "Provisional End: 2023-09-03T00:00:00\n",
      "Data for chunk 2 of 2 extracted\n",
      "Saved to C:\\Users\\Roman\\Desktop\\DMLS_project\\Crypto\\ETC-EUR_diff.csv\n",
      "ALGO-USD\n",
      "Checking input parameters are in the correct format.\n",
      "Formatting Dates.\n",
      "Checking if user supplied is available on the CoinBase Pro API.\n",
      "Connected to the CoinBase Pro API.\n",
      "Ticker 'ALGO-USD' found at the CoinBase Pro API, continuing to extraction.\n",
      "Provisional Start: 2022-01-11T00:00:00\n",
      "Provisional End: 2022-11-07T00:00:00\n",
      "Data for chunk 1 of 2 extracted\n"
     ]
    },
    {
     "name": "stderr",
     "output_type": "stream",
     "text": [
      "C:\\Users\\Roman\\AppData\\Local\\Packages\\PythonSoftwareFoundation.Python.3.10_qbz5n2kfra8p0\\LocalCache\\local-packages\\Python310\\site-packages\\Historic_Crypto\\HistoricalData.py:176: FutureWarning: The frame.append method is deprecated and will be removed from pandas in a future version. Use pandas.concat instead.\n",
      "  data = data.append(dataset)\n"
     ]
    },
    {
     "name": "stdout",
     "output_type": "stream",
     "text": [
      "Provisional Start: 2022-11-07T00:00:00\n",
      "Provisional End: 2023-09-03T00:00:00\n",
      "Data for chunk 2 of 2 extracted\n",
      "Saved to C:\\Users\\Roman\\Desktop\\DMLS_project\\Crypto\\ALGO-USD_diff.csv\n",
      "IDEX-USDT\n",
      "Checking input parameters are in the correct format.\n",
      "Formatting Dates.\n",
      "Checking if user supplied is available on the CoinBase Pro API.\n",
      "Connected to the CoinBase Pro API.\n",
      "Ticker 'IDEX-USDT' found at the CoinBase Pro API, continuing to extraction.\n",
      "Provisional Start: 2022-01-11T00:00:00\n",
      "Provisional End: 2022-11-07T00:00:00\n",
      "Data for chunk 1 of 2 extracted\n"
     ]
    },
    {
     "name": "stderr",
     "output_type": "stream",
     "text": [
      "C:\\Users\\Roman\\AppData\\Local\\Packages\\PythonSoftwareFoundation.Python.3.10_qbz5n2kfra8p0\\LocalCache\\local-packages\\Python310\\site-packages\\Historic_Crypto\\HistoricalData.py:176: FutureWarning: The frame.append method is deprecated and will be removed from pandas in a future version. Use pandas.concat instead.\n",
      "  data = data.append(dataset)\n"
     ]
    },
    {
     "name": "stdout",
     "output_type": "stream",
     "text": [
      "Provisional Start: 2022-11-07T00:00:00\n",
      "Provisional End: 2023-09-03T00:00:00\n",
      "Data for chunk 2 of 2 extracted\n",
      "Saved to C:\\Users\\Roman\\Desktop\\DMLS_project\\Crypto\\IDEX-USDT_diff.csv\n",
      "FIDA-EUR\n",
      "Checking input parameters are in the correct format.\n",
      "Formatting Dates.\n",
      "Checking if user supplied is available on the CoinBase Pro API.\n",
      "Connected to the CoinBase Pro API.\n",
      "Ticker 'FIDA-EUR' found at the CoinBase Pro API, continuing to extraction.\n",
      "Provisional Start: 2022-01-11T00:00:00\n",
      "Provisional End: 2022-11-07T00:00:00\n",
      "Data for chunk 1 of 2 extracted\n",
      "Provisional Start: 2022-11-07T00:00:00\n",
      "Provisional End: 2023-09-03T00:00:00\n"
     ]
    },
    {
     "name": "stderr",
     "output_type": "stream",
     "text": [
      "C:\\Users\\Roman\\AppData\\Local\\Packages\\PythonSoftwareFoundation.Python.3.10_qbz5n2kfra8p0\\LocalCache\\local-packages\\Python310\\site-packages\\Historic_Crypto\\HistoricalData.py:176: FutureWarning: The frame.append method is deprecated and will be removed from pandas in a future version. Use pandas.concat instead.\n",
      "  data = data.append(dataset)\n"
     ]
    },
    {
     "name": "stdout",
     "output_type": "stream",
     "text": [
      "Data for chunk 2 of 2 extracted\n",
      "Saved to C:\\Users\\Roman\\Desktop\\DMLS_project\\Crypto\\FIDA-EUR_diff.csv\n",
      "PAX-USD\n",
      "Checking input parameters are in the correct format.\n",
      "Formatting Dates.\n",
      "Checking if user supplied is available on the CoinBase Pro API.\n",
      "Connected to the CoinBase Pro API.\n",
      "Ticker 'PAX-USD' found at the CoinBase Pro API, continuing to extraction.\n",
      "Provisional Start: 2022-01-11T00:00:00\n",
      "Provisional End: 2022-11-07T00:00:00\n",
      "Data for chunk 1 of 2 extracted\n"
     ]
    },
    {
     "name": "stderr",
     "output_type": "stream",
     "text": [
      "C:\\Users\\Roman\\AppData\\Local\\Packages\\PythonSoftwareFoundation.Python.3.10_qbz5n2kfra8p0\\LocalCache\\local-packages\\Python310\\site-packages\\Historic_Crypto\\HistoricalData.py:176: FutureWarning: The frame.append method is deprecated and will be removed from pandas in a future version. Use pandas.concat instead.\n",
      "  data = data.append(dataset)\n"
     ]
    },
    {
     "name": "stdout",
     "output_type": "stream",
     "text": [
      "Provisional Start: 2022-11-07T00:00:00\n",
      "Provisional End: 2023-09-03T00:00:00\n",
      "Data for chunk 2 of 2 extracted\n",
      "Saved to C:\\Users\\Roman\\Desktop\\DMLS_project\\Crypto\\PAX-USD_diff.csv\n",
      "CRV-EUR\n",
      "Checking input parameters are in the correct format.\n",
      "Formatting Dates.\n",
      "Checking if user supplied is available on the CoinBase Pro API.\n",
      "Connected to the CoinBase Pro API.\n",
      "Ticker 'CRV-EUR' found at the CoinBase Pro API, continuing to extraction.\n",
      "Provisional Start: 2022-01-11T00:00:00\n",
      "Provisional End: 2022-11-07T00:00:00\n",
      "Data for chunk 1 of 2 extracted\n"
     ]
    },
    {
     "name": "stderr",
     "output_type": "stream",
     "text": [
      "C:\\Users\\Roman\\AppData\\Local\\Packages\\PythonSoftwareFoundation.Python.3.10_qbz5n2kfra8p0\\LocalCache\\local-packages\\Python310\\site-packages\\Historic_Crypto\\HistoricalData.py:176: FutureWarning: The frame.append method is deprecated and will be removed from pandas in a future version. Use pandas.concat instead.\n",
      "  data = data.append(dataset)\n"
     ]
    },
    {
     "name": "stdout",
     "output_type": "stream",
     "text": [
      "Provisional Start: 2022-11-07T00:00:00\n",
      "Provisional End: 2023-09-03T00:00:00\n",
      "Data for chunk 2 of 2 extracted\n",
      "Saved to C:\\Users\\Roman\\Desktop\\DMLS_project\\Crypto\\CRV-EUR_diff.csv\n",
      "TRB-BTC\n",
      "Checking input parameters are in the correct format.\n",
      "Formatting Dates.\n",
      "Checking if user supplied is available on the CoinBase Pro API.\n",
      "Connected to the CoinBase Pro API.\n",
      "Ticker 'TRB-BTC' found at the CoinBase Pro API, continuing to extraction.\n",
      "Provisional Start: 2022-01-11T00:00:00\n",
      "Provisional End: 2022-11-07T00:00:00\n",
      "Data for chunk 1 of 2 extracted\n"
     ]
    },
    {
     "name": "stderr",
     "output_type": "stream",
     "text": [
      "C:\\Users\\Roman\\AppData\\Local\\Packages\\PythonSoftwareFoundation.Python.3.10_qbz5n2kfra8p0\\LocalCache\\local-packages\\Python310\\site-packages\\Historic_Crypto\\HistoricalData.py:176: FutureWarning: The frame.append method is deprecated and will be removed from pandas in a future version. Use pandas.concat instead.\n",
      "  data = data.append(dataset)\n"
     ]
    },
    {
     "name": "stdout",
     "output_type": "stream",
     "text": [
      "Provisional Start: 2022-11-07T00:00:00\n",
      "Provisional End: 2023-09-03T00:00:00\n",
      "Data for chunk 2 of 2 extracted\n",
      "Saved to C:\\Users\\Roman\\Desktop\\DMLS_project\\Crypto\\TRB-BTC_diff.csv\n",
      "ANKR-EUR\n",
      "Checking input parameters are in the correct format.\n",
      "Formatting Dates.\n",
      "Checking if user supplied is available on the CoinBase Pro API.\n",
      "Connected to the CoinBase Pro API.\n",
      "Ticker 'ANKR-EUR' found at the CoinBase Pro API, continuing to extraction.\n",
      "Provisional Start: 2022-01-11T00:00:00\n",
      "Provisional End: 2022-11-07T00:00:00\n",
      "Data for chunk 1 of 2 extracted\n"
     ]
    },
    {
     "name": "stderr",
     "output_type": "stream",
     "text": [
      "C:\\Users\\Roman\\AppData\\Local\\Packages\\PythonSoftwareFoundation.Python.3.10_qbz5n2kfra8p0\\LocalCache\\local-packages\\Python310\\site-packages\\Historic_Crypto\\HistoricalData.py:176: FutureWarning: The frame.append method is deprecated and will be removed from pandas in a future version. Use pandas.concat instead.\n",
      "  data = data.append(dataset)\n"
     ]
    },
    {
     "name": "stdout",
     "output_type": "stream",
     "text": [
      "Provisional Start: 2022-11-07T00:00:00\n",
      "Provisional End: 2023-09-03T00:00:00\n",
      "Data for chunk 2 of 2 extracted\n",
      "Saved to C:\\Users\\Roman\\Desktop\\DMLS_project\\Crypto\\ANKR-EUR_diff.csv\n",
      "SOL-GBP\n",
      "Checking input parameters are in the correct format.\n",
      "Formatting Dates.\n",
      "Checking if user supplied is available on the CoinBase Pro API.\n",
      "Connected to the CoinBase Pro API.\n",
      "Ticker 'SOL-GBP' found at the CoinBase Pro API, continuing to extraction.\n",
      "Provisional Start: 2022-01-11T00:00:00\n",
      "Provisional End: 2022-11-07T00:00:00\n",
      "Data for chunk 1 of 2 extracted\n",
      "Provisional Start: 2022-11-07T00:00:00\n",
      "Provisional End: 2023-09-03T00:00:00\n"
     ]
    },
    {
     "name": "stderr",
     "output_type": "stream",
     "text": [
      "C:\\Users\\Roman\\AppData\\Local\\Packages\\PythonSoftwareFoundation.Python.3.10_qbz5n2kfra8p0\\LocalCache\\local-packages\\Python310\\site-packages\\Historic_Crypto\\HistoricalData.py:176: FutureWarning: The frame.append method is deprecated and will be removed from pandas in a future version. Use pandas.concat instead.\n",
      "  data = data.append(dataset)\n"
     ]
    },
    {
     "name": "stdout",
     "output_type": "stream",
     "text": [
      "Data for chunk 2 of 2 extracted\n",
      "Saved to C:\\Users\\Roman\\Desktop\\DMLS_project\\Crypto\\SOL-GBP_diff.csv\n",
      "EOS-BTC\n",
      "Checking input parameters are in the correct format.\n",
      "Formatting Dates.\n",
      "Checking if user supplied is available on the CoinBase Pro API.\n",
      "Connected to the CoinBase Pro API.\n",
      "Ticker 'EOS-BTC' found at the CoinBase Pro API, continuing to extraction.\n",
      "Provisional Start: 2022-01-11T00:00:00\n",
      "Provisional End: 2022-11-07T00:00:00\n",
      "Data for chunk 1 of 2 extracted\n"
     ]
    },
    {
     "name": "stderr",
     "output_type": "stream",
     "text": [
      "C:\\Users\\Roman\\AppData\\Local\\Packages\\PythonSoftwareFoundation.Python.3.10_qbz5n2kfra8p0\\LocalCache\\local-packages\\Python310\\site-packages\\Historic_Crypto\\HistoricalData.py:176: FutureWarning: The frame.append method is deprecated and will be removed from pandas in a future version. Use pandas.concat instead.\n",
      "  data = data.append(dataset)\n"
     ]
    },
    {
     "name": "stdout",
     "output_type": "stream",
     "text": [
      "Provisional Start: 2022-11-07T00:00:00\n",
      "Provisional End: 2023-09-03T00:00:00\n",
      "Data for chunk 2 of 2 extracted\n",
      "Saved to C:\\Users\\Roman\\Desktop\\DMLS_project\\Crypto\\EOS-BTC_diff.csv\n",
      "MNDE-USD\n",
      "Checking input parameters are in the correct format.\n",
      "Formatting Dates.\n",
      "Checking if user supplied is available on the CoinBase Pro API.\n",
      "Connected to the CoinBase Pro API.\n",
      "Ticker 'MNDE-USD' found at the CoinBase Pro API, continuing to extraction.\n",
      "Provisional Start: 2022-01-11T00:00:00\n",
      "Provisional End: 2022-11-07T00:00:00\n",
      "Data for chunk 1 of 2 extracted\n"
     ]
    },
    {
     "name": "stderr",
     "output_type": "stream",
     "text": [
      "C:\\Users\\Roman\\AppData\\Local\\Packages\\PythonSoftwareFoundation.Python.3.10_qbz5n2kfra8p0\\LocalCache\\local-packages\\Python310\\site-packages\\Historic_Crypto\\HistoricalData.py:176: FutureWarning: The frame.append method is deprecated and will be removed from pandas in a future version. Use pandas.concat instead.\n",
      "  data = data.append(dataset)\n"
     ]
    },
    {
     "name": "stdout",
     "output_type": "stream",
     "text": [
      "Provisional Start: 2022-11-07T00:00:00\n",
      "Provisional End: 2023-09-03T00:00:00\n",
      "Data for chunk 2 of 2 extracted\n",
      "Saved to C:\\Users\\Roman\\Desktop\\DMLS_project\\Crypto\\MNDE-USD_diff.csv\n",
      "AAVE-BTC\n",
      "Checking input parameters are in the correct format.\n",
      "Formatting Dates.\n",
      "Checking if user supplied is available on the CoinBase Pro API.\n",
      "Connected to the CoinBase Pro API.\n",
      "Ticker 'AAVE-BTC' found at the CoinBase Pro API, continuing to extraction.\n",
      "Provisional Start: 2022-01-11T00:00:00\n",
      "Provisional End: 2022-11-07T00:00:00\n",
      "Data for chunk 1 of 2 extracted\n"
     ]
    },
    {
     "name": "stderr",
     "output_type": "stream",
     "text": [
      "C:\\Users\\Roman\\AppData\\Local\\Packages\\PythonSoftwareFoundation.Python.3.10_qbz5n2kfra8p0\\LocalCache\\local-packages\\Python310\\site-packages\\Historic_Crypto\\HistoricalData.py:176: FutureWarning: The frame.append method is deprecated and will be removed from pandas in a future version. Use pandas.concat instead.\n",
      "  data = data.append(dataset)\n"
     ]
    },
    {
     "name": "stdout",
     "output_type": "stream",
     "text": [
      "Provisional Start: 2022-11-07T00:00:00\n",
      "Provisional End: 2023-09-03T00:00:00\n",
      "Data for chunk 2 of 2 extracted\n",
      "Saved to C:\\Users\\Roman\\Desktop\\DMLS_project\\Crypto\\AAVE-BTC_diff.csv\n",
      "1INCH-USD\n",
      "Checking input parameters are in the correct format.\n",
      "Formatting Dates.\n",
      "Checking if user supplied is available on the CoinBase Pro API.\n",
      "Connected to the CoinBase Pro API.\n",
      "Ticker '1INCH-USD' found at the CoinBase Pro API, continuing to extraction.\n",
      "Provisional Start: 2022-01-11T00:00:00\n",
      "Provisional End: 2022-11-07T00:00:00\n",
      "Data for chunk 1 of 2 extracted\n",
      "Provisional Start: 2022-11-07T00:00:00\n",
      "Provisional End: 2023-09-03T00:00:00\n"
     ]
    },
    {
     "name": "stderr",
     "output_type": "stream",
     "text": [
      "C:\\Users\\Roman\\AppData\\Local\\Packages\\PythonSoftwareFoundation.Python.3.10_qbz5n2kfra8p0\\LocalCache\\local-packages\\Python310\\site-packages\\Historic_Crypto\\HistoricalData.py:176: FutureWarning: The frame.append method is deprecated and will be removed from pandas in a future version. Use pandas.concat instead.\n",
      "  data = data.append(dataset)\n"
     ]
    },
    {
     "name": "stdout",
     "output_type": "stream",
     "text": [
      "Data for chunk 2 of 2 extracted\n",
      "Saved to C:\\Users\\Roman\\Desktop\\DMLS_project\\Crypto\\1INCH-USD_diff.csv\n",
      "POLS-USDT\n",
      "Checking input parameters are in the correct format.\n",
      "Formatting Dates.\n",
      "Checking if user supplied is available on the CoinBase Pro API.\n",
      "Connected to the CoinBase Pro API.\n",
      "Ticker 'POLS-USDT' found at the CoinBase Pro API, continuing to extraction.\n",
      "Provisional Start: 2022-01-11T00:00:00\n",
      "Provisional End: 2022-11-07T00:00:00\n",
      "Data for chunk 1 of 2 extracted\n"
     ]
    },
    {
     "name": "stderr",
     "output_type": "stream",
     "text": [
      "C:\\Users\\Roman\\AppData\\Local\\Packages\\PythonSoftwareFoundation.Python.3.10_qbz5n2kfra8p0\\LocalCache\\local-packages\\Python310\\site-packages\\Historic_Crypto\\HistoricalData.py:176: FutureWarning: The frame.append method is deprecated and will be removed from pandas in a future version. Use pandas.concat instead.\n",
      "  data = data.append(dataset)\n"
     ]
    },
    {
     "name": "stdout",
     "output_type": "stream",
     "text": [
      "Provisional Start: 2022-11-07T00:00:00\n",
      "Provisional End: 2023-09-03T00:00:00\n",
      "Data for chunk 2 of 2 extracted\n",
      "Saved to C:\\Users\\Roman\\Desktop\\DMLS_project\\Crypto\\POLS-USDT_diff.csv\n",
      "OP-USDT\n",
      "Checking input parameters are in the correct format.\n",
      "Formatting Dates.\n",
      "Checking if user supplied is available on the CoinBase Pro API.\n",
      "Connected to the CoinBase Pro API.\n",
      "Ticker 'OP-USDT' found at the CoinBase Pro API, continuing to extraction.\n",
      "Provisional Start: 2022-01-11T00:00:00\n",
      "Provisional End: 2022-11-07T00:00:00\n",
      "Data for chunk 1 of 2 extracted\n",
      "Provisional Start: 2022-11-07T00:00:00\n",
      "Provisional End: 2023-09-03T00:00:00\n"
     ]
    },
    {
     "name": "stderr",
     "output_type": "stream",
     "text": [
      "C:\\Users\\Roman\\AppData\\Local\\Packages\\PythonSoftwareFoundation.Python.3.10_qbz5n2kfra8p0\\LocalCache\\local-packages\\Python310\\site-packages\\Historic_Crypto\\HistoricalData.py:176: FutureWarning: The frame.append method is deprecated and will be removed from pandas in a future version. Use pandas.concat instead.\n",
      "  data = data.append(dataset)\n"
     ]
    },
    {
     "name": "stdout",
     "output_type": "stream",
     "text": [
      "Data for chunk 2 of 2 extracted\n",
      "Saved to C:\\Users\\Roman\\Desktop\\DMLS_project\\Crypto\\OP-USDT_diff.csv\n",
      "MEDIA-USD\n",
      "Checking input parameters are in the correct format.\n",
      "Formatting Dates.\n",
      "Checking if user supplied is available on the CoinBase Pro API.\n",
      "Connected to the CoinBase Pro API.\n",
      "Ticker 'MEDIA-USD' found at the CoinBase Pro API, continuing to extraction.\n",
      "Provisional Start: 2022-01-11T00:00:00\n",
      "Provisional End: 2022-11-07T00:00:00\n",
      "Data for chunk 1 of 2 extracted\n"
     ]
    },
    {
     "name": "stderr",
     "output_type": "stream",
     "text": [
      "C:\\Users\\Roman\\AppData\\Local\\Packages\\PythonSoftwareFoundation.Python.3.10_qbz5n2kfra8p0\\LocalCache\\local-packages\\Python310\\site-packages\\Historic_Crypto\\HistoricalData.py:176: FutureWarning: The frame.append method is deprecated and will be removed from pandas in a future version. Use pandas.concat instead.\n",
      "  data = data.append(dataset)\n"
     ]
    },
    {
     "name": "stdout",
     "output_type": "stream",
     "text": [
      "Provisional Start: 2022-11-07T00:00:00\n",
      "Provisional End: 2023-09-03T00:00:00\n",
      "Data for chunk 2 of 2 extracted\n",
      "Saved to C:\\Users\\Roman\\Desktop\\DMLS_project\\Crypto\\MEDIA-USD_diff.csv\n",
      "RLY-USD\n",
      "Checking input parameters are in the correct format.\n",
      "Formatting Dates.\n",
      "Checking if user supplied is available on the CoinBase Pro API.\n",
      "Connected to the CoinBase Pro API.\n",
      "Ticker 'RLY-USD' found at the CoinBase Pro API, continuing to extraction.\n",
      "Provisional Start: 2022-01-11T00:00:00\n",
      "Provisional End: 2022-11-07T00:00:00\n",
      "Data for chunk 1 of 2 extracted\n"
     ]
    },
    {
     "name": "stderr",
     "output_type": "stream",
     "text": [
      "C:\\Users\\Roman\\AppData\\Local\\Packages\\PythonSoftwareFoundation.Python.3.10_qbz5n2kfra8p0\\LocalCache\\local-packages\\Python310\\site-packages\\Historic_Crypto\\HistoricalData.py:176: FutureWarning: The frame.append method is deprecated and will be removed from pandas in a future version. Use pandas.concat instead.\n",
      "  data = data.append(dataset)\n"
     ]
    },
    {
     "name": "stdout",
     "output_type": "stream",
     "text": [
      "Provisional Start: 2022-11-07T00:00:00\n",
      "Provisional End: 2023-09-03T00:00:00\n",
      "Data for chunk 2 of 2 extracted\n",
      "Saved to C:\\Users\\Roman\\Desktop\\DMLS_project\\Crypto\\RLY-USD_diff.csv\n",
      "SNX-GBP\n",
      "Checking input parameters are in the correct format.\n",
      "Formatting Dates.\n",
      "Checking if user supplied is available on the CoinBase Pro API.\n",
      "Connected to the CoinBase Pro API.\n",
      "Ticker 'SNX-GBP' found at the CoinBase Pro API, continuing to extraction.\n",
      "Provisional Start: 2022-01-11T00:00:00\n",
      "Provisional End: 2022-11-07T00:00:00\n",
      "Data for chunk 1 of 2 extracted\n"
     ]
    },
    {
     "name": "stderr",
     "output_type": "stream",
     "text": [
      "C:\\Users\\Roman\\AppData\\Local\\Packages\\PythonSoftwareFoundation.Python.3.10_qbz5n2kfra8p0\\LocalCache\\local-packages\\Python310\\site-packages\\Historic_Crypto\\HistoricalData.py:176: FutureWarning: The frame.append method is deprecated and will be removed from pandas in a future version. Use pandas.concat instead.\n",
      "  data = data.append(dataset)\n"
     ]
    },
    {
     "name": "stdout",
     "output_type": "stream",
     "text": [
      "Provisional Start: 2022-11-07T00:00:00\n",
      "Provisional End: 2023-09-03T00:00:00\n",
      "Data for chunk 2 of 2 extracted\n",
      "Saved to C:\\Users\\Roman\\Desktop\\DMLS_project\\Crypto\\SNX-GBP_diff.csv\n",
      "LTC-EUR\n",
      "Checking input parameters are in the correct format.\n",
      "Formatting Dates.\n",
      "Checking if user supplied is available on the CoinBase Pro API.\n",
      "Connected to the CoinBase Pro API.\n",
      "Ticker 'LTC-EUR' found at the CoinBase Pro API, continuing to extraction.\n",
      "Provisional Start: 2022-01-11T00:00:00\n",
      "Provisional End: 2022-11-07T00:00:00\n",
      "Data for chunk 1 of 2 extracted\n"
     ]
    },
    {
     "name": "stderr",
     "output_type": "stream",
     "text": [
      "C:\\Users\\Roman\\AppData\\Local\\Packages\\PythonSoftwareFoundation.Python.3.10_qbz5n2kfra8p0\\LocalCache\\local-packages\\Python310\\site-packages\\Historic_Crypto\\HistoricalData.py:176: FutureWarning: The frame.append method is deprecated and will be removed from pandas in a future version. Use pandas.concat instead.\n",
      "  data = data.append(dataset)\n"
     ]
    },
    {
     "name": "stdout",
     "output_type": "stream",
     "text": [
      "Provisional Start: 2022-11-07T00:00:00\n",
      "Provisional End: 2023-09-03T00:00:00\n",
      "Data for chunk 2 of 2 extracted\n",
      "Saved to C:\\Users\\Roman\\Desktop\\DMLS_project\\Crypto\\LTC-EUR_diff.csv\n",
      "QNT-USDT\n",
      "Checking input parameters are in the correct format.\n",
      "Formatting Dates.\n",
      "Checking if user supplied is available on the CoinBase Pro API.\n",
      "Connected to the CoinBase Pro API.\n",
      "Ticker 'QNT-USDT' found at the CoinBase Pro API, continuing to extraction.\n",
      "Provisional Start: 2022-01-11T00:00:00\n",
      "Provisional End: 2022-11-07T00:00:00\n",
      "Data for chunk 1 of 2 extracted\n"
     ]
    },
    {
     "name": "stderr",
     "output_type": "stream",
     "text": [
      "C:\\Users\\Roman\\AppData\\Local\\Packages\\PythonSoftwareFoundation.Python.3.10_qbz5n2kfra8p0\\LocalCache\\local-packages\\Python310\\site-packages\\Historic_Crypto\\HistoricalData.py:176: FutureWarning: The frame.append method is deprecated and will be removed from pandas in a future version. Use pandas.concat instead.\n",
      "  data = data.append(dataset)\n"
     ]
    },
    {
     "name": "stdout",
     "output_type": "stream",
     "text": [
      "Provisional Start: 2022-11-07T00:00:00\n",
      "Provisional End: 2023-09-03T00:00:00\n",
      "Data for chunk 2 of 2 extracted\n",
      "Saved to C:\\Users\\Roman\\Desktop\\DMLS_project\\Crypto\\QNT-USDT_diff.csv\n",
      "COMP-USD\n",
      "Checking input parameters are in the correct format.\n",
      "Formatting Dates.\n",
      "Checking if user supplied is available on the CoinBase Pro API.\n",
      "Connected to the CoinBase Pro API.\n",
      "Ticker 'COMP-USD' found at the CoinBase Pro API, continuing to extraction.\n",
      "Provisional Start: 2022-01-11T00:00:00\n",
      "Provisional End: 2022-11-07T00:00:00\n",
      "Data for chunk 1 of 2 extracted\n"
     ]
    },
    {
     "name": "stderr",
     "output_type": "stream",
     "text": [
      "C:\\Users\\Roman\\AppData\\Local\\Packages\\PythonSoftwareFoundation.Python.3.10_qbz5n2kfra8p0\\LocalCache\\local-packages\\Python310\\site-packages\\Historic_Crypto\\HistoricalData.py:176: FutureWarning: The frame.append method is deprecated and will be removed from pandas in a future version. Use pandas.concat instead.\n",
      "  data = data.append(dataset)\n"
     ]
    },
    {
     "name": "stdout",
     "output_type": "stream",
     "text": [
      "Provisional Start: 2022-11-07T00:00:00\n",
      "Provisional End: 2023-09-03T00:00:00\n",
      "Data for chunk 2 of 2 extracted\n",
      "Saved to C:\\Users\\Roman\\Desktop\\DMLS_project\\Crypto\\COMP-USD_diff.csv\n",
      "POND-USD\n",
      "Checking input parameters are in the correct format.\n",
      "Formatting Dates.\n",
      "Checking if user supplied is available on the CoinBase Pro API.\n",
      "Connected to the CoinBase Pro API.\n",
      "Ticker 'POND-USD' found at the CoinBase Pro API, continuing to extraction.\n",
      "Provisional Start: 2022-01-11T00:00:00\n",
      "Provisional End: 2022-11-07T00:00:00\n",
      "Data for chunk 1 of 2 extracted\n",
      "Provisional Start: 2022-11-07T00:00:00\n",
      "Provisional End: 2023-09-03T00:00:00\n"
     ]
    },
    {
     "name": "stderr",
     "output_type": "stream",
     "text": [
      "C:\\Users\\Roman\\AppData\\Local\\Packages\\PythonSoftwareFoundation.Python.3.10_qbz5n2kfra8p0\\LocalCache\\local-packages\\Python310\\site-packages\\Historic_Crypto\\HistoricalData.py:176: FutureWarning: The frame.append method is deprecated and will be removed from pandas in a future version. Use pandas.concat instead.\n",
      "  data = data.append(dataset)\n"
     ]
    },
    {
     "name": "stdout",
     "output_type": "stream",
     "text": [
      "Data for chunk 2 of 2 extracted\n",
      "Saved to C:\\Users\\Roman\\Desktop\\DMLS_project\\Crypto\\POND-USD_diff.csv\n",
      "WAMPL-USDT\n",
      "Checking input parameters are in the correct format.\n",
      "Formatting Dates.\n",
      "Checking if user supplied is available on the CoinBase Pro API.\n",
      "Connected to the CoinBase Pro API.\n",
      "Ticker 'WAMPL-USDT' found at the CoinBase Pro API, continuing to extraction.\n",
      "Provisional Start: 2022-01-11T00:00:00\n",
      "Provisional End: 2022-11-07T00:00:00\n",
      "Data for chunk 1 of 2 extracted\n",
      "Provisional Start: 2022-11-07T00:00:00\n",
      "Provisional End: 2023-09-03T00:00:00\n",
      "Data for chunk 2 of 2 extracted\n"
     ]
    },
    {
     "name": "stderr",
     "output_type": "stream",
     "text": [
      "C:\\Users\\Roman\\AppData\\Local\\Packages\\PythonSoftwareFoundation.Python.3.10_qbz5n2kfra8p0\\LocalCache\\local-packages\\Python310\\site-packages\\Historic_Crypto\\HistoricalData.py:176: FutureWarning: The frame.append method is deprecated and will be removed from pandas in a future version. Use pandas.concat instead.\n",
      "  data = data.append(dataset)\n"
     ]
    },
    {
     "name": "stdout",
     "output_type": "stream",
     "text": [
      "Saved to C:\\Users\\Roman\\Desktop\\DMLS_project\\Crypto\\WAMPL-USDT_diff.csv\n",
      "AGLD-USD\n",
      "Checking input parameters are in the correct format.\n",
      "Formatting Dates.\n",
      "Checking if user supplied is available on the CoinBase Pro API.\n",
      "Connected to the CoinBase Pro API.\n",
      "Ticker 'AGLD-USD' found at the CoinBase Pro API, continuing to extraction.\n",
      "Provisional Start: 2022-01-11T00:00:00\n",
      "Provisional End: 2022-11-07T00:00:00\n",
      "Data for chunk 1 of 2 extracted\n",
      "Provisional Start: 2022-11-07T00:00:00\n",
      "Provisional End: 2023-09-03T00:00:00\n"
     ]
    },
    {
     "name": "stderr",
     "output_type": "stream",
     "text": [
      "C:\\Users\\Roman\\AppData\\Local\\Packages\\PythonSoftwareFoundation.Python.3.10_qbz5n2kfra8p0\\LocalCache\\local-packages\\Python310\\site-packages\\Historic_Crypto\\HistoricalData.py:176: FutureWarning: The frame.append method is deprecated and will be removed from pandas in a future version. Use pandas.concat instead.\n",
      "  data = data.append(dataset)\n"
     ]
    },
    {
     "name": "stdout",
     "output_type": "stream",
     "text": [
      "Data for chunk 2 of 2 extracted\n",
      "Saved to C:\\Users\\Roman\\Desktop\\DMLS_project\\Crypto\\AGLD-USD_diff.csv\n",
      "ALICE-USD\n",
      "Checking input parameters are in the correct format.\n",
      "Formatting Dates.\n",
      "Checking if user supplied is available on the CoinBase Pro API.\n",
      "Connected to the CoinBase Pro API.\n",
      "Ticker 'ALICE-USD' found at the CoinBase Pro API, continuing to extraction.\n",
      "Provisional Start: 2022-01-11T00:00:00\n",
      "Provisional End: 2022-11-07T00:00:00\n",
      "Data for chunk 1 of 2 extracted\n"
     ]
    },
    {
     "name": "stderr",
     "output_type": "stream",
     "text": [
      "C:\\Users\\Roman\\AppData\\Local\\Packages\\PythonSoftwareFoundation.Python.3.10_qbz5n2kfra8p0\\LocalCache\\local-packages\\Python310\\site-packages\\Historic_Crypto\\HistoricalData.py:176: FutureWarning: The frame.append method is deprecated and will be removed from pandas in a future version. Use pandas.concat instead.\n",
      "  data = data.append(dataset)\n"
     ]
    },
    {
     "name": "stdout",
     "output_type": "stream",
     "text": [
      "Provisional Start: 2022-11-07T00:00:00\n",
      "Provisional End: 2023-09-03T00:00:00\n",
      "Data for chunk 2 of 2 extracted\n",
      "Saved to C:\\Users\\Roman\\Desktop\\DMLS_project\\Crypto\\ALICE-USD_diff.csv\n",
      "AXS-USDT\n",
      "Checking input parameters are in the correct format.\n",
      "Formatting Dates.\n",
      "Checking if user supplied is available on the CoinBase Pro API.\n",
      "Connected to the CoinBase Pro API.\n",
      "Ticker 'AXS-USDT' found at the CoinBase Pro API, continuing to extraction.\n",
      "Provisional Start: 2022-01-11T00:00:00\n",
      "Provisional End: 2022-11-07T00:00:00\n",
      "Data for chunk 1 of 2 extracted\n"
     ]
    },
    {
     "name": "stderr",
     "output_type": "stream",
     "text": [
      "C:\\Users\\Roman\\AppData\\Local\\Packages\\PythonSoftwareFoundation.Python.3.10_qbz5n2kfra8p0\\LocalCache\\local-packages\\Python310\\site-packages\\Historic_Crypto\\HistoricalData.py:176: FutureWarning: The frame.append method is deprecated and will be removed from pandas in a future version. Use pandas.concat instead.\n",
      "  data = data.append(dataset)\n"
     ]
    },
    {
     "name": "stdout",
     "output_type": "stream",
     "text": [
      "Provisional Start: 2022-11-07T00:00:00\n",
      "Provisional End: 2023-09-03T00:00:00\n",
      "Data for chunk 2 of 2 extracted\n",
      "Saved to C:\\Users\\Roman\\Desktop\\DMLS_project\\Crypto\\AXS-USDT_diff.csv\n",
      "METIS-USDT\n",
      "Checking input parameters are in the correct format.\n",
      "Formatting Dates.\n",
      "Checking if user supplied is available on the CoinBase Pro API.\n",
      "Connected to the CoinBase Pro API.\n",
      "Ticker 'METIS-USDT' found at the CoinBase Pro API, continuing to extraction.\n",
      "Provisional Start: 2022-01-11T00:00:00\n",
      "Provisional End: 2022-11-07T00:00:00\n",
      "Data for chunk 1 of 2 extracted\n"
     ]
    },
    {
     "name": "stderr",
     "output_type": "stream",
     "text": [
      "C:\\Users\\Roman\\AppData\\Local\\Packages\\PythonSoftwareFoundation.Python.3.10_qbz5n2kfra8p0\\LocalCache\\local-packages\\Python310\\site-packages\\Historic_Crypto\\HistoricalData.py:176: FutureWarning: The frame.append method is deprecated and will be removed from pandas in a future version. Use pandas.concat instead.\n",
      "  data = data.append(dataset)\n"
     ]
    },
    {
     "name": "stdout",
     "output_type": "stream",
     "text": [
      "Provisional Start: 2022-11-07T00:00:00\n",
      "Provisional End: 2023-09-03T00:00:00\n",
      "Data for chunk 2 of 2 extracted\n",
      "Saved to C:\\Users\\Roman\\Desktop\\DMLS_project\\Crypto\\METIS-USDT_diff.csv\n",
      "BADGER-EUR\n",
      "Checking input parameters are in the correct format.\n",
      "Formatting Dates.\n",
      "Checking if user supplied is available on the CoinBase Pro API.\n",
      "Connected to the CoinBase Pro API.\n",
      "Ticker 'BADGER-EUR' found at the CoinBase Pro API, continuing to extraction.\n",
      "Provisional Start: 2022-01-11T00:00:00\n",
      "Provisional End: 2022-11-07T00:00:00\n",
      "Data for chunk 1 of 2 extracted\n"
     ]
    },
    {
     "name": "stderr",
     "output_type": "stream",
     "text": [
      "C:\\Users\\Roman\\AppData\\Local\\Packages\\PythonSoftwareFoundation.Python.3.10_qbz5n2kfra8p0\\LocalCache\\local-packages\\Python310\\site-packages\\Historic_Crypto\\HistoricalData.py:176: FutureWarning: The frame.append method is deprecated and will be removed from pandas in a future version. Use pandas.concat instead.\n",
      "  data = data.append(dataset)\n"
     ]
    },
    {
     "name": "stdout",
     "output_type": "stream",
     "text": [
      "Provisional Start: 2022-11-07T00:00:00\n",
      "Provisional End: 2023-09-03T00:00:00\n",
      "Data for chunk 2 of 2 extracted\n",
      "Saved to C:\\Users\\Roman\\Desktop\\DMLS_project\\Crypto\\BADGER-EUR_diff.csv\n",
      "USDC-EUR\n",
      "Checking input parameters are in the correct format.\n",
      "Formatting Dates.\n",
      "Checking if user supplied is available on the CoinBase Pro API.\n",
      "Connected to the CoinBase Pro API.\n",
      "Ticker 'USDC-EUR' found at the CoinBase Pro API, continuing to extraction.\n",
      "Provisional Start: 2022-01-11T00:00:00\n",
      "Provisional End: 2022-11-07T00:00:00\n",
      "Data for chunk 1 of 2 extracted\n",
      "Provisional Start: 2022-11-07T00:00:00\n",
      "Provisional End: 2023-09-03T00:00:00\n"
     ]
    },
    {
     "name": "stderr",
     "output_type": "stream",
     "text": [
      "C:\\Users\\Roman\\AppData\\Local\\Packages\\PythonSoftwareFoundation.Python.3.10_qbz5n2kfra8p0\\LocalCache\\local-packages\\Python310\\site-packages\\Historic_Crypto\\HistoricalData.py:176: FutureWarning: The frame.append method is deprecated and will be removed from pandas in a future version. Use pandas.concat instead.\n",
      "  data = data.append(dataset)\n"
     ]
    },
    {
     "name": "stdout",
     "output_type": "stream",
     "text": [
      "Data for chunk 2 of 2 extracted\n",
      "Saved to C:\\Users\\Roman\\Desktop\\DMLS_project\\Crypto\\USDC-EUR_diff.csv\n",
      "XTZ-GBP\n",
      "Checking input parameters are in the correct format.\n",
      "Formatting Dates.\n",
      "Checking if user supplied is available on the CoinBase Pro API.\n",
      "Connected to the CoinBase Pro API.\n",
      "Ticker 'XTZ-GBP' found at the CoinBase Pro API, continuing to extraction.\n",
      "Provisional Start: 2022-01-11T00:00:00\n",
      "Provisional End: 2022-11-07T00:00:00\n",
      "Data for chunk 1 of 2 extracted\n"
     ]
    },
    {
     "name": "stderr",
     "output_type": "stream",
     "text": [
      "C:\\Users\\Roman\\AppData\\Local\\Packages\\PythonSoftwareFoundation.Python.3.10_qbz5n2kfra8p0\\LocalCache\\local-packages\\Python310\\site-packages\\Historic_Crypto\\HistoricalData.py:176: FutureWarning: The frame.append method is deprecated and will be removed from pandas in a future version. Use pandas.concat instead.\n",
      "  data = data.append(dataset)\n"
     ]
    },
    {
     "name": "stdout",
     "output_type": "stream",
     "text": [
      "Provisional Start: 2022-11-07T00:00:00\n",
      "Provisional End: 2023-09-03T00:00:00\n",
      "Data for chunk 2 of 2 extracted\n",
      "Saved to C:\\Users\\Roman\\Desktop\\DMLS_project\\Crypto\\XTZ-GBP_diff.csv\n",
      "ETH-EUR\n",
      "Checking input parameters are in the correct format.\n",
      "Formatting Dates.\n",
      "Checking if user supplied is available on the CoinBase Pro API.\n",
      "Connected to the CoinBase Pro API.\n",
      "Ticker 'ETH-EUR' found at the CoinBase Pro API, continuing to extraction.\n",
      "Provisional Start: 2022-01-11T00:00:00\n",
      "Provisional End: 2022-11-07T00:00:00\n",
      "Data for chunk 1 of 2 extracted\n",
      "Provisional Start: 2022-11-07T00:00:00\n",
      "Provisional End: 2023-09-03T00:00:00\n"
     ]
    },
    {
     "name": "stderr",
     "output_type": "stream",
     "text": [
      "C:\\Users\\Roman\\AppData\\Local\\Packages\\PythonSoftwareFoundation.Python.3.10_qbz5n2kfra8p0\\LocalCache\\local-packages\\Python310\\site-packages\\Historic_Crypto\\HistoricalData.py:176: FutureWarning: The frame.append method is deprecated and will be removed from pandas in a future version. Use pandas.concat instead.\n",
      "  data = data.append(dataset)\n"
     ]
    },
    {
     "name": "stdout",
     "output_type": "stream",
     "text": [
      "Data for chunk 2 of 2 extracted\n",
      "Saved to C:\\Users\\Roman\\Desktop\\DMLS_project\\Crypto\\ETH-EUR_diff.csv\n",
      "LTC-USD\n",
      "Checking input parameters are in the correct format.\n",
      "Formatting Dates.\n",
      "Checking if user supplied is available on the CoinBase Pro API.\n",
      "Connected to the CoinBase Pro API.\n",
      "Ticker 'LTC-USD' found at the CoinBase Pro API, continuing to extraction.\n",
      "Provisional Start: 2022-01-11T00:00:00\n",
      "Provisional End: 2022-11-07T00:00:00\n",
      "Data for chunk 1 of 2 extracted\n"
     ]
    },
    {
     "name": "stderr",
     "output_type": "stream",
     "text": [
      "C:\\Users\\Roman\\AppData\\Local\\Packages\\PythonSoftwareFoundation.Python.3.10_qbz5n2kfra8p0\\LocalCache\\local-packages\\Python310\\site-packages\\Historic_Crypto\\HistoricalData.py:176: FutureWarning: The frame.append method is deprecated and will be removed from pandas in a future version. Use pandas.concat instead.\n",
      "  data = data.append(dataset)\n"
     ]
    },
    {
     "name": "stdout",
     "output_type": "stream",
     "text": [
      "Provisional Start: 2022-11-07T00:00:00\n",
      "Provisional End: 2023-09-03T00:00:00\n",
      "Data for chunk 2 of 2 extracted\n",
      "Saved to C:\\Users\\Roman\\Desktop\\DMLS_project\\Crypto\\LTC-USD_diff.csv\n",
      "REP-USD\n",
      "Checking input parameters are in the correct format.\n",
      "Formatting Dates.\n",
      "Checking if user supplied is available on the CoinBase Pro API.\n",
      "Connected to the CoinBase Pro API.\n",
      "Ticker 'REP-USD' found at the CoinBase Pro API, continuing to extraction.\n",
      "Provisional Start: 2022-01-11T00:00:00\n",
      "Provisional End: 2022-11-07T00:00:00\n",
      "Data for chunk 1 of 2 extracted\n",
      "Provisional Start: 2022-11-07T00:00:00\n",
      "Provisional End: 2023-09-03T00:00:00\n"
     ]
    },
    {
     "name": "stderr",
     "output_type": "stream",
     "text": [
      "C:\\Users\\Roman\\AppData\\Local\\Packages\\PythonSoftwareFoundation.Python.3.10_qbz5n2kfra8p0\\LocalCache\\local-packages\\Python310\\site-packages\\Historic_Crypto\\HistoricalData.py:176: FutureWarning: The frame.append method is deprecated and will be removed from pandas in a future version. Use pandas.concat instead.\n",
      "  data = data.append(dataset)\n"
     ]
    },
    {
     "name": "stdout",
     "output_type": "stream",
     "text": [
      "Data for chunk 2 of 2 extracted\n",
      "Saved to C:\\Users\\Roman\\Desktop\\DMLS_project\\Crypto\\REP-USD_diff.csv\n",
      "CRO-EUR\n",
      "Checking input parameters are in the correct format.\n",
      "Formatting Dates.\n",
      "Checking if user supplied is available on the CoinBase Pro API.\n",
      "Connected to the CoinBase Pro API.\n",
      "Ticker 'CRO-EUR' found at the CoinBase Pro API, continuing to extraction.\n",
      "Provisional Start: 2022-01-11T00:00:00\n",
      "Provisional End: 2022-11-07T00:00:00\n",
      "Data for chunk 1 of 2 extracted\n",
      "Provisional Start: 2022-11-07T00:00:00\n",
      "Provisional End: 2023-09-03T00:00:00\n"
     ]
    },
    {
     "name": "stderr",
     "output_type": "stream",
     "text": [
      "C:\\Users\\Roman\\AppData\\Local\\Packages\\PythonSoftwareFoundation.Python.3.10_qbz5n2kfra8p0\\LocalCache\\local-packages\\Python310\\site-packages\\Historic_Crypto\\HistoricalData.py:176: FutureWarning: The frame.append method is deprecated and will be removed from pandas in a future version. Use pandas.concat instead.\n",
      "  data = data.append(dataset)\n"
     ]
    },
    {
     "name": "stdout",
     "output_type": "stream",
     "text": [
      "Data for chunk 2 of 2 extracted\n",
      "Saved to C:\\Users\\Roman\\Desktop\\DMLS_project\\Crypto\\CRO-EUR_diff.csv\n",
      "INDEX-USD\n",
      "Checking input parameters are in the correct format.\n",
      "Formatting Dates.\n",
      "Checking if user supplied is available on the CoinBase Pro API.\n",
      "Connected to the CoinBase Pro API.\n",
      "Ticker 'INDEX-USD' found at the CoinBase Pro API, continuing to extraction.\n",
      "Provisional Start: 2022-01-11T00:00:00\n",
      "Provisional End: 2022-11-07T00:00:00\n",
      "Data for chunk 1 of 2 extracted\n",
      "Provisional Start: 2022-11-07T00:00:00\n",
      "Provisional End: 2023-09-03T00:00:00\n"
     ]
    },
    {
     "name": "stderr",
     "output_type": "stream",
     "text": [
      "C:\\Users\\Roman\\AppData\\Local\\Packages\\PythonSoftwareFoundation.Python.3.10_qbz5n2kfra8p0\\LocalCache\\local-packages\\Python310\\site-packages\\Historic_Crypto\\HistoricalData.py:176: FutureWarning: The frame.append method is deprecated and will be removed from pandas in a future version. Use pandas.concat instead.\n",
      "  data = data.append(dataset)\n"
     ]
    },
    {
     "name": "stdout",
     "output_type": "stream",
     "text": [
      "Data for chunk 2 of 2 extracted\n",
      "Saved to C:\\Users\\Roman\\Desktop\\DMLS_project\\Crypto\\INDEX-USD_diff.csv\n",
      "XLM-USD\n",
      "Checking input parameters are in the correct format.\n",
      "Formatting Dates.\n",
      "Checking if user supplied is available on the CoinBase Pro API.\n",
      "Connected to the CoinBase Pro API.\n",
      "Ticker 'XLM-USD' found at the CoinBase Pro API, continuing to extraction.\n",
      "Provisional Start: 2022-01-11T00:00:00\n",
      "Provisional End: 2022-11-07T00:00:00\n",
      "Data for chunk 1 of 2 extracted\n"
     ]
    },
    {
     "name": "stderr",
     "output_type": "stream",
     "text": [
      "C:\\Users\\Roman\\AppData\\Local\\Packages\\PythonSoftwareFoundation.Python.3.10_qbz5n2kfra8p0\\LocalCache\\local-packages\\Python310\\site-packages\\Historic_Crypto\\HistoricalData.py:176: FutureWarning: The frame.append method is deprecated and will be removed from pandas in a future version. Use pandas.concat instead.\n",
      "  data = data.append(dataset)\n"
     ]
    },
    {
     "name": "stdout",
     "output_type": "stream",
     "text": [
      "Provisional Start: 2022-11-07T00:00:00\n",
      "Provisional End: 2023-09-03T00:00:00\n",
      "Data for chunk 2 of 2 extracted\n",
      "Saved to C:\\Users\\Roman\\Desktop\\DMLS_project\\Crypto\\XLM-USD_diff.csv\n",
      "NU-BTC\n",
      "Checking input parameters are in the correct format.\n",
      "Formatting Dates.\n",
      "Checking if user supplied is available on the CoinBase Pro API.\n",
      "Connected to the CoinBase Pro API.\n",
      "Ticker 'NU-BTC' found at the CoinBase Pro API, continuing to extraction.\n",
      "Provisional Start: 2022-01-11T00:00:00\n",
      "Provisional End: 2022-11-07T00:00:00\n",
      "Data for chunk 1 of 2 extracted\n"
     ]
    },
    {
     "name": "stderr",
     "output_type": "stream",
     "text": [
      "C:\\Users\\Roman\\AppData\\Local\\Packages\\PythonSoftwareFoundation.Python.3.10_qbz5n2kfra8p0\\LocalCache\\local-packages\\Python310\\site-packages\\Historic_Crypto\\HistoricalData.py:176: FutureWarning: The frame.append method is deprecated and will be removed from pandas in a future version. Use pandas.concat instead.\n",
      "  data = data.append(dataset)\n"
     ]
    },
    {
     "name": "stdout",
     "output_type": "stream",
     "text": [
      "Provisional Start: 2022-11-07T00:00:00\n",
      "Provisional End: 2023-09-03T00:00:00\n",
      "Data for chunk 2 of 2 extracted\n",
      "Saved to C:\\Users\\Roman\\Desktop\\DMLS_project\\Crypto\\NU-BTC_diff.csv\n",
      "GMT-USD\n",
      "Checking input parameters are in the correct format.\n",
      "Formatting Dates.\n",
      "Checking if user supplied is available on the CoinBase Pro API.\n",
      "Connected to the CoinBase Pro API.\n",
      "Ticker 'GMT-USD' found at the CoinBase Pro API, continuing to extraction.\n",
      "Provisional Start: 2022-01-11T00:00:00\n",
      "Provisional End: 2022-11-07T00:00:00\n",
      "Data for chunk 1 of 2 extracted\n"
     ]
    },
    {
     "name": "stderr",
     "output_type": "stream",
     "text": [
      "C:\\Users\\Roman\\AppData\\Local\\Packages\\PythonSoftwareFoundation.Python.3.10_qbz5n2kfra8p0\\LocalCache\\local-packages\\Python310\\site-packages\\Historic_Crypto\\HistoricalData.py:176: FutureWarning: The frame.append method is deprecated and will be removed from pandas in a future version. Use pandas.concat instead.\n",
      "  data = data.append(dataset)\n"
     ]
    },
    {
     "name": "stdout",
     "output_type": "stream",
     "text": [
      "Provisional Start: 2022-11-07T00:00:00\n",
      "Provisional End: 2023-09-03T00:00:00\n",
      "Data for chunk 2 of 2 extracted\n",
      "Saved to C:\\Users\\Roman\\Desktop\\DMLS_project\\Crypto\\GMT-USD_diff.csv\n",
      "XRP-USD\n",
      "Checking input parameters are in the correct format.\n",
      "Formatting Dates.\n",
      "Checking if user supplied is available on the CoinBase Pro API.\n",
      "Connected to the CoinBase Pro API.\n",
      "Ticker 'XRP-USD' found at the CoinBase Pro API, continuing to extraction.\n",
      "Provisional Start: 2022-01-11T00:00:00\n",
      "Provisional End: 2022-11-07T00:00:00\n",
      "Data for chunk 1 of 2 extracted\n",
      "CoinBase Pro API did not have available data for 'XRP-USD' beginning at 2022-01-11-00-00.  \n",
      "                        Trying a later date:'2022-01-11T00:00:00'\n",
      "Provisional Start: 2022-11-07T00:00:00\n",
      "Provisional End: 2023-09-03T00:00:00\n",
      "Data for chunk 2 of 2 extracted\n",
      "CoinBase Pro API did not have available data for 'XRP-USD' beginning at 2022-01-11-00-00.  \n",
      "                        Trying a later date:'2022-11-07T00:00:00'\n",
      "bad: XRP-USD\n",
      "KNC-USD\n",
      "Checking input parameters are in the correct format.\n",
      "Formatting Dates.\n",
      "Checking if user supplied is available on the CoinBase Pro API.\n",
      "Connected to the CoinBase Pro API.\n",
      "Ticker 'KNC-USD' found at the CoinBase Pro API, continuing to extraction.\n",
      "Provisional Start: 2022-01-11T00:00:00\n",
      "Provisional End: 2022-11-07T00:00:00\n",
      "Data for chunk 1 of 2 extracted\n"
     ]
    },
    {
     "name": "stderr",
     "output_type": "stream",
     "text": [
      "C:\\Users\\Roman\\AppData\\Local\\Packages\\PythonSoftwareFoundation.Python.3.10_qbz5n2kfra8p0\\LocalCache\\local-packages\\Python310\\site-packages\\Historic_Crypto\\HistoricalData.py:176: FutureWarning: The frame.append method is deprecated and will be removed from pandas in a future version. Use pandas.concat instead.\n",
      "  data = data.append(dataset)\n"
     ]
    },
    {
     "name": "stdout",
     "output_type": "stream",
     "text": [
      "Provisional Start: 2022-11-07T00:00:00\n",
      "Provisional End: 2023-09-03T00:00:00\n",
      "Data for chunk 2 of 2 extracted\n",
      "Saved to C:\\Users\\Roman\\Desktop\\DMLS_project\\Crypto\\KNC-USD_diff.csv\n",
      "BTRST-EUR\n",
      "Checking input parameters are in the correct format.\n",
      "Formatting Dates.\n",
      "Checking if user supplied is available on the CoinBase Pro API.\n",
      "Connected to the CoinBase Pro API.\n",
      "Ticker 'BTRST-EUR' found at the CoinBase Pro API, continuing to extraction.\n",
      "Provisional Start: 2022-01-11T00:00:00\n",
      "Provisional End: 2022-11-07T00:00:00\n",
      "Data for chunk 1 of 2 extracted\n"
     ]
    },
    {
     "name": "stderr",
     "output_type": "stream",
     "text": [
      "C:\\Users\\Roman\\AppData\\Local\\Packages\\PythonSoftwareFoundation.Python.3.10_qbz5n2kfra8p0\\LocalCache\\local-packages\\Python310\\site-packages\\Historic_Crypto\\HistoricalData.py:176: FutureWarning: The frame.append method is deprecated and will be removed from pandas in a future version. Use pandas.concat instead.\n",
      "  data = data.append(dataset)\n"
     ]
    },
    {
     "name": "stdout",
     "output_type": "stream",
     "text": [
      "Provisional Start: 2022-11-07T00:00:00\n",
      "Provisional End: 2023-09-03T00:00:00\n",
      "Data for chunk 2 of 2 extracted\n",
      "Saved to C:\\Users\\Roman\\Desktop\\DMLS_project\\Crypto\\BTRST-EUR_diff.csv\n",
      "STG-USDT\n",
      "Checking input parameters are in the correct format.\n",
      "Formatting Dates.\n",
      "Checking if user supplied is available on the CoinBase Pro API.\n",
      "Connected to the CoinBase Pro API.\n",
      "Ticker 'STG-USDT' found at the CoinBase Pro API, continuing to extraction.\n",
      "Provisional Start: 2022-01-11T00:00:00\n",
      "Provisional End: 2022-11-07T00:00:00\n",
      "Data for chunk 1 of 2 extracted\n"
     ]
    },
    {
     "name": "stderr",
     "output_type": "stream",
     "text": [
      "C:\\Users\\Roman\\AppData\\Local\\Packages\\PythonSoftwareFoundation.Python.3.10_qbz5n2kfra8p0\\LocalCache\\local-packages\\Python310\\site-packages\\Historic_Crypto\\HistoricalData.py:176: FutureWarning: The frame.append method is deprecated and will be removed from pandas in a future version. Use pandas.concat instead.\n",
      "  data = data.append(dataset)\n"
     ]
    },
    {
     "name": "stdout",
     "output_type": "stream",
     "text": [
      "Provisional Start: 2022-11-07T00:00:00\n",
      "Provisional End: 2023-09-03T00:00:00\n",
      "Data for chunk 2 of 2 extracted\n",
      "Saved to C:\\Users\\Roman\\Desktop\\DMLS_project\\Crypto\\STG-USDT_diff.csv\n",
      "INDEX-USDT\n",
      "Checking input parameters are in the correct format.\n",
      "Formatting Dates.\n",
      "Checking if user supplied is available on the CoinBase Pro API.\n",
      "Connected to the CoinBase Pro API.\n",
      "Ticker 'INDEX-USDT' found at the CoinBase Pro API, continuing to extraction.\n",
      "Provisional Start: 2022-01-11T00:00:00\n",
      "Provisional End: 2022-11-07T00:00:00\n",
      "Data for chunk 1 of 2 extracted\n"
     ]
    },
    {
     "name": "stderr",
     "output_type": "stream",
     "text": [
      "C:\\Users\\Roman\\AppData\\Local\\Packages\\PythonSoftwareFoundation.Python.3.10_qbz5n2kfra8p0\\LocalCache\\local-packages\\Python310\\site-packages\\Historic_Crypto\\HistoricalData.py:176: FutureWarning: The frame.append method is deprecated and will be removed from pandas in a future version. Use pandas.concat instead.\n",
      "  data = data.append(dataset)\n"
     ]
    },
    {
     "name": "stdout",
     "output_type": "stream",
     "text": [
      "Provisional Start: 2022-11-07T00:00:00\n",
      "Provisional End: 2023-09-03T00:00:00\n",
      "Data for chunk 2 of 2 extracted\n",
      "Saved to C:\\Users\\Roman\\Desktop\\DMLS_project\\Crypto\\INDEX-USDT_diff.csv\n",
      "MATIC-USDT\n",
      "Checking input parameters are in the correct format.\n",
      "Formatting Dates.\n",
      "Checking if user supplied is available on the CoinBase Pro API.\n",
      "Connected to the CoinBase Pro API.\n",
      "Ticker 'MATIC-USDT' found at the CoinBase Pro API, continuing to extraction.\n",
      "Provisional Start: 2022-01-11T00:00:00\n",
      "Provisional End: 2022-11-07T00:00:00\n",
      "Data for chunk 1 of 2 extracted\n"
     ]
    },
    {
     "name": "stderr",
     "output_type": "stream",
     "text": [
      "C:\\Users\\Roman\\AppData\\Local\\Packages\\PythonSoftwareFoundation.Python.3.10_qbz5n2kfra8p0\\LocalCache\\local-packages\\Python310\\site-packages\\Historic_Crypto\\HistoricalData.py:176: FutureWarning: The frame.append method is deprecated and will be removed from pandas in a future version. Use pandas.concat instead.\n",
      "  data = data.append(dataset)\n"
     ]
    },
    {
     "name": "stdout",
     "output_type": "stream",
     "text": [
      "Provisional Start: 2022-11-07T00:00:00\n",
      "Provisional End: 2023-09-03T00:00:00\n",
      "Data for chunk 2 of 2 extracted\n",
      "Saved to C:\\Users\\Roman\\Desktop\\DMLS_project\\Crypto\\MATIC-USDT_diff.csv\n",
      "ICP-USD\n",
      "Checking input parameters are in the correct format.\n",
      "Formatting Dates.\n",
      "Checking if user supplied is available on the CoinBase Pro API.\n",
      "Connected to the CoinBase Pro API.\n",
      "Ticker 'ICP-USD' found at the CoinBase Pro API, continuing to extraction.\n",
      "Provisional Start: 2022-01-11T00:00:00\n",
      "Provisional End: 2022-11-07T00:00:00\n",
      "Data for chunk 1 of 2 extracted\n"
     ]
    },
    {
     "name": "stderr",
     "output_type": "stream",
     "text": [
      "C:\\Users\\Roman\\AppData\\Local\\Packages\\PythonSoftwareFoundation.Python.3.10_qbz5n2kfra8p0\\LocalCache\\local-packages\\Python310\\site-packages\\Historic_Crypto\\HistoricalData.py:176: FutureWarning: The frame.append method is deprecated and will be removed from pandas in a future version. Use pandas.concat instead.\n",
      "  data = data.append(dataset)\n"
     ]
    },
    {
     "name": "stdout",
     "output_type": "stream",
     "text": [
      "Provisional Start: 2022-11-07T00:00:00\n",
      "Provisional End: 2023-09-03T00:00:00\n",
      "Data for chunk 2 of 2 extracted\n",
      "Saved to C:\\Users\\Roman\\Desktop\\DMLS_project\\Crypto\\ICP-USD_diff.csv\n",
      "WLUNA-GBP\n",
      "Checking input parameters are in the correct format.\n",
      "Formatting Dates.\n",
      "Checking if user supplied is available on the CoinBase Pro API.\n",
      "Connected to the CoinBase Pro API.\n",
      "Ticker 'WLUNA-GBP' found at the CoinBase Pro API, continuing to extraction.\n",
      "Provisional Start: 2022-01-11T00:00:00\n",
      "Provisional End: 2022-11-07T00:00:00\n",
      "Data for chunk 1 of 2 extracted\n"
     ]
    },
    {
     "name": "stderr",
     "output_type": "stream",
     "text": [
      "C:\\Users\\Roman\\AppData\\Local\\Packages\\PythonSoftwareFoundation.Python.3.10_qbz5n2kfra8p0\\LocalCache\\local-packages\\Python310\\site-packages\\Historic_Crypto\\HistoricalData.py:176: FutureWarning: The frame.append method is deprecated and will be removed from pandas in a future version. Use pandas.concat instead.\n",
      "  data = data.append(dataset)\n"
     ]
    },
    {
     "name": "stdout",
     "output_type": "stream",
     "text": [
      "Provisional Start: 2022-11-07T00:00:00\n",
      "Provisional End: 2023-09-03T00:00:00\n",
      "Data for chunk 2 of 2 extracted\n",
      "CoinBase Pro API did not have available data for 'WLUNA-GBP' beginning at 2022-01-11-00-00.  \n",
      "                        Trying a later date:'2022-11-07T00:00:00'\n",
      "Saved to C:\\Users\\Roman\\Desktop\\DMLS_project\\Crypto\\WLUNA-GBP_diff.csv\n",
      "QSP-USDT\n",
      "Checking input parameters are in the correct format.\n",
      "Formatting Dates.\n",
      "Checking if user supplied is available on the CoinBase Pro API.\n",
      "Connected to the CoinBase Pro API.\n",
      "Ticker 'QSP-USDT' found at the CoinBase Pro API, continuing to extraction.\n",
      "Provisional Start: 2022-01-11T00:00:00\n",
      "Provisional End: 2022-11-07T00:00:00\n",
      "Data for chunk 1 of 2 extracted\n",
      "Provisional Start: 2022-11-07T00:00:00\n",
      "Provisional End: 2023-09-03T00:00:00\n"
     ]
    },
    {
     "name": "stderr",
     "output_type": "stream",
     "text": [
      "C:\\Users\\Roman\\AppData\\Local\\Packages\\PythonSoftwareFoundation.Python.3.10_qbz5n2kfra8p0\\LocalCache\\local-packages\\Python310\\site-packages\\Historic_Crypto\\HistoricalData.py:176: FutureWarning: The frame.append method is deprecated and will be removed from pandas in a future version. Use pandas.concat instead.\n",
      "  data = data.append(dataset)\n"
     ]
    },
    {
     "name": "stdout",
     "output_type": "stream",
     "text": [
      "Data for chunk 2 of 2 extracted\n",
      "Saved to C:\\Users\\Roman\\Desktop\\DMLS_project\\Crypto\\QSP-USDT_diff.csv\n",
      "XYO-USD\n",
      "Checking input parameters are in the correct format.\n",
      "Formatting Dates.\n",
      "Checking if user supplied is available on the CoinBase Pro API.\n",
      "Connected to the CoinBase Pro API.\n",
      "Ticker 'XYO-USD' found at the CoinBase Pro API, continuing to extraction.\n",
      "Provisional Start: 2022-01-11T00:00:00\n",
      "Provisional End: 2022-11-07T00:00:00\n",
      "Data for chunk 1 of 2 extracted\n"
     ]
    },
    {
     "name": "stderr",
     "output_type": "stream",
     "text": [
      "C:\\Users\\Roman\\AppData\\Local\\Packages\\PythonSoftwareFoundation.Python.3.10_qbz5n2kfra8p0\\LocalCache\\local-packages\\Python310\\site-packages\\Historic_Crypto\\HistoricalData.py:176: FutureWarning: The frame.append method is deprecated and will be removed from pandas in a future version. Use pandas.concat instead.\n",
      "  data = data.append(dataset)\n"
     ]
    },
    {
     "name": "stdout",
     "output_type": "stream",
     "text": [
      "Provisional Start: 2022-11-07T00:00:00\n",
      "Provisional End: 2023-09-03T00:00:00\n",
      "Data for chunk 2 of 2 extracted\n",
      "Saved to C:\\Users\\Roman\\Desktop\\DMLS_project\\Crypto\\XYO-USD_diff.csv\n",
      "QNT-USD\n",
      "Checking input parameters are in the correct format.\n",
      "Formatting Dates.\n",
      "Checking if user supplied is available on the CoinBase Pro API.\n",
      "Connected to the CoinBase Pro API.\n",
      "Ticker 'QNT-USD' found at the CoinBase Pro API, continuing to extraction.\n",
      "Provisional Start: 2022-01-11T00:00:00\n",
      "Provisional End: 2022-11-07T00:00:00\n",
      "Data for chunk 1 of 2 extracted\n"
     ]
    },
    {
     "name": "stderr",
     "output_type": "stream",
     "text": [
      "C:\\Users\\Roman\\AppData\\Local\\Packages\\PythonSoftwareFoundation.Python.3.10_qbz5n2kfra8p0\\LocalCache\\local-packages\\Python310\\site-packages\\Historic_Crypto\\HistoricalData.py:176: FutureWarning: The frame.append method is deprecated and will be removed from pandas in a future version. Use pandas.concat instead.\n",
      "  data = data.append(dataset)\n"
     ]
    },
    {
     "name": "stdout",
     "output_type": "stream",
     "text": [
      "Provisional Start: 2022-11-07T00:00:00\n",
      "Provisional End: 2023-09-03T00:00:00\n",
      "Data for chunk 2 of 2 extracted\n",
      "Saved to C:\\Users\\Roman\\Desktop\\DMLS_project\\Crypto\\QNT-USD_diff.csv\n",
      "YFI-BTC\n",
      "Checking input parameters are in the correct format.\n",
      "Formatting Dates.\n",
      "Checking if user supplied is available on the CoinBase Pro API.\n",
      "Connected to the CoinBase Pro API.\n",
      "Ticker 'YFI-BTC' found at the CoinBase Pro API, continuing to extraction.\n",
      "Provisional Start: 2022-01-11T00:00:00\n",
      "Provisional End: 2022-11-07T00:00:00\n",
      "Data for chunk 1 of 2 extracted\n",
      "Provisional Start: 2022-11-07T00:00:00\n",
      "Provisional End: 2023-09-03T00:00:00\n"
     ]
    },
    {
     "name": "stderr",
     "output_type": "stream",
     "text": [
      "C:\\Users\\Roman\\AppData\\Local\\Packages\\PythonSoftwareFoundation.Python.3.10_qbz5n2kfra8p0\\LocalCache\\local-packages\\Python310\\site-packages\\Historic_Crypto\\HistoricalData.py:176: FutureWarning: The frame.append method is deprecated and will be removed from pandas in a future version. Use pandas.concat instead.\n",
      "  data = data.append(dataset)\n"
     ]
    },
    {
     "name": "stdout",
     "output_type": "stream",
     "text": [
      "Data for chunk 2 of 2 extracted\n",
      "Saved to C:\\Users\\Roman\\Desktop\\DMLS_project\\Crypto\\YFI-BTC_diff.csv\n",
      "CBETH-ETH\n",
      "Checking input parameters are in the correct format.\n",
      "Formatting Dates.\n",
      "Checking if user supplied is available on the CoinBase Pro API.\n",
      "Connected to the CoinBase Pro API.\n",
      "Ticker 'CBETH-ETH' found at the CoinBase Pro API, continuing to extraction.\n",
      "Provisional Start: 2022-01-11T00:00:00\n",
      "Provisional End: 2022-11-07T00:00:00\n",
      "Data for chunk 1 of 2 extracted\n"
     ]
    },
    {
     "name": "stderr",
     "output_type": "stream",
     "text": [
      "C:\\Users\\Roman\\AppData\\Local\\Packages\\PythonSoftwareFoundation.Python.3.10_qbz5n2kfra8p0\\LocalCache\\local-packages\\Python310\\site-packages\\Historic_Crypto\\HistoricalData.py:176: FutureWarning: The frame.append method is deprecated and will be removed from pandas in a future version. Use pandas.concat instead.\n",
      "  data = data.append(dataset)\n"
     ]
    },
    {
     "name": "stdout",
     "output_type": "stream",
     "text": [
      "Provisional Start: 2022-11-07T00:00:00\n",
      "Provisional End: 2023-09-03T00:00:00\n",
      "Data for chunk 2 of 2 extracted\n",
      "Saved to C:\\Users\\Roman\\Desktop\\DMLS_project\\Crypto\\CBETH-ETH_diff.csv\n",
      "AXS-USD\n",
      "Checking input parameters are in the correct format.\n",
      "Formatting Dates.\n",
      "Checking if user supplied is available on the CoinBase Pro API.\n",
      "Connected to the CoinBase Pro API.\n",
      "Ticker 'AXS-USD' found at the CoinBase Pro API, continuing to extraction.\n",
      "Provisional Start: 2022-01-11T00:00:00\n",
      "Provisional End: 2022-11-07T00:00:00\n",
      "Data for chunk 1 of 2 extracted\n"
     ]
    },
    {
     "name": "stderr",
     "output_type": "stream",
     "text": [
      "C:\\Users\\Roman\\AppData\\Local\\Packages\\PythonSoftwareFoundation.Python.3.10_qbz5n2kfra8p0\\LocalCache\\local-packages\\Python310\\site-packages\\Historic_Crypto\\HistoricalData.py:176: FutureWarning: The frame.append method is deprecated and will be removed from pandas in a future version. Use pandas.concat instead.\n",
      "  data = data.append(dataset)\n"
     ]
    },
    {
     "name": "stdout",
     "output_type": "stream",
     "text": [
      "Provisional Start: 2022-11-07T00:00:00\n",
      "Provisional End: 2023-09-03T00:00:00\n",
      "Data for chunk 2 of 2 extracted\n",
      "Saved to C:\\Users\\Roman\\Desktop\\DMLS_project\\Crypto\\AXS-USD_diff.csv\n",
      "WBTC-BTC\n",
      "Checking input parameters are in the correct format.\n",
      "Formatting Dates.\n",
      "Checking if user supplied is available on the CoinBase Pro API.\n",
      "Connected to the CoinBase Pro API.\n",
      "Ticker 'WBTC-BTC' found at the CoinBase Pro API, continuing to extraction.\n",
      "Provisional Start: 2022-01-11T00:00:00\n",
      "Provisional End: 2022-11-07T00:00:00\n",
      "Data for chunk 1 of 2 extracted\n",
      "Provisional Start: 2022-11-07T00:00:00\n",
      "Provisional End: 2023-09-03T00:00:00\n"
     ]
    },
    {
     "name": "stderr",
     "output_type": "stream",
     "text": [
      "C:\\Users\\Roman\\AppData\\Local\\Packages\\PythonSoftwareFoundation.Python.3.10_qbz5n2kfra8p0\\LocalCache\\local-packages\\Python310\\site-packages\\Historic_Crypto\\HistoricalData.py:176: FutureWarning: The frame.append method is deprecated and will be removed from pandas in a future version. Use pandas.concat instead.\n",
      "  data = data.append(dataset)\n"
     ]
    },
    {
     "name": "stdout",
     "output_type": "stream",
     "text": [
      "Data for chunk 2 of 2 extracted\n",
      "Saved to C:\\Users\\Roman\\Desktop\\DMLS_project\\Crypto\\WBTC-BTC_diff.csv\n",
      "MINA-USD\n",
      "Checking input parameters are in the correct format.\n",
      "Formatting Dates.\n",
      "Checking if user supplied is available on the CoinBase Pro API.\n",
      "Connected to the CoinBase Pro API.\n",
      "Ticker 'MINA-USD' found at the CoinBase Pro API, continuing to extraction.\n",
      "Provisional Start: 2022-01-11T00:00:00\n",
      "Provisional End: 2022-11-07T00:00:00\n",
      "Data for chunk 1 of 2 extracted\n"
     ]
    },
    {
     "name": "stderr",
     "output_type": "stream",
     "text": [
      "C:\\Users\\Roman\\AppData\\Local\\Packages\\PythonSoftwareFoundation.Python.3.10_qbz5n2kfra8p0\\LocalCache\\local-packages\\Python310\\site-packages\\Historic_Crypto\\HistoricalData.py:176: FutureWarning: The frame.append method is deprecated and will be removed from pandas in a future version. Use pandas.concat instead.\n",
      "  data = data.append(dataset)\n"
     ]
    },
    {
     "name": "stdout",
     "output_type": "stream",
     "text": [
      "Provisional Start: 2022-11-07T00:00:00\n",
      "Provisional End: 2023-09-03T00:00:00\n",
      "Data for chunk 2 of 2 extracted\n",
      "Saved to C:\\Users\\Roman\\Desktop\\DMLS_project\\Crypto\\MINA-USD_diff.csv\n",
      "BAL-USD\n",
      "Checking input parameters are in the correct format.\n",
      "Formatting Dates.\n",
      "Checking if user supplied is available on the CoinBase Pro API.\n",
      "Connected to the CoinBase Pro API.\n",
      "Ticker 'BAL-USD' found at the CoinBase Pro API, continuing to extraction.\n",
      "Provisional Start: 2022-01-11T00:00:00\n",
      "Provisional End: 2022-11-07T00:00:00\n",
      "Data for chunk 1 of 2 extracted\n",
      "Provisional Start: 2022-11-07T00:00:00\n",
      "Provisional End: 2023-09-03T00:00:00\n"
     ]
    },
    {
     "name": "stderr",
     "output_type": "stream",
     "text": [
      "C:\\Users\\Roman\\AppData\\Local\\Packages\\PythonSoftwareFoundation.Python.3.10_qbz5n2kfra8p0\\LocalCache\\local-packages\\Python310\\site-packages\\Historic_Crypto\\HistoricalData.py:176: FutureWarning: The frame.append method is deprecated and will be removed from pandas in a future version. Use pandas.concat instead.\n",
      "  data = data.append(dataset)\n"
     ]
    },
    {
     "name": "stdout",
     "output_type": "stream",
     "text": [
      "Data for chunk 2 of 2 extracted\n",
      "Saved to C:\\Users\\Roman\\Desktop\\DMLS_project\\Crypto\\BAL-USD_diff.csv\n",
      "LCX-EUR\n",
      "Checking input parameters are in the correct format.\n",
      "Formatting Dates.\n",
      "Checking if user supplied is available on the CoinBase Pro API.\n",
      "Connected to the CoinBase Pro API.\n",
      "Ticker 'LCX-EUR' found at the CoinBase Pro API, continuing to extraction.\n",
      "Provisional Start: 2022-01-11T00:00:00\n",
      "Provisional End: 2022-11-07T00:00:00\n",
      "Data for chunk 1 of 2 extracted\n"
     ]
    },
    {
     "name": "stderr",
     "output_type": "stream",
     "text": [
      "C:\\Users\\Roman\\AppData\\Local\\Packages\\PythonSoftwareFoundation.Python.3.10_qbz5n2kfra8p0\\LocalCache\\local-packages\\Python310\\site-packages\\Historic_Crypto\\HistoricalData.py:176: FutureWarning: The frame.append method is deprecated and will be removed from pandas in a future version. Use pandas.concat instead.\n",
      "  data = data.append(dataset)\n"
     ]
    },
    {
     "name": "stdout",
     "output_type": "stream",
     "text": [
      "Provisional Start: 2022-11-07T00:00:00\n",
      "Provisional End: 2023-09-03T00:00:00\n",
      "Data for chunk 2 of 2 extracted\n",
      "Saved to C:\\Users\\Roman\\Desktop\\DMLS_project\\Crypto\\LCX-EUR_diff.csv\n",
      "MIR-BTC\n",
      "Checking input parameters are in the correct format.\n",
      "Formatting Dates.\n",
      "Checking if user supplied is available on the CoinBase Pro API.\n",
      "Connected to the CoinBase Pro API.\n",
      "Ticker 'MIR-BTC' found at the CoinBase Pro API, continuing to extraction.\n",
      "Provisional Start: 2022-01-11T00:00:00\n",
      "Provisional End: 2022-11-07T00:00:00\n",
      "Data for chunk 1 of 2 extracted\n"
     ]
    },
    {
     "name": "stderr",
     "output_type": "stream",
     "text": [
      "C:\\Users\\Roman\\AppData\\Local\\Packages\\PythonSoftwareFoundation.Python.3.10_qbz5n2kfra8p0\\LocalCache\\local-packages\\Python310\\site-packages\\Historic_Crypto\\HistoricalData.py:176: FutureWarning: The frame.append method is deprecated and will be removed from pandas in a future version. Use pandas.concat instead.\n",
      "  data = data.append(dataset)\n"
     ]
    },
    {
     "name": "stdout",
     "output_type": "stream",
     "text": [
      "Provisional Start: 2022-11-07T00:00:00\n",
      "Provisional End: 2023-09-03T00:00:00\n",
      "Data for chunk 2 of 2 extracted\n",
      "Saved to C:\\Users\\Roman\\Desktop\\DMLS_project\\Crypto\\MIR-BTC_diff.csv\n",
      "DOGE-GBP\n",
      "Checking input parameters are in the correct format.\n",
      "Formatting Dates.\n",
      "Checking if user supplied is available on the CoinBase Pro API.\n",
      "Connected to the CoinBase Pro API.\n",
      "Ticker 'DOGE-GBP' found at the CoinBase Pro API, continuing to extraction.\n",
      "Provisional Start: 2022-01-11T00:00:00\n",
      "Provisional End: 2022-11-07T00:00:00\n",
      "Data for chunk 1 of 2 extracted\n"
     ]
    },
    {
     "name": "stderr",
     "output_type": "stream",
     "text": [
      "C:\\Users\\Roman\\AppData\\Local\\Packages\\PythonSoftwareFoundation.Python.3.10_qbz5n2kfra8p0\\LocalCache\\local-packages\\Python310\\site-packages\\Historic_Crypto\\HistoricalData.py:176: FutureWarning: The frame.append method is deprecated and will be removed from pandas in a future version. Use pandas.concat instead.\n",
      "  data = data.append(dataset)\n"
     ]
    },
    {
     "name": "stdout",
     "output_type": "stream",
     "text": [
      "Provisional Start: 2022-11-07T00:00:00\n",
      "Provisional End: 2023-09-03T00:00:00\n",
      "Data for chunk 2 of 2 extracted\n",
      "Saved to C:\\Users\\Roman\\Desktop\\DMLS_project\\Crypto\\DOGE-GBP_diff.csv\n",
      "SPELL-USD\n",
      "Checking input parameters are in the correct format.\n",
      "Formatting Dates.\n",
      "Checking if user supplied is available on the CoinBase Pro API.\n",
      "Connected to the CoinBase Pro API.\n",
      "Ticker 'SPELL-USD' found at the CoinBase Pro API, continuing to extraction.\n",
      "Provisional Start: 2022-01-11T00:00:00\n",
      "Provisional End: 2022-11-07T00:00:00\n",
      "Data for chunk 1 of 2 extracted\n"
     ]
    },
    {
     "name": "stderr",
     "output_type": "stream",
     "text": [
      "C:\\Users\\Roman\\AppData\\Local\\Packages\\PythonSoftwareFoundation.Python.3.10_qbz5n2kfra8p0\\LocalCache\\local-packages\\Python310\\site-packages\\Historic_Crypto\\HistoricalData.py:176: FutureWarning: The frame.append method is deprecated and will be removed from pandas in a future version. Use pandas.concat instead.\n",
      "  data = data.append(dataset)\n"
     ]
    },
    {
     "name": "stdout",
     "output_type": "stream",
     "text": [
      "Provisional Start: 2022-11-07T00:00:00\n",
      "Provisional End: 2023-09-03T00:00:00\n",
      "Data for chunk 2 of 2 extracted\n",
      "Saved to C:\\Users\\Roman\\Desktop\\DMLS_project\\Crypto\\SPELL-USD_diff.csv\n",
      "ARPA-USD\n",
      "Checking input parameters are in the correct format.\n",
      "Formatting Dates.\n",
      "Checking if user supplied is available on the CoinBase Pro API.\n",
      "Connected to the CoinBase Pro API.\n",
      "Ticker 'ARPA-USD' found at the CoinBase Pro API, continuing to extraction.\n",
      "Provisional Start: 2022-01-11T00:00:00\n",
      "Provisional End: 2022-11-07T00:00:00\n",
      "Data for chunk 1 of 2 extracted\n",
      "Provisional Start: 2022-11-07T00:00:00\n",
      "Provisional End: 2023-09-03T00:00:00\n"
     ]
    },
    {
     "name": "stderr",
     "output_type": "stream",
     "text": [
      "C:\\Users\\Roman\\AppData\\Local\\Packages\\PythonSoftwareFoundation.Python.3.10_qbz5n2kfra8p0\\LocalCache\\local-packages\\Python310\\site-packages\\Historic_Crypto\\HistoricalData.py:176: FutureWarning: The frame.append method is deprecated and will be removed from pandas in a future version. Use pandas.concat instead.\n",
      "  data = data.append(dataset)\n"
     ]
    },
    {
     "name": "stdout",
     "output_type": "stream",
     "text": [
      "Data for chunk 2 of 2 extracted\n",
      "Saved to C:\\Users\\Roman\\Desktop\\DMLS_project\\Crypto\\ARPA-USD_diff.csv\n",
      "ETC-USD\n",
      "Checking input parameters are in the correct format.\n",
      "Formatting Dates.\n",
      "Checking if user supplied is available on the CoinBase Pro API.\n",
      "Connected to the CoinBase Pro API.\n",
      "Ticker 'ETC-USD' found at the CoinBase Pro API, continuing to extraction.\n",
      "Provisional Start: 2022-01-11T00:00:00\n",
      "Provisional End: 2022-11-07T00:00:00\n",
      "Data for chunk 1 of 2 extracted\n"
     ]
    },
    {
     "name": "stderr",
     "output_type": "stream",
     "text": [
      "C:\\Users\\Roman\\AppData\\Local\\Packages\\PythonSoftwareFoundation.Python.3.10_qbz5n2kfra8p0\\LocalCache\\local-packages\\Python310\\site-packages\\Historic_Crypto\\HistoricalData.py:176: FutureWarning: The frame.append method is deprecated and will be removed from pandas in a future version. Use pandas.concat instead.\n",
      "  data = data.append(dataset)\n"
     ]
    },
    {
     "name": "stdout",
     "output_type": "stream",
     "text": [
      "Provisional Start: 2022-11-07T00:00:00\n",
      "Provisional End: 2023-09-03T00:00:00\n",
      "Data for chunk 2 of 2 extracted\n",
      "Saved to C:\\Users\\Roman\\Desktop\\DMLS_project\\Crypto\\ETC-USD_diff.csv\n",
      "XTZ-EUR\n",
      "Checking input parameters are in the correct format.\n",
      "Formatting Dates.\n",
      "Checking if user supplied is available on the CoinBase Pro API.\n",
      "Connected to the CoinBase Pro API.\n",
      "Ticker 'XTZ-EUR' found at the CoinBase Pro API, continuing to extraction.\n",
      "Provisional Start: 2022-01-11T00:00:00\n",
      "Provisional End: 2022-11-07T00:00:00\n",
      "Data for chunk 1 of 2 extracted\n"
     ]
    },
    {
     "name": "stderr",
     "output_type": "stream",
     "text": [
      "C:\\Users\\Roman\\AppData\\Local\\Packages\\PythonSoftwareFoundation.Python.3.10_qbz5n2kfra8p0\\LocalCache\\local-packages\\Python310\\site-packages\\Historic_Crypto\\HistoricalData.py:176: FutureWarning: The frame.append method is deprecated and will be removed from pandas in a future version. Use pandas.concat instead.\n",
      "  data = data.append(dataset)\n"
     ]
    },
    {
     "name": "stdout",
     "output_type": "stream",
     "text": [
      "Provisional Start: 2022-11-07T00:00:00\n",
      "Provisional End: 2023-09-03T00:00:00\n",
      "Data for chunk 2 of 2 extracted\n",
      "Saved to C:\\Users\\Roman\\Desktop\\DMLS_project\\Crypto\\XTZ-EUR_diff.csv\n",
      "AIOZ-USD\n",
      "Checking input parameters are in the correct format.\n",
      "Formatting Dates.\n",
      "Checking if user supplied is available on the CoinBase Pro API.\n",
      "Connected to the CoinBase Pro API.\n",
      "Ticker 'AIOZ-USD' found at the CoinBase Pro API, continuing to extraction.\n",
      "Provisional Start: 2022-01-11T00:00:00\n",
      "Provisional End: 2022-11-07T00:00:00\n",
      "Data for chunk 1 of 2 extracted\n"
     ]
    },
    {
     "name": "stderr",
     "output_type": "stream",
     "text": [
      "C:\\Users\\Roman\\AppData\\Local\\Packages\\PythonSoftwareFoundation.Python.3.10_qbz5n2kfra8p0\\LocalCache\\local-packages\\Python310\\site-packages\\Historic_Crypto\\HistoricalData.py:176: FutureWarning: The frame.append method is deprecated and will be removed from pandas in a future version. Use pandas.concat instead.\n",
      "  data = data.append(dataset)\n"
     ]
    },
    {
     "name": "stdout",
     "output_type": "stream",
     "text": [
      "Provisional Start: 2022-11-07T00:00:00\n",
      "Provisional End: 2023-09-03T00:00:00\n",
      "Data for chunk 2 of 2 extracted\n",
      "Saved to C:\\Users\\Roman\\Desktop\\DMLS_project\\Crypto\\AIOZ-USD_diff.csv\n",
      "MUSE-USD\n",
      "Checking input parameters are in the correct format.\n",
      "Formatting Dates.\n",
      "Checking if user supplied is available on the CoinBase Pro API.\n",
      "Connected to the CoinBase Pro API.\n",
      "Ticker 'MUSE-USD' found at the CoinBase Pro API, continuing to extraction.\n",
      "Provisional Start: 2022-01-11T00:00:00\n",
      "Provisional End: 2022-11-07T00:00:00\n",
      "Data for chunk 1 of 2 extracted\n",
      "Provisional Start: 2022-11-07T00:00:00\n",
      "Provisional End: 2023-09-03T00:00:00\n"
     ]
    },
    {
     "name": "stderr",
     "output_type": "stream",
     "text": [
      "C:\\Users\\Roman\\AppData\\Local\\Packages\\PythonSoftwareFoundation.Python.3.10_qbz5n2kfra8p0\\LocalCache\\local-packages\\Python310\\site-packages\\Historic_Crypto\\HistoricalData.py:176: FutureWarning: The frame.append method is deprecated and will be removed from pandas in a future version. Use pandas.concat instead.\n",
      "  data = data.append(dataset)\n"
     ]
    },
    {
     "name": "stdout",
     "output_type": "stream",
     "text": [
      "Data for chunk 2 of 2 extracted\n",
      "Saved to C:\\Users\\Roman\\Desktop\\DMLS_project\\Crypto\\MUSE-USD_diff.csv\n",
      "CRO-USDT\n",
      "Checking input parameters are in the correct format.\n",
      "Formatting Dates.\n",
      "Checking if user supplied is available on the CoinBase Pro API.\n",
      "Connected to the CoinBase Pro API.\n",
      "Ticker 'CRO-USDT' found at the CoinBase Pro API, continuing to extraction.\n",
      "Provisional Start: 2022-01-11T00:00:00\n",
      "Provisional End: 2022-11-07T00:00:00\n",
      "Data for chunk 1 of 2 extracted\n",
      "Provisional Start: 2022-11-07T00:00:00\n",
      "Provisional End: 2023-09-03T00:00:00\n"
     ]
    },
    {
     "name": "stderr",
     "output_type": "stream",
     "text": [
      "C:\\Users\\Roman\\AppData\\Local\\Packages\\PythonSoftwareFoundation.Python.3.10_qbz5n2kfra8p0\\LocalCache\\local-packages\\Python310\\site-packages\\Historic_Crypto\\HistoricalData.py:176: FutureWarning: The frame.append method is deprecated and will be removed from pandas in a future version. Use pandas.concat instead.\n",
      "  data = data.append(dataset)\n"
     ]
    },
    {
     "name": "stdout",
     "output_type": "stream",
     "text": [
      "Data for chunk 2 of 2 extracted\n",
      "Saved to C:\\Users\\Roman\\Desktop\\DMLS_project\\Crypto\\CRO-USDT_diff.csv\n",
      "APE-USDT\n",
      "Checking input parameters are in the correct format.\n",
      "Formatting Dates.\n",
      "Checking if user supplied is available on the CoinBase Pro API.\n",
      "Connected to the CoinBase Pro API.\n",
      "Ticker 'APE-USDT' found at the CoinBase Pro API, continuing to extraction.\n",
      "Provisional Start: 2022-01-11T00:00:00\n",
      "Provisional End: 2022-11-07T00:00:00\n",
      "Data for chunk 1 of 2 extracted\n"
     ]
    },
    {
     "name": "stderr",
     "output_type": "stream",
     "text": [
      "C:\\Users\\Roman\\AppData\\Local\\Packages\\PythonSoftwareFoundation.Python.3.10_qbz5n2kfra8p0\\LocalCache\\local-packages\\Python310\\site-packages\\Historic_Crypto\\HistoricalData.py:176: FutureWarning: The frame.append method is deprecated and will be removed from pandas in a future version. Use pandas.concat instead.\n",
      "  data = data.append(dataset)\n"
     ]
    },
    {
     "name": "stdout",
     "output_type": "stream",
     "text": [
      "Provisional Start: 2022-11-07T00:00:00\n",
      "Provisional End: 2023-09-03T00:00:00\n",
      "Data for chunk 2 of 2 extracted\n",
      "Saved to C:\\Users\\Roman\\Desktop\\DMLS_project\\Crypto\\APE-USDT_diff.csv\n",
      "CHZ-GBP\n",
      "Checking input parameters are in the correct format.\n",
      "Formatting Dates.\n",
      "Checking if user supplied is available on the CoinBase Pro API.\n",
      "Connected to the CoinBase Pro API.\n",
      "Ticker 'CHZ-GBP' found at the CoinBase Pro API, continuing to extraction.\n",
      "Provisional Start: 2022-01-11T00:00:00\n",
      "Provisional End: 2022-11-07T00:00:00\n",
      "Data for chunk 1 of 2 extracted\n",
      "Provisional Start: 2022-11-07T00:00:00\n",
      "Provisional End: 2023-09-03T00:00:00\n"
     ]
    },
    {
     "name": "stderr",
     "output_type": "stream",
     "text": [
      "C:\\Users\\Roman\\AppData\\Local\\Packages\\PythonSoftwareFoundation.Python.3.10_qbz5n2kfra8p0\\LocalCache\\local-packages\\Python310\\site-packages\\Historic_Crypto\\HistoricalData.py:176: FutureWarning: The frame.append method is deprecated and will be removed from pandas in a future version. Use pandas.concat instead.\n",
      "  data = data.append(dataset)\n"
     ]
    },
    {
     "name": "stdout",
     "output_type": "stream",
     "text": [
      "Data for chunk 2 of 2 extracted\n",
      "Saved to C:\\Users\\Roman\\Desktop\\DMLS_project\\Crypto\\CHZ-GBP_diff.csv\n",
      "ETH-USDT\n",
      "Checking input parameters are in the correct format.\n",
      "Formatting Dates.\n",
      "Checking if user supplied is available on the CoinBase Pro API.\n",
      "Connected to the CoinBase Pro API.\n",
      "Ticker 'ETH-USDT' found at the CoinBase Pro API, continuing to extraction.\n",
      "Provisional Start: 2022-01-11T00:00:00\n",
      "Provisional End: 2022-11-07T00:00:00\n",
      "Data for chunk 1 of 2 extracted\n",
      "Provisional Start: 2022-11-07T00:00:00\n",
      "Provisional End: 2023-09-03T00:00:00\n"
     ]
    },
    {
     "name": "stderr",
     "output_type": "stream",
     "text": [
      "C:\\Users\\Roman\\AppData\\Local\\Packages\\PythonSoftwareFoundation.Python.3.10_qbz5n2kfra8p0\\LocalCache\\local-packages\\Python310\\site-packages\\Historic_Crypto\\HistoricalData.py:176: FutureWarning: The frame.append method is deprecated and will be removed from pandas in a future version. Use pandas.concat instead.\n",
      "  data = data.append(dataset)\n"
     ]
    },
    {
     "name": "stdout",
     "output_type": "stream",
     "text": [
      "Data for chunk 2 of 2 extracted\n",
      "Saved to C:\\Users\\Roman\\Desktop\\DMLS_project\\Crypto\\ETH-USDT_diff.csv\n",
      "ROSE-USDT\n",
      "Checking input parameters are in the correct format.\n",
      "Formatting Dates.\n",
      "Checking if user supplied is available on the CoinBase Pro API.\n",
      "Connected to the CoinBase Pro API.\n",
      "Ticker 'ROSE-USDT' found at the CoinBase Pro API, continuing to extraction.\n",
      "Provisional Start: 2022-01-11T00:00:00\n",
      "Provisional End: 2022-11-07T00:00:00\n",
      "Data for chunk 1 of 2 extracted\n"
     ]
    },
    {
     "name": "stderr",
     "output_type": "stream",
     "text": [
      "C:\\Users\\Roman\\AppData\\Local\\Packages\\PythonSoftwareFoundation.Python.3.10_qbz5n2kfra8p0\\LocalCache\\local-packages\\Python310\\site-packages\\Historic_Crypto\\HistoricalData.py:176: FutureWarning: The frame.append method is deprecated and will be removed from pandas in a future version. Use pandas.concat instead.\n",
      "  data = data.append(dataset)\n"
     ]
    },
    {
     "name": "stdout",
     "output_type": "stream",
     "text": [
      "Provisional Start: 2022-11-07T00:00:00\n",
      "Provisional End: 2023-09-03T00:00:00\n",
      "Data for chunk 2 of 2 extracted\n",
      "Saved to C:\\Users\\Roman\\Desktop\\DMLS_project\\Crypto\\ROSE-USDT_diff.csv\n",
      "AGLD-USDT\n",
      "Checking input parameters are in the correct format.\n",
      "Formatting Dates.\n",
      "Checking if user supplied is available on the CoinBase Pro API.\n",
      "Connected to the CoinBase Pro API.\n",
      "Ticker 'AGLD-USDT' found at the CoinBase Pro API, continuing to extraction.\n",
      "Provisional Start: 2022-01-11T00:00:00\n",
      "Provisional End: 2022-11-07T00:00:00\n",
      "Data for chunk 1 of 2 extracted\n",
      "Provisional Start: 2022-11-07T00:00:00\n",
      "Provisional End: 2023-09-03T00:00:00\n"
     ]
    },
    {
     "name": "stderr",
     "output_type": "stream",
     "text": [
      "C:\\Users\\Roman\\AppData\\Local\\Packages\\PythonSoftwareFoundation.Python.3.10_qbz5n2kfra8p0\\LocalCache\\local-packages\\Python310\\site-packages\\Historic_Crypto\\HistoricalData.py:176: FutureWarning: The frame.append method is deprecated and will be removed from pandas in a future version. Use pandas.concat instead.\n",
      "  data = data.append(dataset)\n"
     ]
    },
    {
     "name": "stdout",
     "output_type": "stream",
     "text": [
      "Data for chunk 2 of 2 extracted\n",
      "Saved to C:\\Users\\Roman\\Desktop\\DMLS_project\\Crypto\\AGLD-USDT_diff.csv\n",
      "CGLD-BTC\n",
      "Checking input parameters are in the correct format.\n",
      "Formatting Dates.\n",
      "Checking if user supplied is available on the CoinBase Pro API.\n",
      "Connected to the CoinBase Pro API.\n",
      "Ticker 'CGLD-BTC' found at the CoinBase Pro API, continuing to extraction.\n",
      "Provisional Start: 2022-01-11T00:00:00\n",
      "Provisional End: 2022-11-07T00:00:00\n",
      "Data for chunk 1 of 2 extracted\n",
      "Provisional Start: 2022-11-07T00:00:00\n",
      "Provisional End: 2023-09-03T00:00:00\n"
     ]
    },
    {
     "name": "stderr",
     "output_type": "stream",
     "text": [
      "C:\\Users\\Roman\\AppData\\Local\\Packages\\PythonSoftwareFoundation.Python.3.10_qbz5n2kfra8p0\\LocalCache\\local-packages\\Python310\\site-packages\\Historic_Crypto\\HistoricalData.py:176: FutureWarning: The frame.append method is deprecated and will be removed from pandas in a future version. Use pandas.concat instead.\n",
      "  data = data.append(dataset)\n"
     ]
    },
    {
     "name": "stdout",
     "output_type": "stream",
     "text": [
      "Data for chunk 2 of 2 extracted\n",
      "Saved to C:\\Users\\Roman\\Desktop\\DMLS_project\\Crypto\\CGLD-BTC_diff.csv\n",
      "DOT-BTC\n",
      "Checking input parameters are in the correct format.\n",
      "Formatting Dates.\n",
      "Checking if user supplied is available on the CoinBase Pro API.\n",
      "Connected to the CoinBase Pro API.\n",
      "Ticker 'DOT-BTC' found at the CoinBase Pro API, continuing to extraction.\n",
      "Provisional Start: 2022-01-11T00:00:00\n",
      "Provisional End: 2022-11-07T00:00:00\n",
      "Data for chunk 1 of 2 extracted\n"
     ]
    },
    {
     "name": "stderr",
     "output_type": "stream",
     "text": [
      "C:\\Users\\Roman\\AppData\\Local\\Packages\\PythonSoftwareFoundation.Python.3.10_qbz5n2kfra8p0\\LocalCache\\local-packages\\Python310\\site-packages\\Historic_Crypto\\HistoricalData.py:176: FutureWarning: The frame.append method is deprecated and will be removed from pandas in a future version. Use pandas.concat instead.\n",
      "  data = data.append(dataset)\n"
     ]
    },
    {
     "name": "stdout",
     "output_type": "stream",
     "text": [
      "Provisional Start: 2022-11-07T00:00:00\n",
      "Provisional End: 2023-09-03T00:00:00\n",
      "Data for chunk 2 of 2 extracted\n",
      "Saved to C:\\Users\\Roman\\Desktop\\DMLS_project\\Crypto\\DOT-BTC_diff.csv\n",
      "NKN-USD\n",
      "Checking input parameters are in the correct format.\n",
      "Formatting Dates.\n",
      "Checking if user supplied is available on the CoinBase Pro API.\n",
      "Connected to the CoinBase Pro API.\n",
      "Ticker 'NKN-USD' found at the CoinBase Pro API, continuing to extraction.\n",
      "Provisional Start: 2022-01-11T00:00:00\n",
      "Provisional End: 2022-11-07T00:00:00\n",
      "Data for chunk 1 of 2 extracted\n"
     ]
    },
    {
     "name": "stderr",
     "output_type": "stream",
     "text": [
      "C:\\Users\\Roman\\AppData\\Local\\Packages\\PythonSoftwareFoundation.Python.3.10_qbz5n2kfra8p0\\LocalCache\\local-packages\\Python310\\site-packages\\Historic_Crypto\\HistoricalData.py:176: FutureWarning: The frame.append method is deprecated and will be removed from pandas in a future version. Use pandas.concat instead.\n",
      "  data = data.append(dataset)\n"
     ]
    },
    {
     "name": "stdout",
     "output_type": "stream",
     "text": [
      "Provisional Start: 2022-11-07T00:00:00\n",
      "Provisional End: 2023-09-03T00:00:00\n",
      "Data for chunk 2 of 2 extracted\n",
      "Saved to C:\\Users\\Roman\\Desktop\\DMLS_project\\Crypto\\NKN-USD_diff.csv\n",
      "SUKU-USDT\n",
      "Checking input parameters are in the correct format.\n",
      "Formatting Dates.\n",
      "Checking if user supplied is available on the CoinBase Pro API.\n",
      "Connected to the CoinBase Pro API.\n",
      "Ticker 'SUKU-USDT' found at the CoinBase Pro API, continuing to extraction.\n",
      "Provisional Start: 2022-01-11T00:00:00\n",
      "Provisional End: 2022-11-07T00:00:00\n",
      "Data for chunk 1 of 2 extracted\n",
      "Provisional Start: 2022-11-07T00:00:00\n",
      "Provisional End: 2023-09-03T00:00:00\n"
     ]
    },
    {
     "name": "stderr",
     "output_type": "stream",
     "text": [
      "C:\\Users\\Roman\\AppData\\Local\\Packages\\PythonSoftwareFoundation.Python.3.10_qbz5n2kfra8p0\\LocalCache\\local-packages\\Python310\\site-packages\\Historic_Crypto\\HistoricalData.py:176: FutureWarning: The frame.append method is deprecated and will be removed from pandas in a future version. Use pandas.concat instead.\n",
      "  data = data.append(dataset)\n"
     ]
    },
    {
     "name": "stdout",
     "output_type": "stream",
     "text": [
      "Data for chunk 2 of 2 extracted\n",
      "Saved to C:\\Users\\Roman\\Desktop\\DMLS_project\\Crypto\\SUKU-USDT_diff.csv\n",
      "NU-GBP\n",
      "Checking input parameters are in the correct format.\n",
      "Formatting Dates.\n",
      "Checking if user supplied is available on the CoinBase Pro API.\n",
      "Connected to the CoinBase Pro API.\n",
      "Ticker 'NU-GBP' found at the CoinBase Pro API, continuing to extraction.\n",
      "Provisional Start: 2022-01-11T00:00:00\n",
      "Provisional End: 2022-11-07T00:00:00\n",
      "Data for chunk 1 of 2 extracted\n",
      "Provisional Start: 2022-11-07T00:00:00\n",
      "Provisional End: 2023-09-03T00:00:00\n"
     ]
    },
    {
     "name": "stderr",
     "output_type": "stream",
     "text": [
      "C:\\Users\\Roman\\AppData\\Local\\Packages\\PythonSoftwareFoundation.Python.3.10_qbz5n2kfra8p0\\LocalCache\\local-packages\\Python310\\site-packages\\Historic_Crypto\\HistoricalData.py:176: FutureWarning: The frame.append method is deprecated and will be removed from pandas in a future version. Use pandas.concat instead.\n",
      "  data = data.append(dataset)\n"
     ]
    },
    {
     "name": "stdout",
     "output_type": "stream",
     "text": [
      "Data for chunk 2 of 2 extracted\n",
      "Saved to C:\\Users\\Roman\\Desktop\\DMLS_project\\Crypto\\NU-GBP_diff.csv\n",
      "APE-USD\n",
      "Checking input parameters are in the correct format.\n",
      "Formatting Dates.\n",
      "Checking if user supplied is available on the CoinBase Pro API.\n",
      "Connected to the CoinBase Pro API.\n",
      "Ticker 'APE-USD' found at the CoinBase Pro API, continuing to extraction.\n",
      "Provisional Start: 2022-01-11T00:00:00\n",
      "Provisional End: 2022-11-07T00:00:00\n",
      "Data for chunk 1 of 2 extracted\n",
      "Provisional Start: 2022-11-07T00:00:00\n",
      "Provisional End: 2023-09-03T00:00:00\n"
     ]
    },
    {
     "name": "stderr",
     "output_type": "stream",
     "text": [
      "C:\\Users\\Roman\\AppData\\Local\\Packages\\PythonSoftwareFoundation.Python.3.10_qbz5n2kfra8p0\\LocalCache\\local-packages\\Python310\\site-packages\\Historic_Crypto\\HistoricalData.py:176: FutureWarning: The frame.append method is deprecated and will be removed from pandas in a future version. Use pandas.concat instead.\n",
      "  data = data.append(dataset)\n"
     ]
    },
    {
     "name": "stdout",
     "output_type": "stream",
     "text": [
      "Data for chunk 2 of 2 extracted\n",
      "Saved to C:\\Users\\Roman\\Desktop\\DMLS_project\\Crypto\\APE-USD_diff.csv\n",
      "LQTY-USDT\n",
      "Checking input parameters are in the correct format.\n",
      "Formatting Dates.\n",
      "Checking if user supplied is available on the CoinBase Pro API.\n",
      "Connected to the CoinBase Pro API.\n",
      "Ticker 'LQTY-USDT' found at the CoinBase Pro API, continuing to extraction.\n",
      "Provisional Start: 2022-01-11T00:00:00\n",
      "Provisional End: 2022-11-07T00:00:00\n",
      "Data for chunk 1 of 2 extracted\n"
     ]
    },
    {
     "name": "stderr",
     "output_type": "stream",
     "text": [
      "C:\\Users\\Roman\\AppData\\Local\\Packages\\PythonSoftwareFoundation.Python.3.10_qbz5n2kfra8p0\\LocalCache\\local-packages\\Python310\\site-packages\\Historic_Crypto\\HistoricalData.py:176: FutureWarning: The frame.append method is deprecated and will be removed from pandas in a future version. Use pandas.concat instead.\n",
      "  data = data.append(dataset)\n"
     ]
    },
    {
     "name": "stdout",
     "output_type": "stream",
     "text": [
      "Provisional Start: 2022-11-07T00:00:00\n",
      "Provisional End: 2023-09-03T00:00:00\n",
      "Data for chunk 2 of 2 extracted\n",
      "Saved to C:\\Users\\Roman\\Desktop\\DMLS_project\\Crypto\\LQTY-USDT_diff.csv\n",
      "RLY-GBP\n",
      "Checking input parameters are in the correct format.\n",
      "Formatting Dates.\n",
      "Checking if user supplied is available on the CoinBase Pro API.\n",
      "Connected to the CoinBase Pro API.\n",
      "Ticker 'RLY-GBP' found at the CoinBase Pro API, continuing to extraction.\n",
      "Provisional Start: 2022-01-11T00:00:00\n",
      "Provisional End: 2022-11-07T00:00:00\n",
      "Data for chunk 1 of 2 extracted\n",
      "Provisional Start: 2022-11-07T00:00:00\n",
      "Provisional End: 2023-09-03T00:00:00\n"
     ]
    },
    {
     "name": "stderr",
     "output_type": "stream",
     "text": [
      "C:\\Users\\Roman\\AppData\\Local\\Packages\\PythonSoftwareFoundation.Python.3.10_qbz5n2kfra8p0\\LocalCache\\local-packages\\Python310\\site-packages\\Historic_Crypto\\HistoricalData.py:176: FutureWarning: The frame.append method is deprecated and will be removed from pandas in a future version. Use pandas.concat instead.\n",
      "  data = data.append(dataset)\n"
     ]
    },
    {
     "name": "stdout",
     "output_type": "stream",
     "text": [
      "Data for chunk 2 of 2 extracted\n",
      "Saved to C:\\Users\\Roman\\Desktop\\DMLS_project\\Crypto\\RLY-GBP_diff.csv\n",
      "MANA-BTC\n",
      "Checking input parameters are in the correct format.\n",
      "Formatting Dates.\n",
      "Checking if user supplied is available on the CoinBase Pro API.\n",
      "Connected to the CoinBase Pro API.\n",
      "Ticker 'MANA-BTC' found at the CoinBase Pro API, continuing to extraction.\n",
      "Provisional Start: 2022-01-11T00:00:00\n",
      "Provisional End: 2022-11-07T00:00:00\n",
      "Data for chunk 1 of 2 extracted\n"
     ]
    },
    {
     "name": "stderr",
     "output_type": "stream",
     "text": [
      "C:\\Users\\Roman\\AppData\\Local\\Packages\\PythonSoftwareFoundation.Python.3.10_qbz5n2kfra8p0\\LocalCache\\local-packages\\Python310\\site-packages\\Historic_Crypto\\HistoricalData.py:176: FutureWarning: The frame.append method is deprecated and will be removed from pandas in a future version. Use pandas.concat instead.\n",
      "  data = data.append(dataset)\n"
     ]
    },
    {
     "name": "stdout",
     "output_type": "stream",
     "text": [
      "Provisional Start: 2022-11-07T00:00:00\n",
      "Provisional End: 2023-09-03T00:00:00\n",
      "Data for chunk 2 of 2 extracted\n",
      "Saved to C:\\Users\\Roman\\Desktop\\DMLS_project\\Crypto\\MANA-BTC_diff.csv\n",
      "QSP-USD\n",
      "Checking input parameters are in the correct format.\n",
      "Formatting Dates.\n",
      "Checking if user supplied is available on the CoinBase Pro API.\n",
      "Connected to the CoinBase Pro API.\n",
      "Ticker 'QSP-USD' found at the CoinBase Pro API, continuing to extraction.\n",
      "Provisional Start: 2022-01-11T00:00:00\n",
      "Provisional End: 2022-11-07T00:00:00\n",
      "Data for chunk 1 of 2 extracted\n"
     ]
    },
    {
     "name": "stderr",
     "output_type": "stream",
     "text": [
      "C:\\Users\\Roman\\AppData\\Local\\Packages\\PythonSoftwareFoundation.Python.3.10_qbz5n2kfra8p0\\LocalCache\\local-packages\\Python310\\site-packages\\Historic_Crypto\\HistoricalData.py:176: FutureWarning: The frame.append method is deprecated and will be removed from pandas in a future version. Use pandas.concat instead.\n",
      "  data = data.append(dataset)\n"
     ]
    },
    {
     "name": "stdout",
     "output_type": "stream",
     "text": [
      "Provisional Start: 2022-11-07T00:00:00\n",
      "Provisional End: 2023-09-03T00:00:00\n",
      "Data for chunk 2 of 2 extracted\n",
      "Saved to C:\\Users\\Roman\\Desktop\\DMLS_project\\Crypto\\QSP-USD_diff.csv\n",
      "FET-USD\n",
      "Checking input parameters are in the correct format.\n",
      "Formatting Dates.\n",
      "Checking if user supplied is available on the CoinBase Pro API.\n",
      "Connected to the CoinBase Pro API.\n",
      "Ticker 'FET-USD' found at the CoinBase Pro API, continuing to extraction.\n",
      "Provisional Start: 2022-01-11T00:00:00\n",
      "Provisional End: 2022-11-07T00:00:00\n",
      "Data for chunk 1 of 2 extracted\n"
     ]
    },
    {
     "name": "stderr",
     "output_type": "stream",
     "text": [
      "C:\\Users\\Roman\\AppData\\Local\\Packages\\PythonSoftwareFoundation.Python.3.10_qbz5n2kfra8p0\\LocalCache\\local-packages\\Python310\\site-packages\\Historic_Crypto\\HistoricalData.py:176: FutureWarning: The frame.append method is deprecated and will be removed from pandas in a future version. Use pandas.concat instead.\n",
      "  data = data.append(dataset)\n"
     ]
    },
    {
     "name": "stdout",
     "output_type": "stream",
     "text": [
      "Provisional Start: 2022-11-07T00:00:00\n",
      "Provisional End: 2023-09-03T00:00:00\n",
      "Data for chunk 2 of 2 extracted\n",
      "Saved to C:\\Users\\Roman\\Desktop\\DMLS_project\\Crypto\\FET-USD_diff.csv\n",
      "UMA-BTC\n",
      "Checking input parameters are in the correct format.\n",
      "Formatting Dates.\n",
      "Checking if user supplied is available on the CoinBase Pro API.\n",
      "Connected to the CoinBase Pro API.\n",
      "Ticker 'UMA-BTC' found at the CoinBase Pro API, continuing to extraction.\n",
      "Provisional Start: 2022-01-11T00:00:00\n",
      "Provisional End: 2022-11-07T00:00:00\n",
      "Data for chunk 1 of 2 extracted\n"
     ]
    },
    {
     "name": "stderr",
     "output_type": "stream",
     "text": [
      "C:\\Users\\Roman\\AppData\\Local\\Packages\\PythonSoftwareFoundation.Python.3.10_qbz5n2kfra8p0\\LocalCache\\local-packages\\Python310\\site-packages\\Historic_Crypto\\HistoricalData.py:176: FutureWarning: The frame.append method is deprecated and will be removed from pandas in a future version. Use pandas.concat instead.\n",
      "  data = data.append(dataset)\n"
     ]
    },
    {
     "name": "stdout",
     "output_type": "stream",
     "text": [
      "Provisional Start: 2022-11-07T00:00:00\n",
      "Provisional End: 2023-09-03T00:00:00\n",
      "Data for chunk 2 of 2 extracted\n",
      "Saved to C:\\Users\\Roman\\Desktop\\DMLS_project\\Crypto\\UMA-BTC_diff.csv\n",
      "UNFI-USD\n",
      "Checking input parameters are in the correct format.\n",
      "Formatting Dates.\n",
      "Checking if user supplied is available on the CoinBase Pro API.\n",
      "Connected to the CoinBase Pro API.\n",
      "Ticker 'UNFI-USD' found at the CoinBase Pro API, continuing to extraction.\n",
      "Provisional Start: 2022-01-11T00:00:00\n",
      "Provisional End: 2022-11-07T00:00:00\n",
      "Data for chunk 1 of 2 extracted\n"
     ]
    },
    {
     "name": "stderr",
     "output_type": "stream",
     "text": [
      "C:\\Users\\Roman\\AppData\\Local\\Packages\\PythonSoftwareFoundation.Python.3.10_qbz5n2kfra8p0\\LocalCache\\local-packages\\Python310\\site-packages\\Historic_Crypto\\HistoricalData.py:176: FutureWarning: The frame.append method is deprecated and will be removed from pandas in a future version. Use pandas.concat instead.\n",
      "  data = data.append(dataset)\n"
     ]
    },
    {
     "name": "stdout",
     "output_type": "stream",
     "text": [
      "Provisional Start: 2022-11-07T00:00:00\n",
      "Provisional End: 2023-09-03T00:00:00\n",
      "Data for chunk 2 of 2 extracted\n",
      "Saved to C:\\Users\\Roman\\Desktop\\DMLS_project\\Crypto\\UNFI-USD_diff.csv\n",
      "AERGO-USD\n",
      "Checking input parameters are in the correct format.\n",
      "Formatting Dates.\n",
      "Checking if user supplied is available on the CoinBase Pro API.\n",
      "Connected to the CoinBase Pro API.\n",
      "Ticker 'AERGO-USD' found at the CoinBase Pro API, continuing to extraction.\n",
      "Provisional Start: 2022-01-11T00:00:00\n",
      "Provisional End: 2022-11-07T00:00:00\n",
      "Data for chunk 1 of 2 extracted\n",
      "Provisional Start: 2022-11-07T00:00:00\n",
      "Provisional End: 2023-09-03T00:00:00\n"
     ]
    },
    {
     "name": "stderr",
     "output_type": "stream",
     "text": [
      "C:\\Users\\Roman\\AppData\\Local\\Packages\\PythonSoftwareFoundation.Python.3.10_qbz5n2kfra8p0\\LocalCache\\local-packages\\Python310\\site-packages\\Historic_Crypto\\HistoricalData.py:176: FutureWarning: The frame.append method is deprecated and will be removed from pandas in a future version. Use pandas.concat instead.\n",
      "  data = data.append(dataset)\n"
     ]
    },
    {
     "name": "stdout",
     "output_type": "stream",
     "text": [
      "Data for chunk 2 of 2 extracted\n",
      "Saved to C:\\Users\\Roman\\Desktop\\DMLS_project\\Crypto\\AERGO-USD_diff.csv\n",
      "PYR-USD\n",
      "Checking input parameters are in the correct format.\n",
      "Formatting Dates.\n",
      "Checking if user supplied is available on the CoinBase Pro API.\n",
      "Connected to the CoinBase Pro API.\n",
      "Ticker 'PYR-USD' found at the CoinBase Pro API, continuing to extraction.\n",
      "Provisional Start: 2022-01-11T00:00:00\n",
      "Provisional End: 2022-11-07T00:00:00\n",
      "Data for chunk 1 of 2 extracted\n",
      "CoinBase Pro API did not have available data for 'PYR-USD' beginning at 2022-01-11-00-00.  \n",
      "                        Trying a later date:'2022-01-11T00:00:00'\n",
      "Provisional Start: 2022-11-07T00:00:00\n",
      "Provisional End: 2023-09-03T00:00:00\n",
      "Data for chunk 2 of 2 extracted\n"
     ]
    },
    {
     "name": "stderr",
     "output_type": "stream",
     "text": [
      "C:\\Users\\Roman\\AppData\\Local\\Packages\\PythonSoftwareFoundation.Python.3.10_qbz5n2kfra8p0\\LocalCache\\local-packages\\Python310\\site-packages\\Historic_Crypto\\HistoricalData.py:176: FutureWarning: The frame.append method is deprecated and will be removed from pandas in a future version. Use pandas.concat instead.\n",
      "  data = data.append(dataset)\n"
     ]
    },
    {
     "name": "stdout",
     "output_type": "stream",
     "text": [
      "Saved to C:\\Users\\Roman\\Desktop\\DMLS_project\\Crypto\\PYR-USD_diff.csv\n",
      "ZRX-USD\n",
      "Checking input parameters are in the correct format.\n",
      "Formatting Dates.\n",
      "Checking if user supplied is available on the CoinBase Pro API.\n",
      "Connected to the CoinBase Pro API.\n",
      "Ticker 'ZRX-USD' found at the CoinBase Pro API, continuing to extraction.\n",
      "Provisional Start: 2022-01-11T00:00:00\n",
      "Provisional End: 2022-11-07T00:00:00\n",
      "Data for chunk 1 of 2 extracted\n",
      "Provisional Start: 2022-11-07T00:00:00\n",
      "Provisional End: 2023-09-03T00:00:00\n"
     ]
    },
    {
     "name": "stderr",
     "output_type": "stream",
     "text": [
      "C:\\Users\\Roman\\AppData\\Local\\Packages\\PythonSoftwareFoundation.Python.3.10_qbz5n2kfra8p0\\LocalCache\\local-packages\\Python310\\site-packages\\Historic_Crypto\\HistoricalData.py:176: FutureWarning: The frame.append method is deprecated and will be removed from pandas in a future version. Use pandas.concat instead.\n",
      "  data = data.append(dataset)\n"
     ]
    },
    {
     "name": "stdout",
     "output_type": "stream",
     "text": [
      "Data for chunk 2 of 2 extracted\n",
      "Saved to C:\\Users\\Roman\\Desktop\\DMLS_project\\Crypto\\ZRX-USD_diff.csv\n",
      "LINK-USD\n",
      "Checking input parameters are in the correct format.\n",
      "Formatting Dates.\n",
      "Checking if user supplied is available on the CoinBase Pro API.\n",
      "Connected to the CoinBase Pro API.\n",
      "Ticker 'LINK-USD' found at the CoinBase Pro API, continuing to extraction.\n",
      "Provisional Start: 2022-01-11T00:00:00\n",
      "Provisional End: 2022-11-07T00:00:00\n",
      "Data for chunk 1 of 2 extracted\n"
     ]
    },
    {
     "name": "stderr",
     "output_type": "stream",
     "text": [
      "C:\\Users\\Roman\\AppData\\Local\\Packages\\PythonSoftwareFoundation.Python.3.10_qbz5n2kfra8p0\\LocalCache\\local-packages\\Python310\\site-packages\\Historic_Crypto\\HistoricalData.py:176: FutureWarning: The frame.append method is deprecated and will be removed from pandas in a future version. Use pandas.concat instead.\n",
      "  data = data.append(dataset)\n"
     ]
    },
    {
     "name": "stdout",
     "output_type": "stream",
     "text": [
      "Provisional Start: 2022-11-07T00:00:00\n",
      "Provisional End: 2023-09-03T00:00:00\n",
      "Data for chunk 2 of 2 extracted\n",
      "Saved to C:\\Users\\Roman\\Desktop\\DMLS_project\\Crypto\\LINK-USD_diff.csv\n",
      "NCT-USD\n",
      "Checking input parameters are in the correct format.\n",
      "Formatting Dates.\n",
      "Checking if user supplied is available on the CoinBase Pro API.\n",
      "Connected to the CoinBase Pro API.\n",
      "Ticker 'NCT-USD' found at the CoinBase Pro API, continuing to extraction.\n",
      "Provisional Start: 2022-01-11T00:00:00\n",
      "Provisional End: 2022-11-07T00:00:00\n",
      "Data for chunk 1 of 2 extracted\n"
     ]
    },
    {
     "name": "stderr",
     "output_type": "stream",
     "text": [
      "C:\\Users\\Roman\\AppData\\Local\\Packages\\PythonSoftwareFoundation.Python.3.10_qbz5n2kfra8p0\\LocalCache\\local-packages\\Python310\\site-packages\\Historic_Crypto\\HistoricalData.py:176: FutureWarning: The frame.append method is deprecated and will be removed from pandas in a future version. Use pandas.concat instead.\n",
      "  data = data.append(dataset)\n"
     ]
    },
    {
     "name": "stdout",
     "output_type": "stream",
     "text": [
      "Provisional Start: 2022-11-07T00:00:00\n",
      "Provisional End: 2023-09-03T00:00:00\n",
      "Data for chunk 2 of 2 extracted\n",
      "Saved to C:\\Users\\Roman\\Desktop\\DMLS_project\\Crypto\\NCT-USD_diff.csv\n",
      "APE-EUR\n",
      "Checking input parameters are in the correct format.\n",
      "Formatting Dates.\n",
      "Checking if user supplied is available on the CoinBase Pro API.\n",
      "Connected to the CoinBase Pro API.\n",
      "Ticker 'APE-EUR' found at the CoinBase Pro API, continuing to extraction.\n",
      "Provisional Start: 2022-01-11T00:00:00\n",
      "Provisional End: 2022-11-07T00:00:00\n",
      "Data for chunk 1 of 2 extracted\n"
     ]
    },
    {
     "name": "stderr",
     "output_type": "stream",
     "text": [
      "C:\\Users\\Roman\\AppData\\Local\\Packages\\PythonSoftwareFoundation.Python.3.10_qbz5n2kfra8p0\\LocalCache\\local-packages\\Python310\\site-packages\\Historic_Crypto\\HistoricalData.py:176: FutureWarning: The frame.append method is deprecated and will be removed from pandas in a future version. Use pandas.concat instead.\n",
      "  data = data.append(dataset)\n"
     ]
    },
    {
     "name": "stdout",
     "output_type": "stream",
     "text": [
      "Provisional Start: 2022-11-07T00:00:00\n",
      "Provisional End: 2023-09-03T00:00:00\n",
      "Data for chunk 2 of 2 extracted\n",
      "Saved to C:\\Users\\Roman\\Desktop\\DMLS_project\\Crypto\\APE-EUR_diff.csv\n",
      "FOX-USDT\n",
      "Checking input parameters are in the correct format.\n",
      "Formatting Dates.\n",
      "Checking if user supplied is available on the CoinBase Pro API.\n",
      "Connected to the CoinBase Pro API.\n",
      "Ticker 'FOX-USDT' found at the CoinBase Pro API, continuing to extraction.\n",
      "Provisional Start: 2022-01-11T00:00:00\n",
      "Provisional End: 2022-11-07T00:00:00\n",
      "Data for chunk 1 of 2 extracted\n"
     ]
    },
    {
     "name": "stderr",
     "output_type": "stream",
     "text": [
      "C:\\Users\\Roman\\AppData\\Local\\Packages\\PythonSoftwareFoundation.Python.3.10_qbz5n2kfra8p0\\LocalCache\\local-packages\\Python310\\site-packages\\Historic_Crypto\\HistoricalData.py:176: FutureWarning: The frame.append method is deprecated and will be removed from pandas in a future version. Use pandas.concat instead.\n",
      "  data = data.append(dataset)\n"
     ]
    },
    {
     "name": "stdout",
     "output_type": "stream",
     "text": [
      "Provisional Start: 2022-11-07T00:00:00\n",
      "Provisional End: 2023-09-03T00:00:00\n",
      "Data for chunk 2 of 2 extracted\n",
      "Saved to C:\\Users\\Roman\\Desktop\\DMLS_project\\Crypto\\FOX-USDT_diff.csv\n",
      "DDX-EUR\n",
      "Checking input parameters are in the correct format.\n",
      "Formatting Dates.\n",
      "Checking if user supplied is available on the CoinBase Pro API.\n",
      "Connected to the CoinBase Pro API.\n",
      "Ticker 'DDX-EUR' found at the CoinBase Pro API, continuing to extraction.\n",
      "Provisional Start: 2022-01-11T00:00:00\n",
      "Provisional End: 2022-11-07T00:00:00\n",
      "Data for chunk 1 of 2 extracted\n"
     ]
    },
    {
     "name": "stderr",
     "output_type": "stream",
     "text": [
      "C:\\Users\\Roman\\AppData\\Local\\Packages\\PythonSoftwareFoundation.Python.3.10_qbz5n2kfra8p0\\LocalCache\\local-packages\\Python310\\site-packages\\Historic_Crypto\\HistoricalData.py:176: FutureWarning: The frame.append method is deprecated and will be removed from pandas in a future version. Use pandas.concat instead.\n",
      "  data = data.append(dataset)\n"
     ]
    },
    {
     "name": "stdout",
     "output_type": "stream",
     "text": [
      "Provisional Start: 2022-11-07T00:00:00\n",
      "Provisional End: 2023-09-03T00:00:00\n",
      "Data for chunk 2 of 2 extracted\n",
      "Saved to C:\\Users\\Roman\\Desktop\\DMLS_project\\Crypto\\DDX-EUR_diff.csv\n",
      "MKR-USD\n",
      "Checking input parameters are in the correct format.\n",
      "Formatting Dates.\n",
      "Checking if user supplied is available on the CoinBase Pro API.\n",
      "Connected to the CoinBase Pro API.\n",
      "Ticker 'MKR-USD' found at the CoinBase Pro API, continuing to extraction.\n",
      "Provisional Start: 2022-01-11T00:00:00\n",
      "Provisional End: 2022-11-07T00:00:00\n",
      "Data for chunk 1 of 2 extracted\n",
      "Provisional Start: 2022-11-07T00:00:00\n",
      "Provisional End: 2023-09-03T00:00:00\n"
     ]
    },
    {
     "name": "stderr",
     "output_type": "stream",
     "text": [
      "C:\\Users\\Roman\\AppData\\Local\\Packages\\PythonSoftwareFoundation.Python.3.10_qbz5n2kfra8p0\\LocalCache\\local-packages\\Python310\\site-packages\\Historic_Crypto\\HistoricalData.py:176: FutureWarning: The frame.append method is deprecated and will be removed from pandas in a future version. Use pandas.concat instead.\n",
      "  data = data.append(dataset)\n"
     ]
    },
    {
     "name": "stdout",
     "output_type": "stream",
     "text": [
      "Data for chunk 2 of 2 extracted\n",
      "Saved to C:\\Users\\Roman\\Desktop\\DMLS_project\\Crypto\\MKR-USD_diff.csv\n",
      "BOBA-USDT\n",
      "Checking input parameters are in the correct format.\n",
      "Formatting Dates.\n",
      "Checking if user supplied is available on the CoinBase Pro API.\n",
      "Connected to the CoinBase Pro API.\n",
      "Ticker 'BOBA-USDT' found at the CoinBase Pro API, continuing to extraction.\n",
      "Provisional Start: 2022-01-11T00:00:00\n",
      "Provisional End: 2022-11-07T00:00:00\n",
      "Data for chunk 1 of 2 extracted\n"
     ]
    },
    {
     "name": "stderr",
     "output_type": "stream",
     "text": [
      "C:\\Users\\Roman\\AppData\\Local\\Packages\\PythonSoftwareFoundation.Python.3.10_qbz5n2kfra8p0\\LocalCache\\local-packages\\Python310\\site-packages\\Historic_Crypto\\HistoricalData.py:176: FutureWarning: The frame.append method is deprecated and will be removed from pandas in a future version. Use pandas.concat instead.\n",
      "  data = data.append(dataset)\n"
     ]
    },
    {
     "name": "stdout",
     "output_type": "stream",
     "text": [
      "Provisional Start: 2022-11-07T00:00:00\n",
      "Provisional End: 2023-09-03T00:00:00\n",
      "Data for chunk 2 of 2 extracted\n",
      "Saved to C:\\Users\\Roman\\Desktop\\DMLS_project\\Crypto\\BOBA-USDT_diff.csv\n",
      "DOGE-BTC\n",
      "Checking input parameters are in the correct format.\n",
      "Formatting Dates.\n",
      "Checking if user supplied is available on the CoinBase Pro API.\n",
      "Connected to the CoinBase Pro API.\n",
      "Ticker 'DOGE-BTC' found at the CoinBase Pro API, continuing to extraction.\n",
      "Provisional Start: 2022-01-11T00:00:00\n",
      "Provisional End: 2022-11-07T00:00:00\n",
      "Data for chunk 1 of 2 extracted\n"
     ]
    },
    {
     "name": "stderr",
     "output_type": "stream",
     "text": [
      "C:\\Users\\Roman\\AppData\\Local\\Packages\\PythonSoftwareFoundation.Python.3.10_qbz5n2kfra8p0\\LocalCache\\local-packages\\Python310\\site-packages\\Historic_Crypto\\HistoricalData.py:176: FutureWarning: The frame.append method is deprecated and will be removed from pandas in a future version. Use pandas.concat instead.\n",
      "  data = data.append(dataset)\n"
     ]
    },
    {
     "name": "stdout",
     "output_type": "stream",
     "text": [
      "Provisional Start: 2022-11-07T00:00:00\n",
      "Provisional End: 2023-09-03T00:00:00\n",
      "Data for chunk 2 of 2 extracted\n",
      "Saved to C:\\Users\\Roman\\Desktop\\DMLS_project\\Crypto\\DOGE-BTC_diff.csv\n",
      "GRT-USD\n",
      "Checking input parameters are in the correct format.\n",
      "Formatting Dates.\n",
      "Checking if user supplied is available on the CoinBase Pro API.\n",
      "Connected to the CoinBase Pro API.\n",
      "Ticker 'GRT-USD' found at the CoinBase Pro API, continuing to extraction.\n",
      "Provisional Start: 2022-01-11T00:00:00\n",
      "Provisional End: 2022-11-07T00:00:00\n",
      "Data for chunk 1 of 2 extracted\n"
     ]
    },
    {
     "name": "stderr",
     "output_type": "stream",
     "text": [
      "C:\\Users\\Roman\\AppData\\Local\\Packages\\PythonSoftwareFoundation.Python.3.10_qbz5n2kfra8p0\\LocalCache\\local-packages\\Python310\\site-packages\\Historic_Crypto\\HistoricalData.py:176: FutureWarning: The frame.append method is deprecated and will be removed from pandas in a future version. Use pandas.concat instead.\n",
      "  data = data.append(dataset)\n"
     ]
    },
    {
     "name": "stdout",
     "output_type": "stream",
     "text": [
      "Provisional Start: 2022-11-07T00:00:00\n",
      "Provisional End: 2023-09-03T00:00:00\n",
      "Data for chunk 2 of 2 extracted\n",
      "Saved to C:\\Users\\Roman\\Desktop\\DMLS_project\\Crypto\\GRT-USD_diff.csv\n",
      "BAT-USD\n",
      "Checking input parameters are in the correct format.\n",
      "Formatting Dates.\n",
      "Checking if user supplied is available on the CoinBase Pro API.\n",
      "Connected to the CoinBase Pro API.\n",
      "Ticker 'BAT-USD' found at the CoinBase Pro API, continuing to extraction.\n",
      "Provisional Start: 2022-01-11T00:00:00\n",
      "Provisional End: 2022-11-07T00:00:00\n",
      "Data for chunk 1 of 2 extracted\n"
     ]
    },
    {
     "name": "stderr",
     "output_type": "stream",
     "text": [
      "C:\\Users\\Roman\\AppData\\Local\\Packages\\PythonSoftwareFoundation.Python.3.10_qbz5n2kfra8p0\\LocalCache\\local-packages\\Python310\\site-packages\\Historic_Crypto\\HistoricalData.py:176: FutureWarning: The frame.append method is deprecated and will be removed from pandas in a future version. Use pandas.concat instead.\n",
      "  data = data.append(dataset)\n"
     ]
    },
    {
     "name": "stdout",
     "output_type": "stream",
     "text": [
      "Provisional Start: 2022-11-07T00:00:00\n",
      "Provisional End: 2023-09-03T00:00:00\n",
      "Data for chunk 2 of 2 extracted\n",
      "Saved to C:\\Users\\Roman\\Desktop\\DMLS_project\\Crypto\\BAT-USD_diff.csv\n",
      "SUPER-USD\n",
      "Checking input parameters are in the correct format.\n",
      "Formatting Dates.\n",
      "Checking if user supplied is available on the CoinBase Pro API.\n",
      "Connected to the CoinBase Pro API.\n",
      "Ticker 'SUPER-USD' found at the CoinBase Pro API, continuing to extraction.\n",
      "Provisional Start: 2022-01-11T00:00:00\n",
      "Provisional End: 2022-11-07T00:00:00\n",
      "Data for chunk 1 of 2 extracted\n"
     ]
    },
    {
     "name": "stderr",
     "output_type": "stream",
     "text": [
      "C:\\Users\\Roman\\AppData\\Local\\Packages\\PythonSoftwareFoundation.Python.3.10_qbz5n2kfra8p0\\LocalCache\\local-packages\\Python310\\site-packages\\Historic_Crypto\\HistoricalData.py:176: FutureWarning: The frame.append method is deprecated and will be removed from pandas in a future version. Use pandas.concat instead.\n",
      "  data = data.append(dataset)\n"
     ]
    },
    {
     "name": "stdout",
     "output_type": "stream",
     "text": [
      "Provisional Start: 2022-11-07T00:00:00\n",
      "Provisional End: 2023-09-03T00:00:00\n",
      "Data for chunk 2 of 2 extracted\n",
      "Saved to C:\\Users\\Roman\\Desktop\\DMLS_project\\Crypto\\SUPER-USD_diff.csv\n",
      "ZEN-USDT\n",
      "Checking input parameters are in the correct format.\n",
      "Formatting Dates.\n",
      "Checking if user supplied is available on the CoinBase Pro API.\n",
      "Connected to the CoinBase Pro API.\n",
      "Ticker 'ZEN-USDT' found at the CoinBase Pro API, continuing to extraction.\n",
      "Provisional Start: 2022-01-11T00:00:00\n",
      "Provisional End: 2022-11-07T00:00:00\n",
      "Data for chunk 1 of 2 extracted\n"
     ]
    },
    {
     "name": "stderr",
     "output_type": "stream",
     "text": [
      "C:\\Users\\Roman\\AppData\\Local\\Packages\\PythonSoftwareFoundation.Python.3.10_qbz5n2kfra8p0\\LocalCache\\local-packages\\Python310\\site-packages\\Historic_Crypto\\HistoricalData.py:176: FutureWarning: The frame.append method is deprecated and will be removed from pandas in a future version. Use pandas.concat instead.\n",
      "  data = data.append(dataset)\n"
     ]
    },
    {
     "name": "stdout",
     "output_type": "stream",
     "text": [
      "Provisional Start: 2022-11-07T00:00:00\n",
      "Provisional End: 2023-09-03T00:00:00\n",
      "Data for chunk 2 of 2 extracted\n",
      "Saved to C:\\Users\\Roman\\Desktop\\DMLS_project\\Crypto\\ZEN-USDT_diff.csv\n",
      "WCFG-USDT\n",
      "Checking input parameters are in the correct format.\n",
      "Formatting Dates.\n",
      "Checking if user supplied is available on the CoinBase Pro API.\n",
      "Connected to the CoinBase Pro API.\n",
      "Ticker 'WCFG-USDT' found at the CoinBase Pro API, continuing to extraction.\n",
      "Provisional Start: 2022-01-11T00:00:00\n",
      "Provisional End: 2022-11-07T00:00:00\n",
      "Data for chunk 1 of 2 extracted\n"
     ]
    },
    {
     "name": "stderr",
     "output_type": "stream",
     "text": [
      "C:\\Users\\Roman\\AppData\\Local\\Packages\\PythonSoftwareFoundation.Python.3.10_qbz5n2kfra8p0\\LocalCache\\local-packages\\Python310\\site-packages\\Historic_Crypto\\HistoricalData.py:176: FutureWarning: The frame.append method is deprecated and will be removed from pandas in a future version. Use pandas.concat instead.\n",
      "  data = data.append(dataset)\n"
     ]
    },
    {
     "name": "stdout",
     "output_type": "stream",
     "text": [
      "Provisional Start: 2022-11-07T00:00:00\n",
      "Provisional End: 2023-09-03T00:00:00\n",
      "Data for chunk 2 of 2 extracted\n",
      "Saved to C:\\Users\\Roman\\Desktop\\DMLS_project\\Crypto\\WCFG-USDT_diff.csv\n",
      "ALGO-EUR\n",
      "Checking input parameters are in the correct format.\n",
      "Formatting Dates.\n",
      "Checking if user supplied is available on the CoinBase Pro API.\n",
      "Connected to the CoinBase Pro API.\n",
      "Ticker 'ALGO-EUR' found at the CoinBase Pro API, continuing to extraction.\n",
      "Provisional Start: 2022-01-11T00:00:00\n",
      "Provisional End: 2022-11-07T00:00:00\n",
      "Data for chunk 1 of 2 extracted\n"
     ]
    },
    {
     "name": "stderr",
     "output_type": "stream",
     "text": [
      "C:\\Users\\Roman\\AppData\\Local\\Packages\\PythonSoftwareFoundation.Python.3.10_qbz5n2kfra8p0\\LocalCache\\local-packages\\Python310\\site-packages\\Historic_Crypto\\HistoricalData.py:176: FutureWarning: The frame.append method is deprecated and will be removed from pandas in a future version. Use pandas.concat instead.\n",
      "  data = data.append(dataset)\n"
     ]
    },
    {
     "name": "stdout",
     "output_type": "stream",
     "text": [
      "Provisional Start: 2022-11-07T00:00:00\n",
      "Provisional End: 2023-09-03T00:00:00\n",
      "Data for chunk 2 of 2 extracted\n",
      "Saved to C:\\Users\\Roman\\Desktop\\DMLS_project\\Crypto\\ALGO-EUR_diff.csv\n",
      "MATH-USDT\n",
      "Checking input parameters are in the correct format.\n",
      "Formatting Dates.\n",
      "Checking if user supplied is available on the CoinBase Pro API.\n",
      "Connected to the CoinBase Pro API.\n",
      "Ticker 'MATH-USDT' found at the CoinBase Pro API, continuing to extraction.\n",
      "Provisional Start: 2022-01-11T00:00:00\n",
      "Provisional End: 2022-11-07T00:00:00\n",
      "Data for chunk 1 of 2 extracted\n",
      "Provisional Start: 2022-11-07T00:00:00\n",
      "Provisional End: 2023-09-03T00:00:00\n"
     ]
    },
    {
     "name": "stderr",
     "output_type": "stream",
     "text": [
      "C:\\Users\\Roman\\AppData\\Local\\Packages\\PythonSoftwareFoundation.Python.3.10_qbz5n2kfra8p0\\LocalCache\\local-packages\\Python310\\site-packages\\Historic_Crypto\\HistoricalData.py:176: FutureWarning: The frame.append method is deprecated and will be removed from pandas in a future version. Use pandas.concat instead.\n",
      "  data = data.append(dataset)\n"
     ]
    },
    {
     "name": "stdout",
     "output_type": "stream",
     "text": [
      "Data for chunk 2 of 2 extracted\n",
      "Saved to C:\\Users\\Roman\\Desktop\\DMLS_project\\Crypto\\MATH-USDT_diff.csv\n",
      "DNT-USDC\n",
      "Checking input parameters are in the correct format.\n",
      "Formatting Dates.\n",
      "Checking if user supplied is available on the CoinBase Pro API.\n",
      "Connected to the CoinBase Pro API.\n",
      "Ticker 'DNT-USDC' found at the CoinBase Pro API, continuing to extraction.\n",
      "Provisional Start: 2022-01-11T00:00:00\n",
      "Provisional End: 2022-11-07T00:00:00\n",
      "Data for chunk 1 of 2 extracted\n",
      "Provisional Start: 2022-11-07T00:00:00\n",
      "Provisional End: 2023-09-03T00:00:00\n"
     ]
    },
    {
     "name": "stderr",
     "output_type": "stream",
     "text": [
      "C:\\Users\\Roman\\AppData\\Local\\Packages\\PythonSoftwareFoundation.Python.3.10_qbz5n2kfra8p0\\LocalCache\\local-packages\\Python310\\site-packages\\Historic_Crypto\\HistoricalData.py:176: FutureWarning: The frame.append method is deprecated and will be removed from pandas in a future version. Use pandas.concat instead.\n",
      "  data = data.append(dataset)\n"
     ]
    },
    {
     "name": "stdout",
     "output_type": "stream",
     "text": [
      "Data for chunk 2 of 2 extracted\n",
      "CoinBase Pro API did not have available data for 'DNT-USDC' beginning at 2022-01-11-00-00.  \n",
      "                        Trying a later date:'2022-11-07T00:00:00'\n",
      "Saved to C:\\Users\\Roman\\Desktop\\DMLS_project\\Crypto\\DNT-USDC_diff.csv\n",
      "DASH-USD\n",
      "Checking input parameters are in the correct format.\n",
      "Formatting Dates.\n",
      "Checking if user supplied is available on the CoinBase Pro API.\n",
      "Connected to the CoinBase Pro API.\n",
      "Ticker 'DASH-USD' found at the CoinBase Pro API, continuing to extraction.\n",
      "Provisional Start: 2022-01-11T00:00:00\n",
      "Provisional End: 2022-11-07T00:00:00\n",
      "Data for chunk 1 of 2 extracted\n"
     ]
    },
    {
     "name": "stderr",
     "output_type": "stream",
     "text": [
      "C:\\Users\\Roman\\AppData\\Local\\Packages\\PythonSoftwareFoundation.Python.3.10_qbz5n2kfra8p0\\LocalCache\\local-packages\\Python310\\site-packages\\Historic_Crypto\\HistoricalData.py:176: FutureWarning: The frame.append method is deprecated and will be removed from pandas in a future version. Use pandas.concat instead.\n",
      "  data = data.append(dataset)\n"
     ]
    },
    {
     "name": "stdout",
     "output_type": "stream",
     "text": [
      "Provisional Start: 2022-11-07T00:00:00\n",
      "Provisional End: 2023-09-03T00:00:00\n",
      "Data for chunk 2 of 2 extracted\n",
      "Saved to C:\\Users\\Roman\\Desktop\\DMLS_project\\Crypto\\DASH-USD_diff.csv\n",
      "TONE-USD\n",
      "Checking input parameters are in the correct format.\n",
      "Formatting Dates.\n",
      "Checking if user supplied is available on the CoinBase Pro API.\n",
      "Connected to the CoinBase Pro API.\n",
      "Ticker 'TONE-USD' found at the CoinBase Pro API, continuing to extraction.\n",
      "Provisional Start: 2022-01-11T00:00:00\n",
      "Provisional End: 2022-11-07T00:00:00\n",
      "Data for chunk 1 of 2 extracted\n",
      "Provisional Start: 2022-11-07T00:00:00\n",
      "Provisional End: 2023-09-03T00:00:00\n"
     ]
    },
    {
     "name": "stderr",
     "output_type": "stream",
     "text": [
      "C:\\Users\\Roman\\AppData\\Local\\Packages\\PythonSoftwareFoundation.Python.3.10_qbz5n2kfra8p0\\LocalCache\\local-packages\\Python310\\site-packages\\Historic_Crypto\\HistoricalData.py:176: FutureWarning: The frame.append method is deprecated and will be removed from pandas in a future version. Use pandas.concat instead.\n",
      "  data = data.append(dataset)\n"
     ]
    },
    {
     "name": "stdout",
     "output_type": "stream",
     "text": [
      "Data for chunk 2 of 2 extracted\n",
      "Saved to C:\\Users\\Roman\\Desktop\\DMLS_project\\Crypto\\TONE-USD_diff.csv\n",
      "KRL-USDT\n",
      "Checking input parameters are in the correct format.\n",
      "Formatting Dates.\n",
      "Checking if user supplied is available on the CoinBase Pro API.\n",
      "Connected to the CoinBase Pro API.\n",
      "Ticker 'KRL-USDT' found at the CoinBase Pro API, continuing to extraction.\n",
      "Provisional Start: 2022-01-11T00:00:00\n",
      "Provisional End: 2022-11-07T00:00:00\n",
      "Data for chunk 1 of 2 extracted\n",
      "Provisional Start: 2022-11-07T00:00:00\n",
      "Provisional End: 2023-09-03T00:00:00\n"
     ]
    },
    {
     "name": "stderr",
     "output_type": "stream",
     "text": [
      "C:\\Users\\Roman\\AppData\\Local\\Packages\\PythonSoftwareFoundation.Python.3.10_qbz5n2kfra8p0\\LocalCache\\local-packages\\Python310\\site-packages\\Historic_Crypto\\HistoricalData.py:176: FutureWarning: The frame.append method is deprecated and will be removed from pandas in a future version. Use pandas.concat instead.\n",
      "  data = data.append(dataset)\n"
     ]
    },
    {
     "name": "stdout",
     "output_type": "stream",
     "text": [
      "Data for chunk 2 of 2 extracted\n",
      "Saved to C:\\Users\\Roman\\Desktop\\DMLS_project\\Crypto\\KRL-USDT_diff.csv\n",
      "FIDA-USD\n",
      "Checking input parameters are in the correct format.\n",
      "Formatting Dates.\n",
      "Checking if user supplied is available on the CoinBase Pro API.\n",
      "Connected to the CoinBase Pro API.\n",
      "Ticker 'FIDA-USD' found at the CoinBase Pro API, continuing to extraction.\n",
      "Provisional Start: 2022-01-11T00:00:00\n",
      "Provisional End: 2022-11-07T00:00:00\n",
      "Data for chunk 1 of 2 extracted\n"
     ]
    },
    {
     "name": "stderr",
     "output_type": "stream",
     "text": [
      "C:\\Users\\Roman\\AppData\\Local\\Packages\\PythonSoftwareFoundation.Python.3.10_qbz5n2kfra8p0\\LocalCache\\local-packages\\Python310\\site-packages\\Historic_Crypto\\HistoricalData.py:176: FutureWarning: The frame.append method is deprecated and will be removed from pandas in a future version. Use pandas.concat instead.\n",
      "  data = data.append(dataset)\n"
     ]
    },
    {
     "name": "stdout",
     "output_type": "stream",
     "text": [
      "Provisional Start: 2022-11-07T00:00:00\n",
      "Provisional End: 2023-09-03T00:00:00\n",
      "Data for chunk 2 of 2 extracted\n",
      "Saved to C:\\Users\\Roman\\Desktop\\DMLS_project\\Crypto\\FIDA-USD_diff.csv\n",
      "COMP-BTC\n",
      "Checking input parameters are in the correct format.\n",
      "Formatting Dates.\n",
      "Checking if user supplied is available on the CoinBase Pro API.\n",
      "Connected to the CoinBase Pro API.\n",
      "Ticker 'COMP-BTC' found at the CoinBase Pro API, continuing to extraction.\n",
      "Provisional Start: 2022-01-11T00:00:00\n",
      "Provisional End: 2022-11-07T00:00:00\n",
      "Data for chunk 1 of 2 extracted\n",
      "Provisional Start: 2022-11-07T00:00:00\n",
      "Provisional End: 2023-09-03T00:00:00\n"
     ]
    },
    {
     "name": "stderr",
     "output_type": "stream",
     "text": [
      "C:\\Users\\Roman\\AppData\\Local\\Packages\\PythonSoftwareFoundation.Python.3.10_qbz5n2kfra8p0\\LocalCache\\local-packages\\Python310\\site-packages\\Historic_Crypto\\HistoricalData.py:176: FutureWarning: The frame.append method is deprecated and will be removed from pandas in a future version. Use pandas.concat instead.\n",
      "  data = data.append(dataset)\n"
     ]
    },
    {
     "name": "stdout",
     "output_type": "stream",
     "text": [
      "Data for chunk 2 of 2 extracted\n",
      "Saved to C:\\Users\\Roman\\Desktop\\DMLS_project\\Crypto\\COMP-BTC_diff.csv\n",
      "BTC-USDT\n",
      "Checking input parameters are in the correct format.\n",
      "Formatting Dates.\n",
      "Checking if user supplied is available on the CoinBase Pro API.\n",
      "Connected to the CoinBase Pro API.\n",
      "Ticker 'BTC-USDT' found at the CoinBase Pro API, continuing to extraction.\n",
      "Provisional Start: 2022-01-11T00:00:00\n",
      "Provisional End: 2022-11-07T00:00:00\n",
      "Data for chunk 1 of 2 extracted\n",
      "Provisional Start: 2022-11-07T00:00:00\n",
      "Provisional End: 2023-09-03T00:00:00\n"
     ]
    },
    {
     "name": "stderr",
     "output_type": "stream",
     "text": [
      "C:\\Users\\Roman\\AppData\\Local\\Packages\\PythonSoftwareFoundation.Python.3.10_qbz5n2kfra8p0\\LocalCache\\local-packages\\Python310\\site-packages\\Historic_Crypto\\HistoricalData.py:176: FutureWarning: The frame.append method is deprecated and will be removed from pandas in a future version. Use pandas.concat instead.\n",
      "  data = data.append(dataset)\n"
     ]
    },
    {
     "name": "stdout",
     "output_type": "stream",
     "text": [
      "Data for chunk 2 of 2 extracted\n",
      "Saved to C:\\Users\\Roman\\Desktop\\DMLS_project\\Crypto\\BTC-USDT_diff.csv\n",
      "BOBA-USD\n",
      "Checking input parameters are in the correct format.\n",
      "Formatting Dates.\n",
      "Checking if user supplied is available on the CoinBase Pro API.\n",
      "Connected to the CoinBase Pro API.\n",
      "Ticker 'BOBA-USD' found at the CoinBase Pro API, continuing to extraction.\n",
      "Provisional Start: 2022-01-11T00:00:00\n",
      "Provisional End: 2022-11-07T00:00:00\n",
      "Data for chunk 1 of 2 extracted\n",
      "Provisional Start: 2022-11-07T00:00:00\n",
      "Provisional End: 2023-09-03T00:00:00\n"
     ]
    },
    {
     "name": "stderr",
     "output_type": "stream",
     "text": [
      "C:\\Users\\Roman\\AppData\\Local\\Packages\\PythonSoftwareFoundation.Python.3.10_qbz5n2kfra8p0\\LocalCache\\local-packages\\Python310\\site-packages\\Historic_Crypto\\HistoricalData.py:176: FutureWarning: The frame.append method is deprecated and will be removed from pandas in a future version. Use pandas.concat instead.\n",
      "  data = data.append(dataset)\n"
     ]
    },
    {
     "name": "stdout",
     "output_type": "stream",
     "text": [
      "Data for chunk 2 of 2 extracted\n",
      "Saved to C:\\Users\\Roman\\Desktop\\DMLS_project\\Crypto\\BOBA-USD_diff.csv\n",
      "LINK-USDT\n",
      "Checking input parameters are in the correct format.\n",
      "Formatting Dates.\n",
      "Checking if user supplied is available on the CoinBase Pro API.\n",
      "Connected to the CoinBase Pro API.\n",
      "Ticker 'LINK-USDT' found at the CoinBase Pro API, continuing to extraction.\n",
      "Provisional Start: 2022-01-11T00:00:00\n",
      "Provisional End: 2022-11-07T00:00:00\n",
      "Data for chunk 1 of 2 extracted\n"
     ]
    },
    {
     "name": "stderr",
     "output_type": "stream",
     "text": [
      "C:\\Users\\Roman\\AppData\\Local\\Packages\\PythonSoftwareFoundation.Python.3.10_qbz5n2kfra8p0\\LocalCache\\local-packages\\Python310\\site-packages\\Historic_Crypto\\HistoricalData.py:176: FutureWarning: The frame.append method is deprecated and will be removed from pandas in a future version. Use pandas.concat instead.\n",
      "  data = data.append(dataset)\n"
     ]
    },
    {
     "name": "stdout",
     "output_type": "stream",
     "text": [
      "Provisional Start: 2022-11-07T00:00:00\n",
      "Provisional End: 2023-09-03T00:00:00\n",
      "Data for chunk 2 of 2 extracted\n",
      "Saved to C:\\Users\\Roman\\Desktop\\DMLS_project\\Crypto\\LINK-USDT_diff.csv\n",
      "MDT-USD\n",
      "Checking input parameters are in the correct format.\n",
      "Formatting Dates.\n",
      "Checking if user supplied is available on the CoinBase Pro API.\n",
      "Connected to the CoinBase Pro API.\n",
      "Ticker 'MDT-USD' found at the CoinBase Pro API, continuing to extraction.\n",
      "Provisional Start: 2022-01-11T00:00:00\n",
      "Provisional End: 2022-11-07T00:00:00\n",
      "Data for chunk 1 of 2 extracted\n"
     ]
    },
    {
     "name": "stderr",
     "output_type": "stream",
     "text": [
      "C:\\Users\\Roman\\AppData\\Local\\Packages\\PythonSoftwareFoundation.Python.3.10_qbz5n2kfra8p0\\LocalCache\\local-packages\\Python310\\site-packages\\Historic_Crypto\\HistoricalData.py:176: FutureWarning: The frame.append method is deprecated and will be removed from pandas in a future version. Use pandas.concat instead.\n",
      "  data = data.append(dataset)\n"
     ]
    },
    {
     "name": "stdout",
     "output_type": "stream",
     "text": [
      "Provisional Start: 2022-11-07T00:00:00\n",
      "Provisional End: 2023-09-03T00:00:00\n",
      "Data for chunk 2 of 2 extracted\n",
      "Saved to C:\\Users\\Roman\\Desktop\\DMLS_project\\Crypto\\MDT-USD_diff.csv\n",
      "XRP-BTC\n",
      "Checking input parameters are in the correct format.\n",
      "Formatting Dates.\n",
      "Checking if user supplied is available on the CoinBase Pro API.\n",
      "Connected to the CoinBase Pro API.\n",
      "Ticker 'XRP-BTC' found at the CoinBase Pro API, continuing to extraction.\n",
      "Provisional Start: 2022-01-11T00:00:00\n",
      "Provisional End: 2022-11-07T00:00:00\n",
      "Data for chunk 1 of 2 extracted\n",
      "CoinBase Pro API did not have available data for 'XRP-BTC' beginning at 2022-01-11-00-00.  \n",
      "                        Trying a later date:'2022-01-11T00:00:00'\n",
      "Provisional Start: 2022-11-07T00:00:00\n",
      "Provisional End: 2023-09-03T00:00:00\n",
      "Data for chunk 2 of 2 extracted\n",
      "CoinBase Pro API did not have available data for 'XRP-BTC' beginning at 2022-01-11-00-00.  \n",
      "                        Trying a later date:'2022-11-07T00:00:00'\n",
      "bad: XRP-BTC\n",
      "FARM-USDT\n",
      "Checking input parameters are in the correct format.\n",
      "Formatting Dates.\n",
      "Checking if user supplied is available on the CoinBase Pro API.\n",
      "Connected to the CoinBase Pro API.\n",
      "Ticker 'FARM-USDT' found at the CoinBase Pro API, continuing to extraction.\n",
      "Provisional Start: 2022-01-11T00:00:00\n",
      "Provisional End: 2022-11-07T00:00:00\n",
      "Data for chunk 1 of 2 extracted\n",
      "Provisional Start: 2022-11-07T00:00:00\n",
      "Provisional End: 2023-09-03T00:00:00\n"
     ]
    },
    {
     "name": "stderr",
     "output_type": "stream",
     "text": [
      "C:\\Users\\Roman\\AppData\\Local\\Packages\\PythonSoftwareFoundation.Python.3.10_qbz5n2kfra8p0\\LocalCache\\local-packages\\Python310\\site-packages\\Historic_Crypto\\HistoricalData.py:176: FutureWarning: The frame.append method is deprecated and will be removed from pandas in a future version. Use pandas.concat instead.\n",
      "  data = data.append(dataset)\n"
     ]
    },
    {
     "name": "stdout",
     "output_type": "stream",
     "text": [
      "Data for chunk 2 of 2 extracted\n",
      "Saved to C:\\Users\\Roman\\Desktop\\DMLS_project\\Crypto\\FARM-USDT_diff.csv\n",
      "SHPING-USDT\n",
      "Checking input parameters are in the correct format.\n",
      "Formatting Dates.\n",
      "Checking if user supplied is available on the CoinBase Pro API.\n",
      "Connected to the CoinBase Pro API.\n",
      "Ticker 'SHPING-USDT' found at the CoinBase Pro API, continuing to extraction.\n",
      "Provisional Start: 2022-01-11T00:00:00\n",
      "Provisional End: 2022-11-07T00:00:00\n",
      "Data for chunk 1 of 2 extracted\n"
     ]
    },
    {
     "name": "stderr",
     "output_type": "stream",
     "text": [
      "C:\\Users\\Roman\\AppData\\Local\\Packages\\PythonSoftwareFoundation.Python.3.10_qbz5n2kfra8p0\\LocalCache\\local-packages\\Python310\\site-packages\\Historic_Crypto\\HistoricalData.py:176: FutureWarning: The frame.append method is deprecated and will be removed from pandas in a future version. Use pandas.concat instead.\n",
      "  data = data.append(dataset)\n"
     ]
    },
    {
     "name": "stdout",
     "output_type": "stream",
     "text": [
      "Provisional Start: 2022-11-07T00:00:00\n",
      "Provisional End: 2023-09-03T00:00:00\n",
      "Data for chunk 2 of 2 extracted\n",
      "Saved to C:\\Users\\Roman\\Desktop\\DMLS_project\\Crypto\\SHPING-USDT_diff.csv\n",
      "TRIBE-USD\n",
      "Checking input parameters are in the correct format.\n",
      "Formatting Dates.\n",
      "Checking if user supplied is available on the CoinBase Pro API.\n",
      "Connected to the CoinBase Pro API.\n",
      "Ticker 'TRIBE-USD' found at the CoinBase Pro API, continuing to extraction.\n",
      "Provisional Start: 2022-01-11T00:00:00\n",
      "Provisional End: 2022-11-07T00:00:00\n",
      "Data for chunk 1 of 2 extracted\n"
     ]
    },
    {
     "name": "stderr",
     "output_type": "stream",
     "text": [
      "C:\\Users\\Roman\\AppData\\Local\\Packages\\PythonSoftwareFoundation.Python.3.10_qbz5n2kfra8p0\\LocalCache\\local-packages\\Python310\\site-packages\\Historic_Crypto\\HistoricalData.py:176: FutureWarning: The frame.append method is deprecated and will be removed from pandas in a future version. Use pandas.concat instead.\n",
      "  data = data.append(dataset)\n"
     ]
    },
    {
     "name": "stdout",
     "output_type": "stream",
     "text": [
      "Provisional Start: 2022-11-07T00:00:00\n",
      "Provisional End: 2023-09-03T00:00:00\n",
      "Data for chunk 2 of 2 extracted\n",
      "CoinBase Pro API did not have available data for 'TRIBE-USD' beginning at 2022-01-11-00-00.  \n",
      "                        Trying a later date:'2022-11-07T00:00:00'\n",
      "Saved to C:\\Users\\Roman\\Desktop\\DMLS_project\\Crypto\\TRIBE-USD_diff.csv\n",
      "NU-USD\n",
      "Checking input parameters are in the correct format.\n",
      "Formatting Dates.\n",
      "Checking if user supplied is available on the CoinBase Pro API.\n",
      "Connected to the CoinBase Pro API.\n",
      "Ticker 'NU-USD' found at the CoinBase Pro API, continuing to extraction.\n",
      "Provisional Start: 2022-01-11T00:00:00\n",
      "Provisional End: 2022-11-07T00:00:00\n",
      "Data for chunk 1 of 2 extracted\n",
      "Provisional Start: 2022-11-07T00:00:00\n",
      "Provisional End: 2023-09-03T00:00:00\n"
     ]
    },
    {
     "name": "stderr",
     "output_type": "stream",
     "text": [
      "C:\\Users\\Roman\\AppData\\Local\\Packages\\PythonSoftwareFoundation.Python.3.10_qbz5n2kfra8p0\\LocalCache\\local-packages\\Python310\\site-packages\\Historic_Crypto\\HistoricalData.py:176: FutureWarning: The frame.append method is deprecated and will be removed from pandas in a future version. Use pandas.concat instead.\n",
      "  data = data.append(dataset)\n"
     ]
    },
    {
     "name": "stdout",
     "output_type": "stream",
     "text": [
      "Data for chunk 2 of 2 extracted\n",
      "Saved to C:\\Users\\Roman\\Desktop\\DMLS_project\\Crypto\\NU-USD_diff.csv\n",
      "REQ-BTC\n",
      "Checking input parameters are in the correct format.\n",
      "Formatting Dates.\n",
      "Checking if user supplied is available on the CoinBase Pro API.\n",
      "Connected to the CoinBase Pro API.\n",
      "Ticker 'REQ-BTC' found at the CoinBase Pro API, continuing to extraction.\n",
      "Provisional Start: 2022-01-11T00:00:00\n",
      "Provisional End: 2022-11-07T00:00:00\n",
      "Data for chunk 1 of 2 extracted\n"
     ]
    },
    {
     "name": "stderr",
     "output_type": "stream",
     "text": [
      "C:\\Users\\Roman\\AppData\\Local\\Packages\\PythonSoftwareFoundation.Python.3.10_qbz5n2kfra8p0\\LocalCache\\local-packages\\Python310\\site-packages\\Historic_Crypto\\HistoricalData.py:176: FutureWarning: The frame.append method is deprecated and will be removed from pandas in a future version. Use pandas.concat instead.\n",
      "  data = data.append(dataset)\n"
     ]
    },
    {
     "name": "stdout",
     "output_type": "stream",
     "text": [
      "Provisional Start: 2022-11-07T00:00:00\n",
      "Provisional End: 2023-09-03T00:00:00\n",
      "Data for chunk 2 of 2 extracted\n",
      "Saved to C:\\Users\\Roman\\Desktop\\DMLS_project\\Crypto\\REQ-BTC_diff.csv\n",
      "ADA-USD\n",
      "Checking input parameters are in the correct format.\n",
      "Formatting Dates.\n",
      "Checking if user supplied is available on the CoinBase Pro API.\n",
      "Connected to the CoinBase Pro API.\n",
      "Ticker 'ADA-USD' found at the CoinBase Pro API, continuing to extraction.\n",
      "Provisional Start: 2022-01-11T00:00:00\n",
      "Provisional End: 2022-11-07T00:00:00\n",
      "Data for chunk 1 of 2 extracted\n",
      "Provisional Start: 2022-11-07T00:00:00\n",
      "Provisional End: 2023-09-03T00:00:00\n"
     ]
    },
    {
     "name": "stderr",
     "output_type": "stream",
     "text": [
      "C:\\Users\\Roman\\AppData\\Local\\Packages\\PythonSoftwareFoundation.Python.3.10_qbz5n2kfra8p0\\LocalCache\\local-packages\\Python310\\site-packages\\Historic_Crypto\\HistoricalData.py:176: FutureWarning: The frame.append method is deprecated and will be removed from pandas in a future version. Use pandas.concat instead.\n",
      "  data = data.append(dataset)\n"
     ]
    },
    {
     "name": "stdout",
     "output_type": "stream",
     "text": [
      "Data for chunk 2 of 2 extracted\n",
      "Saved to C:\\Users\\Roman\\Desktop\\DMLS_project\\Crypto\\ADA-USD_diff.csv\n",
      "TRAC-EUR\n",
      "Checking input parameters are in the correct format.\n",
      "Formatting Dates.\n",
      "Checking if user supplied is available on the CoinBase Pro API.\n",
      "Connected to the CoinBase Pro API.\n",
      "Ticker 'TRAC-EUR' found at the CoinBase Pro API, continuing to extraction.\n",
      "Provisional Start: 2022-01-11T00:00:00\n",
      "Provisional End: 2022-11-07T00:00:00\n",
      "Data for chunk 1 of 2 extracted\n",
      "Provisional Start: 2022-11-07T00:00:00\n",
      "Provisional End: 2023-09-03T00:00:00\n"
     ]
    },
    {
     "name": "stderr",
     "output_type": "stream",
     "text": [
      "C:\\Users\\Roman\\AppData\\Local\\Packages\\PythonSoftwareFoundation.Python.3.10_qbz5n2kfra8p0\\LocalCache\\local-packages\\Python310\\site-packages\\Historic_Crypto\\HistoricalData.py:176: FutureWarning: The frame.append method is deprecated and will be removed from pandas in a future version. Use pandas.concat instead.\n",
      "  data = data.append(dataset)\n"
     ]
    },
    {
     "name": "stdout",
     "output_type": "stream",
     "text": [
      "Data for chunk 2 of 2 extracted\n",
      "Saved to C:\\Users\\Roman\\Desktop\\DMLS_project\\Crypto\\TRAC-EUR_diff.csv\n",
      "TRB-USD\n",
      "Checking input parameters are in the correct format.\n",
      "Formatting Dates.\n",
      "Checking if user supplied is available on the CoinBase Pro API.\n",
      "Connected to the CoinBase Pro API.\n",
      "Ticker 'TRB-USD' found at the CoinBase Pro API, continuing to extraction.\n",
      "Provisional Start: 2022-01-11T00:00:00\n",
      "Provisional End: 2022-11-07T00:00:00\n",
      "Data for chunk 1 of 2 extracted\n"
     ]
    },
    {
     "name": "stderr",
     "output_type": "stream",
     "text": [
      "C:\\Users\\Roman\\AppData\\Local\\Packages\\PythonSoftwareFoundation.Python.3.10_qbz5n2kfra8p0\\LocalCache\\local-packages\\Python310\\site-packages\\Historic_Crypto\\HistoricalData.py:176: FutureWarning: The frame.append method is deprecated and will be removed from pandas in a future version. Use pandas.concat instead.\n",
      "  data = data.append(dataset)\n"
     ]
    },
    {
     "name": "stdout",
     "output_type": "stream",
     "text": [
      "Provisional Start: 2022-11-07T00:00:00\n",
      "Provisional End: 2023-09-03T00:00:00\n",
      "Data for chunk 2 of 2 extracted\n",
      "Saved to C:\\Users\\Roman\\Desktop\\DMLS_project\\Crypto\\TRB-USD_diff.csv\n",
      "LTC-BTC\n",
      "Checking input parameters are in the correct format.\n",
      "Formatting Dates.\n",
      "Checking if user supplied is available on the CoinBase Pro API.\n",
      "Connected to the CoinBase Pro API.\n",
      "Ticker 'LTC-BTC' found at the CoinBase Pro API, continuing to extraction.\n",
      "Provisional Start: 2022-01-11T00:00:00\n",
      "Provisional End: 2022-11-07T00:00:00\n",
      "Data for chunk 1 of 2 extracted\n"
     ]
    },
    {
     "name": "stderr",
     "output_type": "stream",
     "text": [
      "C:\\Users\\Roman\\AppData\\Local\\Packages\\PythonSoftwareFoundation.Python.3.10_qbz5n2kfra8p0\\LocalCache\\local-packages\\Python310\\site-packages\\Historic_Crypto\\HistoricalData.py:176: FutureWarning: The frame.append method is deprecated and will be removed from pandas in a future version. Use pandas.concat instead.\n",
      "  data = data.append(dataset)\n"
     ]
    },
    {
     "name": "stdout",
     "output_type": "stream",
     "text": [
      "Provisional Start: 2022-11-07T00:00:00\n",
      "Provisional End: 2023-09-03T00:00:00\n",
      "Data for chunk 2 of 2 extracted\n",
      "Saved to C:\\Users\\Roman\\Desktop\\DMLS_project\\Crypto\\LTC-BTC_diff.csv\n",
      "ALCX-USDT\n",
      "Checking input parameters are in the correct format.\n",
      "Formatting Dates.\n",
      "Checking if user supplied is available on the CoinBase Pro API.\n",
      "Connected to the CoinBase Pro API.\n",
      "Ticker 'ALCX-USDT' found at the CoinBase Pro API, continuing to extraction.\n",
      "Provisional Start: 2022-01-11T00:00:00\n",
      "Provisional End: 2022-11-07T00:00:00\n",
      "Data for chunk 1 of 2 extracted\n"
     ]
    },
    {
     "name": "stderr",
     "output_type": "stream",
     "text": [
      "C:\\Users\\Roman\\AppData\\Local\\Packages\\PythonSoftwareFoundation.Python.3.10_qbz5n2kfra8p0\\LocalCache\\local-packages\\Python310\\site-packages\\Historic_Crypto\\HistoricalData.py:176: FutureWarning: The frame.append method is deprecated and will be removed from pandas in a future version. Use pandas.concat instead.\n",
      "  data = data.append(dataset)\n"
     ]
    },
    {
     "name": "stdout",
     "output_type": "stream",
     "text": [
      "Provisional Start: 2022-11-07T00:00:00\n",
      "Provisional End: 2023-09-03T00:00:00\n",
      "Data for chunk 2 of 2 extracted\n",
      "Saved to C:\\Users\\Roman\\Desktop\\DMLS_project\\Crypto\\ALCX-USDT_diff.csv\n",
      "C98-USDT\n",
      "Checking input parameters are in the correct format.\n",
      "Formatting Dates.\n",
      "Checking if user supplied is available on the CoinBase Pro API.\n",
      "Connected to the CoinBase Pro API.\n",
      "Ticker 'C98-USDT' found at the CoinBase Pro API, continuing to extraction.\n",
      "Provisional Start: 2022-01-11T00:00:00\n",
      "Provisional End: 2022-11-07T00:00:00\n",
      "Data for chunk 1 of 2 extracted\n"
     ]
    },
    {
     "name": "stderr",
     "output_type": "stream",
     "text": [
      "C:\\Users\\Roman\\AppData\\Local\\Packages\\PythonSoftwareFoundation.Python.3.10_qbz5n2kfra8p0\\LocalCache\\local-packages\\Python310\\site-packages\\Historic_Crypto\\HistoricalData.py:176: FutureWarning: The frame.append method is deprecated and will be removed from pandas in a future version. Use pandas.concat instead.\n",
      "  data = data.append(dataset)\n"
     ]
    },
    {
     "name": "stdout",
     "output_type": "stream",
     "text": [
      "Provisional Start: 2022-11-07T00:00:00\n",
      "Provisional End: 2023-09-03T00:00:00\n",
      "Data for chunk 2 of 2 extracted\n",
      "Saved to C:\\Users\\Roman\\Desktop\\DMLS_project\\Crypto\\C98-USDT_diff.csv\n",
      "TRAC-USDT\n",
      "Checking input parameters are in the correct format.\n",
      "Formatting Dates.\n",
      "Checking if user supplied is available on the CoinBase Pro API.\n",
      "Connected to the CoinBase Pro API.\n",
      "Ticker 'TRAC-USDT' found at the CoinBase Pro API, continuing to extraction.\n",
      "Provisional Start: 2022-01-11T00:00:00\n",
      "Provisional End: 2022-11-07T00:00:00\n",
      "Data for chunk 1 of 2 extracted\n"
     ]
    },
    {
     "name": "stderr",
     "output_type": "stream",
     "text": [
      "C:\\Users\\Roman\\AppData\\Local\\Packages\\PythonSoftwareFoundation.Python.3.10_qbz5n2kfra8p0\\LocalCache\\local-packages\\Python310\\site-packages\\Historic_Crypto\\HistoricalData.py:176: FutureWarning: The frame.append method is deprecated and will be removed from pandas in a future version. Use pandas.concat instead.\n",
      "  data = data.append(dataset)\n"
     ]
    },
    {
     "name": "stdout",
     "output_type": "stream",
     "text": [
      "Provisional Start: 2022-11-07T00:00:00\n",
      "Provisional End: 2023-09-03T00:00:00\n",
      "Data for chunk 2 of 2 extracted\n",
      "Saved to C:\\Users\\Roman\\Desktop\\DMLS_project\\Crypto\\TRAC-USDT_diff.csv\n",
      "NCT-EUR\n",
      "Checking input parameters are in the correct format.\n",
      "Formatting Dates.\n",
      "Checking if user supplied is available on the CoinBase Pro API.\n",
      "Connected to the CoinBase Pro API.\n",
      "Ticker 'NCT-EUR' found at the CoinBase Pro API, continuing to extraction.\n",
      "Provisional Start: 2022-01-11T00:00:00\n",
      "Provisional End: 2022-11-07T00:00:00\n",
      "Data for chunk 1 of 2 extracted\n"
     ]
    },
    {
     "name": "stderr",
     "output_type": "stream",
     "text": [
      "C:\\Users\\Roman\\AppData\\Local\\Packages\\PythonSoftwareFoundation.Python.3.10_qbz5n2kfra8p0\\LocalCache\\local-packages\\Python310\\site-packages\\Historic_Crypto\\HistoricalData.py:176: FutureWarning: The frame.append method is deprecated and will be removed from pandas in a future version. Use pandas.concat instead.\n",
      "  data = data.append(dataset)\n"
     ]
    },
    {
     "name": "stdout",
     "output_type": "stream",
     "text": [
      "Provisional Start: 2022-11-07T00:00:00\n",
      "Provisional End: 2023-09-03T00:00:00\n",
      "Data for chunk 2 of 2 extracted\n",
      "Saved to C:\\Users\\Roman\\Desktop\\DMLS_project\\Crypto\\NCT-EUR_diff.csv\n",
      "FORTH-EUR\n",
      "Checking input parameters are in the correct format.\n",
      "Formatting Dates.\n",
      "Checking if user supplied is available on the CoinBase Pro API.\n",
      "Connected to the CoinBase Pro API.\n",
      "Ticker 'FORTH-EUR' found at the CoinBase Pro API, continuing to extraction.\n",
      "Provisional Start: 2022-01-11T00:00:00\n",
      "Provisional End: 2022-11-07T00:00:00\n",
      "Data for chunk 1 of 2 extracted\n",
      "Provisional Start: 2022-11-07T00:00:00\n",
      "Provisional End: 2023-09-03T00:00:00\n"
     ]
    },
    {
     "name": "stderr",
     "output_type": "stream",
     "text": [
      "C:\\Users\\Roman\\AppData\\Local\\Packages\\PythonSoftwareFoundation.Python.3.10_qbz5n2kfra8p0\\LocalCache\\local-packages\\Python310\\site-packages\\Historic_Crypto\\HistoricalData.py:176: FutureWarning: The frame.append method is deprecated and will be removed from pandas in a future version. Use pandas.concat instead.\n",
      "  data = data.append(dataset)\n"
     ]
    },
    {
     "name": "stdout",
     "output_type": "stream",
     "text": [
      "Data for chunk 2 of 2 extracted\n",
      "Saved to C:\\Users\\Roman\\Desktop\\DMLS_project\\Crypto\\FORTH-EUR_diff.csv\n",
      "GST-USD\n",
      "Checking input parameters are in the correct format.\n",
      "Formatting Dates.\n",
      "Checking if user supplied is available on the CoinBase Pro API.\n",
      "Connected to the CoinBase Pro API.\n",
      "Ticker 'GST-USD' found at the CoinBase Pro API, continuing to extraction.\n",
      "Provisional Start: 2022-01-11T00:00:00\n",
      "Provisional End: 2022-11-07T00:00:00\n",
      "Data for chunk 1 of 2 extracted\n"
     ]
    },
    {
     "name": "stderr",
     "output_type": "stream",
     "text": [
      "C:\\Users\\Roman\\AppData\\Local\\Packages\\PythonSoftwareFoundation.Python.3.10_qbz5n2kfra8p0\\LocalCache\\local-packages\\Python310\\site-packages\\Historic_Crypto\\HistoricalData.py:176: FutureWarning: The frame.append method is deprecated and will be removed from pandas in a future version. Use pandas.concat instead.\n",
      "  data = data.append(dataset)\n"
     ]
    },
    {
     "name": "stdout",
     "output_type": "stream",
     "text": [
      "Provisional Start: 2022-11-07T00:00:00\n",
      "Provisional End: 2023-09-03T00:00:00\n",
      "Data for chunk 2 of 2 extracted\n",
      "Saved to C:\\Users\\Roman\\Desktop\\DMLS_project\\Crypto\\GST-USD_diff.csv\n",
      "DESO-EUR\n",
      "Checking input parameters are in the correct format.\n",
      "Formatting Dates.\n",
      "Checking if user supplied is available on the CoinBase Pro API.\n",
      "Connected to the CoinBase Pro API.\n",
      "Ticker 'DESO-EUR' found at the CoinBase Pro API, continuing to extraction.\n",
      "Provisional Start: 2022-01-11T00:00:00\n",
      "Provisional End: 2022-11-07T00:00:00\n",
      "Data for chunk 1 of 2 extracted\n"
     ]
    },
    {
     "name": "stderr",
     "output_type": "stream",
     "text": [
      "C:\\Users\\Roman\\AppData\\Local\\Packages\\PythonSoftwareFoundation.Python.3.10_qbz5n2kfra8p0\\LocalCache\\local-packages\\Python310\\site-packages\\Historic_Crypto\\HistoricalData.py:176: FutureWarning: The frame.append method is deprecated and will be removed from pandas in a future version. Use pandas.concat instead.\n",
      "  data = data.append(dataset)\n"
     ]
    },
    {
     "name": "stdout",
     "output_type": "stream",
     "text": [
      "Provisional Start: 2022-11-07T00:00:00\n",
      "Provisional End: 2023-09-03T00:00:00\n",
      "Data for chunk 2 of 2 extracted\n",
      "Saved to C:\\Users\\Roman\\Desktop\\DMLS_project\\Crypto\\DESO-EUR_diff.csv\n",
      "GNT-USDC\n",
      "Checking input parameters are in the correct format.\n",
      "Formatting Dates.\n",
      "Checking if user supplied is available on the CoinBase Pro API.\n",
      "Connected to the CoinBase Pro API.\n",
      "Ticker 'GNT-USDC' found at the CoinBase Pro API, continuing to extraction.\n",
      "Provisional Start: 2022-01-11T00:00:00\n",
      "Provisional End: 2022-11-07T00:00:00\n",
      "Data for chunk 1 of 2 extracted\n"
     ]
    },
    {
     "name": "stderr",
     "output_type": "stream",
     "text": [
      "C:\\Users\\Roman\\AppData\\Local\\Packages\\PythonSoftwareFoundation.Python.3.10_qbz5n2kfra8p0\\LocalCache\\local-packages\\Python310\\site-packages\\Historic_Crypto\\HistoricalData.py:176: FutureWarning: The frame.append method is deprecated and will be removed from pandas in a future version. Use pandas.concat instead.\n",
      "  data = data.append(dataset)\n"
     ]
    },
    {
     "name": "stdout",
     "output_type": "stream",
     "text": [
      "Provisional Start: 2022-11-07T00:00:00\n",
      "Provisional End: 2023-09-03T00:00:00\n",
      "Data for chunk 2 of 2 extracted\n",
      "CoinBase Pro API did not have available data for 'GNT-USDC' beginning at 2022-01-11-00-00.  \n",
      "                        Trying a later date:'2022-11-07T00:00:00'\n",
      "Saved to C:\\Users\\Roman\\Desktop\\DMLS_project\\Crypto\\GNT-USDC_diff.csv\n",
      "RAD-GBP\n",
      "Checking input parameters are in the correct format.\n",
      "Formatting Dates.\n",
      "Checking if user supplied is available on the CoinBase Pro API.\n",
      "Connected to the CoinBase Pro API.\n",
      "Ticker 'RAD-GBP' found at the CoinBase Pro API, continuing to extraction.\n",
      "Provisional Start: 2022-01-11T00:00:00\n",
      "Provisional End: 2022-11-07T00:00:00\n",
      "Data for chunk 1 of 2 extracted\n"
     ]
    },
    {
     "name": "stderr",
     "output_type": "stream",
     "text": [
      "C:\\Users\\Roman\\AppData\\Local\\Packages\\PythonSoftwareFoundation.Python.3.10_qbz5n2kfra8p0\\LocalCache\\local-packages\\Python310\\site-packages\\Historic_Crypto\\HistoricalData.py:176: FutureWarning: The frame.append method is deprecated and will be removed from pandas in a future version. Use pandas.concat instead.\n",
      "  data = data.append(dataset)\n"
     ]
    },
    {
     "name": "stdout",
     "output_type": "stream",
     "text": [
      "Provisional Start: 2022-11-07T00:00:00\n",
      "Provisional End: 2023-09-03T00:00:00\n",
      "Data for chunk 2 of 2 extracted\n",
      "Saved to C:\\Users\\Roman\\Desktop\\DMLS_project\\Crypto\\RAD-GBP_diff.csv\n",
      "CTX-USD\n",
      "Checking input parameters are in the correct format.\n",
      "Formatting Dates.\n",
      "Checking if user supplied is available on the CoinBase Pro API.\n",
      "Connected to the CoinBase Pro API.\n",
      "Ticker 'CTX-USD' found at the CoinBase Pro API, continuing to extraction.\n",
      "Provisional Start: 2022-01-11T00:00:00\n",
      "Provisional End: 2022-11-07T00:00:00\n",
      "Data for chunk 1 of 2 extracted\n"
     ]
    },
    {
     "name": "stderr",
     "output_type": "stream",
     "text": [
      "C:\\Users\\Roman\\AppData\\Local\\Packages\\PythonSoftwareFoundation.Python.3.10_qbz5n2kfra8p0\\LocalCache\\local-packages\\Python310\\site-packages\\Historic_Crypto\\HistoricalData.py:176: FutureWarning: The frame.append method is deprecated and will be removed from pandas in a future version. Use pandas.concat instead.\n",
      "  data = data.append(dataset)\n"
     ]
    },
    {
     "name": "stdout",
     "output_type": "stream",
     "text": [
      "Provisional Start: 2022-11-07T00:00:00\n",
      "Provisional End: 2023-09-03T00:00:00\n",
      "Data for chunk 2 of 2 extracted\n",
      "Saved to C:\\Users\\Roman\\Desktop\\DMLS_project\\Crypto\\CTX-USD_diff.csv\n",
      "JASMY-USDT\n",
      "Checking input parameters are in the correct format.\n",
      "Formatting Dates.\n",
      "Checking if user supplied is available on the CoinBase Pro API.\n",
      "Connected to the CoinBase Pro API.\n",
      "Ticker 'JASMY-USDT' found at the CoinBase Pro API, continuing to extraction.\n",
      "Provisional Start: 2022-01-11T00:00:00\n",
      "Provisional End: 2022-11-07T00:00:00\n",
      "Data for chunk 1 of 2 extracted\n"
     ]
    },
    {
     "name": "stderr",
     "output_type": "stream",
     "text": [
      "C:\\Users\\Roman\\AppData\\Local\\Packages\\PythonSoftwareFoundation.Python.3.10_qbz5n2kfra8p0\\LocalCache\\local-packages\\Python310\\site-packages\\Historic_Crypto\\HistoricalData.py:176: FutureWarning: The frame.append method is deprecated and will be removed from pandas in a future version. Use pandas.concat instead.\n",
      "  data = data.append(dataset)\n"
     ]
    },
    {
     "name": "stdout",
     "output_type": "stream",
     "text": [
      "Provisional Start: 2022-11-07T00:00:00\n",
      "Provisional End: 2023-09-03T00:00:00\n",
      "Data for chunk 2 of 2 extracted\n",
      "Saved to C:\\Users\\Roman\\Desktop\\DMLS_project\\Crypto\\JASMY-USDT_diff.csv\n",
      "BADGER-USDT\n",
      "Checking input parameters are in the correct format.\n",
      "Formatting Dates.\n",
      "Checking if user supplied is available on the CoinBase Pro API.\n",
      "Connected to the CoinBase Pro API.\n",
      "Ticker 'BADGER-USDT' found at the CoinBase Pro API, continuing to extraction.\n",
      "Provisional Start: 2022-01-11T00:00:00\n",
      "Provisional End: 2022-11-07T00:00:00\n",
      "Data for chunk 1 of 2 extracted\n",
      "Provisional Start: 2022-11-07T00:00:00\n",
      "Provisional End: 2023-09-03T00:00:00\n"
     ]
    },
    {
     "name": "stderr",
     "output_type": "stream",
     "text": [
      "C:\\Users\\Roman\\AppData\\Local\\Packages\\PythonSoftwareFoundation.Python.3.10_qbz5n2kfra8p0\\LocalCache\\local-packages\\Python310\\site-packages\\Historic_Crypto\\HistoricalData.py:176: FutureWarning: The frame.append method is deprecated and will be removed from pandas in a future version. Use pandas.concat instead.\n",
      "  data = data.append(dataset)\n"
     ]
    },
    {
     "name": "stdout",
     "output_type": "stream",
     "text": [
      "Data for chunk 2 of 2 extracted\n",
      "Saved to C:\\Users\\Roman\\Desktop\\DMLS_project\\Crypto\\BADGER-USDT_diff.csv\n",
      "CLV-USD\n",
      "Checking input parameters are in the correct format.\n",
      "Formatting Dates.\n",
      "Checking if user supplied is available on the CoinBase Pro API.\n",
      "Connected to the CoinBase Pro API.\n",
      "Ticker 'CLV-USD' found at the CoinBase Pro API, continuing to extraction.\n",
      "Provisional Start: 2022-01-11T00:00:00\n",
      "Provisional End: 2022-11-07T00:00:00\n",
      "Data for chunk 1 of 2 extracted\n"
     ]
    },
    {
     "name": "stderr",
     "output_type": "stream",
     "text": [
      "C:\\Users\\Roman\\AppData\\Local\\Packages\\PythonSoftwareFoundation.Python.3.10_qbz5n2kfra8p0\\LocalCache\\local-packages\\Python310\\site-packages\\Historic_Crypto\\HistoricalData.py:176: FutureWarning: The frame.append method is deprecated and will be removed from pandas in a future version. Use pandas.concat instead.\n",
      "  data = data.append(dataset)\n"
     ]
    },
    {
     "name": "stdout",
     "output_type": "stream",
     "text": [
      "Provisional Start: 2022-11-07T00:00:00\n",
      "Provisional End: 2023-09-03T00:00:00\n",
      "Data for chunk 2 of 2 extracted\n",
      "Saved to C:\\Users\\Roman\\Desktop\\DMLS_project\\Crypto\\CLV-USD_diff.csv\n",
      "BOND-USDT\n",
      "Checking input parameters are in the correct format.\n",
      "Formatting Dates.\n",
      "Checking if user supplied is available on the CoinBase Pro API.\n",
      "Connected to the CoinBase Pro API.\n",
      "Ticker 'BOND-USDT' found at the CoinBase Pro API, continuing to extraction.\n",
      "Provisional Start: 2022-01-11T00:00:00\n",
      "Provisional End: 2022-11-07T00:00:00\n",
      "Data for chunk 1 of 2 extracted\n",
      "Provisional Start: 2022-11-07T00:00:00\n",
      "Provisional End: 2023-09-03T00:00:00\n"
     ]
    },
    {
     "name": "stderr",
     "output_type": "stream",
     "text": [
      "C:\\Users\\Roman\\AppData\\Local\\Packages\\PythonSoftwareFoundation.Python.3.10_qbz5n2kfra8p0\\LocalCache\\local-packages\\Python310\\site-packages\\Historic_Crypto\\HistoricalData.py:176: FutureWarning: The frame.append method is deprecated and will be removed from pandas in a future version. Use pandas.concat instead.\n",
      "  data = data.append(dataset)\n"
     ]
    },
    {
     "name": "stdout",
     "output_type": "stream",
     "text": [
      "Data for chunk 2 of 2 extracted\n",
      "Saved to C:\\Users\\Roman\\Desktop\\DMLS_project\\Crypto\\BOND-USDT_diff.csv\n",
      "ATOM-GBP\n",
      "Checking input parameters are in the correct format.\n",
      "Formatting Dates.\n",
      "Checking if user supplied is available on the CoinBase Pro API.\n",
      "Connected to the CoinBase Pro API.\n",
      "Ticker 'ATOM-GBP' found at the CoinBase Pro API, continuing to extraction.\n",
      "Provisional Start: 2022-01-11T00:00:00\n",
      "Provisional End: 2022-11-07T00:00:00\n",
      "Data for chunk 1 of 2 extracted\n",
      "Provisional Start: 2022-11-07T00:00:00\n",
      "Provisional End: 2023-09-03T00:00:00\n",
      "Data for chunk 2 of 2 extracted\n"
     ]
    },
    {
     "name": "stderr",
     "output_type": "stream",
     "text": [
      "C:\\Users\\Roman\\AppData\\Local\\Packages\\PythonSoftwareFoundation.Python.3.10_qbz5n2kfra8p0\\LocalCache\\local-packages\\Python310\\site-packages\\Historic_Crypto\\HistoricalData.py:176: FutureWarning: The frame.append method is deprecated and will be removed from pandas in a future version. Use pandas.concat instead.\n",
      "  data = data.append(dataset)\n"
     ]
    },
    {
     "name": "stdout",
     "output_type": "stream",
     "text": [
      "Saved to C:\\Users\\Roman\\Desktop\\DMLS_project\\Crypto\\ATOM-GBP_diff.csv\n",
      "COTI-USD\n",
      "Checking input parameters are in the correct format.\n",
      "Formatting Dates.\n",
      "Checking if user supplied is available on the CoinBase Pro API.\n",
      "Connected to the CoinBase Pro API.\n",
      "Ticker 'COTI-USD' found at the CoinBase Pro API, continuing to extraction.\n",
      "Provisional Start: 2022-01-11T00:00:00\n",
      "Provisional End: 2022-11-07T00:00:00\n",
      "Data for chunk 1 of 2 extracted\n",
      "Provisional Start: 2022-11-07T00:00:00\n",
      "Provisional End: 2023-09-03T00:00:00\n"
     ]
    },
    {
     "name": "stderr",
     "output_type": "stream",
     "text": [
      "C:\\Users\\Roman\\AppData\\Local\\Packages\\PythonSoftwareFoundation.Python.3.10_qbz5n2kfra8p0\\LocalCache\\local-packages\\Python310\\site-packages\\Historic_Crypto\\HistoricalData.py:176: FutureWarning: The frame.append method is deprecated and will be removed from pandas in a future version. Use pandas.concat instead.\n",
      "  data = data.append(dataset)\n"
     ]
    },
    {
     "name": "stdout",
     "output_type": "stream",
     "text": [
      "Data for chunk 2 of 2 extracted\n",
      "Saved to C:\\Users\\Roman\\Desktop\\DMLS_project\\Crypto\\COTI-USD_diff.csv\n",
      "PLU-USD\n",
      "Checking input parameters are in the correct format.\n",
      "Formatting Dates.\n",
      "Checking if user supplied is available on the CoinBase Pro API.\n",
      "Connected to the CoinBase Pro API.\n",
      "Ticker 'PLU-USD' found at the CoinBase Pro API, continuing to extraction.\n",
      "Provisional Start: 2022-01-11T00:00:00\n",
      "Provisional End: 2022-11-07T00:00:00\n",
      "Data for chunk 1 of 2 extracted\n"
     ]
    },
    {
     "name": "stderr",
     "output_type": "stream",
     "text": [
      "C:\\Users\\Roman\\AppData\\Local\\Packages\\PythonSoftwareFoundation.Python.3.10_qbz5n2kfra8p0\\LocalCache\\local-packages\\Python310\\site-packages\\Historic_Crypto\\HistoricalData.py:176: FutureWarning: The frame.append method is deprecated and will be removed from pandas in a future version. Use pandas.concat instead.\n",
      "  data = data.append(dataset)\n"
     ]
    },
    {
     "name": "stdout",
     "output_type": "stream",
     "text": [
      "Provisional Start: 2022-11-07T00:00:00\n",
      "Provisional End: 2023-09-03T00:00:00\n",
      "Data for chunk 2 of 2 extracted\n",
      "Saved to C:\\Users\\Roman\\Desktop\\DMLS_project\\Crypto\\PLU-USD_diff.csv\n",
      "ENS-USDT\n",
      "Checking input parameters are in the correct format.\n",
      "Formatting Dates.\n",
      "Checking if user supplied is available on the CoinBase Pro API.\n",
      "Connected to the CoinBase Pro API.\n",
      "Ticker 'ENS-USDT' found at the CoinBase Pro API, continuing to extraction.\n",
      "Provisional Start: 2022-01-11T00:00:00\n",
      "Provisional End: 2022-11-07T00:00:00\n",
      "Data for chunk 1 of 2 extracted\n"
     ]
    },
    {
     "name": "stderr",
     "output_type": "stream",
     "text": [
      "C:\\Users\\Roman\\AppData\\Local\\Packages\\PythonSoftwareFoundation.Python.3.10_qbz5n2kfra8p0\\LocalCache\\local-packages\\Python310\\site-packages\\Historic_Crypto\\HistoricalData.py:176: FutureWarning: The frame.append method is deprecated and will be removed from pandas in a future version. Use pandas.concat instead.\n",
      "  data = data.append(dataset)\n"
     ]
    },
    {
     "name": "stdout",
     "output_type": "stream",
     "text": [
      "Provisional Start: 2022-11-07T00:00:00\n",
      "Provisional End: 2023-09-03T00:00:00\n",
      "Data for chunk 2 of 2 extracted\n",
      "Saved to C:\\Users\\Roman\\Desktop\\DMLS_project\\Crypto\\ENS-USDT_diff.csv\n",
      "ATOM-EUR\n",
      "Checking input parameters are in the correct format.\n",
      "Formatting Dates.\n",
      "Checking if user supplied is available on the CoinBase Pro API.\n",
      "Connected to the CoinBase Pro API.\n",
      "Ticker 'ATOM-EUR' found at the CoinBase Pro API, continuing to extraction.\n",
      "Provisional Start: 2022-01-11T00:00:00\n",
      "Provisional End: 2022-11-07T00:00:00\n",
      "Data for chunk 1 of 2 extracted\n"
     ]
    },
    {
     "name": "stderr",
     "output_type": "stream",
     "text": [
      "C:\\Users\\Roman\\AppData\\Local\\Packages\\PythonSoftwareFoundation.Python.3.10_qbz5n2kfra8p0\\LocalCache\\local-packages\\Python310\\site-packages\\Historic_Crypto\\HistoricalData.py:176: FutureWarning: The frame.append method is deprecated and will be removed from pandas in a future version. Use pandas.concat instead.\n",
      "  data = data.append(dataset)\n"
     ]
    },
    {
     "name": "stdout",
     "output_type": "stream",
     "text": [
      "Provisional Start: 2022-11-07T00:00:00\n",
      "Provisional End: 2023-09-03T00:00:00\n",
      "Data for chunk 2 of 2 extracted\n",
      "Saved to C:\\Users\\Roman\\Desktop\\DMLS_project\\Crypto\\ATOM-EUR_diff.csv\n",
      "BTRST-USD\n",
      "Checking input parameters are in the correct format.\n",
      "Formatting Dates.\n",
      "Checking if user supplied is available on the CoinBase Pro API.\n",
      "Connected to the CoinBase Pro API.\n",
      "Ticker 'BTRST-USD' found at the CoinBase Pro API, continuing to extraction.\n",
      "Provisional Start: 2022-01-11T00:00:00\n",
      "Provisional End: 2022-11-07T00:00:00\n",
      "Data for chunk 1 of 2 extracted\n"
     ]
    },
    {
     "name": "stderr",
     "output_type": "stream",
     "text": [
      "C:\\Users\\Roman\\AppData\\Local\\Packages\\PythonSoftwareFoundation.Python.3.10_qbz5n2kfra8p0\\LocalCache\\local-packages\\Python310\\site-packages\\Historic_Crypto\\HistoricalData.py:176: FutureWarning: The frame.append method is deprecated and will be removed from pandas in a future version. Use pandas.concat instead.\n",
      "  data = data.append(dataset)\n"
     ]
    },
    {
     "name": "stdout",
     "output_type": "stream",
     "text": [
      "Provisional Start: 2022-11-07T00:00:00\n",
      "Provisional End: 2023-09-03T00:00:00\n",
      "Data for chunk 2 of 2 extracted\n",
      "Saved to C:\\Users\\Roman\\Desktop\\DMLS_project\\Crypto\\BTRST-USD_diff.csv\n",
      "FLOW-USD\n",
      "Checking input parameters are in the correct format.\n",
      "Formatting Dates.\n",
      "Checking if user supplied is available on the CoinBase Pro API.\n",
      "Connected to the CoinBase Pro API.\n",
      "Ticker 'FLOW-USD' found at the CoinBase Pro API, continuing to extraction.\n",
      "Provisional Start: 2022-01-11T00:00:00\n",
      "Provisional End: 2022-11-07T00:00:00\n",
      "Data for chunk 1 of 2 extracted\n",
      "Provisional Start: 2022-11-07T00:00:00\n",
      "Provisional End: 2023-09-03T00:00:00\n"
     ]
    },
    {
     "name": "stderr",
     "output_type": "stream",
     "text": [
      "C:\\Users\\Roman\\AppData\\Local\\Packages\\PythonSoftwareFoundation.Python.3.10_qbz5n2kfra8p0\\LocalCache\\local-packages\\Python310\\site-packages\\Historic_Crypto\\HistoricalData.py:176: FutureWarning: The frame.append method is deprecated and will be removed from pandas in a future version. Use pandas.concat instead.\n",
      "  data = data.append(dataset)\n"
     ]
    },
    {
     "name": "stdout",
     "output_type": "stream",
     "text": [
      "Data for chunk 2 of 2 extracted\n",
      "Saved to C:\\Users\\Roman\\Desktop\\DMLS_project\\Crypto\\FLOW-USD_diff.csv\n",
      "COVAL-USDT\n",
      "Checking input parameters are in the correct format.\n",
      "Formatting Dates.\n",
      "Checking if user supplied is available on the CoinBase Pro API.\n",
      "Connected to the CoinBase Pro API.\n",
      "Ticker 'COVAL-USDT' found at the CoinBase Pro API, continuing to extraction.\n",
      "Provisional Start: 2022-01-11T00:00:00\n",
      "Provisional End: 2022-11-07T00:00:00\n",
      "Data for chunk 1 of 2 extracted\n"
     ]
    },
    {
     "name": "stderr",
     "output_type": "stream",
     "text": [
      "C:\\Users\\Roman\\AppData\\Local\\Packages\\PythonSoftwareFoundation.Python.3.10_qbz5n2kfra8p0\\LocalCache\\local-packages\\Python310\\site-packages\\Historic_Crypto\\HistoricalData.py:176: FutureWarning: The frame.append method is deprecated and will be removed from pandas in a future version. Use pandas.concat instead.\n",
      "  data = data.append(dataset)\n"
     ]
    },
    {
     "name": "stdout",
     "output_type": "stream",
     "text": [
      "Provisional Start: 2022-11-07T00:00:00\n",
      "Provisional End: 2023-09-03T00:00:00\n",
      "Data for chunk 2 of 2 extracted\n",
      "Saved to C:\\Users\\Roman\\Desktop\\DMLS_project\\Crypto\\COVAL-USDT_diff.csv\n",
      "BCH-USD\n",
      "Checking input parameters are in the correct format.\n",
      "Formatting Dates.\n",
      "Checking if user supplied is available on the CoinBase Pro API.\n",
      "Connected to the CoinBase Pro API.\n",
      "Ticker 'BCH-USD' found at the CoinBase Pro API, continuing to extraction.\n",
      "Provisional Start: 2022-01-11T00:00:00\n",
      "Provisional End: 2022-11-07T00:00:00\n",
      "Data for chunk 1 of 2 extracted\n"
     ]
    },
    {
     "name": "stderr",
     "output_type": "stream",
     "text": [
      "C:\\Users\\Roman\\AppData\\Local\\Packages\\PythonSoftwareFoundation.Python.3.10_qbz5n2kfra8p0\\LocalCache\\local-packages\\Python310\\site-packages\\Historic_Crypto\\HistoricalData.py:176: FutureWarning: The frame.append method is deprecated and will be removed from pandas in a future version. Use pandas.concat instead.\n",
      "  data = data.append(dataset)\n"
     ]
    },
    {
     "name": "stdout",
     "output_type": "stream",
     "text": [
      "Provisional Start: 2022-11-07T00:00:00\n",
      "Provisional End: 2023-09-03T00:00:00\n",
      "Data for chunk 2 of 2 extracted\n",
      "Saved to C:\\Users\\Roman\\Desktop\\DMLS_project\\Crypto\\BCH-USD_diff.csv\n",
      "XCN-USDT\n",
      "Checking input parameters are in the correct format.\n",
      "Formatting Dates.\n",
      "Checking if user supplied is available on the CoinBase Pro API.\n",
      "Connected to the CoinBase Pro API.\n",
      "Ticker 'XCN-USDT' found at the CoinBase Pro API, continuing to extraction.\n",
      "Provisional Start: 2022-01-11T00:00:00\n",
      "Provisional End: 2022-11-07T00:00:00\n",
      "Data for chunk 1 of 2 extracted\n",
      "Provisional Start: 2022-11-07T00:00:00\n",
      "Provisional End: 2023-09-03T00:00:00\n",
      "Data for chunk 2 of 2 extracted\n"
     ]
    },
    {
     "name": "stderr",
     "output_type": "stream",
     "text": [
      "C:\\Users\\Roman\\AppData\\Local\\Packages\\PythonSoftwareFoundation.Python.3.10_qbz5n2kfra8p0\\LocalCache\\local-packages\\Python310\\site-packages\\Historic_Crypto\\HistoricalData.py:176: FutureWarning: The frame.append method is deprecated and will be removed from pandas in a future version. Use pandas.concat instead.\n",
      "  data = data.append(dataset)\n"
     ]
    },
    {
     "name": "stdout",
     "output_type": "stream",
     "text": [
      "Saved to C:\\Users\\Roman\\Desktop\\DMLS_project\\Crypto\\XCN-USDT_diff.csv\n",
      "LCX-USD\n",
      "Checking input parameters are in the correct format.\n",
      "Formatting Dates.\n",
      "Checking if user supplied is available on the CoinBase Pro API.\n",
      "Connected to the CoinBase Pro API.\n",
      "Ticker 'LCX-USD' found at the CoinBase Pro API, continuing to extraction.\n",
      "Provisional Start: 2022-01-11T00:00:00\n",
      "Provisional End: 2022-11-07T00:00:00\n",
      "Data for chunk 1 of 2 extracted\n"
     ]
    },
    {
     "name": "stderr",
     "output_type": "stream",
     "text": [
      "C:\\Users\\Roman\\AppData\\Local\\Packages\\PythonSoftwareFoundation.Python.3.10_qbz5n2kfra8p0\\LocalCache\\local-packages\\Python310\\site-packages\\Historic_Crypto\\HistoricalData.py:176: FutureWarning: The frame.append method is deprecated and will be removed from pandas in a future version. Use pandas.concat instead.\n",
      "  data = data.append(dataset)\n"
     ]
    },
    {
     "name": "stdout",
     "output_type": "stream",
     "text": [
      "Provisional Start: 2022-11-07T00:00:00\n",
      "Provisional End: 2023-09-03T00:00:00\n",
      "Data for chunk 2 of 2 extracted\n",
      "Saved to C:\\Users\\Roman\\Desktop\\DMLS_project\\Crypto\\LCX-USD_diff.csv\n",
      "MATIC-BTC\n",
      "Checking input parameters are in the correct format.\n",
      "Formatting Dates.\n",
      "Checking if user supplied is available on the CoinBase Pro API.\n",
      "Connected to the CoinBase Pro API.\n",
      "Ticker 'MATIC-BTC' found at the CoinBase Pro API, continuing to extraction.\n",
      "Provisional Start: 2022-01-11T00:00:00\n",
      "Provisional End: 2022-11-07T00:00:00\n",
      "Data for chunk 1 of 2 extracted\n"
     ]
    },
    {
     "name": "stderr",
     "output_type": "stream",
     "text": [
      "C:\\Users\\Roman\\AppData\\Local\\Packages\\PythonSoftwareFoundation.Python.3.10_qbz5n2kfra8p0\\LocalCache\\local-packages\\Python310\\site-packages\\Historic_Crypto\\HistoricalData.py:176: FutureWarning: The frame.append method is deprecated and will be removed from pandas in a future version. Use pandas.concat instead.\n",
      "  data = data.append(dataset)\n"
     ]
    },
    {
     "name": "stdout",
     "output_type": "stream",
     "text": [
      "Provisional Start: 2022-11-07T00:00:00\n",
      "Provisional End: 2023-09-03T00:00:00\n",
      "Data for chunk 2 of 2 extracted\n",
      "Saved to C:\\Users\\Roman\\Desktop\\DMLS_project\\Crypto\\MATIC-BTC_diff.csv\n",
      "MANA-ETH\n",
      "Checking input parameters are in the correct format.\n",
      "Formatting Dates.\n",
      "Checking if user supplied is available on the CoinBase Pro API.\n",
      "Connected to the CoinBase Pro API.\n",
      "Ticker 'MANA-ETH' found at the CoinBase Pro API, continuing to extraction.\n",
      "Provisional Start: 2022-01-11T00:00:00\n",
      "Provisional End: 2022-11-07T00:00:00\n",
      "Data for chunk 1 of 2 extracted\n"
     ]
    },
    {
     "name": "stderr",
     "output_type": "stream",
     "text": [
      "C:\\Users\\Roman\\AppData\\Local\\Packages\\PythonSoftwareFoundation.Python.3.10_qbz5n2kfra8p0\\LocalCache\\local-packages\\Python310\\site-packages\\Historic_Crypto\\HistoricalData.py:176: FutureWarning: The frame.append method is deprecated and will be removed from pandas in a future version. Use pandas.concat instead.\n",
      "  data = data.append(dataset)\n"
     ]
    },
    {
     "name": "stdout",
     "output_type": "stream",
     "text": [
      "Provisional Start: 2022-11-07T00:00:00\n",
      "Provisional End: 2023-09-03T00:00:00\n",
      "Data for chunk 2 of 2 extracted\n",
      "Saved to C:\\Users\\Roman\\Desktop\\DMLS_project\\Crypto\\MANA-ETH_diff.csv\n",
      "HFT-USD\n",
      "Checking input parameters are in the correct format.\n",
      "Formatting Dates.\n",
      "Checking if user supplied is available on the CoinBase Pro API.\n",
      "Connected to the CoinBase Pro API.\n",
      "Ticker 'HFT-USD' found at the CoinBase Pro API, continuing to extraction.\n",
      "Provisional Start: 2022-01-11T00:00:00\n",
      "Provisional End: 2022-11-07T00:00:00\n",
      "Data for chunk 1 of 2 extracted\n"
     ]
    },
    {
     "name": "stderr",
     "output_type": "stream",
     "text": [
      "C:\\Users\\Roman\\AppData\\Local\\Packages\\PythonSoftwareFoundation.Python.3.10_qbz5n2kfra8p0\\LocalCache\\local-packages\\Python310\\site-packages\\Historic_Crypto\\HistoricalData.py:176: FutureWarning: The frame.append method is deprecated and will be removed from pandas in a future version. Use pandas.concat instead.\n",
      "  data = data.append(dataset)\n"
     ]
    },
    {
     "name": "stdout",
     "output_type": "stream",
     "text": [
      "Provisional Start: 2022-11-07T00:00:00\n",
      "Provisional End: 2023-09-03T00:00:00\n",
      "Data for chunk 2 of 2 extracted\n",
      "Saved to C:\\Users\\Roman\\Desktop\\DMLS_project\\Crypto\\HFT-USD_diff.csv\n",
      "KNC-BTC\n",
      "Checking input parameters are in the correct format.\n",
      "Formatting Dates.\n",
      "Checking if user supplied is available on the CoinBase Pro API.\n",
      "Connected to the CoinBase Pro API.\n",
      "Ticker 'KNC-BTC' found at the CoinBase Pro API, continuing to extraction.\n",
      "Provisional Start: 2022-01-11T00:00:00\n",
      "Provisional End: 2022-11-07T00:00:00\n",
      "Data for chunk 1 of 2 extracted\n"
     ]
    },
    {
     "name": "stderr",
     "output_type": "stream",
     "text": [
      "C:\\Users\\Roman\\AppData\\Local\\Packages\\PythonSoftwareFoundation.Python.3.10_qbz5n2kfra8p0\\LocalCache\\local-packages\\Python310\\site-packages\\Historic_Crypto\\HistoricalData.py:176: FutureWarning: The frame.append method is deprecated and will be removed from pandas in a future version. Use pandas.concat instead.\n",
      "  data = data.append(dataset)\n"
     ]
    },
    {
     "name": "stdout",
     "output_type": "stream",
     "text": [
      "Provisional Start: 2022-11-07T00:00:00\n",
      "Provisional End: 2023-09-03T00:00:00\n",
      "Data for chunk 2 of 2 extracted\n",
      "Saved to C:\\Users\\Roman\\Desktop\\DMLS_project\\Crypto\\KNC-BTC_diff.csv\n",
      "BLZ-USD\n",
      "Checking input parameters are in the correct format.\n",
      "Formatting Dates.\n",
      "Checking if user supplied is available on the CoinBase Pro API.\n",
      "Connected to the CoinBase Pro API.\n",
      "Ticker 'BLZ-USD' found at the CoinBase Pro API, continuing to extraction.\n",
      "Provisional Start: 2022-01-11T00:00:00\n",
      "Provisional End: 2022-11-07T00:00:00\n",
      "Data for chunk 1 of 2 extracted\n",
      "Provisional Start: 2022-11-07T00:00:00\n",
      "Provisional End: 2023-09-03T00:00:00\n"
     ]
    },
    {
     "name": "stderr",
     "output_type": "stream",
     "text": [
      "C:\\Users\\Roman\\AppData\\Local\\Packages\\PythonSoftwareFoundation.Python.3.10_qbz5n2kfra8p0\\LocalCache\\local-packages\\Python310\\site-packages\\Historic_Crypto\\HistoricalData.py:176: FutureWarning: The frame.append method is deprecated and will be removed from pandas in a future version. Use pandas.concat instead.\n",
      "  data = data.append(dataset)\n"
     ]
    },
    {
     "name": "stdout",
     "output_type": "stream",
     "text": [
      "Data for chunk 2 of 2 extracted\n",
      "Saved to C:\\Users\\Roman\\Desktop\\DMLS_project\\Crypto\\BLZ-USD_diff.csv\n",
      "MASK-GBP\n",
      "Checking input parameters are in the correct format.\n",
      "Formatting Dates.\n",
      "Checking if user supplied is available on the CoinBase Pro API.\n",
      "Connected to the CoinBase Pro API.\n",
      "Ticker 'MASK-GBP' found at the CoinBase Pro API, continuing to extraction.\n",
      "Provisional Start: 2022-01-11T00:00:00\n",
      "Provisional End: 2022-11-07T00:00:00\n",
      "Data for chunk 1 of 2 extracted\n"
     ]
    },
    {
     "name": "stderr",
     "output_type": "stream",
     "text": [
      "C:\\Users\\Roman\\AppData\\Local\\Packages\\PythonSoftwareFoundation.Python.3.10_qbz5n2kfra8p0\\LocalCache\\local-packages\\Python310\\site-packages\\Historic_Crypto\\HistoricalData.py:176: FutureWarning: The frame.append method is deprecated and will be removed from pandas in a future version. Use pandas.concat instead.\n",
      "  data = data.append(dataset)\n"
     ]
    },
    {
     "name": "stdout",
     "output_type": "stream",
     "text": [
      "Provisional Start: 2022-11-07T00:00:00\n",
      "Provisional End: 2023-09-03T00:00:00\n",
      "Data for chunk 2 of 2 extracted\n",
      "Saved to C:\\Users\\Roman\\Desktop\\DMLS_project\\Crypto\\MASK-GBP_diff.csv\n",
      "NCT-USDT\n",
      "Checking input parameters are in the correct format.\n",
      "Formatting Dates.\n",
      "Checking if user supplied is available on the CoinBase Pro API.\n",
      "Connected to the CoinBase Pro API.\n",
      "Ticker 'NCT-USDT' found at the CoinBase Pro API, continuing to extraction.\n",
      "Provisional Start: 2022-01-11T00:00:00\n",
      "Provisional End: 2022-11-07T00:00:00\n",
      "Data for chunk 1 of 2 extracted\n"
     ]
    },
    {
     "name": "stderr",
     "output_type": "stream",
     "text": [
      "C:\\Users\\Roman\\AppData\\Local\\Packages\\PythonSoftwareFoundation.Python.3.10_qbz5n2kfra8p0\\LocalCache\\local-packages\\Python310\\site-packages\\Historic_Crypto\\HistoricalData.py:176: FutureWarning: The frame.append method is deprecated and will be removed from pandas in a future version. Use pandas.concat instead.\n",
      "  data = data.append(dataset)\n"
     ]
    },
    {
     "name": "stdout",
     "output_type": "stream",
     "text": [
      "Provisional Start: 2022-11-07T00:00:00\n",
      "Provisional End: 2023-09-03T00:00:00\n",
      "Data for chunk 2 of 2 extracted\n",
      "Saved to C:\\Users\\Roman\\Desktop\\DMLS_project\\Crypto\\NCT-USDT_diff.csv\n",
      "BNT-EUR\n",
      "Checking input parameters are in the correct format.\n",
      "Formatting Dates.\n",
      "Checking if user supplied is available on the CoinBase Pro API.\n",
      "Connected to the CoinBase Pro API.\n",
      "Ticker 'BNT-EUR' found at the CoinBase Pro API, continuing to extraction.\n",
      "Provisional Start: 2022-01-11T00:00:00\n",
      "Provisional End: 2022-11-07T00:00:00\n",
      "Data for chunk 1 of 2 extracted\n"
     ]
    },
    {
     "name": "stderr",
     "output_type": "stream",
     "text": [
      "C:\\Users\\Roman\\AppData\\Local\\Packages\\PythonSoftwareFoundation.Python.3.10_qbz5n2kfra8p0\\LocalCache\\local-packages\\Python310\\site-packages\\Historic_Crypto\\HistoricalData.py:176: FutureWarning: The frame.append method is deprecated and will be removed from pandas in a future version. Use pandas.concat instead.\n",
      "  data = data.append(dataset)\n"
     ]
    },
    {
     "name": "stdout",
     "output_type": "stream",
     "text": [
      "Provisional Start: 2022-11-07T00:00:00\n",
      "Provisional End: 2023-09-03T00:00:00\n",
      "Data for chunk 2 of 2 extracted\n",
      "Saved to C:\\Users\\Roman\\Desktop\\DMLS_project\\Crypto\\BNT-EUR_diff.csv\n",
      "DAI-USDC\n",
      "Checking input parameters are in the correct format.\n",
      "Formatting Dates.\n",
      "Checking if user supplied is available on the CoinBase Pro API.\n",
      "Connected to the CoinBase Pro API.\n",
      "Ticker 'DAI-USDC' found at the CoinBase Pro API, continuing to extraction.\n",
      "Provisional Start: 2022-01-11T00:00:00\n",
      "Provisional End: 2022-11-07T00:00:00\n",
      "Data for chunk 1 of 2 extracted\n"
     ]
    },
    {
     "name": "stderr",
     "output_type": "stream",
     "text": [
      "C:\\Users\\Roman\\AppData\\Local\\Packages\\PythonSoftwareFoundation.Python.3.10_qbz5n2kfra8p0\\LocalCache\\local-packages\\Python310\\site-packages\\Historic_Crypto\\HistoricalData.py:176: FutureWarning: The frame.append method is deprecated and will be removed from pandas in a future version. Use pandas.concat instead.\n",
      "  data = data.append(dataset)\n"
     ]
    },
    {
     "name": "stdout",
     "output_type": "stream",
     "text": [
      "Provisional Start: 2022-11-07T00:00:00\n",
      "Provisional End: 2023-09-03T00:00:00\n",
      "Data for chunk 2 of 2 extracted\n",
      "CoinBase Pro API did not have available data for 'DAI-USDC' beginning at 2022-01-11-00-00.  \n",
      "                        Trying a later date:'2022-11-07T00:00:00'\n",
      "Saved to C:\\Users\\Roman\\Desktop\\DMLS_project\\Crypto\\DAI-USDC_diff.csv\n",
      "HIGH-USD\n",
      "Checking input parameters are in the correct format.\n",
      "Formatting Dates.\n",
      "Checking if user supplied is available on the CoinBase Pro API.\n",
      "Connected to the CoinBase Pro API.\n",
      "Ticker 'HIGH-USD' found at the CoinBase Pro API, continuing to extraction.\n",
      "Provisional Start: 2022-01-11T00:00:00\n",
      "Provisional End: 2022-11-07T00:00:00\n",
      "Data for chunk 1 of 2 extracted\n",
      "Provisional Start: 2022-11-07T00:00:00\n",
      "Provisional End: 2023-09-03T00:00:00\n"
     ]
    },
    {
     "name": "stderr",
     "output_type": "stream",
     "text": [
      "C:\\Users\\Roman\\AppData\\Local\\Packages\\PythonSoftwareFoundation.Python.3.10_qbz5n2kfra8p0\\LocalCache\\local-packages\\Python310\\site-packages\\Historic_Crypto\\HistoricalData.py:176: FutureWarning: The frame.append method is deprecated and will be removed from pandas in a future version. Use pandas.concat instead.\n",
      "  data = data.append(dataset)\n"
     ]
    },
    {
     "name": "stdout",
     "output_type": "stream",
     "text": [
      "Data for chunk 2 of 2 extracted\n",
      "Saved to C:\\Users\\Roman\\Desktop\\DMLS_project\\Crypto\\HIGH-USD_diff.csv\n",
      "GUSD-USD\n",
      "Checking input parameters are in the correct format.\n",
      "Formatting Dates.\n",
      "Checking if user supplied is available on the CoinBase Pro API.\n",
      "Connected to the CoinBase Pro API.\n",
      "Ticker 'GUSD-USD' found at the CoinBase Pro API, continuing to extraction.\n",
      "Provisional Start: 2022-01-11T00:00:00\n",
      "Provisional End: 2022-11-07T00:00:00\n",
      "Data for chunk 1 of 2 extracted\n",
      "Provisional Start: 2022-11-07T00:00:00\n",
      "Provisional End: 2023-09-03T00:00:00\n"
     ]
    },
    {
     "name": "stderr",
     "output_type": "stream",
     "text": [
      "C:\\Users\\Roman\\AppData\\Local\\Packages\\PythonSoftwareFoundation.Python.3.10_qbz5n2kfra8p0\\LocalCache\\local-packages\\Python310\\site-packages\\Historic_Crypto\\HistoricalData.py:176: FutureWarning: The frame.append method is deprecated and will be removed from pandas in a future version. Use pandas.concat instead.\n",
      "  data = data.append(dataset)\n"
     ]
    },
    {
     "name": "stdout",
     "output_type": "stream",
     "text": [
      "Data for chunk 2 of 2 extracted\n",
      "Saved to C:\\Users\\Roman\\Desktop\\DMLS_project\\Crypto\\GUSD-USD_diff.csv\n",
      "RNDR-EUR\n",
      "Checking input parameters are in the correct format.\n",
      "Formatting Dates.\n",
      "Checking if user supplied is available on the CoinBase Pro API.\n",
      "Connected to the CoinBase Pro API.\n",
      "Ticker 'RNDR-EUR' found at the CoinBase Pro API, continuing to extraction.\n",
      "Provisional Start: 2022-01-11T00:00:00\n",
      "Provisional End: 2022-11-07T00:00:00\n",
      "Data for chunk 1 of 2 extracted\n"
     ]
    },
    {
     "name": "stderr",
     "output_type": "stream",
     "text": [
      "C:\\Users\\Roman\\AppData\\Local\\Packages\\PythonSoftwareFoundation.Python.3.10_qbz5n2kfra8p0\\LocalCache\\local-packages\\Python310\\site-packages\\Historic_Crypto\\HistoricalData.py:176: FutureWarning: The frame.append method is deprecated and will be removed from pandas in a future version. Use pandas.concat instead.\n",
      "  data = data.append(dataset)\n"
     ]
    },
    {
     "name": "stdout",
     "output_type": "stream",
     "text": [
      "Provisional Start: 2022-11-07T00:00:00\n",
      "Provisional End: 2023-09-03T00:00:00\n",
      "Data for chunk 2 of 2 extracted\n",
      "Saved to C:\\Users\\Roman\\Desktop\\DMLS_project\\Crypto\\RNDR-EUR_diff.csv\n",
      "BAT-EUR\n",
      "Checking input parameters are in the correct format.\n",
      "Formatting Dates.\n",
      "Checking if user supplied is available on the CoinBase Pro API.\n",
      "Connected to the CoinBase Pro API.\n",
      "Ticker 'BAT-EUR' found at the CoinBase Pro API, continuing to extraction.\n",
      "Provisional Start: 2022-01-11T00:00:00\n",
      "Provisional End: 2022-11-07T00:00:00\n",
      "Data for chunk 1 of 2 extracted\n",
      "Provisional Start: 2022-11-07T00:00:00\n",
      "Provisional End: 2023-09-03T00:00:00\n"
     ]
    },
    {
     "name": "stderr",
     "output_type": "stream",
     "text": [
      "C:\\Users\\Roman\\AppData\\Local\\Packages\\PythonSoftwareFoundation.Python.3.10_qbz5n2kfra8p0\\LocalCache\\local-packages\\Python310\\site-packages\\Historic_Crypto\\HistoricalData.py:176: FutureWarning: The frame.append method is deprecated and will be removed from pandas in a future version. Use pandas.concat instead.\n",
      "  data = data.append(dataset)\n"
     ]
    },
    {
     "name": "stdout",
     "output_type": "stream",
     "text": [
      "Data for chunk 2 of 2 extracted\n",
      "Saved to C:\\Users\\Roman\\Desktop\\DMLS_project\\Crypto\\BAT-EUR_diff.csv\n",
      "DIA-EUR\n",
      "Checking input parameters are in the correct format.\n",
      "Formatting Dates.\n",
      "Checking if user supplied is available on the CoinBase Pro API.\n",
      "Connected to the CoinBase Pro API.\n",
      "Ticker 'DIA-EUR' found at the CoinBase Pro API, continuing to extraction.\n",
      "Provisional Start: 2022-01-11T00:00:00\n",
      "Provisional End: 2022-11-07T00:00:00\n",
      "Data for chunk 1 of 2 extracted\n"
     ]
    },
    {
     "name": "stderr",
     "output_type": "stream",
     "text": [
      "C:\\Users\\Roman\\AppData\\Local\\Packages\\PythonSoftwareFoundation.Python.3.10_qbz5n2kfra8p0\\LocalCache\\local-packages\\Python310\\site-packages\\Historic_Crypto\\HistoricalData.py:176: FutureWarning: The frame.append method is deprecated and will be removed from pandas in a future version. Use pandas.concat instead.\n",
      "  data = data.append(dataset)\n"
     ]
    },
    {
     "name": "stdout",
     "output_type": "stream",
     "text": [
      "Provisional Start: 2022-11-07T00:00:00\n",
      "Provisional End: 2023-09-03T00:00:00\n",
      "Data for chunk 2 of 2 extracted\n",
      "Saved to C:\\Users\\Roman\\Desktop\\DMLS_project\\Crypto\\DIA-EUR_diff.csv\n",
      "LRC-USDT\n",
      "Checking input parameters are in the correct format.\n",
      "Formatting Dates.\n",
      "Checking if user supplied is available on the CoinBase Pro API.\n",
      "Connected to the CoinBase Pro API.\n",
      "Ticker 'LRC-USDT' found at the CoinBase Pro API, continuing to extraction.\n",
      "Provisional Start: 2022-01-11T00:00:00\n",
      "Provisional End: 2022-11-07T00:00:00\n",
      "Data for chunk 1 of 2 extracted\n"
     ]
    },
    {
     "name": "stderr",
     "output_type": "stream",
     "text": [
      "C:\\Users\\Roman\\AppData\\Local\\Packages\\PythonSoftwareFoundation.Python.3.10_qbz5n2kfra8p0\\LocalCache\\local-packages\\Python310\\site-packages\\Historic_Crypto\\HistoricalData.py:176: FutureWarning: The frame.append method is deprecated and will be removed from pandas in a future version. Use pandas.concat instead.\n",
      "  data = data.append(dataset)\n"
     ]
    },
    {
     "name": "stdout",
     "output_type": "stream",
     "text": [
      "Provisional Start: 2022-11-07T00:00:00\n",
      "Provisional End: 2023-09-03T00:00:00\n",
      "Data for chunk 2 of 2 extracted\n",
      "Saved to C:\\Users\\Roman\\Desktop\\DMLS_project\\Crypto\\LRC-USDT_diff.csv\n",
      "RNDR-USDT\n",
      "Checking input parameters are in the correct format.\n",
      "Formatting Dates.\n",
      "Checking if user supplied is available on the CoinBase Pro API.\n",
      "Connected to the CoinBase Pro API.\n",
      "Ticker 'RNDR-USDT' found at the CoinBase Pro API, continuing to extraction.\n",
      "Provisional Start: 2022-01-11T00:00:00\n",
      "Provisional End: 2022-11-07T00:00:00\n",
      "Data for chunk 1 of 2 extracted\n"
     ]
    },
    {
     "name": "stderr",
     "output_type": "stream",
     "text": [
      "C:\\Users\\Roman\\AppData\\Local\\Packages\\PythonSoftwareFoundation.Python.3.10_qbz5n2kfra8p0\\LocalCache\\local-packages\\Python310\\site-packages\\Historic_Crypto\\HistoricalData.py:176: FutureWarning: The frame.append method is deprecated and will be removed from pandas in a future version. Use pandas.concat instead.\n",
      "  data = data.append(dataset)\n"
     ]
    },
    {
     "name": "stdout",
     "output_type": "stream",
     "text": [
      "Provisional Start: 2022-11-07T00:00:00\n",
      "Provisional End: 2023-09-03T00:00:00\n",
      "Data for chunk 2 of 2 extracted\n",
      "Saved to C:\\Users\\Roman\\Desktop\\DMLS_project\\Crypto\\RNDR-USDT_diff.csv\n",
      "UST-USDT\n",
      "Checking input parameters are in the correct format.\n",
      "Formatting Dates.\n",
      "Checking if user supplied is available on the CoinBase Pro API.\n",
      "Connected to the CoinBase Pro API.\n",
      "Ticker 'UST-USDT' found at the CoinBase Pro API, continuing to extraction.\n",
      "Provisional Start: 2022-01-11T00:00:00\n",
      "Provisional End: 2022-11-07T00:00:00\n",
      "Data for chunk 1 of 2 extracted\n"
     ]
    },
    {
     "name": "stderr",
     "output_type": "stream",
     "text": [
      "C:\\Users\\Roman\\AppData\\Local\\Packages\\PythonSoftwareFoundation.Python.3.10_qbz5n2kfra8p0\\LocalCache\\local-packages\\Python310\\site-packages\\Historic_Crypto\\HistoricalData.py:176: FutureWarning: The frame.append method is deprecated and will be removed from pandas in a future version. Use pandas.concat instead.\n",
      "  data = data.append(dataset)\n"
     ]
    },
    {
     "name": "stdout",
     "output_type": "stream",
     "text": [
      "Provisional Start: 2022-11-07T00:00:00\n",
      "Provisional End: 2023-09-03T00:00:00\n",
      "Data for chunk 2 of 2 extracted\n",
      "CoinBase Pro API did not have available data for 'UST-USDT' beginning at 2022-01-11-00-00.  \n",
      "                        Trying a later date:'2022-11-07T00:00:00'\n",
      "Saved to C:\\Users\\Roman\\Desktop\\DMLS_project\\Crypto\\UST-USDT_diff.csv\n",
      "CRV-USD\n",
      "Checking input parameters are in the correct format.\n",
      "Formatting Dates.\n",
      "Checking if user supplied is available on the CoinBase Pro API.\n",
      "Connected to the CoinBase Pro API.\n",
      "Ticker 'CRV-USD' found at the CoinBase Pro API, continuing to extraction.\n",
      "Provisional Start: 2022-01-11T00:00:00\n",
      "Provisional End: 2022-11-07T00:00:00\n",
      "Data for chunk 1 of 2 extracted\n"
     ]
    },
    {
     "name": "stderr",
     "output_type": "stream",
     "text": [
      "C:\\Users\\Roman\\AppData\\Local\\Packages\\PythonSoftwareFoundation.Python.3.10_qbz5n2kfra8p0\\LocalCache\\local-packages\\Python310\\site-packages\\Historic_Crypto\\HistoricalData.py:176: FutureWarning: The frame.append method is deprecated and will be removed from pandas in a future version. Use pandas.concat instead.\n",
      "  data = data.append(dataset)\n"
     ]
    },
    {
     "name": "stdout",
     "output_type": "stream",
     "text": [
      "Provisional Start: 2022-11-07T00:00:00\n",
      "Provisional End: 2023-09-03T00:00:00\n",
      "Data for chunk 2 of 2 extracted\n",
      "Saved to C:\\Users\\Roman\\Desktop\\DMLS_project\\Crypto\\CRV-USD_diff.csv\n",
      "DNT-USD\n",
      "Checking input parameters are in the correct format.\n",
      "Formatting Dates.\n",
      "Checking if user supplied is available on the CoinBase Pro API.\n",
      "Connected to the CoinBase Pro API.\n",
      "Ticker 'DNT-USD' found at the CoinBase Pro API, continuing to extraction.\n",
      "Provisional Start: 2022-01-11T00:00:00\n",
      "Provisional End: 2022-11-07T00:00:00\n",
      "Data for chunk 1 of 2 extracted\n"
     ]
    },
    {
     "name": "stderr",
     "output_type": "stream",
     "text": [
      "C:\\Users\\Roman\\AppData\\Local\\Packages\\PythonSoftwareFoundation.Python.3.10_qbz5n2kfra8p0\\LocalCache\\local-packages\\Python310\\site-packages\\Historic_Crypto\\HistoricalData.py:176: FutureWarning: The frame.append method is deprecated and will be removed from pandas in a future version. Use pandas.concat instead.\n",
      "  data = data.append(dataset)\n"
     ]
    },
    {
     "name": "stdout",
     "output_type": "stream",
     "text": [
      "Provisional Start: 2022-11-07T00:00:00\n",
      "Provisional End: 2023-09-03T00:00:00\n",
      "Data for chunk 2 of 2 extracted\n",
      "Saved to C:\\Users\\Roman\\Desktop\\DMLS_project\\Crypto\\DNT-USD_diff.csv\n",
      "BNT-GBP\n",
      "Checking input parameters are in the correct format.\n",
      "Formatting Dates.\n",
      "Checking if user supplied is available on the CoinBase Pro API.\n",
      "Connected to the CoinBase Pro API.\n",
      "Ticker 'BNT-GBP' found at the CoinBase Pro API, continuing to extraction.\n",
      "Provisional Start: 2022-01-11T00:00:00\n",
      "Provisional End: 2022-11-07T00:00:00\n",
      "Data for chunk 1 of 2 extracted\n"
     ]
    },
    {
     "name": "stderr",
     "output_type": "stream",
     "text": [
      "C:\\Users\\Roman\\AppData\\Local\\Packages\\PythonSoftwareFoundation.Python.3.10_qbz5n2kfra8p0\\LocalCache\\local-packages\\Python310\\site-packages\\Historic_Crypto\\HistoricalData.py:176: FutureWarning: The frame.append method is deprecated and will be removed from pandas in a future version. Use pandas.concat instead.\n",
      "  data = data.append(dataset)\n"
     ]
    },
    {
     "name": "stdout",
     "output_type": "stream",
     "text": [
      "Provisional Start: 2022-11-07T00:00:00\n",
      "Provisional End: 2023-09-03T00:00:00\n",
      "Data for chunk 2 of 2 extracted\n",
      "Saved to C:\\Users\\Roman\\Desktop\\DMLS_project\\Crypto\\BNT-GBP_diff.csv\n",
      "DREP-USD\n",
      "Checking input parameters are in the correct format.\n",
      "Formatting Dates.\n",
      "Checking if user supplied is available on the CoinBase Pro API.\n",
      "Connected to the CoinBase Pro API.\n",
      "Ticker 'DREP-USD' found at the CoinBase Pro API, continuing to extraction.\n",
      "Provisional Start: 2022-01-11T00:00:00\n",
      "Provisional End: 2022-11-07T00:00:00\n",
      "Data for chunk 1 of 2 extracted\n"
     ]
    },
    {
     "name": "stderr",
     "output_type": "stream",
     "text": [
      "C:\\Users\\Roman\\AppData\\Local\\Packages\\PythonSoftwareFoundation.Python.3.10_qbz5n2kfra8p0\\LocalCache\\local-packages\\Python310\\site-packages\\Historic_Crypto\\HistoricalData.py:176: FutureWarning: The frame.append method is deprecated and will be removed from pandas in a future version. Use pandas.concat instead.\n",
      "  data = data.append(dataset)\n"
     ]
    },
    {
     "name": "stdout",
     "output_type": "stream",
     "text": [
      "Provisional Start: 2022-11-07T00:00:00\n",
      "Provisional End: 2023-09-03T00:00:00\n",
      "Data for chunk 2 of 2 extracted\n",
      "Saved to C:\\Users\\Roman\\Desktop\\DMLS_project\\Crypto\\DREP-USD_diff.csv\n",
      "XLM-USDT\n",
      "Checking input parameters are in the correct format.\n",
      "Formatting Dates.\n",
      "Checking if user supplied is available on the CoinBase Pro API.\n",
      "Connected to the CoinBase Pro API.\n",
      "Ticker 'XLM-USDT' found at the CoinBase Pro API, continuing to extraction.\n",
      "Provisional Start: 2022-01-11T00:00:00\n",
      "Provisional End: 2022-11-07T00:00:00\n",
      "Data for chunk 1 of 2 extracted\n"
     ]
    },
    {
     "name": "stderr",
     "output_type": "stream",
     "text": [
      "C:\\Users\\Roman\\AppData\\Local\\Packages\\PythonSoftwareFoundation.Python.3.10_qbz5n2kfra8p0\\LocalCache\\local-packages\\Python310\\site-packages\\Historic_Crypto\\HistoricalData.py:176: FutureWarning: The frame.append method is deprecated and will be removed from pandas in a future version. Use pandas.concat instead.\n",
      "  data = data.append(dataset)\n"
     ]
    },
    {
     "name": "stdout",
     "output_type": "stream",
     "text": [
      "Provisional Start: 2022-11-07T00:00:00\n",
      "Provisional End: 2023-09-03T00:00:00\n",
      "Data for chunk 2 of 2 extracted\n",
      "Saved to C:\\Users\\Roman\\Desktop\\DMLS_project\\Crypto\\XLM-USDT_diff.csv\n",
      "AVAX-BTC\n",
      "Checking input parameters are in the correct format.\n",
      "Formatting Dates.\n",
      "Checking if user supplied is available on the CoinBase Pro API.\n",
      "Connected to the CoinBase Pro API.\n",
      "Ticker 'AVAX-BTC' found at the CoinBase Pro API, continuing to extraction.\n",
      "Provisional Start: 2022-01-11T00:00:00\n",
      "Provisional End: 2022-11-07T00:00:00\n",
      "Data for chunk 1 of 2 extracted\n"
     ]
    },
    {
     "name": "stderr",
     "output_type": "stream",
     "text": [
      "C:\\Users\\Roman\\AppData\\Local\\Packages\\PythonSoftwareFoundation.Python.3.10_qbz5n2kfra8p0\\LocalCache\\local-packages\\Python310\\site-packages\\Historic_Crypto\\HistoricalData.py:176: FutureWarning: The frame.append method is deprecated and will be removed from pandas in a future version. Use pandas.concat instead.\n",
      "  data = data.append(dataset)\n"
     ]
    },
    {
     "name": "stdout",
     "output_type": "stream",
     "text": [
      "Provisional Start: 2022-11-07T00:00:00\n",
      "Provisional End: 2023-09-03T00:00:00\n",
      "Data for chunk 2 of 2 extracted\n",
      "Saved to C:\\Users\\Roman\\Desktop\\DMLS_project\\Crypto\\AVAX-BTC_diff.csv\n",
      "LTC-GBP\n",
      "Checking input parameters are in the correct format.\n",
      "Formatting Dates.\n",
      "Checking if user supplied is available on the CoinBase Pro API.\n",
      "Connected to the CoinBase Pro API.\n",
      "Ticker 'LTC-GBP' found at the CoinBase Pro API, continuing to extraction.\n",
      "Provisional Start: 2022-01-11T00:00:00\n",
      "Provisional End: 2022-11-07T00:00:00\n",
      "Data for chunk 1 of 2 extracted\n"
     ]
    },
    {
     "name": "stderr",
     "output_type": "stream",
     "text": [
      "C:\\Users\\Roman\\AppData\\Local\\Packages\\PythonSoftwareFoundation.Python.3.10_qbz5n2kfra8p0\\LocalCache\\local-packages\\Python310\\site-packages\\Historic_Crypto\\HistoricalData.py:176: FutureWarning: The frame.append method is deprecated and will be removed from pandas in a future version. Use pandas.concat instead.\n",
      "  data = data.append(dataset)\n"
     ]
    },
    {
     "name": "stdout",
     "output_type": "stream",
     "text": [
      "Provisional Start: 2022-11-07T00:00:00\n",
      "Provisional End: 2023-09-03T00:00:00\n",
      "Data for chunk 2 of 2 extracted\n",
      "Saved to C:\\Users\\Roman\\Desktop\\DMLS_project\\Crypto\\LTC-GBP_diff.csv\n",
      "SUKU-EUR\n",
      "Checking input parameters are in the correct format.\n",
      "Formatting Dates.\n",
      "Checking if user supplied is available on the CoinBase Pro API.\n",
      "Connected to the CoinBase Pro API.\n",
      "Ticker 'SUKU-EUR' found at the CoinBase Pro API, continuing to extraction.\n",
      "Provisional Start: 2022-01-11T00:00:00\n",
      "Provisional End: 2022-11-07T00:00:00\n",
      "Data for chunk 1 of 2 extracted\n"
     ]
    },
    {
     "name": "stderr",
     "output_type": "stream",
     "text": [
      "C:\\Users\\Roman\\AppData\\Local\\Packages\\PythonSoftwareFoundation.Python.3.10_qbz5n2kfra8p0\\LocalCache\\local-packages\\Python310\\site-packages\\Historic_Crypto\\HistoricalData.py:176: FutureWarning: The frame.append method is deprecated and will be removed from pandas in a future version. Use pandas.concat instead.\n",
      "  data = data.append(dataset)\n"
     ]
    },
    {
     "name": "stdout",
     "output_type": "stream",
     "text": [
      "Provisional Start: 2022-11-07T00:00:00\n",
      "Provisional End: 2023-09-03T00:00:00\n",
      "Data for chunk 2 of 2 extracted\n",
      "Saved to C:\\Users\\Roman\\Desktop\\DMLS_project\\Crypto\\SUKU-EUR_diff.csv\n",
      "KEEP-USD\n",
      "Checking input parameters are in the correct format.\n",
      "Formatting Dates.\n",
      "Checking if user supplied is available on the CoinBase Pro API.\n",
      "Connected to the CoinBase Pro API.\n",
      "Ticker 'KEEP-USD' found at the CoinBase Pro API, continuing to extraction.\n",
      "Provisional Start: 2022-01-11T00:00:00\n",
      "Provisional End: 2022-11-07T00:00:00\n",
      "Data for chunk 1 of 2 extracted\n",
      "Provisional Start: 2022-11-07T00:00:00\n",
      "Provisional End: 2023-09-03T00:00:00\n"
     ]
    },
    {
     "name": "stderr",
     "output_type": "stream",
     "text": [
      "C:\\Users\\Roman\\AppData\\Local\\Packages\\PythonSoftwareFoundation.Python.3.10_qbz5n2kfra8p0\\LocalCache\\local-packages\\Python310\\site-packages\\Historic_Crypto\\HistoricalData.py:176: FutureWarning: The frame.append method is deprecated and will be removed from pandas in a future version. Use pandas.concat instead.\n",
      "  data = data.append(dataset)\n"
     ]
    },
    {
     "name": "stdout",
     "output_type": "stream",
     "text": [
      "Data for chunk 2 of 2 extracted\n",
      "Saved to C:\\Users\\Roman\\Desktop\\DMLS_project\\Crypto\\KEEP-USD_diff.csv\n",
      "DDX-USD\n",
      "Checking input parameters are in the correct format.\n",
      "Formatting Dates.\n",
      "Checking if user supplied is available on the CoinBase Pro API.\n",
      "Connected to the CoinBase Pro API.\n",
      "Ticker 'DDX-USD' found at the CoinBase Pro API, continuing to extraction.\n",
      "Provisional Start: 2022-01-11T00:00:00\n",
      "Provisional End: 2022-11-07T00:00:00\n",
      "Data for chunk 1 of 2 extracted\n"
     ]
    },
    {
     "name": "stderr",
     "output_type": "stream",
     "text": [
      "C:\\Users\\Roman\\AppData\\Local\\Packages\\PythonSoftwareFoundation.Python.3.10_qbz5n2kfra8p0\\LocalCache\\local-packages\\Python310\\site-packages\\Historic_Crypto\\HistoricalData.py:176: FutureWarning: The frame.append method is deprecated and will be removed from pandas in a future version. Use pandas.concat instead.\n",
      "  data = data.append(dataset)\n"
     ]
    },
    {
     "name": "stdout",
     "output_type": "stream",
     "text": [
      "Provisional Start: 2022-11-07T00:00:00\n",
      "Provisional End: 2023-09-03T00:00:00\n",
      "Data for chunk 2 of 2 extracted\n",
      "Saved to C:\\Users\\Roman\\Desktop\\DMLS_project\\Crypto\\DDX-USD_diff.csv\n",
      "GALA-EUR\n",
      "Checking input parameters are in the correct format.\n",
      "Formatting Dates.\n",
      "Checking if user supplied is available on the CoinBase Pro API.\n",
      "Connected to the CoinBase Pro API.\n",
      "Ticker 'GALA-EUR' found at the CoinBase Pro API, continuing to extraction.\n",
      "Provisional Start: 2022-01-11T00:00:00\n",
      "Provisional End: 2022-11-07T00:00:00\n",
      "Data for chunk 1 of 2 extracted\n"
     ]
    },
    {
     "name": "stderr",
     "output_type": "stream",
     "text": [
      "C:\\Users\\Roman\\AppData\\Local\\Packages\\PythonSoftwareFoundation.Python.3.10_qbz5n2kfra8p0\\LocalCache\\local-packages\\Python310\\site-packages\\Historic_Crypto\\HistoricalData.py:176: FutureWarning: The frame.append method is deprecated and will be removed from pandas in a future version. Use pandas.concat instead.\n",
      "  data = data.append(dataset)\n"
     ]
    },
    {
     "name": "stdout",
     "output_type": "stream",
     "text": [
      "Provisional Start: 2022-11-07T00:00:00\n",
      "Provisional End: 2023-09-03T00:00:00\n",
      "Data for chunk 2 of 2 extracted\n",
      "Saved to C:\\Users\\Roman\\Desktop\\DMLS_project\\Crypto\\GALA-EUR_diff.csv\n",
      "LRC-USD\n",
      "Checking input parameters are in the correct format.\n",
      "Formatting Dates.\n",
      "Checking if user supplied is available on the CoinBase Pro API.\n",
      "Connected to the CoinBase Pro API.\n",
      "Ticker 'LRC-USD' found at the CoinBase Pro API, continuing to extraction.\n",
      "Provisional Start: 2022-01-11T00:00:00\n",
      "Provisional End: 2022-11-07T00:00:00\n",
      "Data for chunk 1 of 2 extracted\n",
      "Provisional Start: 2022-11-07T00:00:00\n",
      "Provisional End: 2023-09-03T00:00:00\n"
     ]
    },
    {
     "name": "stderr",
     "output_type": "stream",
     "text": [
      "C:\\Users\\Roman\\AppData\\Local\\Packages\\PythonSoftwareFoundation.Python.3.10_qbz5n2kfra8p0\\LocalCache\\local-packages\\Python310\\site-packages\\Historic_Crypto\\HistoricalData.py:176: FutureWarning: The frame.append method is deprecated and will be removed from pandas in a future version. Use pandas.concat instead.\n",
      "  data = data.append(dataset)\n"
     ]
    },
    {
     "name": "stdout",
     "output_type": "stream",
     "text": [
      "Data for chunk 2 of 2 extracted\n",
      "Saved to C:\\Users\\Roman\\Desktop\\DMLS_project\\Crypto\\LRC-USD_diff.csv\n",
      "WAMPL-USD\n",
      "Checking input parameters are in the correct format.\n",
      "Formatting Dates.\n",
      "Checking if user supplied is available on the CoinBase Pro API.\n",
      "Connected to the CoinBase Pro API.\n",
      "Ticker 'WAMPL-USD' found at the CoinBase Pro API, continuing to extraction.\n",
      "Provisional Start: 2022-01-11T00:00:00\n",
      "Provisional End: 2022-11-07T00:00:00\n",
      "Data for chunk 1 of 2 extracted\n"
     ]
    },
    {
     "name": "stderr",
     "output_type": "stream",
     "text": [
      "C:\\Users\\Roman\\AppData\\Local\\Packages\\PythonSoftwareFoundation.Python.3.10_qbz5n2kfra8p0\\LocalCache\\local-packages\\Python310\\site-packages\\Historic_Crypto\\HistoricalData.py:176: FutureWarning: The frame.append method is deprecated and will be removed from pandas in a future version. Use pandas.concat instead.\n",
      "  data = data.append(dataset)\n"
     ]
    },
    {
     "name": "stdout",
     "output_type": "stream",
     "text": [
      "Provisional Start: 2022-11-07T00:00:00\n",
      "Provisional End: 2023-09-03T00:00:00\n",
      "Data for chunk 2 of 2 extracted\n",
      "Saved to C:\\Users\\Roman\\Desktop\\DMLS_project\\Crypto\\WAMPL-USD_diff.csv\n",
      "ZEC-BTC\n",
      "Checking input parameters are in the correct format.\n",
      "Formatting Dates.\n",
      "Checking if user supplied is available on the CoinBase Pro API.\n",
      "Connected to the CoinBase Pro API.\n",
      "Ticker 'ZEC-BTC' found at the CoinBase Pro API, continuing to extraction.\n",
      "Provisional Start: 2022-01-11T00:00:00\n",
      "Provisional End: 2022-11-07T00:00:00\n",
      "Data for chunk 1 of 2 extracted\n"
     ]
    },
    {
     "name": "stderr",
     "output_type": "stream",
     "text": [
      "C:\\Users\\Roman\\AppData\\Local\\Packages\\PythonSoftwareFoundation.Python.3.10_qbz5n2kfra8p0\\LocalCache\\local-packages\\Python310\\site-packages\\Historic_Crypto\\HistoricalData.py:176: FutureWarning: The frame.append method is deprecated and will be removed from pandas in a future version. Use pandas.concat instead.\n",
      "  data = data.append(dataset)\n"
     ]
    },
    {
     "name": "stdout",
     "output_type": "stream",
     "text": [
      "Provisional Start: 2022-11-07T00:00:00\n",
      "Provisional End: 2023-09-03T00:00:00\n",
      "Data for chunk 2 of 2 extracted\n",
      "Saved to C:\\Users\\Roman\\Desktop\\DMLS_project\\Crypto\\ZEC-BTC_diff.csv\n",
      "FORT-USDT\n",
      "Checking input parameters are in the correct format.\n",
      "Formatting Dates.\n",
      "Checking if user supplied is available on the CoinBase Pro API.\n",
      "Connected to the CoinBase Pro API.\n",
      "Ticker 'FORT-USDT' found at the CoinBase Pro API, continuing to extraction.\n",
      "Provisional Start: 2022-01-11T00:00:00\n",
      "Provisional End: 2022-11-07T00:00:00\n",
      "Data for chunk 1 of 2 extracted\n"
     ]
    },
    {
     "name": "stderr",
     "output_type": "stream",
     "text": [
      "C:\\Users\\Roman\\AppData\\Local\\Packages\\PythonSoftwareFoundation.Python.3.10_qbz5n2kfra8p0\\LocalCache\\local-packages\\Python310\\site-packages\\Historic_Crypto\\HistoricalData.py:176: FutureWarning: The frame.append method is deprecated and will be removed from pandas in a future version. Use pandas.concat instead.\n",
      "  data = data.append(dataset)\n"
     ]
    },
    {
     "name": "stdout",
     "output_type": "stream",
     "text": [
      "Provisional Start: 2022-11-07T00:00:00\n",
      "Provisional End: 2023-09-03T00:00:00\n",
      "Data for chunk 2 of 2 extracted\n",
      "Saved to C:\\Users\\Roman\\Desktop\\DMLS_project\\Crypto\\FORT-USDT_diff.csv\n",
      "POWR-USDT\n",
      "Checking input parameters are in the correct format.\n",
      "Formatting Dates.\n",
      "Checking if user supplied is available on the CoinBase Pro API.\n",
      "Connected to the CoinBase Pro API.\n",
      "Ticker 'POWR-USDT' found at the CoinBase Pro API, continuing to extraction.\n",
      "Provisional Start: 2022-01-11T00:00:00\n",
      "Provisional End: 2022-11-07T00:00:00\n",
      "Data for chunk 1 of 2 extracted\n"
     ]
    },
    {
     "name": "stderr",
     "output_type": "stream",
     "text": [
      "C:\\Users\\Roman\\AppData\\Local\\Packages\\PythonSoftwareFoundation.Python.3.10_qbz5n2kfra8p0\\LocalCache\\local-packages\\Python310\\site-packages\\Historic_Crypto\\HistoricalData.py:176: FutureWarning: The frame.append method is deprecated and will be removed from pandas in a future version. Use pandas.concat instead.\n",
      "  data = data.append(dataset)\n"
     ]
    },
    {
     "name": "stdout",
     "output_type": "stream",
     "text": [
      "Provisional Start: 2022-11-07T00:00:00\n",
      "Provisional End: 2023-09-03T00:00:00\n",
      "Data for chunk 2 of 2 extracted\n",
      "Saved to C:\\Users\\Roman\\Desktop\\DMLS_project\\Crypto\\POWR-USDT_diff.csv\n",
      "OP-USD\n",
      "Checking input parameters are in the correct format.\n",
      "Formatting Dates.\n",
      "Checking if user supplied is available on the CoinBase Pro API.\n",
      "Connected to the CoinBase Pro API.\n",
      "Ticker 'OP-USD' found at the CoinBase Pro API, continuing to extraction.\n",
      "Provisional Start: 2022-01-11T00:00:00\n",
      "Provisional End: 2022-11-07T00:00:00\n",
      "Data for chunk 1 of 2 extracted\n"
     ]
    },
    {
     "name": "stderr",
     "output_type": "stream",
     "text": [
      "C:\\Users\\Roman\\AppData\\Local\\Packages\\PythonSoftwareFoundation.Python.3.10_qbz5n2kfra8p0\\LocalCache\\local-packages\\Python310\\site-packages\\Historic_Crypto\\HistoricalData.py:176: FutureWarning: The frame.append method is deprecated and will be removed from pandas in a future version. Use pandas.concat instead.\n",
      "  data = data.append(dataset)\n"
     ]
    },
    {
     "name": "stdout",
     "output_type": "stream",
     "text": [
      "Provisional Start: 2022-11-07T00:00:00\n",
      "Provisional End: 2023-09-03T00:00:00\n",
      "Data for chunk 2 of 2 extracted\n",
      "Saved to C:\\Users\\Roman\\Desktop\\DMLS_project\\Crypto\\OP-USD_diff.csv\n",
      "ATOM-BTC\n",
      "Checking input parameters are in the correct format.\n",
      "Formatting Dates.\n",
      "Checking if user supplied is available on the CoinBase Pro API.\n",
      "Connected to the CoinBase Pro API.\n",
      "Ticker 'ATOM-BTC' found at the CoinBase Pro API, continuing to extraction.\n",
      "Provisional Start: 2022-01-11T00:00:00\n",
      "Provisional End: 2022-11-07T00:00:00\n",
      "Data for chunk 1 of 2 extracted\n",
      "Provisional Start: 2022-11-07T00:00:00\n",
      "Provisional End: 2023-09-03T00:00:00\n"
     ]
    },
    {
     "name": "stderr",
     "output_type": "stream",
     "text": [
      "C:\\Users\\Roman\\AppData\\Local\\Packages\\PythonSoftwareFoundation.Python.3.10_qbz5n2kfra8p0\\LocalCache\\local-packages\\Python310\\site-packages\\Historic_Crypto\\HistoricalData.py:176: FutureWarning: The frame.append method is deprecated and will be removed from pandas in a future version. Use pandas.concat instead.\n",
      "  data = data.append(dataset)\n"
     ]
    },
    {
     "name": "stdout",
     "output_type": "stream",
     "text": [
      "Data for chunk 2 of 2 extracted\n",
      "Saved to C:\\Users\\Roman\\Desktop\\DMLS_project\\Crypto\\ATOM-BTC_diff.csv\n",
      "GAL-USDT\n",
      "Checking input parameters are in the correct format.\n",
      "Formatting Dates.\n",
      "Checking if user supplied is available on the CoinBase Pro API.\n",
      "Connected to the CoinBase Pro API.\n",
      "Ticker 'GAL-USDT' found at the CoinBase Pro API, continuing to extraction.\n",
      "Provisional Start: 2022-01-11T00:00:00\n",
      "Provisional End: 2022-11-07T00:00:00\n",
      "Data for chunk 1 of 2 extracted\n"
     ]
    },
    {
     "name": "stderr",
     "output_type": "stream",
     "text": [
      "C:\\Users\\Roman\\AppData\\Local\\Packages\\PythonSoftwareFoundation.Python.3.10_qbz5n2kfra8p0\\LocalCache\\local-packages\\Python310\\site-packages\\Historic_Crypto\\HistoricalData.py:176: FutureWarning: The frame.append method is deprecated and will be removed from pandas in a future version. Use pandas.concat instead.\n",
      "  data = data.append(dataset)\n"
     ]
    },
    {
     "name": "stdout",
     "output_type": "stream",
     "text": [
      "Provisional Start: 2022-11-07T00:00:00\n",
      "Provisional End: 2023-09-03T00:00:00\n",
      "Data for chunk 2 of 2 extracted\n",
      "Saved to C:\\Users\\Roman\\Desktop\\DMLS_project\\Crypto\\GAL-USDT_diff.csv\n",
      "RAD-USD\n",
      "Checking input parameters are in the correct format.\n",
      "Formatting Dates.\n",
      "Checking if user supplied is available on the CoinBase Pro API.\n",
      "Connected to the CoinBase Pro API.\n",
      "Ticker 'RAD-USD' found at the CoinBase Pro API, continuing to extraction.\n",
      "Provisional Start: 2022-01-11T00:00:00\n",
      "Provisional End: 2022-11-07T00:00:00\n",
      "Data for chunk 1 of 2 extracted\n"
     ]
    },
    {
     "name": "stderr",
     "output_type": "stream",
     "text": [
      "C:\\Users\\Roman\\AppData\\Local\\Packages\\PythonSoftwareFoundation.Python.3.10_qbz5n2kfra8p0\\LocalCache\\local-packages\\Python310\\site-packages\\Historic_Crypto\\HistoricalData.py:176: FutureWarning: The frame.append method is deprecated and will be removed from pandas in a future version. Use pandas.concat instead.\n",
      "  data = data.append(dataset)\n"
     ]
    },
    {
     "name": "stdout",
     "output_type": "stream",
     "text": [
      "Provisional Start: 2022-11-07T00:00:00\n",
      "Provisional End: 2023-09-03T00:00:00\n",
      "Data for chunk 2 of 2 extracted\n",
      "Saved to C:\\Users\\Roman\\Desktop\\DMLS_project\\Crypto\\RAD-USD_diff.csv\n",
      "NKN-EUR\n",
      "Checking input parameters are in the correct format.\n",
      "Formatting Dates.\n",
      "Checking if user supplied is available on the CoinBase Pro API.\n",
      "Connected to the CoinBase Pro API.\n",
      "Ticker 'NKN-EUR' found at the CoinBase Pro API, continuing to extraction.\n",
      "Provisional Start: 2022-01-11T00:00:00\n",
      "Provisional End: 2022-11-07T00:00:00\n",
      "Data for chunk 1 of 2 extracted\n",
      "Provisional Start: 2022-11-07T00:00:00\n",
      "Provisional End: 2023-09-03T00:00:00\n"
     ]
    },
    {
     "name": "stderr",
     "output_type": "stream",
     "text": [
      "C:\\Users\\Roman\\AppData\\Local\\Packages\\PythonSoftwareFoundation.Python.3.10_qbz5n2kfra8p0\\LocalCache\\local-packages\\Python310\\site-packages\\Historic_Crypto\\HistoricalData.py:176: FutureWarning: The frame.append method is deprecated and will be removed from pandas in a future version. Use pandas.concat instead.\n",
      "  data = data.append(dataset)\n"
     ]
    },
    {
     "name": "stdout",
     "output_type": "stream",
     "text": [
      "Data for chunk 2 of 2 extracted\n",
      "Saved to C:\\Users\\Roman\\Desktop\\DMLS_project\\Crypto\\NKN-EUR_diff.csv\n",
      "QI-USD\n",
      "Checking input parameters are in the correct format.\n",
      "Formatting Dates.\n",
      "Checking if user supplied is available on the CoinBase Pro API.\n",
      "Connected to the CoinBase Pro API.\n",
      "Ticker 'QI-USD' found at the CoinBase Pro API, continuing to extraction.\n",
      "Provisional Start: 2022-01-11T00:00:00\n",
      "Provisional End: 2022-11-07T00:00:00\n",
      "Data for chunk 1 of 2 extracted\n",
      "CoinBase Pro API did not have available data for 'QI-USD' beginning at 2022-01-11-00-00.  \n",
      "                        Trying a later date:'2022-01-11T00:00:00'\n",
      "Provisional Start: 2022-11-07T00:00:00\n",
      "Provisional End: 2023-09-03T00:00:00\n",
      "Data for chunk 2 of 2 extracted\n"
     ]
    },
    {
     "name": "stderr",
     "output_type": "stream",
     "text": [
      "C:\\Users\\Roman\\AppData\\Local\\Packages\\PythonSoftwareFoundation.Python.3.10_qbz5n2kfra8p0\\LocalCache\\local-packages\\Python310\\site-packages\\Historic_Crypto\\HistoricalData.py:176: FutureWarning: The frame.append method is deprecated and will be removed from pandas in a future version. Use pandas.concat instead.\n",
      "  data = data.append(dataset)\n"
     ]
    },
    {
     "name": "stdout",
     "output_type": "stream",
     "text": [
      "Saved to C:\\Users\\Roman\\Desktop\\DMLS_project\\Crypto\\QI-USD_diff.csv\n",
      "CLV-GBP\n",
      "Checking input parameters are in the correct format.\n",
      "Formatting Dates.\n",
      "Checking if user supplied is available on the CoinBase Pro API.\n",
      "Connected to the CoinBase Pro API.\n",
      "Ticker 'CLV-GBP' found at the CoinBase Pro API, continuing to extraction.\n",
      "Provisional Start: 2022-01-11T00:00:00\n",
      "Provisional End: 2022-11-07T00:00:00\n",
      "Data for chunk 1 of 2 extracted\n"
     ]
    },
    {
     "name": "stderr",
     "output_type": "stream",
     "text": [
      "C:\\Users\\Roman\\AppData\\Local\\Packages\\PythonSoftwareFoundation.Python.3.10_qbz5n2kfra8p0\\LocalCache\\local-packages\\Python310\\site-packages\\Historic_Crypto\\HistoricalData.py:176: FutureWarning: The frame.append method is deprecated and will be removed from pandas in a future version. Use pandas.concat instead.\n",
      "  data = data.append(dataset)\n"
     ]
    },
    {
     "name": "stdout",
     "output_type": "stream",
     "text": [
      "Provisional Start: 2022-11-07T00:00:00\n",
      "Provisional End: 2023-09-03T00:00:00\n",
      "Data for chunk 2 of 2 extracted\n",
      "Saved to C:\\Users\\Roman\\Desktop\\DMLS_project\\Crypto\\CLV-GBP_diff.csv\n",
      "ICP-EUR\n",
      "Checking input parameters are in the correct format.\n",
      "Formatting Dates.\n",
      "Checking if user supplied is available on the CoinBase Pro API.\n",
      "Connected to the CoinBase Pro API.\n",
      "Ticker 'ICP-EUR' found at the CoinBase Pro API, continuing to extraction.\n",
      "Provisional Start: 2022-01-11T00:00:00\n",
      "Provisional End: 2022-11-07T00:00:00\n",
      "Data for chunk 1 of 2 extracted\n"
     ]
    },
    {
     "name": "stderr",
     "output_type": "stream",
     "text": [
      "C:\\Users\\Roman\\AppData\\Local\\Packages\\PythonSoftwareFoundation.Python.3.10_qbz5n2kfra8p0\\LocalCache\\local-packages\\Python310\\site-packages\\Historic_Crypto\\HistoricalData.py:176: FutureWarning: The frame.append method is deprecated and will be removed from pandas in a future version. Use pandas.concat instead.\n",
      "  data = data.append(dataset)\n"
     ]
    },
    {
     "name": "stdout",
     "output_type": "stream",
     "text": [
      "Provisional Start: 2022-11-07T00:00:00\n",
      "Provisional End: 2023-09-03T00:00:00\n",
      "Data for chunk 2 of 2 extracted\n",
      "Saved to C:\\Users\\Roman\\Desktop\\DMLS_project\\Crypto\\ICP-EUR_diff.csv\n",
      "SKL-USD\n",
      "Checking input parameters are in the correct format.\n",
      "Formatting Dates.\n",
      "Checking if user supplied is available on the CoinBase Pro API.\n",
      "Connected to the CoinBase Pro API.\n",
      "Ticker 'SKL-USD' found at the CoinBase Pro API, continuing to extraction.\n",
      "Provisional Start: 2022-01-11T00:00:00\n",
      "Provisional End: 2022-11-07T00:00:00\n",
      "Data for chunk 1 of 2 extracted\n",
      "Provisional Start: 2022-11-07T00:00:00\n",
      "Provisional End: 2023-09-03T00:00:00\n"
     ]
    },
    {
     "name": "stderr",
     "output_type": "stream",
     "text": [
      "C:\\Users\\Roman\\AppData\\Local\\Packages\\PythonSoftwareFoundation.Python.3.10_qbz5n2kfra8p0\\LocalCache\\local-packages\\Python310\\site-packages\\Historic_Crypto\\HistoricalData.py:176: FutureWarning: The frame.append method is deprecated and will be removed from pandas in a future version. Use pandas.concat instead.\n",
      "  data = data.append(dataset)\n"
     ]
    },
    {
     "name": "stdout",
     "output_type": "stream",
     "text": [
      "Data for chunk 2 of 2 extracted\n",
      "Saved to C:\\Users\\Roman\\Desktop\\DMLS_project\\Crypto\\SKL-USD_diff.csv\n",
      "FIL-GBP\n",
      "Checking input parameters are in the correct format.\n",
      "Formatting Dates.\n",
      "Checking if user supplied is available on the CoinBase Pro API.\n",
      "Connected to the CoinBase Pro API.\n",
      "Ticker 'FIL-GBP' found at the CoinBase Pro API, continuing to extraction.\n",
      "Provisional Start: 2022-01-11T00:00:00\n",
      "Provisional End: 2022-11-07T00:00:00\n",
      "Data for chunk 1 of 2 extracted\n",
      "Provisional Start: 2022-11-07T00:00:00\n",
      "Provisional End: 2023-09-03T00:00:00\n"
     ]
    },
    {
     "name": "stderr",
     "output_type": "stream",
     "text": [
      "C:\\Users\\Roman\\AppData\\Local\\Packages\\PythonSoftwareFoundation.Python.3.10_qbz5n2kfra8p0\\LocalCache\\local-packages\\Python310\\site-packages\\Historic_Crypto\\HistoricalData.py:176: FutureWarning: The frame.append method is deprecated and will be removed from pandas in a future version. Use pandas.concat instead.\n",
      "  data = data.append(dataset)\n"
     ]
    },
    {
     "name": "stdout",
     "output_type": "stream",
     "text": [
      "Data for chunk 2 of 2 extracted\n",
      "Saved to C:\\Users\\Roman\\Desktop\\DMLS_project\\Crypto\\FIL-GBP_diff.csv\n",
      "DAR-USD\n",
      "Checking input parameters are in the correct format.\n",
      "Formatting Dates.\n",
      "Checking if user supplied is available on the CoinBase Pro API.\n",
      "Connected to the CoinBase Pro API.\n",
      "Ticker 'DAR-USD' found at the CoinBase Pro API, continuing to extraction.\n",
      "Provisional Start: 2022-01-11T00:00:00\n",
      "Provisional End: 2022-11-07T00:00:00\n",
      "Data for chunk 1 of 2 extracted\n",
      "Provisional Start: 2022-11-07T00:00:00\n",
      "Provisional End: 2023-09-03T00:00:00\n"
     ]
    },
    {
     "name": "stderr",
     "output_type": "stream",
     "text": [
      "C:\\Users\\Roman\\AppData\\Local\\Packages\\PythonSoftwareFoundation.Python.3.10_qbz5n2kfra8p0\\LocalCache\\local-packages\\Python310\\site-packages\\Historic_Crypto\\HistoricalData.py:176: FutureWarning: The frame.append method is deprecated and will be removed from pandas in a future version. Use pandas.concat instead.\n",
      "  data = data.append(dataset)\n"
     ]
    },
    {
     "name": "stdout",
     "output_type": "stream",
     "text": [
      "Data for chunk 2 of 2 extracted\n",
      "Saved to C:\\Users\\Roman\\Desktop\\DMLS_project\\Crypto\\DAR-USD_diff.csv\n",
      "BAND-BTC\n",
      "Checking input parameters are in the correct format.\n",
      "Formatting Dates.\n",
      "Checking if user supplied is available on the CoinBase Pro API.\n",
      "Connected to the CoinBase Pro API.\n",
      "Ticker 'BAND-BTC' found at the CoinBase Pro API, continuing to extraction.\n",
      "Provisional Start: 2022-01-11T00:00:00\n",
      "Provisional End: 2022-11-07T00:00:00\n",
      "Data for chunk 1 of 2 extracted\n",
      "Provisional Start: 2022-11-07T00:00:00\n",
      "Provisional End: 2023-09-03T00:00:00\n"
     ]
    },
    {
     "name": "stderr",
     "output_type": "stream",
     "text": [
      "C:\\Users\\Roman\\AppData\\Local\\Packages\\PythonSoftwareFoundation.Python.3.10_qbz5n2kfra8p0\\LocalCache\\local-packages\\Python310\\site-packages\\Historic_Crypto\\HistoricalData.py:176: FutureWarning: The frame.append method is deprecated and will be removed from pandas in a future version. Use pandas.concat instead.\n",
      "  data = data.append(dataset)\n"
     ]
    },
    {
     "name": "stdout",
     "output_type": "stream",
     "text": [
      "Data for chunk 2 of 2 extracted\n",
      "Saved to C:\\Users\\Roman\\Desktop\\DMLS_project\\Crypto\\BAND-BTC_diff.csv\n",
      "SUSHI-USD\n",
      "Checking input parameters are in the correct format.\n",
      "Formatting Dates.\n",
      "Checking if user supplied is available on the CoinBase Pro API.\n",
      "Connected to the CoinBase Pro API.\n",
      "Ticker 'SUSHI-USD' found at the CoinBase Pro API, continuing to extraction.\n",
      "Provisional Start: 2022-01-11T00:00:00\n",
      "Provisional End: 2022-11-07T00:00:00\n",
      "Data for chunk 1 of 2 extracted\n"
     ]
    },
    {
     "name": "stderr",
     "output_type": "stream",
     "text": [
      "C:\\Users\\Roman\\AppData\\Local\\Packages\\PythonSoftwareFoundation.Python.3.10_qbz5n2kfra8p0\\LocalCache\\local-packages\\Python310\\site-packages\\Historic_Crypto\\HistoricalData.py:176: FutureWarning: The frame.append method is deprecated and will be removed from pandas in a future version. Use pandas.concat instead.\n",
      "  data = data.append(dataset)\n"
     ]
    },
    {
     "name": "stdout",
     "output_type": "stream",
     "text": [
      "Provisional Start: 2022-11-07T00:00:00\n",
      "Provisional End: 2023-09-03T00:00:00\n",
      "Data for chunk 2 of 2 extracted\n",
      "Saved to C:\\Users\\Roman\\Desktop\\DMLS_project\\Crypto\\SUSHI-USD_diff.csv\n",
      "REQ-EUR\n",
      "Checking input parameters are in the correct format.\n",
      "Formatting Dates.\n",
      "Checking if user supplied is available on the CoinBase Pro API.\n",
      "Connected to the CoinBase Pro API.\n",
      "Ticker 'REQ-EUR' found at the CoinBase Pro API, continuing to extraction.\n",
      "Provisional Start: 2022-01-11T00:00:00\n",
      "Provisional End: 2022-11-07T00:00:00\n",
      "Data for chunk 1 of 2 extracted\n"
     ]
    },
    {
     "name": "stderr",
     "output_type": "stream",
     "text": [
      "C:\\Users\\Roman\\AppData\\Local\\Packages\\PythonSoftwareFoundation.Python.3.10_qbz5n2kfra8p0\\LocalCache\\local-packages\\Python310\\site-packages\\Historic_Crypto\\HistoricalData.py:176: FutureWarning: The frame.append method is deprecated and will be removed from pandas in a future version. Use pandas.concat instead.\n",
      "  data = data.append(dataset)\n"
     ]
    },
    {
     "name": "stdout",
     "output_type": "stream",
     "text": [
      "Provisional Start: 2022-11-07T00:00:00\n",
      "Provisional End: 2023-09-03T00:00:00\n",
      "Data for chunk 2 of 2 extracted\n",
      "Saved to C:\\Users\\Roman\\Desktop\\DMLS_project\\Crypto\\REQ-EUR_diff.csv\n",
      "GFI-USD\n",
      "Checking input parameters are in the correct format.\n",
      "Formatting Dates.\n",
      "Checking if user supplied is available on the CoinBase Pro API.\n",
      "Connected to the CoinBase Pro API.\n",
      "Ticker 'GFI-USD' found at the CoinBase Pro API, continuing to extraction.\n",
      "Provisional Start: 2022-01-11T00:00:00\n",
      "Provisional End: 2022-11-07T00:00:00\n",
      "Data for chunk 1 of 2 extracted\n"
     ]
    },
    {
     "name": "stderr",
     "output_type": "stream",
     "text": [
      "C:\\Users\\Roman\\AppData\\Local\\Packages\\PythonSoftwareFoundation.Python.3.10_qbz5n2kfra8p0\\LocalCache\\local-packages\\Python310\\site-packages\\Historic_Crypto\\HistoricalData.py:176: FutureWarning: The frame.append method is deprecated and will be removed from pandas in a future version. Use pandas.concat instead.\n",
      "  data = data.append(dataset)\n"
     ]
    },
    {
     "name": "stdout",
     "output_type": "stream",
     "text": [
      "Provisional Start: 2022-11-07T00:00:00\n",
      "Provisional End: 2023-09-03T00:00:00\n",
      "Data for chunk 2 of 2 extracted\n",
      "Saved to C:\\Users\\Roman\\Desktop\\DMLS_project\\Crypto\\GFI-USD_diff.csv\n",
      "LPT-USD\n",
      "Checking input parameters are in the correct format.\n",
      "Formatting Dates.\n",
      "Checking if user supplied is available on the CoinBase Pro API.\n",
      "Connected to the CoinBase Pro API.\n",
      "Ticker 'LPT-USD' found at the CoinBase Pro API, continuing to extraction.\n",
      "Provisional Start: 2022-01-11T00:00:00\n",
      "Provisional End: 2022-11-07T00:00:00\n",
      "Data for chunk 1 of 2 extracted\n"
     ]
    },
    {
     "name": "stderr",
     "output_type": "stream",
     "text": [
      "C:\\Users\\Roman\\AppData\\Local\\Packages\\PythonSoftwareFoundation.Python.3.10_qbz5n2kfra8p0\\LocalCache\\local-packages\\Python310\\site-packages\\Historic_Crypto\\HistoricalData.py:176: FutureWarning: The frame.append method is deprecated and will be removed from pandas in a future version. Use pandas.concat instead.\n",
      "  data = data.append(dataset)\n"
     ]
    },
    {
     "name": "stdout",
     "output_type": "stream",
     "text": [
      "Provisional Start: 2022-11-07T00:00:00\n",
      "Provisional End: 2023-09-03T00:00:00\n",
      "Data for chunk 2 of 2 extracted\n",
      "Saved to C:\\Users\\Roman\\Desktop\\DMLS_project\\Crypto\\LPT-USD_diff.csv\n",
      "TRU-EUR\n",
      "Checking input parameters are in the correct format.\n",
      "Formatting Dates.\n",
      "Checking if user supplied is available on the CoinBase Pro API.\n",
      "Connected to the CoinBase Pro API.\n",
      "Ticker 'TRU-EUR' found at the CoinBase Pro API, continuing to extraction.\n",
      "Provisional Start: 2022-01-11T00:00:00\n",
      "Provisional End: 2022-11-07T00:00:00\n",
      "Data for chunk 1 of 2 extracted\n",
      "Provisional Start: 2022-11-07T00:00:00\n",
      "Provisional End: 2023-09-03T00:00:00\n"
     ]
    },
    {
     "name": "stderr",
     "output_type": "stream",
     "text": [
      "C:\\Users\\Roman\\AppData\\Local\\Packages\\PythonSoftwareFoundation.Python.3.10_qbz5n2kfra8p0\\LocalCache\\local-packages\\Python310\\site-packages\\Historic_Crypto\\HistoricalData.py:176: FutureWarning: The frame.append method is deprecated and will be removed from pandas in a future version. Use pandas.concat instead.\n",
      "  data = data.append(dataset)\n"
     ]
    },
    {
     "name": "stdout",
     "output_type": "stream",
     "text": [
      "Data for chunk 2 of 2 extracted\n",
      "Saved to C:\\Users\\Roman\\Desktop\\DMLS_project\\Crypto\\TRU-EUR_diff.csv\n",
      "FX-USD\n",
      "Checking input parameters are in the correct format.\n",
      "Formatting Dates.\n",
      "Checking if user supplied is available on the CoinBase Pro API.\n",
      "Connected to the CoinBase Pro API.\n",
      "Ticker 'FX-USD' found at the CoinBase Pro API, continuing to extraction.\n",
      "Provisional Start: 2022-01-11T00:00:00\n",
      "Provisional End: 2022-11-07T00:00:00\n",
      "Data for chunk 1 of 2 extracted\n",
      "Provisional Start: 2022-11-07T00:00:00\n",
      "Provisional End: 2023-09-03T00:00:00\n"
     ]
    },
    {
     "name": "stderr",
     "output_type": "stream",
     "text": [
      "C:\\Users\\Roman\\AppData\\Local\\Packages\\PythonSoftwareFoundation.Python.3.10_qbz5n2kfra8p0\\LocalCache\\local-packages\\Python310\\site-packages\\Historic_Crypto\\HistoricalData.py:176: FutureWarning: The frame.append method is deprecated and will be removed from pandas in a future version. Use pandas.concat instead.\n",
      "  data = data.append(dataset)\n"
     ]
    },
    {
     "name": "stdout",
     "output_type": "stream",
     "text": [
      "Data for chunk 2 of 2 extracted\n",
      "Saved to C:\\Users\\Roman\\Desktop\\DMLS_project\\Crypto\\FX-USD_diff.csv\n",
      "MIR-GBP\n",
      "Checking input parameters are in the correct format.\n",
      "Formatting Dates.\n",
      "Checking if user supplied is available on the CoinBase Pro API.\n",
      "Connected to the CoinBase Pro API.\n",
      "Ticker 'MIR-GBP' found at the CoinBase Pro API, continuing to extraction.\n",
      "Provisional Start: 2022-01-11T00:00:00\n",
      "Provisional End: 2022-11-07T00:00:00\n",
      "Data for chunk 1 of 2 extracted\n"
     ]
    },
    {
     "name": "stderr",
     "output_type": "stream",
     "text": [
      "C:\\Users\\Roman\\AppData\\Local\\Packages\\PythonSoftwareFoundation.Python.3.10_qbz5n2kfra8p0\\LocalCache\\local-packages\\Python310\\site-packages\\Historic_Crypto\\HistoricalData.py:176: FutureWarning: The frame.append method is deprecated and will be removed from pandas in a future version. Use pandas.concat instead.\n",
      "  data = data.append(dataset)\n"
     ]
    },
    {
     "name": "stdout",
     "output_type": "stream",
     "text": [
      "Provisional Start: 2022-11-07T00:00:00\n",
      "Provisional End: 2023-09-03T00:00:00\n",
      "Data for chunk 2 of 2 extracted\n",
      "Saved to C:\\Users\\Roman\\Desktop\\DMLS_project\\Crypto\\MIR-GBP_diff.csv\n",
      "OMG-GBP\n",
      "Checking input parameters are in the correct format.\n",
      "Formatting Dates.\n",
      "Checking if user supplied is available on the CoinBase Pro API.\n",
      "Connected to the CoinBase Pro API.\n",
      "Ticker 'OMG-GBP' found at the CoinBase Pro API, continuing to extraction.\n",
      "Provisional Start: 2022-01-11T00:00:00\n",
      "Provisional End: 2022-11-07T00:00:00\n",
      "Data for chunk 1 of 2 extracted\n",
      "Provisional Start: 2022-11-07T00:00:00\n",
      "Provisional End: 2023-09-03T00:00:00\n"
     ]
    },
    {
     "name": "stderr",
     "output_type": "stream",
     "text": [
      "C:\\Users\\Roman\\AppData\\Local\\Packages\\PythonSoftwareFoundation.Python.3.10_qbz5n2kfra8p0\\LocalCache\\local-packages\\Python310\\site-packages\\Historic_Crypto\\HistoricalData.py:176: FutureWarning: The frame.append method is deprecated and will be removed from pandas in a future version. Use pandas.concat instead.\n",
      "  data = data.append(dataset)\n"
     ]
    },
    {
     "name": "stdout",
     "output_type": "stream",
     "text": [
      "Data for chunk 2 of 2 extracted\n",
      "Saved to C:\\Users\\Roman\\Desktop\\DMLS_project\\Crypto\\OMG-GBP_diff.csv\n",
      "GRT-EUR\n",
      "Checking input parameters are in the correct format.\n",
      "Formatting Dates.\n",
      "Checking if user supplied is available on the CoinBase Pro API.\n",
      "Connected to the CoinBase Pro API.\n",
      "Ticker 'GRT-EUR' found at the CoinBase Pro API, continuing to extraction.\n",
      "Provisional Start: 2022-01-11T00:00:00\n",
      "Provisional End: 2022-11-07T00:00:00\n",
      "Data for chunk 1 of 2 extracted\n"
     ]
    },
    {
     "name": "stderr",
     "output_type": "stream",
     "text": [
      "C:\\Users\\Roman\\AppData\\Local\\Packages\\PythonSoftwareFoundation.Python.3.10_qbz5n2kfra8p0\\LocalCache\\local-packages\\Python310\\site-packages\\Historic_Crypto\\HistoricalData.py:176: FutureWarning: The frame.append method is deprecated and will be removed from pandas in a future version. Use pandas.concat instead.\n",
      "  data = data.append(dataset)\n"
     ]
    },
    {
     "name": "stdout",
     "output_type": "stream",
     "text": [
      "Provisional Start: 2022-11-07T00:00:00\n",
      "Provisional End: 2023-09-03T00:00:00\n",
      "Data for chunk 2 of 2 extracted\n",
      "Saved to C:\\Users\\Roman\\Desktop\\DMLS_project\\Crypto\\GRT-EUR_diff.csv\n",
      "SUPER-USDT\n",
      "Checking input parameters are in the correct format.\n",
      "Formatting Dates.\n",
      "Checking if user supplied is available on the CoinBase Pro API.\n",
      "Connected to the CoinBase Pro API.\n",
      "Ticker 'SUPER-USDT' found at the CoinBase Pro API, continuing to extraction.\n",
      "Provisional Start: 2022-01-11T00:00:00\n",
      "Provisional End: 2022-11-07T00:00:00\n",
      "Data for chunk 1 of 2 extracted\n"
     ]
    },
    {
     "name": "stderr",
     "output_type": "stream",
     "text": [
      "C:\\Users\\Roman\\AppData\\Local\\Packages\\PythonSoftwareFoundation.Python.3.10_qbz5n2kfra8p0\\LocalCache\\local-packages\\Python310\\site-packages\\Historic_Crypto\\HistoricalData.py:176: FutureWarning: The frame.append method is deprecated and will be removed from pandas in a future version. Use pandas.concat instead.\n",
      "  data = data.append(dataset)\n"
     ]
    },
    {
     "name": "stdout",
     "output_type": "stream",
     "text": [
      "Provisional Start: 2022-11-07T00:00:00\n",
      "Provisional End: 2023-09-03T00:00:00\n",
      "Data for chunk 2 of 2 extracted\n",
      "Saved to C:\\Users\\Roman\\Desktop\\DMLS_project\\Crypto\\SUPER-USDT_diff.csv\n",
      "DOGE-USD\n",
      "Checking input parameters are in the correct format.\n",
      "Formatting Dates.\n",
      "Checking if user supplied is available on the CoinBase Pro API.\n",
      "Connected to the CoinBase Pro API.\n",
      "Ticker 'DOGE-USD' found at the CoinBase Pro API, continuing to extraction.\n",
      "Provisional Start: 2022-01-11T00:00:00\n",
      "Provisional End: 2022-11-07T00:00:00\n",
      "Data for chunk 1 of 2 extracted\n"
     ]
    },
    {
     "name": "stderr",
     "output_type": "stream",
     "text": [
      "C:\\Users\\Roman\\AppData\\Local\\Packages\\PythonSoftwareFoundation.Python.3.10_qbz5n2kfra8p0\\LocalCache\\local-packages\\Python310\\site-packages\\Historic_Crypto\\HistoricalData.py:176: FutureWarning: The frame.append method is deprecated and will be removed from pandas in a future version. Use pandas.concat instead.\n",
      "  data = data.append(dataset)\n"
     ]
    },
    {
     "name": "stdout",
     "output_type": "stream",
     "text": [
      "Provisional Start: 2022-11-07T00:00:00\n",
      "Provisional End: 2023-09-03T00:00:00\n",
      "Data for chunk 2 of 2 extracted\n",
      "Saved to C:\\Users\\Roman\\Desktop\\DMLS_project\\Crypto\\DOGE-USD_diff.csv\n",
      "SPELL-USDT\n",
      "Checking input parameters are in the correct format.\n",
      "Formatting Dates.\n",
      "Checking if user supplied is available on the CoinBase Pro API.\n",
      "Connected to the CoinBase Pro API.\n",
      "Ticker 'SPELL-USDT' found at the CoinBase Pro API, continuing to extraction.\n",
      "Provisional Start: 2022-01-11T00:00:00\n",
      "Provisional End: 2022-11-07T00:00:00\n",
      "Data for chunk 1 of 2 extracted\n"
     ]
    },
    {
     "name": "stderr",
     "output_type": "stream",
     "text": [
      "C:\\Users\\Roman\\AppData\\Local\\Packages\\PythonSoftwareFoundation.Python.3.10_qbz5n2kfra8p0\\LocalCache\\local-packages\\Python310\\site-packages\\Historic_Crypto\\HistoricalData.py:176: FutureWarning: The frame.append method is deprecated and will be removed from pandas in a future version. Use pandas.concat instead.\n",
      "  data = data.append(dataset)\n"
     ]
    },
    {
     "name": "stdout",
     "output_type": "stream",
     "text": [
      "Provisional Start: 2022-11-07T00:00:00\n",
      "Provisional End: 2023-09-03T00:00:00\n",
      "Data for chunk 2 of 2 extracted\n",
      "Saved to C:\\Users\\Roman\\Desktop\\DMLS_project\\Crypto\\SPELL-USDT_diff.csv\n",
      "BTC-USDC\n",
      "Checking input parameters are in the correct format.\n",
      "Formatting Dates.\n",
      "Checking if user supplied is available on the CoinBase Pro API.\n",
      "Connected to the CoinBase Pro API.\n",
      "Ticker 'BTC-USDC' found at the CoinBase Pro API, continuing to extraction.\n",
      "Provisional Start: 2022-01-11T00:00:00\n",
      "Provisional End: 2022-11-07T00:00:00\n",
      "Data for chunk 1 of 2 extracted\n"
     ]
    },
    {
     "name": "stderr",
     "output_type": "stream",
     "text": [
      "C:\\Users\\Roman\\AppData\\Local\\Packages\\PythonSoftwareFoundation.Python.3.10_qbz5n2kfra8p0\\LocalCache\\local-packages\\Python310\\site-packages\\Historic_Crypto\\HistoricalData.py:176: FutureWarning: The frame.append method is deprecated and will be removed from pandas in a future version. Use pandas.concat instead.\n",
      "  data = data.append(dataset)\n"
     ]
    },
    {
     "name": "stdout",
     "output_type": "stream",
     "text": [
      "Provisional Start: 2022-11-07T00:00:00\n",
      "Provisional End: 2023-09-03T00:00:00\n",
      "Data for chunk 2 of 2 extracted\n",
      "CoinBase Pro API did not have available data for 'BTC-USDC' beginning at 2022-01-11-00-00.  \n",
      "                        Trying a later date:'2022-11-07T00:00:00'\n",
      "Saved to C:\\Users\\Roman\\Desktop\\DMLS_project\\Crypto\\BTC-USDC_diff.csv\n",
      "AIOZ-USDT\n",
      "Checking input parameters are in the correct format.\n",
      "Formatting Dates.\n",
      "Checking if user supplied is available on the CoinBase Pro API.\n",
      "Connected to the CoinBase Pro API.\n",
      "Ticker 'AIOZ-USDT' found at the CoinBase Pro API, continuing to extraction.\n",
      "Provisional Start: 2022-01-11T00:00:00\n",
      "Provisional End: 2022-11-07T00:00:00\n",
      "Data for chunk 1 of 2 extracted\n"
     ]
    },
    {
     "name": "stderr",
     "output_type": "stream",
     "text": [
      "C:\\Users\\Roman\\AppData\\Local\\Packages\\PythonSoftwareFoundation.Python.3.10_qbz5n2kfra8p0\\LocalCache\\local-packages\\Python310\\site-packages\\Historic_Crypto\\HistoricalData.py:176: FutureWarning: The frame.append method is deprecated and will be removed from pandas in a future version. Use pandas.concat instead.\n",
      "  data = data.append(dataset)\n"
     ]
    },
    {
     "name": "stdout",
     "output_type": "stream",
     "text": [
      "Provisional Start: 2022-11-07T00:00:00\n",
      "Provisional End: 2023-09-03T00:00:00\n",
      "Data for chunk 2 of 2 extracted\n",
      "Saved to C:\\Users\\Roman\\Desktop\\DMLS_project\\Crypto\\AIOZ-USDT_diff.csv\n",
      "AVAX-USDT\n",
      "Checking input parameters are in the correct format.\n",
      "Formatting Dates.\n",
      "Checking if user supplied is available on the CoinBase Pro API.\n",
      "Connected to the CoinBase Pro API.\n",
      "Ticker 'AVAX-USDT' found at the CoinBase Pro API, continuing to extraction.\n",
      "Provisional Start: 2022-01-11T00:00:00\n",
      "Provisional End: 2022-11-07T00:00:00\n",
      "Data for chunk 1 of 2 extracted\n"
     ]
    },
    {
     "name": "stderr",
     "output_type": "stream",
     "text": [
      "C:\\Users\\Roman\\AppData\\Local\\Packages\\PythonSoftwareFoundation.Python.3.10_qbz5n2kfra8p0\\LocalCache\\local-packages\\Python310\\site-packages\\Historic_Crypto\\HistoricalData.py:176: FutureWarning: The frame.append method is deprecated and will be removed from pandas in a future version. Use pandas.concat instead.\n",
      "  data = data.append(dataset)\n"
     ]
    },
    {
     "name": "stdout",
     "output_type": "stream",
     "text": [
      "Provisional Start: 2022-11-07T00:00:00\n",
      "Provisional End: 2023-09-03T00:00:00\n",
      "Data for chunk 2 of 2 extracted\n",
      "Saved to C:\\Users\\Roman\\Desktop\\DMLS_project\\Crypto\\AVAX-USDT_diff.csv\n",
      "CHZ-USD\n",
      "Checking input parameters are in the correct format.\n",
      "Formatting Dates.\n",
      "Checking if user supplied is available on the CoinBase Pro API.\n",
      "Connected to the CoinBase Pro API.\n",
      "Ticker 'CHZ-USD' found at the CoinBase Pro API, continuing to extraction.\n",
      "Provisional Start: 2022-01-11T00:00:00\n",
      "Provisional End: 2022-11-07T00:00:00\n",
      "Data for chunk 1 of 2 extracted\n"
     ]
    },
    {
     "name": "stderr",
     "output_type": "stream",
     "text": [
      "C:\\Users\\Roman\\AppData\\Local\\Packages\\PythonSoftwareFoundation.Python.3.10_qbz5n2kfra8p0\\LocalCache\\local-packages\\Python310\\site-packages\\Historic_Crypto\\HistoricalData.py:176: FutureWarning: The frame.append method is deprecated and will be removed from pandas in a future version. Use pandas.concat instead.\n",
      "  data = data.append(dataset)\n"
     ]
    },
    {
     "name": "stdout",
     "output_type": "stream",
     "text": [
      "Provisional Start: 2022-11-07T00:00:00\n",
      "Provisional End: 2023-09-03T00:00:00\n",
      "Data for chunk 2 of 2 extracted\n",
      "Saved to C:\\Users\\Roman\\Desktop\\DMLS_project\\Crypto\\CHZ-USD_diff.csv\n",
      "BAT-USDC\n",
      "Checking input parameters are in the correct format.\n",
      "Formatting Dates.\n",
      "Checking if user supplied is available on the CoinBase Pro API.\n",
      "Connected to the CoinBase Pro API.\n",
      "Ticker 'BAT-USDC' found at the CoinBase Pro API, continuing to extraction.\n",
      "Provisional Start: 2022-01-11T00:00:00\n",
      "Provisional End: 2022-11-07T00:00:00\n",
      "Data for chunk 1 of 2 extracted\n"
     ]
    },
    {
     "name": "stderr",
     "output_type": "stream",
     "text": [
      "C:\\Users\\Roman\\AppData\\Local\\Packages\\PythonSoftwareFoundation.Python.3.10_qbz5n2kfra8p0\\LocalCache\\local-packages\\Python310\\site-packages\\Historic_Crypto\\HistoricalData.py:176: FutureWarning: The frame.append method is deprecated and will be removed from pandas in a future version. Use pandas.concat instead.\n",
      "  data = data.append(dataset)\n"
     ]
    },
    {
     "name": "stdout",
     "output_type": "stream",
     "text": [
      "Provisional Start: 2022-11-07T00:00:00\n",
      "Provisional End: 2023-09-03T00:00:00\n",
      "Data for chunk 2 of 2 extracted\n",
      "CoinBase Pro API did not have available data for 'BAT-USDC' beginning at 2022-01-11-00-00.  \n",
      "                        Trying a later date:'2022-11-07T00:00:00'\n",
      "Saved to C:\\Users\\Roman\\Desktop\\DMLS_project\\Crypto\\BAT-USDC_diff.csv\n",
      "NMR-USD\n",
      "Checking input parameters are in the correct format.\n",
      "Formatting Dates.\n",
      "Checking if user supplied is available on the CoinBase Pro API.\n",
      "Connected to the CoinBase Pro API.\n",
      "Ticker 'NMR-USD' found at the CoinBase Pro API, continuing to extraction.\n",
      "Provisional Start: 2022-01-11T00:00:00\n",
      "Provisional End: 2022-11-07T00:00:00\n",
      "Data for chunk 1 of 2 extracted\n"
     ]
    },
    {
     "name": "stderr",
     "output_type": "stream",
     "text": [
      "C:\\Users\\Roman\\AppData\\Local\\Packages\\PythonSoftwareFoundation.Python.3.10_qbz5n2kfra8p0\\LocalCache\\local-packages\\Python310\\site-packages\\Historic_Crypto\\HistoricalData.py:176: FutureWarning: The frame.append method is deprecated and will be removed from pandas in a future version. Use pandas.concat instead.\n",
      "  data = data.append(dataset)\n"
     ]
    },
    {
     "name": "stdout",
     "output_type": "stream",
     "text": [
      "Provisional Start: 2022-11-07T00:00:00\n",
      "Provisional End: 2023-09-03T00:00:00\n",
      "Data for chunk 2 of 2 extracted\n",
      "Saved to C:\\Users\\Roman\\Desktop\\DMLS_project\\Crypto\\NMR-USD_diff.csv\n",
      "LCX-USDT\n",
      "Checking input parameters are in the correct format.\n",
      "Formatting Dates.\n",
      "Checking if user supplied is available on the CoinBase Pro API.\n",
      "Connected to the CoinBase Pro API.\n",
      "Ticker 'LCX-USDT' found at the CoinBase Pro API, continuing to extraction.\n",
      "Provisional Start: 2022-01-11T00:00:00\n",
      "Provisional End: 2022-11-07T00:00:00\n",
      "Data for chunk 1 of 2 extracted\n"
     ]
    },
    {
     "name": "stderr",
     "output_type": "stream",
     "text": [
      "C:\\Users\\Roman\\AppData\\Local\\Packages\\PythonSoftwareFoundation.Python.3.10_qbz5n2kfra8p0\\LocalCache\\local-packages\\Python310\\site-packages\\Historic_Crypto\\HistoricalData.py:176: FutureWarning: The frame.append method is deprecated and will be removed from pandas in a future version. Use pandas.concat instead.\n",
      "  data = data.append(dataset)\n"
     ]
    },
    {
     "name": "stdout",
     "output_type": "stream",
     "text": [
      "Provisional Start: 2022-11-07T00:00:00\n",
      "Provisional End: 2023-09-03T00:00:00\n",
      "Data for chunk 2 of 2 extracted\n",
      "Saved to C:\\Users\\Roman\\Desktop\\DMLS_project\\Crypto\\LCX-USDT_diff.csv\n",
      "BTC-EUR\n",
      "Checking input parameters are in the correct format.\n",
      "Formatting Dates.\n",
      "Checking if user supplied is available on the CoinBase Pro API.\n",
      "Connected to the CoinBase Pro API.\n",
      "Ticker 'BTC-EUR' found at the CoinBase Pro API, continuing to extraction.\n",
      "Provisional Start: 2022-01-11T00:00:00\n",
      "Provisional End: 2022-11-07T00:00:00\n",
      "Data for chunk 1 of 2 extracted\n"
     ]
    },
    {
     "name": "stderr",
     "output_type": "stream",
     "text": [
      "C:\\Users\\Roman\\AppData\\Local\\Packages\\PythonSoftwareFoundation.Python.3.10_qbz5n2kfra8p0\\LocalCache\\local-packages\\Python310\\site-packages\\Historic_Crypto\\HistoricalData.py:176: FutureWarning: The frame.append method is deprecated and will be removed from pandas in a future version. Use pandas.concat instead.\n",
      "  data = data.append(dataset)\n"
     ]
    },
    {
     "name": "stdout",
     "output_type": "stream",
     "text": [
      "Provisional Start: 2022-11-07T00:00:00\n",
      "Provisional End: 2023-09-03T00:00:00\n",
      "Data for chunk 2 of 2 extracted\n",
      "Saved to C:\\Users\\Roman\\Desktop\\DMLS_project\\Crypto\\BTC-EUR_diff.csv\n",
      "PAX-USDT\n",
      "Checking input parameters are in the correct format.\n",
      "Formatting Dates.\n",
      "Checking if user supplied is available on the CoinBase Pro API.\n",
      "Connected to the CoinBase Pro API.\n",
      "Ticker 'PAX-USDT' found at the CoinBase Pro API, continuing to extraction.\n",
      "Provisional Start: 2022-01-11T00:00:00\n",
      "Provisional End: 2022-11-07T00:00:00\n",
      "Data for chunk 1 of 2 extracted\n"
     ]
    },
    {
     "name": "stderr",
     "output_type": "stream",
     "text": [
      "C:\\Users\\Roman\\AppData\\Local\\Packages\\PythonSoftwareFoundation.Python.3.10_qbz5n2kfra8p0\\LocalCache\\local-packages\\Python310\\site-packages\\Historic_Crypto\\HistoricalData.py:176: FutureWarning: The frame.append method is deprecated and will be removed from pandas in a future version. Use pandas.concat instead.\n",
      "  data = data.append(dataset)\n"
     ]
    },
    {
     "name": "stdout",
     "output_type": "stream",
     "text": [
      "Provisional Start: 2022-11-07T00:00:00\n",
      "Provisional End: 2023-09-03T00:00:00\n",
      "Data for chunk 2 of 2 extracted\n",
      "Saved to C:\\Users\\Roman\\Desktop\\DMLS_project\\Crypto\\PAX-USDT_diff.csv\n",
      "AURORA-USD\n",
      "Checking input parameters are in the correct format.\n",
      "Formatting Dates.\n",
      "Checking if user supplied is available on the CoinBase Pro API.\n",
      "Connected to the CoinBase Pro API.\n",
      "Ticker 'AURORA-USD' found at the CoinBase Pro API, continuing to extraction.\n",
      "Provisional Start: 2022-01-11T00:00:00\n",
      "Provisional End: 2022-11-07T00:00:00\n",
      "Data for chunk 1 of 2 extracted\n"
     ]
    },
    {
     "name": "stderr",
     "output_type": "stream",
     "text": [
      "C:\\Users\\Roman\\AppData\\Local\\Packages\\PythonSoftwareFoundation.Python.3.10_qbz5n2kfra8p0\\LocalCache\\local-packages\\Python310\\site-packages\\Historic_Crypto\\HistoricalData.py:176: FutureWarning: The frame.append method is deprecated and will be removed from pandas in a future version. Use pandas.concat instead.\n",
      "  data = data.append(dataset)\n"
     ]
    },
    {
     "name": "stdout",
     "output_type": "stream",
     "text": [
      "Provisional Start: 2022-11-07T00:00:00\n",
      "Provisional End: 2023-09-03T00:00:00\n",
      "Data for chunk 2 of 2 extracted\n",
      "Saved to C:\\Users\\Roman\\Desktop\\DMLS_project\\Crypto\\AURORA-USD_diff.csv\n",
      "SOL-ETH\n",
      "Checking input parameters are in the correct format.\n",
      "Formatting Dates.\n",
      "Checking if user supplied is available on the CoinBase Pro API.\n",
      "Connected to the CoinBase Pro API.\n",
      "Ticker 'SOL-ETH' found at the CoinBase Pro API, continuing to extraction.\n",
      "Provisional Start: 2022-01-11T00:00:00\n",
      "Provisional End: 2022-11-07T00:00:00\n",
      "Data for chunk 1 of 2 extracted\n"
     ]
    },
    {
     "name": "stderr",
     "output_type": "stream",
     "text": [
      "C:\\Users\\Roman\\AppData\\Local\\Packages\\PythonSoftwareFoundation.Python.3.10_qbz5n2kfra8p0\\LocalCache\\local-packages\\Python310\\site-packages\\Historic_Crypto\\HistoricalData.py:176: FutureWarning: The frame.append method is deprecated and will be removed from pandas in a future version. Use pandas.concat instead.\n",
      "  data = data.append(dataset)\n"
     ]
    },
    {
     "name": "stdout",
     "output_type": "stream",
     "text": [
      "Provisional Start: 2022-11-07T00:00:00\n",
      "Provisional End: 2023-09-03T00:00:00\n",
      "Data for chunk 2 of 2 extracted\n",
      "Saved to C:\\Users\\Roman\\Desktop\\DMLS_project\\Crypto\\SOL-ETH_diff.csv\n",
      "ARPA-USDT\n",
      "Checking input parameters are in the correct format.\n",
      "Formatting Dates.\n",
      "Checking if user supplied is available on the CoinBase Pro API.\n",
      "Connected to the CoinBase Pro API.\n",
      "Ticker 'ARPA-USDT' found at the CoinBase Pro API, continuing to extraction.\n",
      "Provisional Start: 2022-01-11T00:00:00\n",
      "Provisional End: 2022-11-07T00:00:00\n",
      "Data for chunk 1 of 2 extracted\n"
     ]
    },
    {
     "name": "stderr",
     "output_type": "stream",
     "text": [
      "C:\\Users\\Roman\\AppData\\Local\\Packages\\PythonSoftwareFoundation.Python.3.10_qbz5n2kfra8p0\\LocalCache\\local-packages\\Python310\\site-packages\\Historic_Crypto\\HistoricalData.py:176: FutureWarning: The frame.append method is deprecated and will be removed from pandas in a future version. Use pandas.concat instead.\n",
      "  data = data.append(dataset)\n"
     ]
    },
    {
     "name": "stdout",
     "output_type": "stream",
     "text": [
      "Provisional Start: 2022-11-07T00:00:00\n",
      "Provisional End: 2023-09-03T00:00:00\n",
      "Data for chunk 2 of 2 extracted\n",
      "Saved to C:\\Users\\Roman\\Desktop\\DMLS_project\\Crypto\\ARPA-USDT_diff.csv\n",
      "FOX-USD\n",
      "Checking input parameters are in the correct format.\n",
      "Formatting Dates.\n",
      "Checking if user supplied is available on the CoinBase Pro API.\n",
      "Connected to the CoinBase Pro API.\n",
      "Ticker 'FOX-USD' found at the CoinBase Pro API, continuing to extraction.\n",
      "Provisional Start: 2022-01-11T00:00:00\n",
      "Provisional End: 2022-11-07T00:00:00\n",
      "Data for chunk 1 of 2 extracted\n",
      "Provisional Start: 2022-11-07T00:00:00\n",
      "Provisional End: 2023-09-03T00:00:00\n"
     ]
    },
    {
     "name": "stderr",
     "output_type": "stream",
     "text": [
      "C:\\Users\\Roman\\AppData\\Local\\Packages\\PythonSoftwareFoundation.Python.3.10_qbz5n2kfra8p0\\LocalCache\\local-packages\\Python310\\site-packages\\Historic_Crypto\\HistoricalData.py:176: FutureWarning: The frame.append method is deprecated and will be removed from pandas in a future version. Use pandas.concat instead.\n",
      "  data = data.append(dataset)\n"
     ]
    },
    {
     "name": "stdout",
     "output_type": "stream",
     "text": [
      "Data for chunk 2 of 2 extracted\n",
      "Saved to C:\\Users\\Roman\\Desktop\\DMLS_project\\Crypto\\FOX-USD_diff.csv\n",
      "CTX-EUR\n",
      "Checking input parameters are in the correct format.\n",
      "Formatting Dates.\n",
      "Checking if user supplied is available on the CoinBase Pro API.\n",
      "Connected to the CoinBase Pro API.\n",
      "Ticker 'CTX-EUR' found at the CoinBase Pro API, continuing to extraction.\n",
      "Provisional Start: 2022-01-11T00:00:00\n",
      "Provisional End: 2022-11-07T00:00:00\n",
      "Data for chunk 1 of 2 extracted\n",
      "Provisional Start: 2022-11-07T00:00:00\n",
      "Provisional End: 2023-09-03T00:00:00\n"
     ]
    },
    {
     "name": "stderr",
     "output_type": "stream",
     "text": [
      "C:\\Users\\Roman\\AppData\\Local\\Packages\\PythonSoftwareFoundation.Python.3.10_qbz5n2kfra8p0\\LocalCache\\local-packages\\Python310\\site-packages\\Historic_Crypto\\HistoricalData.py:176: FutureWarning: The frame.append method is deprecated and will be removed from pandas in a future version. Use pandas.concat instead.\n",
      "  data = data.append(dataset)\n"
     ]
    },
    {
     "name": "stdout",
     "output_type": "stream",
     "text": [
      "Data for chunk 2 of 2 extracted\n",
      "Saved to C:\\Users\\Roman\\Desktop\\DMLS_project\\Crypto\\CTX-EUR_diff.csv\n",
      "ENJ-USD\n",
      "Checking input parameters are in the correct format.\n",
      "Formatting Dates.\n",
      "Checking if user supplied is available on the CoinBase Pro API.\n",
      "Connected to the CoinBase Pro API.\n",
      "Ticker 'ENJ-USD' found at the CoinBase Pro API, continuing to extraction.\n",
      "Provisional Start: 2022-01-11T00:00:00\n",
      "Provisional End: 2022-11-07T00:00:00\n",
      "Data for chunk 1 of 2 extracted\n"
     ]
    },
    {
     "name": "stderr",
     "output_type": "stream",
     "text": [
      "C:\\Users\\Roman\\AppData\\Local\\Packages\\PythonSoftwareFoundation.Python.3.10_qbz5n2kfra8p0\\LocalCache\\local-packages\\Python310\\site-packages\\Historic_Crypto\\HistoricalData.py:176: FutureWarning: The frame.append method is deprecated and will be removed from pandas in a future version. Use pandas.concat instead.\n",
      "  data = data.append(dataset)\n"
     ]
    },
    {
     "name": "stdout",
     "output_type": "stream",
     "text": [
      "Provisional Start: 2022-11-07T00:00:00\n",
      "Provisional End: 2023-09-03T00:00:00\n",
      "Data for chunk 2 of 2 extracted\n",
      "Saved to C:\\Users\\Roman\\Desktop\\DMLS_project\\Crypto\\ENJ-USD_diff.csv\n",
      "CRPT-USD\n",
      "Checking input parameters are in the correct format.\n",
      "Formatting Dates.\n",
      "Checking if user supplied is available on the CoinBase Pro API.\n",
      "Connected to the CoinBase Pro API.\n",
      "Ticker 'CRPT-USD' found at the CoinBase Pro API, continuing to extraction.\n",
      "Provisional Start: 2022-01-11T00:00:00\n",
      "Provisional End: 2022-11-07T00:00:00\n",
      "Data for chunk 1 of 2 extracted\n"
     ]
    },
    {
     "name": "stderr",
     "output_type": "stream",
     "text": [
      "C:\\Users\\Roman\\AppData\\Local\\Packages\\PythonSoftwareFoundation.Python.3.10_qbz5n2kfra8p0\\LocalCache\\local-packages\\Python310\\site-packages\\Historic_Crypto\\HistoricalData.py:176: FutureWarning: The frame.append method is deprecated and will be removed from pandas in a future version. Use pandas.concat instead.\n",
      "  data = data.append(dataset)\n"
     ]
    },
    {
     "name": "stdout",
     "output_type": "stream",
     "text": [
      "Provisional Start: 2022-11-07T00:00:00\n",
      "Provisional End: 2023-09-03T00:00:00\n",
      "Data for chunk 2 of 2 extracted\n",
      "Saved to C:\\Users\\Roman\\Desktop\\DMLS_project\\Crypto\\CRPT-USD_diff.csv\n",
      "MANA-USDC\n",
      "Checking input parameters are in the correct format.\n",
      "Formatting Dates.\n",
      "Checking if user supplied is available on the CoinBase Pro API.\n",
      "Connected to the CoinBase Pro API.\n",
      "Ticker 'MANA-USDC' found at the CoinBase Pro API, continuing to extraction.\n",
      "Provisional Start: 2022-01-11T00:00:00\n",
      "Provisional End: 2022-11-07T00:00:00\n",
      "Data for chunk 1 of 2 extracted\n"
     ]
    },
    {
     "name": "stderr",
     "output_type": "stream",
     "text": [
      "C:\\Users\\Roman\\AppData\\Local\\Packages\\PythonSoftwareFoundation.Python.3.10_qbz5n2kfra8p0\\LocalCache\\local-packages\\Python310\\site-packages\\Historic_Crypto\\HistoricalData.py:176: FutureWarning: The frame.append method is deprecated and will be removed from pandas in a future version. Use pandas.concat instead.\n",
      "  data = data.append(dataset)\n"
     ]
    },
    {
     "name": "stdout",
     "output_type": "stream",
     "text": [
      "Provisional Start: 2022-11-07T00:00:00\n",
      "Provisional End: 2023-09-03T00:00:00\n",
      "Data for chunk 2 of 2 extracted\n",
      "CoinBase Pro API did not have available data for 'MANA-USDC' beginning at 2022-01-11-00-00.  \n",
      "                        Trying a later date:'2022-11-07T00:00:00'\n",
      "Saved to C:\\Users\\Roman\\Desktop\\DMLS_project\\Crypto\\MANA-USDC_diff.csv\n",
      "REQ-USDT\n",
      "Checking input parameters are in the correct format.\n",
      "Formatting Dates.\n",
      "Checking if user supplied is available on the CoinBase Pro API.\n",
      "Connected to the CoinBase Pro API.\n",
      "Ticker 'REQ-USDT' found at the CoinBase Pro API, continuing to extraction.\n",
      "Provisional Start: 2022-01-11T00:00:00\n",
      "Provisional End: 2022-11-07T00:00:00\n",
      "Data for chunk 1 of 2 extracted\n"
     ]
    },
    {
     "name": "stderr",
     "output_type": "stream",
     "text": [
      "C:\\Users\\Roman\\AppData\\Local\\Packages\\PythonSoftwareFoundation.Python.3.10_qbz5n2kfra8p0\\LocalCache\\local-packages\\Python310\\site-packages\\Historic_Crypto\\HistoricalData.py:176: FutureWarning: The frame.append method is deprecated and will be removed from pandas in a future version. Use pandas.concat instead.\n",
      "  data = data.append(dataset)\n"
     ]
    },
    {
     "name": "stdout",
     "output_type": "stream",
     "text": [
      "Provisional Start: 2022-11-07T00:00:00\n",
      "Provisional End: 2023-09-03T00:00:00\n",
      "Data for chunk 2 of 2 extracted\n",
      "Saved to C:\\Users\\Roman\\Desktop\\DMLS_project\\Crypto\\REQ-USDT_diff.csv\n",
      "PERP-EUR\n",
      "Checking input parameters are in the correct format.\n",
      "Formatting Dates.\n",
      "Checking if user supplied is available on the CoinBase Pro API.\n",
      "Connected to the CoinBase Pro API.\n",
      "Ticker 'PERP-EUR' found at the CoinBase Pro API, continuing to extraction.\n",
      "Provisional Start: 2022-01-11T00:00:00\n",
      "Provisional End: 2022-11-07T00:00:00\n",
      "Data for chunk 1 of 2 extracted\n"
     ]
    },
    {
     "name": "stderr",
     "output_type": "stream",
     "text": [
      "C:\\Users\\Roman\\AppData\\Local\\Packages\\PythonSoftwareFoundation.Python.3.10_qbz5n2kfra8p0\\LocalCache\\local-packages\\Python310\\site-packages\\Historic_Crypto\\HistoricalData.py:176: FutureWarning: The frame.append method is deprecated and will be removed from pandas in a future version. Use pandas.concat instead.\n",
      "  data = data.append(dataset)\n"
     ]
    },
    {
     "name": "stdout",
     "output_type": "stream",
     "text": [
      "Provisional Start: 2022-11-07T00:00:00\n",
      "Provisional End: 2023-09-03T00:00:00\n",
      "Data for chunk 2 of 2 extracted\n",
      "Saved to C:\\Users\\Roman\\Desktop\\DMLS_project\\Crypto\\PERP-EUR_diff.csv\n",
      "PNG-USD\n",
      "Checking input parameters are in the correct format.\n",
      "Formatting Dates.\n",
      "Checking if user supplied is available on the CoinBase Pro API.\n",
      "Connected to the CoinBase Pro API.\n",
      "Ticker 'PNG-USD' found at the CoinBase Pro API, continuing to extraction.\n",
      "Provisional Start: 2022-01-11T00:00:00\n",
      "Provisional End: 2022-11-07T00:00:00\n",
      "Data for chunk 1 of 2 extracted\n"
     ]
    },
    {
     "name": "stderr",
     "output_type": "stream",
     "text": [
      "C:\\Users\\Roman\\AppData\\Local\\Packages\\PythonSoftwareFoundation.Python.3.10_qbz5n2kfra8p0\\LocalCache\\local-packages\\Python310\\site-packages\\Historic_Crypto\\HistoricalData.py:176: FutureWarning: The frame.append method is deprecated and will be removed from pandas in a future version. Use pandas.concat instead.\n",
      "  data = data.append(dataset)\n"
     ]
    },
    {
     "name": "stdout",
     "output_type": "stream",
     "text": [
      "Provisional Start: 2022-11-07T00:00:00\n",
      "Provisional End: 2023-09-03T00:00:00\n",
      "Data for chunk 2 of 2 extracted\n",
      "Saved to C:\\Users\\Roman\\Desktop\\DMLS_project\\Crypto\\PNG-USD_diff.csv\n",
      "UMA-EUR\n",
      "Checking input parameters are in the correct format.\n",
      "Formatting Dates.\n",
      "Checking if user supplied is available on the CoinBase Pro API.\n",
      "Connected to the CoinBase Pro API.\n",
      "Ticker 'UMA-EUR' found at the CoinBase Pro API, continuing to extraction.\n",
      "Provisional Start: 2022-01-11T00:00:00\n",
      "Provisional End: 2022-11-07T00:00:00\n",
      "Data for chunk 1 of 2 extracted\n"
     ]
    },
    {
     "name": "stderr",
     "output_type": "stream",
     "text": [
      "C:\\Users\\Roman\\AppData\\Local\\Packages\\PythonSoftwareFoundation.Python.3.10_qbz5n2kfra8p0\\LocalCache\\local-packages\\Python310\\site-packages\\Historic_Crypto\\HistoricalData.py:176: FutureWarning: The frame.append method is deprecated and will be removed from pandas in a future version. Use pandas.concat instead.\n",
      "  data = data.append(dataset)\n"
     ]
    },
    {
     "name": "stdout",
     "output_type": "stream",
     "text": [
      "Provisional Start: 2022-11-07T00:00:00\n",
      "Provisional End: 2023-09-03T00:00:00\n",
      "Data for chunk 2 of 2 extracted\n",
      "Saved to C:\\Users\\Roman\\Desktop\\DMLS_project\\Crypto\\UMA-EUR_diff.csv\n",
      "LINK-BTC\n",
      "Checking input parameters are in the correct format.\n",
      "Formatting Dates.\n",
      "Checking if user supplied is available on the CoinBase Pro API.\n",
      "Connected to the CoinBase Pro API.\n",
      "Ticker 'LINK-BTC' found at the CoinBase Pro API, continuing to extraction.\n",
      "Provisional Start: 2022-01-11T00:00:00\n",
      "Provisional End: 2022-11-07T00:00:00\n",
      "Data for chunk 1 of 2 extracted\n"
     ]
    },
    {
     "name": "stderr",
     "output_type": "stream",
     "text": [
      "C:\\Users\\Roman\\AppData\\Local\\Packages\\PythonSoftwareFoundation.Python.3.10_qbz5n2kfra8p0\\LocalCache\\local-packages\\Python310\\site-packages\\Historic_Crypto\\HistoricalData.py:176: FutureWarning: The frame.append method is deprecated and will be removed from pandas in a future version. Use pandas.concat instead.\n",
      "  data = data.append(dataset)\n"
     ]
    },
    {
     "name": "stdout",
     "output_type": "stream",
     "text": [
      "Provisional Start: 2022-11-07T00:00:00\n",
      "Provisional End: 2023-09-03T00:00:00\n",
      "Data for chunk 2 of 2 extracted\n",
      "Saved to C:\\Users\\Roman\\Desktop\\DMLS_project\\Crypto\\LINK-BTC_diff.csv\n",
      "GRT-BTC\n",
      "Checking input parameters are in the correct format.\n",
      "Formatting Dates.\n",
      "Checking if user supplied is available on the CoinBase Pro API.\n",
      "Connected to the CoinBase Pro API.\n",
      "Ticker 'GRT-BTC' found at the CoinBase Pro API, continuing to extraction.\n",
      "Provisional Start: 2022-01-11T00:00:00\n",
      "Provisional End: 2022-11-07T00:00:00\n",
      "Data for chunk 1 of 2 extracted\n",
      "Provisional Start: 2022-11-07T00:00:00\n",
      "Provisional End: 2023-09-03T00:00:00\n",
      "Data for chunk 2 of 2 extracted\n"
     ]
    },
    {
     "name": "stderr",
     "output_type": "stream",
     "text": [
      "C:\\Users\\Roman\\AppData\\Local\\Packages\\PythonSoftwareFoundation.Python.3.10_qbz5n2kfra8p0\\LocalCache\\local-packages\\Python310\\site-packages\\Historic_Crypto\\HistoricalData.py:176: FutureWarning: The frame.append method is deprecated and will be removed from pandas in a future version. Use pandas.concat instead.\n",
      "  data = data.append(dataset)\n"
     ]
    },
    {
     "name": "stdout",
     "output_type": "stream",
     "text": [
      "Saved to C:\\Users\\Roman\\Desktop\\DMLS_project\\Crypto\\GRT-BTC_diff.csv\n",
      "SHIB-USDT\n",
      "Checking input parameters are in the correct format.\n",
      "Formatting Dates.\n",
      "Checking if user supplied is available on the CoinBase Pro API.\n",
      "Connected to the CoinBase Pro API.\n",
      "Ticker 'SHIB-USDT' found at the CoinBase Pro API, continuing to extraction.\n",
      "Provisional Start: 2022-01-11T00:00:00\n",
      "Provisional End: 2022-11-07T00:00:00\n",
      "Data for chunk 1 of 2 extracted\n",
      "Provisional Start: 2022-11-07T00:00:00\n",
      "Provisional End: 2023-09-03T00:00:00\n"
     ]
    },
    {
     "name": "stderr",
     "output_type": "stream",
     "text": [
      "C:\\Users\\Roman\\AppData\\Local\\Packages\\PythonSoftwareFoundation.Python.3.10_qbz5n2kfra8p0\\LocalCache\\local-packages\\Python310\\site-packages\\Historic_Crypto\\HistoricalData.py:176: FutureWarning: The frame.append method is deprecated and will be removed from pandas in a future version. Use pandas.concat instead.\n",
      "  data = data.append(dataset)\n"
     ]
    },
    {
     "name": "stdout",
     "output_type": "stream",
     "text": [
      "Data for chunk 2 of 2 extracted\n",
      "Saved to C:\\Users\\Roman\\Desktop\\DMLS_project\\Crypto\\SHIB-USDT_diff.csv\n",
      "CELR-USD\n",
      "Checking input parameters are in the correct format.\n",
      "Formatting Dates.\n",
      "Checking if user supplied is available on the CoinBase Pro API.\n",
      "Connected to the CoinBase Pro API.\n",
      "Ticker 'CELR-USD' found at the CoinBase Pro API, continuing to extraction.\n",
      "Provisional Start: 2022-01-11T00:00:00\n",
      "Provisional End: 2022-11-07T00:00:00\n",
      "Data for chunk 1 of 2 extracted\n"
     ]
    },
    {
     "name": "stderr",
     "output_type": "stream",
     "text": [
      "C:\\Users\\Roman\\AppData\\Local\\Packages\\PythonSoftwareFoundation.Python.3.10_qbz5n2kfra8p0\\LocalCache\\local-packages\\Python310\\site-packages\\Historic_Crypto\\HistoricalData.py:176: FutureWarning: The frame.append method is deprecated and will be removed from pandas in a future version. Use pandas.concat instead.\n",
      "  data = data.append(dataset)\n"
     ]
    },
    {
     "name": "stdout",
     "output_type": "stream",
     "text": [
      "Provisional Start: 2022-11-07T00:00:00\n",
      "Provisional End: 2023-09-03T00:00:00\n",
      "Data for chunk 2 of 2 extracted\n",
      "Saved to C:\\Users\\Roman\\Desktop\\DMLS_project\\Crypto\\CELR-USD_diff.csv\n",
      "MATIC-GBP\n",
      "Checking input parameters are in the correct format.\n",
      "Formatting Dates.\n",
      "Checking if user supplied is available on the CoinBase Pro API.\n",
      "Connected to the CoinBase Pro API.\n",
      "Ticker 'MATIC-GBP' found at the CoinBase Pro API, continuing to extraction.\n",
      "Provisional Start: 2022-01-11T00:00:00\n",
      "Provisional End: 2022-11-07T00:00:00\n",
      "Data for chunk 1 of 2 extracted\n",
      "Provisional Start: 2022-11-07T00:00:00\n",
      "Provisional End: 2023-09-03T00:00:00\n"
     ]
    },
    {
     "name": "stderr",
     "output_type": "stream",
     "text": [
      "C:\\Users\\Roman\\AppData\\Local\\Packages\\PythonSoftwareFoundation.Python.3.10_qbz5n2kfra8p0\\LocalCache\\local-packages\\Python310\\site-packages\\Historic_Crypto\\HistoricalData.py:176: FutureWarning: The frame.append method is deprecated and will be removed from pandas in a future version. Use pandas.concat instead.\n",
      "  data = data.append(dataset)\n"
     ]
    },
    {
     "name": "stdout",
     "output_type": "stream",
     "text": [
      "Data for chunk 2 of 2 extracted\n",
      "Saved to C:\\Users\\Roman\\Desktop\\DMLS_project\\Crypto\\MATIC-GBP_diff.csv\n",
      "DEXT-USD\n",
      "Checking input parameters are in the correct format.\n",
      "Formatting Dates.\n",
      "Checking if user supplied is available on the CoinBase Pro API.\n",
      "Connected to the CoinBase Pro API.\n",
      "Ticker 'DEXT-USD' found at the CoinBase Pro API, continuing to extraction.\n",
      "Provisional Start: 2022-01-11T00:00:00\n",
      "Provisional End: 2022-11-07T00:00:00\n",
      "Data for chunk 1 of 2 extracted\n"
     ]
    },
    {
     "name": "stderr",
     "output_type": "stream",
     "text": [
      "C:\\Users\\Roman\\AppData\\Local\\Packages\\PythonSoftwareFoundation.Python.3.10_qbz5n2kfra8p0\\LocalCache\\local-packages\\Python310\\site-packages\\Historic_Crypto\\HistoricalData.py:176: FutureWarning: The frame.append method is deprecated and will be removed from pandas in a future version. Use pandas.concat instead.\n",
      "  data = data.append(dataset)\n"
     ]
    },
    {
     "name": "stdout",
     "output_type": "stream",
     "text": [
      "Provisional Start: 2022-11-07T00:00:00\n",
      "Provisional End: 2023-09-03T00:00:00\n",
      "Data for chunk 2 of 2 extracted\n",
      "Saved to C:\\Users\\Roman\\Desktop\\DMLS_project\\Crypto\\DEXT-USD_diff.csv\n",
      "YFII-USD\n",
      "Checking input parameters are in the correct format.\n",
      "Formatting Dates.\n",
      "Checking if user supplied is available on the CoinBase Pro API.\n",
      "Connected to the CoinBase Pro API.\n",
      "Ticker 'YFII-USD' found at the CoinBase Pro API, continuing to extraction.\n",
      "Provisional Start: 2022-01-11T00:00:00\n",
      "Provisional End: 2022-11-07T00:00:00\n",
      "Data for chunk 1 of 2 extracted\n"
     ]
    },
    {
     "name": "stderr",
     "output_type": "stream",
     "text": [
      "C:\\Users\\Roman\\AppData\\Local\\Packages\\PythonSoftwareFoundation.Python.3.10_qbz5n2kfra8p0\\LocalCache\\local-packages\\Python310\\site-packages\\Historic_Crypto\\HistoricalData.py:176: FutureWarning: The frame.append method is deprecated and will be removed from pandas in a future version. Use pandas.concat instead.\n",
      "  data = data.append(dataset)\n"
     ]
    },
    {
     "name": "stdout",
     "output_type": "stream",
     "text": [
      "Provisional Start: 2022-11-07T00:00:00\n",
      "Provisional End: 2023-09-03T00:00:00\n",
      "Data for chunk 2 of 2 extracted\n",
      "Saved to C:\\Users\\Roman\\Desktop\\DMLS_project\\Crypto\\YFII-USD_diff.csv\n",
      "SUSHI-GBP\n",
      "Checking input parameters are in the correct format.\n",
      "Formatting Dates.\n",
      "Checking if user supplied is available on the CoinBase Pro API.\n",
      "Connected to the CoinBase Pro API.\n",
      "Ticker 'SUSHI-GBP' found at the CoinBase Pro API, continuing to extraction.\n",
      "Provisional Start: 2022-01-11T00:00:00\n",
      "Provisional End: 2022-11-07T00:00:00\n",
      "Data for chunk 1 of 2 extracted\n"
     ]
    },
    {
     "name": "stderr",
     "output_type": "stream",
     "text": [
      "C:\\Users\\Roman\\AppData\\Local\\Packages\\PythonSoftwareFoundation.Python.3.10_qbz5n2kfra8p0\\LocalCache\\local-packages\\Python310\\site-packages\\Historic_Crypto\\HistoricalData.py:176: FutureWarning: The frame.append method is deprecated and will be removed from pandas in a future version. Use pandas.concat instead.\n",
      "  data = data.append(dataset)\n"
     ]
    },
    {
     "name": "stdout",
     "output_type": "stream",
     "text": [
      "Provisional Start: 2022-11-07T00:00:00\n",
      "Provisional End: 2023-09-03T00:00:00\n",
      "Data for chunk 2 of 2 extracted\n",
      "Saved to C:\\Users\\Roman\\Desktop\\DMLS_project\\Crypto\\SUSHI-GBP_diff.csv\n",
      "MANA-USD\n",
      "Checking input parameters are in the correct format.\n",
      "Formatting Dates.\n",
      "Checking if user supplied is available on the CoinBase Pro API.\n",
      "Connected to the CoinBase Pro API.\n",
      "Ticker 'MANA-USD' found at the CoinBase Pro API, continuing to extraction.\n",
      "Provisional Start: 2022-01-11T00:00:00\n",
      "Provisional End: 2022-11-07T00:00:00\n",
      "Data for chunk 1 of 2 extracted\n",
      "Provisional Start: 2022-11-07T00:00:00\n",
      "Provisional End: 2023-09-03T00:00:00\n"
     ]
    },
    {
     "name": "stderr",
     "output_type": "stream",
     "text": [
      "C:\\Users\\Roman\\AppData\\Local\\Packages\\PythonSoftwareFoundation.Python.3.10_qbz5n2kfra8p0\\LocalCache\\local-packages\\Python310\\site-packages\\Historic_Crypto\\HistoricalData.py:176: FutureWarning: The frame.append method is deprecated and will be removed from pandas in a future version. Use pandas.concat instead.\n",
      "  data = data.append(dataset)\n"
     ]
    },
    {
     "name": "stdout",
     "output_type": "stream",
     "text": [
      "Data for chunk 2 of 2 extracted\n",
      "Saved to C:\\Users\\Roman\\Desktop\\DMLS_project\\Crypto\\MANA-USD_diff.csv\n",
      "FIDA-USDT\n",
      "Checking input parameters are in the correct format.\n",
      "Formatting Dates.\n",
      "Checking if user supplied is available on the CoinBase Pro API.\n",
      "Connected to the CoinBase Pro API.\n",
      "Ticker 'FIDA-USDT' found at the CoinBase Pro API, continuing to extraction.\n",
      "Provisional Start: 2022-01-11T00:00:00\n",
      "Provisional End: 2022-11-07T00:00:00\n",
      "Data for chunk 1 of 2 extracted\n"
     ]
    },
    {
     "name": "stderr",
     "output_type": "stream",
     "text": [
      "C:\\Users\\Roman\\AppData\\Local\\Packages\\PythonSoftwareFoundation.Python.3.10_qbz5n2kfra8p0\\LocalCache\\local-packages\\Python310\\site-packages\\Historic_Crypto\\HistoricalData.py:176: FutureWarning: The frame.append method is deprecated and will be removed from pandas in a future version. Use pandas.concat instead.\n",
      "  data = data.append(dataset)\n"
     ]
    },
    {
     "name": "stdout",
     "output_type": "stream",
     "text": [
      "Provisional Start: 2022-11-07T00:00:00\n",
      "Provisional End: 2023-09-03T00:00:00\n",
      "Data for chunk 2 of 2 extracted\n",
      "Saved to C:\\Users\\Roman\\Desktop\\DMLS_project\\Crypto\\FIDA-USDT_diff.csv\n",
      "MUSD-USD\n",
      "Checking input parameters are in the correct format.\n",
      "Formatting Dates.\n",
      "Checking if user supplied is available on the CoinBase Pro API.\n",
      "Connected to the CoinBase Pro API.\n",
      "Ticker 'MUSD-USD' found at the CoinBase Pro API, continuing to extraction.\n",
      "Provisional Start: 2022-01-11T00:00:00\n",
      "Provisional End: 2022-11-07T00:00:00\n",
      "Data for chunk 1 of 2 extracted\n"
     ]
    },
    {
     "name": "stderr",
     "output_type": "stream",
     "text": [
      "C:\\Users\\Roman\\AppData\\Local\\Packages\\PythonSoftwareFoundation.Python.3.10_qbz5n2kfra8p0\\LocalCache\\local-packages\\Python310\\site-packages\\Historic_Crypto\\HistoricalData.py:176: FutureWarning: The frame.append method is deprecated and will be removed from pandas in a future version. Use pandas.concat instead.\n",
      "  data = data.append(dataset)\n"
     ]
    },
    {
     "name": "stdout",
     "output_type": "stream",
     "text": [
      "Provisional Start: 2022-11-07T00:00:00\n",
      "Provisional End: 2023-09-03T00:00:00\n",
      "Data for chunk 2 of 2 extracted\n",
      "CoinBase Pro API did not have available data for 'MUSD-USD' beginning at 2022-01-11-00-00.  \n",
      "                        Trying a later date:'2022-11-07T00:00:00'\n",
      "Saved to C:\\Users\\Roman\\Desktop\\DMLS_project\\Crypto\\MUSD-USD_diff.csv\n",
      "FIL-EUR\n",
      "Checking input parameters are in the correct format.\n",
      "Formatting Dates.\n",
      "Checking if user supplied is available on the CoinBase Pro API.\n",
      "Connected to the CoinBase Pro API.\n",
      "Ticker 'FIL-EUR' found at the CoinBase Pro API, continuing to extraction.\n",
      "Provisional Start: 2022-01-11T00:00:00\n",
      "Provisional End: 2022-11-07T00:00:00\n",
      "Data for chunk 1 of 2 extracted\n"
     ]
    },
    {
     "name": "stderr",
     "output_type": "stream",
     "text": [
      "C:\\Users\\Roman\\AppData\\Local\\Packages\\PythonSoftwareFoundation.Python.3.10_qbz5n2kfra8p0\\LocalCache\\local-packages\\Python310\\site-packages\\Historic_Crypto\\HistoricalData.py:176: FutureWarning: The frame.append method is deprecated and will be removed from pandas in a future version. Use pandas.concat instead.\n",
      "  data = data.append(dataset)\n"
     ]
    },
    {
     "name": "stdout",
     "output_type": "stream",
     "text": [
      "Provisional Start: 2022-11-07T00:00:00\n",
      "Provisional End: 2023-09-03T00:00:00\n",
      "Data for chunk 2 of 2 extracted\n",
      "Saved to C:\\Users\\Roman\\Desktop\\DMLS_project\\Crypto\\FIL-EUR_diff.csv\n",
      "MINA-EUR\n",
      "Checking input parameters are in the correct format.\n",
      "Formatting Dates.\n",
      "Checking if user supplied is available on the CoinBase Pro API.\n",
      "Connected to the CoinBase Pro API.\n",
      "Ticker 'MINA-EUR' found at the CoinBase Pro API, continuing to extraction.\n",
      "Provisional Start: 2022-01-11T00:00:00\n",
      "Provisional End: 2022-11-07T00:00:00\n",
      "Data for chunk 1 of 2 extracted\n",
      "Provisional Start: 2022-11-07T00:00:00\n",
      "Provisional End: 2023-09-03T00:00:00\n"
     ]
    },
    {
     "name": "stderr",
     "output_type": "stream",
     "text": [
      "C:\\Users\\Roman\\AppData\\Local\\Packages\\PythonSoftwareFoundation.Python.3.10_qbz5n2kfra8p0\\LocalCache\\local-packages\\Python310\\site-packages\\Historic_Crypto\\HistoricalData.py:176: FutureWarning: The frame.append method is deprecated and will be removed from pandas in a future version. Use pandas.concat instead.\n",
      "  data = data.append(dataset)\n"
     ]
    },
    {
     "name": "stdout",
     "output_type": "stream",
     "text": [
      "Data for chunk 2 of 2 extracted\n",
      "Saved to C:\\Users\\Roman\\Desktop\\DMLS_project\\Crypto\\MINA-EUR_diff.csv\n",
      "UNI-BTC\n",
      "Checking input parameters are in the correct format.\n",
      "Formatting Dates.\n",
      "Checking if user supplied is available on the CoinBase Pro API.\n",
      "Connected to the CoinBase Pro API.\n",
      "Ticker 'UNI-BTC' found at the CoinBase Pro API, continuing to extraction.\n",
      "Provisional Start: 2022-01-11T00:00:00\n",
      "Provisional End: 2022-11-07T00:00:00\n",
      "Data for chunk 1 of 2 extracted\n",
      "Provisional Start: 2022-11-07T00:00:00\n",
      "Provisional End: 2023-09-03T00:00:00\n"
     ]
    },
    {
     "name": "stderr",
     "output_type": "stream",
     "text": [
      "C:\\Users\\Roman\\AppData\\Local\\Packages\\PythonSoftwareFoundation.Python.3.10_qbz5n2kfra8p0\\LocalCache\\local-packages\\Python310\\site-packages\\Historic_Crypto\\HistoricalData.py:176: FutureWarning: The frame.append method is deprecated and will be removed from pandas in a future version. Use pandas.concat instead.\n",
      "  data = data.append(dataset)\n"
     ]
    },
    {
     "name": "stdout",
     "output_type": "stream",
     "text": [
      "Data for chunk 2 of 2 extracted\n",
      "Saved to C:\\Users\\Roman\\Desktop\\DMLS_project\\Crypto\\UNI-BTC_diff.csv\n",
      "SAND-USD\n",
      "Checking input parameters are in the correct format.\n",
      "Formatting Dates.\n",
      "Checking if user supplied is available on the CoinBase Pro API.\n",
      "Connected to the CoinBase Pro API.\n",
      "Ticker 'SAND-USD' found at the CoinBase Pro API, continuing to extraction.\n",
      "Provisional Start: 2022-01-11T00:00:00\n",
      "Provisional End: 2022-11-07T00:00:00\n",
      "Data for chunk 1 of 2 extracted\n"
     ]
    },
    {
     "name": "stderr",
     "output_type": "stream",
     "text": [
      "C:\\Users\\Roman\\AppData\\Local\\Packages\\PythonSoftwareFoundation.Python.3.10_qbz5n2kfra8p0\\LocalCache\\local-packages\\Python310\\site-packages\\Historic_Crypto\\HistoricalData.py:176: FutureWarning: The frame.append method is deprecated and will be removed from pandas in a future version. Use pandas.concat instead.\n",
      "  data = data.append(dataset)\n"
     ]
    },
    {
     "name": "stdout",
     "output_type": "stream",
     "text": [
      "Provisional Start: 2022-11-07T00:00:00\n",
      "Provisional End: 2023-09-03T00:00:00\n",
      "Data for chunk 2 of 2 extracted\n",
      "Saved to C:\\Users\\Roman\\Desktop\\DMLS_project\\Crypto\\SAND-USD_diff.csv\n",
      "XYO-USDT\n",
      "Checking input parameters are in the correct format.\n",
      "Formatting Dates.\n",
      "Checking if user supplied is available on the CoinBase Pro API.\n",
      "Connected to the CoinBase Pro API.\n",
      "Ticker 'XYO-USDT' found at the CoinBase Pro API, continuing to extraction.\n",
      "Provisional Start: 2022-01-11T00:00:00\n",
      "Provisional End: 2022-11-07T00:00:00\n",
      "Data for chunk 1 of 2 extracted\n",
      "Provisional Start: 2022-11-07T00:00:00\n",
      "Provisional End: 2023-09-03T00:00:00\n"
     ]
    },
    {
     "name": "stderr",
     "output_type": "stream",
     "text": [
      "C:\\Users\\Roman\\AppData\\Local\\Packages\\PythonSoftwareFoundation.Python.3.10_qbz5n2kfra8p0\\LocalCache\\local-packages\\Python310\\site-packages\\Historic_Crypto\\HistoricalData.py:176: FutureWarning: The frame.append method is deprecated and will be removed from pandas in a future version. Use pandas.concat instead.\n",
      "  data = data.append(dataset)\n"
     ]
    },
    {
     "name": "stdout",
     "output_type": "stream",
     "text": [
      "Data for chunk 2 of 2 extracted\n",
      "Saved to C:\\Users\\Roman\\Desktop\\DMLS_project\\Crypto\\XYO-USDT_diff.csv\n",
      "USDC-GBP\n",
      "Checking input parameters are in the correct format.\n",
      "Formatting Dates.\n",
      "Checking if user supplied is available on the CoinBase Pro API.\n",
      "Connected to the CoinBase Pro API.\n",
      "Ticker 'USDC-GBP' found at the CoinBase Pro API, continuing to extraction.\n",
      "Provisional Start: 2022-01-11T00:00:00\n",
      "Provisional End: 2022-11-07T00:00:00\n",
      "Data for chunk 1 of 2 extracted\n"
     ]
    },
    {
     "name": "stderr",
     "output_type": "stream",
     "text": [
      "C:\\Users\\Roman\\AppData\\Local\\Packages\\PythonSoftwareFoundation.Python.3.10_qbz5n2kfra8p0\\LocalCache\\local-packages\\Python310\\site-packages\\Historic_Crypto\\HistoricalData.py:176: FutureWarning: The frame.append method is deprecated and will be removed from pandas in a future version. Use pandas.concat instead.\n",
      "  data = data.append(dataset)\n"
     ]
    },
    {
     "name": "stdout",
     "output_type": "stream",
     "text": [
      "Provisional Start: 2022-11-07T00:00:00\n",
      "Provisional End: 2023-09-03T00:00:00\n",
      "Data for chunk 2 of 2 extracted\n",
      "Saved to C:\\Users\\Roman\\Desktop\\DMLS_project\\Crypto\\USDC-GBP_diff.csv\n",
      "UNI-USD\n",
      "Checking input parameters are in the correct format.\n",
      "Formatting Dates.\n",
      "Checking if user supplied is available on the CoinBase Pro API.\n",
      "Connected to the CoinBase Pro API.\n",
      "Ticker 'UNI-USD' found at the CoinBase Pro API, continuing to extraction.\n",
      "Provisional Start: 2022-01-11T00:00:00\n",
      "Provisional End: 2022-11-07T00:00:00\n",
      "Data for chunk 1 of 2 extracted\n"
     ]
    },
    {
     "name": "stderr",
     "output_type": "stream",
     "text": [
      "C:\\Users\\Roman\\AppData\\Local\\Packages\\PythonSoftwareFoundation.Python.3.10_qbz5n2kfra8p0\\LocalCache\\local-packages\\Python310\\site-packages\\Historic_Crypto\\HistoricalData.py:176: FutureWarning: The frame.append method is deprecated and will be removed from pandas in a future version. Use pandas.concat instead.\n",
      "  data = data.append(dataset)\n"
     ]
    },
    {
     "name": "stdout",
     "output_type": "stream",
     "text": [
      "Provisional Start: 2022-11-07T00:00:00\n",
      "Provisional End: 2023-09-03T00:00:00\n",
      "Data for chunk 2 of 2 extracted\n",
      "Saved to C:\\Users\\Roman\\Desktop\\DMLS_project\\Crypto\\UNI-USD_diff.csv\n",
      "USDT-USD\n",
      "Checking input parameters are in the correct format.\n",
      "Formatting Dates.\n",
      "Checking if user supplied is available on the CoinBase Pro API.\n",
      "Connected to the CoinBase Pro API.\n",
      "Ticker 'USDT-USD' found at the CoinBase Pro API, continuing to extraction.\n",
      "Provisional Start: 2022-01-11T00:00:00\n",
      "Provisional End: 2022-11-07T00:00:00\n",
      "Data for chunk 1 of 2 extracted\n"
     ]
    },
    {
     "name": "stderr",
     "output_type": "stream",
     "text": [
      "C:\\Users\\Roman\\AppData\\Local\\Packages\\PythonSoftwareFoundation.Python.3.10_qbz5n2kfra8p0\\LocalCache\\local-packages\\Python310\\site-packages\\Historic_Crypto\\HistoricalData.py:176: FutureWarning: The frame.append method is deprecated and will be removed from pandas in a future version. Use pandas.concat instead.\n",
      "  data = data.append(dataset)\n"
     ]
    },
    {
     "name": "stdout",
     "output_type": "stream",
     "text": [
      "Provisional Start: 2022-11-07T00:00:00\n",
      "Provisional End: 2023-09-03T00:00:00\n",
      "Data for chunk 2 of 2 extracted\n",
      "Saved to C:\\Users\\Roman\\Desktop\\DMLS_project\\Crypto\\USDT-USD_diff.csv\n",
      "bad_names: ['XRP-EUR', 'XRP-GBP', 'XRP-USD', 'XRP-BTC']\n",
      "The script took 26 minutes and 57 seconds to run.\n"
     ]
    }
   ],
   "source": [
    "if __name__ == '__main__':\n",
    "\n",
    "    \"\"\" set the download window \"\"\"\n",
    "    now_time = datetime.now()\n",
    "    start_time = datetime(now_time.year - 1, now_time.month , now_time.day)\n",
    "    now_time_str = now_time.strftime(\"%Y-%m-%d-%H-%M\")\n",
    "    start_time_str = start_time.strftime(\"%Y-%m-%d-%H-%M\")\n",
    "\n",
    "    \"\"\"here we use the concurrent.futures module's ThreadPoolExecutor\n",
    "        to speed up the downloads buy doing them in parallel \n",
    "        as opposed to sequentially \"\"\"\n",
    "    \n",
    "    \n",
    "    for i in crypto:\n",
    "        get_stock_diff(i)\n",
    "\n",
    "#     #set the maximum thread number\n",
    "#     max_workers = 50\n",
    "\n",
    "#     workers = min(max_workers, len(crypto)) #in case a smaller number of stocks than threads was passed in\n",
    "#     with futures.ThreadPoolExecutor(workers) as executor:\n",
    "#         res = executor.map(get_stock_diff, crypto)\n",
    "\n",
    "    \n",
    "    \"\"\" Save failed queries to a text file to retry \"\"\"\n",
    "    if len(bad_names) > 0:\n",
    "        with open(os.path.join(dirpath, 'failed_queries.txt'),'w') as outfile:\n",
    "            for name in bad_names:\n",
    "                outfile.write(name+'\\n')\n",
    "\n",
    "    #timing:\n",
    "    finish_time = datetime.now()\n",
    "    duration = finish_time - now_time\n",
    "    minutes, seconds = divmod(duration.seconds, 60)\n",
    "    print('bad_names: ', end='')\n",
    "    print(bad_names)\n",
    "    print(f'The script took {minutes} minutes and {seconds} seconds to run.')"
   ]
  }
 ],
 "metadata": {
  "kernelspec": {
   "display_name": "Python 3 (ipykernel)",
   "language": "python",
   "name": "python3"
  },
  "language_info": {
   "codemirror_mode": {
    "name": "ipython",
    "version": 3
   },
   "file_extension": ".py",
   "mimetype": "text/x-python",
   "name": "python",
   "nbconvert_exporter": "python",
   "pygments_lexer": "ipython3",
   "version": "3.10.8"
  }
 },
 "nbformat": 4,
 "nbformat_minor": 5
}
