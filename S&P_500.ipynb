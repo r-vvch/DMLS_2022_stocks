{
 "cells": [
  {
   "cell_type": "code",
   "execution_count": 1,
   "id": "54182760",
   "metadata": {},
   "outputs": [],
   "source": [
    "from datetime import datetime\n",
    "from concurrent import futures\n",
    "import pandas as pd\n",
    "from pandas import DataFrame\n",
    "import pandas_datareader.data as web\n",
    "from pathlib import Path\n",
    "import os"
   ]
  },
  {
   "cell_type": "code",
   "execution_count": 2,
   "id": "dd98a83d",
   "metadata": {},
   "outputs": [],
   "source": [
    "\"\"\" list of s_anp_p companies \"\"\"\n",
    "s_and_p = [\n",
    "    'MMM', 'ABT', 'ABBV', 'ABMD', 'ACN', 'ATVI', 'ADBE', 'AMD', 'AAP', 'AES', 'AFL', 'A', 'APD', 'AKAM', 'ALK', 'ALB', \n",
    "    'ARE', 'ALGN', 'ALLE', 'LNT', 'ALL', 'GOOGL', 'GOOG', 'MO', 'AMZN', 'AMCR', 'AEE', 'AAL', 'AEP', 'AXP', 'AIG', 'AMT',\n",
    "    'AWK', 'AMP', 'ABC', 'AME', 'AMGN', 'APH', 'ADI', 'ANSS', 'ANTM', 'AON', 'AOS', 'APA', 'AAPL', 'AMAT', 'APTV', 'ADM',\n",
    "    'ANET', 'AJG', 'AIZ', 'T', 'ATO', 'ADSK', 'ADP', 'AZO', 'AVB', 'AVY', 'BKR', 'BLL', 'BAC', 'BBWI', 'BAX', 'BDX', 'BRK.B',\n",
    "    'BBY', 'BIO', 'TECH', 'BIIB', 'BLK', 'BK', 'BA', 'BKNG', 'BWA', 'BXP', 'BSX', 'BMY', 'AVGO', 'BR', 'BRO', 'BF.B', 'CHRW',\n",
    "    'CDNS', 'CZR', 'CPB', 'COF', 'CAH', 'KMX', 'CCL', 'CARR', 'CTLT', 'CAT', 'CBOE', 'CBRE', 'CDW', 'CE', 'CNC', 'CNP', 'CDAY',\n",
    "    'CERN', 'CF', 'CRL', 'SCHW', 'CHTR', 'CVX', 'CMG', 'CB', 'CHD', 'CI', 'CINF', 'CTAS', 'CSCO', 'C', 'CFG', 'CTXS', 'CLX',\n",
    "    'CME', 'CMS', 'KO', 'CTSH', 'CL', 'CMCSA', 'CMA', 'CAG', 'COP', 'ED', 'STZ', 'COO', 'CPRT', 'GLW', 'CTVA', 'COST', 'CTRA',\n",
    "    'CCI', 'CSX', 'CMI', 'CVS', 'DHI', 'DHR', 'DRI', 'DVA', 'DE', 'DAL', 'XRAY', 'DVN', 'DXCM', 'FANG', 'DLR', 'DFS', 'DISCA',\n",
    "    'DISCK', 'DISH', 'DG', 'DLTR', 'D', 'DPZ', 'DOV', 'DOW', 'DTE', 'DUK', 'DRE', 'DD', 'DXC', 'EMN', 'ETN', 'EBAY', 'ECL',\n",
    "    'EIX', 'EW', 'EA', 'EMR', 'ENPH', 'ETR', 'EOG', 'EFX', 'EQIX', 'EQR', 'ESS', 'EL', 'ETSY', 'EVRG', 'ES', 'RE', 'EXC',\n",
    "    'EXPE', 'EXPD', 'EXR', 'XOM', 'FFIV', 'FB', 'FAST', 'FRT', 'FDX', 'FIS', 'FITB', 'FE', 'FRC', 'FISV', 'FLT', 'FMC', 'F',\n",
    "    'FTNT', 'FTV', 'FBHS', 'FOXA', 'FOX', 'BEN', 'FCX', 'GPS', 'GRMN', 'IT', 'GNRC', 'GD', 'GE', 'GIS', 'GM', 'GPC', 'GILD',\n",
    "    'GL', 'GPN', 'GS', 'GWW', 'HAL', 'HBI', 'HIG', 'HAS', 'HCA', 'PEAK', 'HSIC', 'HSY', 'HES', 'HPE', 'HLT', 'HOLX', 'HD',\n",
    "    'HON', 'HRL', 'HST', 'HWM', 'HPQ', 'HUM', 'HBAN', 'HII', 'IEX', 'IDXX', 'INFO', 'ITW', 'ILMN', 'INCY', 'IR', 'INTC', 'ICE',\n",
    "    'IBM', 'IP', 'IPG', 'IFF', 'INTU', 'ISRG', 'IVZ', 'IPGP', 'IQV', 'IRM', 'JKHY', 'J', 'JBHT', 'SJM', 'JNJ', 'JCI', 'JPM',\n",
    "    'JNPR', 'KSU', 'K', 'KEY', 'KEYS', 'KMB', 'KIM', 'KMI', 'KLAC', 'KHC', 'KR', 'LHX', 'LH', 'LRCX', 'LW', 'LVS', 'LEG','LDOS',\n",
    "    'LEN', 'LLY', 'LNC', 'LIN', 'LYV', 'LKQ', 'LMT', 'L', 'LOW', 'LUMN', 'LYB', 'MTB', 'MRO', 'MPC', 'MKTX', 'MAR', 'MMC',\n",
    "    'MLM', 'MAS', 'MA', 'MTCH', 'MKC', 'MCD', 'MCK', 'MDT', 'MRK', 'MET', 'MTD', 'MGM', 'MCHP', 'MU', 'MSFT', 'MAA','MRNA',\n",
    "    'MHK', 'TAP', 'MDLZ', 'MPWR', 'MNST', 'MCO', 'MS', 'MOS', 'MSI', 'MSCI', 'NDAQ', 'NTAP', 'NFLX', 'NWL', 'NEM', 'NWSA',\n",
    "    'NWS', 'NEE', 'NLSN', 'NKE', 'NI', 'NSC', 'NTRS', 'NOC', 'NLOK', 'NCLH', 'NRG', 'NUE', 'NVDA', 'NVR', 'NXPI','ORLY', 'OXY',\n",
    "    'ODFL', 'OMC', 'OKE', 'ORCL', 'OGN', 'OTIS', 'PCAR', 'PKG', 'PH', 'PAYX', 'PAYC', 'PYPL', 'PENN', 'PNR', 'PBCT', 'PEP',\n",
    "    'PKI', 'PFE', 'PM', 'PSX', 'PNW', 'PXD', 'PNC', 'POOL', 'PPG', 'PPL', 'PFG', 'PG', 'PGR', 'PLD', 'PRU', 'PTC', 'PEG', 'PSA',\n",
    "    'PHM', 'PVH', 'QRVO', 'PWR', 'QCOM', 'DGX', 'RL', 'RJF', 'RTX', 'O', 'REG', 'REGN', 'RF', 'RSG', 'RMD', 'RHI', 'ROK', 'ROL',\n",
    "    'ROP', 'ROST', 'RCL', 'SPGI', 'CRM', 'SBAC', 'SLB', 'STX', 'SEE', 'SRE', 'NOW', 'SHW', 'SPG', 'SWKS', 'SNA', 'SO', 'LUV',\n",
    "    'SWK', 'SBUX', 'STT', 'STE', 'SYK', 'SIVB', 'SYF', 'SNPS', 'SYY', 'TMUS', 'TROW', 'TTWO', 'TPR', 'TGT', 'TEL', 'TDY', 'TFX',\n",
    "    'TER', 'TSLA', 'TXN', 'TXT', 'TMO', 'TJX', 'TSCO', 'TT', 'TDG', 'TRV', 'TRMB', 'TFC', 'TWTR', 'TYL', 'TSN', 'UDR', 'ULTA',\n",
    "    'USB', 'UAA', 'UA', 'UNP', 'UAL', 'UNH', 'UPS', 'URI', 'UHS', 'VLO', 'VTR', 'VRSN',     'VRSK', 'VZ', 'VRTX', 'VFC', 'VIAC',\n",
    "    'VTRS', 'V', 'VNO', 'VMC', 'WRB', 'WAB', 'WMT', 'WBA', 'DIS', 'WM', 'WAT', 'WEC', 'WFC', 'WELL', 'WST', 'WDC', 'WU', 'WRK',\n",
    "    'WY', 'WHR', 'WMB', 'WLTW', 'WYNN', 'XEL', 'XLNX', 'XYL', 'YUM', 'ZBRA', 'ZBH','ZION', 'ZTS'\n",
    "]\n",
    "\n",
    "bad_names = []"
   ]
  },
  {
   "cell_type": "code",
   "execution_count": 3,
   "id": "0db57260",
   "metadata": {},
   "outputs": [],
   "source": [
    "dirpath = os.path.join(Path().resolve(), 'S&P_500')\n",
    "Path(dirpath).mkdir(parents=True, exist_ok=True)"
   ]
  },
  {
   "cell_type": "code",
   "execution_count": 4,
   "id": "8bcc6985",
   "metadata": {},
   "outputs": [],
   "source": [
    "def get_stock_diff(stock):\n",
    "    \n",
    "    \"\"\" try to query the iex for a stock, if failed note with print \"\"\"\n",
    "    try:\n",
    "        print(stock)\n",
    "        stock_df = web.DataReader(stock,'yahoo', start_time, now_time)\n",
    "        stock_df['Name'] = stock\n",
    "        stock_df['Diff'] = stock_df['Close'] - stock_df['Open']\n",
    "        stock_df.drop(['High', 'Low', 'Open', 'Volume', 'Adj Close'], axis=1, inplace=True)\n",
    "        cols = stock_df.columns.tolist()\n",
    "        cols = [cols[1], cols[0], cols[2]]\n",
    "        stock_df = stock_df[cols]\n",
    "        output_name = os.path.join(dirpath, stock + '_diff.csv')\n",
    "        stock_df.to_csv(output_name)\n",
    "    except:\n",
    "        bad_names.append(stock)\n",
    "        print('bad: %s' % (stock))\n"
   ]
  },
  {
   "cell_type": "code",
   "execution_count": null,
   "id": "380d8aaf",
   "metadata": {},
   "outputs": [],
   "source": [
    "if __name__ == '__main__':\n",
    "\n",
    "    \"\"\" set the download window \"\"\"\n",
    "    now_time = datetime.now()\n",
    "    start_time = datetime(now_time.year - 5, now_time.month , now_time.day)\n",
    "\n",
    "    \"\"\"here we use the concurrent.futures module's ThreadPoolExecutor\n",
    "        to speed up the downloads buy doing them in parallel \n",
    "        as opposed to sequentially \"\"\"\n",
    "\n",
    "    #set the maximum thread number\n",
    "    max_workers = 50\n",
    "\n",
    "    workers = min(max_workers, len(s_and_p)) #in case a smaller number of stocks than threads was passed in\n",
    "    with futures.ThreadPoolExecutor(workers) as executor:\n",
    "        res = executor.map(get_stock_diff, s_and_p)\n",
    "\n",
    "    \n",
    "    \"\"\" Save failed queries to a text file to retry \"\"\"\n",
    "    if len(bad_names) > 0:\n",
    "        with open(os.path.join(dirpath, 'failed_queries.txt'),'w') as outfile:\n",
    "            for name in bad_names:\n",
    "                outfile.write(name+'\\n')\n",
    "\n",
    "    #timing:\n",
    "    finish_time = datetime.now()\n",
    "    duration = finish_time - now_time\n",
    "    minutes, seconds = divmod(duration.seconds, 60)\n",
    "    print('bad_names: ', end='')\n",
    "    print(bad_names)\n",
    "    print(f'The threaded script took {minutes} minutes and {seconds} seconds to run.')\n",
    "    #The threaded script took 0 minutes and 31 seconds to run."
   ]
  }
 ],
 "metadata": {
  "kernelspec": {
   "display_name": "Python 3",
   "language": "python",
   "name": "python3"
  },
  "language_info": {
   "codemirror_mode": {
    "name": "ipython",
    "version": 3
   },
   "file_extension": ".py",
   "mimetype": "text/x-python",
   "name": "python",
   "nbconvert_exporter": "python",
   "pygments_lexer": "ipython3",
   "version": "3.8.10"
  }
 },
 "nbformat": 4,
 "nbformat_minor": 5
}
