{
 "cells": [
  {
   "cell_type": "code",
   "execution_count": 156,
   "metadata": {},
   "outputs": [],
   "source": [
    "import mlflow\n",
    "import pandas as pd\n",
    "import prophet"
   ]
  },
  {
   "attachments": {},
   "cell_type": "markdown",
   "metadata": {},
   "source": [
    "### Prepare new data to update models"
   ]
  },
  {
   "cell_type": "code",
   "execution_count": 157,
   "metadata": {},
   "outputs": [
    {
     "data": {
      "text/html": [
       "<div>\n",
       "<style scoped>\n",
       "    .dataframe tbody tr th:only-of-type {\n",
       "        vertical-align: middle;\n",
       "    }\n",
       "\n",
       "    .dataframe tbody tr th {\n",
       "        vertical-align: top;\n",
       "    }\n",
       "\n",
       "    .dataframe thead th {\n",
       "        text-align: right;\n",
       "    }\n",
       "</style>\n",
       "<table border=\"1\" class=\"dataframe\">\n",
       "  <thead>\n",
       "    <tr style=\"text-align: right;\">\n",
       "      <th></th>\n",
       "      <th>Date</th>\n",
       "      <th>Open</th>\n",
       "      <th>High</th>\n",
       "      <th>Low</th>\n",
       "      <th>Close</th>\n",
       "      <th>Adj Close</th>\n",
       "      <th>Volume</th>\n",
       "    </tr>\n",
       "  </thead>\n",
       "  <tbody>\n",
       "    <tr>\n",
       "      <th>0</th>\n",
       "      <td>2022-01-19</td>\n",
       "      <td>170.000000</td>\n",
       "      <td>171.080002</td>\n",
       "      <td>165.940002</td>\n",
       "      <td>166.229996</td>\n",
       "      <td>165.270813</td>\n",
       "      <td>94815000</td>\n",
       "    </tr>\n",
       "    <tr>\n",
       "      <th>1</th>\n",
       "      <td>2022-01-20</td>\n",
       "      <td>166.979996</td>\n",
       "      <td>169.679993</td>\n",
       "      <td>164.179993</td>\n",
       "      <td>164.509995</td>\n",
       "      <td>163.560730</td>\n",
       "      <td>91420500</td>\n",
       "    </tr>\n",
       "    <tr>\n",
       "      <th>2</th>\n",
       "      <td>2022-01-21</td>\n",
       "      <td>164.419998</td>\n",
       "      <td>166.330002</td>\n",
       "      <td>162.300003</td>\n",
       "      <td>162.410004</td>\n",
       "      <td>161.472855</td>\n",
       "      <td>122848900</td>\n",
       "    </tr>\n",
       "    <tr>\n",
       "      <th>3</th>\n",
       "      <td>2022-01-24</td>\n",
       "      <td>160.020004</td>\n",
       "      <td>162.300003</td>\n",
       "      <td>154.699997</td>\n",
       "      <td>161.619995</td>\n",
       "      <td>160.687393</td>\n",
       "      <td>162294600</td>\n",
       "    </tr>\n",
       "    <tr>\n",
       "      <th>4</th>\n",
       "      <td>2022-01-25</td>\n",
       "      <td>158.979996</td>\n",
       "      <td>162.759995</td>\n",
       "      <td>157.020004</td>\n",
       "      <td>159.779999</td>\n",
       "      <td>158.858032</td>\n",
       "      <td>115798400</td>\n",
       "    </tr>\n",
       "    <tr>\n",
       "      <th>...</th>\n",
       "      <td>...</td>\n",
       "      <td>...</td>\n",
       "      <td>...</td>\n",
       "      <td>...</td>\n",
       "      <td>...</td>\n",
       "      <td>...</td>\n",
       "      <td>...</td>\n",
       "    </tr>\n",
       "    <tr>\n",
       "      <th>247</th>\n",
       "      <td>2023-01-12</td>\n",
       "      <td>133.880005</td>\n",
       "      <td>134.259995</td>\n",
       "      <td>131.440002</td>\n",
       "      <td>133.410004</td>\n",
       "      <td>133.410004</td>\n",
       "      <td>71379600</td>\n",
       "    </tr>\n",
       "    <tr>\n",
       "      <th>248</th>\n",
       "      <td>2023-01-13</td>\n",
       "      <td>132.029999</td>\n",
       "      <td>134.919998</td>\n",
       "      <td>131.660004</td>\n",
       "      <td>134.759995</td>\n",
       "      <td>134.759995</td>\n",
       "      <td>57758000</td>\n",
       "    </tr>\n",
       "    <tr>\n",
       "      <th>249</th>\n",
       "      <td>2023-01-17</td>\n",
       "      <td>134.830002</td>\n",
       "      <td>137.289993</td>\n",
       "      <td>134.130005</td>\n",
       "      <td>135.940002</td>\n",
       "      <td>135.940002</td>\n",
       "      <td>63646600</td>\n",
       "    </tr>\n",
       "    <tr>\n",
       "      <th>250</th>\n",
       "      <td>2023-01-18</td>\n",
       "      <td>136.820007</td>\n",
       "      <td>138.610001</td>\n",
       "      <td>135.029999</td>\n",
       "      <td>135.210007</td>\n",
       "      <td>135.210007</td>\n",
       "      <td>69567000</td>\n",
       "    </tr>\n",
       "    <tr>\n",
       "      <th>251</th>\n",
       "      <td>2023-01-19</td>\n",
       "      <td>134.080002</td>\n",
       "      <td>135.317795</td>\n",
       "      <td>133.880005</td>\n",
       "      <td>134.589996</td>\n",
       "      <td>134.589996</td>\n",
       "      <td>14972121</td>\n",
       "    </tr>\n",
       "  </tbody>\n",
       "</table>\n",
       "<p>252 rows × 7 columns</p>\n",
       "</div>"
      ],
      "text/plain": [
       "          Date        Open        High         Low       Close   Adj Close  \\\n",
       "0   2022-01-19  170.000000  171.080002  165.940002  166.229996  165.270813   \n",
       "1   2022-01-20  166.979996  169.679993  164.179993  164.509995  163.560730   \n",
       "2   2022-01-21  164.419998  166.330002  162.300003  162.410004  161.472855   \n",
       "3   2022-01-24  160.020004  162.300003  154.699997  161.619995  160.687393   \n",
       "4   2022-01-25  158.979996  162.759995  157.020004  159.779999  158.858032   \n",
       "..         ...         ...         ...         ...         ...         ...   \n",
       "247 2023-01-12  133.880005  134.259995  131.440002  133.410004  133.410004   \n",
       "248 2023-01-13  132.029999  134.919998  131.660004  134.759995  134.759995   \n",
       "249 2023-01-17  134.830002  137.289993  134.130005  135.940002  135.940002   \n",
       "250 2023-01-18  136.820007  138.610001  135.029999  135.210007  135.210007   \n",
       "251 2023-01-19  134.080002  135.317795  133.880005  134.589996  134.589996   \n",
       "\n",
       "        Volume  \n",
       "0     94815000  \n",
       "1     91420500  \n",
       "2    122848900  \n",
       "3    162294600  \n",
       "4    115798400  \n",
       "..         ...  \n",
       "247   71379600  \n",
       "248   57758000  \n",
       "249   63646600  \n",
       "250   69567000  \n",
       "251   14972121  \n",
       "\n",
       "[252 rows x 7 columns]"
      ]
     },
     "execution_count": 157,
     "metadata": {},
     "output_type": "execute_result"
    }
   ],
   "source": [
    "new_data = pd.read_csv('./data/NASDAQ_100/AAPL.csv')\n",
    "new_data['Date'] = pd.to_datetime(new_data['Date'])\n",
    "# latest_date = df_data['Date'].tail(6).values[3]\n",
    "# latest_date = ''\n",
    "# with open('./containers/update/latest_date.txt', 'r') as f:\n",
    "#     latest_date = f.readline()\n",
    "#     f.close()\n",
    "# latest_date = pd.to_datetime(latest_date)\n",
    "# new_data = df_data[df_data['Date'] > latest_date]\n",
    "new_data"
   ]
  },
  {
   "attachments": {},
   "cell_type": "markdown",
   "metadata": {},
   "source": [
    "### Updating models"
   ]
  },
  {
   "cell_type": "code",
   "execution_count": 158,
   "metadata": {},
   "outputs": [],
   "source": [
    "MLFLOW_IP = '91.206.15.104'\n",
    "MLFLOW_PASSWORD = 'lH19Y0ImXQNg'\n",
    "MLFLOW_USER = 'godder'\n",
    "MLFLOW_PORT = '9899'"
   ]
  },
  {
   "cell_type": "code",
   "execution_count": 159,
   "metadata": {},
   "outputs": [],
   "source": [
    "mlflow.set_tracking_uri('http://{}:{}'.format(MLFLOW_IP, MLFLOW_PORT))"
   ]
  },
  {
   "cell_type": "code",
   "execution_count": 160,
   "metadata": {},
   "outputs": [],
   "source": [
    "tracking_uri = mlflow.get_tracking_uri()\n",
    "registry_uri = mlflow.get_registry_uri()\n",
    "\n",
    "client = mlflow.MlflowClient(tracking_uri=tracking_uri, registry_uri=registry_uri)"
   ]
  },
  {
   "cell_type": "code",
   "execution_count": 161,
   "metadata": {},
   "outputs": [],
   "source": [
    "ticker_name = 'AAPL'"
   ]
  },
  {
   "attachments": {},
   "cell_type": "markdown",
   "metadata": {},
   "source": [
    "#### Prophet"
   ]
  },
  {
   "cell_type": "code",
   "execution_count": 162,
   "metadata": {},
   "outputs": [],
   "source": [
    "# experiment_id = mlflow.create_experiment(\n",
    "#     \"Prophet update\",\n",
    "#     artifact_location=\"sftp://{}:{}@{}:/home/godder/mlflow_storage/artifacts\".format(MLFLOW_USER, MLFLOW_PASSWORD, MLFLOW_IP),\n",
    "#     tags={\"version\": \".1\"},\n",
    "# )"
   ]
  },
  {
   "cell_type": "code",
   "execution_count": 163,
   "metadata": {},
   "outputs": [],
   "source": [
    "vers = []\n",
    "for mv in client.search_model_versions(\"name='Prophet'\"):\n",
    "    vers.append(int(mv.version))\n",
    "prophet_latest = max(vers)"
   ]
  },
  {
   "cell_type": "code",
   "execution_count": 164,
   "metadata": {},
   "outputs": [],
   "source": [
    "exp_id = dict(mlflow.get_experiment_by_name(\"Prophet update\"))['experiment_id']"
   ]
  },
  {
   "cell_type": "code",
   "execution_count": 165,
   "metadata": {},
   "outputs": [
    {
     "name": "stdout",
     "output_type": "stream",
     "text": [
      "Set experiment\n"
     ]
    }
   ],
   "source": [
    "mlflow.set_experiment(experiment_id=exp_id)\n",
    "print(\"Set experiment\")"
   ]
  },
  {
   "cell_type": "code",
   "execution_count": 166,
   "metadata": {},
   "outputs": [
    {
     "data": {
      "text/plain": [
       "<ActiveRun: >"
      ]
     },
     "execution_count": 166,
     "metadata": {},
     "output_type": "execute_result"
    }
   ],
   "source": [
    "mlflow.start_run(experiment_id=exp_id, run_name='Prophet updating')"
   ]
  },
  {
   "cell_type": "code",
   "execution_count": 167,
   "metadata": {},
   "outputs": [
    {
     "name": "stderr",
     "output_type": "stream",
     "text": [
      "/usr/local/lib/python3.8/dist-packages/prophet/serialize.py:160: FutureWarning: The behavior of Timestamp.utcfromtimestamp is deprecated, in a future version will return a timezone-aware Timestamp with UTC timezone. To keep the old behavior, use Timestamp.utcfromtimestamp(ts).tz_localize(None). To get the future behavior, use Timestamp.fromtimestamp(ts, 'UTC')\n",
      "  setattr(model, attribute, pd.Timestamp.utcfromtimestamp(model_dict[attribute]).tz_localize(None))\n"
     ]
    }
   ],
   "source": [
    "old_model = mlflow.prophet.load_model(\n",
    "    model_uri=f\"models:/Prophet/{prophet_latest}\"\n",
    ")"
   ]
  },
  {
   "cell_type": "code",
   "execution_count": 168,
   "metadata": {},
   "outputs": [
    {
     "name": "stderr",
     "output_type": "stream",
     "text": [
      "20:33:15 - cmdstanpy - INFO - Chain [1] start processing\n",
      "20:33:16 - cmdstanpy - INFO - Chain [1] done processing\n"
     ]
    },
    {
     "data": {
      "text/plain": [
       "<prophet.forecaster.Prophet at 0x7f6a06c6d3a0>"
      ]
     },
     "execution_count": 168,
     "metadata": {},
     "output_type": "execute_result"
    }
   ],
   "source": [
    "updated_model = prophet.Prophet(changepoint_prior_scale=old_model.changepoint_prior_scale, seasonality_prior_scale=old_model.seasonality_prior_scale, weekly_seasonality=old_model.weekly_seasonality)\n",
    "new_df = new_data[['Date', 'Close']].copy()\n",
    "new_df.rename({'Date': 'ds', 'Close': 'y'}, axis=1, inplace=True)\n",
    "updated_model.fit(new_df)"
   ]
  },
  {
   "cell_type": "code",
   "execution_count": 169,
   "metadata": {},
   "outputs": [],
   "source": [
    "future = updated_model.make_future_dataframe(periods=10)\n",
    "signature = mlflow.models.signature.infer_signature(future)"
   ]
  },
  {
   "cell_type": "code",
   "execution_count": 170,
   "metadata": {},
   "outputs": [
    {
     "name": "stderr",
     "output_type": "stream",
     "text": [
      "Registered model 'Prophet' already exists. Creating a new version of this model...\n",
      "2023/01/19 20:33:16 INFO mlflow.tracking._model_registry.client: Waiting up to 300 seconds for model version to finish creation.                     Model name: Prophet, version 19\n",
      "Created version '19' of model 'Prophet'.\n"
     ]
    },
    {
     "data": {
      "text/plain": [
       "<mlflow.models.model.ModelInfo at 0x7f69246fb7c0>"
      ]
     },
     "execution_count": 170,
     "metadata": {},
     "output_type": "execute_result"
    }
   ],
   "source": [
    "mlflow.prophet.log_model(updated_model,\n",
    "                         'prophet',\n",
    "                         registered_model_name='Prophet',\n",
    "                         signature=signature,\n",
    "                         input_example=future)"
   ]
  },
  {
   "cell_type": "code",
   "execution_count": 171,
   "metadata": {},
   "outputs": [],
   "source": [
    "mlflow.end_run()"
   ]
  },
  {
   "cell_type": "code",
   "execution_count": 172,
   "metadata": {},
   "outputs": [
    {
     "name": "stdout",
     "output_type": "stream",
     "text": [
      "done\n"
     ]
    }
   ],
   "source": [
    "version = prophet_latest + 1\n",
    "client.transition_model_version_stage(\n",
    "    name=\"Prophet\",\n",
    "    version=version,\n",
    "    stage=\"Staging\"\n",
    ")\n",
    "\n",
    "for ver in range(1, version):\n",
    "    client.transition_model_version_stage(\n",
    "        name=\"Prophet\",\n",
    "        version=ver,\n",
    "        stage=\"Archived\"\n",
    "    )\n",
    "print('done')"
   ]
  },
  {
   "attachments": {},
   "cell_type": "markdown",
   "metadata": {},
   "source": [
    "#### Transformer"
   ]
  },
  {
   "cell_type": "code",
   "execution_count": null,
   "metadata": {},
   "outputs": [],
   "source": [
    "experiment_id = mlflow.create_experiment(\n",
    "    \"Transformer update\",\n",
    "    artifact_location=\"sftp://{}:{}@{}:/home/godder/mlflow_storage/artifacts\".format(MLFLOW_USER, MLFLOW_PASSWORD, MLFLOW_IP),\n",
    "    tags={\"version\": \".1\"},\n",
    ")"
   ]
  },
  {
   "cell_type": "code",
   "execution_count": null,
   "metadata": {},
   "outputs": [],
   "source": [
    "exp_id = dict(mlflow.get_experiment_by_name(\"Transformer update\"))['experiment_id']"
   ]
  },
  {
   "cell_type": "code",
   "execution_count": null,
   "metadata": {},
   "outputs": [],
   "source": [
    "mlflow.set_experiment(experiment_id=exp_id)\n",
    "print(\"Set experiment\")"
   ]
  },
  {
   "cell_type": "code",
   "execution_count": null,
   "metadata": {},
   "outputs": [],
   "source": []
  },
  {
   "cell_type": "code",
   "execution_count": null,
   "metadata": {},
   "outputs": [],
   "source": [
    "version = ####\n",
    "client.transition_model_version_stage(\n",
    "    name=\"CompatibleTransformer\",\n",
    "    version=version,\n",
    "    stage=\"Staging\"\n",
    ")\n",
    "\n",
    "for ver in range(1, version):\n",
    "    client.transition_model_version_stage(\n",
    "        name=\"CompatibleTransformer\",\n",
    "        version=ver,\n",
    "        stage=\"Archived\"\n",
    "    )\n",
    "print('done')"
   ]
  },
  {
   "attachments": {},
   "cell_type": "markdown",
   "metadata": {},
   "source": [
    "#### ARIMA"
   ]
  },
  {
   "cell_type": "code",
   "execution_count": 173,
   "metadata": {},
   "outputs": [],
   "source": [
    "from statsmodels.tsa.arima.model import ARIMA\n",
    "import numpy as np\n",
    "import pmdarima"
   ]
  },
  {
   "cell_type": "code",
   "execution_count": 174,
   "metadata": {},
   "outputs": [],
   "source": [
    "# experiment_id = mlflow.create_experiment(\n",
    "#     \"ARIMA update\",\n",
    "#     artifact_location=\"sftp://{}:{}@{}:/home/godder/mlflow_storage/artifacts\".format(MLFLOW_USER, MLFLOW_PASSWORD, MLFLOW_IP),\n",
    "#     tags={\"version\": \".1\"},\n",
    "# )"
   ]
  },
  {
   "cell_type": "code",
   "execution_count": 175,
   "metadata": {},
   "outputs": [],
   "source": [
    "vers = []\n",
    "for mv in client.search_model_versions(\"name='ARIMA'\"):\n",
    "    vers.append(int(mv.version))\n",
    "arima_latest = max(vers)"
   ]
  },
  {
   "cell_type": "code",
   "execution_count": 176,
   "metadata": {},
   "outputs": [],
   "source": [
    "exp_id = dict(mlflow.get_experiment_by_name(\"ARIMA update\"))['experiment_id']"
   ]
  },
  {
   "cell_type": "code",
   "execution_count": 177,
   "metadata": {},
   "outputs": [
    {
     "name": "stdout",
     "output_type": "stream",
     "text": [
      "Set experiment\n"
     ]
    }
   ],
   "source": [
    "mlflow.set_experiment(experiment_id=exp_id)\n",
    "print(\"Set experiment\")"
   ]
  },
  {
   "cell_type": "code",
   "execution_count": 178,
   "metadata": {},
   "outputs": [
    {
     "data": {
      "text/plain": [
       "<ActiveRun: >"
      ]
     },
     "execution_count": 178,
     "metadata": {},
     "output_type": "execute_result"
    }
   ],
   "source": [
    "mlflow.start_run(experiment_id=exp_id, run_name='ARIMA updating')"
   ]
  },
  {
   "cell_type": "code",
   "execution_count": 179,
   "metadata": {},
   "outputs": [],
   "source": [
    "new_df  = new_data[['Date','Close']].copy()\n",
    "new_df['Close'] = np.log(new_df['Close'])"
   ]
  },
  {
   "cell_type": "code",
   "execution_count": 180,
   "metadata": {},
   "outputs": [],
   "source": [
    "old_model = mlflow.pmdarima.load_model(\n",
    "    model_uri=f\"models:/ARIMA/{arima_latest}\"\n",
    ")"
   ]
  },
  {
   "cell_type": "code",
   "execution_count": 181,
   "metadata": {},
   "outputs": [],
   "source": [
    "new_model = ARIMA(new_df['Close'], order=old_model.order)\n",
    "updated_model = new_model.fit()"
   ]
  },
  {
   "cell_type": "code",
   "execution_count": 182,
   "metadata": {},
   "outputs": [],
   "source": [
    "m = pmdarima.auto_arima(new_df['Close'])"
   ]
  },
  {
   "cell_type": "code",
   "execution_count": 183,
   "metadata": {},
   "outputs": [
    {
     "name": "stderr",
     "output_type": "stream",
     "text": [
      "/usr/local/lib/python3.8/dist-packages/mlflow/models/signature.py:130: UserWarning: Hint: Inferred schema contains integer column(s). Integer columns in Python cannot represent missing values. If your input data contains missing values at inference time, it will be encoded as floats and will cause a schema enforcement error. The best way to avoid this problem is to infer the model schema based on a realistic data sample (training dataset) that includes missing values. Alternatively, you can declare integer columns as doubles (float64) whenever these columns may have missing values. See `Handling Integers With Missing Values <https://www.mlflow.org/docs/latest/models.html#handling-integers-with-missing-values>`_ for more details.\n",
      "  inputs = _infer_schema(model_input)\n"
     ]
    }
   ],
   "source": [
    "signature = mlflow.models.signature.infer_signature(pd.DataFrame([{\"n_periods\": 10, \"return_conf_int\": True, \"alpha\": 0.1}]))"
   ]
  },
  {
   "cell_type": "code",
   "execution_count": 184,
   "metadata": {},
   "outputs": [
    {
     "name": "stderr",
     "output_type": "stream",
     "text": [
      "Registered model 'ARIMA' already exists. Creating a new version of this model...\n",
      "2023/01/19 20:33:31 INFO mlflow.tracking._model_registry.client: Waiting up to 300 seconds for model version to finish creation.                     Model name: ARIMA, version 9\n",
      "Created version '9' of model 'ARIMA'.\n"
     ]
    },
    {
     "data": {
      "text/plain": [
       "<mlflow.models.model.ModelInfo at 0x7f6a06c20070>"
      ]
     },
     "execution_count": 184,
     "metadata": {},
     "output_type": "execute_result"
    }
   ],
   "source": [
    "mlflow.pmdarima.log_model(m, 'ARIMA', registered_model_name='ARIMA',\n",
    "                         signature=signature,\n",
    "                         input_example=pd.DataFrame([{\"n_periods\": 10, \"return_conf_int\": True, \"alpha\": 0.1}]))"
   ]
  },
  {
   "cell_type": "code",
   "execution_count": 185,
   "metadata": {},
   "outputs": [],
   "source": [
    "mlflow.end_run()"
   ]
  },
  {
   "cell_type": "code",
   "execution_count": 186,
   "metadata": {},
   "outputs": [
    {
     "name": "stdout",
     "output_type": "stream",
     "text": [
      "done\n"
     ]
    }
   ],
   "source": [
    "version = arima_latest + 1\n",
    "client.transition_model_version_stage(\n",
    "    name=\"ARIMA\",\n",
    "    version=version,\n",
    "    stage=\"Staging\"\n",
    ")\n",
    "\n",
    "for ver in range(1, version):\n",
    "    client.transition_model_version_stage(\n",
    "        name=\"ARIMA\",\n",
    "        version=ver,\n",
    "        stage=\"Archived\"\n",
    "    )\n",
    "print('done')"
   ]
  }
 ],
 "metadata": {
  "kernelspec": {
   "display_name": "Python 3",
   "language": "python",
   "name": "python3"
  },
  "language_info": {
   "codemirror_mode": {
    "name": "ipython",
    "version": 3
   },
   "file_extension": ".py",
   "mimetype": "text/x-python",
   "name": "python",
   "nbconvert_exporter": "python",
   "pygments_lexer": "ipython3",
   "version": "3.8.10"
  },
  "orig_nbformat": 4,
  "vscode": {
   "interpreter": {
    "hash": "916dbcbb3f70747c44a77c7bcd40155683ae19c65e1c03b4aa3499c5328201f1"
   }
  }
 },
 "nbformat": 4,
 "nbformat_minor": 2
}
